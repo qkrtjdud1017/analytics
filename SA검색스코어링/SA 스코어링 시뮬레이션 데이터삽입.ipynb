{
 "cells": [
  {
   "cell_type": "markdown",
   "metadata": {},
   "source": [
    "# 1. DB 연결"
   ]
  },
  {
   "cell_type": "code",
   "execution_count": 3,
   "metadata": {},
   "outputs": [],
   "source": [
    "import pandas as pd\n",
    "from sqlalchemy import create_engine\n"
   ]
  },
  {
   "cell_type": "code",
   "execution_count": null,
   "metadata": {},
   "outputs": [],
   "source": [
    "\n",
    "q = '''\n",
    "select \n",
    "from user\n",
    "limit 10'''\n",
    "df = pd.read_sql(q,con=mysql)"
   ]
  },
  {
   "cell_type": "markdown",
   "metadata": {},
   "source": [
    "# 2. 서비스 데이터베이스에서 상품정보 수집"
   ]
  },
  {
   "cell_type": "code",
   "execution_count": 11,
   "metadata": {},
   "outputs": [
    {
     "name": "stderr",
     "output_type": "stream",
     "text": [
      "/Users/emilyPark/.pyenv/versions/3.7.5/envs/bun-analytics/lib/python3.7/site-packages/pymysql/cursors.py:170: Warning: (1292, \"Truncated incorrect DOUBLE value: 'ALL'\")\n",
      "  result = self._query(query)\n"
     ]
    }
   ],
   "source": [
    "query = f\"\"\"SELECT\n",
    "                    p.id\n",
    "                  , p.uid\n",
    "                  , p.status AS status\n",
    "                  , p.price\n",
    "                  , pd.description\n",
    "                  , p.flag_used AS used\n",
    "                  , p.flag_taekpo AS free_shipping\n",
    "                  , p.flag_exchg AS exchange\n",
    "                  , p.category_id\n",
    "                  , p.enc_location\n",
    "                  , p.enc_latitude\n",
    "                  , p.enc_longitude\n",
    "                  , p.name\n",
    "                  , p.create_date\n",
    "                  , p.m_time\n",
    "                  , p.s3_storage\n",
    "                  , p.keyword AS keywords\n",
    "                  , c.name AS category_name\n",
    "                  , IFNULL(pu.register_date, now()) AS update_time\n",
    "                  , ps.extended_spec\n",
    "                  , IFNULL(pe.interest, 0) AS view_count\n",
    "                  , IFNULL(pe.pfavcnt, 0) AS favorite_count\n",
    "                  , pe.comment_cnt AS comment_count\n",
    "                  , pe.is_adult AS adult\n",
    "                  , pe.ptranscnt AS contact_count\n",
    "                  , IF(cs.is_removed = 0, 1, 0) AS checkout\n",
    "                  , IFNULL(ub.bizlicense, 0) AS by_bizseller\n",
    "                  , p.modified_at\n",
    "                  , ps.updated AS modified_at_ps\n",
    "                  , cs.modified_at AS modified_at_cs\n",
    "                  , su.status AS super_up_status\n",
    "                  , IF(su.status=2 AND su.type = 1, (SELECT sul.enable FROM ad_super_up_lite_group sul WHERE sul.suid = su.suid), IF(su.status=2, 1, 0)) is_display_super_up\n",
    "                  , IFNULL(suspd.idx, 0)*IFNULL(sus.sus_id, 0)*IFNULL(suspd.on_off, 0) as is_super_up_shop\n",
    "                  , IFNULL(suspd.on_off, -1) as is_displayable_super_up_shop\n",
    "                  , IFNULL(es365.product_reported_count, 0) product_reported_count_365\n",
    "                  , IFNULL(es365.shop_reported_count, 0) shop_reported_count_365\n",
    "                  , IFNULL(es365.review_reported_count + es365.review_reply_reported_count, 0) review_reported_count_365\n",
    "                  , IFNULL(es365.comment_reported_count, 0) comment_reported_count_365\n",
    "                  , IFNULL(es365.group_post_reported_count, 0) group_post_reported_count_365\n",
    "                  , IFNULL(es90.product_reported_count, 0) product_reported_count_90\n",
    "                  , IFNULL(es90.shop_reported_count, 0) shop_reported_count_90\n",
    "                  , IFNULL(es90.review_reported_count + es90.review_reply_reported_count, 0) review_reported_count_90\n",
    "                  , IFNULL(es90.comment_reported_count, 0) comment_reported_count_90\n",
    "                  , IFNULL(es90.group_post_reported_count, 0) group_post_reported_count_90\n",
    "                  , IFNULL(es30.product_reported_count, 0) product_reported_count_30\n",
    "                  , IFNULL(es30.shop_reported_count, 0) shop_reported_count_30\n",
    "                  , IFNULL(es30.review_reported_count + es30.review_reply_reported_count, 0) review_reported_count_30\n",
    "                  , IFNULL(es30.comment_reported_count, 0) comment_reported_count_30\n",
    "                  , IFNULL(es30.group_post_reported_count, 0) group_post_reported_count_30\n",
    "                  , outlink.outlink_url\n",
    "                  , IFNULL(pc.contact_hope, 0) contact\n",
    "                  , IFNULL(pn.display_on_neighborhood, 0) as neighborhood\n",
    "FROM\n",
    "                    product_info p\n",
    "                    LEFT JOIN product_up pu ON p.id = pu.pid\n",
    "                    LEFT JOIN product_spec_json ps ON p.id = ps.pid\n",
    "                    LEFT JOIN product_description pd ON p.id = pd.pid\n",
    "                    LEFT JOIN product_ext pe ON p.id = pe.pid\n",
    "                    LEFT JOIN checkout_status cs ON p.id = cs.pid\n",
    "                    LEFT JOIN user_bizlicense ub ON p.uid = ub.uid\n",
    "                    LEFT JOIN product_outlink outlink ON p.id = outlink.pid\n",
    "                    LEFT JOIN product_contact_option pc ON p.id = pc.pid\n",
    "                    LEFT JOIN ad_super_up su ON p.id = su.pid AND su.status = 2 AND EXISTS (SELECT 1 FROM ad_super_up_point spu WHERE su.suid = spu.suid AND now() BETWEEN start_at AND end_at)\n",
    "                    LEFT JOIN ad_super_up_shop sus ON p.uid = sus.uid AND now() BETWEEN sus.start_at AND sus.end_at AND sus.status=2\n",
    "                    LEFT JOIN ad_super_up_shop_products suspd on p.id=suspd.pid and sus.sus_id=suspd.sus_id\n",
    "                    LEFT JOIN emergency_uniq_stats es30 ON p.uid = es30.uid AND es30.period = 30\n",
    "                    LEFT JOIN emergency_uniq_stats es90 ON p.uid = es90.uid AND es90.period = 90\n",
    "                    LEFT JOIN emergency_uniq_stats es365 ON p.uid = es365.uid AND es365.period = 365\n",
    "                    LEFT JOIN product_neighborhood pn ON p.id = pn.pid\n",
    "                    LEFT JOIN categories c ON c.category = p.category_id\n",
    "WHERE p.create_date BETWEEN '2020-05-28 00:00:00' AND '2020-05-31 23:59:59';\"\"\"\n",
    "\n",
    "df = pd.read_sql(query, con=db_slave)"
   ]
  },
  {
   "cell_type": "code",
   "execution_count": 12,
   "metadata": {},
   "outputs": [],
   "source": [
    "df.to_csv('SA_scoring_df.csv', index=False)"
   ]
  },
  {
   "cell_type": "code",
   "execution_count": 18,
   "metadata": {},
   "outputs": [],
   "source": [
    "product_template = {\n",
    "  \"category\": {\n",
    "    \"name\": \"남성의류\",\n",
    "    \"level1\": \"010\",\n",
    "    \"level2\": \"111\",\n",
    "    \"level3\": \"222\"\n",
    "  },\n",
    "  \"createdAt\": \"20200602162425\",\n",
    "  \"description\": \"테스트 물품\",\n",
    "  \"modifiedAt\": \"20200602162425\",\n",
    "  \"id\": 1232323,\n",
    "  \"keywords\": \"테스트 태그\",\n",
    "  \"location\": {\n",
    "    \"name\": \"경기도 의왕시 백운로46\"\n",
    "  },\n",
    "  \"m_time\": 323123213,\n",
    "  \"meta\": {\n",
    "    \"adult\": 1,\n",
    "    \"contact\": 0,\n",
    "    \"display\": \"neiborhood\",\n",
    "    \"exchange\": 1,\n",
    "    \"freeShipping\": 1,\n",
    "    \"used\": 1\n",
    "  },\n",
    "  \"metrics\": {\n",
    "    \"commentCount\": 10,\n",
    "    \"contactCount\": 20,\n",
    "    \"favoriteCount\": 30,\n",
    "    \"viewCount\": 40\n",
    "  },\n",
    "  \"name\": \"아이폰7\",\n",
    "  \"price\": 100000,\n",
    "  \"status\": 0,\n",
    "  \"updatedAt\": \"20200602162425\",\n",
    "  \"user\": {\n",
    "    \"uid\": 5397308\n",
    "  }\n",
    "}"
   ]
  },
  {
   "cell_type": "code",
   "execution_count": 19,
   "metadata": {},
   "outputs": [
    {
     "data": {
      "text/plain": [
       "Index(['id', 'uid', 'status', 'price', 'description', 'used', 'free_shipping',\n",
       "       'exchange', 'category_id', 'enc_location', 'enc_latitude',\n",
       "       'enc_longitude', 'name', 'create_date', 'm_time', 's3_storage',\n",
       "       'keywords', 'category_name', 'update_time', 'extended_spec',\n",
       "       'view_count', 'favorite_count', 'comment_count', 'adult',\n",
       "       'contact_count', 'checkout', 'by_bizseller', 'modified_at',\n",
       "       'modified_at_ps', 'modified_at_cs', 'super_up_status',\n",
       "       'is_display_super_up', 'is_super_up_shop',\n",
       "       'is_displayable_super_up_shop', 'product_reported_count_365',\n",
       "       'shop_reported_count_365', 'review_reported_count_365',\n",
       "       'comment_reported_count_365', 'group_post_reported_count_365',\n",
       "       'product_reported_count_90', 'shop_reported_count_90',\n",
       "       'review_reported_count_90', 'comment_reported_count_90',\n",
       "       'group_post_reported_count_90', 'product_reported_count_30',\n",
       "       'shop_reported_count_30', 'review_reported_count_30',\n",
       "       'comment_reported_count_30', 'group_post_reported_count_30',\n",
       "       'outlink_url', 'contact', 'neighborhood'],\n",
       "      dtype='object')"
      ]
     },
     "execution_count": 19,
     "metadata": {},
     "output_type": "execute_result"
    }
   ],
   "source": [
    "df.columns"
   ]
  },
  {
   "cell_type": "markdown",
   "metadata": {},
   "source": [
    "# 3. ES 벌크 데이터로 변환후 삽입"
   ]
  },
  {
   "cell_type": "code",
   "execution_count": 20,
   "metadata": {},
   "outputs": [],
   "source": [
    "from datetime import datetime\n",
    "from time import sleep\n",
    "import requests\n",
    "import json\n",
    "\n",
    "headers = {'Content-type': 'application/json', 'Accept': 'text/plain'}"
   ]
  },
  {
   "cell_type": "code",
   "execution_count": 21,
   "metadata": {},
   "outputs": [],
   "source": [
    "def make_header(index, _id):\n",
    "    return '{\"index\": {\"_index\": \"%s\", \"_id\": \"%s\"}}\\n' % (index, _id)"
   ]
  },
  {
   "cell_type": "code",
   "execution_count": 22,
   "metadata": {},
   "outputs": [],
   "source": [
    "es_bulk_data = str()\n",
    "index_name = \"product\"\n",
    "for idx, row in df.iterrows():\n",
    "    product_template['category']['name'] = row['category_name']\n",
    "    product_template['category']['level1'] = str(row['category_id'])[:3]\n",
    "    product_template['category']['level2'] = str(row['category_id'])[3:6]\n",
    "    product_template['category']['level3'] = str(row['category_id'])[-3:]\n",
    "    \n",
    "    product_template['createdAt'] = datetime.strftime(row['create_date'], '%Y%m%d%H%M%S')\n",
    "    product_template['description'] = \"\"\n",
    "    product_template['modifiedAt'] = datetime.strftime(row['modified_at'], '%Y%m%d%H%M%S')\n",
    "    product_template['id'] = row['id']\n",
    "    product_template['keywords'] = row['keywords']\n",
    "    \n",
    "    product_template['location']['name'] = \"경기도 의왕시 백운중앙로 46\"\n",
    "    \n",
    "    product_template['m_time'] = row['m_time']\n",
    "\n",
    "    product_template['meta']['adult'] = row['adult']\n",
    "    product_template['meta']['contact'] = row['contact']\n",
    "    product_template['meta']['display'] = \"None\"\n",
    "    product_template['meta']['exchange'] = row['exchange']\n",
    "    product_template['meta']['freeShipping'] = row['free_shipping']\n",
    "    product_template['meta']['used'] = row['used']\n",
    "    \n",
    "    product_template['metrics']['commentCount'] = row['comment_count']\n",
    "    product_template['metrics']['contactCount'] = row['contact_count']\n",
    "    product_template['metrics']['favoriteCount'] = row['favorite_count']\n",
    "    product_template['metrics']['viewCount'] = row['view_count']\n",
    "    \n",
    "    product_template['name'] = row['name']\n",
    "    product_template['price'] = row['price']\n",
    "    product_template['status'] = row['status']\n",
    "    product_template['updatedAt'] = datetime.strftime(row['update_time'], '%Y%m%d%H%M%S')\n",
    "    \n",
    "    product_template['user']['uid'] = row['uid']\n",
    "    \n",
    "    query_headers = make_header(index_name, row['id'])\n",
    "    es_bulk_data += query_headers + json.dumps(product_template) + \"\\n\"\n",
    "    \n",
    "    if idx % 1000 == 0:\n",
    "        requests.post(url=\"http://127.0.0.1:9200/product/_bulk\", \n",
    "                      data=es_bulk_data, \n",
    "                      headers=headers)\n",
    "        es_bulk_data = str()\n",
    "        sleep(10)"
   ]
  },
  {
   "cell_type": "code",
   "execution_count": null,
   "metadata": {},
   "outputs": [],
   "source": []
  }
 ],
 "metadata": {
  "kernelspec": {
   "display_name": "Python 3",
   "language": "python",
   "name": "python3"
  },
  "language_info": {
   "codemirror_mode": {
    "name": "ipython",
    "version": 3
   },
   "file_extension": ".py",
   "mimetype": "text/x-python",
   "name": "python",
   "nbconvert_exporter": "python",
   "pygments_lexer": "ipython3",
   "version": "3.7.5"
  }
 },
 "nbformat": 4,
 "nbformat_minor": 2
}