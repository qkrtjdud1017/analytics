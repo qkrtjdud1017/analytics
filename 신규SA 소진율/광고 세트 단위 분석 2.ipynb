{
 "cells": [
  {
   "cell_type": "code",
   "execution_count": 1,
   "metadata": {},
   "outputs": [],
   "source": [
    "import pandas as pd\n",
    "from sqlalchemy import create_engine\n",
    "from sqlalchemy.pool import NullPool\n",
    "import matplotlib as plt\n",
    "import matplotlib.pylab as plt\n",
    "import seaborn as sns\n",
    "from tqdm import tqdm\n",
    "from PIL import Image\n",
    "import requests\n",
    "from io import BytesIO\n",
    "\n"
   ]
  },
  {
   "cell_type": "code",
   "execution_count": 5,
   "metadata": {},
   "outputs": [],
   "source": [
    "q = \"\"\"\n",
    "SELECT to_date(a.created_at, 'YYYY-mm-dd') AS ad_set_create_date,\n",
    "       a.id AS ad_set_id,\n",
    "       count(DISTINCT b.pid) AS product_cnt\n",
    "FROM service1_quicket.ad_set a\n",
    "JOIN service1_quicket.ad_set_product b ON a.id = b.ad_set_id\n",
    "WHERE a.status NOT IN (2, 6)\n",
    "  AND a.created_at BETWEEN '2021-02-01 00:00:00' AND '2021-02-07 23:59:59'\n",
    "GROUP BY 1, 2\"\"\"\n",
    "ad = pd.read_sql(q, con=bun_dw)"
   ]
  },
  {
   "cell_type": "code",
   "execution_count": 13,
   "metadata": {},
   "outputs": [],
   "source": [
    "one = ad[ad['product_cnt'] == 1].groupby(['ad_set_create_date'], as_index=False)['ad_set_id'].count()\n",
    "n = ad[ad['product_cnt'] > 1].groupby(['ad_set_create_date'], as_index=False)['ad_set_id'].count()"
   ]
  },
  {
   "cell_type": "code",
   "execution_count": 14,
   "metadata": {},
   "outputs": [],
   "source": [
    "one.columns = ['ad_set_create_date', 'one_ad_set_cnt']\n",
    "n.columns = ['ad_set_create_date', 'n_ad_set_cnt']"
   ]
  },
  {
   "cell_type": "code",
   "execution_count": 19,
   "metadata": {},
   "outputs": [],
   "source": [
    "post = pd.merge(one, n, on = ['ad_set_create_date'])"
   ]
  },
  {
   "cell_type": "code",
   "execution_count": 39,
   "metadata": {},
   "outputs": [],
   "source": [
    "q = \"\"\"\n",
    "SELECT to_date(a.created_at, 'YYYY-mm-dd') AS ad_set_create_date,\n",
    "       a.id AS ad_set_id,\n",
    "       count(DISTINCT b.pid) AS product_cnt\n",
    "FROM service1_quicket.ad_set a\n",
    "JOIN service1_quicket.ad_set_product b ON a.id = b.ad_set_id\n",
    "WHERE a.status NOT IN (2, 6)\n",
    "  AND a.created_at BETWEEN '2021-01-25 00:00:00' AND '2021-02-07 23:59:59'\n",
    "GROUP BY 1, 2\"\"\"\n",
    "pre_ad = pd.read_sql(q, con=bun_dw)"
   ]
  },
  {
   "cell_type": "code",
   "execution_count": 40,
   "metadata": {},
   "outputs": [
    {
     "data": {
      "text/plain": [
       "array(['2021-01-25', '2021-01-26', '2021-01-27', '2021-01-28',\n",
       "       '2021-01-29', '2021-01-30', '2021-01-31', '2021-02-01',\n",
       "       '2021-02-02', '2021-02-03', '2021-02-04', '2021-02-05',\n",
       "       '2021-02-06', '2021-02-07'], dtype=object)"
      ]
     },
     "execution_count": 40,
     "metadata": {},
     "output_type": "execute_result"
    }
   ],
   "source": [
    "pre_ad['ad_set_create_date'] = pre_ad['ad_set_create_date'].astype(str)\n",
    "pre_ad['ad_set_create_date'].unique()"
   ]
  },
  {
   "cell_type": "code",
   "execution_count": 41,
   "metadata": {},
   "outputs": [],
   "source": [
    "pre_ad[pre_ad['ad_set_create_date'] == '2021-02-02'].groupby('product_cnt', as_index=False)['ad_set_id'].count().to_csv('ad_product_cnt0202.csv', index=False)\n"
   ]
  },
  {
   "cell_type": "code",
   "execution_count": 17,
   "metadata": {},
   "outputs": [],
   "source": [
    "pre_one = pre_ad[pre_ad['product_cnt'] == 1].groupby(['ad_set_create_date'], as_index=False)['ad_set_id'].count()\n",
    "pre_n = pre_ad[pre_ad['product_cnt'] > 1].groupby(['ad_set_create_date'], as_index=False)['ad_set_id'].count()"
   ]
  },
  {
   "cell_type": "code",
   "execution_count": 18,
   "metadata": {},
   "outputs": [],
   "source": [
    "pre_one.columns = ['ad_set_create_date', 'one_ad_set_cnt']\n",
    "pre_n.columns = ['ad_set_create_date', 'n_ad_set_cnt']"
   ]
  },
  {
   "cell_type": "code",
   "execution_count": 20,
   "metadata": {},
   "outputs": [],
   "source": [
    "pre = pd.merge(pre_one, pre_n, on = ['ad_set_create_date'])"
   ]
  },
  {
   "cell_type": "code",
   "execution_count": 31,
   "metadata": {},
   "outputs": [],
   "source": [
    "pre_ad.groupby('product_cnt', as_index=False)['ad_set_id'].count().to_csv('ad_product_cnt.csv', index=False)"
   ]
  },
  {
   "cell_type": "code",
   "execution_count": 26,
   "metadata": {},
   "outputs": [],
   "source": [
    "ad_stat = pd.concat([pre, post])\n",
    "ad_stat['prop'] = ad_stat['one_ad_set_cnt']/ad_stat['n_ad_set_cnt']\n",
    "ad_stat.to_csv('ad_stat.csv', index=False)"
   ]
  },
  {
   "cell_type": "code",
   "execution_count": 27,
   "metadata": {},
   "outputs": [
    {
     "data": {
      "text/plain": [
       "3.7912121196135566"
      ]
     },
     "execution_count": 27,
     "metadata": {},
     "output_type": "execute_result"
    }
   ],
   "source": [
    "ad_stat['prop'].mean()"
   ]
  },
  {
   "cell_type": "code",
   "execution_count": 38,
   "metadata": {},
   "outputs": [
    {
     "data": {
      "text/html": [
       "<div>\n",
       "<style scoped>\n",
       "    .dataframe tbody tr th:only-of-type {\n",
       "        vertical-align: middle;\n",
       "    }\n",
       "\n",
       "    .dataframe tbody tr th {\n",
       "        vertical-align: top;\n",
       "    }\n",
       "\n",
       "    .dataframe thead th {\n",
       "        text-align: right;\n",
       "    }\n",
       "</style>\n",
       "<table border=\"1\" class=\"dataframe\">\n",
       "  <thead>\n",
       "    <tr style=\"text-align: right;\">\n",
       "      <th></th>\n",
       "      <th>ad_set_create_date</th>\n",
       "      <th>one_ad_set_cnt</th>\n",
       "      <th>n_ad_set_cnt</th>\n",
       "      <th>prop</th>\n",
       "    </tr>\n",
       "  </thead>\n",
       "  <tbody>\n",
       "    <tr>\n",
       "      <th>0</th>\n",
       "      <td>2021-01-25</td>\n",
       "      <td>490</td>\n",
       "      <td>145</td>\n",
       "      <td>3.379310</td>\n",
       "    </tr>\n",
       "    <tr>\n",
       "      <th>1</th>\n",
       "      <td>2021-01-26</td>\n",
       "      <td>470</td>\n",
       "      <td>118</td>\n",
       "      <td>3.983051</td>\n",
       "    </tr>\n",
       "    <tr>\n",
       "      <th>2</th>\n",
       "      <td>2021-01-27</td>\n",
       "      <td>369</td>\n",
       "      <td>116</td>\n",
       "      <td>3.181034</td>\n",
       "    </tr>\n",
       "    <tr>\n",
       "      <th>3</th>\n",
       "      <td>2021-01-28</td>\n",
       "      <td>457</td>\n",
       "      <td>99</td>\n",
       "      <td>4.616162</td>\n",
       "    </tr>\n",
       "    <tr>\n",
       "      <th>4</th>\n",
       "      <td>2021-01-29</td>\n",
       "      <td>436</td>\n",
       "      <td>122</td>\n",
       "      <td>3.573770</td>\n",
       "    </tr>\n",
       "    <tr>\n",
       "      <th>5</th>\n",
       "      <td>2021-01-30</td>\n",
       "      <td>353</td>\n",
       "      <td>103</td>\n",
       "      <td>3.427184</td>\n",
       "    </tr>\n",
       "    <tr>\n",
       "      <th>6</th>\n",
       "      <td>2021-01-31</td>\n",
       "      <td>362</td>\n",
       "      <td>110</td>\n",
       "      <td>3.290909</td>\n",
       "    </tr>\n",
       "    <tr>\n",
       "      <th>0</th>\n",
       "      <td>2021-02-01</td>\n",
       "      <td>774</td>\n",
       "      <td>235</td>\n",
       "      <td>3.293617</td>\n",
       "    </tr>\n",
       "    <tr>\n",
       "      <th>1</th>\n",
       "      <td>2021-02-02</td>\n",
       "      <td>494</td>\n",
       "      <td>132</td>\n",
       "      <td>3.742424</td>\n",
       "    </tr>\n",
       "    <tr>\n",
       "      <th>2</th>\n",
       "      <td>2021-02-03</td>\n",
       "      <td>441</td>\n",
       "      <td>113</td>\n",
       "      <td>3.902655</td>\n",
       "    </tr>\n",
       "    <tr>\n",
       "      <th>3</th>\n",
       "      <td>2021-02-04</td>\n",
       "      <td>461</td>\n",
       "      <td>144</td>\n",
       "      <td>3.201389</td>\n",
       "    </tr>\n",
       "    <tr>\n",
       "      <th>4</th>\n",
       "      <td>2021-02-05</td>\n",
       "      <td>516</td>\n",
       "      <td>103</td>\n",
       "      <td>5.009709</td>\n",
       "    </tr>\n",
       "    <tr>\n",
       "      <th>5</th>\n",
       "      <td>2021-02-06</td>\n",
       "      <td>377</td>\n",
       "      <td>94</td>\n",
       "      <td>4.010638</td>\n",
       "    </tr>\n",
       "    <tr>\n",
       "      <th>6</th>\n",
       "      <td>2021-02-07</td>\n",
       "      <td>384</td>\n",
       "      <td>86</td>\n",
       "      <td>4.465116</td>\n",
       "    </tr>\n",
       "  </tbody>\n",
       "</table>\n",
       "</div>"
      ],
      "text/plain": [
       "  ad_set_create_date  one_ad_set_cnt  n_ad_set_cnt      prop\n",
       "0         2021-01-25             490           145  3.379310\n",
       "1         2021-01-26             470           118  3.983051\n",
       "2         2021-01-27             369           116  3.181034\n",
       "3         2021-01-28             457            99  4.616162\n",
       "4         2021-01-29             436           122  3.573770\n",
       "5         2021-01-30             353           103  3.427184\n",
       "6         2021-01-31             362           110  3.290909\n",
       "0         2021-02-01             774           235  3.293617\n",
       "1         2021-02-02             494           132  3.742424\n",
       "2         2021-02-03             441           113  3.902655\n",
       "3         2021-02-04             461           144  3.201389\n",
       "4         2021-02-05             516           103  5.009709\n",
       "5         2021-02-06             377            94  4.010638\n",
       "6         2021-02-07             384            86  4.465116"
      ]
     },
     "execution_count": 38,
     "metadata": {},
     "output_type": "execute_result"
    }
   ],
   "source": [
    "ad_stat"
   ]
  },
  {
   "cell_type": "code",
   "execution_count": null,
   "metadata": {},
   "outputs": [],
   "source": []
  }
 ],
 "metadata": {
  "kernelspec": {
   "display_name": "Python 3",
   "language": "python",
   "name": "python3"
  },
  "language_info": {
   "codemirror_mode": {
    "name": "ipython",
    "version": 3
   },
   "file_extension": ".py",
   "mimetype": "text/x-python",
   "name": "python",
   "nbconvert_exporter": "python",
   "pygments_lexer": "ipython3",
   "version": "3.7.5"
  }
 },
 "nbformat": 4,
 "nbformat_minor": 4
}