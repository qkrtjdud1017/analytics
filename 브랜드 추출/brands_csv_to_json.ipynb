{
 "cells": [
  {
   "cell_type": "code",
   "execution_count": 1,
   "metadata": {},
   "outputs": [],
   "source": [
    "import pandas as pd\n",
    "import json\n",
    "import math"
   ]
  },
  {
   "cell_type": "code",
   "execution_count": 2,
   "metadata": {},
   "outputs": [],
   "source": [
    "brands = pd.read_csv('./data/final_brand.csv')"
   ]
  },
  {
   "cell_type": "code",
   "execution_count": 3,
   "metadata": {},
   "outputs": [],
   "source": [
    "brands.columns = ['id', 'name_kor', 'name_eng', 'image_url', 'is_active', 'used_for_rec', 'used_for_follow', 'synonym', 'model', 'category']"
   ]
  },
  {
   "cell_type": "code",
   "execution_count": 4,
   "metadata": {},
   "outputs": [
    {
     "data": {
      "text/plain": [
       "(164, 10)"
      ]
     },
     "execution_count": 4,
     "metadata": {},
     "output_type": "execute_result"
    }
   ],
   "source": [
    "brands.shape"
   ]
  },
  {
   "cell_type": "code",
   "execution_count": 5,
   "metadata": {},
   "outputs": [
    {
     "data": {
      "text/html": [
       "<div>\n",
       "<style scoped>\n",
       "    .dataframe tbody tr th:only-of-type {\n",
       "        vertical-align: middle;\n",
       "    }\n",
       "\n",
       "    .dataframe tbody tr th {\n",
       "        vertical-align: top;\n",
       "    }\n",
       "\n",
       "    .dataframe thead th {\n",
       "        text-align: right;\n",
       "    }\n",
       "</style>\n",
       "<table border=\"1\" class=\"dataframe\">\n",
       "  <thead>\n",
       "    <tr style=\"text-align: right;\">\n",
       "      <th></th>\n",
       "      <th>id</th>\n",
       "      <th>name_kor</th>\n",
       "      <th>name_eng</th>\n",
       "      <th>image_url</th>\n",
       "      <th>is_active</th>\n",
       "      <th>used_for_rec</th>\n",
       "      <th>used_for_follow</th>\n",
       "      <th>synonym</th>\n",
       "      <th>model</th>\n",
       "      <th>category</th>\n",
       "    </tr>\n",
       "  </thead>\n",
       "  <tbody>\n",
       "    <tr>\n",
       "      <th>0</th>\n",
       "      <td>1</td>\n",
       "      <td>나이키</td>\n",
       "      <td>Nike</td>\n",
       "      <td>NaN</td>\n",
       "      <td>1</td>\n",
       "      <td>1</td>\n",
       "      <td>1</td>\n",
       "      <td>NaN</td>\n",
       "      <td>NaN</td>\n",
       "      <td>NaN</td>\n",
       "    </tr>\n",
       "    <tr>\n",
       "      <th>1</th>\n",
       "      <td>2</td>\n",
       "      <td>스톤아일랜드</td>\n",
       "      <td>Stone Island</td>\n",
       "      <td>NaN</td>\n",
       "      <td>1</td>\n",
       "      <td>1</td>\n",
       "      <td>1</td>\n",
       "      <td>스톤 아일랜드</td>\n",
       "      <td>NaN</td>\n",
       "      <td>NaN</td>\n",
       "    </tr>\n",
       "    <tr>\n",
       "      <th>2</th>\n",
       "      <td>3</td>\n",
       "      <td>뉴발란스</td>\n",
       "      <td>NEW BALANCE</td>\n",
       "      <td>NaN</td>\n",
       "      <td>1</td>\n",
       "      <td>1</td>\n",
       "      <td>1</td>\n",
       "      <td>뉴발</td>\n",
       "      <td>NaN</td>\n",
       "      <td>NaN</td>\n",
       "    </tr>\n",
       "    <tr>\n",
       "      <th>3</th>\n",
       "      <td>4</td>\n",
       "      <td>아디다스</td>\n",
       "      <td>Adidas</td>\n",
       "      <td>NaN</td>\n",
       "      <td>1</td>\n",
       "      <td>1</td>\n",
       "      <td>1</td>\n",
       "      <td>NaN</td>\n",
       "      <td>이지부스트</td>\n",
       "      <td>NaN</td>\n",
       "    </tr>\n",
       "    <tr>\n",
       "      <th>4</th>\n",
       "      <td>5</td>\n",
       "      <td>노스페이스</td>\n",
       "      <td>THE NORTH FACE</td>\n",
       "      <td>NaN</td>\n",
       "      <td>1</td>\n",
       "      <td>1</td>\n",
       "      <td>1</td>\n",
       "      <td>더노스페이스,노스 페이스, 더 노스페이스, 더 노스 페이스, 노페</td>\n",
       "      <td>NaN</td>\n",
       "      <td>NaN</td>\n",
       "    </tr>\n",
       "  </tbody>\n",
       "</table>\n",
       "</div>"
      ],
      "text/plain": [
       "   id name_kor        name_eng  image_url  is_active  used_for_rec  \\\n",
       "0   1      나이키            Nike        NaN          1             1   \n",
       "1   2   스톤아일랜드    Stone Island        NaN          1             1   \n",
       "2   3     뉴발란스     NEW BALANCE        NaN          1             1   \n",
       "3   4     아디다스          Adidas        NaN          1             1   \n",
       "4   5    노스페이스  THE NORTH FACE        NaN          1             1   \n",
       "\n",
       "   used_for_follow                               synonym  model  category  \n",
       "0                1                                   NaN    NaN       NaN  \n",
       "1                1                               스톤 아일랜드    NaN       NaN  \n",
       "2                1                                    뉴발    NaN       NaN  \n",
       "3                1                                   NaN  이지부스트       NaN  \n",
       "4                1  더노스페이스,노스 페이스, 더 노스페이스, 더 노스 페이스, 노페    NaN       NaN  "
      ]
     },
     "execution_count": 5,
     "metadata": {},
     "output_type": "execute_result"
    }
   ],
   "source": [
    "brands.head()"
   ]
  },
  {
   "cell_type": "code",
   "execution_count": 8,
   "metadata": {},
   "outputs": [],
   "source": [
    "brands.to_csv('final_brand.csv', index=False)"
   ]
  },
  {
   "cell_type": "code",
   "execution_count": null,
   "metadata": {},
   "outputs": [],
   "source": []
  },
  {
   "cell_type": "code",
   "execution_count": 41,
   "metadata": {},
   "outputs": [],
   "source": [
    "with open('brand.ndjson', 'w', encoding='utf8') as json_file:\n",
    "    for idx, row in brands.iterrows():\n",
    "        b = {\"brand_id\": row['id'], \"synonyms\": [i.strip() for i in str(row['synonym']).split(',') if i != 'nan'], \"models\": [i.strip() for i in str(row['model']).split(',') if i != 'nan'], \"categories\": [str(int(float(i))).strip() for i in str(row['category']).split(',') if i != 'nan']}\n",
    "        json_file.write(str(json.dumps(b, ensure_ascii=False)) + '\\n')"
   ]
  },
  {
   "cell_type": "code",
   "execution_count": 6,
   "metadata": {},
   "outputs": [],
   "source": [
    "with open('brand164.ndjson', 'w', encoding='utf8') as json_file:\n",
    "    for idx, row in brands.iterrows():\n",
    "        b = {\"brand_id\": row['id'], \"name_kor\": row['name_kor'], \"name_eng\": row['name_eng'], \"synonyms\": [i.strip() for i in str(row['synonym']).split(',') if i != 'nan'], \"models\": [i.strip() for i in str(row['model']).split(',') if i != 'nan'], \"categories\": [str(int(float(i))).strip() for i in str(row['category']).split(',') if i != 'nan']}\n",
    "        json_file.write(str(json.dumps(b, ensure_ascii=False)) + '\\n')\n"
   ]
  },
  {
   "cell_type": "code",
   "execution_count": null,
   "metadata": {},
   "outputs": [],
   "source": []
  }
 ],
 "metadata": {
  "kernelspec": {
   "display_name": "Python 3",
   "language": "python",
   "name": "python3"
  },
  "language_info": {
   "codemirror_mode": {
    "name": "ipython",
    "version": 3
   },
   "file_extension": ".py",
   "mimetype": "text/x-python",
   "name": "python",
   "nbconvert_exporter": "python",
   "pygments_lexer": "ipython3",
   "version": "3.7.5"
  }
 },
 "nbformat": 4,
 "nbformat_minor": 4
}
