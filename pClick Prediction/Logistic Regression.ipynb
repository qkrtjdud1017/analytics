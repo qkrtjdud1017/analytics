{
 "cells": [
  {
   "cell_type": "code",
   "execution_count": 61,
   "metadata": {},
   "outputs": [],
   "source": [
    "import pandas as pd\n",
    "from sqlalchemy import create_engine\n",
    "from sqlalchemy.pool import NullPool\n",
    "import matplotlib as plt\n",
    "import matplotlib.pylab as plt\n",
    "import seaborn as sns\n",
    "\n",
    "from sklearn import preprocessing\n",
    "from sklearn.model_selection import train_test_split\n",
    "\n",
    "from sklearn.linear_model import LogisticRegression\n",
    "from sklearn.linear_model import LinearRegression\n",
    "\n",
    "from sklearn.ensemble import RandomForestClassifier\n",
    "from xgboost.sklearn import XGBClassifier\n",
    "from sklearn import model_selection\n",
    "from sklearn.metrics import f1_score, recall_score, precision_score, accuracy_score, roc_auc_score, log_loss, brier_score_loss\n"
   ]
  },
  {
   "cell_type": "code",
   "execution_count": 2,
   "metadata": {},
   "outputs": [],
   "source": [
    "# 2020년 8월 20일 하루 데이터\n",
    "df = pd.read_csv('oneday_df.csv')"
   ]
  },
  {
   "cell_type": "code",
   "execution_count": 3,
   "metadata": {},
   "outputs": [
    {
     "data": {
      "text/plain": [
       "(3077366, 26)"
      ]
     },
     "execution_count": 3,
     "metadata": {},
     "output_type": "execute_result"
    }
   ],
   "source": [
    "df.shape"
   ]
  },
  {
   "cell_type": "code",
   "execution_count": 4,
   "metadata": {},
   "outputs": [
    {
     "data": {
      "text/plain": [
       "Index(['label', 'day', 'hour', 'imp_content_id', 'imp_content_position',\n",
       "       'imp_page_id', 'imp_ref_page_id', 'imp_ref_term', 'imp_ref_source',\n",
       "       'imp_user_id', 'imp_content_owner', 'user_sex', 'user_age',\n",
       "       'user_following_cnt', 'user_bunpay_count', 'owner_grade',\n",
       "       'owner_item_count', 'owner_interest', 'owner_follower_cnt',\n",
       "       'owner_bunpay_count', 'content_price', 'content_category_id',\n",
       "       'content_emergency_cnt', 'content_comment_cnt', 'content_interest',\n",
       "       'content_pfavcnt'],\n",
       "      dtype='object')"
      ]
     },
     "execution_count": 4,
     "metadata": {},
     "output_type": "execute_result"
    }
   ],
   "source": [
    "df.columns"
   ]
  },
  {
   "cell_type": "code",
   "execution_count": 9,
   "metadata": {},
   "outputs": [
    {
     "name": "stdout",
     "output_type": "stream",
     "text": [
      "percentage of label 1 in total data: 3.14 %\n"
     ]
    }
   ],
   "source": [
    "print('percentage of label 1 in total data:', round(df[df['label'] == 1].shape[0]/df.shape[0]*100, 2), '%')\n",
    "# print('percentage of label 1 in train set:', )\n",
    "# print('percentage of label 1 in test set:', )"
   ]
  },
  {
   "cell_type": "code",
   "execution_count": 10,
   "metadata": {},
   "outputs": [],
   "source": [
    "sparse = ['hour', 'imp_content_position', 'imp_page_id', 'imp_ref_page_id', \n",
    "          'imp_ref_source', 'user_sex', 'user_age', 'content_category_id']\n",
    "dense = ['user_following_cnt', 'user_bunpay_count', 'owner_grade', 'owner_item_count',\n",
    "         'owner_interest', 'owner_follower_cnt', 'owner_bunpay_count', 'content_price',\n",
    "        'content_emergency_cnt', 'content_comment_cnt', 'content_interest', 'content_pfavcnt']\n",
    "features = sparse + dense"
   ]
  },
  {
   "cell_type": "code",
   "execution_count": 13,
   "metadata": {},
   "outputs": [
    {
     "name": "stderr",
     "output_type": "stream",
     "text": [
      "/Users/emilyPark/.pyenv/versions/bun-analytics/lib/python3.7/site-packages/ipykernel_launcher.py:3: SettingWithCopyWarning: \n",
      "A value is trying to be set on a copy of a slice from a DataFrame.\n",
      "Try using .loc[row_indexer,col_indexer] = value instead\n",
      "\n",
      "See the caveats in the documentation: http://pandas.pydata.org/pandas-docs/stable/indexing.html#indexing-view-versus-copy\n",
      "  This is separate from the ipykernel package so we can avoid doing imports until\n",
      "/Users/emilyPark/.pyenv/versions/bun-analytics/lib/python3.7/site-packages/ipykernel_launcher.py:4: SettingWithCopyWarning: \n",
      "A value is trying to be set on a copy of a slice from a DataFrame.\n",
      "Try using .loc[row_indexer,col_indexer] = value instead\n",
      "\n",
      "See the caveats in the documentation: http://pandas.pydata.org/pandas-docs/stable/indexing.html#indexing-view-versus-copy\n",
      "  after removing the cwd from sys.path.\n",
      "/Users/emilyPark/.pyenv/versions/bun-analytics/lib/python3.7/site-packages/ipykernel_launcher.py:6: SettingWithCopyWarning: \n",
      "A value is trying to be set on a copy of a slice from a DataFrame.\n",
      "Try using .loc[row_indexer,col_indexer] = value instead\n",
      "\n",
      "See the caveats in the documentation: http://pandas.pydata.org/pandas-docs/stable/indexing.html#indexing-view-versus-copy\n",
      "  \n"
     ]
    }
   ],
   "source": [
    "data = df[features + ['label']]\n",
    "for s in sparse:\n",
    "    data[s] = data[s].fillna('-1')\n",
    "    data[s] = preprocessing.LabelEncoder().fit_transform(data[s])\n",
    "for d in dense:\n",
    "    data[d] = data[d].fillna(0)"
   ]
  },
  {
   "cell_type": "code",
   "execution_count": 14,
   "metadata": {},
   "outputs": [
    {
     "name": "stdout",
     "output_type": "stream",
     "text": [
      "total data size: 3077366\n",
      "size of data with label 1: 96594\n",
      "size of data with label 0: 2980772\n"
     ]
    }
   ],
   "source": [
    "print('total data size:', len(data))\n",
    "print('size of data with label 1:', len(data[data['label'] == 1]))\n",
    "print('size of data with label 0:', len(data[data['label'] == 0]))"
   ]
  },
  {
   "cell_type": "code",
   "execution_count": 26,
   "metadata": {},
   "outputs": [],
   "source": [
    "click = data[data['label'] == 1]\n",
    "non_click = data[data['label'] == 0]"
   ]
  },
  {
   "cell_type": "code",
   "execution_count": 58,
   "metadata": {},
   "outputs": [],
   "source": [
    "norm_click = norm_data[norm_data['label'] == 1]\n",
    "norm_non_click = norm_data[norm_data['label'] == 0]"
   ]
  },
  {
   "cell_type": "markdown",
   "metadata": {},
   "source": [
    "### label 1 : label 0 = 1 : 1 로 샘플링"
   ]
  },
  {
   "cell_type": "markdown",
   "metadata": {},
   "source": [
    "original data"
   ]
  },
  {
   "cell_type": "code",
   "execution_count": 27,
   "metadata": {},
   "outputs": [
    {
     "name": "stdout",
     "output_type": "stream",
     "text": [
      "proportion of label 1 in train set: 0.5\n",
      "proportion of label 0 in test set: 0.5\n"
     ]
    }
   ],
   "source": [
    "train = pd.concat([click.sample(n=76800), non_click.sample(n=76800)])\n",
    "test = pd.concat([click.sample(n=19200), non_click.sample(n=19200)])\n",
    "x_train = train.iloc[:, :-1]\n",
    "x_test = test.iloc[:, :-1]\n",
    "y_train = train.iloc[:, -1]\n",
    "y_test = test.iloc[:, -1]\n",
    "\n",
    "print('proportion of label 1 in train set:', len([i for i in y_train.tolist() if i == 1])/len(y_train))\n",
    "print('proportion of label 0 in test set:', len([i for i in y_test.tolist() if i == 1])/len(y_test))"
   ]
  },
  {
   "cell_type": "code",
   "execution_count": 28,
   "metadata": {},
   "outputs": [
    {
     "name": "stdout",
     "output_type": "stream",
     "text": [
      "label 1 proportion of prediction: 0.5058072916666667\n",
      "log loss: 14.077414993790377\n",
      "log loss between label and click probability: 0.6802879074783329\n",
      "accuracy: 0.592421875\n"
     ]
    }
   ],
   "source": [
    "lr = LogisticRegression(class_weight=None, n_jobs=-1, random_state=42)\n",
    "lr.fit(x_train, y_train)\n",
    "pred = lr.predict(x_test)\n",
    "proba = lr.predict_proba(x_test)\n",
    "click_proba = []\n",
    "for i in proba:\n",
    "    click_proba.append(i[1])\n",
    "print('label 1 proportion of prediction:', len([i for i in pred if i == 1])/len(pred))\n",
    "print('log loss:', log_loss(y_test.astype(int), pred.astype(int)))\n",
    "print('log loss between label and click probability:', log_loss(y_test, click_proba))\n",
    "print('accuracy:', accuracy_score(y_test.astype(int), pred.astype(int)))"
   ]
  },
  {
   "cell_type": "markdown",
   "metadata": {},
   "source": [
    "normalized data"
   ]
  },
  {
   "cell_type": "code",
   "execution_count": 59,
   "metadata": {},
   "outputs": [
    {
     "name": "stdout",
     "output_type": "stream",
     "text": [
      "proportion of label 1 in train set: 0.5\n",
      "proportion of label 0 in test set: 0.5\n"
     ]
    }
   ],
   "source": [
    "train = pd.concat([norm_click.sample(n=76800), norm_non_click.sample(n=76800)])\n",
    "test = pd.concat([norm_click.sample(n=19200), norm_non_click.sample(n=19200)])\n",
    "x_train = train.iloc[:, :-1]\n",
    "x_test = test.iloc[:, :-1]\n",
    "y_train = train.iloc[:, -1]\n",
    "y_test = test.iloc[:, -1]\n",
    "\n",
    "print('proportion of label 1 in train set:', len([i for i in y_train.tolist() if i == 1])/len(y_train))\n",
    "print('proportion of label 0 in test set:', len([i for i in y_test.tolist() if i == 1])/len(y_test))"
   ]
  },
  {
   "cell_type": "code",
   "execution_count": 60,
   "metadata": {},
   "outputs": [
    {
     "name": "stdout",
     "output_type": "stream",
     "text": [
      "label 1 proportion of prediction: 0.5646354166666666\n",
      "log loss: 14.689969216007997\n",
      "log loss between label and click probability: 0.677226462114652\n",
      "accuracy: 0.5746875\n"
     ]
    }
   ],
   "source": [
    "lr = LogisticRegression(class_weight=None, n_jobs=-1, random_state=42)\n",
    "lr.fit(x_train, y_train)\n",
    "pred = lr.predict(x_test)\n",
    "proba = lr.predict_proba(x_test)\n",
    "click_proba = []\n",
    "for i in proba:\n",
    "    click_proba.append(i[1])\n",
    "print('label 1 proportion of prediction:', len([i for i in pred if i == 1])/len(pred))\n",
    "print('log loss:', log_loss(y_test.astype(int), pred.astype(int)))\n",
    "print('log loss between label and click probability:', log_loss(y_test, click_proba))\n",
    "print('accuracy:', accuracy_score(y_test.astype(int), pred.astype(int)))"
   ]
  },
  {
   "cell_type": "markdown",
   "metadata": {},
   "source": [
    "### label 1 : label 0 = 1 : 2 로 샘플링"
   ]
  },
  {
   "cell_type": "code",
   "execution_count": 32,
   "metadata": {},
   "outputs": [
    {
     "name": "stdout",
     "output_type": "stream",
     "text": [
      "proportion of label 1 in train set: 0.3333333333333333\n",
      "proportion of label 0 in test set: 0.3333333333333333\n"
     ]
    }
   ],
   "source": [
    "train = pd.concat([click.sample(n=76800), non_click.sample(n=153600)])\n",
    "test = pd.concat([click.sample(n=19200), non_click.sample(n=38400)])\n",
    "x_train = train.iloc[:, :-1]\n",
    "x_test = test.iloc[:, :-1]\n",
    "y_train = train.iloc[:, -1]\n",
    "y_test = test.iloc[:, -1]\n",
    "\n",
    "print('proportion of label 1 in train set:', len([i for i in y_train.tolist() if i == 1])/len(y_train))\n",
    "print('proportion of label 0 in test set:', len([i for i in y_test.tolist() if i == 1])/len(y_test))"
   ]
  },
  {
   "cell_type": "code",
   "execution_count": 33,
   "metadata": {},
   "outputs": [
    {
     "name": "stdout",
     "output_type": "stream",
     "text": [
      "label 1 proportion of prediction: 0.020885416666666667\n",
      "log loss: 11.596283563039117\n",
      "log loss between label and click probability: 0.6413575179559375\n",
      "accuracy: 0.6642534722222222\n"
     ]
    }
   ],
   "source": [
    "lr = LogisticRegression(class_weight=None, n_jobs=-1, random_state=42)\n",
    "lr.fit(x_train, y_train)\n",
    "pred = lr.predict(x_test)\n",
    "proba = lr.predict_proba(x_test)\n",
    "click_proba = []\n",
    "for i in proba:\n",
    "    click_proba.append(i[1])\n",
    "print('label 1 proportion of prediction:', len([i for i in pred if i == 1])/len(pred))\n",
    "print('log loss:', log_loss(y_test.astype(int), pred.astype(int)))\n",
    "print('log loss between label and click probability:', log_loss(y_test, click_proba))\n",
    "print('accuracy:', accuracy_score(y_test.astype(int), pred.astype(int)))"
   ]
  },
  {
   "cell_type": "code",
   "execution_count": null,
   "metadata": {},
   "outputs": [],
   "source": []
  },
  {
   "cell_type": "markdown",
   "metadata": {},
   "source": [
    "### label 1 : label 0 = 1 : 4 로 샘플링"
   ]
  },
  {
   "cell_type": "code",
   "execution_count": 34,
   "metadata": {},
   "outputs": [
    {
     "name": "stdout",
     "output_type": "stream",
     "text": [
      "proportion of label 1 in train set: 0.2\n",
      "proportion of label 0 in test set: 0.2\n"
     ]
    }
   ],
   "source": [
    "train = pd.concat([click.sample(n=76800), non_click.sample(n=307200)])\n",
    "test = pd.concat([click.sample(n=19200), non_click.sample(n=76800)])\n",
    "x_train = train.iloc[:, :-1]\n",
    "x_test = test.iloc[:, :-1]\n",
    "y_train = train.iloc[:, -1]\n",
    "y_test = test.iloc[:, -1]\n",
    "\n",
    "print('proportion of label 1 in train set:', len([i for i in y_train.tolist() if i == 1])/len(y_train))\n",
    "print('proportion of label 0 in test set:', len([i for i in y_test.tolist() if i == 1])/len(y_test))"
   ]
  },
  {
   "cell_type": "code",
   "execution_count": 35,
   "metadata": {},
   "outputs": [
    {
     "name": "stdout",
     "output_type": "stream",
     "text": [
      "label 1 proportion of prediction: 0.00109375\n",
      "log loss: 6.925385087444144\n",
      "log loss between label and click probability: 0.5386990550663094\n",
      "accuracy: 0.7994895833333333\n"
     ]
    }
   ],
   "source": [
    "lr = LogisticRegression(class_weight=None, n_jobs=-1, random_state=42)\n",
    "lr.fit(x_train, y_train)\n",
    "pred = lr.predict(x_test)\n",
    "proba = lr.predict_proba(x_test)\n",
    "click_proba = []\n",
    "for i in proba:\n",
    "    click_proba.append(i[1])\n",
    "print('label 1 proportion of prediction:', len([i for i in pred if i == 1])/len(pred))\n",
    "print('log loss:', log_loss(y_test.astype(int), pred.astype(int)))\n",
    "print('log loss between label and click probability:', log_loss(y_test, click_proba))\n",
    "print('accuracy:', accuracy_score(y_test.astype(int), pred.astype(int)))"
   ]
  },
  {
   "cell_type": "code",
   "execution_count": null,
   "metadata": {},
   "outputs": [],
   "source": []
  },
  {
   "cell_type": "markdown",
   "metadata": {},
   "source": [
    "### label 1 : label 0 = 1 : 9 로 샘플링"
   ]
  },
  {
   "cell_type": "code",
   "execution_count": 36,
   "metadata": {},
   "outputs": [
    {
     "name": "stdout",
     "output_type": "stream",
     "text": [
      "proportion of label 1 in train set: 0.1\n",
      "proportion of label 0 in test set: 0.1\n"
     ]
    }
   ],
   "source": [
    "train = pd.concat([click.sample(n=76800), non_click.sample(n=691200)])\n",
    "test = pd.concat([click.sample(n=19200), non_click.sample(n=172800)])\n",
    "x_train = train.iloc[:, :-1]\n",
    "x_test = test.iloc[:, :-1]\n",
    "y_train = train.iloc[:, -1]\n",
    "y_test = test.iloc[:, -1]\n",
    "\n",
    "print('proportion of label 1 in train set:', len([i for i in y_train.tolist() if i == 1])/len(y_train))\n",
    "print('proportion of label 0 in test set:', len([i for i in y_test.tolist() if i == 1])/len(y_test))"
   ]
  },
  {
   "cell_type": "code",
   "execution_count": 37,
   "metadata": {},
   "outputs": [
    {
     "name": "stdout",
     "output_type": "stream",
     "text": [
      "label 1 proportion of prediction: 0.00025\n",
      "log loss: 3.4614331842331025\n",
      "log loss between label and click probability: 0.38651071487477195\n",
      "accuracy: 0.89978125\n"
     ]
    }
   ],
   "source": [
    "lr = LogisticRegression(class_weight=None, n_jobs=-1, random_state=42)\n",
    "lr.fit(x_train, y_train)\n",
    "pred = lr.predict(x_test)\n",
    "proba = lr.predict_proba(x_test)\n",
    "click_proba = []\n",
    "for i in proba:\n",
    "    click_proba.append(i[1])\n",
    "print('label 1 proportion of prediction:', len([i for i in pred if i == 1])/len(pred))\n",
    "print('log loss:', log_loss(y_test.astype(int), pred.astype(int)))\n",
    "print('log loss between label and click probability:', log_loss(y_test, click_proba))\n",
    "print('accuracy:', accuracy_score(y_test.astype(int), pred.astype(int)))"
   ]
  },
  {
   "cell_type": "code",
   "execution_count": null,
   "metadata": {},
   "outputs": [],
   "source": []
  },
  {
   "cell_type": "markdown",
   "metadata": {},
   "source": [
    "### label 1 : label 0 = 1 : 32 로 샘플링 -> CTR 약 3%"
   ]
  },
  {
   "cell_type": "code",
   "execution_count": 38,
   "metadata": {},
   "outputs": [
    {
     "name": "stdout",
     "output_type": "stream",
     "text": [
      "proportion of label 1 in train set: 0.030303030303030304\n",
      "proportion of label 0 in test set: 0.030303030303030304\n"
     ]
    }
   ],
   "source": [
    "train = pd.concat([click.sample(n=76800), non_click.sample(n=2457600)])\n",
    "test = pd.concat([click.sample(n=19200), non_click.sample(n=614400)])\n",
    "x_train = train.iloc[:, :-1]\n",
    "x_test = test.iloc[:, :-1]\n",
    "y_train = train.iloc[:, -1]\n",
    "y_test = test.iloc[:, -1]\n",
    "\n",
    "print('proportion of label 1 in train set:', len([i for i in y_train.tolist() if i == 1])/len(y_train))\n",
    "print('proportion of label 0 in test set:', len([i for i in y_test.tolist() if i == 1])/len(y_test))"
   ]
  },
  {
   "cell_type": "code",
   "execution_count": 39,
   "metadata": {},
   "outputs": [
    {
     "name": "stdout",
     "output_type": "stream",
     "text": [
      "label 1 proportion of prediction: 6.470959595959596e-05\n",
      "log loss: 1.0484285290221316\n",
      "log loss between label and click probability: 0.18825616940269835\n",
      "accuracy: 0.9696448863636363\n"
     ]
    }
   ],
   "source": [
    "lr = LogisticRegression(class_weight=None, n_jobs=-1, random_state=42)\n",
    "lr.fit(x_train, y_train)\n",
    "pred = lr.predict(x_test)\n",
    "proba = lr.predict_proba(x_test)\n",
    "click_proba = []\n",
    "for i in proba:\n",
    "    click_proba.append(i[1])\n",
    "print('label 1 proportion of prediction:', len([i for i in pred if i == 1])/len(pred))\n",
    "print('log loss:', log_loss(y_test.astype(int), pred.astype(int)))\n",
    "print('log loss between label and click probability:', log_loss(y_test, click_proba))\n",
    "print('accuracy:', accuracy_score(y_test.astype(int), pred.astype(int)))"
   ]
  },
  {
   "cell_type": "code",
   "execution_count": 40,
   "metadata": {},
   "outputs": [
    {
     "data": {
      "text/html": [
       "<div>\n",
       "<style scoped>\n",
       "    .dataframe tbody tr th:only-of-type {\n",
       "        vertical-align: middle;\n",
       "    }\n",
       "\n",
       "    .dataframe tbody tr th {\n",
       "        vertical-align: top;\n",
       "    }\n",
       "\n",
       "    .dataframe thead th {\n",
       "        text-align: right;\n",
       "    }\n",
       "</style>\n",
       "<table border=\"1\" class=\"dataframe\">\n",
       "  <thead>\n",
       "    <tr style=\"text-align: right;\">\n",
       "      <th></th>\n",
       "      <th>coefficient</th>\n",
       "      <th>abs</th>\n",
       "    </tr>\n",
       "  </thead>\n",
       "  <tbody>\n",
       "    <tr>\n",
       "      <th>imp_content_position</th>\n",
       "      <td>-2.050855e-02</td>\n",
       "      <td>2.050855e-02</td>\n",
       "    </tr>\n",
       "    <tr>\n",
       "      <th>content_category_id</th>\n",
       "      <td>-1.382919e-02</td>\n",
       "      <td>1.382919e-02</td>\n",
       "    </tr>\n",
       "    <tr>\n",
       "      <th>user_age</th>\n",
       "      <td>-4.274175e-03</td>\n",
       "      <td>4.274175e-03</td>\n",
       "    </tr>\n",
       "    <tr>\n",
       "      <th>user_following_cnt</th>\n",
       "      <td>-3.751461e-03</td>\n",
       "      <td>3.751461e-03</td>\n",
       "    </tr>\n",
       "    <tr>\n",
       "      <th>hour</th>\n",
       "      <td>-2.764533e-03</td>\n",
       "      <td>2.764533e-03</td>\n",
       "    </tr>\n",
       "    <tr>\n",
       "      <th>content_pfavcnt</th>\n",
       "      <td>-2.413813e-03</td>\n",
       "      <td>2.413813e-03</td>\n",
       "    </tr>\n",
       "    <tr>\n",
       "      <th>owner_bunpay_count</th>\n",
       "      <td>-1.559058e-03</td>\n",
       "      <td>1.559058e-03</td>\n",
       "    </tr>\n",
       "    <tr>\n",
       "      <th>content_comment_cnt</th>\n",
       "      <td>6.977406e-04</td>\n",
       "      <td>6.977406e-04</td>\n",
       "    </tr>\n",
       "    <tr>\n",
       "      <th>owner_item_count</th>\n",
       "      <td>-3.407340e-04</td>\n",
       "      <td>3.407340e-04</td>\n",
       "    </tr>\n",
       "    <tr>\n",
       "      <th>user_sex</th>\n",
       "      <td>-3.314859e-04</td>\n",
       "      <td>3.314859e-04</td>\n",
       "    </tr>\n",
       "    <tr>\n",
       "      <th>imp_page_id</th>\n",
       "      <td>-3.195970e-04</td>\n",
       "      <td>3.195970e-04</td>\n",
       "    </tr>\n",
       "    <tr>\n",
       "      <th>imp_ref_page_id</th>\n",
       "      <td>-2.186499e-04</td>\n",
       "      <td>2.186499e-04</td>\n",
       "    </tr>\n",
       "    <tr>\n",
       "      <th>user_bunpay_count</th>\n",
       "      <td>-1.896172e-04</td>\n",
       "      <td>1.896172e-04</td>\n",
       "    </tr>\n",
       "    <tr>\n",
       "      <th>content_emergency_cnt</th>\n",
       "      <td>-1.766250e-04</td>\n",
       "      <td>1.766250e-04</td>\n",
       "    </tr>\n",
       "    <tr>\n",
       "      <th>owner_grade</th>\n",
       "      <td>-1.383802e-04</td>\n",
       "      <td>1.383802e-04</td>\n",
       "    </tr>\n",
       "    <tr>\n",
       "      <th>imp_ref_source</th>\n",
       "      <td>-1.251579e-04</td>\n",
       "      <td>1.251579e-04</td>\n",
       "    </tr>\n",
       "    <tr>\n",
       "      <th>owner_interest</th>\n",
       "      <td>2.338838e-06</td>\n",
       "      <td>2.338838e-06</td>\n",
       "    </tr>\n",
       "    <tr>\n",
       "      <th>content_interest</th>\n",
       "      <td>1.521914e-06</td>\n",
       "      <td>1.521914e-06</td>\n",
       "    </tr>\n",
       "    <tr>\n",
       "      <th>content_price</th>\n",
       "      <td>-3.786518e-07</td>\n",
       "      <td>3.786518e-07</td>\n",
       "    </tr>\n",
       "    <tr>\n",
       "      <th>owner_follower_cnt</th>\n",
       "      <td>0.000000e+00</td>\n",
       "      <td>0.000000e+00</td>\n",
       "    </tr>\n",
       "  </tbody>\n",
       "</table>\n",
       "</div>"
      ],
      "text/plain": [
       "                        coefficient           abs\n",
       "imp_content_position  -2.050855e-02  2.050855e-02\n",
       "content_category_id   -1.382919e-02  1.382919e-02\n",
       "user_age              -4.274175e-03  4.274175e-03\n",
       "user_following_cnt    -3.751461e-03  3.751461e-03\n",
       "hour                  -2.764533e-03  2.764533e-03\n",
       "content_pfavcnt       -2.413813e-03  2.413813e-03\n",
       "owner_bunpay_count    -1.559058e-03  1.559058e-03\n",
       "content_comment_cnt    6.977406e-04  6.977406e-04\n",
       "owner_item_count      -3.407340e-04  3.407340e-04\n",
       "user_sex              -3.314859e-04  3.314859e-04\n",
       "imp_page_id           -3.195970e-04  3.195970e-04\n",
       "imp_ref_page_id       -2.186499e-04  2.186499e-04\n",
       "user_bunpay_count     -1.896172e-04  1.896172e-04\n",
       "content_emergency_cnt -1.766250e-04  1.766250e-04\n",
       "owner_grade           -1.383802e-04  1.383802e-04\n",
       "imp_ref_source        -1.251579e-04  1.251579e-04\n",
       "owner_interest         2.338838e-06  2.338838e-06\n",
       "content_interest       1.521914e-06  1.521914e-06\n",
       "content_price         -3.786518e-07  3.786518e-07\n",
       "owner_follower_cnt     0.000000e+00  0.000000e+00"
      ]
     },
     "execution_count": 40,
     "metadata": {},
     "output_type": "execute_result"
    }
   ],
   "source": [
    "coef = lr.coef_[0].tolist()\n",
    "coef_dict = {}\n",
    "for i in range(len(coef)):    \n",
    "    coef_dict[x_train.columns[i]] = [coef[i]]\n",
    "coeff = pd.DataFrame.from_dict(coef_dict).T\n",
    "coeff.columns = ['coefficient']\n",
    "absol = coeff['coefficient'].abs()\n",
    "coeff['abs'] = absol\n",
    "coeff.sort_values('abs', ascending=False)"
   ]
  },
  {
   "cell_type": "code",
   "execution_count": null,
   "metadata": {},
   "outputs": [],
   "source": []
  },
  {
   "cell_type": "markdown",
   "metadata": {},
   "source": [
    "### Simply split train:test = 8:2"
   ]
  },
  {
   "cell_type": "code",
   "execution_count": 46,
   "metadata": {},
   "outputs": [],
   "source": [
    "x = data.iloc[:, :-1]\n",
    "y = data.iloc[:, -1]\n",
    "x_train, x_test, y_train, y_test = train_test_split(x, y, test_size=0.2)"
   ]
  },
  {
   "cell_type": "code",
   "execution_count": 47,
   "metadata": {},
   "outputs": [
    {
     "name": "stdout",
     "output_type": "stream",
     "text": [
      "label 1 proportion of prediction: 6.174103211508528e-05\n",
      "log loss: 1.0904164817922686\n",
      "log loss between label and click probability: 0.22365249442976656\n",
      "accuracy: 0.968429210657152\n"
     ]
    }
   ],
   "source": [
    "lr = LogisticRegression(class_weight=None, n_jobs=-1, random_state=42)\n",
    "lr.fit(x_train, y_train)\n",
    "pred = lr.predict(x_test)\n",
    "proba = lr.predict_proba(x_test)\n",
    "click_proba = []\n",
    "for i in proba:\n",
    "    click_proba.append(i[1])\n",
    "print('label 1 proportion of prediction:', len([i for i in pred if i == 1])/len(pred))\n",
    "print('log loss:', log_loss(y_test.astype(int), pred.astype(int)))\n",
    "print('log loss between label and click probability:', log_loss(y_test, click_proba))\n",
    "print('accuracy:', accuracy_score(y_test.astype(int), pred.astype(int)))"
   ]
  },
  {
   "cell_type": "code",
   "execution_count": 48,
   "metadata": {},
   "outputs": [
    {
     "data": {
      "text/html": [
       "<div>\n",
       "<style scoped>\n",
       "    .dataframe tbody tr th:only-of-type {\n",
       "        vertical-align: middle;\n",
       "    }\n",
       "\n",
       "    .dataframe tbody tr th {\n",
       "        vertical-align: top;\n",
       "    }\n",
       "\n",
       "    .dataframe thead th {\n",
       "        text-align: right;\n",
       "    }\n",
       "</style>\n",
       "<table border=\"1\" class=\"dataframe\">\n",
       "  <thead>\n",
       "    <tr style=\"text-align: right;\">\n",
       "      <th></th>\n",
       "      <th>coefficient</th>\n",
       "      <th>abs</th>\n",
       "    </tr>\n",
       "  </thead>\n",
       "  <tbody>\n",
       "    <tr>\n",
       "      <th>imp_content_position</th>\n",
       "      <td>-0.010143</td>\n",
       "      <td>0.010143</td>\n",
       "    </tr>\n",
       "    <tr>\n",
       "      <th>content_category_id</th>\n",
       "      <td>-0.006765</td>\n",
       "      <td>0.006765</td>\n",
       "    </tr>\n",
       "    <tr>\n",
       "      <th>user_age</th>\n",
       "      <td>-0.002084</td>\n",
       "      <td>0.002084</td>\n",
       "    </tr>\n",
       "    <tr>\n",
       "      <th>user_following_cnt</th>\n",
       "      <td>-0.001840</td>\n",
       "      <td>0.001840</td>\n",
       "    </tr>\n",
       "    <tr>\n",
       "      <th>hour</th>\n",
       "      <td>-0.001345</td>\n",
       "      <td>0.001345</td>\n",
       "    </tr>\n",
       "    <tr>\n",
       "      <th>content_pfavcnt</th>\n",
       "      <td>-0.001315</td>\n",
       "      <td>0.001315</td>\n",
       "    </tr>\n",
       "    <tr>\n",
       "      <th>owner_bunpay_count</th>\n",
       "      <td>-0.000790</td>\n",
       "      <td>0.000790</td>\n",
       "    </tr>\n",
       "    <tr>\n",
       "      <th>content_comment_cnt</th>\n",
       "      <td>0.000541</td>\n",
       "      <td>0.000541</td>\n",
       "    </tr>\n",
       "    <tr>\n",
       "      <th>owner_grade</th>\n",
       "      <td>-0.000346</td>\n",
       "      <td>0.000346</td>\n",
       "    </tr>\n",
       "    <tr>\n",
       "      <th>user_sex</th>\n",
       "      <td>-0.000161</td>\n",
       "      <td>0.000161</td>\n",
       "    </tr>\n",
       "    <tr>\n",
       "      <th>imp_page_id</th>\n",
       "      <td>-0.000156</td>\n",
       "      <td>0.000156</td>\n",
       "    </tr>\n",
       "    <tr>\n",
       "      <th>owner_item_count</th>\n",
       "      <td>-0.000119</td>\n",
       "      <td>0.000119</td>\n",
       "    </tr>\n",
       "    <tr>\n",
       "      <th>imp_ref_page_id</th>\n",
       "      <td>-0.000106</td>\n",
       "      <td>0.000106</td>\n",
       "    </tr>\n",
       "    <tr>\n",
       "      <th>user_bunpay_count</th>\n",
       "      <td>-0.000093</td>\n",
       "      <td>0.000093</td>\n",
       "    </tr>\n",
       "    <tr>\n",
       "      <th>content_emergency_cnt</th>\n",
       "      <td>-0.000085</td>\n",
       "      <td>0.000085</td>\n",
       "    </tr>\n",
       "    <tr>\n",
       "      <th>imp_ref_source</th>\n",
       "      <td>-0.000061</td>\n",
       "      <td>0.000061</td>\n",
       "    </tr>\n",
       "    <tr>\n",
       "      <th>content_interest</th>\n",
       "      <td>-0.000003</td>\n",
       "      <td>0.000003</td>\n",
       "    </tr>\n",
       "    <tr>\n",
       "      <th>owner_interest</th>\n",
       "      <td>0.000002</td>\n",
       "      <td>0.000002</td>\n",
       "    </tr>\n",
       "    <tr>\n",
       "      <th>content_price</th>\n",
       "      <td>-0.000001</td>\n",
       "      <td>0.000001</td>\n",
       "    </tr>\n",
       "    <tr>\n",
       "      <th>owner_follower_cnt</th>\n",
       "      <td>0.000000</td>\n",
       "      <td>0.000000</td>\n",
       "    </tr>\n",
       "  </tbody>\n",
       "</table>\n",
       "</div>"
      ],
      "text/plain": [
       "                       coefficient       abs\n",
       "imp_content_position     -0.010143  0.010143\n",
       "content_category_id      -0.006765  0.006765\n",
       "user_age                 -0.002084  0.002084\n",
       "user_following_cnt       -0.001840  0.001840\n",
       "hour                     -0.001345  0.001345\n",
       "content_pfavcnt          -0.001315  0.001315\n",
       "owner_bunpay_count       -0.000790  0.000790\n",
       "content_comment_cnt       0.000541  0.000541\n",
       "owner_grade              -0.000346  0.000346\n",
       "user_sex                 -0.000161  0.000161\n",
       "imp_page_id              -0.000156  0.000156\n",
       "owner_item_count         -0.000119  0.000119\n",
       "imp_ref_page_id          -0.000106  0.000106\n",
       "user_bunpay_count        -0.000093  0.000093\n",
       "content_emergency_cnt    -0.000085  0.000085\n",
       "imp_ref_source           -0.000061  0.000061\n",
       "content_interest         -0.000003  0.000003\n",
       "owner_interest            0.000002  0.000002\n",
       "content_price            -0.000001  0.000001\n",
       "owner_follower_cnt        0.000000  0.000000"
      ]
     },
     "execution_count": 48,
     "metadata": {},
     "output_type": "execute_result"
    }
   ],
   "source": [
    "coef = lr.coef_[0].tolist()\n",
    "coef_dict = {}\n",
    "for i in range(len(coef)):    \n",
    "    coef_dict[x_train.columns[i]] = [coef[i]]\n",
    "coeff = pd.DataFrame.from_dict(coef_dict).T\n",
    "coeff.columns = ['coefficient']\n",
    "absol = coeff['coefficient'].abs()\n",
    "coeff['abs'] = absol\n",
    "coeff.sort_values('abs', ascending=False)"
   ]
  },
  {
   "cell_type": "markdown",
   "metadata": {},
   "source": [
    "### Small dataset"
   ]
  },
  {
   "cell_type": "code",
   "execution_count": 49,
   "metadata": {},
   "outputs": [],
   "source": [
    "x = data.iloc[:, :-1].sample(n=10000)\n",
    "y = data.iloc[:, -1].sample(n=10000)\n",
    "x_train, x_test, y_train, y_test = train_test_split(x, y, test_size=0.2)"
   ]
  },
  {
   "cell_type": "code",
   "execution_count": 50,
   "metadata": {},
   "outputs": [
    {
     "name": "stdout",
     "output_type": "stream",
     "text": [
      "label 1 proportion of prediction: 0.002\n",
      "log loss: 1.2779363258065564\n",
      "log loss between label and click probability: 0.2728452929771814\n",
      "accuracy: 0.963\n"
     ]
    }
   ],
   "source": [
    "lr = LogisticRegression(class_weight=None, n_jobs=-1, random_state=42)\n",
    "lr.fit(x_train, y_train)\n",
    "pred = lr.predict(x_test)\n",
    "proba = lr.predict_proba(x_test)\n",
    "click_proba = []\n",
    "for i in proba:\n",
    "    click_proba.append(i[1])\n",
    "print('label 1 proportion of prediction:', len([i for i in pred if i == 1])/len(pred))\n",
    "print('log loss:', log_loss(y_test.astype(int), pred.astype(int)))\n",
    "print('log loss between label and click probability:', log_loss(y_test, click_proba))\n",
    "print('accuracy:', accuracy_score(y_test.astype(int), pred.astype(int)))"
   ]
  },
  {
   "cell_type": "code",
   "execution_count": 51,
   "metadata": {},
   "outputs": [
    {
     "data": {
      "text/html": [
       "<div>\n",
       "<style scoped>\n",
       "    .dataframe tbody tr th:only-of-type {\n",
       "        vertical-align: middle;\n",
       "    }\n",
       "\n",
       "    .dataframe tbody tr th {\n",
       "        vertical-align: top;\n",
       "    }\n",
       "\n",
       "    .dataframe thead th {\n",
       "        text-align: right;\n",
       "    }\n",
       "</style>\n",
       "<table border=\"1\" class=\"dataframe\">\n",
       "  <thead>\n",
       "    <tr style=\"text-align: right;\">\n",
       "      <th></th>\n",
       "      <th>coefficient</th>\n",
       "      <th>abs</th>\n",
       "    </tr>\n",
       "  </thead>\n",
       "  <tbody>\n",
       "    <tr>\n",
       "      <th>imp_content_position</th>\n",
       "      <td>-1.409138e-02</td>\n",
       "      <td>1.409138e-02</td>\n",
       "    </tr>\n",
       "    <tr>\n",
       "      <th>content_category_id</th>\n",
       "      <td>-1.248629e-02</td>\n",
       "      <td>1.248629e-02</td>\n",
       "    </tr>\n",
       "    <tr>\n",
       "      <th>user_age</th>\n",
       "      <td>-3.686961e-03</td>\n",
       "      <td>3.686961e-03</td>\n",
       "    </tr>\n",
       "    <tr>\n",
       "      <th>user_following_cnt</th>\n",
       "      <td>-3.146883e-03</td>\n",
       "      <td>3.146883e-03</td>\n",
       "    </tr>\n",
       "    <tr>\n",
       "      <th>hour</th>\n",
       "      <td>-2.380446e-03</td>\n",
       "      <td>2.380446e-03</td>\n",
       "    </tr>\n",
       "    <tr>\n",
       "      <th>owner_bunpay_count</th>\n",
       "      <td>-1.700928e-03</td>\n",
       "      <td>1.700928e-03</td>\n",
       "    </tr>\n",
       "    <tr>\n",
       "      <th>content_pfavcnt</th>\n",
       "      <td>-1.588471e-03</td>\n",
       "      <td>1.588471e-03</td>\n",
       "    </tr>\n",
       "    <tr>\n",
       "      <th>owner_item_count</th>\n",
       "      <td>-7.876637e-04</td>\n",
       "      <td>7.876637e-04</td>\n",
       "    </tr>\n",
       "    <tr>\n",
       "      <th>owner_grade</th>\n",
       "      <td>-3.151154e-04</td>\n",
       "      <td>3.151154e-04</td>\n",
       "    </tr>\n",
       "    <tr>\n",
       "      <th>user_sex</th>\n",
       "      <td>-2.918481e-04</td>\n",
       "      <td>2.918481e-04</td>\n",
       "    </tr>\n",
       "    <tr>\n",
       "      <th>imp_page_id</th>\n",
       "      <td>-2.705242e-04</td>\n",
       "      <td>2.705242e-04</td>\n",
       "    </tr>\n",
       "    <tr>\n",
       "      <th>imp_ref_page_id</th>\n",
       "      <td>-1.789707e-04</td>\n",
       "      <td>1.789707e-04</td>\n",
       "    </tr>\n",
       "    <tr>\n",
       "      <th>user_bunpay_count</th>\n",
       "      <td>-1.661193e-04</td>\n",
       "      <td>1.661193e-04</td>\n",
       "    </tr>\n",
       "    <tr>\n",
       "      <th>content_emergency_cnt</th>\n",
       "      <td>-1.391107e-04</td>\n",
       "      <td>1.391107e-04</td>\n",
       "    </tr>\n",
       "    <tr>\n",
       "      <th>imp_ref_source</th>\n",
       "      <td>-1.003639e-04</td>\n",
       "      <td>1.003639e-04</td>\n",
       "    </tr>\n",
       "    <tr>\n",
       "      <th>content_interest</th>\n",
       "      <td>1.010010e-05</td>\n",
       "      <td>1.010010e-05</td>\n",
       "    </tr>\n",
       "    <tr>\n",
       "      <th>owner_interest</th>\n",
       "      <td>5.853934e-06</td>\n",
       "      <td>5.853934e-06</td>\n",
       "    </tr>\n",
       "    <tr>\n",
       "      <th>content_comment_cnt</th>\n",
       "      <td>4.501337e-06</td>\n",
       "      <td>4.501337e-06</td>\n",
       "    </tr>\n",
       "    <tr>\n",
       "      <th>content_price</th>\n",
       "      <td>-4.151470e-07</td>\n",
       "      <td>4.151470e-07</td>\n",
       "    </tr>\n",
       "    <tr>\n",
       "      <th>owner_follower_cnt</th>\n",
       "      <td>0.000000e+00</td>\n",
       "      <td>0.000000e+00</td>\n",
       "    </tr>\n",
       "  </tbody>\n",
       "</table>\n",
       "</div>"
      ],
      "text/plain": [
       "                        coefficient           abs\n",
       "imp_content_position  -1.409138e-02  1.409138e-02\n",
       "content_category_id   -1.248629e-02  1.248629e-02\n",
       "user_age              -3.686961e-03  3.686961e-03\n",
       "user_following_cnt    -3.146883e-03  3.146883e-03\n",
       "hour                  -2.380446e-03  2.380446e-03\n",
       "owner_bunpay_count    -1.700928e-03  1.700928e-03\n",
       "content_pfavcnt       -1.588471e-03  1.588471e-03\n",
       "owner_item_count      -7.876637e-04  7.876637e-04\n",
       "owner_grade           -3.151154e-04  3.151154e-04\n",
       "user_sex              -2.918481e-04  2.918481e-04\n",
       "imp_page_id           -2.705242e-04  2.705242e-04\n",
       "imp_ref_page_id       -1.789707e-04  1.789707e-04\n",
       "user_bunpay_count     -1.661193e-04  1.661193e-04\n",
       "content_emergency_cnt -1.391107e-04  1.391107e-04\n",
       "imp_ref_source        -1.003639e-04  1.003639e-04\n",
       "content_interest       1.010010e-05  1.010010e-05\n",
       "owner_interest         5.853934e-06  5.853934e-06\n",
       "content_comment_cnt    4.501337e-06  4.501337e-06\n",
       "content_price         -4.151470e-07  4.151470e-07\n",
       "owner_follower_cnt     0.000000e+00  0.000000e+00"
      ]
     },
     "execution_count": 51,
     "metadata": {},
     "output_type": "execute_result"
    }
   ],
   "source": [
    "coef = lr.coef_[0].tolist()\n",
    "coef_dict = {}\n",
    "for i in range(len(coef)):    \n",
    "    coef_dict[x_train.columns[i]] = [coef[i]]\n",
    "coeff = pd.DataFrame.from_dict(coef_dict).T\n",
    "coeff.columns = ['coefficient']\n",
    "absol = coeff['coefficient'].abs()\n",
    "coeff['abs'] = absol\n",
    "coeff.sort_values('abs', ascending=False)"
   ]
  },
  {
   "cell_type": "code",
   "execution_count": 52,
   "metadata": {},
   "outputs": [
    {
     "name": "stdout",
     "output_type": "stream",
     "text": [
      "label 1 proportion of train set: 0.03125\n",
      "label 1 proportion of test set: 0.035\n"
     ]
    }
   ],
   "source": [
    "print('label 1 proportion of train set:', len([i for i in y_train if i == 1])/len(y_train))\n",
    "print('label 1 proportion of test set:', len([i for i in y_test if i == 1])/len(y_test))"
   ]
  },
  {
   "cell_type": "code",
   "execution_count": null,
   "metadata": {},
   "outputs": [],
   "source": []
  },
  {
   "cell_type": "markdown",
   "metadata": {},
   "source": [
    "### Test with normalized data"
   ]
  },
  {
   "cell_type": "code",
   "execution_count": 63,
   "metadata": {},
   "outputs": [],
   "source": [
    "from sklearn.preprocessing import MinMaxScaler\n",
    "\n",
    "norm_data = data.copy()\n",
    "norm_data[dense] = MinMaxScaler(feature_range = (0, 1)).fit_transform(norm_data[dense])\n"
   ]
  },
  {
   "cell_type": "code",
   "execution_count": 64,
   "metadata": {},
   "outputs": [],
   "source": [
    "x = norm_data.iloc[:, :-1]\n",
    "y = norm_data.iloc[:, -1]\n",
    "x_train, x_test, y_train, y_test = train_test_split(x, y, test_size=0.2)"
   ]
  },
  {
   "cell_type": "code",
   "execution_count": 65,
   "metadata": {},
   "outputs": [
    {
     "name": "stdout",
     "output_type": "stream",
     "text": [
      "label 1 proportion of prediction: 0.0\n",
      "log loss: 1.0837384678126372\n",
      "log loss between label and click probability: 0.13893841774917534\n",
      "accuracy: 0.9686225575735125\n"
     ]
    }
   ],
   "source": [
    "lr = LogisticRegression(class_weight=None, n_jobs=-1, random_state=42)\n",
    "lr.fit(x_train, y_train)\n",
    "pred = lr.predict(x_test)\n",
    "proba = lr.predict_proba(x_test)\n",
    "click_proba = []\n",
    "for i in proba:\n",
    "    click_proba.append(i[1])\n",
    "print('label 1 proportion of prediction:', len([i for i in pred if i == 1])/len(pred))\n",
    "print('log loss:', log_loss(y_test.astype(int), pred.astype(int)))\n",
    "print('log loss between label and click probability:', log_loss(y_test, click_proba))\n",
    "print('accuracy:', accuracy_score(y_test.astype(int), pred.astype(int)))"
   ]
  },
  {
   "cell_type": "code",
   "execution_count": 56,
   "metadata": {
    "scrolled": false
   },
   "outputs": [
    {
     "data": {
      "text/html": [
       "<div>\n",
       "<style scoped>\n",
       "    .dataframe tbody tr th:only-of-type {\n",
       "        vertical-align: middle;\n",
       "    }\n",
       "\n",
       "    .dataframe tbody tr th {\n",
       "        vertical-align: top;\n",
       "    }\n",
       "\n",
       "    .dataframe thead th {\n",
       "        text-align: right;\n",
       "    }\n",
       "</style>\n",
       "<table border=\"1\" class=\"dataframe\">\n",
       "  <thead>\n",
       "    <tr style=\"text-align: right;\">\n",
       "      <th></th>\n",
       "      <th>coefficient</th>\n",
       "      <th>abs</th>\n",
       "    </tr>\n",
       "  </thead>\n",
       "  <tbody>\n",
       "    <tr>\n",
       "      <th>imp_ref_page_id</th>\n",
       "      <td>-0.557074</td>\n",
       "      <td>0.557074</td>\n",
       "    </tr>\n",
       "    <tr>\n",
       "      <th>content_price</th>\n",
       "      <td>0.275182</td>\n",
       "      <td>0.275182</td>\n",
       "    </tr>\n",
       "    <tr>\n",
       "      <th>imp_ref_source</th>\n",
       "      <td>-0.240636</td>\n",
       "      <td>0.240636</td>\n",
       "    </tr>\n",
       "    <tr>\n",
       "      <th>owner_item_count</th>\n",
       "      <td>-0.161769</td>\n",
       "      <td>0.161769</td>\n",
       "    </tr>\n",
       "    <tr>\n",
       "      <th>user_sex</th>\n",
       "      <td>0.131454</td>\n",
       "      <td>0.131454</td>\n",
       "    </tr>\n",
       "    <tr>\n",
       "      <th>content_comment_cnt</th>\n",
       "      <td>-0.085208</td>\n",
       "      <td>0.085208</td>\n",
       "    </tr>\n",
       "    <tr>\n",
       "      <th>content_interest</th>\n",
       "      <td>-0.054906</td>\n",
       "      <td>0.054906</td>\n",
       "    </tr>\n",
       "    <tr>\n",
       "      <th>content_emergency_cnt</th>\n",
       "      <td>-0.052654</td>\n",
       "      <td>0.052654</td>\n",
       "    </tr>\n",
       "    <tr>\n",
       "      <th>imp_page_id</th>\n",
       "      <td>-0.045170</td>\n",
       "      <td>0.045170</td>\n",
       "    </tr>\n",
       "    <tr>\n",
       "      <th>owner_interest</th>\n",
       "      <td>-0.038700</td>\n",
       "      <td>0.038700</td>\n",
       "    </tr>\n",
       "    <tr>\n",
       "      <th>owner_grade</th>\n",
       "      <td>-0.029729</td>\n",
       "      <td>0.029729</td>\n",
       "    </tr>\n",
       "    <tr>\n",
       "      <th>content_pfavcnt</th>\n",
       "      <td>0.021620</td>\n",
       "      <td>0.021620</td>\n",
       "    </tr>\n",
       "    <tr>\n",
       "      <th>user_following_cnt</th>\n",
       "      <td>-0.019100</td>\n",
       "      <td>0.019100</td>\n",
       "    </tr>\n",
       "    <tr>\n",
       "      <th>owner_bunpay_count</th>\n",
       "      <td>0.012883</td>\n",
       "      <td>0.012883</td>\n",
       "    </tr>\n",
       "    <tr>\n",
       "      <th>hour</th>\n",
       "      <td>-0.005667</td>\n",
       "      <td>0.005667</td>\n",
       "    </tr>\n",
       "    <tr>\n",
       "      <th>content_category_id</th>\n",
       "      <td>0.002482</td>\n",
       "      <td>0.002482</td>\n",
       "    </tr>\n",
       "    <tr>\n",
       "      <th>user_age</th>\n",
       "      <td>-0.002123</td>\n",
       "      <td>0.002123</td>\n",
       "    </tr>\n",
       "    <tr>\n",
       "      <th>imp_content_position</th>\n",
       "      <td>-0.002027</td>\n",
       "      <td>0.002027</td>\n",
       "    </tr>\n",
       "    <tr>\n",
       "      <th>user_bunpay_count</th>\n",
       "      <td>0.000267</td>\n",
       "      <td>0.000267</td>\n",
       "    </tr>\n",
       "    <tr>\n",
       "      <th>owner_follower_cnt</th>\n",
       "      <td>0.000000</td>\n",
       "      <td>0.000000</td>\n",
       "    </tr>\n",
       "  </tbody>\n",
       "</table>\n",
       "</div>"
      ],
      "text/plain": [
       "                       coefficient       abs\n",
       "imp_ref_page_id          -0.557074  0.557074\n",
       "content_price             0.275182  0.275182\n",
       "imp_ref_source           -0.240636  0.240636\n",
       "owner_item_count         -0.161769  0.161769\n",
       "user_sex                  0.131454  0.131454\n",
       "content_comment_cnt      -0.085208  0.085208\n",
       "content_interest         -0.054906  0.054906\n",
       "content_emergency_cnt    -0.052654  0.052654\n",
       "imp_page_id              -0.045170  0.045170\n",
       "owner_interest           -0.038700  0.038700\n",
       "owner_grade              -0.029729  0.029729\n",
       "content_pfavcnt           0.021620  0.021620\n",
       "user_following_cnt       -0.019100  0.019100\n",
       "owner_bunpay_count        0.012883  0.012883\n",
       "hour                     -0.005667  0.005667\n",
       "content_category_id       0.002482  0.002482\n",
       "user_age                 -0.002123  0.002123\n",
       "imp_content_position     -0.002027  0.002027\n",
       "user_bunpay_count         0.000267  0.000267\n",
       "owner_follower_cnt        0.000000  0.000000"
      ]
     },
     "execution_count": 56,
     "metadata": {},
     "output_type": "execute_result"
    }
   ],
   "source": [
    "coef = lr.coef_[0].tolist()\n",
    "coef_dict = {}\n",
    "for i in range(len(coef)):    \n",
    "    coef_dict[x_train.columns[i]] = [coef[i]]\n",
    "coeff = pd.DataFrame.from_dict(coef_dict).T\n",
    "coeff.columns = ['coefficient']\n",
    "absol = coeff['coefficient'].abs()\n",
    "coeff['abs'] = absol\n",
    "coeff.sort_values('abs', ascending=False)"
   ]
  },
  {
   "cell_type": "code",
   "execution_count": 67,
   "metadata": {},
   "outputs": [
    {
     "name": "stdout",
     "output_type": "stream",
     "text": [
      "auc: 0.5\n"
     ]
    }
   ],
   "source": [
    "print('auc:', roc_auc_score(y_test.astype(int), pred.astype(int)))"
   ]
  },
  {
   "cell_type": "code",
   "execution_count": null,
   "metadata": {},
   "outputs": [],
   "source": []
  }
 ],
 "metadata": {
  "kernelspec": {
   "display_name": "Python 3",
   "language": "python",
   "name": "python3"
  },
  "language_info": {
   "codemirror_mode": {
    "name": "ipython",
    "version": 3
   },
   "file_extension": ".py",
   "mimetype": "text/x-python",
   "name": "python",
   "nbconvert_exporter": "python",
   "pygments_lexer": "ipython3",
   "version": "3.7.5"
  }
 },
 "nbformat": 4,
 "nbformat_minor": 4
}