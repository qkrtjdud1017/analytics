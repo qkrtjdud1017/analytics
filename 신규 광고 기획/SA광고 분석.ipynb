{
 "cells": [
  {
   "cell_type": "code",
   "execution_count": 1,
   "metadata": {},
   "outputs": [],
   "source": [
    "import pandas as pd\n",
    "import numpy as np\n",
    "import matplotlib as plt\n",
    "import matplotlib.pylab as plt\n",
    "import seaborn as sns\n",
    "from sqlalchemy import create_engine\n",
    "%matplotlib inline\n",
    "\n"
   ]
  },
  {
   "cell_type": "code",
   "execution_count": 2,
   "metadata": {},
   "outputs": [],
   "source": [
    "power_up = pd.read_csv('ad_power_up.csv')\n",
    "shop_up = pd.read_csv('ad_super_up_shop.csv')\n",
    "super_up = pd.read_csv('ad_super_up.csv')\n",
    "up_plus = pd.read_csv('ad_up_plus.csv')"
   ]
  },
  {
   "cell_type": "code",
   "execution_count": 3,
   "metadata": {},
   "outputs": [],
   "source": [
    "pu_ctr = pd.read_csv('power_up_ctr.csv')\n",
    "sus_ctr = pd.read_csv('shop_up_ctr.csv')\n",
    "su_ctr = pd.read_csv('super_up_ctr.csv')\n"
   ]
  },
  {
   "cell_type": "code",
   "execution_count": 4,
   "metadata": {},
   "outputs": [],
   "source": [
    "pu_ctr.columns = ['idx', 'pid', 'view_cnt', 'imp_cnt', 'ctr']\n",
    "sus_ctr. columns = ['idx', 'pid', 'view_cnt', 'imp_cnt', 'ctr']\n",
    "su_ctr.columns = ['idx', 'pid', 'view_cnt', 'imp_cnt', 'ctr']"
   ]
  },
  {
   "cell_type": "code",
   "execution_count": 5,
   "metadata": {},
   "outputs": [],
   "source": [
    "pids = pu_ctr['content_id'].unique().tolist() + sus_ctr['content_id'].unique().tolist() + su_ctr['content_id'].unique().tolist()\n",
    "pids = list(set(pids))\n",
    "ids = ','.join('\\''+str(i)+'\\'' for i in pids)"
   ]
  },
  {
   "cell_type": "code",
   "execution_count": 6,
   "metadata": {},
   "outputs": [],
   "source": [
    "q = f'''\n",
    "select id as content_id, left(category_id, 3) as three, left(category_id, 6) as six, category_id\n",
    "from service1_quicket.product_info\n",
    "where id in ({ids})\n",
    "'''\n",
    "df_ctr = pd.read_sql(q, con=redshift)"
   ]
  },
  {
   "cell_type": "code",
   "execution_count": 5,
   "metadata": {},
   "outputs": [],
   "source": [
    "# df_ctr.to_csv('sa_contents_info.csv', index=False)\n",
    "df_ctr = pd.read_csv('sa_contents_info.csv')"
   ]
  },
  {
   "cell_type": "code",
   "execution_count": 6,
   "metadata": {},
   "outputs": [],
   "source": [
    "df_ctr.columns = ['pid', 'three', 'six', 'category_id']"
   ]
  },
  {
   "cell_type": "markdown",
   "metadata": {},
   "source": [
    "SA 광고주를 1depth 또는 2depth 카테고리로 구분했을 때, \n",
    "- 광고주 수, \n",
    "- 광고 컨텐츠 수, \n",
    "- 컨텐츠 당 CTR, CPC는 어떠한가?"
   ]
  },
  {
   "cell_type": "code",
   "execution_count": 7,
   "metadata": {},
   "outputs": [],
   "source": [
    "pu = pd.merge(power_up[['uid', 'pid', 'cpc']], pu_ctr[['pid', 'ctr']], on ='pid')\n",
    "sus = pd.merge(shop_up[['uid', 'pid', 'cpc']], sus_ctr [['pid', 'ctr']], on='pid')\n",
    "su = pd.merge(super_up[['uid', 'pid', 'cpc']], su_ctr [['pid', 'ctr']], on='pid')"
   ]
  },
  {
   "cell_type": "code",
   "execution_count": 8,
   "metadata": {},
   "outputs": [],
   "source": [
    "pu = pd.merge(pu, df_ctr[['pid', 'category_id']], on = 'pid')\n",
    "sus = pd.merge(sus, df_ctr[['pid', 'category_id']], on = 'pid')\n",
    "su = pd.merge(su, df_ctr[['pid', 'category_id']], on ='pid')"
   ]
  },
  {
   "cell_type": "code",
   "execution_count": 10,
   "metadata": {},
   "outputs": [],
   "source": [
    "# sa_ads = pd.merge(pu, sus, on=['uid', 'pid', 'category_id'], how='outer')\n",
    "sa_ads = pd.merge(sa_ads, su, on=['uid','pid'], how='outer')"
   ]
  },
  {
   "cell_type": "code",
   "execution_count": 12,
   "metadata": {},
   "outputs": [],
   "source": [
    "one_depth = []\n",
    "two_depth = []\n",
    "for i in sa_ads['category_id'].astype(str):\n",
    "    one_depth.append(i[:3])\n",
    "    two_depth.append(i[:6])"
   ]
  },
  {
   "cell_type": "code",
   "execution_count": 13,
   "metadata": {},
   "outputs": [],
   "source": [
    "sa_ads['one_depth'] = one_depth\n",
    "sa_ads['two_depth'] = two_depth"
   ]
  },
  {
   "cell_type": "code",
   "execution_count": 15,
   "metadata": {},
   "outputs": [],
   "source": [
    "# sa_ads.fillna(0)\n",
    "sa_ads['cpc'] = (sa_ads['cpc_x'] + sa_ads['cpc_y'])/2"
   ]
  },
  {
   "cell_type": "code",
   "execution_count": 16,
   "metadata": {},
   "outputs": [],
   "source": [
    "sa_ads['ctr'] = (sa_ads['ctr_x'] + sa_ads['ctr_y'])/2"
   ]
  },
  {
   "cell_type": "code",
   "execution_count": 28,
   "metadata": {},
   "outputs": [],
   "source": [
    "sa_ads.groupby('two_depth')['uid'].nunique().to_csv('two_depth_uid.csv')"
   ]
  },
  {
   "cell_type": "code",
   "execution_count": 29,
   "metadata": {},
   "outputs": [],
   "source": [
    "sa_ads.groupby('two_depth')['pid'].nunique().to_csv('two_depth_pid.csv')"
   ]
  },
  {
   "cell_type": "code",
   "execution_count": 30,
   "metadata": {},
   "outputs": [],
   "source": [
    "sa_ads.groupby('two_depth')['cpc'].mean().to_csv('two_depth_cpc.csv')\n",
    "sa_ads.groupby('two_depth')['ctr'].mean().to_csv('two_depth_ctr.csv')"
   ]
  },
  {
   "cell_type": "code",
   "execution_count": null,
   "metadata": {},
   "outputs": [],
   "source": []
  }
 ],
 "metadata": {
  "kernelspec": {
   "display_name": "Python 3",
   "language": "python",
   "name": "python3"
  },
  "language_info": {
   "codemirror_mode": {
    "name": "ipython",
    "version": 3
   },
   "file_extension": ".py",
   "mimetype": "text/x-python",
   "name": "python",
   "nbconvert_exporter": "python",
   "pygments_lexer": "ipython3",
   "version": "3.7.5"
  }
 },
 "nbformat": 4,
 "nbformat_minor": 4
}