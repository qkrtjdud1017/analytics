{
 "cells": [
  {
   "cell_type": "code",
   "execution_count": 95,
   "metadata": {},
   "outputs": [],
   "source": [
    "import pandas as pd\n",
    "from sqlalchemy import create_engine\n",
    "from konlpy.tag import Kkma\n",
    "from konlpy.utils import pprint\n"
   ]
  },
  {
   "cell_type": "code",
   "execution_count": 132,
   "metadata": {},
   "outputs": [],
   "source": [
    "q = '''\n",
    "SELECT\n",
    "   TRIM(ref_term) AS ref_term,\n",
    "   content_id,\n",
    "   COUNT(content_id) AS label \n",
    "FROM\n",
    "   bun_log_app.app_event_type_view \n",
    "WHERE\n",
    "   YEAR || MONTH || DAY || HOUR >= '2020020315' \n",
    "   AND YEAR || MONTH || DAY || HOUR <= '2020020318' \n",
    "   AND user_id != '-1' \n",
    "   AND content_id != '-1' \n",
    "   AND ref_term IS NOT NULL \n",
    "   AND ref_term != '...' \n",
    "   AND content_id IS NOT NULL \n",
    "GROUP BY\n",
    "   TRIM(ref_term),\n",
    "   content_id \n",
    "HAVING\n",
    "   COUNT(content_id) >= 3'''\n",
    "df = pd.read_sql(q, con=redshift)"
   ]
  },
  {
   "cell_type": "code",
   "execution_count": 133,
   "metadata": {},
   "outputs": [],
   "source": [
    "kkma = Kkma()\n",
    "nouns = [' '.join(kkma.nouns(i)) for i in df['ref_term'].tolist()]\n",
    "sentences = [' '.join(kkma.sentences(i)) for i in df['ref_term'].tolist()]"
   ]
  },
  {
   "cell_type": "code",
   "execution_count": 140,
   "metadata": {},
   "outputs": [],
   "source": [
    "df['nouns'] = nouns\n",
    "df['sentences'] = sentences"
   ]
  },
  {
   "cell_type": "code",
   "execution_count": 217,
   "metadata": {},
   "outputs": [
    {
     "data": {
      "text/html": [
       "<div>\n",
       "<style scoped>\n",
       "    .dataframe tbody tr th:only-of-type {\n",
       "        vertical-align: middle;\n",
       "    }\n",
       "\n",
       "    .dataframe tbody tr th {\n",
       "        vertical-align: top;\n",
       "    }\n",
       "\n",
       "    .dataframe thead th {\n",
       "        text-align: right;\n",
       "    }\n",
       "</style>\n",
       "<table border=\"1\" class=\"dataframe\">\n",
       "  <thead>\n",
       "    <tr style=\"text-align: right;\">\n",
       "      <th></th>\n",
       "      <th>ref_term</th>\n",
       "      <th>content_id</th>\n",
       "      <th>label</th>\n",
       "      <th>nouns</th>\n",
       "      <th>sentences</th>\n",
       "    </tr>\n",
       "  </thead>\n",
       "  <tbody>\n",
       "    <tr>\n",
       "      <th>0</th>\n",
       "      <td>베이퍼맥스</td>\n",
       "      <td>116039729</td>\n",
       "      <td>3</td>\n",
       "      <td>베이 베이퍼맥스 퍼맥스</td>\n",
       "      <td>베이 퍼맥스</td>\n",
       "    </tr>\n",
       "    <tr>\n",
       "      <th>1</th>\n",
       "      <td>솔로이스트</td>\n",
       "      <td>110951649</td>\n",
       "      <td>4</td>\n",
       "      <td>솔로 솔로이스트 이스트</td>\n",
       "      <td>솔로 이스트</td>\n",
       "    </tr>\n",
       "    <tr>\n",
       "      <th>2</th>\n",
       "      <td>나이키</td>\n",
       "      <td>114052271</td>\n",
       "      <td>3</td>\n",
       "      <td>나이키</td>\n",
       "      <td>나이키</td>\n",
       "    </tr>\n",
       "    <tr>\n",
       "      <th>3</th>\n",
       "      <td>키르시 가디건</td>\n",
       "      <td>111168473</td>\n",
       "      <td>3</td>\n",
       "      <td>키 키르 르 디 디건 건</td>\n",
       "      <td>키 르시 가 디 건</td>\n",
       "    </tr>\n",
       "    <tr>\n",
       "      <th>4</th>\n",
       "      <td>2021</td>\n",
       "      <td>116531869</td>\n",
       "      <td>4</td>\n",
       "      <td>2021</td>\n",
       "      <td>2021</td>\n",
       "    </tr>\n",
       "  </tbody>\n",
       "</table>\n",
       "</div>"
      ],
      "text/plain": [
       "  ref_term content_id  label          nouns   sentences\n",
       "0    베이퍼맥스  116039729      3   베이 베이퍼맥스 퍼맥스      베이 퍼맥스\n",
       "1    솔로이스트  110951649      4   솔로 솔로이스트 이스트      솔로 이스트\n",
       "2      나이키  114052271      3            나이키         나이키\n",
       "3  키르시 가디건  111168473      3  키 키르 르 디 디건 건  키 르시 가 디 건\n",
       "4     2021  116531869      4           2021        2021"
      ]
     },
     "execution_count": 217,
     "metadata": {},
     "output_type": "execute_result"
    }
   ],
   "source": [
    "df.head()"
   ]
  },
  {
   "cell_type": "code",
   "execution_count": 218,
   "metadata": {},
   "outputs": [],
   "source": [
    "ref_term = df['sentences'].unique()\n",
    "row_number = range(len(ref_term))\n",
    "ref_term_label = pd.DataFrame.from_dict({'ref_term': ref_term, 'label': row_number})\n",
    "ref_term_label = ref_term_label.sort_values('ref_term')\n",
    "ref_term_label['ref_term'] = ref_term_label['ref_term'].astype(str)\n",
    "ref_term_label.to_csv('./ref_term_label.csv', index=False, header=False)"
   ]
  },
  {
   "cell_type": "code",
   "execution_count": 219,
   "metadata": {},
   "outputs": [],
   "source": [
    "content_id = df['content_id'].unique()\n",
    "row_number = range(len(content_id))\n",
    "content_id_label = pd.DataFrame.from_dict({'content_id': content_id, 'label': row_number})\n",
    "content_id_label = content_id_label.sort_values('content_id')\n",
    "content_id_label['content_id'] = content_id_label['content_id'].astype(str)\n",
    "content_id_label.to_csv('./content_id_label.csv', index=False, header=False)"
   ]
  },
  {
   "cell_type": "code",
   "execution_count": 220,
   "metadata": {},
   "outputs": [],
   "source": [
    "x = df[['ref_term', 'content_id', 'label']]\n",
    "y1 = content_id_label\n",
    "y2 = ref_term_label\n",
    "keyword_label = pd.merge(x, y1, on='content_id')\n",
    "keyword_label = pd.merge(keyword_label, y2, on='ref_term')\n",
    "keyword_label.columns = ['ref_term', 'content_id', 'label', 'content_id_label', 'ref_term_label']\n",
    "keyword_label['max_content_id_label'] = keyword_label['content_id_label'].max()\n",
    "keyword_label['max_ref_term_label'] = keyword_label['ref_term_label'].max()"
   ]
  },
  {
   "cell_type": "code",
   "execution_count": 221,
   "metadata": {},
   "outputs": [],
   "source": [
    "for column in keyword_label.columns:\n",
    "    keyword_label[column] = keyword_label[column].astype(str)"
   ]
  },
  {
   "cell_type": "code",
   "execution_count": 222,
   "metadata": {},
   "outputs": [],
   "source": [
    "libsvm = []\n",
    "for i in range(len(keyword_label)):\n",
    "    r = keyword_label.iloc[i]\n",
    "    s = r['label'] + ' ' + r['content_id_label'] + ':1 ' + str(int(r['ref_term_label']) + int(r['max_content_id_label'])) + ':1'\n",
    "    libsvm.append(s)\n",
    "libsvm_csv = pd.DataFrame.from_dict({'libsvm': libsvm})\n",
    "libsvm_csv.to_csv('./libsvm.csv', index=False, header=False)"
   ]
  },
  {
   "cell_type": "code",
   "execution_count": null,
   "metadata": {},
   "outputs": [],
   "source": []
  },
  {
   "cell_type": "code",
   "execution_count": null,
   "metadata": {},
   "outputs": [],
   "source": []
  },
  {
   "cell_type": "code",
   "execution_count": null,
   "metadata": {},
   "outputs": [],
   "source": []
  },
  {
   "cell_type": "code",
   "execution_count": null,
   "metadata": {},
   "outputs": [],
   "source": []
  },
  {
   "cell_type": "code",
   "execution_count": 101,
   "metadata": {},
   "outputs": [],
   "source": [
    "df['new_keyword'] = new_keyword\n",
    "group = df.groupby('new_keyword', as_index=False)['label'].sum()"
   ]
  },
  {
   "cell_type": "code",
   "execution_count": 130,
   "metadata": {},
   "outputs": [],
   "source": [
    "\n",
    "df.to_csv('./konlpy.csv')"
   ]
  },
  {
   "cell_type": "code",
   "execution_count": 117,
   "metadata": {},
   "outputs": [],
   "source": [
    "l = []\n",
    "for i in df['ref_term'].tolist():\n",
    "    words = kkma.nouns(i)\n",
    "    for w in words:\n",
    "        if w not in l:\n",
    "            l.append(w)"
   ]
  },
  {
   "cell_type": "code",
   "execution_count": 129,
   "metadata": {},
   "outputs": [
    {
     "data": {
      "text/plain": [
       "['럭', '럭시10', '시', '10']"
      ]
     },
     "execution_count": 129,
     "metadata": {},
     "output_type": "execute_result"
    }
   ],
   "source": [
    "kkma.nouns('갤럭시10')"
   ]
  },
  {
   "cell_type": "code",
   "execution_count": null,
   "metadata": {},
   "outputs": [],
   "source": []
  }
 ],
 "metadata": {
  "kernelspec": {
   "display_name": "Python 3",
   "language": "python",
   "name": "python3"
  },
  "language_info": {
   "codemirror_mode": {
    "name": "ipython",
    "version": 3
   },
   "file_extension": ".py",
   "mimetype": "text/x-python",
   "name": "python",
   "nbconvert_exporter": "python",
   "pygments_lexer": "ipython3",
   "version": "3.7.5"
  }
 },
 "nbformat": 4,
 "nbformat_minor": 4
}