{
 "cells": [
  {
   "cell_type": "code",
   "execution_count": 2,
   "metadata": {},
   "outputs": [],
   "source": [
    "import ndjson\n",
    "df = None\n",
    "with open('./data/product_brand_ner_data.ndjson', 'r', encoding='utf8') as f:\n",
    "    df = ndjson.load(f)"
   ]
  },
  {
   "cell_type": "code",
   "execution_count": 3,
   "metadata": {},
   "outputs": [
    {
     "data": {
      "text/plain": [
       "{'brands': ['나이키'], 'spans': [[6, 9]], 'text': '(새상품) 나이키 농구화 척포짓 240~300'}"
      ]
     },
     "execution_count": 3,
     "metadata": {},
     "output_type": "execute_result"
    }
   ],
   "source": [
    "df[0]"
   ]
  },
  {
   "cell_type": "code",
   "execution_count": 4,
   "metadata": {},
   "outputs": [],
   "source": [
    "brands = []\n",
    "texts = []\n",
    "spans = []\n",
    "for i in df:\n",
    "    brands.append(i['brands'])\n",
    "    texts.append(i['text'])\n",
    "    spans.append(i['spans'])"
   ]
  },
  {
   "cell_type": "code",
   "execution_count": 5,
   "metadata": {},
   "outputs": [
    {
     "name": "stdout",
     "output_type": "stream",
     "text": [
      "True\n"
     ]
    }
   ],
   "source": [
    "print(len(brands) == len(spans) == len(texts))"
   ]
  },
  {
   "cell_type": "code",
   "execution_count": 6,
   "metadata": {},
   "outputs": [],
   "source": [
    "import pandas as pd\n",
    "data = pd.DataFrame.from_dict({\n",
    "    'brand': brands,\n",
    "    'text': texts,\n",
    "    'span': spans\n",
    "})"
   ]
  },
  {
   "cell_type": "code",
   "execution_count": 7,
   "metadata": {
    "scrolled": false
   },
   "outputs": [
    {
     "data": {
      "text/html": [
       "<div>\n",
       "<style scoped>\n",
       "    .dataframe tbody tr th:only-of-type {\n",
       "        vertical-align: middle;\n",
       "    }\n",
       "\n",
       "    .dataframe tbody tr th {\n",
       "        vertical-align: top;\n",
       "    }\n",
       "\n",
       "    .dataframe thead th {\n",
       "        text-align: right;\n",
       "    }\n",
       "</style>\n",
       "<table border=\"1\" class=\"dataframe\">\n",
       "  <thead>\n",
       "    <tr style=\"text-align: right;\">\n",
       "      <th></th>\n",
       "      <th>brand</th>\n",
       "      <th>text</th>\n",
       "      <th>span</th>\n",
       "    </tr>\n",
       "  </thead>\n",
       "  <tbody>\n",
       "    <tr>\n",
       "      <th>390609</th>\n",
       "      <td>[노스페이스]</td>\n",
       "      <td>95 노스페이스 플러피 리모핏 후리스 집업</td>\n",
       "      <td>[[3, 8]]</td>\n",
       "    </tr>\n",
       "    <tr>\n",
       "      <th>343758</th>\n",
       "      <td>[아디다스]</td>\n",
       "      <td>아디다스 키즈 운동화 샌들 아사히 포켓몬 실내화 140 150</td>\n",
       "      <td>[[0, 4]]</td>\n",
       "    </tr>\n",
       "    <tr>\n",
       "      <th>16297</th>\n",
       "      <td>[나이키]</td>\n",
       "      <td>나이키 여성 에어로로프트조끼</td>\n",
       "      <td>[[0, 3]]</td>\n",
       "    </tr>\n",
       "    <tr>\n",
       "      <th>893105</th>\n",
       "      <td>[오프화이트]</td>\n",
       "      <td>오프화이트 반팔티 오버핏 l사이즈 100</td>\n",
       "      <td>[[0, 5]]</td>\n",
       "    </tr>\n",
       "    <tr>\n",
       "      <th>1665832</th>\n",
       "      <td>[디스커버리]</td>\n",
       "      <td>디스커버리 패딩 95size 베이지색</td>\n",
       "      <td>[[0, 5]]</td>\n",
       "    </tr>\n",
       "    <tr>\n",
       "      <th>1124172</th>\n",
       "      <td>[폴로]</td>\n",
       "      <td>[usxl] 폴로 랄프로렌 면 100% 케이블 니트 남녀공용</td>\n",
       "      <td>[[7, 9]]</td>\n",
       "    </tr>\n",
       "    <tr>\n",
       "      <th>1225402</th>\n",
       "      <td>[balenciaga]</td>\n",
       "      <td>벨렌시아가 귀걸이 balenciaga st</td>\n",
       "      <td>[[10, 20]]</td>\n",
       "    </tr>\n",
       "    <tr>\n",
       "      <th>682879</th>\n",
       "      <td>[gucci]</td>\n",
       "      <td>정 19ss gucci 볼캡 m</td>\n",
       "      <td>[[7, 12]]</td>\n",
       "    </tr>\n",
       "    <tr>\n",
       "      <th>1215866</th>\n",
       "      <td>[발렌시아가]</td>\n",
       "      <td>[xs] 발렌시아가 크라운로고 후드티 팝니다</td>\n",
       "      <td>[[5, 10]]</td>\n",
       "    </tr>\n",
       "    <tr>\n",
       "      <th>76373</th>\n",
       "      <td>[나이키]</td>\n",
       "      <td>나이키 p6000 택달린 새제품 판매 (240)</td>\n",
       "      <td>[[0, 3]]</td>\n",
       "    </tr>\n",
       "    <tr>\n",
       "      <th>1254929</th>\n",
       "      <td>[캐나다구스]</td>\n",
       "      <td>캐나다구스  익스페디션  블랙  퓨전 l 사이즈팝니다</td>\n",
       "      <td>[[0, 5]]</td>\n",
       "    </tr>\n",
       "    <tr>\n",
       "      <th>851689</th>\n",
       "      <td>[루이비통]</td>\n",
       "      <td>[정품] 급처 가격내림 루이비통 모노그램 보부르 메신저 크로스 백</td>\n",
       "      <td>[[13, 17]]</td>\n",
       "    </tr>\n",
       "    <tr>\n",
       "      <th>133820</th>\n",
       "      <td>[나이키]</td>\n",
       "      <td>나이키 미니드럼백 판매.</td>\n",
       "      <td>[[0, 3]]</td>\n",
       "    </tr>\n",
       "    <tr>\n",
       "      <th>148779</th>\n",
       "      <td>[나이키]</td>\n",
       "      <td>나이키 맨투맨(조던 맨투맨)</td>\n",
       "      <td>[[0, 3]]</td>\n",
       "    </tr>\n",
       "    <tr>\n",
       "      <th>408756</th>\n",
       "      <td>[노스페이스]</td>\n",
       "      <td>노스페이스 맥머도 숏패딩</td>\n",
       "      <td>[[0, 5]]</td>\n",
       "    </tr>\n",
       "    <tr>\n",
       "      <th>225322</th>\n",
       "      <td>[나이키]</td>\n",
       "      <td>나이키 업템포 바시티레드 270</td>\n",
       "      <td>[[0, 3]]</td>\n",
       "    </tr>\n",
       "    <tr>\n",
       "      <th>995762</th>\n",
       "      <td>[샤넬]</td>\n",
       "      <td>샤넬 보이백 램스킨 25 16</td>\n",
       "      <td>[[0, 2]]</td>\n",
       "    </tr>\n",
       "    <tr>\n",
       "      <th>1340061</th>\n",
       "      <td>[시스템]</td>\n",
       "      <td>시스템 자켓(55)</td>\n",
       "      <td>[[0, 3]]</td>\n",
       "    </tr>\n",
       "    <tr>\n",
       "      <th>137295</th>\n",
       "      <td>[나이키]</td>\n",
       "      <td>후루룩구제 230 나이키 에어하이츠 운동화 중고가방신발</td>\n",
       "      <td>[[10, 13]]</td>\n",
       "    </tr>\n",
       "    <tr>\n",
       "      <th>1569194</th>\n",
       "      <td>[비비안웨스트우드]</td>\n",
       "      <td>비비안웨스트우드 가죽가방</td>\n",
       "      <td>[[0, 8]]</td>\n",
       "    </tr>\n",
       "  </tbody>\n",
       "</table>\n",
       "</div>"
      ],
      "text/plain": [
       "                brand                                  text        span\n",
       "390609        [노스페이스]               95 노스페이스 플러피 리모핏 후리스 집업    [[3, 8]]\n",
       "343758         [아디다스]    아디다스 키즈 운동화 샌들 아사히 포켓몬 실내화 140 150    [[0, 4]]\n",
       "16297           [나이키]                       나이키 여성 에어로로프트조끼    [[0, 3]]\n",
       "893105        [오프화이트]                오프화이트 반팔티 오버핏 l사이즈 100    [[0, 5]]\n",
       "1665832       [디스커버리]                  디스커버리 패딩 95size 베이지색    [[0, 5]]\n",
       "1124172          [폴로]     [usxl] 폴로 랄프로렌 면 100% 케이블 니트 남녀공용    [[7, 9]]\n",
       "1225402  [balenciaga]               벨렌시아가 귀걸이 balenciaga st  [[10, 20]]\n",
       "682879        [gucci]                     정 19ss gucci 볼캡 m   [[7, 12]]\n",
       "1215866       [발렌시아가]              [xs] 발렌시아가 크라운로고 후드티 팝니다   [[5, 10]]\n",
       "76373           [나이키]            나이키 p6000 택달린 새제품 판매 (240)    [[0, 3]]\n",
       "1254929       [캐나다구스]         캐나다구스  익스페디션  블랙  퓨전 l 사이즈팝니다    [[0, 5]]\n",
       "851689         [루이비통]  [정품] 급처 가격내림 루이비통 모노그램 보부르 메신저 크로스 백  [[13, 17]]\n",
       "133820          [나이키]                         나이키 미니드럼백 판매.    [[0, 3]]\n",
       "148779          [나이키]                       나이키 맨투맨(조던 맨투맨)    [[0, 3]]\n",
       "408756        [노스페이스]                         노스페이스 맥머도 숏패딩    [[0, 5]]\n",
       "225322          [나이키]                     나이키 업템포 바시티레드 270    [[0, 3]]\n",
       "995762           [샤넬]                      샤넬 보이백 램스킨 25 16    [[0, 2]]\n",
       "1340061         [시스템]                            시스템 자켓(55)    [[0, 3]]\n",
       "137295          [나이키]        후루룩구제 230 나이키 에어하이츠 운동화 중고가방신발  [[10, 13]]\n",
       "1569194    [비비안웨스트우드]                         비비안웨스트우드 가죽가방    [[0, 8]]"
      ]
     },
     "execution_count": 7,
     "metadata": {},
     "output_type": "execute_result"
    }
   ],
   "source": [
    "data.sample(n=20)"
   ]
  },
  {
   "cell_type": "code",
   "execution_count": 8,
   "metadata": {},
   "outputs": [],
   "source": [
    "# def labeling(label, text):\n",
    "#     return [(char, label) for char in text]\n",
    "\n",
    "def branding(text, spans):\n",
    "    length = len(text)\n",
    "    labels = [0] * length\n",
    "    if len(spans) > 0:\n",
    "        for span in spans:\n",
    "            b = span[0]\n",
    "            e = span[1]\n",
    "            labels[b:e] = [1] * (e-b)\n",
    "    return [(text[idx], '1') if value == 1 else (text[idx], '0') for idx, value in enumerate(labels)]\n",
    "        "
   ]
  },
  {
   "cell_type": "code",
   "execution_count": 9,
   "metadata": {},
   "outputs": [
    {
     "data": {
      "text/plain": [
       "[('c', '1'),\n",
       " ('o', '1'),\n",
       " ('s', '1'),\n",
       " (' ', '0'),\n",
       " ('코', '1'),\n",
       " ('스', '1'),\n",
       " (' ', '0'),\n",
       " ('레', '0'),\n",
       " ('더', '0'),\n",
       " ('패', '0'),\n",
       " ('치', '0'),\n",
       " (' ', '0'),\n",
       " ('울', '0'),\n",
       " (' ', '0'),\n",
       " ('크', '0'),\n",
       " ('루', '0'),\n",
       " ('넥', '0'),\n",
       " (' ', '0'),\n",
       " ('스', '0'),\n",
       " ('웨', '0'),\n",
       " ('터', '0'),\n",
       " (' ', '0'),\n",
       " ('/', '0'),\n",
       " (' ', '0'),\n",
       " ('라', '0'),\n",
       " ('운', '0'),\n",
       " ('드', '0'),\n",
       " (' ', '0'),\n",
       " ('니', '0'),\n",
       " ('트', '0')]"
      ]
     },
     "execution_count": 9,
     "metadata": {},
     "output_type": "execute_result"
    }
   ],
   "source": [
    "branding('cos 코스 레더패치 울 크루넥 스웨터 / 라운드 니트', [[4, 6], [0, 3]])"
   ]
  },
  {
   "cell_type": "code",
   "execution_count": 10,
   "metadata": {},
   "outputs": [],
   "source": [
    "def generate_templates(begin=-2, end=2, min_range_length=3, max_range_length=5):\n",
    "    templates = []\n",
    "    for b in range(begin, end):\n",
    "        for e in range(b, end+1):\n",
    "            length = (e - b + 1)\n",
    "            if length > max_range_length or length < min_range_length:\n",
    "                continue\n",
    "            if b * e > 0:\n",
    "                continue\n",
    "            templates.append((b, e))\n",
    "    return templates"
   ]
  },
  {
   "cell_type": "code",
   "execution_count": 11,
   "metadata": {},
   "outputs": [
    {
     "name": "stdout",
     "output_type": "stream",
     "text": [
      "[(-2, 0), (-2, 1), (-2, 2), (-1, 1), (-1, 2), (0, 2)]\n"
     ]
    }
   ],
   "source": [
    "templates = generate_templates()\n",
    "print(templates)"
   ]
  },
  {
   "cell_type": "code",
   "execution_count": 12,
   "metadata": {},
   "outputs": [
    {
     "data": {
      "text/plain": [
       "{1: 2, 2: 3, 3: 4}"
      ]
     },
     "execution_count": 12,
     "metadata": {},
     "output_type": "execute_result"
    }
   ],
   "source": [
    "dict(zip([1,2,3], [2,3,4]))"
   ]
  },
  {
   "cell_type": "code",
   "execution_count": 13,
   "metadata": {},
   "outputs": [],
   "source": [
    "class CharacterFeatureTransformer:\n",
    "    def __init__(self, begin=-2, end=2, min_range_length=3, max_range_length=5):\n",
    "        self.templates = self._generate_templates(begin, end, min_range_length, max_range_length)\n",
    "    \n",
    "    def _generate_templates(self, begin=-2, end=2, min_range_length=3, max_range_length=5):\n",
    "        templates = []\n",
    "        for b in range(begin, end):\n",
    "            for e in range(b, end+1):\n",
    "                length = (e - b + 1)\n",
    "                if length > max_range_length or length < min_range_length:\n",
    "                    continue\n",
    "                if b * e > 0:\n",
    "                    continue\n",
    "                templates.append((b, e))\n",
    "        return templates        \n",
    "    \n",
    "    def get_features(self, text, i, tags=None):\n",
    "        features = {\n",
    "            'char_position': i,\n",
    "            'char': text[i]\n",
    "        }\n",
    "        e_max = len(text)\n",
    "        keys = []\n",
    "        values = []\n",
    "        for t in self.templates:\n",
    "            b = i + t[0]\n",
    "            e = i + t[1] + 1\n",
    "            if b < 0 or e > e_max:\n",
    "                continue\n",
    "            keys.append('x[%d, %d]' % (t[0], t[1]))\n",
    "            values.append([text[b:e]])\n",
    "        features.update(dict(zip(keys, values)))\n",
    "        return features"
   ]
  },
  {
   "cell_type": "code",
   "execution_count": 14,
   "metadata": {},
   "outputs": [
    {
     "data": {
      "text/plain": [
       "{'char': '키',\n",
       " 'char_position': 2,\n",
       " 'x[-1, 1]': ['이키 '],\n",
       " 'x[-1, 2]': ['이키 조'],\n",
       " 'x[-2, 0]': ['나이키'],\n",
       " 'x[-2, 1]': ['나이키 '],\n",
       " 'x[-2, 2]': ['나이키 조'],\n",
       " 'x[0, 2]': ['키 조']}"
      ]
     },
     "execution_count": 14,
     "metadata": {},
     "output_type": "execute_result"
    }
   ],
   "source": [
    "cft = CharacterFeatureTransformer()\n",
    "cft.get_features('나이키 조던 운동화', 2)"
   ]
  },
  {
   "cell_type": "code",
   "execution_count": 15,
   "metadata": {},
   "outputs": [],
   "source": [
    "from tqdm import tqdm \n",
    "\n",
    "class DataLoader:\n",
    "    def __init__(self, cft):\n",
    "        self.cft = cft\n",
    "    \n",
    "    def get_data(self, brands, texts, spans):\n",
    "        branding_list = []\n",
    "        word2features_list = []\n",
    "        label_list = []\n",
    "        brand_list = []\n",
    "        for idx, text in tqdm(enumerate(texts)):\n",
    "            if len(brands[idx]) > 0:\n",
    "                brand = brands[idx][0]\n",
    "            else:\n",
    "                brand = ''\n",
    "            brand_list.append(brand)\n",
    "            span = spans[idx]\n",
    "            br = branding(text, span)\n",
    "            branding_list.append(br)\n",
    "            w2f = [self.cft.get_features(text, i) for i in range(len(text))]\n",
    "            word2features_list.append(w2f)\n",
    "            label = [label for char, label in br]\n",
    "            label_list.append(label)\n",
    "        return {\n",
    "            'name': texts,\n",
    "            'branding_list': branding_list, \n",
    "            'word2features_list': word2features_list, \n",
    "            'label_list': label_list,\n",
    "            'brand': brand_list\n",
    "           }"
   ]
  },
  {
   "cell_type": "code",
   "execution_count": 16,
   "metadata": {},
   "outputs": [
    {
     "data": {
      "text/plain": [
       "1765196"
      ]
     },
     "execution_count": 16,
     "metadata": {},
     "output_type": "execute_result"
    }
   ],
   "source": [
    "len(texts)"
   ]
  },
  {
   "cell_type": "code",
   "execution_count": 17,
   "metadata": {},
   "outputs": [],
   "source": [
    "import numpy as np\n",
    "\n",
    "idx_sample_list = np.random.choice(len(texts), 500000)"
   ]
  },
  {
   "cell_type": "code",
   "execution_count": 18,
   "metadata": {},
   "outputs": [
    {
     "name": "stderr",
     "output_type": "stream",
     "text": [
      "/Users/emilyPark/.pyenv/versions/bun-analytics/lib/python3.7/site-packages/ipykernel_launcher.py:3: VisibleDeprecationWarning: Creating an ndarray from ragged nested sequences (which is a list-or-tuple of lists-or-tuples-or ndarrays with different lengths or shapes) is deprecated. If you meant to do this, you must specify 'dtype=object' when creating the ndarray\n",
      "  This is separate from the ipykernel package so we can avoid doing imports until\n",
      "/Users/emilyPark/.pyenv/versions/bun-analytics/lib/python3.7/site-packages/ipykernel_launcher.py:5: VisibleDeprecationWarning: Creating an ndarray from ragged nested sequences (which is a list-or-tuple of lists-or-tuples-or ndarrays with different lengths or shapes) is deprecated. If you meant to do this, you must specify 'dtype=object' when creating the ndarray\n",
      "  \"\"\"\n",
      "500000it [03:07, 2672.30it/s]\n"
     ]
    }
   ],
   "source": [
    "cft = CharacterFeatureTransformer()\n",
    "dl = DataLoader(cft)\n",
    "data = dl.get_data(np.array(brands)[idx_sample_list].tolist(), \n",
    "                   np.array(texts)[idx_sample_list].tolist(), \n",
    "                   np.array(spans)[idx_sample_list].tolist())"
   ]
  },
  {
   "cell_type": "code",
   "execution_count": 19,
   "metadata": {},
   "outputs": [],
   "source": [
    "import json\n",
    "import pickle\n",
    "\n",
    "data_json = json.dumps(data)\n",
    "with open('data_for_crf.pickle', 'wb') as f:\n",
    "    pickle.dump(data_json, f)"
   ]
  },
  {
   "cell_type": "code",
   "execution_count": 20,
   "metadata": {},
   "outputs": [
    {
     "data": {
      "text/html": [
       "<div>\n",
       "<style scoped>\n",
       "    .dataframe tbody tr th:only-of-type {\n",
       "        vertical-align: middle;\n",
       "    }\n",
       "\n",
       "    .dataframe tbody tr th {\n",
       "        vertical-align: top;\n",
       "    }\n",
       "\n",
       "    .dataframe thead th {\n",
       "        text-align: right;\n",
       "    }\n",
       "</style>\n",
       "<table border=\"1\" class=\"dataframe\">\n",
       "  <thead>\n",
       "    <tr style=\"text-align: right;\">\n",
       "      <th></th>\n",
       "      <th>name</th>\n",
       "      <th>branding_list</th>\n",
       "      <th>word2features_list</th>\n",
       "      <th>label_list</th>\n",
       "      <th>brand</th>\n",
       "    </tr>\n",
       "  </thead>\n",
       "  <tbody>\n",
       "    <tr>\n",
       "      <th>0</th>\n",
       "      <td>프라다 패딩셔츠</td>\n",
       "      <td>[(프, 1), (라, 1), (다, 1), ( , 0), (패, 0), (딩, 0...</td>\n",
       "      <td>[{'char_position': 0, 'char': '프', 'x[0, 2]': ...</td>\n",
       "      <td>[1, 1, 1, 0, 0, 0, 0, 0]</td>\n",
       "      <td>프라다</td>\n",
       "    </tr>\n",
       "    <tr>\n",
       "      <th>1</th>\n",
       "      <td>[50] 라프시몬스 아이솔레이티드 히어로즈 파카 블랙</td>\n",
       "      <td>[([, 0), (5, 0), (0, 0), (], 0), ( , 0), (라, 1...</td>\n",
       "      <td>[{'char_position': 0, 'char': '[', 'x[0, 2]': ...</td>\n",
       "      <td>[0, 0, 0, 0, 0, 1, 1, 1, 1, 1, 0, 0, 0, 0, 0, ...</td>\n",
       "      <td>라프시몬스</td>\n",
       "    </tr>\n",
       "    <tr>\n",
       "      <th>2</th>\n",
       "      <td>nike s/s athletic cut cotton treign sz s</td>\n",
       "      <td>[(n, 1), (i, 1), (k, 1), (e, 1), ( , 0), (s, 0...</td>\n",
       "      <td>[{'char_position': 0, 'char': 'n', 'x[0, 2]': ...</td>\n",
       "      <td>[1, 1, 1, 1, 0, 0, 0, 0, 0, 0, 0, 0, 0, 0, 0, ...</td>\n",
       "      <td>nike</td>\n",
       "    </tr>\n",
       "    <tr>\n",
       "      <th>3</th>\n",
       "      <td>나이키 후리스 반집업 긴팔 xl</td>\n",
       "      <td>[(나, 1), (이, 1), (키, 1), ( , 0), (후, 0), (리, 0...</td>\n",
       "      <td>[{'char_position': 0, 'char': '나', 'x[0, 2]': ...</td>\n",
       "      <td>[1, 1, 1, 0, 0, 0, 0, 0, 0, 0, 0, 0, 0, 0, 0, ...</td>\n",
       "      <td>나이키</td>\n",
       "    </tr>\n",
       "    <tr>\n",
       "      <th>4</th>\n",
       "      <td>폴로 벙거지햇</td>\n",
       "      <td>[(폴, 1), (로, 1), ( , 0), (벙, 0), (거, 0), (지, 0...</td>\n",
       "      <td>[{'char_position': 0, 'char': '폴', 'x[0, 2]': ...</td>\n",
       "      <td>[1, 1, 0, 0, 0, 0, 0]</td>\n",
       "      <td>폴로</td>\n",
       "    </tr>\n",
       "  </tbody>\n",
       "</table>\n",
       "</div>"
      ],
      "text/plain": [
       "                                       name  \\\n",
       "0                                  프라다 패딩셔츠   \n",
       "1             [50] 라프시몬스 아이솔레이티드 히어로즈 파카 블랙   \n",
       "2  nike s/s athletic cut cotton treign sz s   \n",
       "3                         나이키 후리스 반집업 긴팔 xl   \n",
       "4                                   폴로 벙거지햇   \n",
       "\n",
       "                                       branding_list  \\\n",
       "0  [(프, 1), (라, 1), (다, 1), ( , 0), (패, 0), (딩, 0...   \n",
       "1  [([, 0), (5, 0), (0, 0), (], 0), ( , 0), (라, 1...   \n",
       "2  [(n, 1), (i, 1), (k, 1), (e, 1), ( , 0), (s, 0...   \n",
       "3  [(나, 1), (이, 1), (키, 1), ( , 0), (후, 0), (리, 0...   \n",
       "4  [(폴, 1), (로, 1), ( , 0), (벙, 0), (거, 0), (지, 0...   \n",
       "\n",
       "                                  word2features_list  \\\n",
       "0  [{'char_position': 0, 'char': '프', 'x[0, 2]': ...   \n",
       "1  [{'char_position': 0, 'char': '[', 'x[0, 2]': ...   \n",
       "2  [{'char_position': 0, 'char': 'n', 'x[0, 2]': ...   \n",
       "3  [{'char_position': 0, 'char': '나', 'x[0, 2]': ...   \n",
       "4  [{'char_position': 0, 'char': '폴', 'x[0, 2]': ...   \n",
       "\n",
       "                                          label_list  brand  \n",
       "0                           [1, 1, 1, 0, 0, 0, 0, 0]    프라다  \n",
       "1  [0, 0, 0, 0, 0, 1, 1, 1, 1, 1, 0, 0, 0, 0, 0, ...  라프시몬스  \n",
       "2  [1, 1, 1, 1, 0, 0, 0, 0, 0, 0, 0, 0, 0, 0, 0, ...   nike  \n",
       "3  [1, 1, 1, 0, 0, 0, 0, 0, 0, 0, 0, 0, 0, 0, 0, ...    나이키  \n",
       "4                              [1, 1, 0, 0, 0, 0, 0]     폴로  "
      ]
     },
     "execution_count": 20,
     "metadata": {},
     "output_type": "execute_result"
    }
   ],
   "source": [
    "df = pd.DataFrame.from_dict(data)\n",
    "df.head()"
   ]
  },
  {
   "cell_type": "code",
   "execution_count": 100,
   "metadata": {},
   "outputs": [
    {
     "data": {
      "text/plain": [
       "나이키          66424\n",
       "아디다스         23757\n",
       "폴로           21514\n",
       "구찌           19069\n",
       "루이비통         13484\n",
       "             ...  \n",
       "필립프레인            1\n",
       "키이쓰              1\n",
       "삼성 라이온즈          1\n",
       "onitsuka         1\n",
       "vera wang        1\n",
       "Name: brand, Length: 717, dtype: int64"
      ]
     },
     "execution_count": 100,
     "metadata": {},
     "output_type": "execute_result"
    }
   ],
   "source": [
    "df['brand'].value_counts()"
   ]
  },
  {
   "cell_type": "code",
   "execution_count": 104,
   "metadata": {},
   "outputs": [],
   "source": [
    "from sklearn_crfsuite import metrics, CRF\n",
    "from sklearn.model_selection import train_test_split\n",
    "import pickle\n",
    "import numpy as np\n",
    "import pandas as pd\n",
    "\n",
    "class CrfBrandDetector:\n",
    "    def __init__(self):\n",
    "        self.df = None\n",
    "        self.test_index = None\n",
    "        self.crf = None\n",
    "        self.y_pred = None\n",
    "    \n",
    "    def train_test_split(self, df, test_size=0.2, random_state=123):\n",
    "        self.df = df\n",
    "        x_train, x_test, y_train, y_test = train_test_split(\n",
    "            self.df['word2features_list'], self.df['label_list'],\n",
    "            test_size=test_size,\n",
    "            random_state=random_state\n",
    "        )\n",
    "        self.test_index = x_test.index\n",
    "        return x_train, x_test, y_train, y_test\n",
    "    \n",
    "    def fit(self, x_train, y_train):\n",
    "        self.crf = CRF(\n",
    "            algorithm='lbfgs',\n",
    "            c1=0.05,\n",
    "            c2=0.05,\n",
    "            max_iterations=100,\n",
    "            all_possible_states=True\n",
    "        )\n",
    "        self.crf.fit(x_train, y_train)\n",
    "    \n",
    "    def save_model(self, model_file_name='crf_model.sav'):\n",
    "        pickle.dump(self.crf, open(model_file_name, 'wb'))\n",
    "        \n",
    "    def predict(self, x):\n",
    "        title = [[diction['char'] for diction in obs] for obs in x]\n",
    "        self.y_pred = self.crf.predict(x)\n",
    "        idx = [[True if label == '1' else False for label in obs] for obs in self.y_pred]\n",
    "        preds = [''.join(np.array(title[i])[idx[i]]) for i in range(len(title))]\n",
    "        df_pred = pd.concat([\n",
    "            self.df[self.df.index.isin(self.test_index)].reindex(self.test_index).reset_index()['name'],\n",
    "            pd.DataFrame(preds)\n",
    "        ], axis=1)\n",
    "        df_pred.columns = ['product_name', 'predicted_brand']\n",
    "#         df_pred['predicted_brand'] = df_pred.apply(\n",
    "#             lambda row: row.predicted_brand if row.predicted_brand in row['product_name'].lower()\n",
    "#             else row.predicted_brand.split(), axis=1\n",
    "#         )\n",
    "        return df_pred\n",
    "\n",
    "    def get_y_pred(self):\n",
    "        return self.y_pred\n",
    "    \n",
    "    def report_classification(self, x_test, y_test):\n",
    "        labels = list(self.crf.classes_)\n",
    "        labels.remove('0')\n",
    "        print(metrics.flat_classification_report(\n",
    "            y_test,\n",
    "            self.y_pred,\n",
    "            labels=labels,\n",
    "            digits=3\n",
    "        ))\n",
    "\n",
    "    def evaluate(self, y_test):\n",
    "        acc = float(list(y_test == self.y_pred).count(True)) / len(self.y_pred)\n",
    "        return acc"
   ]
  },
  {
   "cell_type": "code",
   "execution_count": null,
   "metadata": {},
   "outputs": [
    {
     "name": "stdout",
     "output_type": "stream",
     "text": [
      "Start Time = 09:26:37\n"
     ]
    }
   ],
   "source": [
    "from datetime import datetime\n",
    "\n",
    "now = datetime.now()\n",
    "\n",
    "current_time = now.strftime(\"%H:%M:%S\")\n",
    "print(\"Start Time =\", current_time)\n",
    "\n",
    "crf_model = CrfBrandDetector()\n",
    "x_train, x_test, y_train, y_test = crf_model.train_test_split(df)\n",
    "crf_model.fit(x_train, y_train)\n",
    "\n",
    "current_time = now.strftime(\"%H:%M:%S\")\n",
    "print(\"End Time =\", current_time)"
   ]
  },
  {
   "cell_type": "code",
   "execution_count": 94,
   "metadata": {},
   "outputs": [
    {
     "data": {
      "text/plain": [
       "112430    [{'char_position': 0, 'char': '1', 'x[0, 2]': ...\n",
       "338861    [{'char_position': 0, 'char': '폴', 'x[0, 2]': ...\n",
       "464653    [{'char_position': 0, 'char': '프', 'x[0, 2]': ...\n",
       "344237    [{'char_position': 0, 'char': '자', 'x[0, 2]': ...\n",
       "356227    [{'char_position': 0, 'char': '나', 'x[0, 2]': ...\n",
       "Name: word2features_list, dtype: object"
      ]
     },
     "execution_count": 94,
     "metadata": {},
     "output_type": "execute_result"
    }
   ],
   "source": [
    "x_test.head()"
   ]
  },
  {
   "cell_type": "code",
   "execution_count": 83,
   "metadata": {},
   "outputs": [],
   "source": [
    "pred = crf_model.predict(x_test)"
   ]
  },
  {
   "cell_type": "code",
   "execution_count": 87,
   "metadata": {},
   "outputs": [],
   "source": [
    "y_pred = crf_model.get_y_pred()"
   ]
  },
  {
   "cell_type": "code",
   "execution_count": 97,
   "metadata": {},
   "outputs": [
    {
     "data": {
      "text/plain": [
       "['0',\n",
       " '0',\n",
       " '0',\n",
       " '0',\n",
       " '0',\n",
       " '1',\n",
       " '1',\n",
       " '1',\n",
       " '1',\n",
       " '0',\n",
       " '1',\n",
       " '1',\n",
       " '0',\n",
       " '0',\n",
       " '0',\n",
       " '0',\n",
       " '0',\n",
       " '0',\n",
       " '0',\n",
       " '0',\n",
       " '0',\n",
       " '0',\n",
       " '0',\n",
       " '0',\n",
       " '0']"
      ]
     },
     "execution_count": 97,
     "metadata": {},
     "output_type": "execute_result"
    }
   ],
   "source": [
    "y_pred[41]"
   ]
  },
  {
   "cell_type": "code",
   "execution_count": 103,
   "metadata": {},
   "outputs": [
    {
     "data": {
      "text/html": [
       "<div>\n",
       "<style scoped>\n",
       "    .dataframe tbody tr th:only-of-type {\n",
       "        vertical-align: middle;\n",
       "    }\n",
       "\n",
       "    .dataframe tbody tr th {\n",
       "        vertical-align: top;\n",
       "    }\n",
       "\n",
       "    .dataframe thead th {\n",
       "        text-align: right;\n",
       "    }\n",
       "</style>\n",
       "<table border=\"1\" class=\"dataframe\">\n",
       "  <thead>\n",
       "    <tr style=\"text-align: right;\">\n",
       "      <th></th>\n",
       "      <th>product_name</th>\n",
       "      <th>predicted_brand</th>\n",
       "    </tr>\n",
       "  </thead>\n",
       "  <tbody>\n",
       "    <tr>\n",
       "      <th>0</th>\n",
       "      <td>100-105 나이키 ac밀란 바람막이</td>\n",
       "      <td>나이키</td>\n",
       "    </tr>\n",
       "    <tr>\n",
       "      <th>1</th>\n",
       "      <td>폴로 셔츠 105 남방 p-1693</td>\n",
       "      <td>폴로</td>\n",
       "    </tr>\n",
       "    <tr>\n",
       "      <th>2</th>\n",
       "      <td>프라다 라운드 반팔 티셔츠 [l1329]</td>\n",
       "      <td>프라다</td>\n",
       "    </tr>\n",
       "    <tr>\n",
       "      <th>3</th>\n",
       "      <td>자크뮈스 블라우스</td>\n",
       "      <td>자크뮈스</td>\n",
       "    </tr>\n",
       "    <tr>\n",
       "      <th>4</th>\n",
       "      <td>나이키 덩크 미시건</td>\n",
       "      <td>나이키</td>\n",
       "    </tr>\n",
       "    <tr>\n",
       "      <th>5</th>\n",
       "      <td>미스치프 흑청 캡모자</td>\n",
       "      <td>미스치프</td>\n",
       "    </tr>\n",
       "    <tr>\n",
       "      <th>6</th>\n",
       "      <td>[260] 나이키 sb 덩크 로우 그레이트 풀데드</td>\n",
       "      <td>나이키</td>\n",
       "    </tr>\n",
       "    <tr>\n",
       "      <th>7</th>\n",
       "      <td>(정품) 스톤아일랜드 후드 블랙 l</td>\n",
       "      <td>스톤아일랜드</td>\n",
       "    </tr>\n",
       "    <tr>\n",
       "      <th>8</th>\n",
       "      <td>다이애그널 레이스 니트</td>\n",
       "      <td>다이애그널</td>\n",
       "    </tr>\n",
       "    <tr>\n",
       "      <th>9</th>\n",
       "      <td>구찌 레플 반바지</td>\n",
       "      <td>구찌</td>\n",
       "    </tr>\n",
       "  </tbody>\n",
       "</table>\n",
       "</div>"
      ],
      "text/plain": [
       "                  product_name predicted_brand\n",
       "0        100-105 나이키 ac밀란 바람막이             나이키\n",
       "1          폴로 셔츠 105 남방 p-1693              폴로\n",
       "2       프라다 라운드 반팔 티셔츠 [l1329]             프라다\n",
       "3                    자크뮈스 블라우스            자크뮈스\n",
       "4                   나이키 덩크 미시건             나이키\n",
       "5                  미스치프 흑청 캡모자            미스치프\n",
       "6  [260] 나이키 sb 덩크 로우 그레이트 풀데드             나이키\n",
       "7          (정품) 스톤아일랜드 후드 블랙 l          스톤아일랜드\n",
       "8                 다이애그널 레이스 니트           다이애그널\n",
       "9                    구찌 레플 반바지              구찌"
      ]
     },
     "execution_count": 103,
     "metadata": {},
     "output_type": "execute_result"
    }
   ],
   "source": [
    "pred[:10]"
   ]
  },
  {
   "cell_type": "code",
   "execution_count": null,
   "metadata": {},
   "outputs": [],
   "source": [
    "crf_model.predict()"
   ]
  },
  {
   "cell_type": "code",
   "execution_count": 91,
   "metadata": {
    "scrolled": true
   },
   "outputs": [
    {
     "name": "stdout",
     "output_type": "stream",
     "text": [
      "              precision    recall  f1-score   support\n",
      "\n",
      "           1      0.996     0.998     0.997    393916\n",
      "\n",
      "   micro avg      0.996     0.998     0.997    393916\n",
      "   macro avg      0.996     0.998     0.997    393916\n",
      "weighted avg      0.996     0.998     0.997    393916\n",
      "\n"
     ]
    }
   ],
   "source": [
    "crf_model.report_classification(x_test, y_test)"
   ]
  },
  {
   "cell_type": "code",
   "execution_count": 92,
   "metadata": {
    "scrolled": true
   },
   "outputs": [
    {
     "name": "stderr",
     "output_type": "stream",
     "text": [
      "/Users/emilyPark/.pyenv/versions/bun-analytics/lib/python3.7/site-packages/numpy/core/_asarray.py:83: VisibleDeprecationWarning: Creating an ndarray from ragged nested sequences (which is a list-or-tuple of lists-or-tuples-or ndarrays with different lengths or shapes) is deprecated. If you meant to do this, you must specify 'dtype=object' when creating the ndarray\n",
      "  return array(a, dtype, copy=False, order=order)\n"
     ]
    },
    {
     "data": {
      "text/plain": [
       "0.99493"
      ]
     },
     "execution_count": 92,
     "metadata": {},
     "output_type": "execute_result"
    }
   ],
   "source": [
    "crf_model.evaluate(y_test)"
   ]
  },
  {
   "cell_type": "code",
   "execution_count": null,
   "metadata": {},
   "outputs": [],
   "source": []
  },
  {
   "cell_type": "code",
   "execution_count": null,
   "metadata": {},
   "outputs": [],
   "source": []
  }
 ],
 "metadata": {
  "kernelspec": {
   "display_name": "Python 3",
   "language": "python",
   "name": "python3"
  },
  "language_info": {
   "codemirror_mode": {
    "name": "ipython",
    "version": 3
   },
   "file_extension": ".py",
   "mimetype": "text/x-python",
   "name": "python",
   "nbconvert_exporter": "python",
   "pygments_lexer": "ipython3",
   "version": "3.7.5"
  }
 },
 "nbformat": 4,
 "nbformat_minor": 4
}
