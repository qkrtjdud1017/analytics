{
 "cells": [
  {
   "cell_type": "code",
   "execution_count": 6,
   "metadata": {},
   "outputs": [],
   "source": [
    "import torch\n",
    "import pandas as pd\n",
    "\n",
    "from inputs.preprocessing import PreProcessing\n",
    "from models.linear import Linear\n",
    "from models.dnn import DNN\n",
    "from models.fm import FM\n",
    "from models.deepfm import DeepFM\n",
    "from sklearn.metrics import log_loss, roc_auc_score\n",
    "from sklearn.model_selection import train_test_split\n",
    "\n",
    "device = 'cuda:0' if torch.cuda.is_available() else 'cpu'"
   ]
  },
  {
   "cell_type": "code",
   "execution_count": 7,
   "metadata": {},
   "outputs": [
    {
     "data": {
      "text/plain": [
       "'cpu'"
      ]
     },
     "execution_count": 7,
     "metadata": {},
     "output_type": "execute_result"
    }
   ],
   "source": [
    "device"
   ]
  },
  {
   "cell_type": "code",
   "execution_count": 2,
   "metadata": {},
   "outputs": [],
   "source": [
    "## criteo dataset\n",
    "smalldf = pd.read_csv('./examples/criteo_sampling.csv')"
   ]
  },
  {
   "cell_type": "code",
   "execution_count": null,
   "metadata": {},
   "outputs": [],
   "source": [
    "# data = trainset.append(testset)"
   ]
  },
  {
   "cell_type": "code",
   "execution_count": null,
   "metadata": {},
   "outputs": [],
   "source": [
    "# smalldf = data.sample(frac=0.2)\n",
    "# smalldf = smalldf.sample(frac=0.2)\n",
    "# smalldf.to_csv('criteo_sampling.csv')"
   ]
  },
  {
   "cell_type": "code",
   "execution_count": 3,
   "metadata": {},
   "outputs": [
    {
     "data": {
      "text/html": [
       "<div>\n",
       "<style scoped>\n",
       "    .dataframe tbody tr th:only-of-type {\n",
       "        vertical-align: middle;\n",
       "    }\n",
       "\n",
       "    .dataframe tbody tr th {\n",
       "        vertical-align: top;\n",
       "    }\n",
       "\n",
       "    .dataframe thead th {\n",
       "        text-align: right;\n",
       "    }\n",
       "</style>\n",
       "<table border=\"1\" class=\"dataframe\">\n",
       "  <thead>\n",
       "    <tr style=\"text-align: right;\">\n",
       "      <th></th>\n",
       "      <th>Unnamed: 0</th>\n",
       "      <th>Id</th>\n",
       "      <th>Label</th>\n",
       "      <th>I1</th>\n",
       "      <th>I2</th>\n",
       "      <th>I3</th>\n",
       "      <th>I4</th>\n",
       "      <th>I5</th>\n",
       "      <th>I6</th>\n",
       "      <th>I7</th>\n",
       "      <th>...</th>\n",
       "      <th>C17</th>\n",
       "      <th>C18</th>\n",
       "      <th>C19</th>\n",
       "      <th>C20</th>\n",
       "      <th>C21</th>\n",
       "      <th>C22</th>\n",
       "      <th>C23</th>\n",
       "      <th>C24</th>\n",
       "      <th>C25</th>\n",
       "      <th>C26</th>\n",
       "    </tr>\n",
       "  </thead>\n",
       "  <tbody>\n",
       "    <tr>\n",
       "      <th>0</th>\n",
       "      <td>29728625</td>\n",
       "      <td>39728625</td>\n",
       "      <td>0</td>\n",
       "      <td>0.000000</td>\n",
       "      <td>0.000174</td>\n",
       "      <td>0.000122</td>\n",
       "      <td>0.004076</td>\n",
       "      <td>0.000601</td>\n",
       "      <td>0.000420</td>\n",
       "      <td>0.000205</td>\n",
       "      <td>...</td>\n",
       "      <td>4</td>\n",
       "      <td>2455</td>\n",
       "      <td>679</td>\n",
       "      <td>2</td>\n",
       "      <td>302344</td>\n",
       "      <td>0</td>\n",
       "      <td>2</td>\n",
       "      <td>33850</td>\n",
       "      <td>1</td>\n",
       "      <td>23774</td>\n",
       "    </tr>\n",
       "    <tr>\n",
       "      <th>1</th>\n",
       "      <td>18770406</td>\n",
       "      <td>28770406</td>\n",
       "      <td>0</td>\n",
       "      <td>0.000000</td>\n",
       "      <td>0.008363</td>\n",
       "      <td>0.000031</td>\n",
       "      <td>0.004076</td>\n",
       "      <td>0.009311</td>\n",
       "      <td>0.000009</td>\n",
       "      <td>0.000164</td>\n",
       "      <td>...</td>\n",
       "      <td>9</td>\n",
       "      <td>5052</td>\n",
       "      <td>0</td>\n",
       "      <td>0</td>\n",
       "      <td>130363</td>\n",
       "      <td>0</td>\n",
       "      <td>2</td>\n",
       "      <td>25960</td>\n",
       "      <td>0</td>\n",
       "      <td>0</td>\n",
       "    </tr>\n",
       "    <tr>\n",
       "      <th>2</th>\n",
       "      <td>4728274</td>\n",
       "      <td>14728274</td>\n",
       "      <td>1</td>\n",
       "      <td>0.000000</td>\n",
       "      <td>0.000087</td>\n",
       "      <td>0.000000</td>\n",
       "      <td>0.000000</td>\n",
       "      <td>0.003654</td>\n",
       "      <td>0.000102</td>\n",
       "      <td>0.004919</td>\n",
       "      <td>...</td>\n",
       "      <td>4</td>\n",
       "      <td>1459</td>\n",
       "      <td>265</td>\n",
       "      <td>3</td>\n",
       "      <td>1860576</td>\n",
       "      <td>14</td>\n",
       "      <td>4</td>\n",
       "      <td>54419</td>\n",
       "      <td>91</td>\n",
       "      <td>55488</td>\n",
       "    </tr>\n",
       "    <tr>\n",
       "      <th>3</th>\n",
       "      <td>25524993</td>\n",
       "      <td>35524993</td>\n",
       "      <td>0</td>\n",
       "      <td>0.000853</td>\n",
       "      <td>0.000784</td>\n",
       "      <td>0.000732</td>\n",
       "      <td>0.016304</td>\n",
       "      <td>0.000050</td>\n",
       "      <td>0.000095</td>\n",
       "      <td>0.002132</td>\n",
       "      <td>...</td>\n",
       "      <td>9</td>\n",
       "      <td>3774</td>\n",
       "      <td>1233</td>\n",
       "      <td>3</td>\n",
       "      <td>1201824</td>\n",
       "      <td>0</td>\n",
       "      <td>2</td>\n",
       "      <td>70133</td>\n",
       "      <td>63</td>\n",
       "      <td>82782</td>\n",
       "    </tr>\n",
       "    <tr>\n",
       "      <th>4</th>\n",
       "      <td>9226131</td>\n",
       "      <td>19226131</td>\n",
       "      <td>0</td>\n",
       "      <td>0.000000</td>\n",
       "      <td>0.000087</td>\n",
       "      <td>0.000000</td>\n",
       "      <td>0.000000</td>\n",
       "      <td>0.003807</td>\n",
       "      <td>0.000148</td>\n",
       "      <td>0.000328</td>\n",
       "      <td>...</td>\n",
       "      <td>9</td>\n",
       "      <td>1985</td>\n",
       "      <td>265</td>\n",
       "      <td>1</td>\n",
       "      <td>290921</td>\n",
       "      <td>0</td>\n",
       "      <td>3</td>\n",
       "      <td>31265</td>\n",
       "      <td>85</td>\n",
       "      <td>56573</td>\n",
       "    </tr>\n",
       "  </tbody>\n",
       "</table>\n",
       "<p>5 rows × 42 columns</p>\n",
       "</div>"
      ],
      "text/plain": [
       "   Unnamed: 0        Id  Label        I1        I2        I3        I4  \\\n",
       "0    29728625  39728625      0  0.000000  0.000174  0.000122  0.004076   \n",
       "1    18770406  28770406      0  0.000000  0.008363  0.000031  0.004076   \n",
       "2     4728274  14728274      1  0.000000  0.000087  0.000000  0.000000   \n",
       "3    25524993  35524993      0  0.000853  0.000784  0.000732  0.016304   \n",
       "4     9226131  19226131      0  0.000000  0.000087  0.000000  0.000000   \n",
       "\n",
       "         I5        I6        I7  ...  C17   C18   C19  C20      C21  C22  C23  \\\n",
       "0  0.000601  0.000420  0.000205  ...    4  2455   679    2   302344    0    2   \n",
       "1  0.009311  0.000009  0.000164  ...    9  5052     0    0   130363    0    2   \n",
       "2  0.003654  0.000102  0.004919  ...    4  1459   265    3  1860576   14    4   \n",
       "3  0.000050  0.000095  0.002132  ...    9  3774  1233    3  1201824    0    2   \n",
       "4  0.003807  0.000148  0.000328  ...    9  1985   265    1   290921    0    3   \n",
       "\n",
       "     C24  C25    C26  \n",
       "0  33850    1  23774  \n",
       "1  25960    0      0  \n",
       "2  54419   91  55488  \n",
       "3  70133   63  82782  \n",
       "4  31265   85  56573  \n",
       "\n",
       "[5 rows x 42 columns]"
      ]
     },
     "execution_count": 3,
     "metadata": {},
     "output_type": "execute_result"
    }
   ],
   "source": [
    "len(smalldf)\n",
    "smalldf.head()"
   ]
  },
  {
   "cell_type": "code",
   "execution_count": null,
   "metadata": {},
   "outputs": [],
   "source": [
    "print('click proportion of original data:', len(data[data['Label'] == 1])/len(data))\n",
    "print('click proportion of sampling data:', len(smalldf[smalldf['Label'] == 1])/len(smalldf))"
   ]
  },
  {
   "cell_type": "code",
   "execution_count": 3,
   "metadata": {},
   "outputs": [],
   "source": [
    "sparse_features = ['C' + str(i) for i in range(1, 27)]\n",
    "dense_features = ['I' + str(i) for i in range(1, 14)]\n",
    "\n",
    "preproc = PreProcessing()\n",
    "smalldf = preproc.do_preprocessing(smalldf, sparse_features, dense_features)\n",
    "\n",
    "train, test = train_test_split(smalldf, test_size=0.2)\n",
    "\n",
    "feature_list = sparse_features + dense_features\n",
    "\n",
    "train_model_input = {feature: train[feature] for feature in feature_list}\n",
    "test_model_input = {feature: test[feature] for feature in feature_list}"
   ]
  },
  {
   "cell_type": "code",
   "execution_count": null,
   "metadata": {},
   "outputs": [],
   "source": []
  },
  {
   "cell_type": "code",
   "execution_count": null,
   "metadata": {},
   "outputs": [],
   "source": [
    "linear_model = Linear(dataset=smalldf,\n",
    "                       device=device,\n",
    "                       sparse_feature_names=sparse_features,\n",
    "                       dense_feature_names=dense_features)\n",
    "linear_model.fit(train_model_input, train['Label'].values)\n",
    "\n",
    "pred = linear_model.predict(test_model_input)\n",
    "\n",
    "print(\"test LogLoss\", round(log_loss(test['Label'].values, pred), 4))\n",
    "print(\"test AUC\", round(roc_auc_score(test['Label'].values, pred), 4))"
   ]
  },
  {
   "cell_type": "code",
   "execution_count": null,
   "metadata": {},
   "outputs": [],
   "source": [
    "fm_model = FM(dataset=smalldf,\n",
    "                       device=device,\n",
    "                       sparse_feature_names=sparse_features,\n",
    "                       dense_feature_names=dense_features)\n",
    "fm_model.fit(train_model_input, train['Label'].values)\n",
    "\n",
    "pred = fm_model.predict(test_model_input)\n",
    "\n",
    "print(\"test LogLoss\", round(log_loss(test['Label'].values, pred), 4))\n",
    "print(\"test AUC\", round(roc_auc_score(test['Label'].values, pred), 4))"
   ]
  },
  {
   "cell_type": "code",
   "execution_count": 4,
   "metadata": {},
   "outputs": [
    {
     "name": "stderr",
     "output_type": "stream",
     "text": [
      "85it [00:02, 35.43it/s]\n"
     ]
    },
    {
     "ename": "KeyboardInterrupt",
     "evalue": "",
     "output_type": "error",
     "traceback": [
      "\u001b[0;31m---------------------------------------------------------------------------\u001b[0m",
      "\u001b[0;31mKeyboardInterrupt\u001b[0m                         Traceback (most recent call last)",
      "\u001b[0;32m<ipython-input-4-cd276e6d680e>\u001b[0m in \u001b[0;36m<module>\u001b[0;34m\u001b[0m\n\u001b[1;32m      3\u001b[0m                        \u001b[0msparse_feature_names\u001b[0m\u001b[0;34m=\u001b[0m\u001b[0msparse_features\u001b[0m\u001b[0;34m,\u001b[0m\u001b[0;34m\u001b[0m\u001b[0;34m\u001b[0m\u001b[0m\n\u001b[1;32m      4\u001b[0m                        dense_feature_names=dense_features)\n\u001b[0;32m----> 5\u001b[0;31m \u001b[0mdnn_model\u001b[0m\u001b[0;34m.\u001b[0m\u001b[0mfit\u001b[0m\u001b[0;34m(\u001b[0m\u001b[0mtrain_model_input\u001b[0m\u001b[0;34m,\u001b[0m \u001b[0mtrain\u001b[0m\u001b[0;34m[\u001b[0m\u001b[0;34m'Label'\u001b[0m\u001b[0;34m]\u001b[0m\u001b[0;34m.\u001b[0m\u001b[0mvalues\u001b[0m\u001b[0;34m)\u001b[0m\u001b[0;34m\u001b[0m\u001b[0;34m\u001b[0m\u001b[0m\n\u001b[0m\u001b[1;32m      6\u001b[0m \u001b[0;34m\u001b[0m\u001b[0m\n\u001b[1;32m      7\u001b[0m \u001b[0mpred\u001b[0m \u001b[0;34m=\u001b[0m \u001b[0mdnn_model\u001b[0m\u001b[0;34m.\u001b[0m\u001b[0mpredict\u001b[0m\u001b[0;34m(\u001b[0m\u001b[0mtest_model_input\u001b[0m\u001b[0;34m)\u001b[0m\u001b[0;34m\u001b[0m\u001b[0;34m\u001b[0m\u001b[0m\n",
      "\u001b[0;32m~/bun-analytics/bun-deepctr-pytorch/models/base.py\u001b[0m in \u001b[0;36mfit\u001b[0;34m(self, x, y, batch_size)\u001b[0m\n\u001b[1;32m     96\u001b[0m                     \u001b[0moptimizer\u001b[0m\u001b[0;34m.\u001b[0m\u001b[0mzero_grad\u001b[0m\u001b[0;34m(\u001b[0m\u001b[0;34m)\u001b[0m\u001b[0;34m\u001b[0m\u001b[0;34m\u001b[0m\u001b[0m\n\u001b[1;32m     97\u001b[0m                     \u001b[0mloss\u001b[0m\u001b[0;34m.\u001b[0m\u001b[0mbackward\u001b[0m\u001b[0;34m(\u001b[0m\u001b[0mretain_graph\u001b[0m\u001b[0;34m=\u001b[0m\u001b[0;32mTrue\u001b[0m\u001b[0;34m)\u001b[0m\u001b[0;34m\u001b[0m\u001b[0;34m\u001b[0m\u001b[0m\n\u001b[0;32m---> 98\u001b[0;31m                     \u001b[0moptimizer\u001b[0m\u001b[0;34m.\u001b[0m\u001b[0mstep\u001b[0m\u001b[0;34m(\u001b[0m\u001b[0;34m)\u001b[0m\u001b[0;34m\u001b[0m\u001b[0;34m\u001b[0m\u001b[0m\n\u001b[0m\u001b[1;32m     99\u001b[0m             \u001b[0mprint\u001b[0m\u001b[0;34m(\u001b[0m\u001b[0;34mf'epoch : {epoch} -> loss : {round(loss.item(), 4)}'\u001b[0m\u001b[0;34m)\u001b[0m\u001b[0;34m\u001b[0m\u001b[0;34m\u001b[0m\u001b[0m\n\u001b[1;32m    100\u001b[0m \u001b[0;34m\u001b[0m\u001b[0m\n",
      "\u001b[0;32m~/.pyenv/versions/3.7.5/envs/bun-analytics/lib/python3.7/site-packages/torch/optim/sgd.py\u001b[0m in \u001b[0;36mstep\u001b[0;34m(self, closure)\u001b[0m\n\u001b[1;32m    104\u001b[0m                         \u001b[0md_p\u001b[0m \u001b[0;34m=\u001b[0m \u001b[0mbuf\u001b[0m\u001b[0;34m\u001b[0m\u001b[0;34m\u001b[0m\u001b[0m\n\u001b[1;32m    105\u001b[0m \u001b[0;34m\u001b[0m\u001b[0m\n\u001b[0;32m--> 106\u001b[0;31m                 \u001b[0mp\u001b[0m\u001b[0;34m.\u001b[0m\u001b[0mdata\u001b[0m\u001b[0;34m.\u001b[0m\u001b[0madd_\u001b[0m\u001b[0;34m(\u001b[0m\u001b[0;34m-\u001b[0m\u001b[0mgroup\u001b[0m\u001b[0;34m[\u001b[0m\u001b[0;34m'lr'\u001b[0m\u001b[0;34m]\u001b[0m\u001b[0;34m,\u001b[0m \u001b[0md_p\u001b[0m\u001b[0;34m)\u001b[0m\u001b[0;34m\u001b[0m\u001b[0;34m\u001b[0m\u001b[0m\n\u001b[0m\u001b[1;32m    107\u001b[0m \u001b[0;34m\u001b[0m\u001b[0m\n\u001b[1;32m    108\u001b[0m         \u001b[0;32mreturn\u001b[0m \u001b[0mloss\u001b[0m\u001b[0;34m\u001b[0m\u001b[0;34m\u001b[0m\u001b[0m\n",
      "\u001b[0;31mKeyboardInterrupt\u001b[0m: "
     ]
    }
   ],
   "source": [
    "dnn_model = DNN(dataset=smalldf,\n",
    "                       device=device,\n",
    "                       sparse_feature_names=sparse_features,\n",
    "                       dense_feature_names=dense_features)\n",
    "dnn_model.fit(train_model_input, train['Label'].values)\n",
    "\n",
    "pred = dnn_model.predict(test_model_input)\n",
    "\n",
    "print(\"test LogLoss\", round(log_loss(test['Label'].values, pred), 4))\n",
    "print(\"test AUC\", round(roc_auc_score(test['Label'].values, pred), 4))"
   ]
  },
  {
   "cell_type": "code",
   "execution_count": 5,
   "metadata": {},
   "outputs": [
    {
     "name": "stderr",
     "output_type": "stream",
     "text": [
      "5731it [06:41, 14.29it/s]\n",
      "0it [00:00, ?it/s]"
     ]
    },
    {
     "name": "stdout",
     "output_type": "stream",
     "text": [
      "epoch : 0 -> loss : 4.3096\n"
     ]
    },
    {
     "name": "stderr",
     "output_type": "stream",
     "text": [
      "4001it [04:37, 14.44it/s]\n"
     ]
    },
    {
     "ename": "KeyboardInterrupt",
     "evalue": "",
     "output_type": "error",
     "traceback": [
      "\u001b[0;31m---------------------------------------------------------------------------\u001b[0m",
      "\u001b[0;31mKeyboardInterrupt\u001b[0m                         Traceback (most recent call last)",
      "\u001b[0;32m<ipython-input-5-13f5f0730da1>\u001b[0m in \u001b[0;36m<module>\u001b[0;34m\u001b[0m\n\u001b[1;32m      3\u001b[0m                        \u001b[0msparse_feature_names\u001b[0m\u001b[0;34m=\u001b[0m\u001b[0msparse_features\u001b[0m\u001b[0;34m,\u001b[0m\u001b[0;34m\u001b[0m\u001b[0;34m\u001b[0m\u001b[0m\n\u001b[1;32m      4\u001b[0m                        dense_feature_names=dense_features)\n\u001b[0;32m----> 5\u001b[0;31m \u001b[0mdeepfm_model\u001b[0m\u001b[0;34m.\u001b[0m\u001b[0mfit\u001b[0m\u001b[0;34m(\u001b[0m\u001b[0mtrain_model_input\u001b[0m\u001b[0;34m,\u001b[0m \u001b[0mtrain\u001b[0m\u001b[0;34m[\u001b[0m\u001b[0;34m'Label'\u001b[0m\u001b[0;34m]\u001b[0m\u001b[0;34m.\u001b[0m\u001b[0mvalues\u001b[0m\u001b[0;34m)\u001b[0m\u001b[0;34m\u001b[0m\u001b[0;34m\u001b[0m\u001b[0m\n\u001b[0m\u001b[1;32m      6\u001b[0m \u001b[0;34m\u001b[0m\u001b[0m\n\u001b[1;32m      7\u001b[0m \u001b[0mpred\u001b[0m \u001b[0;34m=\u001b[0m \u001b[0mdeepfm_model\u001b[0m\u001b[0;34m.\u001b[0m\u001b[0mpredict\u001b[0m\u001b[0;34m(\u001b[0m\u001b[0mtest_model_input\u001b[0m\u001b[0;34m)\u001b[0m\u001b[0;34m\u001b[0m\u001b[0;34m\u001b[0m\u001b[0m\n",
      "\u001b[0;32m~/bun-analytics/bun-deepctr-pytorch/models/base.py\u001b[0m in \u001b[0;36mfit\u001b[0;34m(self, x, y, batch_size)\u001b[0m\n\u001b[1;32m     96\u001b[0m                     \u001b[0moptimizer\u001b[0m\u001b[0;34m.\u001b[0m\u001b[0mzero_grad\u001b[0m\u001b[0;34m(\u001b[0m\u001b[0;34m)\u001b[0m\u001b[0;34m\u001b[0m\u001b[0;34m\u001b[0m\u001b[0m\n\u001b[1;32m     97\u001b[0m                     \u001b[0mloss\u001b[0m\u001b[0;34m.\u001b[0m\u001b[0mbackward\u001b[0m\u001b[0;34m(\u001b[0m\u001b[0mretain_graph\u001b[0m\u001b[0;34m=\u001b[0m\u001b[0;32mTrue\u001b[0m\u001b[0;34m)\u001b[0m\u001b[0;34m\u001b[0m\u001b[0;34m\u001b[0m\u001b[0m\n\u001b[0;32m---> 98\u001b[0;31m                     \u001b[0moptimizer\u001b[0m\u001b[0;34m.\u001b[0m\u001b[0mstep\u001b[0m\u001b[0;34m(\u001b[0m\u001b[0;34m)\u001b[0m\u001b[0;34m\u001b[0m\u001b[0;34m\u001b[0m\u001b[0m\n\u001b[0m\u001b[1;32m     99\u001b[0m             \u001b[0mprint\u001b[0m\u001b[0;34m(\u001b[0m\u001b[0;34mf'epoch : {epoch} -> loss : {round(loss.item(), 4)}'\u001b[0m\u001b[0;34m)\u001b[0m\u001b[0;34m\u001b[0m\u001b[0;34m\u001b[0m\u001b[0m\n\u001b[1;32m    100\u001b[0m \u001b[0;34m\u001b[0m\u001b[0m\n",
      "\u001b[0;32m~/.pyenv/versions/3.7.5/envs/bun-analytics/lib/python3.7/site-packages/torch/optim/sgd.py\u001b[0m in \u001b[0;36mstep\u001b[0;34m(self, closure)\u001b[0m\n\u001b[1;32m    104\u001b[0m                         \u001b[0md_p\u001b[0m \u001b[0;34m=\u001b[0m \u001b[0mbuf\u001b[0m\u001b[0;34m\u001b[0m\u001b[0;34m\u001b[0m\u001b[0m\n\u001b[1;32m    105\u001b[0m \u001b[0;34m\u001b[0m\u001b[0m\n\u001b[0;32m--> 106\u001b[0;31m                 \u001b[0mp\u001b[0m\u001b[0;34m.\u001b[0m\u001b[0mdata\u001b[0m\u001b[0;34m.\u001b[0m\u001b[0madd_\u001b[0m\u001b[0;34m(\u001b[0m\u001b[0;34m-\u001b[0m\u001b[0mgroup\u001b[0m\u001b[0;34m[\u001b[0m\u001b[0;34m'lr'\u001b[0m\u001b[0;34m]\u001b[0m\u001b[0;34m,\u001b[0m \u001b[0md_p\u001b[0m\u001b[0;34m)\u001b[0m\u001b[0;34m\u001b[0m\u001b[0;34m\u001b[0m\u001b[0m\n\u001b[0m\u001b[1;32m    107\u001b[0m \u001b[0;34m\u001b[0m\u001b[0m\n\u001b[1;32m    108\u001b[0m         \u001b[0;32mreturn\u001b[0m \u001b[0mloss\u001b[0m\u001b[0;34m\u001b[0m\u001b[0;34m\u001b[0m\u001b[0m\n",
      "\u001b[0;31mKeyboardInterrupt\u001b[0m: "
     ]
    }
   ],
   "source": [
    "deepfm_model = DeepFM(dataset=smalldf,\n",
    "                       device=device,\n",
    "                       sparse_feature_names=sparse_features,\n",
    "                       dense_feature_names=dense_features)\n",
    "deepfm_model.fit(train_model_input, train['Label'].values)\n",
    "\n",
    "pred = deepfm_model.predict(test_model_input)\n",
    "\n",
    "print(\"test LogLoss\", round(log_loss(test['Label'].values, pred), 4))\n",
    "print(\"test AUC\", round(roc_auc_score(test['Label'].values, pred), 4))"
   ]
  },
  {
   "cell_type": "code",
   "execution_count": 27,
   "metadata": {},
   "outputs": [
    {
     "name": "stderr",
     "output_type": "stream",
     "text": [
      "5731it [02:27, 38.83it/s]\n",
      "1it [00:00,  6.70it/s]"
     ]
    },
    {
     "name": "stdout",
     "output_type": "stream",
     "text": [
      "epoch : 0 -> loss : 5.9644\n"
     ]
    },
    {
     "name": "stderr",
     "output_type": "stream",
     "text": [
      "5731it [02:27, 38.84it/s]\n",
      "1it [00:00,  5.98it/s]"
     ]
    },
    {
     "name": "stdout",
     "output_type": "stream",
     "text": [
      "epoch : 1 -> loss : 4.8104\n"
     ]
    },
    {
     "name": "stderr",
     "output_type": "stream",
     "text": [
      "5731it [02:27, 38.96it/s]\n",
      "1it [00:00,  6.96it/s]"
     ]
    },
    {
     "name": "stdout",
     "output_type": "stream",
     "text": [
      "epoch : 2 -> loss : 6.3108\n"
     ]
    },
    {
     "name": "stderr",
     "output_type": "stream",
     "text": [
      "5731it [02:26, 39.01it/s]\n",
      "1it [00:00,  7.07it/s]"
     ]
    },
    {
     "name": "stdout",
     "output_type": "stream",
     "text": [
      "epoch : 3 -> loss : 5.2182\n"
     ]
    },
    {
     "name": "stderr",
     "output_type": "stream",
     "text": [
      "5731it [03:54, 24.42it/s]\n",
      "1it [00:00,  6.72it/s]"
     ]
    },
    {
     "name": "stdout",
     "output_type": "stream",
     "text": [
      "epoch : 4 -> loss : 7.0234\n"
     ]
    },
    {
     "name": "stderr",
     "output_type": "stream",
     "text": [
      "5731it [02:27, 38.83it/s]\n",
      "1it [00:00,  6.28it/s]"
     ]
    },
    {
     "name": "stdout",
     "output_type": "stream",
     "text": [
      "epoch : 5 -> loss : 4.553\n"
     ]
    },
    {
     "name": "stderr",
     "output_type": "stream",
     "text": [
      "5731it [02:28, 38.50it/s]\n",
      "1it [00:00,  6.67it/s]"
     ]
    },
    {
     "name": "stdout",
     "output_type": "stream",
     "text": [
      "epoch : 6 -> loss : 3.3235\n"
     ]
    },
    {
     "name": "stderr",
     "output_type": "stream",
     "text": [
      "5731it [02:28, 38.72it/s]\n",
      "1it [00:00,  6.54it/s]"
     ]
    },
    {
     "name": "stdout",
     "output_type": "stream",
     "text": [
      "epoch : 7 -> loss : 1.8008\n"
     ]
    },
    {
     "name": "stderr",
     "output_type": "stream",
     "text": [
      "5731it [02:30, 38.17it/s]\n",
      "1it [00:00,  6.43it/s]"
     ]
    },
    {
     "name": "stdout",
     "output_type": "stream",
     "text": [
      "epoch : 8 -> loss : 3.8429\n"
     ]
    },
    {
     "name": "stderr",
     "output_type": "stream",
     "text": [
      "5731it [02:27, 38.87it/s]\n"
     ]
    },
    {
     "name": "stdout",
     "output_type": "stream",
     "text": [
      "epoch : 9 -> loss : 2.5621\n",
      "test LogLoss 4.7096\n",
      "test AUC 0.4997\n"
     ]
    }
   ],
   "source": [
    "dnn_model = DNN(dataset=smalldf,\n",
    "                       device=device,\n",
    "                       sparse_feature_names=sparse_features,\n",
    "                       dense_feature_names=dense_features)\n",
    "dnn_model.fit(train_model_input, train['Label'].values)\n",
    "\n",
    "pred = dnn_model.predict(test_model_input)\n",
    "\n",
    "print(\"test LogLoss\", round(log_loss(test['Label'].values, pred), 4))\n",
    "print(\"test AUC\", round(roc_auc_score(test['Label'].values, pred), 4))"
   ]
  },
  {
   "cell_type": "code",
   "execution_count": 3,
   "metadata": {},
   "outputs": [
    {
     "data": {
      "image/png": "[encoded data removed]",
      "text/plain": [
       "<Figure size 864x576 with 1 Axes>"
      ]
     },
     "metadata": {
      "needs_background": "light"
     },
     "output_type": "display_data"
    }
   ],
   "source": [
    "import seaborn as sns\n",
    "import matplotlib.pyplot as plt\n",
    "import numpy as np\n",
    "\n",
    "fig = plt.figure(figsize = (12, 8))\n",
    "ax = fig.add_axes([0,0,1,1])\n",
    "aucs = [0.7561, 0.7565, 0.756, 0.6861, 0.6431, 0.7537, 0.7219]\n",
    "models = ['Linear', 'DNN_3_ReLU', 'DNN_4_ReLU', 'DNN_3_Sigmoid', 'DNN_4_Sigmoid', 'FM', 'DeepFM']\n",
    "rects = ax.bar(models, aucs)\n",
    "i = 0\n",
    "for rect in rects:\n",
    "    height = rect.get_height()\n",
    "    ax.text(rect.get_x() + rect.get_width()/2., 1.01*height,\n",
    "                str(aucs[i]),\n",
    "                ha='center', va='bottom')\n",
    "    i += 1\n",
    "plt.title('AUC for each model w/ Criteo Data')\n",
    "plt.savefig('./auc.jpeg')\n",
    "# bar = plt.barh(ypos, aucs, align='center')\n",
    "# plt.yticks(ypos, models)\n",
    "# plt.xlabel('AUC')\n",
    "# plt.show()"
   ]
  },
  {
   "cell_type": "code",
   "execution_count": null,
   "metadata": {},
   "outputs": [],
   "source": []
  }
 ],
 "metadata": {
  "kernelspec": {
   "display_name": "Python 3",
   "language": "python",
   "name": "python3"
  },
  "language_info": {
   "codemirror_mode": {
    "name": "ipython",
    "version": 3
   },
   "file_extension": ".py",
   "mimetype": "text/x-python",
   "name": "python",
   "nbconvert_exporter": "python",
   "pygments_lexer": "ipython3",
   "version": "3.7.5"
  }
 },
 "nbformat": 4,
 "nbformat_minor": 4
}
