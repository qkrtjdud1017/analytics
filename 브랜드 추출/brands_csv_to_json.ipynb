{
 "cells": [
  {
   "cell_type": "code",
   "execution_count": 14,
   "metadata": {},
   "outputs": [],
   "source": [
    "import pandas as pd\n",
    "import json\n",
    "import math"
   ]
  },
  {
   "cell_type": "code",
   "execution_count": 2,
   "metadata": {},
   "outputs": [],
   "source": [
    "brands = pd.read_csv('brand_list.csv')"
   ]
  },
  {
   "cell_type": "code",
   "execution_count": 3,
   "metadata": {},
   "outputs": [
    {
     "data": {
      "text/html": [
       "<div>\n",
       "<style scoped>\n",
       "    .dataframe tbody tr th:only-of-type {\n",
       "        vertical-align: middle;\n",
       "    }\n",
       "\n",
       "    .dataframe tbody tr th {\n",
       "        vertical-align: top;\n",
       "    }\n",
       "\n",
       "    .dataframe thead th {\n",
       "        text-align: right;\n",
       "    }\n",
       "</style>\n",
       "<table border=\"1\" class=\"dataframe\">\n",
       "  <thead>\n",
       "    <tr style=\"text-align: right;\">\n",
       "      <th></th>\n",
       "      <th>브랜드명</th>\n",
       "      <th>동의어</th>\n",
       "      <th>유사어</th>\n",
       "    </tr>\n",
       "  </thead>\n",
       "  <tbody>\n",
       "    <tr>\n",
       "      <th>0</th>\n",
       "      <td>나이키</td>\n",
       "      <td>nike</td>\n",
       "      <td>NaN</td>\n",
       "    </tr>\n",
       "    <tr>\n",
       "      <th>1</th>\n",
       "      <td>스톤아일랜드</td>\n",
       "      <td>Stone island</td>\n",
       "      <td>스톤 아일랜드</td>\n",
       "    </tr>\n",
       "    <tr>\n",
       "      <th>2</th>\n",
       "      <td>뉴발란스</td>\n",
       "      <td>NEW BALANCE</td>\n",
       "      <td>뉴발</td>\n",
       "    </tr>\n",
       "    <tr>\n",
       "      <th>3</th>\n",
       "      <td>아디다스</td>\n",
       "      <td>ADIDAS</td>\n",
       "      <td>NaN</td>\n",
       "    </tr>\n",
       "    <tr>\n",
       "      <th>4</th>\n",
       "      <td>노스페이스</td>\n",
       "      <td>NORTHFACE</td>\n",
       "      <td>더노스페이스,노페,더 노스페이스</td>\n",
       "    </tr>\n",
       "  </tbody>\n",
       "</table>\n",
       "</div>"
      ],
      "text/plain": [
       "     브랜드명           동의어                유사어\n",
       "0     나이키          nike                NaN\n",
       "1  스톤아일랜드  Stone island            스톤 아일랜드\n",
       "2    뉴발란스   NEW BALANCE                 뉴발\n",
       "3    아디다스        ADIDAS                NaN\n",
       "4   노스페이스     NORTHFACE  더노스페이스,노페,더 노스페이스"
      ]
     },
     "execution_count": 3,
     "metadata": {},
     "output_type": "execute_result"
    }
   ],
   "source": [
    "brands.head()"
   ]
  },
  {
   "cell_type": "code",
   "execution_count": 4,
   "metadata": {},
   "outputs": [
    {
     "data": {
      "text/plain": [
       "(331, 3)"
      ]
     },
     "execution_count": 4,
     "metadata": {},
     "output_type": "execute_result"
    }
   ],
   "source": [
    "brands.shape"
   ]
  },
  {
   "cell_type": "code",
   "execution_count": 20,
   "metadata": {},
   "outputs": [
    {
     "data": {
      "text/plain": [
       "False"
      ]
     },
     "execution_count": 20,
     "metadata": {},
     "output_type": "execute_result"
    }
   ],
   "source": [
    "not math.isnan(brands.iloc[3]['synonyms'])"
   ]
  },
  {
   "cell_type": "code",
   "execution_count": 5,
   "metadata": {},
   "outputs": [],
   "source": [
    "brands.columns = ['name_kor', 'name_eng', 'synonyms']"
   ]
  },
  {
   "cell_type": "code",
   "execution_count": 30,
   "metadata": {},
   "outputs": [],
   "source": [
    "import ndjson\n",
    "results = []\n",
    "for idx, row in brands[:4].iterrows():\n",
    "    b = {\"brand_id\": idx+1, \"name_kor\": str(row['name_kor']), \"name_eng\": str(row['name_eng']), \"synonyms\": [i for i in str(row['synonyms']).split(',') if i != 'nan'], \"models\": []}\n",
    "    results.append(brand)"
   ]
  },
  {
   "cell_type": "code",
   "execution_count": 44,
   "metadata": {},
   "outputs": [
    {
     "data": {
      "text/plain": [
       "[{'brand_id': 4,\n",
       "  'models': [],\n",
       "  'name_eng': 'ADIDAS',\n",
       "  'name_kor': '아디다스',\n",
       "  'synonyms': []},\n",
       " {'brand_id': 4,\n",
       "  'models': [],\n",
       "  'name_eng': 'ADIDAS',\n",
       "  'name_kor': '아디다스',\n",
       "  'synonyms': []},\n",
       " {'brand_id': 4,\n",
       "  'models': [],\n",
       "  'name_eng': 'ADIDAS',\n",
       "  'name_kor': '아디다스',\n",
       "  'synonyms': []},\n",
       " {'brand_id': 4,\n",
       "  'models': [],\n",
       "  'name_eng': 'ADIDAS',\n",
       "  'name_kor': '아디다스',\n",
       "  'synonyms': []}]"
      ]
     },
     "execution_count": 44,
     "metadata": {},
     "output_type": "execute_result"
    }
   ],
   "source": [
    "results"
   ]
  },
  {
   "cell_type": "code",
   "execution_count": 47,
   "metadata": {},
   "outputs": [],
   "source": [
    "with open('brand.ndjson', 'w', encoding='utf8') as json_file:\n",
    "    for idx, row in brands.iterrows():\n",
    "        b = {\"brand_id\": idx+1, \"name_kor\": str(row['name_kor']), \"name_eng\": str(row['name_eng']), \"synonyms\": [i for i in str(row['synonyms']).split(',') if i != 'nan'], \"models\": []}\n",
    "        json_file.write(str(json.dumps(b, ensure_ascii=False)) + '\\n')"
   ]
  },
  {
   "cell_type": "code",
   "execution_count": null,
   "metadata": {},
   "outputs": [],
   "source": [
    "\n"
   ]
  },
  {
   "cell_type": "code",
   "execution_count": null,
   "metadata": {},
   "outputs": [],
   "source": []
  }
 ],
 "metadata": {
  "kernelspec": {
   "display_name": "Python 3",
   "language": "python",
   "name": "python3"
  },
  "language_info": {
   "codemirror_mode": {
    "name": "ipython",
    "version": 3
   },
   "file_extension": ".py",
   "mimetype": "text/x-python",
   "name": "python",
   "nbconvert_exporter": "python",
   "pygments_lexer": "ipython3",
   "version": "3.7.5"
  }
 },
 "nbformat": 4,
 "nbformat_minor": 4
}
