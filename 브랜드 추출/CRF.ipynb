{
 "cells": [
  {
   "cell_type": "markdown",
   "metadata": {},
   "source": [
    "test_sample.csv\n",
    "- id\n",
    "- name\n",
    "- brand"
   ]
  },
  {
   "cell_type": "code",
   "execution_count": 6,
   "metadata": {},
   "outputs": [],
   "source": [
    "import re\n",
    "\n",
    "def preprocess_text(text):\n",
    "    text = str(text)\n",
    "    text = remove_emoji(text)\n",
    "    text = remove_puctuation(text)\n",
    "    text = remove_space(text)\n",
    "    return text.lower().strip()\n",
    "\n",
    "def remove_emoji(text):\n",
    "    regrex_pattern = re.compile(pattern=\"[\"\n",
    "                                        u\"\\U0001F600-\\U0001F64F\"  # emoticons\n",
    "                                        u\"\\U0001F300-\\U0001F5FF\"  # symbols & pictographs\n",
    "                                        u\"\\U0001F680-\\U0001F6FF\"  # transport & map symbols\n",
    "                                        u\"\\U0001F1E0-\\U0001F1FF\"  # flags (iOS)\n",
    "                                        \"]+\", flags=re.UNICODE)\n",
    "    return regrex_pattern.sub(r'', text)\n",
    "\n",
    "def remove_space(text):\n",
    "    return re.sub(r'\\s+', ' ', text)\n",
    "\n",
    "def remove_puctuation(text):\n",
    "    return re.sub(r'[^\\w\\s]', ' ', text)\n"
   ]
  },
  {
   "cell_type": "code",
   "execution_count": 9,
   "metadata": {},
   "outputs": [],
   "source": [
    "import pandas as pd\n",
    "df = pd.read_csv('test_sample.csv')\n",
    "df['preprocessed'] = df['name'].map(preprocess_text)\n",
    "df.to_csv('test_sample.csv', index=False)"
   ]
  },
  {
   "cell_type": "code",
   "execution_count": 10,
   "metadata": {},
   "outputs": [
    {
     "data": {
      "text/html": [
       "<div>\n",
       "<style scoped>\n",
       "    .dataframe tbody tr th:only-of-type {\n",
       "        vertical-align: middle;\n",
       "    }\n",
       "\n",
       "    .dataframe tbody tr th {\n",
       "        vertical-align: top;\n",
       "    }\n",
       "\n",
       "    .dataframe thead th {\n",
       "        text-align: right;\n",
       "    }\n",
       "</style>\n",
       "<table border=\"1\" class=\"dataframe\">\n",
       "  <thead>\n",
       "    <tr style=\"text-align: right;\">\n",
       "      <th></th>\n",
       "      <th>id</th>\n",
       "      <th>name</th>\n",
       "      <th>brand</th>\n",
       "      <th>preprocessed</th>\n",
       "    </tr>\n",
       "  </thead>\n",
       "  <tbody>\n",
       "    <tr>\n",
       "      <th>0</th>\n",
       "      <td>99566976</td>\n",
       "      <td>265mm 나이키 인터내셔널 리스트 운동화 / N261P</td>\n",
       "      <td>나이키</td>\n",
       "      <td>265mm 나이키 인터내셔널 리스트 운동화 n261p</td>\n",
       "    </tr>\n",
       "    <tr>\n",
       "      <th>1</th>\n",
       "      <td>100268480</td>\n",
       "      <td>☀️나이키 후드트레이닝세트☀️</td>\n",
       "      <td>나이키</td>\n",
       "      <td>나이키 후드트레이닝세트</td>\n",
       "    </tr>\n",
       "    <tr>\n",
       "      <th>2</th>\n",
       "      <td>888258</td>\n",
       "      <td>나이키 여성운동화 240</td>\n",
       "      <td>나이키</td>\n",
       "      <td>나이키 여성운동화 240</td>\n",
       "    </tr>\n",
       "    <tr>\n",
       "      <th>3</th>\n",
       "      <td>99987072</td>\n",
       "      <td>나이키 셀렉트 팬츠 구매합니다</td>\n",
       "      <td>나이키</td>\n",
       "      <td>나이키 셀렉트 팬츠 구매합니다</td>\n",
       "    </tr>\n",
       "    <tr>\n",
       "      <th>4</th>\n",
       "      <td>745734</td>\n",
       "      <td>급처나이키 크로스백팩</td>\n",
       "      <td>나이키</td>\n",
       "      <td>급처나이키 크로스백팩</td>\n",
       "    </tr>\n",
       "  </tbody>\n",
       "</table>\n",
       "</div>"
      ],
      "text/plain": [
       "          id                             name brand  \\\n",
       "0   99566976  265mm 나이키 인터내셔널 리스트 운동화 / N261P   나이키   \n",
       "1  100268480                 ☀️나이키 후드트레이닝세트☀️   나이키   \n",
       "2     888258                    나이키 여성운동화 240   나이키   \n",
       "3   99987072                 나이키 셀렉트 팬츠 구매합니다   나이키   \n",
       "4     745734                      급처나이키 크로스백팩   나이키   \n",
       "\n",
       "                    preprocessed  \n",
       "0  265mm 나이키 인터내셔널 리스트 운동화 n261p  \n",
       "1                   나이키 후드트레이닝세트  \n",
       "2                  나이키 여성운동화 240  \n",
       "3               나이키 셀렉트 팬츠 구매합니다  \n",
       "4                    급처나이키 크로스백팩  "
      ]
     },
     "execution_count": 10,
     "metadata": {},
     "output_type": "execute_result"
    }
   ],
   "source": [
    "df.head()"
   ]
  },
  {
   "cell_type": "code",
   "execution_count": 16,
   "metadata": {},
   "outputs": [],
   "source": [
    "import sentencepiece as sp\n",
    "\n",
    "model_file = 'name_unigram_20000.model'\n",
    "sp_processor = sp.SentencePieceProcessor(model_file)\n"
   ]
  },
  {
   "cell_type": "code",
   "execution_count": 33,
   "metadata": {},
   "outputs": [],
   "source": [
    "preprocessed = df['preprocessed']\n",
    "product_names = [sp_processor.encode_as_pieces(str(name)) for name in preprocessed]"
   ]
  },
  {
   "cell_type": "code",
   "execution_count": 187,
   "metadata": {},
   "outputs": [],
   "source": [
    "df.to_csv('./preprocessed_df.csv', index=False)"
   ]
  },
  {
   "cell_type": "code",
   "execution_count": 34,
   "metadata": {},
   "outputs": [
    {
     "name": "stdout",
     "output_type": "stream",
     "text": [
      "['▁265', 'mm', '▁나이키', '▁인터내셔널', '▁리스트', '▁운동화', '▁n', '26', '1', 'p']\n",
      "['265', 'mm', '나이키', '인터내셔널', '리스트', '운동화', 'n', '26', '1', 'p']\n"
     ]
    }
   ],
   "source": [
    "print(product_names[0])\n",
    "print([t[1:] if t.startswith('▁') else t for t in product_names[0]])"
   ]
  },
  {
   "cell_type": "code",
   "execution_count": 35,
   "metadata": {},
   "outputs": [
    {
     "name": "stderr",
     "output_type": "stream",
     "text": [
      "100%|██████████| 515/515 [00:00<00:00, 384011.83it/s]\n"
     ]
    }
   ],
   "source": [
    "from tqdm import tqdm\n",
    "\n",
    "product_tokens = []\n",
    "for idx in tqdm(range(len(product_names))):\n",
    "    name = product_names[idx]\n",
    "    tokens = [t[1:] if t.startswith('▁') else t for t in name]\n",
    "    product_tokens.append(tokens)"
   ]
  },
  {
   "cell_type": "code",
   "execution_count": 179,
   "metadata": {},
   "outputs": [],
   "source": [
    "# -*- coding:utf-8 -*-\n",
    "\n",
    "import pickle\n",
    "with open('product_tokens.txt', 'wb') as f:\n",
    "    pickle.dump(product_tokens, f)"
   ]
  },
  {
   "cell_type": "code",
   "execution_count": 181,
   "metadata": {},
   "outputs": [],
   "source": [
    "df['tokens'] = product_tokens\n",
    "df.to_csv('df.csv', index=False)"
   ]
  },
  {
   "cell_type": "code",
   "execution_count": 42,
   "metadata": {
    "scrolled": true
   },
   "outputs": [
    {
     "name": "stdout",
     "output_type": "stream",
     "text": [
      "['▁나이키']\n",
      "['▁스톤아일랜드']\n",
      "['▁뉴발란스']\n",
      "['▁아디다스']\n",
      "['▁노스페이스']\n",
      "['▁스투시']\n",
      "['▁아식스']\n",
      "['▁무신사스탠다드']\n",
      "['▁디스이즈네버댓']\n",
      "['▁커버낫']\n",
      "['▁메종키츠네']\n",
      "['▁아미']\n",
      "['▁아더에러']\n",
      "['▁반스']\n",
      "['▁아크네']\n",
      "['▁컨버스']\n",
      "['▁유니클로']\n",
      "['▁알파인더스트리']\n",
      "['▁에센셜']\n",
      "['▁내셔널지오그래픽']\n",
      "['▁앤더슨벨']\n",
      "['▁파타고니아']\n",
      "['▁르꼬끄']\n",
      "['▁칼하트']\n",
      "['▁구찌']\n",
      "['▁프라다']\n",
      "['▁자라']\n",
      "['▁메종마르지엘라']\n",
      "['▁라퍼지스토어']\n",
      "['▁비바스튜디오']\n",
      "['▁프라이탁']\n",
      "['▁커먼프로젝트']\n",
      "['▁라코스테']\n",
      "['▁챔피온']\n",
      "['▁모드나인']\n",
      "['▁슈프림']\n",
      "['▁오베이']\n",
      "['▁피어오브갓']\n",
      "['▁루이비통']\n",
      "['▁페이탈리즘']\n",
      "['▁뉴에라']\n",
      "['▁바버']\n",
      "['▁피스워커']\n",
      "['▁오프화이트']\n",
      "['▁톰브라운']\n",
      "['▁보테가베네타']\n",
      "['▁디올']\n",
      "['▁알렉산더맥퀸']\n",
      "['▁무스너클']\n",
      "['▁티파니']\n",
      "['▁에르메스']\n",
      "['▁샤넬']\n",
      "['▁토템']\n",
      "['▁입생로랑']\n",
      "['▁자크뮈스']\n"
     ]
    }
   ],
   "source": [
    "brand_set = df.brand.unique()\n",
    "for brand in brand_set:\n",
    "    print(sp_processor.encode_as_pieces(brand))"
   ]
  },
  {
   "cell_type": "code",
   "execution_count": 36,
   "metadata": {},
   "outputs": [
    {
     "name": "stdout",
     "output_type": "stream",
     "text": [
      "['▁나이키', '▁', '셀렉트', '▁팬츠', '▁구매합니다']\n",
      "['나이키', '', '셀렉트', '팬츠', '구매합니다']\n"
     ]
    }
   ],
   "source": [
    "print(product_names[3])\n",
    "print(product_tokens[3])"
   ]
  },
  {
   "cell_type": "code",
   "execution_count": 64,
   "metadata": {},
   "outputs": [
    {
     "data": {
      "text/plain": [
       "True"
      ]
     },
     "execution_count": 64,
     "metadata": {},
     "output_type": "execute_result"
    }
   ],
   "source": [
    "import re\n",
    "w = '나이키'\n",
    "bool(re.compile(r'[가-힣]+').match(w))\n"
   ]
  },
  {
   "cell_type": "code",
   "execution_count": 118,
   "metadata": {},
   "outputs": [],
   "source": [
    "import string\n",
    "\n",
    "def labeling(label, tokens):\n",
    "    return [(word, label) for word in tokens]\n",
    "\n",
    "def branding(brand, tokens):\n",
    "    if brand in tokens:\n",
    "        br_idx = tokens.index(brand)\n",
    "        return labeling('0', tokens[:br_idx]) + labeling('BRAND', [tokens[br_idx]]) + labeling('0', tokens[br_idx+1:])\n",
    "    else:\n",
    "        return labeling('0', tokens)"
   ]
  },
  {
   "cell_type": "code",
   "execution_count": 119,
   "metadata": {},
   "outputs": [
    {
     "data": {
      "text/plain": [
       "[('스톤아일랜드', 'BRAND'), ('니트', '0')]"
      ]
     },
     "execution_count": 119,
     "metadata": {},
     "output_type": "execute_result"
    }
   ],
   "source": [
    "branding('스톤아일랜드', product_tokens[10])"
   ]
  },
  {
   "cell_type": "code",
   "execution_count": 154,
   "metadata": {},
   "outputs": [],
   "source": [
    "import re\n",
    "\n",
    "def word2features(tokens, i):\n",
    "    word = str(tokens[i])\n",
    "    features = {\n",
    "        'bias': 1,\n",
    "        'word_position': i,\n",
    "        'word[-2:]': word[-2:],\n",
    "        'word_lower': word.lower(),\n",
    "        'word_anyDigit': any(ch.isdigit() for ch in word),\n",
    "        'word_isDigit': bool(re.compile(r'[0-9]').match(word)),\n",
    "        'word_isEng': bool(re.compile(r'[a-zA-Z]+').match(word)),\n",
    "        'word_isKor': bool(re.compile(r'[가-힣]+').match(word))\n",
    "    }\n",
    "    \n",
    "    if i > 0:\n",
    "        prev_word = str(tokens[i-1])\n",
    "        features.update({\n",
    "            'prev_word_anyDigit': any(ch.isdigit() for ch in prev_word),\n",
    "            'prev_word_isDigit': bool(re.compile(r'[0-9]').match(word)),\n",
    "            'prev_word_isEng': bool(re.compile(r'[a-zA-Z]+').match(prev_word)),\n",
    "            'prev_word_isKor': bool(re.compile(r'[가-힣]+').match(prev_word))\n",
    "        })\n",
    "    \n",
    "    else:\n",
    "        features['BOS'] = True\n",
    "    \n",
    "    if i < len(tokens) - 1:\n",
    "        next_word = str(tokens[i+1])\n",
    "        features.update({\n",
    "            'next_word_anyDigit': any(ch.isdigit() for ch in next_word),\n",
    "            'next_word_isDigit': bool(re.compile(r'[0-9]').match(word)),\n",
    "            'next_word_isEng': bool(re.compile(r'[a-zA-Z]+').match(next_word)),\n",
    "            'next_word_isKor': bool(re.compile(r'[가-힣]+').match(next_word))\n",
    "        })\n",
    "    else:\n",
    "        features['EOS'] = True\n",
    "    \n",
    "    if i > 1:\n",
    "        prev1 = str(tokens[i-1])\n",
    "        prev2 = str(tokens[i-2])\n",
    "        features.update({\n",
    "            '-2ngram': '{} {}'.format(prev1, prev2)\n",
    "        })\n",
    "    if i < len(tokens) - 2:\n",
    "        next1 = str(tokens[i+1])\n",
    "        next2 = str(tokens[i+2])\n",
    "        features.update({\n",
    "            '+2ngram': '{} {}'.format(next1, next2)\n",
    "        })\n",
    "    \n",
    "    return features"
   ]
  },
  {
   "cell_type": "code",
   "execution_count": 155,
   "metadata": {},
   "outputs": [],
   "source": [
    "class DataLoader:\n",
    "    def get_data(self, file_name='test_sample.csv'):\n",
    "        df = pd.read_csv(file_name)\n",
    "        branding_list = []\n",
    "        word2features_list = []\n",
    "        label_list = []\n",
    "        for idx, row in df.iterrows():\n",
    "            tokens = product_tokens[idx]\n",
    "            br = branding(row.brand, tokens)\n",
    "            branding_list.append(br)\n",
    "            w2f = [word2features(tokens, i) for i in range(len(tokens))]\n",
    "            word2features_list.append(w2f)\n",
    "            label = [label for token, label in br]\n",
    "            label_list.append(label)\n",
    "        return {\n",
    "            'name': df.preprocessed.tolist(),\n",
    "            'branding_list': branding_list, \n",
    "            'word2features_list': word2features_list, \n",
    "            'label_list': label_list,\n",
    "            'brand': df.brand.tolist()\n",
    "           }"
   ]
  },
  {
   "cell_type": "code",
   "execution_count": 156,
   "metadata": {},
   "outputs": [],
   "source": [
    "dl = DataLoader()"
   ]
  },
  {
   "cell_type": "code",
   "execution_count": 157,
   "metadata": {},
   "outputs": [],
   "source": [
    "data = dl.get_data()"
   ]
  },
  {
   "cell_type": "code",
   "execution_count": 158,
   "metadata": {
    "scrolled": true
   },
   "outputs": [],
   "source": [
    "crf_df = pd.DataFrame.from_dict(data)"
   ]
  },
  {
   "cell_type": "code",
   "execution_count": 159,
   "metadata": {},
   "outputs": [
    {
     "data": {
      "text/plain": [
       "Index(['name', 'branding_list', 'word2features_list', 'label_list', 'brand'], dtype='object')"
      ]
     },
     "execution_count": 159,
     "metadata": {},
     "output_type": "execute_result"
    }
   ],
   "source": [
    "crf_df.columns"
   ]
  },
  {
   "cell_type": "code",
   "execution_count": 160,
   "metadata": {},
   "outputs": [
    {
     "data": {
      "text/html": [
       "<div>\n",
       "<style scoped>\n",
       "    .dataframe tbody tr th:only-of-type {\n",
       "        vertical-align: middle;\n",
       "    }\n",
       "\n",
       "    .dataframe tbody tr th {\n",
       "        vertical-align: top;\n",
       "    }\n",
       "\n",
       "    .dataframe thead th {\n",
       "        text-align: right;\n",
       "    }\n",
       "</style>\n",
       "<table border=\"1\" class=\"dataframe\">\n",
       "  <thead>\n",
       "    <tr style=\"text-align: right;\">\n",
       "      <th></th>\n",
       "      <th>name</th>\n",
       "      <th>branding_list</th>\n",
       "      <th>word2features_list</th>\n",
       "      <th>label_list</th>\n",
       "      <th>brand</th>\n",
       "    </tr>\n",
       "  </thead>\n",
       "  <tbody>\n",
       "    <tr>\n",
       "      <th>0</th>\n",
       "      <td>265mm 나이키 인터내셔널 리스트 운동화 n261p</td>\n",
       "      <td>[(265, 0), (mm, 0), (나이키, BRAND), (인터내셔널, 0), ...</td>\n",
       "      <td>[{'bias': 1, 'word_position': 0, 'word[-2:]': ...</td>\n",
       "      <td>[0, 0, BRAND, 0, 0, 0, 0, 0, 0, 0]</td>\n",
       "      <td>나이키</td>\n",
       "    </tr>\n",
       "    <tr>\n",
       "      <th>1</th>\n",
       "      <td>나이키 후드트레이닝세트</td>\n",
       "      <td>[(나이키, BRAND), (후드, 0), (트레이닝세트, 0)]</td>\n",
       "      <td>[{'bias': 1, 'word_position': 0, 'word[-2:]': ...</td>\n",
       "      <td>[BRAND, 0, 0]</td>\n",
       "      <td>나이키</td>\n",
       "    </tr>\n",
       "    <tr>\n",
       "      <th>2</th>\n",
       "      <td>나이키 여성운동화 240</td>\n",
       "      <td>[(나이키, BRAND), (여성운동화, 0), (240, 0)]</td>\n",
       "      <td>[{'bias': 1, 'word_position': 0, 'word[-2:]': ...</td>\n",
       "      <td>[BRAND, 0, 0]</td>\n",
       "      <td>나이키</td>\n",
       "    </tr>\n",
       "    <tr>\n",
       "      <th>3</th>\n",
       "      <td>나이키 셀렉트 팬츠 구매합니다</td>\n",
       "      <td>[(나이키, BRAND), (, 0), (셀렉트, 0), (팬츠, 0), (구매합니...</td>\n",
       "      <td>[{'bias': 1, 'word_position': 0, 'word[-2:]': ...</td>\n",
       "      <td>[BRAND, 0, 0, 0, 0]</td>\n",
       "      <td>나이키</td>\n",
       "    </tr>\n",
       "    <tr>\n",
       "      <th>4</th>\n",
       "      <td>급처나이키 크로스백팩</td>\n",
       "      <td>[(급처, 0), (나이키, BRAND), (크로스백, 0), (팩, 0)]</td>\n",
       "      <td>[{'bias': 1, 'word_position': 0, 'word[-2:]': ...</td>\n",
       "      <td>[0, BRAND, 0, 0]</td>\n",
       "      <td>나이키</td>\n",
       "    </tr>\n",
       "  </tbody>\n",
       "</table>\n",
       "</div>"
      ],
      "text/plain": [
       "                            name  \\\n",
       "0  265mm 나이키 인터내셔널 리스트 운동화 n261p   \n",
       "1                   나이키 후드트레이닝세트   \n",
       "2                  나이키 여성운동화 240   \n",
       "3               나이키 셀렉트 팬츠 구매합니다   \n",
       "4                    급처나이키 크로스백팩   \n",
       "\n",
       "                                       branding_list  \\\n",
       "0  [(265, 0), (mm, 0), (나이키, BRAND), (인터내셔널, 0), ...   \n",
       "1               [(나이키, BRAND), (후드, 0), (트레이닝세트, 0)]   \n",
       "2               [(나이키, BRAND), (여성운동화, 0), (240, 0)]   \n",
       "3  [(나이키, BRAND), (, 0), (셀렉트, 0), (팬츠, 0), (구매합니...   \n",
       "4         [(급처, 0), (나이키, BRAND), (크로스백, 0), (팩, 0)]   \n",
       "\n",
       "                                  word2features_list  \\\n",
       "0  [{'bias': 1, 'word_position': 0, 'word[-2:]': ...   \n",
       "1  [{'bias': 1, 'word_position': 0, 'word[-2:]': ...   \n",
       "2  [{'bias': 1, 'word_position': 0, 'word[-2:]': ...   \n",
       "3  [{'bias': 1, 'word_position': 0, 'word[-2:]': ...   \n",
       "4  [{'bias': 1, 'word_position': 0, 'word[-2:]': ...   \n",
       "\n",
       "                           label_list brand  \n",
       "0  [0, 0, BRAND, 0, 0, 0, 0, 0, 0, 0]   나이키  \n",
       "1                       [BRAND, 0, 0]   나이키  \n",
       "2                       [BRAND, 0, 0]   나이키  \n",
       "3                 [BRAND, 0, 0, 0, 0]   나이키  \n",
       "4                    [0, BRAND, 0, 0]   나이키  "
      ]
     },
     "execution_count": 160,
     "metadata": {},
     "output_type": "execute_result"
    }
   ],
   "source": [
    "crf_df.head()"
   ]
  },
  {
   "cell_type": "code",
   "execution_count": 182,
   "metadata": {},
   "outputs": [],
   "source": [
    "from sklearn_crfsuite import metrics, CRF\n",
    "from sklearn.model_selection import train_test_split\n",
    "import pickle\n",
    "import numpy as np\n",
    "import pandas as pd\n",
    "\n",
    "class CrfBrandDetector:\n",
    "    def __init__(self):\n",
    "        self.df = None\n",
    "        self.test_index = None\n",
    "        self.crf = None\n",
    "        self.y_pred = None\n",
    "    \n",
    "    def train_test_split(self, df, test_size=0.2, random_state=123):\n",
    "        self.df = df\n",
    "        x_train, x_test, y_train, y_test = train_test_split(\n",
    "            self.df['word2features_list'], self.df['label_list'],\n",
    "            test_size=test_size,\n",
    "            random_state=random_state\n",
    "        )\n",
    "        self.test_index = x_test.index\n",
    "        return x_train, x_test, y_train, y_test\n",
    "    \n",
    "    def fit(self, x_train, y_train):\n",
    "        self.crf = CRF(\n",
    "            algorithm='lbfgs',\n",
    "            c1=0.05,\n",
    "            c2=0.05,\n",
    "            max_iterations=100,\n",
    "            all_possible_states=True\n",
    "        )\n",
    "        self.crf.fit(x_train, y_train)\n",
    "    \n",
    "    def save_model(self, model_file_name='crf_model.sav'):\n",
    "        pickle.dump(self.crf, open(model_file_name, 'wb'))\n",
    "        \n",
    "    def predict(self, x):\n",
    "        title = [[diction['word_lower'] for diction in obs] for obs in x]\n",
    "        self.y_pred = self.crf.predict(x)\n",
    "        idx = [[True if label == 'BRAND' else False for label in obs] for obs in self.y_pred]\n",
    "        preds = [' '.join(np.array(title[i])[idx[i]]) for i in range(len(title))]\n",
    "        df_pred = pd.concat([\n",
    "            self.df[self.df.index.isin(self.test_index)].reindex(self.test_index).reset_index()['name'],\n",
    "            pd.DataFrame(preds)\n",
    "        ], axis=1)\n",
    "        df_pred.columns = ['product_name', 'predicted_brand']\n",
    "        df_pred['predicted_brand'] = df_pred.apply(\n",
    "            lambda row: row.predicted_brand if row.predicted_brand in row['product_name'].lower()\n",
    "            else row.predicted_brand.split(), axis=1\n",
    "        )\n",
    "        return df_pred\n",
    "\n",
    "    def get_y_pred(self):\n",
    "        return self.y_pred\n",
    "    \n",
    "    def report_classification(self, x_test, y_test):\n",
    "        labels = list(self.crf.classes_)\n",
    "        labels.remove('0')\n",
    "        print(metrics.flat_classification_report(\n",
    "            y_test,\n",
    "            self.y_pred,\n",
    "            labels=labels,\n",
    "            digits=3\n",
    "        ))\n",
    "\n",
    "    def evaluate(self, y_test):\n",
    "        acc = float(list(y_test == self.y_pred).count(True)) / len(self.y_pred)\n",
    "        return acc"
   ]
  },
  {
   "cell_type": "code",
   "execution_count": 183,
   "metadata": {},
   "outputs": [],
   "source": [
    "crf_model = CrfBrandDetector()\n",
    "x_train, x_test, y_train, y_test = crf_model.train_test_split(crf_df)\n",
    "crf_model.fit(x_train, y_train)"
   ]
  },
  {
   "cell_type": "code",
   "execution_count": 184,
   "metadata": {},
   "outputs": [],
   "source": [
    "pred = crf_model.predict(x_test)"
   ]
  },
  {
   "cell_type": "code",
   "execution_count": 189,
   "metadata": {},
   "outputs": [
    {
     "data": {
      "text/plain": [
       "['0', '0', '0', '0', '0', '0', '0']"
      ]
     },
     "execution_count": 189,
     "metadata": {},
     "output_type": "execute_result"
    }
   ],
   "source": [
    "crf_model.get_y_pred()[5]"
   ]
  },
  {
   "cell_type": "code",
   "execution_count": 172,
   "metadata": {},
   "outputs": [
    {
     "data": {
      "text/html": [
       "<div>\n",
       "<style scoped>\n",
       "    .dataframe tbody tr th:only-of-type {\n",
       "        vertical-align: middle;\n",
       "    }\n",
       "\n",
       "    .dataframe tbody tr th {\n",
       "        vertical-align: top;\n",
       "    }\n",
       "\n",
       "    .dataframe thead th {\n",
       "        text-align: right;\n",
       "    }\n",
       "</style>\n",
       "<table border=\"1\" class=\"dataframe\">\n",
       "  <thead>\n",
       "    <tr style=\"text-align: right;\">\n",
       "      <th></th>\n",
       "      <th>product_name</th>\n",
       "      <th>predicted_brand</th>\n",
       "    </tr>\n",
       "  </thead>\n",
       "  <tbody>\n",
       "    <tr>\n",
       "      <th>0</th>\n",
       "      <td>아디다스 핑크 로고 후드집업</td>\n",
       "      <td>아디다스</td>\n",
       "    </tr>\n",
       "    <tr>\n",
       "      <th>1</th>\n",
       "      <td>95 르꼬끄 맨투맨 무료배송</td>\n",
       "      <td>르꼬끄</td>\n",
       "    </tr>\n",
       "    <tr>\n",
       "      <th>2</th>\n",
       "      <td>디스이즈네버댓 티셔츠</td>\n",
       "      <td>디스이즈네버댓</td>\n",
       "    </tr>\n",
       "    <tr>\n",
       "      <th>3</th>\n",
       "      <td>비바스튜디오 롱코트</td>\n",
       "      <td>비바스튜디오</td>\n",
       "    </tr>\n",
       "    <tr>\n",
       "      <th>4</th>\n",
       "      <td>아디다스 여성 춘추 트렌치 코트 상태좋음</td>\n",
       "      <td>아디다스</td>\n",
       "    </tr>\n",
       "    <tr>\n",
       "      <th>5</th>\n",
       "      <td>후루룩구제 나이키 265 운동화 중고 가방 신발</td>\n",
       "      <td></td>\n",
       "    </tr>\n",
       "    <tr>\n",
       "      <th>6</th>\n",
       "      <td>삽니다 프라이탁 지갑 max 삽니다 구합니다 블랙만</td>\n",
       "      <td>프라이탁</td>\n",
       "    </tr>\n",
       "    <tr>\n",
       "      <th>7</th>\n",
       "      <td>새상품 피스워커 mine worker st develop</td>\n",
       "      <td>피스워커</td>\n",
       "    </tr>\n",
       "    <tr>\n",
       "      <th>8</th>\n",
       "      <td>톰브라운 캐시 사선완장 가디건 풀라벨 출고입니다 수입 부자재 원단</td>\n",
       "      <td>톰브라운</td>\n",
       "    </tr>\n",
       "    <tr>\n",
       "      <th>9</th>\n",
       "      <td>디올 스타일 열쇠고리 키링</td>\n",
       "      <td>디올</td>\n",
       "    </tr>\n",
       "    <tr>\n",
       "      <th>10</th>\n",
       "      <td>뉴에라 비니</td>\n",
       "      <td>뉴에라</td>\n",
       "    </tr>\n",
       "    <tr>\n",
       "      <th>11</th>\n",
       "      <td>새상품 라퍼지스토어</td>\n",
       "      <td>라퍼지스토어</td>\n",
       "    </tr>\n",
       "    <tr>\n",
       "      <th>12</th>\n",
       "      <td>프라다 스니커즈</td>\n",
       "      <td>프라다</td>\n",
       "    </tr>\n",
       "    <tr>\n",
       "      <th>13</th>\n",
       "      <td>m xl 팔라스 토템 후드 블랙 지즈 19fw winter</td>\n",
       "      <td>토템</td>\n",
       "    </tr>\n",
       "    <tr>\n",
       "      <th>14</th>\n",
       "      <td>페이탈리즘 클레어 슬림 크롭핏 0171 46사이즈</td>\n",
       "      <td>페이탈리즘</td>\n",
       "    </tr>\n",
       "    <tr>\n",
       "      <th>15</th>\n",
       "      <td>자라 니트</td>\n",
       "      <td>자라</td>\n",
       "    </tr>\n",
       "    <tr>\n",
       "      <th>16</th>\n",
       "      <td>칼하트 액티브 바람막이 자켓</td>\n",
       "      <td>칼하트</td>\n",
       "    </tr>\n",
       "    <tr>\n",
       "      <th>17</th>\n",
       "      <td>유니클로 청바지</td>\n",
       "      <td>유니클로</td>\n",
       "    </tr>\n",
       "    <tr>\n",
       "      <th>18</th>\n",
       "      <td>오베이 나그랑 티셔츠</td>\n",
       "      <td>오베이</td>\n",
       "    </tr>\n",
       "    <tr>\n",
       "      <th>19</th>\n",
       "      <td>정품 무스너클 스틸링</td>\n",
       "      <td>무스너클</td>\n",
       "    </tr>\n",
       "  </tbody>\n",
       "</table>\n",
       "</div>"
      ],
      "text/plain": [
       "                            product_name predicted_brand\n",
       "0                        아디다스 핑크 로고 후드집업            아디다스\n",
       "1                        95 르꼬끄 맨투맨 무료배송             르꼬끄\n",
       "2                            디스이즈네버댓 티셔츠         디스이즈네버댓\n",
       "3                             비바스튜디오 롱코트          비바스튜디오\n",
       "4                 아디다스 여성 춘추 트렌치 코트 상태좋음            아디다스\n",
       "5             후루룩구제 나이키 265 운동화 중고 가방 신발                \n",
       "6           삽니다 프라이탁 지갑 max 삽니다 구합니다 블랙만            프라이탁\n",
       "7        새상품 피스워커 mine worker st develop            피스워커\n",
       "8   톰브라운 캐시 사선완장 가디건 풀라벨 출고입니다 수입 부자재 원단            톰브라운\n",
       "9                         디올 스타일 열쇠고리 키링              디올\n",
       "10                                뉴에라 비니             뉴에라\n",
       "11                            새상품 라퍼지스토어          라퍼지스토어\n",
       "12                              프라다 스니커즈             프라다\n",
       "13      m xl 팔라스 토템 후드 블랙 지즈 19fw winter              토템\n",
       "14           페이탈리즘 클레어 슬림 크롭핏 0171 46사이즈           페이탈리즘\n",
       "15                                 자라 니트              자라\n",
       "16                       칼하트 액티브 바람막이 자켓             칼하트\n",
       "17                              유니클로 청바지            유니클로\n",
       "18                           오베이 나그랑 티셔츠             오베이\n",
       "19                           정품 무스너클 스틸링            무스너클"
      ]
     },
     "execution_count": 172,
     "metadata": {},
     "output_type": "execute_result"
    }
   ],
   "source": [
    "pred[:20]"
   ]
  },
  {
   "cell_type": "code",
   "execution_count": 174,
   "metadata": {},
   "outputs": [
    {
     "name": "stdout",
     "output_type": "stream",
     "text": [
      "              precision    recall  f1-score   support\n",
      "\n",
      "       BRAND      0.990     0.951     0.970       103\n",
      "\n",
      "   micro avg      0.990     0.951     0.970       103\n",
      "   macro avg      0.990     0.951     0.970       103\n",
      "weighted avg      0.990     0.951     0.970       103\n",
      "\n"
     ]
    }
   ],
   "source": [
    "crf_model.report_classification(x_test, y_test)"
   ]
  },
  {
   "cell_type": "code",
   "execution_count": 175,
   "metadata": {},
   "outputs": [
    {
     "name": "stderr",
     "output_type": "stream",
     "text": [
      "/Users/emilyPark/.pyenv/versions/bun-analytics/lib/python3.7/site-packages/numpy/core/_asarray.py:83: VisibleDeprecationWarning: Creating an ndarray from ragged nested sequences (which is a list-or-tuple of lists-or-tuples-or ndarrays with different lengths or shapes) is deprecated. If you meant to do this, you must specify 'dtype=object' when creating the ndarray\n",
      "  return array(a, dtype, copy=False, order=order)\n"
     ]
    },
    {
     "data": {
      "text/plain": [
       "0.9514563106796117"
      ]
     },
     "execution_count": 175,
     "metadata": {},
     "output_type": "execute_result"
    }
   ],
   "source": [
    "crf_model.evaluate(y_test)"
   ]
  },
  {
   "cell_type": "code",
   "execution_count": null,
   "metadata": {},
   "outputs": [],
   "source": []
  }
 ],
 "metadata": {
  "kernelspec": {
   "display_name": "Python 3",
   "language": "python",
   "name": "python3"
  },
  "language_info": {
   "codemirror_mode": {
    "name": "ipython",
    "version": 3
   },
   "file_extension": ".py",
   "mimetype": "text/x-python",
   "name": "python",
   "nbconvert_exporter": "python",
   "pygments_lexer": "ipython3",
   "version": "3.7.5"
  }
 },
 "nbformat": 4,
 "nbformat_minor": 4
}
