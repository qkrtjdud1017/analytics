{
 "cells": [
  {
   "cell_type": "code",
   "execution_count": 1,
   "metadata": {},
   "outputs": [],
   "source": [
    "import ndjson\n",
    "df = None\n",
    "with open('product_brand_ner_data.ndjson', 'r', encoding='utf8') as f:\n",
    "    df = ndjson.load(f)"
   ]
  },
  {
   "cell_type": "code",
   "execution_count": 2,
   "metadata": {},
   "outputs": [
    {
     "data": {
      "text/plain": [
       "{'brands': ['나이키'], 'spans': [[7, 10]], 'text': '(수입고퀄) 나이키 스우시 반팔티셔츠'}"
      ]
     },
     "execution_count": 2,
     "metadata": {},
     "output_type": "execute_result"
    }
   ],
   "source": [
    "df[0]"
   ]
  },
  {
   "cell_type": "code",
   "execution_count": 3,
   "metadata": {},
   "outputs": [],
   "source": [
    "brands = []\n",
    "texts = []\n",
    "spans = []\n",
    "for i in df:\n",
    "    brands.append(i['brands'])\n",
    "    texts.append(i['text'])\n",
    "    spans.append(i['spans'])"
   ]
  },
  {
   "cell_type": "code",
   "execution_count": 4,
   "metadata": {},
   "outputs": [
    {
     "name": "stdout",
     "output_type": "stream",
     "text": [
      "True\n"
     ]
    }
   ],
   "source": [
    "print(len(brands) == len(spans) == len(texts))"
   ]
  },
  {
   "cell_type": "code",
   "execution_count": 5,
   "metadata": {},
   "outputs": [],
   "source": [
    "import pandas as pd\n",
    "data = pd.DataFrame.from_dict({\n",
    "    'brand': brands,\n",
    "    'text': texts,\n",
    "    'span': spans\n",
    "})"
   ]
  },
  {
   "cell_type": "code",
   "execution_count": 6,
   "metadata": {
    "scrolled": false
   },
   "outputs": [
    {
     "data": {
      "text/html": [
       "<div>\n",
       "<style scoped>\n",
       "    .dataframe tbody tr th:only-of-type {\n",
       "        vertical-align: middle;\n",
       "    }\n",
       "\n",
       "    .dataframe tbody tr th {\n",
       "        vertical-align: top;\n",
       "    }\n",
       "\n",
       "    .dataframe thead th {\n",
       "        text-align: right;\n",
       "    }\n",
       "</style>\n",
       "<table border=\"1\" class=\"dataframe\">\n",
       "  <thead>\n",
       "    <tr style=\"text-align: right;\">\n",
       "      <th></th>\n",
       "      <th>brand</th>\n",
       "      <th>text</th>\n",
       "      <th>span</th>\n",
       "    </tr>\n",
       "  </thead>\n",
       "  <tbody>\n",
       "    <tr>\n",
       "      <th>228600</th>\n",
       "      <td>[나이키, nike]</td>\n",
       "      <td>나이키 nike 스우시 바람막이 점퍼 자켓</td>\n",
       "      <td>[[0, 3], [4, 8]]</td>\n",
       "    </tr>\n",
       "    <tr>\n",
       "      <th>1104726</th>\n",
       "      <td>[폴로]</td>\n",
       "      <td>폴로 단가라 와플티 108</td>\n",
       "      <td>[[0, 2]]</td>\n",
       "    </tr>\n",
       "    <tr>\n",
       "      <th>520293</th>\n",
       "      <td>[컨버스]</td>\n",
       "      <td>컨버스 하이탑 235</td>\n",
       "      <td>[[0, 3]]</td>\n",
       "    </tr>\n",
       "    <tr>\n",
       "      <th>880942</th>\n",
       "      <td>[바버]</td>\n",
       "      <td>바버 뷰포트 세이지 국내 정품 새상품 38</td>\n",
       "      <td>[[0, 2]]</td>\n",
       "    </tr>\n",
       "    <tr>\n",
       "      <th>633938</th>\n",
       "      <td>[구찌]</td>\n",
       "      <td>구찌 수프림 인터로킹 남녀공용 백팩</td>\n",
       "      <td>[[0, 2]]</td>\n",
       "    </tr>\n",
       "    <tr>\n",
       "      <th>97982</th>\n",
       "      <td>[나이키, 사카이]</td>\n",
       "      <td># 프리미엄 # 나이키 x 사카이 ldv 와플 나일론 #</td>\n",
       "      <td>[[9, 12], [15, 18]]</td>\n",
       "    </tr>\n",
       "    <tr>\n",
       "      <th>143388</th>\n",
       "      <td>[나이키]</td>\n",
       "      <td>나이키 트레비스스캇270 240사이즈</td>\n",
       "      <td>[[0, 3]]</td>\n",
       "    </tr>\n",
       "    <tr>\n",
       "      <th>740571</th>\n",
       "      <td>[코스, cos]</td>\n",
       "      <td>cos 코스 레더패치 울 크루넥 스웨터 / 라운드 니트</td>\n",
       "      <td>[[4, 6], [0, 3]]</td>\n",
       "    </tr>\n",
       "    <tr>\n",
       "      <th>870930</th>\n",
       "      <td>[루이비통]</td>\n",
       "      <td>루이비통 다미에 베로나</td>\n",
       "      <td>[[0, 4]]</td>\n",
       "    </tr>\n",
       "    <tr>\n",
       "      <th>320034</th>\n",
       "      <td>[아디다스]</td>\n",
       "      <td>아디다스 트레포일  xxl 맨투맨 크루넥티 110 팝니다. ay7792</td>\n",
       "      <td>[[0, 4]]</td>\n",
       "    </tr>\n",
       "    <tr>\n",
       "      <th>453014</th>\n",
       "      <td>[무신사]</td>\n",
       "      <td>(0회착) 무신사 카키 릴렉스핏 옥스퍼드 셔츠 xl</td>\n",
       "      <td>[[6, 9]]</td>\n",
       "    </tr>\n",
       "    <tr>\n",
       "      <th>484097</th>\n",
       "      <td>[아더에러]</td>\n",
       "      <td>d86001 아더에러 후드</td>\n",
       "      <td>[[7, 11]]</td>\n",
       "    </tr>\n",
       "    <tr>\n",
       "      <th>206568</th>\n",
       "      <td>[나이키]</td>\n",
       "      <td>나이키 메탈스우시 캡</td>\n",
       "      <td>[[0, 3]]</td>\n",
       "    </tr>\n",
       "    <tr>\n",
       "      <th>1130147</th>\n",
       "      <td>[폴로]</td>\n",
       "      <td>폴로 스트라이프 카라반팔티</td>\n",
       "      <td>[[0, 2]]</td>\n",
       "    </tr>\n",
       "    <tr>\n",
       "      <th>1289858</th>\n",
       "      <td>[꼼데]</td>\n",
       "      <td>급쳐 꼼데 더블와펜나이키 반팔 일괄 판매</td>\n",
       "      <td>[[3, 5]]</td>\n",
       "    </tr>\n",
       "    <tr>\n",
       "      <th>1502029</th>\n",
       "      <td>[몽클레어]</td>\n",
       "      <td>[l] 몽클레어 18fw 김현우 패딩 니트자켓</td>\n",
       "      <td>[[4, 8]]</td>\n",
       "    </tr>\n",
       "    <tr>\n",
       "      <th>940937</th>\n",
       "      <td>[디올]</td>\n",
       "      <td>디올 메이크업백</td>\n",
       "      <td>[[0, 2]]</td>\n",
       "    </tr>\n",
       "    <tr>\n",
       "      <th>455228</th>\n",
       "      <td>[디스이즈네버댓]</td>\n",
       "      <td>디스이즈네버댓 맨투맨 / 디스이브네버뎃</td>\n",
       "      <td>[[0, 7]]</td>\n",
       "    </tr>\n",
       "    <tr>\n",
       "      <th>508541</th>\n",
       "      <td>[acne]</td>\n",
       "      <td>[m] acne studios nimah navy</td>\n",
       "      <td>[[4, 8]]</td>\n",
       "    </tr>\n",
       "    <tr>\n",
       "      <th>1360510</th>\n",
       "      <td>[발렌티노]</td>\n",
       "      <td>발렌티노 정품 카드지갑 .가격내림</td>\n",
       "      <td>[[0, 4]]</td>\n",
       "    </tr>\n",
       "  </tbody>\n",
       "</table>\n",
       "</div>"
      ],
      "text/plain": [
       "               brand                                     text  \\\n",
       "228600   [나이키, nike]                  나이키 nike 스우시 바람막이 점퍼 자켓   \n",
       "1104726         [폴로]                           폴로 단가라 와플티 108   \n",
       "520293         [컨버스]                              컨버스 하이탑 235   \n",
       "880942          [바버]                  바버 뷰포트 세이지 국내 정품 새상품 38   \n",
       "633938          [구찌]                      구찌 수프림 인터로킹 남녀공용 백팩   \n",
       "97982     [나이키, 사카이]          # 프리미엄 # 나이키 x 사카이 ldv 와플 나일론 #   \n",
       "143388         [나이키]                     나이키 트레비스스캇270 240사이즈   \n",
       "740571     [코스, cos]           cos 코스 레더패치 울 크루넥 스웨터 / 라운드 니트   \n",
       "870930        [루이비통]                             루이비통 다미에 베로나   \n",
       "320034        [아디다스]  아디다스 트레포일  xxl 맨투맨 크루넥티 110 팝니다. ay7792   \n",
       "453014         [무신사]             (0회착) 무신사 카키 릴렉스핏 옥스퍼드 셔츠 xl   \n",
       "484097        [아더에러]                           d86001 아더에러 후드   \n",
       "206568         [나이키]                              나이키 메탈스우시 캡   \n",
       "1130147         [폴로]                           폴로 스트라이프 카라반팔티   \n",
       "1289858         [꼼데]                   급쳐 꼼데 더블와펜나이키 반팔 일괄 판매   \n",
       "1502029       [몽클레어]                [l] 몽클레어 18fw 김현우 패딩 니트자켓   \n",
       "940937          [디올]                                 디올 메이크업백   \n",
       "455228     [디스이즈네버댓]                    디스이즈네버댓 맨투맨 / 디스이브네버뎃   \n",
       "508541        [acne]              [m] acne studios nimah navy   \n",
       "1360510       [발렌티노]                       발렌티노 정품 카드지갑 .가격내림   \n",
       "\n",
       "                        span  \n",
       "228600      [[0, 3], [4, 8]]  \n",
       "1104726             [[0, 2]]  \n",
       "520293              [[0, 3]]  \n",
       "880942              [[0, 2]]  \n",
       "633938              [[0, 2]]  \n",
       "97982    [[9, 12], [15, 18]]  \n",
       "143388              [[0, 3]]  \n",
       "740571      [[4, 6], [0, 3]]  \n",
       "870930              [[0, 4]]  \n",
       "320034              [[0, 4]]  \n",
       "453014              [[6, 9]]  \n",
       "484097             [[7, 11]]  \n",
       "206568              [[0, 3]]  \n",
       "1130147             [[0, 2]]  \n",
       "1289858             [[3, 5]]  \n",
       "1502029             [[4, 8]]  \n",
       "940937              [[0, 2]]  \n",
       "455228              [[0, 7]]  \n",
       "508541              [[4, 8]]  \n",
       "1360510             [[0, 4]]  "
      ]
     },
     "execution_count": 6,
     "metadata": {},
     "output_type": "execute_result"
    }
   ],
   "source": [
    "data.sample(n=20)"
   ]
  },
  {
   "cell_type": "code",
   "execution_count": 25,
   "metadata": {},
   "outputs": [],
   "source": [
    "# def labeling(label, text):\n",
    "#     return [(char, label) for char in text]\n",
    "\n",
    "def branding(text, spans):\n",
    "    length = len(text)\n",
    "    labels = [0] * length\n",
    "    if len(spans) > 0:\n",
    "        for span in spans:\n",
    "            b = span[0]\n",
    "            e = span[1]\n",
    "            labels[b:e] = [1] * (e-b)\n",
    "    return [(text[idx], '1') if value == 1 else (text[idx], '0') for idx, value in enumerate(labels)]\n",
    "        "
   ]
  },
  {
   "cell_type": "code",
   "execution_count": 26,
   "metadata": {},
   "outputs": [
    {
     "data": {
      "text/plain": [
       "[('c', '1'),\n",
       " ('o', '1'),\n",
       " ('s', '1'),\n",
       " (' ', '0'),\n",
       " ('코', '1'),\n",
       " ('스', '1'),\n",
       " (' ', '0'),\n",
       " ('레', '0'),\n",
       " ('더', '0'),\n",
       " ('패', '0'),\n",
       " ('치', '0'),\n",
       " (' ', '0'),\n",
       " ('울', '0'),\n",
       " (' ', '0'),\n",
       " ('크', '0'),\n",
       " ('루', '0'),\n",
       " ('넥', '0'),\n",
       " (' ', '0'),\n",
       " ('스', '0'),\n",
       " ('웨', '0'),\n",
       " ('터', '0'),\n",
       " (' ', '0'),\n",
       " ('/', '0'),\n",
       " (' ', '0'),\n",
       " ('라', '0'),\n",
       " ('운', '0'),\n",
       " ('드', '0'),\n",
       " (' ', '0'),\n",
       " ('니', '0'),\n",
       " ('트', '0')]"
      ]
     },
     "execution_count": 26,
     "metadata": {},
     "output_type": "execute_result"
    }
   ],
   "source": [
    "branding('cos 코스 레더패치 울 크루넥 스웨터 / 라운드 니트', [[4, 6], [0, 3]])"
   ]
  },
  {
   "cell_type": "code",
   "execution_count": 27,
   "metadata": {},
   "outputs": [],
   "source": [
    "def generate_templates(begin=-2, end=2, min_range_length=3, max_range_length=5):\n",
    "    templates = []\n",
    "    for b in range(begin, end):\n",
    "        for e in range(b, end+1):\n",
    "            length = (e - b + 1)\n",
    "            if length > max_range_length or length < min_range_length:\n",
    "                continue\n",
    "            if b * e > 0:\n",
    "                continue\n",
    "            templates.append((b, e))\n",
    "    return templates"
   ]
  },
  {
   "cell_type": "code",
   "execution_count": 29,
   "metadata": {},
   "outputs": [
    {
     "name": "stdout",
     "output_type": "stream",
     "text": [
      "[(-2, 0), (-2, 1), (-2, 2), (-1, 1), (-1, 2), (0, 2)]\n"
     ]
    }
   ],
   "source": [
    "templates = generate_templates()\n",
    "print(templates)"
   ]
  },
  {
   "cell_type": "code",
   "execution_count": 31,
   "metadata": {},
   "outputs": [
    {
     "data": {
      "text/plain": [
       "{1: 2, 2: 3, 3: 4}"
      ]
     },
     "execution_count": 31,
     "metadata": {},
     "output_type": "execute_result"
    }
   ],
   "source": [
    "dict(zip([1,2,3], [2,3,4]))"
   ]
  },
  {
   "cell_type": "code",
   "execution_count": 63,
   "metadata": {},
   "outputs": [],
   "source": [
    "class CharacterFeatureTransformer:\n",
    "    def __init__(self, begin=-2, end=2, min_range_length=3, max_range_length=5):\n",
    "        self.templates = self._generate_templates(begin, end, min_range_length, max_range_length)\n",
    "    \n",
    "    def _generate_templates(self, begin=-2, end=2, min_range_length=3, max_range_length=5):\n",
    "        templates = []\n",
    "        for b in range(begin, end):\n",
    "            for e in range(b, end+1):\n",
    "                length = (e - b + 1)\n",
    "                if length > max_range_length or length < min_range_length:\n",
    "                    continue\n",
    "                if b * e > 0:\n",
    "                    continue\n",
    "                templates.append((b, e))\n",
    "        return templates        \n",
    "    \n",
    "    def get_features(self, text, i, tags=None):\n",
    "        features = {\n",
    "            'char_position': i,\n",
    "            'char': text[i]\n",
    "        }\n",
    "        e_max = len(text)\n",
    "        keys = []\n",
    "        values = []\n",
    "        for t in self.templates:\n",
    "            b = i + t[0]\n",
    "            e = i + t[1] + 1\n",
    "            if b < 0 or e > e_max:\n",
    "                continue\n",
    "            keys.append('x[%d, %d]' % (t[0], t[1]))\n",
    "            values.append([text[b:e]])\n",
    "        features.update(dict(zip(keys, values)))\n",
    "        return features"
   ]
  },
  {
   "cell_type": "code",
   "execution_count": 65,
   "metadata": {},
   "outputs": [
    {
     "data": {
      "text/plain": [
       "{'char': '키',\n",
       " 'char_position': 2,\n",
       " 'x[-1, 1]': ['이키 '],\n",
       " 'x[-1, 2]': ['이키 조'],\n",
       " 'x[-2, 0]': ['나이키'],\n",
       " 'x[-2, 1]': ['나이키 '],\n",
       " 'x[-2, 2]': ['나이키 조'],\n",
       " 'x[0, 2]': ['키 조']}"
      ]
     },
     "execution_count": 65,
     "metadata": {},
     "output_type": "execute_result"
    }
   ],
   "source": [
    "cft = CharacterFeatureTransformer()\n",
    "cft.get_features('나이키 조던 운동화', 2)"
   ]
  },
  {
   "cell_type": "code",
   "execution_count": 66,
   "metadata": {},
   "outputs": [],
   "source": [
    "from tqdm import tqdm \n",
    "\n",
    "class DataLoader:\n",
    "    def __init__(self, cft):\n",
    "        self.cft = cft\n",
    "    \n",
    "    def get_data(self, brands, texts, spans):\n",
    "        branding_list = []\n",
    "        word2features_list = []\n",
    "        label_list = []\n",
    "        brand_list = []\n",
    "        for idx, text in tqdm(enumerate(texts)):\n",
    "            if len(brands[idx]) > 0:\n",
    "                brand = brands[idx][0]\n",
    "            else:\n",
    "                brand = ''\n",
    "            brand_list.append(brand)\n",
    "            span = spans[idx]\n",
    "            br = branding(text, span)\n",
    "            branding_list.append(br)\n",
    "            w2f = [self.cft.get_features(text, i) for i in range(len(text))]\n",
    "            word2features_list.append(w2f)\n",
    "            label = [label for char, label in br]\n",
    "            label_list.append(label)\n",
    "        return {\n",
    "            'name': texts,\n",
    "            'branding_list': branding_list, \n",
    "            'word2features_list': word2features_list, \n",
    "            'label_list': label_list,\n",
    "            'brand': brand_list\n",
    "           }"
   ]
  },
  {
   "cell_type": "code",
   "execution_count": 69,
   "metadata": {},
   "outputs": [
    {
     "data": {
      "text/plain": [
       "1765207"
      ]
     },
     "execution_count": 69,
     "metadata": {},
     "output_type": "execute_result"
    }
   ],
   "source": [
    "len(texts)"
   ]
  },
  {
   "cell_type": "code",
   "execution_count": 70,
   "metadata": {},
   "outputs": [],
   "source": [
    "import numpy as np\n",
    "\n",
    "idx_sample_list = np.random.choice(len(texts), 500000)"
   ]
  },
  {
   "cell_type": "code",
   "execution_count": 77,
   "metadata": {},
   "outputs": [
    {
     "name": "stderr",
     "output_type": "stream",
     "text": [
      "/Users/emilyPark/.pyenv/versions/bun-analytics/lib/python3.7/site-packages/ipykernel_launcher.py:3: VisibleDeprecationWarning: Creating an ndarray from ragged nested sequences (which is a list-or-tuple of lists-or-tuples-or ndarrays with different lengths or shapes) is deprecated. If you meant to do this, you must specify 'dtype=object' when creating the ndarray\n",
      "  This is separate from the ipykernel package so we can avoid doing imports until\n",
      "/Users/emilyPark/.pyenv/versions/bun-analytics/lib/python3.7/site-packages/ipykernel_launcher.py:5: VisibleDeprecationWarning: Creating an ndarray from ragged nested sequences (which is a list-or-tuple of lists-or-tuples-or ndarrays with different lengths or shapes) is deprecated. If you meant to do this, you must specify 'dtype=object' when creating the ndarray\n",
      "  \"\"\"\n",
      "500000it [26:08, 318.69it/s] \n"
     ]
    }
   ],
   "source": [
    "cft = CharacterFeatureTransformer()\n",
    "dl = DataLoader(cft)\n",
    "data = dl.get_data(np.array(brands)[idx_sample_list].tolist(), \n",
    "                   np.array(texts)[idx_sample_list].tolist(), \n",
    "                   np.array(spans)[idx_sample_list].tolist())"
   ]
  },
  {
   "cell_type": "code",
   "execution_count": 78,
   "metadata": {},
   "outputs": [],
   "source": [
    "import json\n",
    "import pickle\n",
    "\n",
    "data_json = json.dumps(data)\n",
    "with open('data_for_crf.pickle', 'wb') as f:\n",
    "    pickle.dump(data_json, f)"
   ]
  },
  {
   "cell_type": "code",
   "execution_count": 79,
   "metadata": {},
   "outputs": [
    {
     "data": {
      "text/html": [
       "<div>\n",
       "<style scoped>\n",
       "    .dataframe tbody tr th:only-of-type {\n",
       "        vertical-align: middle;\n",
       "    }\n",
       "\n",
       "    .dataframe tbody tr th {\n",
       "        vertical-align: top;\n",
       "    }\n",
       "\n",
       "    .dataframe thead th {\n",
       "        text-align: right;\n",
       "    }\n",
       "</style>\n",
       "<table border=\"1\" class=\"dataframe\">\n",
       "  <thead>\n",
       "    <tr style=\"text-align: right;\">\n",
       "      <th></th>\n",
       "      <th>name</th>\n",
       "      <th>branding_list</th>\n",
       "      <th>word2features_list</th>\n",
       "      <th>label_list</th>\n",
       "      <th>brand</th>\n",
       "    </tr>\n",
       "  </thead>\n",
       "  <tbody>\n",
       "    <tr>\n",
       "      <th>0</th>\n",
       "      <td>구찌 라이톤 275~280 삽니다!</td>\n",
       "      <td>[(구, 1), (찌, 1), ( , 0), (라, 0), (이, 0), (톤, 0...</td>\n",
       "      <td>[{'char_position': 0, 'char': '구', 'x[0, 2]': ...</td>\n",
       "      <td>[1, 1, 0, 0, 0, 0, 0, 0, 0, 0, 0, 0, 0, 0, 0, ...</td>\n",
       "      <td>구찌</td>\n",
       "    </tr>\n",
       "    <tr>\n",
       "      <th>1</th>\n",
       "      <td>[나이키코리아]   나이키 드라이핏 스우시 퓨추라 맨투맨</td>\n",
       "      <td>[([, 0), (나, 1), (이, 1), (키, 1), (코, 0), (리, 0...</td>\n",
       "      <td>[{'char_position': 0, 'char': '[', 'x[0, 2]': ...</td>\n",
       "      <td>[0, 1, 1, 1, 0, 0, 0, 0, 0, 0, 0, 1, 1, 1, 0, ...</td>\n",
       "      <td>나이키</td>\n",
       "    </tr>\n",
       "    <tr>\n",
       "      <th>2</th>\n",
       "      <td>빈폴 남성 바람막이 105</td>\n",
       "      <td>[(빈, 1), (폴, 1), ( , 0), (남, 0), (성, 0), ( , 0...</td>\n",
       "      <td>[{'char_position': 0, 'char': '빈', 'x[0, 2]': ...</td>\n",
       "      <td>[1, 1, 0, 0, 0, 0, 0, 0, 0, 0, 0, 0, 0, 0]</td>\n",
       "      <td>빈폴</td>\n",
       "    </tr>\n",
       "    <tr>\n",
       "      <th>3</th>\n",
       "      <td>루이비통 다미에 클러치백 gm size 풀구성 상태 굿</td>\n",
       "      <td>[(루, 1), (이, 1), (비, 1), (통, 1), ( , 0), (다, 0...</td>\n",
       "      <td>[{'char_position': 0, 'char': '루', 'x[0, 2]': ...</td>\n",
       "      <td>[1, 1, 1, 1, 0, 0, 0, 0, 0, 0, 0, 0, 0, 0, 0, ...</td>\n",
       "      <td>루이비통</td>\n",
       "    </tr>\n",
       "    <tr>\n",
       "      <th>4</th>\n",
       "      <td>275 나이키 에어맥스97울트라17검흰 918356-001</td>\n",
       "      <td>[(2, 0), (7, 0), (5, 0), ( , 0), (나, 1), (이, 1...</td>\n",
       "      <td>[{'char_position': 0, 'char': '2', 'x[0, 2]': ...</td>\n",
       "      <td>[0, 0, 0, 0, 1, 1, 1, 0, 0, 0, 0, 0, 0, 0, 0, ...</td>\n",
       "      <td>나이키</td>\n",
       "    </tr>\n",
       "  </tbody>\n",
       "</table>\n",
       "</div>"
      ],
      "text/plain": [
       "                               name  \\\n",
       "0               구찌 라이톤 275~280 삽니다!   \n",
       "1   [나이키코리아]   나이키 드라이핏 스우시 퓨추라 맨투맨   \n",
       "2                    빈폴 남성 바람막이 105   \n",
       "3    루이비통 다미에 클러치백 gm size 풀구성 상태 굿   \n",
       "4  275 나이키 에어맥스97울트라17검흰 918356-001   \n",
       "\n",
       "                                       branding_list  \\\n",
       "0  [(구, 1), (찌, 1), ( , 0), (라, 0), (이, 0), (톤, 0...   \n",
       "1  [([, 0), (나, 1), (이, 1), (키, 1), (코, 0), (리, 0...   \n",
       "2  [(빈, 1), (폴, 1), ( , 0), (남, 0), (성, 0), ( , 0...   \n",
       "3  [(루, 1), (이, 1), (비, 1), (통, 1), ( , 0), (다, 0...   \n",
       "4  [(2, 0), (7, 0), (5, 0), ( , 0), (나, 1), (이, 1...   \n",
       "\n",
       "                                  word2features_list  \\\n",
       "0  [{'char_position': 0, 'char': '구', 'x[0, 2]': ...   \n",
       "1  [{'char_position': 0, 'char': '[', 'x[0, 2]': ...   \n",
       "2  [{'char_position': 0, 'char': '빈', 'x[0, 2]': ...   \n",
       "3  [{'char_position': 0, 'char': '루', 'x[0, 2]': ...   \n",
       "4  [{'char_position': 0, 'char': '2', 'x[0, 2]': ...   \n",
       "\n",
       "                                          label_list brand  \n",
       "0  [1, 1, 0, 0, 0, 0, 0, 0, 0, 0, 0, 0, 0, 0, 0, ...    구찌  \n",
       "1  [0, 1, 1, 1, 0, 0, 0, 0, 0, 0, 0, 1, 1, 1, 0, ...   나이키  \n",
       "2         [1, 1, 0, 0, 0, 0, 0, 0, 0, 0, 0, 0, 0, 0]    빈폴  \n",
       "3  [1, 1, 1, 1, 0, 0, 0, 0, 0, 0, 0, 0, 0, 0, 0, ...  루이비통  \n",
       "4  [0, 0, 0, 0, 1, 1, 1, 0, 0, 0, 0, 0, 0, 0, 0, ...   나이키  "
      ]
     },
     "execution_count": 79,
     "metadata": {},
     "output_type": "execute_result"
    }
   ],
   "source": [
    "df = pd.DataFrame.from_dict(data)\n",
    "df.head()"
   ]
  },
  {
   "cell_type": "code",
   "execution_count": 80,
   "metadata": {},
   "outputs": [],
   "source": [
    "from sklearn_crfsuite import metrics, CRF\n",
    "from sklearn.model_selection import train_test_split\n",
    "import pickle\n",
    "import numpy as np\n",
    "import pandas as pd\n",
    "\n",
    "class CrfBrandDetector:\n",
    "    def __init__(self):\n",
    "        self.df = None\n",
    "        self.test_index = None\n",
    "        self.crf = None\n",
    "        self.y_pred = None\n",
    "    \n",
    "    def train_test_split(self, df, test_size=0.2, random_state=123):\n",
    "        self.df = df\n",
    "        x_train, x_test, y_train, y_test = train_test_split(\n",
    "            self.df['word2features_list'], self.df['label_list'],\n",
    "            test_size=test_size,\n",
    "            random_state=random_state\n",
    "        )\n",
    "        self.test_index = x_test.index\n",
    "        return x_train, x_test, y_train, y_test\n",
    "    \n",
    "    def fit(self, x_train, y_train):\n",
    "        self.crf = CRF(\n",
    "            algorithm='lbfgs',\n",
    "            c1=0.05,\n",
    "            c2=0.05,\n",
    "            max_iterations=100,\n",
    "            all_possible_states=True\n",
    "        )\n",
    "        self.crf.fit(x_train, y_train)\n",
    "    \n",
    "    def save_model(self, model_file_name='crf_model.sav'):\n",
    "        pickle.dump(self.crf, open(model_file_name, 'wb'))\n",
    "        \n",
    "    def predict(self, x):\n",
    "        title = [[diction['char'] for diction in obs] for obs in x]\n",
    "        self.y_pred = self.crf.predict(x)\n",
    "        idx = [[True if label == '1' else False for label in obs] for obs in self.y_pred]\n",
    "        preds = [''.join(np.array(title[i])[idx[i]]) for i in range(len(title))]\n",
    "        df_pred = pd.concat([\n",
    "            self.df[self.df.index.isin(self.test_index)].reindex(self.test_index).reset_index()['name'],\n",
    "            pd.DataFrame(preds)\n",
    "        ], axis=1)\n",
    "        df_pred.columns = ['product_name', 'predicted_brand']\n",
    "#         df_pred['predicted_brand'] = df_pred.apply(\n",
    "#             lambda row: row.predicted_brand if row.predicted_brand in row['product_name'].lower()\n",
    "#             else row.predicted_brand.split(), axis=1\n",
    "#         )\n",
    "        return df_pred\n",
    "\n",
    "    def get_y_pred(self):\n",
    "        return self.y_pred\n",
    "    \n",
    "    def report_classification(self, x_test, y_test):\n",
    "        labels = list(self.crf.classes_)\n",
    "        labels.remove('0')\n",
    "        print(metrics.flat_classification_report(\n",
    "            y_test,\n",
    "            self.y_pred,\n",
    "            labels=labels,\n",
    "            digits=3\n",
    "        ))\n",
    "\n",
    "    def evaluate(self, y_test):\n",
    "        acc = float(list(y_test == self.y_pred).count(True)) / len(self.y_pred)\n",
    "        return acc"
   ]
  },
  {
   "cell_type": "code",
   "execution_count": 82,
   "metadata": {},
   "outputs": [],
   "source": [
    "crf_model = CrfBrandDetector()\n",
    "x_train, x_test, y_train, y_test = crf_model.train_test_split(df)\n",
    "crf_model.fit(x_train, y_train)"
   ]
  },
  {
   "cell_type": "code",
   "execution_count": 83,
   "metadata": {},
   "outputs": [],
   "source": [
    "pred = crf_model.predict(x_test)"
   ]
  },
  {
   "cell_type": "code",
   "execution_count": 87,
   "metadata": {},
   "outputs": [],
   "source": [
    "y_pred = crf_model.get_y_pred()"
   ]
  },
  {
   "cell_type": "code",
   "execution_count": 89,
   "metadata": {},
   "outputs": [
    {
     "data": {
      "text/plain": [
       "['1', '1', '1', '0', '0', '0', '0', '0', '0', '0', '0', '0', '0', '0', '0']"
      ]
     },
     "execution_count": 89,
     "metadata": {},
     "output_type": "execute_result"
    }
   ],
   "source": [
    "y_pred[30]"
   ]
  },
  {
   "cell_type": "code",
   "execution_count": 90,
   "metadata": {},
   "outputs": [
    {
     "data": {
      "text/html": [
       "<div>\n",
       "<style scoped>\n",
       "    .dataframe tbody tr th:only-of-type {\n",
       "        vertical-align: middle;\n",
       "    }\n",
       "\n",
       "    .dataframe tbody tr th {\n",
       "        vertical-align: top;\n",
       "    }\n",
       "\n",
       "    .dataframe thead th {\n",
       "        text-align: right;\n",
       "    }\n",
       "</style>\n",
       "<table border=\"1\" class=\"dataframe\">\n",
       "  <thead>\n",
       "    <tr style=\"text-align: right;\">\n",
       "      <th></th>\n",
       "      <th>product_name</th>\n",
       "      <th>predicted_brand</th>\n",
       "    </tr>\n",
       "  </thead>\n",
       "  <tbody>\n",
       "    <tr>\n",
       "      <th>30</th>\n",
       "      <td>시스템 플리츠 스트랩 스커트</td>\n",
       "      <td>시스템</td>\n",
       "    </tr>\n",
       "    <tr>\n",
       "      <th>31</th>\n",
       "      <td>스튜디오 톰보이 나그랑 t</td>\n",
       "      <td>톰보이</td>\n",
       "    </tr>\n",
       "    <tr>\n",
       "      <th>32</th>\n",
       "      <td>구찌 스타일 타이거 니트 미듐 55-77</td>\n",
       "      <td>구찌</td>\n",
       "    </tr>\n",
       "    <tr>\n",
       "      <th>33</th>\n",
       "      <td>디젤 청바지 남자34사이즈</td>\n",
       "      <td>디젤</td>\n",
       "    </tr>\n",
       "    <tr>\n",
       "      <th>34</th>\n",
       "      <td>(미착용 새상품)나이키 스포츠웨어 스우시 셰르파 s 나이키 크롭후리스</td>\n",
       "      <td>나이키</td>\n",
       "    </tr>\n",
       "    <tr>\n",
       "      <th>35</th>\n",
       "      <td>발렌시아가 노스사우스 쇼퍼백(스몰)</td>\n",
       "      <td>발렌시아가</td>\n",
       "    </tr>\n",
       "    <tr>\n",
       "      <th>36</th>\n",
       "      <td>챔피온 바람막이 팝니다</td>\n",
       "      <td>챔피온</td>\n",
       "    </tr>\n",
       "    <tr>\n",
       "      <th>37</th>\n",
       "      <td>나이키 스타팅 파이브 바람막이 xl</td>\n",
       "      <td>나이키</td>\n",
       "    </tr>\n",
       "    <tr>\n",
       "      <th>38</th>\n",
       "      <td>#당일출고 스톤아일랜드 그레이 카고바지.</td>\n",
       "      <td>스톤아일랜드</td>\n",
       "    </tr>\n",
       "    <tr>\n",
       "      <th>39</th>\n",
       "      <td>나이키 덩크 범고래 bg 250</td>\n",
       "      <td>나이키</td>\n",
       "    </tr>\n",
       "  </tbody>\n",
       "</table>\n",
       "</div>"
      ],
      "text/plain": [
       "                              product_name predicted_brand\n",
       "30                         시스템 플리츠 스트랩 스커트             시스템\n",
       "31                          스튜디오 톰보이 나그랑 t             톰보이\n",
       "32                  구찌 스타일 타이거 니트 미듐 55-77              구찌\n",
       "33                          디젤 청바지 남자34사이즈              디젤\n",
       "34  (미착용 새상품)나이키 스포츠웨어 스우시 셰르파 s 나이키 크롭후리스             나이키\n",
       "35                     발렌시아가 노스사우스 쇼퍼백(스몰)           발렌시아가\n",
       "36                            챔피온 바람막이 팝니다             챔피온\n",
       "37                     나이키 스타팅 파이브 바람막이 xl             나이키\n",
       "38                  #당일출고 스톤아일랜드 그레이 카고바지.          스톤아일랜드\n",
       "39                       나이키 덩크 범고래 bg 250             나이키"
      ]
     },
     "execution_count": 90,
     "metadata": {},
     "output_type": "execute_result"
    }
   ],
   "source": [
    "pred[30:40]"
   ]
  },
  {
   "cell_type": "code",
   "execution_count": 91,
   "metadata": {
    "scrolled": true
   },
   "outputs": [
    {
     "name": "stdout",
     "output_type": "stream",
     "text": [
      "              precision    recall  f1-score   support\n",
      "\n",
      "           1      0.996     0.998     0.997    393916\n",
      "\n",
      "   micro avg      0.996     0.998     0.997    393916\n",
      "   macro avg      0.996     0.998     0.997    393916\n",
      "weighted avg      0.996     0.998     0.997    393916\n",
      "\n"
     ]
    }
   ],
   "source": [
    "crf_model.report_classification(x_test, y_test)"
   ]
  },
  {
   "cell_type": "code",
   "execution_count": 92,
   "metadata": {
    "scrolled": true
   },
   "outputs": [
    {
     "name": "stderr",
     "output_type": "stream",
     "text": [
      "/Users/emilyPark/.pyenv/versions/bun-analytics/lib/python3.7/site-packages/numpy/core/_asarray.py:83: VisibleDeprecationWarning: Creating an ndarray from ragged nested sequences (which is a list-or-tuple of lists-or-tuples-or ndarrays with different lengths or shapes) is deprecated. If you meant to do this, you must specify 'dtype=object' when creating the ndarray\n",
      "  return array(a, dtype, copy=False, order=order)\n"
     ]
    },
    {
     "data": {
      "text/plain": [
       "0.99493"
      ]
     },
     "execution_count": 92,
     "metadata": {},
     "output_type": "execute_result"
    }
   ],
   "source": [
    "crf_model.evaluate(y_test)"
   ]
  },
  {
   "cell_type": "code",
   "execution_count": null,
   "metadata": {},
   "outputs": [],
   "source": []
  },
  {
   "cell_type": "code",
   "execution_count": null,
   "metadata": {},
   "outputs": [],
   "source": []
  }
 ],
 "metadata": {
  "kernelspec": {
   "display_name": "Python 3",
   "language": "python",
   "name": "python3"
  },
  "language_info": {
   "codemirror_mode": {
    "name": "ipython",
    "version": 3
   },
   "file_extension": ".py",
   "mimetype": "text/x-python",
   "name": "python",
   "nbconvert_exporter": "python",
   "pygments_lexer": "ipython3",
   "version": "3.7.5"
  }
 },
 "nbformat": 4,
 "nbformat_minor": 4
}
