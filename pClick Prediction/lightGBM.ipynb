{
 "cells": [
  {
   "cell_type": "code",
   "execution_count": 46,
   "metadata": {},
   "outputs": [],
   "source": [
    "import pandas as pd\n",
    "from sqlalchemy import create_engine\n",
    "from sqlalchemy.pool import NullPool\n",
    "import matplotlib as plt\n",
    "import matplotlib.pylab as plt\n",
    "import seaborn as sns\n",
    "import numpy as np\n",
    "\n",
    "from sklearn import preprocessing\n",
    "from sklearn.model_selection import train_test_split\n",
    "import lightgbm as lgb\n",
    "from sklearn.linear_model import LogisticRegression\n",
    "from sklearn.linear_model import LinearRegression\n",
    "from sklearn.ensemble import RandomForestClassifier\n",
    "from xgboost.sklearn import XGBClassifier\n",
    "from sklearn import model_selection\n",
    "from sklearn.metrics import f1_score, recall_score, precision_score, accuracy_score, roc_auc_score, log_loss, brier_score_loss\n"
   ]
  },
  {
   "cell_type": "code",
   "execution_count": 18,
   "metadata": {},
   "outputs": [],
   "source": [
    "df = pd.read_csv('oneday_df.csv')"
   ]
  },
  {
   "cell_type": "code",
   "execution_count": 19,
   "metadata": {},
   "outputs": [],
   "source": [
    "sparse = ['hour', 'imp_content_position', 'imp_page_id', 'imp_ref_page_id', \n",
    "          'imp_ref_source', 'user_sex', 'user_age', 'content_category_id']\n",
    "dense = ['user_following_cnt', 'user_bunpay_count', 'owner_grade', 'owner_item_count',\n",
    "         'owner_interest', 'owner_follower_cnt', 'owner_bunpay_count', 'content_price',\n",
    "        'content_emergency_cnt', 'content_comment_cnt', 'content_interest', 'content_pfavcnt']\n",
    "features = sparse + dense"
   ]
  },
  {
   "cell_type": "code",
   "execution_count": 20,
   "metadata": {},
   "outputs": [],
   "source": [
    "for s in sparse:\n",
    "    df[s] = df[s].fillna('-1')\n",
    "    df[s] = preprocessing.LabelEncoder().fit_transform(df[s])\n",
    "for d in dense:\n",
    "    df[d] = df[d].fillna(0)\n",
    "\n",
    "df[dense] = preprocessing.MinMaxScaler(feature_range = (0, 1)).fit_transform(df[dense])"
   ]
  },
  {
   "cell_type": "code",
   "execution_count": 21,
   "metadata": {},
   "outputs": [],
   "source": [
    "df = df[features + ['label']]"
   ]
  },
  {
   "cell_type": "code",
   "execution_count": 25,
   "metadata": {},
   "outputs": [],
   "source": [
    "train, test = train_test_split(df, test_size = 0.2)\n",
    "train, valid = train_test_split(train, test_size = 0.2)\n",
    "train_data = lgb.Dataset(train[features], label=train['label'], feature_name = features, categorical_feature=sparse)\n",
    "validation_data = lgb.Dataset(valid[features], label=valid['label'], feature_name = features, categorical_feature=sparse)\n",
    "test_data = lgb.Dataset(test[features], label=test['label'], feature_name = features, categorical_feature=sparse)"
   ]
  },
  {
   "cell_type": "code",
   "execution_count": 26,
   "metadata": {},
   "outputs": [],
   "source": [
    "param = {\n",
    "    'objective': 'binary', \n",
    "    'metric': ['auc', 'binary_logloss', 'cross_entropy']\n",
    "}"
   ]
  },
  {
   "cell_type": "code",
   "execution_count": 27,
   "metadata": {},
   "outputs": [
    {
     "name": "stderr",
     "output_type": "stream",
     "text": [
      "/Users/emilyPark/.pyenv/versions/bun-analytics/lib/python3.7/site-packages/lightgbm/basic.py:1291: UserWarning: Using categorical_feature in Dataset.\n",
      "  warnings.warn('Using categorical_feature in Dataset.')\n"
     ]
    },
    {
     "name": "stdout",
     "output_type": "stream",
     "text": [
      "[1]\tvalid_0's auc: 0.64885\tvalid_0's binary_logloss: 0.137312\n",
      "[2]\tvalid_0's auc: 0.655093\tvalid_0's binary_logloss: 0.136474\n",
      "[3]\tvalid_0's auc: 0.659406\tvalid_0's binary_logloss: 0.135845\n",
      "[4]\tvalid_0's auc: 0.66185\tvalid_0's binary_logloss: 0.135341\n",
      "[5]\tvalid_0's auc: 0.664085\tvalid_0's binary_logloss: 0.134906\n",
      "[6]\tvalid_0's auc: 0.665591\tvalid_0's binary_logloss: 0.134557\n",
      "[7]\tvalid_0's auc: 0.666216\tvalid_0's binary_logloss: 0.134262\n",
      "[8]\tvalid_0's auc: 0.66741\tvalid_0's binary_logloss: 0.134013\n",
      "[9]\tvalid_0's auc: 0.669117\tvalid_0's binary_logloss: 0.13379\n",
      "[10]\tvalid_0's auc: 0.670158\tvalid_0's binary_logloss: 0.133607\n"
     ]
    }
   ],
   "source": [
    "num_round = 10\n",
    "bst = lgb.train(param, train_data, num_round, valid_sets=[validation_data])"
   ]
  },
  {
   "cell_type": "code",
   "execution_count": 36,
   "metadata": {},
   "outputs": [],
   "source": [
    "pred = bst.predict(np.array(test[features]))"
   ]
  },
  {
   "cell_type": "code",
   "execution_count": 40,
   "metadata": {},
   "outputs": [
    {
     "data": {
      "text/plain": [
       "0.13502898991333825"
      ]
     },
     "execution_count": 40,
     "metadata": {},
     "output_type": "execute_result"
    }
   ],
   "source": [
    "log_loss(test['label'], pred.tolist())"
   ]
  },
  {
   "cell_type": "code",
   "execution_count": 45,
   "metadata": {},
   "outputs": [
    {
     "data": {
      "text/plain": [
       "0.9685331955533458"
      ]
     },
     "execution_count": 45,
     "metadata": {},
     "output_type": "execute_result"
    }
   ],
   "source": [
    "accuracy_score(test['label'], pred.round())"
   ]
  },
  {
   "cell_type": "code",
   "execution_count": 47,
   "metadata": {},
   "outputs": [
    {
     "data": {
      "text/plain": [
       "0.031466804446654124"
      ]
     },
     "execution_count": 47,
     "metadata": {},
     "output_type": "execute_result"
    }
   ],
   "source": [
    "brier_score_loss(test['label'], pred.round())"
   ]
  },
  {
   "cell_type": "code",
   "execution_count": 48,
   "metadata": {},
   "outputs": [
    {
     "name": "stderr",
     "output_type": "stream",
     "text": [
      "/Users/emilyPark/.pyenv/versions/bun-analytics/lib/python3.7/site-packages/sklearn/metrics/_classification.py:1272: UndefinedMetricWarning: Precision and F-score are ill-defined and being set to 0.0 in labels with no predicted samples. Use `zero_division` parameter to control this behavior.\n",
      "  _warn_prf(average, modifier, msg_start, len(result))\n"
     ]
    },
    {
     "name": "stdout",
     "output_type": "stream",
     "text": [
      "              precision    recall  f1-score   support\n",
      "\n",
      "           0       0.97      1.00      0.98    596107\n",
      "           1       0.00      0.00      0.00     19367\n",
      "\n",
      "    accuracy                           0.97    615474\n",
      "   macro avg       0.48      0.50      0.49    615474\n",
      "weighted avg       0.94      0.97      0.95    615474\n",
      "\n",
      "[[596107      0]\n",
      " [ 19367      0]]\n"
     ]
    }
   ],
   "source": [
    "from sklearn.metrics import classification_report,confusion_matrix,accuracy_score\n",
    "\n",
    "print(classification_report(test['label'], pred.round()))\n",
    "print(confusion_matrix(test['label'], pred.round()))"
   ]
  },
  {
   "cell_type": "markdown",
   "metadata": {},
   "source": [
    "## XGBoost"
   ]
  },
  {
   "cell_type": "code",
   "execution_count": 41,
   "metadata": {},
   "outputs": [],
   "source": [
    "xgb = XGBClassifier(objective='binary:logistic',\n",
    "                   n_jobs=-1,\n",
    "                   random_state=42)\n",
    "xgb.fit(train[features], train['label'])\n",
    "xgb_pred = xgb.predict(test[features])\n",
    "xgb_proba = xgb.predict_proba(test[features])\n",
    "proba = []\n",
    "for p in xgb_proba:\n",
    "    proba.append(p[1])"
   ]
  },
  {
   "cell_type": "code",
   "execution_count": 43,
   "metadata": {},
   "outputs": [
    {
     "name": "stdout",
     "output_type": "stream",
     "text": [
      "0.13009098224921267\n",
      "0.9685266964973338\n"
     ]
    }
   ],
   "source": [
    "print(log_loss(test['label'], proba))\n",
    "print(accuracy_score(test['label'], xgb_pred))"
   ]
  },
  {
   "cell_type": "code",
   "execution_count": null,
   "metadata": {},
   "outputs": [],
   "source": []
  }
 ],
 "metadata": {
  "kernelspec": {
   "display_name": "Python 3",
   "language": "python",
   "name": "python3"
  },
  "language_info": {
   "codemirror_mode": {
    "name": "ipython",
    "version": 3
   },
   "file_extension": ".py",
   "mimetype": "text/x-python",
   "name": "python",
   "nbconvert_exporter": "python",
   "pygments_lexer": "ipython3",
   "version": "3.7.5"
  }
 },
 "nbformat": 4,
 "nbformat_minor": 4
}