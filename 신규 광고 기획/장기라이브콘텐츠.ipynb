{
 "cells": [
  {
   "cell_type": "code",
   "execution_count": 1,
   "metadata": {},
   "outputs": [],
   "source": [
    "import pandas as pd\n",
    "import numpy as np\n",
    "import matplotlib as plt\n",
    "import matplotlib.pylab as plt\n",
    "import seaborn as sns\n",
    "from sqlalchemy import create_engine\n",
    "%matplotlib inline\n",
    "\n"
   ]
  },
  {
   "cell_type": "code",
   "execution_count": 2,
   "metadata": {},
   "outputs": [],
   "source": [
    "df = pd.read_csv('longtime_ads.csv')"
   ]
  },
  {
   "cell_type": "code",
   "execution_count": 3,
   "metadata": {},
   "outputs": [],
   "source": [
    "df = df[df['how_long'] <= 60]"
   ]
  },
  {
   "cell_type": "code",
   "execution_count": 55,
   "metadata": {},
   "outputs": [],
   "source": [
    "kind = []\n",
    "for idx in range(len(df)):\n",
    "    i = df.iloc[idx]\n",
    "    s = ''\n",
    "    if pd.notna(i['pu_num_days']):\n",
    "        s += 'Pu'\n",
    "    if pd.notna(i['sus_num_days']):\n",
    "        s += 'Sus'\n",
    "    if pd.notna(i['su_num_days']):\n",
    "        s += 'Su'\n",
    "    if pd.notna(i['plus_num_days']):\n",
    "        s += 'Plus'\n",
    "    if pd.notna(i['vip_num_days']):\n",
    "        s += 'Vip'\n",
    "    kind.append(s)\n",
    "df['kind'] = kind"
   ]
  },
  {
   "cell_type": "code",
   "execution_count": 5,
   "metadata": {},
   "outputs": [
    {
     "data": {
      "text/plain": [
       "Index(['pid', 'how_long', 'interest', 'pu_num_days', 'pu_first_day',\n",
       "       'pu_last_day', 'pu_pay_free', 'pu_pay_point', 'pu_pay_sum',\n",
       "       'pu_stat_click', 'pu_stat_view', 'sus_num_days', 'sus_first_day',\n",
       "       'sus_last_day', 'sus_pay_free', 'sus_pay_point', 'sus_pay_sum',\n",
       "       'sus_stat_click', 'sus_stat_view', 'su_num_days', 'su_first_day',\n",
       "       'su_last_day', 'su_pay_free', 'su_pay_point', 'su_pay_sum',\n",
       "       'su_stat_click', 'su_stat_view', 'tp_num_days', 'tp_first_day',\n",
       "       'tp_last_day', 'tp_pay_free', 'tp_pay_point', 'tp_pay_sum',\n",
       "       'tdp_num_days', 'tdp_first_day', 'tdp_last_day', 'tdp_pay_free',\n",
       "       'tdp_pay_point', 'tdp_pay_sum', 'kind'],\n",
       "      dtype='object')"
      ]
     },
     "execution_count": 5,
     "metadata": {},
     "output_type": "execute_result"
    }
   ],
   "source": [
    "df.columns"
   ]
  },
  {
   "cell_type": "code",
   "execution_count": 54,
   "metadata": {},
   "outputs": [
    {
     "data": {
      "text/html": [
       "<div>\n",
       "<style scoped>\n",
       "    .dataframe tbody tr th:only-of-type {\n",
       "        vertical-align: middle;\n",
       "    }\n",
       "\n",
       "    .dataframe tbody tr th {\n",
       "        vertical-align: top;\n",
       "    }\n",
       "\n",
       "    .dataframe thead th {\n",
       "        text-align: right;\n",
       "    }\n",
       "</style>\n",
       "<table border=\"1\" class=\"dataframe\">\n",
       "  <thead>\n",
       "    <tr style=\"text-align: right;\">\n",
       "      <th></th>\n",
       "      <th>kind</th>\n",
       "      <th>pid</th>\n",
       "    </tr>\n",
       "  </thead>\n",
       "  <tbody>\n",
       "    <tr>\n",
       "      <th>0</th>\n",
       "      <td>Plus</td>\n",
       "      <td>46</td>\n",
       "    </tr>\n",
       "    <tr>\n",
       "      <th>1</th>\n",
       "      <td>Pu</td>\n",
       "      <td>75</td>\n",
       "    </tr>\n",
       "    <tr>\n",
       "      <th>2</th>\n",
       "      <td>PuSu</td>\n",
       "      <td>28</td>\n",
       "    </tr>\n",
       "    <tr>\n",
       "      <th>3</th>\n",
       "      <td>PuSuPlus</td>\n",
       "      <td>3</td>\n",
       "    </tr>\n",
       "    <tr>\n",
       "      <th>4</th>\n",
       "      <td>PuSus</td>\n",
       "      <td>36</td>\n",
       "    </tr>\n",
       "    <tr>\n",
       "      <th>5</th>\n",
       "      <td>PuSusSu</td>\n",
       "      <td>38</td>\n",
       "    </tr>\n",
       "    <tr>\n",
       "      <th>6</th>\n",
       "      <td>PuSusSuPlus</td>\n",
       "      <td>7</td>\n",
       "    </tr>\n",
       "    <tr>\n",
       "      <th>7</th>\n",
       "      <td>PuSusSuPlusVip</td>\n",
       "      <td>1</td>\n",
       "    </tr>\n",
       "    <tr>\n",
       "      <th>8</th>\n",
       "      <td>Su</td>\n",
       "      <td>785</td>\n",
       "    </tr>\n",
       "    <tr>\n",
       "      <th>9</th>\n",
       "      <td>SuPlus</td>\n",
       "      <td>11</td>\n",
       "    </tr>\n",
       "    <tr>\n",
       "      <th>10</th>\n",
       "      <td>Sus</td>\n",
       "      <td>887</td>\n",
       "    </tr>\n",
       "    <tr>\n",
       "      <th>11</th>\n",
       "      <td>SusPlus</td>\n",
       "      <td>24</td>\n",
       "    </tr>\n",
       "    <tr>\n",
       "      <th>12</th>\n",
       "      <td>SusSu</td>\n",
       "      <td>388</td>\n",
       "    </tr>\n",
       "    <tr>\n",
       "      <th>13</th>\n",
       "      <td>SusSuPlus</td>\n",
       "      <td>20</td>\n",
       "    </tr>\n",
       "  </tbody>\n",
       "</table>\n",
       "</div>"
      ],
      "text/plain": [
       "              kind  pid\n",
       "0             Plus   46\n",
       "1               Pu   75\n",
       "2             PuSu   28\n",
       "3         PuSuPlus    3\n",
       "4            PuSus   36\n",
       "5          PuSusSu   38\n",
       "6      PuSusSuPlus    7\n",
       "7   PuSusSuPlusVip    1\n",
       "8               Su  785\n",
       "9           SuPlus   11\n",
       "10             Sus  887\n",
       "11         SusPlus   24\n",
       "12           SusSu  388\n",
       "13       SusSuPlus   20"
      ]
     },
     "execution_count": 54,
     "metadata": {},
     "output_type": "execute_result"
    }
   ],
   "source": [
    "df.groupby('kind', as_index=False)['pid'].count()"
   ]
  },
  {
   "cell_type": "code",
   "execution_count": 29,
   "metadata": {},
   "outputs": [
    {
     "data": {
      "text/plain": [
       "0.461305703788699"
      ]
     },
     "execution_count": 29,
     "metadata": {},
     "output_type": "execute_result"
    }
   ],
   "source": [
    "Pu = df[df['kind'] == 'Pu']\n",
    "(Pu['pu_num_days']/Pu['how_long']).mean()"
   ]
  },
  {
   "cell_type": "code",
   "execution_count": 32,
   "metadata": {},
   "outputs": [
    {
     "name": "stdout",
     "output_type": "stream",
     "text": [
      "38.666666666666664\n",
      "16.72\n"
     ]
    }
   ],
   "source": [
    "print(Pu['how_long'].mean())\n",
    "print(Pu['pu_num_days'].mean())"
   ]
  },
  {
   "cell_type": "code",
   "execution_count": 7,
   "metadata": {},
   "outputs": [],
   "source": [
    "ids = ','.join('\\''+str(i)+'\\'' for i in df['pid'].unique().tolist())"
   ]
  },
  {
   "cell_type": "code",
   "execution_count": 8,
   "metadata": {},
   "outputs": [],
   "source": [
    "q = f'''\n",
    "SELECT i.content_id, sum(v.view_cnt) as view_cnt, sum(i.imp_cnt) as imp_cnt, \n",
    "    CASE \n",
    "         WHEN sum(i.imp_cnt) = 0 THEN 0 \n",
    "         ELSE Cast(sum(v.view_cnt) AS FLOAT) / Cast(sum(i.imp_cnt) AS FLOAT) \n",
    "       END          AS ctr\n",
    "FROM   (SELECT imp_id, content_id, \n",
    "               COALESCE(Count(*), 0) AS imp_cnt \n",
    "        FROM   bun_log_app.app_event_type_impression \n",
    "        WHERE  content_id IN ( {ids} ) \n",
    "               AND year||month in ('202004', '202003', '202002')\n",
    "        GROUP  BY imp_id, content_id) AS i \n",
    "       LEFT JOIN (SELECT imp_id, content_id, \n",
    "                               COALESCE(Count(*), 0) AS view_cnt \n",
    "                        FROM   bun_log_app.app_event_type_view \n",
    "                        WHERE  content_id IN ( {ids} ) \n",
    "                               AND year||month in ('202004', '202003', '202002')\n",
    "                        GROUP  BY imp_id, content_id) v \n",
    "                    ON i.imp_id = v.imp_id\n",
    "group by i.content_id\n",
    "'''\n",
    "df_ctr = pd.read_sql(q, con=redshift)"
   ]
  },
  {
   "cell_type": "code",
   "execution_count": 10,
   "metadata": {},
   "outputs": [],
   "source": [
    "df_ctr.columns = ['pid', 'view_cnt', 'imp_cnt', 'ctr']"
   ]
  },
  {
   "cell_type": "code",
   "execution_count": 12,
   "metadata": {},
   "outputs": [],
   "source": [
    "df_ctr['pid'] = df_ctr['pid'].astype(int)\n",
    "df['pid'] = df['pid'].astype(int)"
   ]
  },
  {
   "cell_type": "code",
   "execution_count": 27,
   "metadata": {},
   "outputs": [
    {
     "ename": "NameError",
     "evalue": "name 'df_ctr' is not defined",
     "output_type": "error",
     "traceback": [
      "\u001b[0;31m---------------------------------------------------------------------------\u001b[0m",
      "\u001b[0;31mNameError\u001b[0m                                 Traceback (most recent call last)",
      "\u001b[0;32m<ipython-input-27-c04be8bf4c01>\u001b[0m in \u001b[0;36m<module>\u001b[0;34m\u001b[0m\n\u001b[0;32m----> 1\u001b[0;31m \u001b[0mdf\u001b[0m \u001b[0;34m=\u001b[0m \u001b[0mpd\u001b[0m\u001b[0;34m.\u001b[0m\u001b[0mmerge\u001b[0m\u001b[0;34m(\u001b[0m\u001b[0mdf\u001b[0m\u001b[0;34m,\u001b[0m \u001b[0mdf_ctr\u001b[0m\u001b[0;34m,\u001b[0m \u001b[0mon\u001b[0m\u001b[0;34m=\u001b[0m\u001b[0;34m'pid'\u001b[0m\u001b[0;34m)\u001b[0m\u001b[0;34m\u001b[0m\u001b[0;34m\u001b[0m\u001b[0m\n\u001b[0m",
      "\u001b[0;31mNameError\u001b[0m: name 'df_ctr' is not defined"
     ]
    }
   ],
   "source": [
    "df = pd.merge(df, df_ctr, on='pid')"
   ]
  },
  {
   "cell_type": "code",
   "execution_count": 26,
   "metadata": {},
   "outputs": [
    {
     "data": {
      "text/plain": [
       "Index(['pid', 'how_long', 'interest', 'pu_num_days', 'pu_first_day',\n",
       "       'pu_last_day', 'pu_pay_free', 'pu_pay_point', 'pu_pay_sum',\n",
       "       'pu_stat_click', 'pu_stat_view', 'sus_num_days', 'sus_first_day',\n",
       "       'sus_last_day', 'sus_pay_free', 'sus_pay_point', 'sus_pay_sum',\n",
       "       'sus_stat_click', 'sus_stat_view', 'su_num_days', 'su_first_day',\n",
       "       'su_last_day', 'su_pay_free', 'su_pay_point', 'su_pay_sum',\n",
       "       'su_stat_click', 'su_stat_view', 'tp_num_days', 'tp_first_day',\n",
       "       'tp_last_day', 'tp_pay_free', 'tp_pay_point', 'tp_pay_sum',\n",
       "       'tdp_num_days', 'tdp_first_day', 'tdp_last_day', 'tdp_pay_free',\n",
       "       'tdp_pay_point', 'tdp_pay_sum', 'kind'],\n",
       "      dtype='object')"
      ]
     },
     "execution_count": 26,
     "metadata": {},
     "output_type": "execute_result"
    }
   ],
   "source": [
    "df.columns"
   ]
  },
  {
   "cell_type": "code",
   "execution_count": 16,
   "metadata": {},
   "outputs": [
    {
     "data": {
      "text/html": [
       "<div>\n",
       "<style scoped>\n",
       "    .dataframe tbody tr th:only-of-type {\n",
       "        vertical-align: middle;\n",
       "    }\n",
       "\n",
       "    .dataframe tbody tr th {\n",
       "        vertical-align: top;\n",
       "    }\n",
       "\n",
       "    .dataframe thead th {\n",
       "        text-align: right;\n",
       "    }\n",
       "</style>\n",
       "<table border=\"1\" class=\"dataframe\">\n",
       "  <thead>\n",
       "    <tr style=\"text-align: right;\">\n",
       "      <th></th>\n",
       "      <th>kind</th>\n",
       "      <th>ctr</th>\n",
       "    </tr>\n",
       "  </thead>\n",
       "  <tbody>\n",
       "    <tr>\n",
       "      <th>10</th>\n",
       "      <td>Sus</td>\n",
       "      <td>0.053773</td>\n",
       "    </tr>\n",
       "    <tr>\n",
       "      <th>8</th>\n",
       "      <td>Su</td>\n",
       "      <td>0.044572</td>\n",
       "    </tr>\n",
       "    <tr>\n",
       "      <th>14</th>\n",
       "      <td>Vip</td>\n",
       "      <td>0.041976</td>\n",
       "    </tr>\n",
       "    <tr>\n",
       "      <th>12</th>\n",
       "      <td>SusSu</td>\n",
       "      <td>0.041944</td>\n",
       "    </tr>\n",
       "    <tr>\n",
       "      <th>2</th>\n",
       "      <td>PuSu</td>\n",
       "      <td>0.036719</td>\n",
       "    </tr>\n",
       "    <tr>\n",
       "      <th>5</th>\n",
       "      <td>PuSusSu</td>\n",
       "      <td>0.033824</td>\n",
       "    </tr>\n",
       "    <tr>\n",
       "      <th>1</th>\n",
       "      <td>Pu</td>\n",
       "      <td>0.031736</td>\n",
       "    </tr>\n",
       "    <tr>\n",
       "      <th>0</th>\n",
       "      <td>Plus</td>\n",
       "      <td>0.030543</td>\n",
       "    </tr>\n",
       "    <tr>\n",
       "      <th>4</th>\n",
       "      <td>PuSus</td>\n",
       "      <td>0.026584</td>\n",
       "    </tr>\n",
       "    <tr>\n",
       "      <th>3</th>\n",
       "      <td>PuSuPlus</td>\n",
       "      <td>0.026405</td>\n",
       "    </tr>\n",
       "    <tr>\n",
       "      <th>9</th>\n",
       "      <td>SuPlus</td>\n",
       "      <td>0.025878</td>\n",
       "    </tr>\n",
       "    <tr>\n",
       "      <th>11</th>\n",
       "      <td>SusPlus</td>\n",
       "      <td>0.024550</td>\n",
       "    </tr>\n",
       "    <tr>\n",
       "      <th>13</th>\n",
       "      <td>SusSuPlus</td>\n",
       "      <td>0.021438</td>\n",
       "    </tr>\n",
       "    <tr>\n",
       "      <th>6</th>\n",
       "      <td>PuSusSuPlus</td>\n",
       "      <td>0.019336</td>\n",
       "    </tr>\n",
       "    <tr>\n",
       "      <th>7</th>\n",
       "      <td>PuSusSuPlusVip</td>\n",
       "      <td>0.001776</td>\n",
       "    </tr>\n",
       "  </tbody>\n",
       "</table>\n",
       "</div>"
      ],
      "text/plain": [
       "              kind       ctr\n",
       "10             Sus  0.053773\n",
       "8               Su  0.044572\n",
       "14             Vip  0.041976\n",
       "12           SusSu  0.041944\n",
       "2             PuSu  0.036719\n",
       "5          PuSusSu  0.033824\n",
       "1               Pu  0.031736\n",
       "0             Plus  0.030543\n",
       "4            PuSus  0.026584\n",
       "3         PuSuPlus  0.026405\n",
       "9           SuPlus  0.025878\n",
       "11         SusPlus  0.024550\n",
       "13       SusSuPlus  0.021438\n",
       "6      PuSusSuPlus  0.019336\n",
       "7   PuSusSuPlusVip  0.001776"
      ]
     },
     "execution_count": 16,
     "metadata": {},
     "output_type": "execute_result"
    }
   ],
   "source": [
    "df.groupby('kind', as_index=False)['ctr'].mean().sort_values('ctr', ascending=False)"
   ]
  },
  {
   "cell_type": "code",
   "execution_count": 28,
   "metadata": {},
   "outputs": [],
   "source": [
    "df= pd.read_csv('longtimeselling_ctr.csv')"
   ]
  },
  {
   "cell_type": "code",
   "execution_count": 33,
   "metadata": {},
   "outputs": [],
   "source": [
    "df = df[df['ctr'] < 1]"
   ]
  },
  {
   "cell_type": "code",
   "execution_count": 47,
   "metadata": {},
   "outputs": [],
   "source": [
    "ids = ','.join('\\''+str(i)+'\\'' for i in df.sort_values('ctr', ascending=False)[:100]['pid'].tolist())"
   ]
  },
  {
   "cell_type": "code",
   "execution_count": 52,
   "metadata": {},
   "outputs": [],
   "source": [
    "q = f'''\n",
    "select id as pid, uid, name, category_id\n",
    "from service1_quicket.product_info\n",
    "where id in ({ids})\n",
    "'''\n",
    "top_products = pd.read_sql(q, con=redshift)"
   ]
  },
  {
   "cell_type": "code",
   "execution_count": 62,
   "metadata": {},
   "outputs": [],
   "source": [
    "top_pids = pd.merge(df.sort_values('ctr', ascending=False)[:100][['pid', 'kind', 'ctr']], top_products, on ='pid')"
   ]
  },
  {
   "cell_type": "code",
   "execution_count": 64,
   "metadata": {},
   "outputs": [
    {
     "data": {
      "text/html": [
       "<div>\n",
       "<style scoped>\n",
       "    .dataframe tbody tr th:only-of-type {\n",
       "        vertical-align: middle;\n",
       "    }\n",
       "\n",
       "    .dataframe tbody tr th {\n",
       "        vertical-align: top;\n",
       "    }\n",
       "\n",
       "    .dataframe thead th {\n",
       "        text-align: right;\n",
       "    }\n",
       "</style>\n",
       "<table border=\"1\" class=\"dataframe\">\n",
       "  <thead>\n",
       "    <tr style=\"text-align: right;\">\n",
       "      <th></th>\n",
       "      <th>pid</th>\n",
       "      <th>kind</th>\n",
       "      <th>ctr</th>\n",
       "      <th>uid</th>\n",
       "      <th>name</th>\n",
       "      <th>category_id</th>\n",
       "    </tr>\n",
       "  </thead>\n",
       "  <tbody>\n",
       "    <tr>\n",
       "      <th>0</th>\n",
       "      <td>119293868</td>\n",
       "      <td>Sus</td>\n",
       "      <td>0.254199</td>\n",
       "      <td>5598818</td>\n",
       "      <td>에어팟2 미개봉 무선 OEM 판매합니다.</td>\n",
       "      <td>600700001</td>\n",
       "    </tr>\n",
       "    <tr>\n",
       "      <th>1</th>\n",
       "      <td>119198773</td>\n",
       "      <td>Sus</td>\n",
       "      <td>0.227637</td>\n",
       "      <td>6061587</td>\n",
       "      <td>뉴발란스 992 그레이</td>\n",
       "      <td>400040100</td>\n",
       "    </tr>\n",
       "    <tr>\n",
       "      <th>2</th>\n",
       "      <td>119600219</td>\n",
       "      <td>Su</td>\n",
       "      <td>0.224290</td>\n",
       "      <td>173086</td>\n",
       "      <td>2주우머나이저 세티스파이 충전식 아답터 포함</td>\n",
       "      <td>600400005</td>\n",
       "    </tr>\n",
       "    <tr>\n",
       "      <th>3</th>\n",
       "      <td>118804909</td>\n",
       "      <td>Sus</td>\n",
       "      <td>0.218065</td>\n",
       "      <td>7517218</td>\n",
       "      <td>슈프림 에어포스 화이트</td>\n",
       "      <td>400040999</td>\n",
       "    </tr>\n",
       "    <tr>\n",
       "      <th>4</th>\n",
       "      <td>118817639</td>\n",
       "      <td>Sus</td>\n",
       "      <td>0.200131</td>\n",
       "      <td>7630043</td>\n",
       "      <td>아우디A6 깔끔한 바디킷 정확한 가속력 가성비수입차~</td>\n",
       "      <td>750</td>\n",
       "    </tr>\n",
       "    <tr>\n",
       "      <th>5</th>\n",
       "      <td>120474475</td>\n",
       "      <td>Sus</td>\n",
       "      <td>0.197792</td>\n",
       "      <td>6370874</td>\n",
       "      <td>bhc뿌링클치즈볼,골드킹치즈볼,교촌 허니콤포 웨지감자 기프티콘 삽니다</td>\n",
       "      <td>800300999</td>\n",
       "    </tr>\n",
       "    <tr>\n",
       "      <th>6</th>\n",
       "      <td>118586816</td>\n",
       "      <td>Plus</td>\n",
       "      <td>0.188746</td>\n",
       "      <td>4392378</td>\n",
       "      <td>살아있는 라이브활킹크랩</td>\n",
       "      <td>800300003</td>\n",
       "    </tr>\n",
       "    <tr>\n",
       "      <th>7</th>\n",
       "      <td>119311806</td>\n",
       "      <td>Sus</td>\n",
       "      <td>0.187317</td>\n",
       "      <td>5081034</td>\n",
       "      <td>미스터트롯인천싸게 ■ 1층 최고구역 ■ 1~2연석</td>\n",
       "      <td>900210001</td>\n",
       "    </tr>\n",
       "    <tr>\n",
       "      <th>8</th>\n",
       "      <td>120953175</td>\n",
       "      <td>Sus</td>\n",
       "      <td>0.180363</td>\n",
       "      <td>6317440</td>\n",
       "      <td>자바 퓨리아 풀샥</td>\n",
       "      <td>700350300</td>\n",
       "    </tr>\n",
       "    <tr>\n",
       "      <th>9</th>\n",
       "      <td>118358992</td>\n",
       "      <td>Su</td>\n",
       "      <td>0.179076</td>\n",
       "      <td>10276352</td>\n",
       "      <td>❤최저가❤ 마인크래프트 PC 정품 자바에디션 코드키</td>\n",
       "      <td>600600005</td>\n",
       "    </tr>\n",
       "    <tr>\n",
       "      <th>10</th>\n",
       "      <td>120523359</td>\n",
       "      <td>Sus</td>\n",
       "      <td>0.177912</td>\n",
       "      <td>5081034</td>\n",
       "      <td>미스터트롯 부산 ■ 1층 4구역 무대앞구역 ■ 1석</td>\n",
       "      <td>900210001</td>\n",
       "    </tr>\n",
       "    <tr>\n",
       "      <th>11</th>\n",
       "      <td>121708201</td>\n",
       "      <td>Sus</td>\n",
       "      <td>0.177790</td>\n",
       "      <td>10418699</td>\n",
       "      <td>컨버스 피오갓 팔아요</td>\n",
       "      <td>400040300</td>\n",
       "    </tr>\n",
       "    <tr>\n",
       "      <th>12</th>\n",
       "      <td>118686980</td>\n",
       "      <td>Su</td>\n",
       "      <td>0.170953</td>\n",
       "      <td>10336492</td>\n",
       "      <td>나이키×사카이</td>\n",
       "      <td>400040100</td>\n",
       "    </tr>\n",
       "    <tr>\n",
       "      <th>13</th>\n",
       "      <td>118879859</td>\n",
       "      <td>Sus</td>\n",
       "      <td>0.169516</td>\n",
       "      <td>10623031</td>\n",
       "      <td>K5급매합니당~~~~~~~~~~!!!</td>\n",
       "      <td>750600</td>\n",
       "    </tr>\n",
       "    <tr>\n",
       "      <th>14</th>\n",
       "      <td>120739533</td>\n",
       "      <td>Sus</td>\n",
       "      <td>0.160649</td>\n",
       "      <td>2148660</td>\n",
       "      <td>아이패드 프로2 10.5인치 64g 로골 wifi팝니다.</td>\n",
       "      <td>600700004</td>\n",
       "    </tr>\n",
       "    <tr>\n",
       "      <th>15</th>\n",
       "      <td>120901181</td>\n",
       "      <td>Sus</td>\n",
       "      <td>0.158820</td>\n",
       "      <td>9552734</td>\n",
       "      <td>아이폰 se 미개봉!!(완전새상품)</td>\n",
       "      <td>600700001</td>\n",
       "    </tr>\n",
       "    <tr>\n",
       "      <th>16</th>\n",
       "      <td>120606134</td>\n",
       "      <td>Su</td>\n",
       "      <td>0.152762</td>\n",
       "      <td>3134880</td>\n",
       "      <td>아이폰XS 64기가 실버색상 A급‼️(422)</td>\n",
       "      <td>600700001</td>\n",
       "    </tr>\n",
       "    <tr>\n",
       "      <th>17</th>\n",
       "      <td>119959728</td>\n",
       "      <td>Sus</td>\n",
       "      <td>0.152001</td>\n",
       "      <td>6396627</td>\n",
       "      <td>애플펜슬정품과 거의비슷한필기감 필촉5개 서비스</td>\n",
       "      <td>600500999</td>\n",
       "    </tr>\n",
       "    <tr>\n",
       "      <th>18</th>\n",
       "      <td>119368546</td>\n",
       "      <td>Sus</td>\n",
       "      <td>0.151336</td>\n",
       "      <td>3077638</td>\n",
       "      <td>소우소우st 가마구치백</td>\n",
       "      <td>400010200</td>\n",
       "    </tr>\n",
       "    <tr>\n",
       "      <th>19</th>\n",
       "      <td>111683577</td>\n",
       "      <td>Vip</td>\n",
       "      <td>0.149565</td>\n",
       "      <td>7179071</td>\n",
       "      <td>☆초특가☆이지부스트350 V2☆12종☆</td>\n",
       "      <td>400040100</td>\n",
       "    </tr>\n",
       "  </tbody>\n",
       "</table>\n",
       "</div>"
      ],
      "text/plain": [
       "          pid  kind       ctr       uid  \\\n",
       "0   119293868   Sus  0.254199   5598818   \n",
       "1   119198773   Sus  0.227637   6061587   \n",
       "2   119600219    Su  0.224290    173086   \n",
       "3   118804909   Sus  0.218065   7517218   \n",
       "4   118817639   Sus  0.200131   7630043   \n",
       "5   120474475   Sus  0.197792   6370874   \n",
       "6   118586816  Plus  0.188746   4392378   \n",
       "7   119311806   Sus  0.187317   5081034   \n",
       "8   120953175   Sus  0.180363   6317440   \n",
       "9   118358992    Su  0.179076  10276352   \n",
       "10  120523359   Sus  0.177912   5081034   \n",
       "11  121708201   Sus  0.177790  10418699   \n",
       "12  118686980    Su  0.170953  10336492   \n",
       "13  118879859   Sus  0.169516  10623031   \n",
       "14  120739533   Sus  0.160649   2148660   \n",
       "15  120901181   Sus  0.158820   9552734   \n",
       "16  120606134    Su  0.152762   3134880   \n",
       "17  119959728   Sus  0.152001   6396627   \n",
       "18  119368546   Sus  0.151336   3077638   \n",
       "19  111683577   Vip  0.149565   7179071   \n",
       "\n",
       "                                      name category_id  \n",
       "0                   에어팟2 미개봉 무선 OEM 판매합니다.   600700001  \n",
       "1                             뉴발란스 992 그레이   400040100  \n",
       "2                 2주우머나이저 세티스파이 충전식 아답터 포함   600400005  \n",
       "3                             슈프림 에어포스 화이트   400040999  \n",
       "4            아우디A6 깔끔한 바디킷 정확한 가속력 가성비수입차~         750  \n",
       "5   bhc뿌링클치즈볼,골드킹치즈볼,교촌 허니콤포 웨지감자 기프티콘 삽니다   800300999  \n",
       "6                             살아있는 라이브활킹크랩   800300003  \n",
       "7              미스터트롯인천싸게 ■ 1층 최고구역 ■ 1~2연석   900210001  \n",
       "8                                자바 퓨리아 풀샥   700350300  \n",
       "9             ❤최저가❤ 마인크래프트 PC 정품 자바에디션 코드키   600600005  \n",
       "10            미스터트롯 부산 ■ 1층 4구역 무대앞구역 ■ 1석   900210001  \n",
       "11                             컨버스 피오갓 팔아요   400040300  \n",
       "12                                 나이키×사카이   400040100  \n",
       "13                    K5급매합니당~~~~~~~~~~!!!      750600  \n",
       "14         아이패드 프로2 10.5인치 64g 로골 wifi팝니다.   600700004  \n",
       "15                     아이폰 se 미개봉!!(완전새상품)   600700001  \n",
       "16               아이폰XS 64기가 실버색상 A급‼️(422)   600700001  \n",
       "17               애플펜슬정품과 거의비슷한필기감 필촉5개 서비스   600500999  \n",
       "18                            소우소우st 가마구치백   400010200  \n",
       "19                   ☆초특가☆이지부스트350 V2☆12종☆   400040100  "
      ]
     },
     "execution_count": 64,
     "metadata": {},
     "output_type": "execute_result"
    }
   ],
   "source": [
    "top_pids.sort_values('ctr', ascending=False)[:20]"
   ]
  },
  {
   "cell_type": "code",
   "execution_count": 60,
   "metadata": {},
   "outputs": [
    {
     "data": {
      "text/plain": [
       "one_depth\n",
       "310     1\n",
       "320     6\n",
       "400    18\n",
       "410     2\n",
       "500     1\n",
       "600    37\n",
       "700     2\n",
       "750    21\n",
       "800     5\n",
       "900     3\n",
       "999     4\n",
       "Name: pid, dtype: int64"
      ]
     },
     "execution_count": 60,
     "metadata": {},
     "output_type": "execute_result"
    }
   ],
   "source": [
    "category = [i[:3] for i in top_pids['category_id'].astype(str).tolist()]\n",
    "top_pids['one_depth'] = category\n",
    "top_pids.groupby('one_depth')['pid'].count()"
   ]
  },
  {
   "cell_type": "code",
   "execution_count": 30,
   "metadata": {},
   "outputs": [],
   "source": [
    "df = df[['pid', 'how_long', 'interest', 'view_cnt', 'imp_cnt', 'ctr', 'pu_num_days',\n",
    "       'pu_first_day', 'pu_last_day', 'pu_pay_free', 'pu_pay_point',\n",
    "       'pu_pay_sum', 'pu_stat_click', 'pu_stat_view', 'sus_num_days',\n",
    "       'sus_first_day', 'sus_last_day', 'sus_pay_free', 'sus_pay_point',\n",
    "       'sus_pay_sum', 'sus_stat_click', 'sus_stat_view', 'su_num_days',\n",
    "       'su_first_day', 'su_last_day', 'su_pay_free', 'su_pay_point',\n",
    "       'su_pay_sum', 'su_stat_click', 'su_stat_view', 'tp_num_days',\n",
    "       'tp_first_day', 'tp_last_day', 'tp_pay_free', 'tp_pay_point',\n",
    "       'tp_pay_sum', 'tdp_num_days', 'tdp_first_day', 'tdp_last_day',\n",
    "       'tdp_pay_free', 'tdp_pay_point', 'tdp_pay_sum']]\n",
    "df.columns = ['pid', 'how_long', 'interest', 'view_cnt', 'imp_cnt', 'ctr', 'pu_num_days',\n",
    "       'pu_first_day', 'pu_last_day', 'pu_pay_free', 'pu_pay_point',\n",
    "       'pu_pay_sum', 'pu_stat_click', 'pu_stat_view', 'sus_num_days',\n",
    "       'sus_first_day', 'sus_last_day', 'sus_pay_free', 'sus_pay_point',\n",
    "       'sus_pay_sum', 'sus_stat_click', 'sus_stat_view', 'su_num_days',\n",
    "       'su_first_day', 'su_last_day', 'su_pay_free', 'su_pay_point',\n",
    "       'su_pay_sum', 'su_stat_click', 'su_stat_view', 'plus_num_days',\n",
    "       'plus_first_day', 'plus_last_day', 'plus_pay_free', 'plus_pay_point',\n",
    "       'plus_pay_sum', 'vip_num_days', 'vip_first_day', 'vip_last_day',\n",
    "       'vip_pay_free', 'vip_pay_point', 'vip_pay_sum']"
   ]
  },
  {
   "cell_type": "code",
   "execution_count": 31,
   "metadata": {},
   "outputs": [],
   "source": [
    "df.to_csv('longtimeselling_ctr.csv', index=False)"
   ]
  },
  {
   "cell_type": "code",
   "execution_count": 74,
   "metadata": {},
   "outputs": [],
   "source": [
    "Sus = df[df['kind'] == 'Sus']"
   ]
  },
  {
   "cell_type": "code",
   "execution_count": 23,
   "metadata": {},
   "outputs": [],
   "source": [
    "sus_temp = Sus[['pid', 'view_cnt', 'imp_cnt', 'ctr']].sort_values('ctr', ascending=False)[:50]"
   ]
  },
  {
   "cell_type": "code",
   "execution_count": 26,
   "metadata": {},
   "outputs": [],
   "source": [
    "ids = ','.join('\\''+str(i)+'\\'' for i in sus_temp['pid'].unique().tolist())"
   ]
  },
  {
   "cell_type": "code",
   "execution_count": 27,
   "metadata": {},
   "outputs": [
    {
     "data": {
      "text/plain": [
       "\"'119293868','119198773','118804909','118817639','120474475','119311806','120953175','120523359','121708201','118879859','120739533','120901181','119959728','119368546','121197130','118908297','121413284','118954791','118352810','119585643','118484770','119536903','121452088','119399196','121108883','119134657','118635326','119118950','119898108','120614229','120646394','118407450','120749121','118618582','119237197','119728408','119644428','119386498','118675304','121326023','119699469','119818698','120526043','121726988','119896800','118793388','119963044','118548857','118796391','118216806'\""
      ]
     },
     "execution_count": 27,
     "metadata": {},
     "output_type": "execute_result"
    }
   ],
   "source": [
    "ids"
   ]
  },
  {
   "cell_type": "code",
   "execution_count": 33,
   "metadata": {},
   "outputs": [],
   "source": [
    "q = f'''\n",
    "select id as pid, name, left(category_id, 3) as category_id\n",
    "from service1_quicket.product_info\n",
    "where id in ({ids})\n",
    "'''\n",
    "\n",
    "t = pd.read_sql(q, con=redshift)"
   ]
  },
  {
   "cell_type": "code",
   "execution_count": 34,
   "metadata": {},
   "outputs": [],
   "source": [
    "sus_temp = pd.merge(sus_temp, t, on='pid')"
   ]
  },
  {
   "cell_type": "code",
   "execution_count": 37,
   "metadata": {},
   "outputs": [],
   "source": [
    "sus_temp.columns = ['pid', 'click_cnt', 'imp_cnt', 'ctr', 'name', 'category_id']"
   ]
  },
  {
   "cell_type": "code",
   "execution_count": 65,
   "metadata": {},
   "outputs": [
    {
     "ename": "NameError",
     "evalue": "name 'sus_temp' is not defined",
     "output_type": "error",
     "traceback": [
      "\u001b[0;31m---------------------------------------------------------------------------\u001b[0m",
      "\u001b[0;31mNameError\u001b[0m                                 Traceback (most recent call last)",
      "\u001b[0;32m<ipython-input-65-983a887ccb96>\u001b[0m in \u001b[0;36m<module>\u001b[0;34m\u001b[0m\n\u001b[0;32m----> 1\u001b[0;31m \u001b[0msus_temp\u001b[0m \u001b[0;34m=\u001b[0m \u001b[0mpd\u001b[0m\u001b[0;34m.\u001b[0m\u001b[0mmerge\u001b[0m\u001b[0;34m(\u001b[0m\u001b[0mdf\u001b[0m\u001b[0;34m[\u001b[0m\u001b[0;34m[\u001b[0m\u001b[0;34m'pid'\u001b[0m\u001b[0;34m,\u001b[0m \u001b[0;34m'how_long'\u001b[0m\u001b[0;34m,\u001b[0m \u001b[0;34m'sus_num_days'\u001b[0m\u001b[0;34m,\u001b[0m \u001b[0;34m'sus_pay_sum'\u001b[0m\u001b[0;34m,\u001b[0m \u001b[0;34m'sus_first_day'\u001b[0m\u001b[0;34m,\u001b[0m \u001b[0;34m'sus_last_day'\u001b[0m\u001b[0;34m]\u001b[0m\u001b[0;34m]\u001b[0m\u001b[0;34m,\u001b[0m \u001b[0msus_temp\u001b[0m\u001b[0;34m,\u001b[0m \u001b[0mon\u001b[0m\u001b[0;34m=\u001b[0m\u001b[0;34m'pid'\u001b[0m\u001b[0;34m)\u001b[0m\u001b[0;34m.\u001b[0m\u001b[0msort_values\u001b[0m\u001b[0;34m(\u001b[0m\u001b[0;34m'ctr'\u001b[0m\u001b[0;34m,\u001b[0m\u001b[0mascending\u001b[0m\u001b[0;34m=\u001b[0m\u001b[0;32mFalse\u001b[0m\u001b[0;34m)\u001b[0m\u001b[0;34m\u001b[0m\u001b[0;34m\u001b[0m\u001b[0m\n\u001b[0m",
      "\u001b[0;31mNameError\u001b[0m: name 'sus_temp' is not defined"
     ]
    }
   ],
   "source": [
    "sus_temp = pd.merge(df[['pid', 'how_long', 'sus_num_days', 'sus_pay_sum', 'sus_first_day', 'sus_last_day']], sus_temp, on='pid').sort_values('ctr',ascending=False)"
   ]
  },
  {
   "cell_type": "code",
   "execution_count": null,
   "metadata": {},
   "outputs": [],
   "source": [
    "import matplotlib.pyplot as plt\n",
    "\n",
    "plt.hist(df['ctr'], bins='auto')"
   ]
  },
  {
   "cell_type": "code",
   "execution_count": 55,
   "metadata": {},
   "outputs": [
    {
     "data": {
      "text/plain": [
       "(array([ 35.,  52., 108., 141., 168., 239., 224., 225., 181., 163., 110.,\n",
       "        107.,  91.,  77.,  66.,  50.,  47.,  44.,  33.,  27.,  20.,  21.,\n",
       "         23.,  16.,  11.,   6.,  10.,  14.,   6.,   6.,   4.,   5.,   3.,\n",
       "          1.,   1.,   1.,   1.,   3.,   1.,   1.,   1.,   1.,   1.,   0.,\n",
       "          0.,   0.,   1.,   1.,   1.,   0.,   0.,   0.,   0.,   1.]),\n",
       " array([0.00121534, 0.00590022, 0.01058509, 0.01526997, 0.01995485,\n",
       "        0.02463973, 0.02932461, 0.03400949, 0.03869437, 0.04337925,\n",
       "        0.04806413, 0.05274901, 0.05743389, 0.06211877, 0.06680365,\n",
       "        0.07148853, 0.07617341, 0.08085828, 0.08554316, 0.09022804,\n",
       "        0.09491292, 0.0995978 , 0.10428268, 0.10896756, 0.11365244,\n",
       "        0.11833732, 0.1230222 , 0.12770708, 0.13239196, 0.13707684,\n",
       "        0.14176172, 0.1464466 , 0.15113147, 0.15581635, 0.16050123,\n",
       "        0.16518611, 0.16987099, 0.17455587, 0.17924075, 0.18392563,\n",
       "        0.18861051, 0.19329539, 0.19798027, 0.20266515, 0.20735003,\n",
       "        0.21203491, 0.21671979, 0.22140466, 0.22608954, 0.23077442,\n",
       "        0.2354593 , 0.24014418, 0.24482906, 0.24951394, 0.25419882]),\n",
       " <a list of 54 Patch objects>)"
      ]
     },
     "execution_count": 55,
     "metadata": {},
     "output_type": "execute_result"
    },
    {
     "data": {
      "image/png": "[encoded data removed]",
      "text/plain": [
       "<Figure size 432x288 with 1 Axes>"
      ]
     },
     "metadata": {
      "needs_background": "light"
     },
     "output_type": "display_data"
    }
   ],
   "source": [
    "import matplotlib.pyplot as plt\n",
    "\n",
    "plt.hist(df['ctr'], bins='auto')"
   ]
  },
  {
   "cell_type": "code",
   "execution_count": 58,
   "metadata": {},
   "outputs": [],
   "source": [
    "Su = df[df['kind'] == 'Su']"
   ]
  },
  {
   "cell_type": "code",
   "execution_count": 63,
   "metadata": {},
   "outputs": [
    {
     "data": {
      "text/html": [
       "<div>\n",
       "<style scoped>\n",
       "    .dataframe tbody tr th:only-of-type {\n",
       "        vertical-align: middle;\n",
       "    }\n",
       "\n",
       "    .dataframe tbody tr th {\n",
       "        vertical-align: top;\n",
       "    }\n",
       "\n",
       "    .dataframe thead th {\n",
       "        text-align: right;\n",
       "    }\n",
       "</style>\n",
       "<table border=\"1\" class=\"dataframe\">\n",
       "  <thead>\n",
       "    <tr style=\"text-align: right;\">\n",
       "      <th></th>\n",
       "      <th>pid</th>\n",
       "      <th>how_long</th>\n",
       "      <th>su_num_days</th>\n",
       "      <th>view_cnt</th>\n",
       "      <th>imp_cnt</th>\n",
       "      <th>ctr</th>\n",
       "    </tr>\n",
       "  </thead>\n",
       "  <tbody>\n",
       "    <tr>\n",
       "      <th>2034</th>\n",
       "      <td>119600219</td>\n",
       "      <td>38</td>\n",
       "      <td>1.0</td>\n",
       "      <td>1217</td>\n",
       "      <td>5426</td>\n",
       "      <td>0.224290</td>\n",
       "    </tr>\n",
       "    <tr>\n",
       "      <th>1800</th>\n",
       "      <td>118358992</td>\n",
       "      <td>54</td>\n",
       "      <td>51.0</td>\n",
       "      <td>6186</td>\n",
       "      <td>34544</td>\n",
       "      <td>0.179076</td>\n",
       "    </tr>\n",
       "    <tr>\n",
       "      <th>1865</th>\n",
       "      <td>118686980</td>\n",
       "      <td>49</td>\n",
       "      <td>7.0</td>\n",
       "      <td>1416</td>\n",
       "      <td>8283</td>\n",
       "      <td>0.170953</td>\n",
       "    </tr>\n",
       "    <tr>\n",
       "      <th>2186</th>\n",
       "      <td>120606134</td>\n",
       "      <td>27</td>\n",
       "      <td>240.0</td>\n",
       "      <td>1582</td>\n",
       "      <td>10356</td>\n",
       "      <td>0.152762</td>\n",
       "    </tr>\n",
       "    <tr>\n",
       "      <th>2215</th>\n",
       "      <td>120856579</td>\n",
       "      <td>24</td>\n",
       "      <td>7.0</td>\n",
       "      <td>5099</td>\n",
       "      <td>34235</td>\n",
       "      <td>0.148941</td>\n",
       "    </tr>\n",
       "    <tr>\n",
       "      <th>2129</th>\n",
       "      <td>120249035</td>\n",
       "      <td>31</td>\n",
       "      <td>12.0</td>\n",
       "      <td>1072</td>\n",
       "      <td>7221</td>\n",
       "      <td>0.148456</td>\n",
       "    </tr>\n",
       "    <tr>\n",
       "      <th>2047</th>\n",
       "      <td>119679596</td>\n",
       "      <td>37</td>\n",
       "      <td>1.0</td>\n",
       "      <td>1480</td>\n",
       "      <td>10053</td>\n",
       "      <td>0.147220</td>\n",
       "    </tr>\n",
       "    <tr>\n",
       "      <th>2052</th>\n",
       "      <td>119684613</td>\n",
       "      <td>37</td>\n",
       "      <td>7.0</td>\n",
       "      <td>963</td>\n",
       "      <td>6725</td>\n",
       "      <td>0.143197</td>\n",
       "    </tr>\n",
       "    <tr>\n",
       "      <th>1136</th>\n",
       "      <td>119585643</td>\n",
       "      <td>38</td>\n",
       "      <td>50.0</td>\n",
       "      <td>3975</td>\n",
       "      <td>28164</td>\n",
       "      <td>0.141138</td>\n",
       "    </tr>\n",
       "    <tr>\n",
       "      <th>2194</th>\n",
       "      <td>120638411</td>\n",
       "      <td>27</td>\n",
       "      <td>21.0</td>\n",
       "      <td>11722</td>\n",
       "      <td>83482</td>\n",
       "      <td>0.140414</td>\n",
       "    </tr>\n",
       "    <tr>\n",
       "      <th>1899</th>\n",
       "      <td>118828450</td>\n",
       "      <td>48</td>\n",
       "      <td>7.0</td>\n",
       "      <td>1699</td>\n",
       "      <td>12243</td>\n",
       "      <td>0.138773</td>\n",
       "    </tr>\n",
       "    <tr>\n",
       "      <th>2299</th>\n",
       "      <td>121477207</td>\n",
       "      <td>17</td>\n",
       "      <td>13.0</td>\n",
       "      <td>9484</td>\n",
       "      <td>71820</td>\n",
       "      <td>0.132052</td>\n",
       "    </tr>\n",
       "    <tr>\n",
       "      <th>2304</th>\n",
       "      <td>121528301</td>\n",
       "      <td>16</td>\n",
       "      <td>13.0</td>\n",
       "      <td>10619</td>\n",
       "      <td>81407</td>\n",
       "      <td>0.130443</td>\n",
       "    </tr>\n",
       "    <tr>\n",
       "      <th>2211</th>\n",
       "      <td>120814874</td>\n",
       "      <td>24</td>\n",
       "      <td>7.0</td>\n",
       "      <td>3888</td>\n",
       "      <td>29830</td>\n",
       "      <td>0.130339</td>\n",
       "    </tr>\n",
       "    <tr>\n",
       "      <th>1798</th>\n",
       "      <td>118345494</td>\n",
       "      <td>54</td>\n",
       "      <td>1.0</td>\n",
       "      <td>790</td>\n",
       "      <td>6070</td>\n",
       "      <td>0.130148</td>\n",
       "    </tr>\n",
       "    <tr>\n",
       "      <th>1777</th>\n",
       "      <td>118227377</td>\n",
       "      <td>55</td>\n",
       "      <td>7.0</td>\n",
       "      <td>1127</td>\n",
       "      <td>8666</td>\n",
       "      <td>0.130048</td>\n",
       "    </tr>\n",
       "    <tr>\n",
       "      <th>1839</th>\n",
       "      <td>118539158</td>\n",
       "      <td>51</td>\n",
       "      <td>7.0</td>\n",
       "      <td>1366</td>\n",
       "      <td>10588</td>\n",
       "      <td>0.129014</td>\n",
       "    </tr>\n",
       "    <tr>\n",
       "      <th>1856</th>\n",
       "      <td>118628739</td>\n",
       "      <td>50</td>\n",
       "      <td>7.0</td>\n",
       "      <td>870</td>\n",
       "      <td>6775</td>\n",
       "      <td>0.128413</td>\n",
       "    </tr>\n",
       "    <tr>\n",
       "      <th>1914</th>\n",
       "      <td>118941659</td>\n",
       "      <td>46</td>\n",
       "      <td>30.0</td>\n",
       "      <td>3395</td>\n",
       "      <td>26497</td>\n",
       "      <td>0.128128</td>\n",
       "    </tr>\n",
       "    <tr>\n",
       "      <th>1763</th>\n",
       "      <td>118188382</td>\n",
       "      <td>56</td>\n",
       "      <td>30.0</td>\n",
       "      <td>730</td>\n",
       "      <td>5789</td>\n",
       "      <td>0.126101</td>\n",
       "    </tr>\n",
       "  </tbody>\n",
       "</table>\n",
       "</div>"
      ],
      "text/plain": [
       "            pid  how_long  su_num_days  view_cnt  imp_cnt       ctr\n",
       "2034  119600219        38          1.0      1217     5426  0.224290\n",
       "1800  118358992        54         51.0      6186    34544  0.179076\n",
       "1865  118686980        49          7.0      1416     8283  0.170953\n",
       "2186  120606134        27        240.0      1582    10356  0.152762\n",
       "2215  120856579        24          7.0      5099    34235  0.148941\n",
       "2129  120249035        31         12.0      1072     7221  0.148456\n",
       "2047  119679596        37          1.0      1480    10053  0.147220\n",
       "2052  119684613        37          7.0       963     6725  0.143197\n",
       "1136  119585643        38         50.0      3975    28164  0.141138\n",
       "2194  120638411        27         21.0     11722    83482  0.140414\n",
       "1899  118828450        48          7.0      1699    12243  0.138773\n",
       "2299  121477207        17         13.0      9484    71820  0.132052\n",
       "2304  121528301        16         13.0     10619    81407  0.130443\n",
       "2211  120814874        24          7.0      3888    29830  0.130339\n",
       "1798  118345494        54          1.0       790     6070  0.130148\n",
       "1777  118227377        55          7.0      1127     8666  0.130048\n",
       "1839  118539158        51          7.0      1366    10588  0.129014\n",
       "1856  118628739        50          7.0       870     6775  0.128413\n",
       "1914  118941659        46         30.0      3395    26497  0.128128\n",
       "1763  118188382        56         30.0       730     5789  0.126101"
      ]
     },
     "execution_count": 63,
     "metadata": {},
     "output_type": "execute_result"
    }
   ],
   "source": [
    "Su[['pid', 'how_long', 'su_num_days', 'view_cnt', 'imp_cnt', 'ctr']].sort_values('ctr', ascending=False)[:20]"
   ]
  },
  {
   "cell_type": "code",
   "execution_count": 15,
   "metadata": {},
   "outputs": [],
   "source": [
    "ids = ','.join('\\''+str(i)+'\\'' for i in df[df['interest'] > 10000]['pid'].unique().tolist())"
   ]
  },
  {
   "cell_type": "code",
   "execution_count": 20,
   "metadata": {},
   "outputs": [],
   "source": [
    "big = df[df['interest'] > 10000]"
   ]
  },
  {
   "cell_type": "code",
   "execution_count": 17,
   "metadata": {},
   "outputs": [],
   "source": [
    "q = f'''\n",
    "SELECT i.content_id, i.imp_id, i.date as imp_date, v.date as view_date\n",
    "FROM   (SELECT imp_id, content_id, year||'-'||month||'-'||day as date\n",
    "        FROM   bun_log_app.app_event_type_impression \n",
    "        WHERE  content_id IN ( {ids} ) \n",
    "               AND year = '2020') AS i \n",
    "       LEFT JOIN (SELECT imp_id, content_id, year||'-'||month||'-'||day as date \n",
    "                        FROM   bun_log_app.app_event_type_view \n",
    "                        WHERE  content_id IN ( {ids} ) \n",
    "                               AND year = '2020') v \n",
    "                    ON i.imp_id = v.imp_id and i.content_id = v.content_id\n",
    "'''\n",
    "log = pd.read_sql(q, con=redshift)"
   ]
  },
  {
   "cell_type": "code",
   "execution_count": 19,
   "metadata": {},
   "outputs": [],
   "source": [
    "log.to_csv('log.csv')"
   ]
  },
  {
   "cell_type": "code",
   "execution_count": 24,
   "metadata": {},
   "outputs": [
    {
     "data": {
      "text/plain": [
       "kind\n",
       "Plus               2\n",
       "Pu                 1\n",
       "PuSus              2\n",
       "PuSusSuPlusVip     1\n",
       "Su                13\n",
       "Sus               10\n",
       "SusSu              6\n",
       "SusSuPlus          1\n",
       "Name: pid, dtype: int64"
      ]
     },
     "execution_count": 24,
     "metadata": {},
     "output_type": "execute_result"
    }
   ],
   "source": [
    "big.groupby('kind')['pid'].count()"
   ]
  },
  {
   "cell_type": "code",
   "execution_count": null,
   "metadata": {},
   "outputs": [],
   "source": []
  },
  {
   "cell_type": "code",
   "execution_count": null,
   "metadata": {},
   "outputs": [],
   "source": []
  },
  {
   "cell_type": "code",
   "execution_count": 6,
   "metadata": {},
   "outputs": [],
   "source": [
    "# sus_log.to_csv('sus_log.csv')\n",
    "sus_log = pd.read_csv('sus_log.csv')"
   ]
  },
  {
   "cell_type": "code",
   "execution_count": 70,
   "metadata": {},
   "outputs": [],
   "source": [
    "sus_log['imp_date'] = pd.to_datetime(sus_log['imp_date'])"
   ]
  },
  {
   "cell_type": "code",
   "execution_count": 71,
   "metadata": {},
   "outputs": [],
   "source": [
    "sus_log['view_date'] = pd.to_datetime(sus_log['view_date'])"
   ]
  },
  {
   "cell_type": "code",
   "execution_count": 75,
   "metadata": {},
   "outputs": [],
   "source": [
    "Sus = Sus[['pid', 'sus_first_day', 'sus_last_day']]"
   ]
  },
  {
   "cell_type": "code",
   "execution_count": 76,
   "metadata": {},
   "outputs": [],
   "source": [
    "Sus.sus_first_day = pd.to_datetime(Sus.sus_first_day)\n",
    "Sus.sus_last_day = pd.to_datetime(Sus.sus_last_day)"
   ]
  },
  {
   "cell_type": "code",
   "execution_count": 79,
   "metadata": {},
   "outputs": [],
   "source": [
    "sus_log.columns = ['pid', 'imp_id', 'imp_date', 'view_date']"
   ]
  },
  {
   "cell_type": "code",
   "execution_count": 81,
   "metadata": {},
   "outputs": [],
   "source": [
    "sus_log['pid'] = sus_log['pid'].astype(int)\n",
    "Sus['pid'] = Sus['pid'].astype(int)"
   ]
  },
  {
   "cell_type": "code",
   "execution_count": 82,
   "metadata": {},
   "outputs": [],
   "source": [
    "Sus = pd.merge(Sus, sus_log, on = 'pid', how='right')"
   ]
  },
  {
   "cell_type": "code",
   "execution_count": 83,
   "metadata": {},
   "outputs": [
    {
     "data": {
      "text/html": [
       "<div>\n",
       "<style scoped>\n",
       "    .dataframe tbody tr th:only-of-type {\n",
       "        vertical-align: middle;\n",
       "    }\n",
       "\n",
       "    .dataframe tbody tr th {\n",
       "        vertical-align: top;\n",
       "    }\n",
       "\n",
       "    .dataframe thead th {\n",
       "        text-align: right;\n",
       "    }\n",
       "</style>\n",
       "<table border=\"1\" class=\"dataframe\">\n",
       "  <thead>\n",
       "    <tr style=\"text-align: right;\">\n",
       "      <th></th>\n",
       "      <th>pid</th>\n",
       "      <th>how_long</th>\n",
       "      <th>interest</th>\n",
       "      <th>sus_first_day</th>\n",
       "      <th>sus_last_day</th>\n",
       "      <th>sus_num_days</th>\n",
       "      <th>sus_pay_sum</th>\n",
       "      <th>imp_id</th>\n",
       "      <th>imp_date</th>\n",
       "      <th>view_date</th>\n",
       "    </tr>\n",
       "  </thead>\n",
       "  <tbody>\n",
       "    <tr>\n",
       "      <th>0</th>\n",
       "      <td>118179342</td>\n",
       "      <td>56</td>\n",
       "      <td>2864</td>\n",
       "      <td>2020-02-11</td>\n",
       "      <td>2020-04-22</td>\n",
       "      <td>71.0</td>\n",
       "      <td>9588996.0</td>\n",
       "      <td>None</td>\n",
       "      <td>2020-03-09</td>\n",
       "      <td>NaT</td>\n",
       "    </tr>\n",
       "    <tr>\n",
       "      <th>1</th>\n",
       "      <td>118179342</td>\n",
       "      <td>56</td>\n",
       "      <td>2864</td>\n",
       "      <td>2020-02-11</td>\n",
       "      <td>2020-04-22</td>\n",
       "      <td>71.0</td>\n",
       "      <td>9588996.0</td>\n",
       "      <td>97a35e65c8f547965872</td>\n",
       "      <td>2020-03-09</td>\n",
       "      <td>NaT</td>\n",
       "    </tr>\n",
       "    <tr>\n",
       "      <th>2</th>\n",
       "      <td>118179342</td>\n",
       "      <td>56</td>\n",
       "      <td>2864</td>\n",
       "      <td>2020-02-11</td>\n",
       "      <td>2020-04-22</td>\n",
       "      <td>71.0</td>\n",
       "      <td>9588996.0</td>\n",
       "      <td>994b5e65caa53322af5a</td>\n",
       "      <td>2020-03-09</td>\n",
       "      <td>NaT</td>\n",
       "    </tr>\n",
       "    <tr>\n",
       "      <th>3</th>\n",
       "      <td>118179342</td>\n",
       "      <td>56</td>\n",
       "      <td>2864</td>\n",
       "      <td>2020-02-11</td>\n",
       "      <td>2020-04-22</td>\n",
       "      <td>71.0</td>\n",
       "      <td>9588996.0</td>\n",
       "      <td>97a35e65c9324797ae68</td>\n",
       "      <td>2020-03-09</td>\n",
       "      <td>NaT</td>\n",
       "    </tr>\n",
       "    <tr>\n",
       "      <th>4</th>\n",
       "      <td>118179342</td>\n",
       "      <td>56</td>\n",
       "      <td>2864</td>\n",
       "      <td>2020-02-11</td>\n",
       "      <td>2020-04-22</td>\n",
       "      <td>71.0</td>\n",
       "      <td>9588996.0</td>\n",
       "      <td>None</td>\n",
       "      <td>2020-03-09</td>\n",
       "      <td>NaT</td>\n",
       "    </tr>\n",
       "    <tr>\n",
       "      <th>...</th>\n",
       "      <td>...</td>\n",
       "      <td>...</td>\n",
       "      <td>...</td>\n",
       "      <td>...</td>\n",
       "      <td>...</td>\n",
       "      <td>...</td>\n",
       "      <td>...</td>\n",
       "      <td>...</td>\n",
       "      <td>...</td>\n",
       "      <td>...</td>\n",
       "    </tr>\n",
       "    <tr>\n",
       "      <th>34684615</th>\n",
       "      <td>121744019</td>\n",
       "      <td>14</td>\n",
       "      <td>1580</td>\n",
       "      <td>2020-03-19</td>\n",
       "      <td>2020-04-27</td>\n",
       "      <td>39.0</td>\n",
       "      <td>313000.0</td>\n",
       "      <td>97a45e956ba709303ed7</td>\n",
       "      <td>2020-04-14</td>\n",
       "      <td>NaT</td>\n",
       "    </tr>\n",
       "    <tr>\n",
       "      <th>34684616</th>\n",
       "      <td>121744019</td>\n",
       "      <td>14</td>\n",
       "      <td>1580</td>\n",
       "      <td>2020-03-19</td>\n",
       "      <td>2020-04-27</td>\n",
       "      <td>39.0</td>\n",
       "      <td>313000.0</td>\n",
       "      <td>97a45e9569e30920ad2e</td>\n",
       "      <td>2020-04-14</td>\n",
       "      <td>NaT</td>\n",
       "    </tr>\n",
       "    <tr>\n",
       "      <th>34684617</th>\n",
       "      <td>121744019</td>\n",
       "      <td>14</td>\n",
       "      <td>1580</td>\n",
       "      <td>2020-03-19</td>\n",
       "      <td>2020-04-27</td>\n",
       "      <td>39.0</td>\n",
       "      <td>313000.0</td>\n",
       "      <td>97dc5e9563a008f1aebb</td>\n",
       "      <td>2020-04-14</td>\n",
       "      <td>NaT</td>\n",
       "    </tr>\n",
       "    <tr>\n",
       "      <th>34684618</th>\n",
       "      <td>121744019</td>\n",
       "      <td>14</td>\n",
       "      <td>1580</td>\n",
       "      <td>2020-03-19</td>\n",
       "      <td>2020-04-27</td>\n",
       "      <td>39.0</td>\n",
       "      <td>313000.0</td>\n",
       "      <td>97a45e956946091b5075</td>\n",
       "      <td>2020-04-14</td>\n",
       "      <td>NaT</td>\n",
       "    </tr>\n",
       "    <tr>\n",
       "      <th>34684619</th>\n",
       "      <td>121744019</td>\n",
       "      <td>14</td>\n",
       "      <td>1580</td>\n",
       "      <td>2020-03-19</td>\n",
       "      <td>2020-04-27</td>\n",
       "      <td>39.0</td>\n",
       "      <td>313000.0</td>\n",
       "      <td>97a35e956961090d256a</td>\n",
       "      <td>2020-04-14</td>\n",
       "      <td>NaT</td>\n",
       "    </tr>\n",
       "  </tbody>\n",
       "</table>\n",
       "<p>34684620 rows × 10 columns</p>\n",
       "</div>"
      ],
      "text/plain": [
       "                pid  how_long  interest sus_first_day sus_last_day  \\\n",
       "0         118179342        56      2864    2020-02-11   2020-04-22   \n",
       "1         118179342        56      2864    2020-02-11   2020-04-22   \n",
       "2         118179342        56      2864    2020-02-11   2020-04-22   \n",
       "3         118179342        56      2864    2020-02-11   2020-04-22   \n",
       "4         118179342        56      2864    2020-02-11   2020-04-22   \n",
       "...             ...       ...       ...           ...          ...   \n",
       "34684615  121744019        14      1580    2020-03-19   2020-04-27   \n",
       "34684616  121744019        14      1580    2020-03-19   2020-04-27   \n",
       "34684617  121744019        14      1580    2020-03-19   2020-04-27   \n",
       "34684618  121744019        14      1580    2020-03-19   2020-04-27   \n",
       "34684619  121744019        14      1580    2020-03-19   2020-04-27   \n",
       "\n",
       "          sus_num_days  sus_pay_sum                imp_id   imp_date view_date  \n",
       "0                 71.0    9588996.0                  None 2020-03-09       NaT  \n",
       "1                 71.0    9588996.0  97a35e65c8f547965872 2020-03-09       NaT  \n",
       "2                 71.0    9588996.0  994b5e65caa53322af5a 2020-03-09       NaT  \n",
       "3                 71.0    9588996.0  97a35e65c9324797ae68 2020-03-09       NaT  \n",
       "4                 71.0    9588996.0                  None 2020-03-09       NaT  \n",
       "...                ...          ...                   ...        ...       ...  \n",
       "34684615          39.0     313000.0  97a45e956ba709303ed7 2020-04-14       NaT  \n",
       "34684616          39.0     313000.0  97a45e9569e30920ad2e 2020-04-14       NaT  \n",
       "34684617          39.0     313000.0  97dc5e9563a008f1aebb 2020-04-14       NaT  \n",
       "34684618          39.0     313000.0  97a45e956946091b5075 2020-04-14       NaT  \n",
       "34684619          39.0     313000.0  97a35e956961090d256a 2020-04-14       NaT  \n",
       "\n",
       "[34684620 rows x 10 columns]"
      ]
     },
     "execution_count": 83,
     "metadata": {},
     "output_type": "execute_result"
    }
   ],
   "source": [
    "Sus"
   ]
  },
  {
   "cell_type": "code",
   "execution_count": 84,
   "metadata": {},
   "outputs": [
    {
     "data": {
      "text/plain": [
       "34684620"
      ]
     },
     "execution_count": 84,
     "metadata": {},
     "output_type": "execute_result"
    }
   ],
   "source": [
    "import numpy as np   \n",
    "Sus_t = Sus[Sus['view_date'] != np.datetime64('NaT')]\n",
    "len(Sus_t)"
   ]
  },
  {
   "cell_type": "code",
   "execution_count": 86,
   "metadata": {},
   "outputs": [
    {
     "data": {
      "text/plain": [
       "pandas._libs.tslibs.nattype.NaTType"
      ]
     },
     "execution_count": 86,
     "metadata": {},
     "output_type": "execute_result"
    }
   ],
   "source": [
    "type(Sus.loc[0,'view_date'])"
   ]
  },
  {
   "cell_type": "code",
   "execution_count": null,
   "metadata": {},
   "outputs": [],
   "source": [
    "no = []\n",
    "yes = []\n",
    "for idx in range(len(Sus)):\n",
    "    i = Sus.iloc[idx]\n",
    "    if i['imp_date'] >= i['sus_first_day'] and i['imp_date'] <= i['sus_last_day']:\n",
    "        yes.append(idx)\n",
    "    else:\n",
    "        no.append(idx)"
   ]
  },
  {
   "cell_type": "code",
   "execution_count": null,
   "metadata": {},
   "outputs": [],
   "source": []
  }
 ],
 "metadata": {
  "kernelspec": {
   "display_name": "Python 3",
   "language": "python",
   "name": "python3"
  },
  "language_info": {
   "codemirror_mode": {
    "name": "ipython",
    "version": 3
   },
   "file_extension": ".py",
   "mimetype": "text/x-python",
   "name": "python",
   "nbconvert_exporter": "python",
   "pygments_lexer": "ipython3",
   "version": "3.7.5"
  }
 },
 "nbformat": 4,
 "nbformat_minor": 4
}