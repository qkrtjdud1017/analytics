{
 "cells": [
  {
   "cell_type": "code",
   "execution_count": 1,
   "metadata": {},
   "outputs": [],
   "source": [
    "import pandas as pd\n",
    "from sqlalchemy import create_engine\n",
    "from sqlalchemy.pool import NullPool\n",
    "import matplotlib as plt\n",
    "import matplotlib.pylab as plt\n",
    "import seaborn as sns\n",
    "\n"
   ]
  },
  {
   "cell_type": "code",
   "execution_count": 2,
   "metadata": {},
   "outputs": [],
   "source": [
    "q = '''\n",
    "select *\n",
    "from workspace.emily_ctr_df\n",
    "'''\n",
    "df = pd.read_sql(q, con=bun_dw)"
   ]
  },
  {
   "cell_type": "code",
   "execution_count": 3,
   "metadata": {},
   "outputs": [
    {
     "data": {
      "text/plain": [
       "Index(['label', 'day', 'hour', 'imp_content_id', 'imp_content_position',\n",
       "       'imp_page_id', 'imp_ref_page_id', 'imp_ref_term', 'imp_ref_source',\n",
       "       'imp_user_id', 'imp_content_owner', 'user_sex', 'user_age',\n",
       "       'user_following_cnt', 'user_bunpay_count', 'owner_grade',\n",
       "       'owner_item_count', 'owner_interest', 'owner_follower_cnt',\n",
       "       'owner_bunpay_count', 'content_price', 'content_category_id',\n",
       "       'content_emergency_cnt', 'content_comment_cnt', 'content_interest',\n",
       "       'content_pfavcnt'],\n",
       "      dtype='object')"
      ]
     },
     "execution_count": 3,
     "metadata": {},
     "output_type": "execute_result"
    }
   ],
   "source": [
    "df.columns"
   ]
  },
  {
   "cell_type": "code",
   "execution_count": 58,
   "metadata": {},
   "outputs": [],
   "source": [
    "# df.to_csv('df.csv', index=False)"
   ]
  },
  {
   "cell_type": "code",
   "execution_count": 10,
   "metadata": {},
   "outputs": [],
   "source": [
    "features = ['hour', 'imp_content_id', 'imp_content_position',\n",
    "       'imp_page_id', 'imp_ref_page_id', 'imp_ref_term', 'imp_ref_source',\n",
    "       'imp_user_id', 'imp_content_owner', 'user_sex', 'user_age',\n",
    "       'user_following_cnt', 'user_bunpay_count', 'owner_grade',\n",
    "       'owner_item_count', 'owner_interest', 'owner_follower_cnt',\n",
    "       'owner_bunpay_count', 'content_price', 'content_category_id',\n",
    "       'content_emergency_cnt', 'content_comment_cnt', 'content_interest',\n",
    "       'content_pfavcnt']\n",
    "\n",
    "s = '''\n",
    "select distinct hour as feature_value,\n",
    "       'hour' as feature_type\n",
    "from workspace.emily_ctr_df\n",
    "'''\n",
    "\n",
    "for f in features[1:]:\n",
    "    t = '''\n",
    "    union\n",
    "    select distinct {} as feature_value,\n",
    "           {} as feature_type\n",
    "    from workspace.emily_ctr_df'''.format(f, '\\''+f+'\\'')\n",
    "    s += t"
   ]
  },
  {
   "cell_type": "code",
   "execution_count": 11,
   "metadata": {
    "scrolled": true
   },
   "outputs": [
    {
     "name": "stdout",
     "output_type": "stream",
     "text": [
      "\n",
      "select distinct hour as feature_value,\n",
      "       'hour' as feature_type\n",
      "from workspace.emily_ctr_df\n",
      "\n",
      "    union\n",
      "    select distinct imp_content_id as feature_value,\n",
      "           'imp_content_id' as feature_type\n",
      "    from workspace.emily_ctr_df\n",
      "    union\n",
      "    select distinct imp_content_position as feature_value,\n",
      "           'imp_content_position' as feature_type\n",
      "    from workspace.emily_ctr_df\n",
      "    union\n",
      "    select distinct imp_page_id as feature_value,\n",
      "           'imp_page_id' as feature_type\n",
      "    from workspace.emily_ctr_df\n",
      "    union\n",
      "    select distinct imp_ref_page_id as feature_value,\n",
      "           'imp_ref_page_id' as feature_type\n",
      "    from workspace.emily_ctr_df\n",
      "    union\n",
      "    select distinct imp_ref_term as feature_value,\n",
      "           'imp_ref_term' as feature_type\n",
      "    from workspace.emily_ctr_df\n",
      "    union\n",
      "    select distinct imp_ref_source as feature_value,\n",
      "           'imp_ref_source' as feature_type\n",
      "    from workspace.emily_ctr_df\n",
      "    union\n",
      "    select distinct imp_user_id as feature_value,\n",
      "           'imp_user_id' as feature_type\n",
      "    from workspace.emily_ctr_df\n",
      "    union\n",
      "    select distinct imp_content_owner as feature_value,\n",
      "           'imp_content_owner' as feature_type\n",
      "    from workspace.emily_ctr_df\n",
      "    union\n",
      "    select distinct user_sex as feature_value,\n",
      "           'user_sex' as feature_type\n",
      "    from workspace.emily_ctr_df\n",
      "    union\n",
      "    select distinct user_age as feature_value,\n",
      "           'user_age' as feature_type\n",
      "    from workspace.emily_ctr_df\n",
      "    union\n",
      "    select distinct user_following_cnt as feature_value,\n",
      "           'user_following_cnt' as feature_type\n",
      "    from workspace.emily_ctr_df\n",
      "    union\n",
      "    select distinct user_bunpay_count as feature_value,\n",
      "           'user_bunpay_count' as feature_type\n",
      "    from workspace.emily_ctr_df\n",
      "    union\n",
      "    select distinct owner_grade as feature_value,\n",
      "           'owner_grade' as feature_type\n",
      "    from workspace.emily_ctr_df\n",
      "    union\n",
      "    select distinct owner_item_count as feature_value,\n",
      "           'owner_item_count' as feature_type\n",
      "    from workspace.emily_ctr_df\n",
      "    union\n",
      "    select distinct owner_interest as feature_value,\n",
      "           'owner_interest' as feature_type\n",
      "    from workspace.emily_ctr_df\n",
      "    union\n",
      "    select distinct owner_follower_cnt as feature_value,\n",
      "           'owner_follower_cnt' as feature_type\n",
      "    from workspace.emily_ctr_df\n",
      "    union\n",
      "    select distinct owner_bunpay_count as feature_value,\n",
      "           'owner_bunpay_count' as feature_type\n",
      "    from workspace.emily_ctr_df\n",
      "    union\n",
      "    select distinct content_price as feature_value,\n",
      "           'content_price' as feature_type\n",
      "    from workspace.emily_ctr_df\n",
      "    union\n",
      "    select distinct content_category_id as feature_value,\n",
      "           'content_category_id' as feature_type\n",
      "    from workspace.emily_ctr_df\n",
      "    union\n",
      "    select distinct content_emergency_cnt as feature_value,\n",
      "           'content_emergency_cnt' as feature_type\n",
      "    from workspace.emily_ctr_df\n",
      "    union\n",
      "    select distinct content_comment_cnt as feature_value,\n",
      "           'content_comment_cnt' as feature_type\n",
      "    from workspace.emily_ctr_df\n",
      "    union\n",
      "    select distinct content_interest as feature_value,\n",
      "           'content_interest' as feature_type\n",
      "    from workspace.emily_ctr_df\n",
      "    union\n",
      "    select distinct content_pfavcnt as feature_value,\n",
      "           'content_pfavcnt' as feature_type\n",
      "    from workspace.emily_ctr_df\n"
     ]
    }
   ],
   "source": [
    "print(s)\n",
    "\n"
   ]
  },
  {
   "cell_type": "code",
   "execution_count": 4,
   "metadata": {},
   "outputs": [],
   "source": [
    "from sklearn import preprocessing\n",
    "le = preprocessing.LabelEncoder()\n",
    "\n",
    "sparse_features = ['hour', 'imp_content_id', 'imp_content_position', 'imp_page_id', 'imp_ref_page_id', 'imp_ref_term', 'imp_ref_source', 'imp_user_id', 'imp_content_owner', 'user_sex', 'content_category_id']\n",
    "for f in sparse_features:\n",
    "    df[f] = df[f].fillna('')\n",
    "    df[f] = le.fit_transform(df[f])"
   ]
  },
  {
   "cell_type": "code",
   "execution_count": 5,
   "metadata": {},
   "outputs": [
    {
     "data": {
      "text/html": [
       "<div>\n",
       "<style scoped>\n",
       "    .dataframe tbody tr th:only-of-type {\n",
       "        vertical-align: middle;\n",
       "    }\n",
       "\n",
       "    .dataframe tbody tr th {\n",
       "        vertical-align: top;\n",
       "    }\n",
       "\n",
       "    .dataframe thead th {\n",
       "        text-align: right;\n",
       "    }\n",
       "</style>\n",
       "<table border=\"1\" class=\"dataframe\">\n",
       "  <thead>\n",
       "    <tr style=\"text-align: right;\">\n",
       "      <th></th>\n",
       "      <th>label</th>\n",
       "      <th>day</th>\n",
       "      <th>hour</th>\n",
       "      <th>imp_content_id</th>\n",
       "      <th>imp_content_position</th>\n",
       "      <th>imp_page_id</th>\n",
       "      <th>imp_ref_page_id</th>\n",
       "      <th>imp_ref_term</th>\n",
       "      <th>imp_ref_source</th>\n",
       "      <th>imp_user_id</th>\n",
       "      <th>...</th>\n",
       "      <th>owner_item_count</th>\n",
       "      <th>owner_interest</th>\n",
       "      <th>owner_follower_cnt</th>\n",
       "      <th>owner_bunpay_count</th>\n",
       "      <th>content_price</th>\n",
       "      <th>content_category_id</th>\n",
       "      <th>content_emergency_cnt</th>\n",
       "      <th>content_comment_cnt</th>\n",
       "      <th>content_interest</th>\n",
       "      <th>content_pfavcnt</th>\n",
       "    </tr>\n",
       "  </thead>\n",
       "  <tbody>\n",
       "    <tr>\n",
       "      <th>0</th>\n",
       "      <td>0</td>\n",
       "      <td>20200601</td>\n",
       "      <td>1</td>\n",
       "      <td>14344</td>\n",
       "      <td>2808</td>\n",
       "      <td>1</td>\n",
       "      <td>0</td>\n",
       "      <td>13769</td>\n",
       "      <td>1</td>\n",
       "      <td>5761</td>\n",
       "      <td>...</td>\n",
       "      <td>941</td>\n",
       "      <td>106</td>\n",
       "      <td>0</td>\n",
       "      <td>0</td>\n",
       "      <td>23000</td>\n",
       "      <td>57</td>\n",
       "      <td>0</td>\n",
       "      <td>0</td>\n",
       "      <td>268</td>\n",
       "      <td>12</td>\n",
       "    </tr>\n",
       "    <tr>\n",
       "      <th>1</th>\n",
       "      <td>0</td>\n",
       "      <td>20200601</td>\n",
       "      <td>1</td>\n",
       "      <td>8103</td>\n",
       "      <td>3652</td>\n",
       "      <td>1</td>\n",
       "      <td>0</td>\n",
       "      <td>9593</td>\n",
       "      <td>1</td>\n",
       "      <td>9506</td>\n",
       "      <td>...</td>\n",
       "      <td>1541</td>\n",
       "      <td>25831</td>\n",
       "      <td>0</td>\n",
       "      <td>179</td>\n",
       "      <td>31000</td>\n",
       "      <td>31</td>\n",
       "      <td>1</td>\n",
       "      <td>0</td>\n",
       "      <td>800</td>\n",
       "      <td>19</td>\n",
       "    </tr>\n",
       "    <tr>\n",
       "      <th>2</th>\n",
       "      <td>0</td>\n",
       "      <td>20200601</td>\n",
       "      <td>1</td>\n",
       "      <td>7643</td>\n",
       "      <td>1699</td>\n",
       "      <td>1</td>\n",
       "      <td>0</td>\n",
       "      <td>9339</td>\n",
       "      <td>0</td>\n",
       "      <td>11148</td>\n",
       "      <td>...</td>\n",
       "      <td>154</td>\n",
       "      <td>198</td>\n",
       "      <td>0</td>\n",
       "      <td>0</td>\n",
       "      <td>15000</td>\n",
       "      <td>8</td>\n",
       "      <td>1</td>\n",
       "      <td>1</td>\n",
       "      <td>4198</td>\n",
       "      <td>148</td>\n",
       "    </tr>\n",
       "    <tr>\n",
       "      <th>3</th>\n",
       "      <td>0</td>\n",
       "      <td>20200601</td>\n",
       "      <td>1</td>\n",
       "      <td>11990</td>\n",
       "      <td>2809</td>\n",
       "      <td>1</td>\n",
       "      <td>0</td>\n",
       "      <td>6007</td>\n",
       "      <td>1</td>\n",
       "      <td>15590</td>\n",
       "      <td>...</td>\n",
       "      <td>1013</td>\n",
       "      <td>12202</td>\n",
       "      <td>0</td>\n",
       "      <td>22</td>\n",
       "      <td>13500</td>\n",
       "      <td>8</td>\n",
       "      <td>0</td>\n",
       "      <td>0</td>\n",
       "      <td>3929</td>\n",
       "      <td>448</td>\n",
       "    </tr>\n",
       "    <tr>\n",
       "      <th>4</th>\n",
       "      <td>0</td>\n",
       "      <td>20200601</td>\n",
       "      <td>1</td>\n",
       "      <td>10351</td>\n",
       "      <td>1699</td>\n",
       "      <td>1</td>\n",
       "      <td>0</td>\n",
       "      <td>6007</td>\n",
       "      <td>1</td>\n",
       "      <td>14626</td>\n",
       "      <td>...</td>\n",
       "      <td>461</td>\n",
       "      <td>178535</td>\n",
       "      <td>0</td>\n",
       "      <td>4</td>\n",
       "      <td>12000</td>\n",
       "      <td>58</td>\n",
       "      <td>0</td>\n",
       "      <td>0</td>\n",
       "      <td>1636</td>\n",
       "      <td>107</td>\n",
       "    </tr>\n",
       "  </tbody>\n",
       "</table>\n",
       "<p>5 rows × 26 columns</p>\n",
       "</div>"
      ],
      "text/plain": [
       "   label       day  hour  imp_content_id  imp_content_position  imp_page_id  \\\n",
       "0      0  20200601     1           14344                  2808            1   \n",
       "1      0  20200601     1            8103                  3652            1   \n",
       "2      0  20200601     1            7643                  1699            1   \n",
       "3      0  20200601     1           11990                  2809            1   \n",
       "4      0  20200601     1           10351                  1699            1   \n",
       "\n",
       "   imp_ref_page_id  imp_ref_term  imp_ref_source  imp_user_id  ...  \\\n",
       "0                0         13769               1         5761  ...   \n",
       "1                0          9593               1         9506  ...   \n",
       "2                0          9339               0        11148  ...   \n",
       "3                0          6007               1        15590  ...   \n",
       "4                0          6007               1        14626  ...   \n",
       "\n",
       "   owner_item_count  owner_interest  owner_follower_cnt  owner_bunpay_count  \\\n",
       "0               941             106                   0                   0   \n",
       "1              1541           25831                   0                 179   \n",
       "2               154             198                   0                   0   \n",
       "3              1013           12202                   0                  22   \n",
       "4               461          178535                   0                   4   \n",
       "\n",
       "   content_price  content_category_id  content_emergency_cnt  \\\n",
       "0          23000                   57                      0   \n",
       "1          31000                   31                      1   \n",
       "2          15000                    8                      1   \n",
       "3          13500                    8                      0   \n",
       "4          12000                   58                      0   \n",
       "\n",
       "   content_comment_cnt  content_interest  content_pfavcnt  \n",
       "0                    0               268               12  \n",
       "1                    0               800               19  \n",
       "2                    1              4198              148  \n",
       "3                    0              3929              448  \n",
       "4                    0              1636              107  \n",
       "\n",
       "[5 rows x 26 columns]"
      ]
     },
     "execution_count": 5,
     "metadata": {},
     "output_type": "execute_result"
    }
   ],
   "source": [
    "df.head()"
   ]
  },
  {
   "cell_type": "code",
   "execution_count": 65,
   "metadata": {},
   "outputs": [
    {
     "name": "stdout",
     "output_type": "stream",
     "text": [
      "Index(['label', 'day', 'hour', 'imp_content_id', 'imp_content_position',\n",
      "       'imp_page_id', 'imp_ref_page_id', 'imp_ref_term', 'imp_ref_source',\n",
      "       'imp_user_id', 'imp_content_owner', 'user_sex', 'user_age',\n",
      "       'user_following_cnt', 'user_bunpay_count', 'owner_grade',\n",
      "       'owner_item_count', 'owner_interest', 'owner_follower_cnt',\n",
      "       'owner_bunpay_count', 'content_price', 'content_category_id',\n",
      "       'content_emergency_cnt', 'content_comment_cnt', 'content_interest',\n",
      "       'content_pfavcnt'],\n",
      "      dtype='object')\n"
     ]
    }
   ],
   "source": [
    "print(df.columns)"
   ]
  },
  {
   "cell_type": "code",
   "execution_count": 66,
   "metadata": {},
   "outputs": [
    {
     "name": "stdout",
     "output_type": "stream",
     "text": [
      "['hour', 'imp_content_id', 'imp_content_position', 'imp_page_id', 'imp_ref_page_id', 'imp_ref_term', 'imp_ref_source', 'imp_user_id', 'imp_content_owner', 'user_sex', 'content_category_id']\n"
     ]
    }
   ],
   "source": [
    "print(sparse_features)"
   ]
  },
  {
   "cell_type": "code",
   "execution_count": 64,
   "metadata": {},
   "outputs": [
    {
     "name": "stdout",
     "output_type": "stream",
     "text": [
      "['label', 'day', 'user_age', 'user_following_cnt', 'user_bunpay_count', 'owner_grade', 'owner_item_count', 'owner_interest', 'owner_follower_cnt', 'owner_bunpay_count', 'content_price', 'content_emergency_cnt', 'content_comment_cnt', 'content_interest', 'content_pfavcnt']\n"
     ]
    }
   ],
   "source": [
    "dense_features = [i for i in df.columns if i not in sparse_features]\n",
    "print(dense_features)"
   ]
  },
  {
   "cell_type": "code",
   "execution_count": 15,
   "metadata": {},
   "outputs": [],
   "source": [
    "import optuna\n",
    "from sklearn.datasets import load_svmlight_file\n",
    "from sklearn.linear_model import LogisticRegression\n",
    "from sklearn.linear_model import LinearRegression\n",
    "\n",
    "from sklearn.ensemble import RandomForestClassifier\n",
    "from xgboost.sklearn import XGBClassifier\n",
    "from sklearn import model_selection\n",
    "from sklearn.metrics import f1_score, recall_score, precision_score, accuracy_score, roc_auc_score"
   ]
  },
  {
   "cell_type": "code",
   "execution_count": 12,
   "metadata": {},
   "outputs": [],
   "source": [
    "from sklearn.model_selection import train_test_split\n",
    "\n",
    "\n",
    "x = df.loc[:, df.columns != 'label']\n",
    "y = df.loc[:, df.columns == 'label']\n",
    "\n",
    "x_train, x_test, y_train, y_test = train_test_split(x, y, test_size=0.2, random_state=0)"
   ]
  },
  {
   "cell_type": "code",
   "execution_count": 50,
   "metadata": {},
   "outputs": [
    {
     "data": {
      "text/plain": [
       "Index(['label', 'day', 'hour', 'imp_content_id', 'imp_content_position',\n",
       "       'imp_page_id', 'imp_ref_page_id', 'imp_ref_term', 'imp_ref_source',\n",
       "       'imp_user_id', 'imp_content_owner', 'user_sex', 'user_age',\n",
       "       'user_following_cnt', 'user_bunpay_count', 'owner_grade',\n",
       "       'owner_item_count', 'owner_interest', 'owner_follower_cnt',\n",
       "       'owner_bunpay_count', 'content_price', 'content_category_id',\n",
       "       'content_emergency_cnt', 'content_comment_cnt', 'content_interest',\n",
       "       'content_pfavcnt'],\n",
       "      dtype='object')"
      ]
     },
     "execution_count": 50,
     "metadata": {},
     "output_type": "execute_result"
    }
   ],
   "source": [
    "df.columns"
   ]
  },
  {
   "cell_type": "code",
   "execution_count": 13,
   "metadata": {},
   "outputs": [
    {
     "name": "stdout",
     "output_type": "stream",
     "text": [
      "size of x train: 453611\n",
      "label 1 percentage of train set:  2.92 %\n",
      "label 1 percentage of test set:  2.96 %\n"
     ]
    }
   ],
   "source": [
    "print('size of x train:', len(x_train))\n",
    "print('label 1 percentage of train set: ', round(len(y_train[y_train['label'] == 1])/len(y_train)*100, 2), '%')\n",
    "print('label 1 percentage of test set: ', round(len(y_test[y_test['label'] == 1])/len(y_test)*100, 2), '%')"
   ]
  },
  {
   "cell_type": "code",
   "execution_count": 16,
   "metadata": {},
   "outputs": [
    {
     "name": "stderr",
     "output_type": "stream",
     "text": [
      "/Users/emilyPark/.pyenv/versions/bun-analytics/lib/python3.7/site-packages/sklearn/utils/validation.py:760: DataConversionWarning:\n",
      "\n",
      "A column-vector y was passed when a 1d array was expected. Please change the shape of y to (n_samples, ), for example using ravel().\n",
      "\n"
     ]
    }
   ],
   "source": [
    "# class_weight: dict or ‘balanced’, default=None\n",
    "lr = LogisticRegression(class_weight=None, n_jobs=-1, random_state=42)\n",
    "lr.fit(x_train, y_train)\n",
    "pred = lr.predict(x_test)"
   ]
  },
  {
   "cell_type": "code",
   "execution_count": 19,
   "metadata": {},
   "outputs": [
    {
     "name": "stdout",
     "output_type": "stream",
     "text": [
      "log loss: 1.0212121130140792\n"
     ]
    }
   ],
   "source": [
    "from sklearn.metrics import log_loss\n",
    "\n",
    "print('log loss:', log_loss(y_test.astype(int), pred.astype(int)))"
   ]
  },
  {
   "cell_type": "code",
   "execution_count": 84,
   "metadata": {},
   "outputs": [
    {
     "name": "stdout",
     "output_type": "stream",
     "text": [
      "Feature [ day ], Score: -1.6876684677430814e-07\n",
      "Feature [ hour ], Score: 6.5404918596586305e-09\n",
      "Feature [ imp_content_id ], Score: 8.265324859108812e-06\n",
      "Feature [ imp_content_position ], Score: -5.238034040927616e-05\n",
      "Feature [ imp_page_id ], Score: -2.4268562237544064e-08\n",
      "Feature [ imp_ref_page_id ], Score: 1.6363372998860752e-09\n",
      "Feature [ imp_ref_term ], Score: -2.3580231438973585e-05\n",
      "Feature [ imp_ref_source ], Score: -1.1374358929457116e-08\n",
      "Feature [ imp_user_id ], Score: 2.509059255667858e-07\n",
      "Feature [ imp_content_owner ], Score: -2.131773175516209e-06\n",
      "Feature [ user_sex ], Score: 1.099010090224094e-08\n",
      "Feature [ user_age ], Score: -3.481353089072639e-08\n",
      "Feature [ user_following_cnt ], Score: -1.1177256064544116e-06\n",
      "Feature [ user_bunpay_count ], Score: 2.0310165837546576e-08\n",
      "Feature [ owner_grade ], Score: 2.458105943661038e-06\n",
      "Feature [ owner_item_count ], Score: -1.923078677977168e-05\n",
      "Feature [ owner_interest ], Score: 1.075403951986582e-07\n",
      "Feature [ owner_follower_cnt ], Score: 0.0\n",
      "Feature [ owner_bunpay_count ], Score: -5.000703630128666e-07\n",
      "Feature [ content_price ], Score: 4.539871128575355e-08\n",
      "Feature [ content_category_id ], Score: 8.924016671045227e-07\n",
      "Feature [ content_emergency_cnt ], Score: 1.4329565572807457e-08\n",
      "Feature [ content_comment_cnt ], Score: -1.7134625016224794e-06\n",
      "Feature [ content_interest ], Score: -1.2359236054061032e-06\n",
      "Feature [ content_pfavcnt ], Score: 2.3850220060969535e-06\n"
     ]
    }
   ],
   "source": [
    "coef = lr.coef_[0].tolist()\n",
    "coef_dict = {}\n",
    "for i in range(len(coef)):    \n",
    "    print('Feature [', x_train.columns[i], f'], Score: {coef[i]}')\n",
    "    coef_dict[x_train.columns[i]] = [coef[i]]"
   ]
  },
  {
   "cell_type": "code",
   "execution_count": 87,
   "metadata": {},
   "outputs": [
    {
     "data": {
      "text/html": [
       "<div>\n",
       "<style scoped>\n",
       "    .dataframe tbody tr th:only-of-type {\n",
       "        vertical-align: middle;\n",
       "    }\n",
       "\n",
       "    .dataframe tbody tr th {\n",
       "        vertical-align: top;\n",
       "    }\n",
       "\n",
       "    .dataframe thead th {\n",
       "        text-align: right;\n",
       "    }\n",
       "</style>\n",
       "<table border=\"1\" class=\"dataframe\">\n",
       "  <thead>\n",
       "    <tr style=\"text-align: right;\">\n",
       "      <th></th>\n",
       "      <th>coefficient</th>\n",
       "    </tr>\n",
       "  </thead>\n",
       "  <tbody>\n",
       "    <tr>\n",
       "      <th>imp_content_id</th>\n",
       "      <td>8.265325e-06</td>\n",
       "    </tr>\n",
       "    <tr>\n",
       "      <th>owner_grade</th>\n",
       "      <td>2.458106e-06</td>\n",
       "    </tr>\n",
       "    <tr>\n",
       "      <th>content_pfavcnt</th>\n",
       "      <td>2.385022e-06</td>\n",
       "    </tr>\n",
       "    <tr>\n",
       "      <th>content_category_id</th>\n",
       "      <td>8.924017e-07</td>\n",
       "    </tr>\n",
       "    <tr>\n",
       "      <th>imp_user_id</th>\n",
       "      <td>2.509059e-07</td>\n",
       "    </tr>\n",
       "    <tr>\n",
       "      <th>owner_interest</th>\n",
       "      <td>1.075404e-07</td>\n",
       "    </tr>\n",
       "    <tr>\n",
       "      <th>content_price</th>\n",
       "      <td>4.539871e-08</td>\n",
       "    </tr>\n",
       "    <tr>\n",
       "      <th>user_bunpay_count</th>\n",
       "      <td>2.031017e-08</td>\n",
       "    </tr>\n",
       "    <tr>\n",
       "      <th>content_emergency_cnt</th>\n",
       "      <td>1.432957e-08</td>\n",
       "    </tr>\n",
       "    <tr>\n",
       "      <th>user_sex</th>\n",
       "      <td>1.099010e-08</td>\n",
       "    </tr>\n",
       "    <tr>\n",
       "      <th>hour</th>\n",
       "      <td>6.540492e-09</td>\n",
       "    </tr>\n",
       "    <tr>\n",
       "      <th>imp_ref_page_id</th>\n",
       "      <td>1.636337e-09</td>\n",
       "    </tr>\n",
       "    <tr>\n",
       "      <th>owner_follower_cnt</th>\n",
       "      <td>0.000000e+00</td>\n",
       "    </tr>\n",
       "    <tr>\n",
       "      <th>imp_ref_source</th>\n",
       "      <td>-1.137436e-08</td>\n",
       "    </tr>\n",
       "    <tr>\n",
       "      <th>imp_page_id</th>\n",
       "      <td>-2.426856e-08</td>\n",
       "    </tr>\n",
       "    <tr>\n",
       "      <th>user_age</th>\n",
       "      <td>-3.481353e-08</td>\n",
       "    </tr>\n",
       "    <tr>\n",
       "      <th>day</th>\n",
       "      <td>-1.687668e-07</td>\n",
       "    </tr>\n",
       "    <tr>\n",
       "      <th>owner_bunpay_count</th>\n",
       "      <td>-5.000704e-07</td>\n",
       "    </tr>\n",
       "    <tr>\n",
       "      <th>user_following_cnt</th>\n",
       "      <td>-1.117726e-06</td>\n",
       "    </tr>\n",
       "    <tr>\n",
       "      <th>content_interest</th>\n",
       "      <td>-1.235924e-06</td>\n",
       "    </tr>\n",
       "    <tr>\n",
       "      <th>content_comment_cnt</th>\n",
       "      <td>-1.713463e-06</td>\n",
       "    </tr>\n",
       "    <tr>\n",
       "      <th>imp_content_owner</th>\n",
       "      <td>-2.131773e-06</td>\n",
       "    </tr>\n",
       "    <tr>\n",
       "      <th>owner_item_count</th>\n",
       "      <td>-1.923079e-05</td>\n",
       "    </tr>\n",
       "    <tr>\n",
       "      <th>imp_ref_term</th>\n",
       "      <td>-2.358023e-05</td>\n",
       "    </tr>\n",
       "    <tr>\n",
       "      <th>imp_content_position</th>\n",
       "      <td>-5.238034e-05</td>\n",
       "    </tr>\n",
       "  </tbody>\n",
       "</table>\n",
       "</div>"
      ],
      "text/plain": [
       "                        coefficient\n",
       "imp_content_id         8.265325e-06\n",
       "owner_grade            2.458106e-06\n",
       "content_pfavcnt        2.385022e-06\n",
       "content_category_id    8.924017e-07\n",
       "imp_user_id            2.509059e-07\n",
       "owner_interest         1.075404e-07\n",
       "content_price          4.539871e-08\n",
       "user_bunpay_count      2.031017e-08\n",
       "content_emergency_cnt  1.432957e-08\n",
       "user_sex               1.099010e-08\n",
       "hour                   6.540492e-09\n",
       "imp_ref_page_id        1.636337e-09\n",
       "owner_follower_cnt     0.000000e+00\n",
       "imp_ref_source        -1.137436e-08\n",
       "imp_page_id           -2.426856e-08\n",
       "user_age              -3.481353e-08\n",
       "day                   -1.687668e-07\n",
       "owner_bunpay_count    -5.000704e-07\n",
       "user_following_cnt    -1.117726e-06\n",
       "content_interest      -1.235924e-06\n",
       "content_comment_cnt   -1.713463e-06\n",
       "imp_content_owner     -2.131773e-06\n",
       "owner_item_count      -1.923079e-05\n",
       "imp_ref_term          -2.358023e-05\n",
       "imp_content_position  -5.238034e-05"
      ]
     },
     "execution_count": 87,
     "metadata": {},
     "output_type": "execute_result"
    }
   ],
   "source": [
    "coeff = pd.DataFrame.from_dict(coef_dict).T\n",
    "coeff.columns = ['coefficient']\n",
    "coeff.sort_values('coefficient', ascending=False)"
   ]
  },
  {
   "cell_type": "code",
   "execution_count": 53,
   "metadata": {},
   "outputs": [],
   "source": [
    "wo_ids = df.drop(['imp_content_id', 'imp_content_owner', 'imp_user_id'], axis=1)\n",
    "X = wo_ids.loc[:, wo_ids.columns != 'label']\n",
    "Y = wo_ids.loc[:, wo_ids.columns == 'label']\n",
    "\n",
    "X_train, X_test, Y_train, Y_test = train_test_split(X, Y, test_size = 0.2, random_state=0)"
   ]
  },
  {
   "cell_type": "code",
   "execution_count": 88,
   "metadata": {},
   "outputs": [
    {
     "name": "stderr",
     "output_type": "stream",
     "text": [
      "/Users/emilyPark/.pyenv/versions/bun-analytics/lib/python3.7/site-packages/sklearn/utils/validation.py:760: DataConversionWarning:\n",
      "\n",
      "A column-vector y was passed when a 1d array was expected. Please change the shape of y to (n_samples, ), for example using ravel().\n",
      "\n"
     ]
    },
    {
     "name": "stdout",
     "output_type": "stream",
     "text": [
      "log loss: 1.0162020364545297\n"
     ]
    }
   ],
   "source": [
    "lr = LogisticRegression(class_weight=None, n_jobs=-1, random_state=42)\n",
    "lr.fit(X_train, Y_train)\n",
    "pred = lr.predict(X_test)\n",
    "print('log loss:', log_loss(Y_test.astype(int), pred.astype(int)))"
   ]
  },
  {
   "cell_type": "code",
   "execution_count": 90,
   "metadata": {},
   "outputs": [
    {
     "name": "stdout",
     "output_type": "stream",
     "text": [
      "Feature [ day ], Score: -1.6309552622088938e-07\n",
      "Feature [ hour ], Score: 1.0814622259251604e-08\n",
      "Feature [ imp_content_position ], Score: -8.0679543123818e-05\n",
      "Feature [ imp_page_id ], Score: -4.324107535299572e-08\n",
      "Feature [ imp_ref_page_id ], Score: 2.5936912822602622e-09\n",
      "Feature [ imp_ref_term ], Score: -1.1456918023718572e-05\n",
      "Feature [ imp_ref_source ], Score: -2.000159086345854e-08\n",
      "Feature [ user_sex ], Score: 1.8079908030260514e-08\n",
      "Feature [ user_age ], Score: -6.997027201670438e-08\n",
      "Feature [ user_following_cnt ], Score: -1.9080407427651744e-06\n",
      "Feature [ user_bunpay_count ], Score: 3.10705792896247e-08\n",
      "Feature [ owner_grade ], Score: -2.0889662916709073e-06\n",
      "Feature [ owner_item_count ], Score: -2.7468945261887907e-05\n",
      "Feature [ owner_interest ], Score: 2.590866811076594e-07\n",
      "Feature [ owner_follower_cnt ], Score: 0.0\n",
      "Feature [ owner_bunpay_count ], Score: -1.1463652404917933e-06\n",
      "Feature [ content_price ], Score: 4.642307578696436e-08\n",
      "Feature [ content_category_id ], Score: 1.481612031564427e-06\n",
      "Feature [ content_emergency_cnt ], Score: 2.35323512335868e-08\n",
      "Feature [ content_comment_cnt ], Score: -3.285529821060463e-06\n",
      "Feature [ content_interest ], Score: -1.1591553982673893e-06\n",
      "Feature [ content_pfavcnt ], Score: 3.8756514604350816e-06\n"
     ]
    },
    {
     "data": {
      "text/html": [
       "<div>\n",
       "<style scoped>\n",
       "    .dataframe tbody tr th:only-of-type {\n",
       "        vertical-align: middle;\n",
       "    }\n",
       "\n",
       "    .dataframe tbody tr th {\n",
       "        vertical-align: top;\n",
       "    }\n",
       "\n",
       "    .dataframe thead th {\n",
       "        text-align: right;\n",
       "    }\n",
       "</style>\n",
       "<table border=\"1\" class=\"dataframe\">\n",
       "  <thead>\n",
       "    <tr style=\"text-align: right;\">\n",
       "      <th></th>\n",
       "      <th>coefficient</th>\n",
       "    </tr>\n",
       "  </thead>\n",
       "  <tbody>\n",
       "    <tr>\n",
       "      <th>content_pfavcnt</th>\n",
       "      <td>3.875651e-06</td>\n",
       "    </tr>\n",
       "    <tr>\n",
       "      <th>content_category_id</th>\n",
       "      <td>1.481612e-06</td>\n",
       "    </tr>\n",
       "    <tr>\n",
       "      <th>owner_interest</th>\n",
       "      <td>2.590867e-07</td>\n",
       "    </tr>\n",
       "    <tr>\n",
       "      <th>content_price</th>\n",
       "      <td>4.642308e-08</td>\n",
       "    </tr>\n",
       "    <tr>\n",
       "      <th>user_bunpay_count</th>\n",
       "      <td>3.107058e-08</td>\n",
       "    </tr>\n",
       "    <tr>\n",
       "      <th>content_emergency_cnt</th>\n",
       "      <td>2.353235e-08</td>\n",
       "    </tr>\n",
       "    <tr>\n",
       "      <th>user_sex</th>\n",
       "      <td>1.807991e-08</td>\n",
       "    </tr>\n",
       "    <tr>\n",
       "      <th>hour</th>\n",
       "      <td>1.081462e-08</td>\n",
       "    </tr>\n",
       "    <tr>\n",
       "      <th>imp_ref_page_id</th>\n",
       "      <td>2.593691e-09</td>\n",
       "    </tr>\n",
       "    <tr>\n",
       "      <th>owner_follower_cnt</th>\n",
       "      <td>0.000000e+00</td>\n",
       "    </tr>\n",
       "    <tr>\n",
       "      <th>imp_ref_source</th>\n",
       "      <td>-2.000159e-08</td>\n",
       "    </tr>\n",
       "    <tr>\n",
       "      <th>imp_page_id</th>\n",
       "      <td>-4.324108e-08</td>\n",
       "    </tr>\n",
       "    <tr>\n",
       "      <th>user_age</th>\n",
       "      <td>-6.997027e-08</td>\n",
       "    </tr>\n",
       "    <tr>\n",
       "      <th>day</th>\n",
       "      <td>-1.630955e-07</td>\n",
       "    </tr>\n",
       "    <tr>\n",
       "      <th>owner_bunpay_count</th>\n",
       "      <td>-1.146365e-06</td>\n",
       "    </tr>\n",
       "    <tr>\n",
       "      <th>content_interest</th>\n",
       "      <td>-1.159155e-06</td>\n",
       "    </tr>\n",
       "    <tr>\n",
       "      <th>user_following_cnt</th>\n",
       "      <td>-1.908041e-06</td>\n",
       "    </tr>\n",
       "    <tr>\n",
       "      <th>owner_grade</th>\n",
       "      <td>-2.088966e-06</td>\n",
       "    </tr>\n",
       "    <tr>\n",
       "      <th>content_comment_cnt</th>\n",
       "      <td>-3.285530e-06</td>\n",
       "    </tr>\n",
       "    <tr>\n",
       "      <th>imp_ref_term</th>\n",
       "      <td>-1.145692e-05</td>\n",
       "    </tr>\n",
       "    <tr>\n",
       "      <th>owner_item_count</th>\n",
       "      <td>-2.746895e-05</td>\n",
       "    </tr>\n",
       "    <tr>\n",
       "      <th>imp_content_position</th>\n",
       "      <td>-8.067954e-05</td>\n",
       "    </tr>\n",
       "  </tbody>\n",
       "</table>\n",
       "</div>"
      ],
      "text/plain": [
       "                        coefficient\n",
       "content_pfavcnt        3.875651e-06\n",
       "content_category_id    1.481612e-06\n",
       "owner_interest         2.590867e-07\n",
       "content_price          4.642308e-08\n",
       "user_bunpay_count      3.107058e-08\n",
       "content_emergency_cnt  2.353235e-08\n",
       "user_sex               1.807991e-08\n",
       "hour                   1.081462e-08\n",
       "imp_ref_page_id        2.593691e-09\n",
       "owner_follower_cnt     0.000000e+00\n",
       "imp_ref_source        -2.000159e-08\n",
       "imp_page_id           -4.324108e-08\n",
       "user_age              -6.997027e-08\n",
       "day                   -1.630955e-07\n",
       "owner_bunpay_count    -1.146365e-06\n",
       "content_interest      -1.159155e-06\n",
       "user_following_cnt    -1.908041e-06\n",
       "owner_grade           -2.088966e-06\n",
       "content_comment_cnt   -3.285530e-06\n",
       "imp_ref_term          -1.145692e-05\n",
       "owner_item_count      -2.746895e-05\n",
       "imp_content_position  -8.067954e-05"
      ]
     },
     "execution_count": 90,
     "metadata": {},
     "output_type": "execute_result"
    }
   ],
   "source": [
    "coef = lr.coef_[0].tolist()\n",
    "coef_dict = {}\n",
    "for i in range(len(coef)):    \n",
    "    coef_dict[X_train.columns[i]] = [coef[i]]\n",
    "coeff = pd.DataFrame.from_dict(coef_dict).T\n",
    "coeff.columns = ['coefficient']\n",
    "coeff.sort_values('coefficient', ascending=False)"
   ]
  },
  {
   "cell_type": "code",
   "execution_count": 97,
   "metadata": {},
   "outputs": [
    {
     "name": "stderr",
     "output_type": "stream",
     "text": [
      "/Users/emilyPark/.pyenv/versions/bun-analytics/lib/python3.7/site-packages/sklearn/utils/validation.py:760: DataConversionWarning:\n",
      "\n",
      "A column-vector y was passed when a 1d array was expected. Please change the shape of y to (n_samples, ), for example using ravel().\n",
      "\n"
     ]
    },
    {
     "name": "stdout",
     "output_type": "stream",
     "text": [
      "log loss: 1.0291014252475303\n"
     ]
    }
   ],
   "source": [
    "df_small = df[coeff.sort_values('coefficient', ascending=False).index[:10].tolist() + ['label']]\n",
    "X = df_small.loc[:, df_small.columns != 'label']\n",
    "Y = df_small.loc[:, df_small.columns == 'label']\n",
    "trainX, testX, trainY, testY = train_test_split(X, Y, test_size = 0.2, random_state = 0) \n",
    "\n",
    "lr_small = LogisticRegression(n_jobs=-1, random_state=42)\n",
    "lr_small.fit(trainX, trainY)\n",
    "p = lr_small.predict(testX)\n",
    "print('log loss:', log_loss(testY, p))"
   ]
  },
  {
   "cell_type": "code",
   "execution_count": 20,
   "metadata": {},
   "outputs": [
    {
     "name": "stderr",
     "output_type": "stream",
     "text": [
      "/Users/emilyPark/.pyenv/versions/bun-analytics/lib/python3.7/site-packages/sklearn/utils/validation.py:760: DataConversionWarning:\n",
      "\n",
      "A column-vector y was passed when a 1d array was expected. Please change the shape of y to (n_samples, ), for example using ravel().\n",
      "\n"
     ]
    },
    {
     "name": "stdout",
     "output_type": "stream",
     "text": [
      "log loss: 16.61418248377593\n"
     ]
    }
   ],
   "source": [
    "lr = LogisticRegression(class_weight='balanced', n_jobs=-1, random_state=42)\n",
    "lr.fit(x_train, y_train)\n",
    "pred = lr.predict(x_test)\n",
    "print('log loss:', log_loss(y_test.astype(int), pred.astype(int)))"
   ]
  },
  {
   "cell_type": "code",
   "execution_count": 22,
   "metadata": {},
   "outputs": [
    {
     "name": "stdout",
     "output_type": "stream",
     "text": [
      "0.4842376303977849\n"
     ]
    }
   ],
   "source": [
    "print(len([i for i in pred if i == 1])/len(y_test))"
   ]
  },
  {
   "cell_type": "code",
   "execution_count": 25,
   "metadata": {},
   "outputs": [
    {
     "name": "stdout",
     "output_type": "stream",
     "text": [
      "2\n"
     ]
    },
    {
     "name": "stderr",
     "output_type": "stream",
     "text": [
      "/Users/emilyPark/.pyenv/versions/bun-analytics/lib/python3.7/site-packages/sklearn/utils/validation.py:760: DataConversionWarning:\n",
      "\n",
      "A column-vector y was passed when a 1d array was expected. Please change the shape of y to (n_samples, ), for example using ravel().\n",
      "\n"
     ]
    },
    {
     "name": "stdout",
     "output_type": "stream",
     "text": [
      "log loss: 1.0212121130140792\n"
     ]
    }
   ],
   "source": [
    "import random\n",
    "import math\n",
    "lr_class_weight = random.randint(2, 10)\n",
    "print(lr_class_weight)\n",
    "lr = LogisticRegression(class_weight={0: 1, 1: lr_class_weight}, n_jobs=-1, random_state=42)\n",
    "lr.fit(x_train, y_train)\n",
    "pred = lr.predict(x_test)\n",
    "print('log loss:', log_loss(y_test.astype(int), pred.astype(int)))"
   ]
  },
  {
   "cell_type": "code",
   "execution_count": 26,
   "metadata": {},
   "outputs": [
    {
     "data": {
      "text/plain": [
       "[]"
      ]
     },
     "execution_count": 26,
     "metadata": {},
     "output_type": "execute_result"
    }
   ],
   "source": [
    "[i for i in pred if i == 1]"
   ]
  },
  {
   "cell_type": "code",
   "execution_count": 27,
   "metadata": {},
   "outputs": [
    {
     "name": "stdout",
     "output_type": "stream",
     "text": [
      "rf_class_weight: 4\n",
      "rf_n_estimators: 3\n",
      "rf_max_depth: 1\n"
     ]
    },
    {
     "name": "stderr",
     "output_type": "stream",
     "text": [
      "/Users/emilyPark/.pyenv/versions/bun-analytics/lib/python3.7/site-packages/ipykernel_launcher.py:13: DataConversionWarning:\n",
      "\n",
      "A column-vector y was passed when a 1d array was expected. Please change the shape of y to (n_samples,), for example using ravel().\n",
      "\n"
     ]
    },
    {
     "name": "stdout",
     "output_type": "stream",
     "text": [
      "log loss: 1.0212121130140792\n"
     ]
    }
   ],
   "source": [
    "rf_class_weight = int(math.log(random.randint(20, 100)))\n",
    "rf_n_estimators = int(math.log(random.randint(20, 70)))\n",
    "rf_max_depth = int(math.log(random.randint(3, 7)))\n",
    "\n",
    "print('rf_class_weight:', rf_class_weight)\n",
    "print('rf_n_estimators:', rf_n_estimators)\n",
    "print('rf_max_depth:', rf_max_depth)\n",
    "rf = RandomForestClassifier(n_estimators=rf_n_estimators,\n",
    "                                        max_depth=rf_max_depth,\n",
    "                                        class_weight={0: 1, 1: rf_class_weight},\n",
    "                                        n_jobs=-1,\n",
    "                                        random_state=42)\n",
    "rf.fit(x_train, y_train)\n",
    "pred = rf.predict(x_test)\n",
    "print('log loss:', log_loss(y_test.astype(int), pred.astype(int)))"
   ]
  },
  {
   "cell_type": "code",
   "execution_count": 29,
   "metadata": {},
   "outputs": [
    {
     "name": "stdout",
     "output_type": "stream",
     "text": [
      "rf_class_weight: 47\n",
      "rf_n_estimators: 33\n",
      "rf_max_depth: 4\n"
     ]
    },
    {
     "name": "stderr",
     "output_type": "stream",
     "text": [
      "/Users/emilyPark/.pyenv/versions/bun-analytics/lib/python3.7/site-packages/ipykernel_launcher.py:9: DataConversionWarning:\n",
      "\n",
      "A column-vector y was passed when a 1d array was expected. Please change the shape of y to (n_samples,), for example using ravel().\n",
      "\n"
     ]
    },
    {
     "name": "stdout",
     "output_type": "stream",
     "text": [
      "log loss: 1.044666871742417\n"
     ]
    }
   ],
   "source": [
    "rf_class_weight = random.randint(20, 100)\n",
    "rf_n_estimators = random.randint(20, 70)\n",
    "rf_max_depth = random.randint(3, 7)\n",
    "print('rf_class_weight:', rf_class_weight)\n",
    "print('rf_n_estimators:', rf_n_estimators)\n",
    "print('rf_max_depth:', rf_max_depth)\n",
    "rf = RandomForestClassifier(n_jobs=-1, random_state=42)\n",
    "rf.fit(x_train, y_train)\n",
    "pred = rf.predict(x_test)\n",
    "print('log loss:', log_loss(y_test.astype(int), pred.astype(int)))"
   ]
  },
  {
   "cell_type": "code",
   "execution_count": 31,
   "metadata": {},
   "outputs": [
    {
     "data": {
      "text/plain": [
       "0.00713385007451302"
      ]
     },
     "execution_count": 31,
     "metadata": {},
     "output_type": "execute_result"
    }
   ],
   "source": [
    "len([i for i in pred if i == 1])/len(pred)"
   ]
  },
  {
   "cell_type": "code",
   "execution_count": 32,
   "metadata": {},
   "outputs": [
    {
     "name": "stdout",
     "output_type": "stream",
     "text": [
      "rf_class_weight: 98\n",
      "rf_n_estimators: 49\n",
      "rf_max_depth: 7\n"
     ]
    },
    {
     "name": "stderr",
     "output_type": "stream",
     "text": [
      "/Users/emilyPark/.pyenv/versions/bun-analytics/lib/python3.7/site-packages/ipykernel_launcher.py:13: DataConversionWarning:\n",
      "\n",
      "A column-vector y was passed when a 1d array was expected. Please change the shape of y to (n_samples,), for example using ravel().\n",
      "\n"
     ]
    },
    {
     "name": "stdout",
     "output_type": "stream",
     "text": [
      "log loss: 32.40116359202549\n"
     ]
    }
   ],
   "source": [
    "rf_class_weight = random.randint(20, 100)\n",
    "rf_n_estimators = random.randint(20, 70)\n",
    "rf_max_depth = random.randint(3, 7)\n",
    "\n",
    "print('rf_class_weight:', rf_class_weight)\n",
    "print('rf_n_estimators:', rf_n_estimators)\n",
    "print('rf_max_depth:', rf_max_depth)\n",
    "rf = RandomForestClassifier(n_estimators=rf_n_estimators,\n",
    "                                        max_depth=rf_max_depth,\n",
    "                                        class_weight={0: 1, 1: rf_class_weight},\n",
    "                                        n_jobs=-1,\n",
    "                                        random_state=42)\n",
    "rf.fit(x_train, y_train)\n",
    "pred = rf.predict(x_test)\n",
    "print('log loss:', log_loss(y_test.astype(int), pred.astype(int)))"
   ]
  },
  {
   "cell_type": "code",
   "execution_count": 33,
   "metadata": {},
   "outputs": [
    {
     "data": {
      "text/plain": [
       "0.9672495436628661"
      ]
     },
     "execution_count": 33,
     "metadata": {},
     "output_type": "execute_result"
    }
   ],
   "source": [
    "len([i for i in pred if i == 1])/len(pred)"
   ]
  },
  {
   "cell_type": "code",
   "execution_count": 34,
   "metadata": {
    "scrolled": true
   },
   "outputs": [
    {
     "name": "stderr",
     "output_type": "stream",
     "text": [
      "/Users/emilyPark/.pyenv/versions/bun-analytics/lib/python3.7/site-packages/sklearn/preprocessing/_label.py:235: DataConversionWarning:\n",
      "\n",
      "A column-vector y was passed when a 1d array was expected. Please change the shape of y to (n_samples, ), for example using ravel().\n",
      "\n",
      "/Users/emilyPark/.pyenv/versions/bun-analytics/lib/python3.7/site-packages/sklearn/preprocessing/_label.py:268: DataConversionWarning:\n",
      "\n",
      "A column-vector y was passed when a 1d array was expected. Please change the shape of y to (n_samples, ), for example using ravel().\n",
      "\n"
     ]
    },
    {
     "name": "stdout",
     "output_type": "stream",
     "text": [
      "log loss: 1.0212121130140792\n"
     ]
    }
   ],
   "source": [
    "xgb_class_weight = int(math.log(random.randint(20, 100)))\n",
    "xgb_n_estimators = int(math.log(random.randint(20, 70)))\n",
    "xgb_max_depth = int(math.log(random.randint(3, 7)))\n",
    "xgb = XGBClassifier(n_estimators=xgb_n_estimators,\n",
    "                               max_depth=xgb_max_depth,\n",
    "                               objective='binary:logistic',\n",
    "                               scale_pos_weight=xgb_class_weight,\n",
    "                               n_jobs=-1,\n",
    "                               random_state=42)\n",
    "xgb.fit(x_train.iloc[:, 1:], y_train)\n",
    "pred = xgb.predict(x_test.iloc[:, 1:])\n",
    "print('log loss:', log_loss(y_test.astype(int), pred.astype(int)))"
   ]
  },
  {
   "cell_type": "code",
   "execution_count": 35,
   "metadata": {},
   "outputs": [
    {
     "data": {
      "text/plain": [
       "0.0"
      ]
     },
     "execution_count": 35,
     "metadata": {},
     "output_type": "execute_result"
    }
   ],
   "source": [
    "len([i for i in pred if i == 1])/len(pred)"
   ]
  },
  {
   "cell_type": "code",
   "execution_count": 36,
   "metadata": {},
   "outputs": [
    {
     "data": {
      "text/plain": [
       "[]"
      ]
     },
     "execution_count": 36,
     "metadata": {},
     "output_type": "execute_result"
    }
   ],
   "source": [
    "[i for i in pred if i == 1]"
   ]
  },
  {
   "cell_type": "code",
   "execution_count": null,
   "metadata": {},
   "outputs": [],
   "source": []
  }
 ],
 "metadata": {
  "kernelspec": {
   "display_name": "Python 3",
   "language": "python",
   "name": "python3"
  },
  "language_info": {
   "codemirror_mode": {
    "name": "ipython",
    "version": 3
   },
   "file_extension": ".py",
   "mimetype": "text/x-python",
   "name": "python",
   "nbconvert_exporter": "python",
   "pygments_lexer": "ipython3",
   "version": "3.7.5"
  }
 },
 "nbformat": 4,
 "nbformat_minor": 4
}