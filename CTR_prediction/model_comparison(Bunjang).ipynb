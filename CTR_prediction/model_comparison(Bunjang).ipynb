{
 "cells": [
  {
   "cell_type": "code",
   "execution_count": 1,
   "metadata": {},
   "outputs": [],
   "source": [
    "import torch\n",
    "import pandas as pd\n",
    "\n",
    "from inputs.preprocessing import PreProcessing\n",
    "from models.linear import Linear\n",
    "from models.dnn import DNN\n",
    "from models.fm import FM\n",
    "from models.deepfm import DeepFM\n",
    "from sklearn.metrics import log_loss, roc_auc_score\n",
    "from sklearn.model_selection import train_test_split\n",
    "\n",
    "device = 'cuda:0' if torch.cuda.is_available() else 'cpu'"
   ]
  },
  {
   "cell_type": "code",
   "execution_count": 2,
   "metadata": {},
   "outputs": [],
   "source": [
    "data = pd.read_csv('./examples/bunjang_sampling.csv')\n",
    "# data = df.sample(frac=0.25)"
   ]
  },
  {
   "cell_type": "code",
   "execution_count": 3,
   "metadata": {},
   "outputs": [
    {
     "data": {
      "text/plain": [
       "1626983"
      ]
     },
     "execution_count": 3,
     "metadata": {},
     "output_type": "execute_result"
    }
   ],
   "source": [
    "len(data)"
   ]
  },
  {
   "cell_type": "code",
   "execution_count": 4,
   "metadata": {},
   "outputs": [],
   "source": [
    "print('click proportion of original data:', len(df[df['click'] == 1])/len(df))\n",
    "print('click proportion of sampling data:', len(data[data['click'] == 1])/len(data))"
   ]
  },
  {
   "cell_type": "code",
   "execution_count": 5,
   "metadata": {},
   "outputs": [],
   "source": [
    "data.columns"
   ]
  },
  {
   "cell_type": "code",
   "execution_count": 6,
   "metadata": {},
   "outputs": [],
   "source": [
    "sparse_feature_names1 = ['ad_type', 'u_bizlicense', 'u_sex', 'u_age', 'u_married', 'p_taekpo', 'p_exchg', 'p_category_id']\n",
    "dense_feature_names = ['u_favorite_count', 'u_comment_count', 'u_review_count', 'u_grade',\n",
    "                       'u_item_count', 'u_interest', 'u_following_cnt', 'u_parcel_post_count',\n",
    "                       'u_bunpay_count', 'u_transfer_count', 'u_bunp_account_count', 'u_bunp_meet_count',\n",
    "                       'p_price', 'p_qty', 'p_image_count', 'p_emergency_cnt', 'p_comment_cnt',\n",
    "                       'p_interest', 'p_pfavcnt']\n",
    "\n",
    "preproc = PreProcessing()\n",
    "dataset1 = preproc.do_preprocessing(data, sparse_feature_names1, dense_feature_names)\n",
    "\n",
    "train1, test1 = train_test_split(dataset1, test_size=0.2)\n",
    "\n",
    "feature_names1 = sparse_feature_names1 + dense_feature_names\n",
    "\n",
    "train_model_input1 = {name: train1[name] for name in feature_names1}\n",
    "test_model_input1 = {name: test1[name] for name in feature_names1}"
   ]
  },
  {
   "cell_type": "code",
   "execution_count": 7,
   "metadata": {},
   "outputs": [],
   "source": [
    "sparse_feature_names2 = ['ad_type', 'u_bizlicense', 'p_taekpo', 'p_exchg', 'p_category_id']\n",
    "# dense_feature_names = ['u_favorite_count', 'u_comment_count', 'u_review_count', 'u_grade',\n",
    "#                        'u_item_count', 'u_interest', 'u_following_cnt', 'u_parcel_post_count',\n",
    "#                        'u_bunpay_count', 'u_transfer_count', 'u_bunp_account_count', 'u_bunp_meet_count',\n",
    "#                        'p_price', 'p_qty', 'p_image_count', 'p_emergency_cnt', 'p_comment_cnt',\n",
    "#                        'p_interest', 'p_pfavcnt']\n",
    "\n",
    "preproc = PreProcessing()\n",
    "dataset2 = preproc.do_preprocessing(data, sparse_feature_names2, dense_feature_names)\n",
    "\n",
    "train2, test2 = train_test_split(dataset2, test_size=0.2)\n",
    "\n",
    "feature_names2 = sparse_feature_names2 + dense_feature_names\n",
    "\n",
    "train_model_input2 = {name: train2[name] for name in feature_names2}\n",
    "test_model_input2 = {name: test2[name] for name in feature_names2}"
   ]
  },
  {
   "cell_type": "code",
   "execution_count": 8,
   "metadata": {},
   "outputs": [
    {
     "name": "stderr",
     "output_type": "stream",
     "text": [
      "1it [00:00,  7.73it/s]"
     ]
    },
    {
     "name": "stdout",
     "output_type": "stream",
     "text": [
      "learning device : cpu\n"
     ]
    },
    {
     "name": "stderr",
     "output_type": "stream",
     "text": [
      "5085it [00:36, 140.47it/s]\n",
      "1it [00:00,  9.94it/s]"
     ]
    },
    {
     "name": "stdout",
     "output_type": "stream",
     "text": [
      "epoch : 0 -> loss : 1.0051\n"
     ]
    },
    {
     "name": "stderr",
     "output_type": "stream",
     "text": [
      "5085it [00:35, 142.15it/s]\n",
      "4it [00:00, 38.06it/s]"
     ]
    },
    {
     "name": "stdout",
     "output_type": "stream",
     "text": [
      "epoch : 1 -> loss : 0.9808\n"
     ]
    },
    {
     "name": "stderr",
     "output_type": "stream",
     "text": [
      "5085it [00:34, 147.69it/s]\n",
      "4it [00:00, 37.77it/s]"
     ]
    },
    {
     "name": "stdout",
     "output_type": "stream",
     "text": [
      "epoch : 2 -> loss : 0.9884\n"
     ]
    },
    {
     "name": "stderr",
     "output_type": "stream",
     "text": [
      "5085it [00:35, 144.30it/s]\n",
      "3it [00:00, 27.80it/s]"
     ]
    },
    {
     "name": "stdout",
     "output_type": "stream",
     "text": [
      "epoch : 3 -> loss : 2.8741\n"
     ]
    },
    {
     "name": "stderr",
     "output_type": "stream",
     "text": [
      "5085it [00:36, 140.70it/s]\n",
      "3it [00:00, 29.22it/s]"
     ]
    },
    {
     "name": "stdout",
     "output_type": "stream",
     "text": [
      "epoch : 4 -> loss : 1.8894\n"
     ]
    },
    {
     "name": "stderr",
     "output_type": "stream",
     "text": [
      "5085it [00:36, 140.79it/s]\n",
      "3it [00:00, 28.34it/s]"
     ]
    },
    {
     "name": "stdout",
     "output_type": "stream",
     "text": [
      "epoch : 5 -> loss : 1.9601\n"
     ]
    },
    {
     "name": "stderr",
     "output_type": "stream",
     "text": [
      "5085it [00:36, 139.04it/s]\n",
      "4it [00:00, 38.11it/s]"
     ]
    },
    {
     "name": "stdout",
     "output_type": "stream",
     "text": [
      "epoch : 6 -> loss : 0.9935\n"
     ]
    },
    {
     "name": "stderr",
     "output_type": "stream",
     "text": [
      "5085it [00:38, 131.74it/s]\n",
      "1it [00:00,  8.22it/s]"
     ]
    },
    {
     "name": "stdout",
     "output_type": "stream",
     "text": [
      "epoch : 7 -> loss : 0.0111\n"
     ]
    },
    {
     "name": "stderr",
     "output_type": "stream",
     "text": [
      "5085it [00:38, 133.75it/s]\n",
      "2it [00:00, 19.41it/s]"
     ]
    },
    {
     "name": "stdout",
     "output_type": "stream",
     "text": [
      "epoch : 8 -> loss : 0.0276\n"
     ]
    },
    {
     "name": "stderr",
     "output_type": "stream",
     "text": [
      "5085it [00:35, 144.26it/s]\n"
     ]
    },
    {
     "name": "stdout",
     "output_type": "stream",
     "text": [
      "epoch : 9 -> loss : 0.0133\n",
      "test LogLoss 0.0848\n",
      "test AUC 0.5931\n"
     ]
    }
   ],
   "source": [
    "linear_model1 = Linear(dataset=data,\n",
    "                       device=device,\n",
    "                       sparse_feature_names=sparse_feature_names1,\n",
    "                       dense_feature_names=dense_feature_names)\n",
    "linear_model1.fit(train_model_input1, train1['click'].values)\n",
    "\n",
    "pred = linear_model1.predict(test_model_input1)\n",
    "\n",
    "print(\"test LogLoss\", round(log_loss(test1['click'].values, pred), 4))\n",
    "print(\"test AUC\", round(roc_auc_score(test1['click'].values, pred), 4))\n"
   ]
  },
  {
   "cell_type": "code",
   "execution_count": 9,
   "metadata": {},
   "outputs": [
    {
     "name": "stderr",
     "output_type": "stream",
     "text": [
      "2it [00:00, 19.96it/s]"
     ]
    },
    {
     "name": "stdout",
     "output_type": "stream",
     "text": [
      "learning device : cpu\n"
     ]
    },
    {
     "name": "stderr",
     "output_type": "stream",
     "text": [
      "5085it [00:30, 168.46it/s]\n",
      "4it [00:00, 36.44it/s]"
     ]
    },
    {
     "name": "stdout",
     "output_type": "stream",
     "text": [
      "epoch : 0 -> loss : 3.8613\n"
     ]
    },
    {
     "name": "stderr",
     "output_type": "stream",
     "text": [
      "5085it [00:29, 174.16it/s]\n",
      "4it [00:00, 38.55it/s]"
     ]
    },
    {
     "name": "stdout",
     "output_type": "stream",
     "text": [
      "epoch : 1 -> loss : 1.9678\n"
     ]
    },
    {
     "name": "stderr",
     "output_type": "stream",
     "text": [
      "5085it [00:28, 175.45it/s]\n",
      "4it [00:00, 39.36it/s]"
     ]
    },
    {
     "name": "stdout",
     "output_type": "stream",
     "text": [
      "epoch : 2 -> loss : 1.9691\n"
     ]
    },
    {
     "name": "stderr",
     "output_type": "stream",
     "text": [
      "5085it [00:29, 170.33it/s]\n",
      "4it [00:00, 38.24it/s]"
     ]
    },
    {
     "name": "stdout",
     "output_type": "stream",
     "text": [
      "epoch : 3 -> loss : 1.9573\n"
     ]
    },
    {
     "name": "stderr",
     "output_type": "stream",
     "text": [
      "5085it [00:29, 172.69it/s]\n",
      "4it [00:00, 37.88it/s]"
     ]
    },
    {
     "name": "stdout",
     "output_type": "stream",
     "text": [
      "epoch : 4 -> loss : 0.985\n"
     ]
    },
    {
     "name": "stderr",
     "output_type": "stream",
     "text": [
      "5085it [00:29, 174.67it/s]\n",
      "4it [00:00, 39.54it/s]"
     ]
    },
    {
     "name": "stdout",
     "output_type": "stream",
     "text": [
      "epoch : 5 -> loss : 4.9095\n"
     ]
    },
    {
     "name": "stderr",
     "output_type": "stream",
     "text": [
      "5085it [00:28, 175.53it/s]\n",
      "4it [00:00, 39.09it/s]"
     ]
    },
    {
     "name": "stdout",
     "output_type": "stream",
     "text": [
      "epoch : 6 -> loss : 1.0107\n"
     ]
    },
    {
     "name": "stderr",
     "output_type": "stream",
     "text": [
      "5085it [00:29, 170.52it/s]\n",
      "3it [00:00, 27.77it/s]"
     ]
    },
    {
     "name": "stdout",
     "output_type": "stream",
     "text": [
      "epoch : 7 -> loss : 1.951\n"
     ]
    },
    {
     "name": "stderr",
     "output_type": "stream",
     "text": [
      "5085it [00:30, 165.88it/s]\n",
      "4it [00:00, 36.34it/s]"
     ]
    },
    {
     "name": "stdout",
     "output_type": "stream",
     "text": [
      "epoch : 8 -> loss : 0.0192\n"
     ]
    },
    {
     "name": "stderr",
     "output_type": "stream",
     "text": [
      "5085it [00:29, 174.46it/s]\n"
     ]
    },
    {
     "name": "stdout",
     "output_type": "stream",
     "text": [
      "epoch : 9 -> loss : 0.9827\n",
      "test LogLoss 0.0693\n",
      "test AUC 0.5899\n"
     ]
    }
   ],
   "source": [
    "linear_model2 = Linear(dataset=data,\n",
    "                       device=device,\n",
    "                       sparse_feature_names=sparse_feature_names2,\n",
    "                       dense_feature_names=dense_feature_names)\n",
    "linear_model2.fit(train_model_input2, train2['click'].values)\n",
    "\n",
    "pred = linear_model2.predict(test_model_input2)\n",
    "\n",
    "print(\"test LogLoss\", round(log_loss(test2['click'].values, pred), 4))\n",
    "print(\"test AUC\", round(roc_auc_score(test2['click'].values, pred), 4))"
   ]
  },
  {
   "cell_type": "code",
   "execution_count": 10,
   "metadata": {},
   "outputs": [
    {
     "name": "stderr",
     "output_type": "stream",
     "text": [
      "1it [00:00,  9.97it/s]"
     ]
    },
    {
     "name": "stdout",
     "output_type": "stream",
     "text": [
      "learning device : cpu\n"
     ]
    },
    {
     "name": "stderr",
     "output_type": "stream",
     "text": [
      "5085it [00:37, 137.07it/s]\n",
      "3it [00:00, 28.56it/s]"
     ]
    },
    {
     "name": "stdout",
     "output_type": "stream",
     "text": [
      "epoch : 0 -> loss : 0.9808\n"
     ]
    },
    {
     "name": "stderr",
     "output_type": "stream",
     "text": [
      "5085it [00:37, 136.84it/s]\n",
      "2it [00:00, 18.87it/s]"
     ]
    },
    {
     "name": "stdout",
     "output_type": "stream",
     "text": [
      "epoch : 1 -> loss : 0.0176\n"
     ]
    },
    {
     "name": "stderr",
     "output_type": "stream",
     "text": [
      "5085it [00:38, 133.50it/s]\n",
      "1it [00:00,  9.84it/s]"
     ]
    },
    {
     "name": "stdout",
     "output_type": "stream",
     "text": [
      "epoch : 2 -> loss : 0.9906\n"
     ]
    },
    {
     "name": "stderr",
     "output_type": "stream",
     "text": [
      "5085it [00:39, 130.08it/s]\n",
      "1it [00:00,  9.55it/s]"
     ]
    },
    {
     "name": "stdout",
     "output_type": "stream",
     "text": [
      "epoch : 3 -> loss : 0.9149\n"
     ]
    },
    {
     "name": "stderr",
     "output_type": "stream",
     "text": [
      "5085it [00:37, 134.29it/s]\n",
      "2it [00:00, 19.93it/s]"
     ]
    },
    {
     "name": "stdout",
     "output_type": "stream",
     "text": [
      "epoch : 4 -> loss : 0.0202\n"
     ]
    },
    {
     "name": "stderr",
     "output_type": "stream",
     "text": [
      "5085it [00:38, 132.02it/s]\n",
      "3it [00:00, 28.04it/s]"
     ]
    },
    {
     "name": "stdout",
     "output_type": "stream",
     "text": [
      "epoch : 5 -> loss : 0.997\n"
     ]
    },
    {
     "name": "stderr",
     "output_type": "stream",
     "text": [
      "5085it [00:40, 126.87it/s]\n",
      "3it [00:00, 29.22it/s]"
     ]
    },
    {
     "name": "stdout",
     "output_type": "stream",
     "text": [
      "epoch : 6 -> loss : 0.0143\n"
     ]
    },
    {
     "name": "stderr",
     "output_type": "stream",
     "text": [
      "5085it [00:38, 131.19it/s]\n",
      "3it [00:00, 28.26it/s]"
     ]
    },
    {
     "name": "stdout",
     "output_type": "stream",
     "text": [
      "epoch : 7 -> loss : 0.992\n"
     ]
    },
    {
     "name": "stderr",
     "output_type": "stream",
     "text": [
      "5085it [00:38, 130.54it/s]\n",
      "2it [00:00, 18.70it/s]"
     ]
    },
    {
     "name": "stdout",
     "output_type": "stream",
     "text": [
      "epoch : 8 -> loss : 1.0049\n"
     ]
    },
    {
     "name": "stderr",
     "output_type": "stream",
     "text": [
      "5085it [00:37, 136.87it/s]\n"
     ]
    },
    {
     "name": "stdout",
     "output_type": "stream",
     "text": [
      "epoch : 9 -> loss : 0.9859\n",
      "test LogLoss 0.0685\n",
      "test AUC 0.6306\n"
     ]
    }
   ],
   "source": [
    "fm_model1 = FM(dataset=data,\n",
    "                       device=device,\n",
    "                       sparse_feature_names=sparse_feature_names1,\n",
    "                       dense_feature_names=dense_feature_names)\n",
    "fm_model1.fit(train_model_input1, train1['click'].values)\n",
    "\n",
    "pred = fm_model1.predict(test_model_input1)\n",
    "\n",
    "print(\"test LogLoss\", round(log_loss(test1['click'].values, pred), 4))\n",
    "print(\"test AUC\", round(roc_auc_score(test1['click'].values, pred), 4))"
   ]
  },
  {
   "cell_type": "code",
   "execution_count": 11,
   "metadata": {},
   "outputs": [
    {
     "name": "stderr",
     "output_type": "stream",
     "text": [
      "1it [00:00,  9.90it/s]"
     ]
    },
    {
     "name": "stdout",
     "output_type": "stream",
     "text": [
      "learning device : cpu\n"
     ]
    },
    {
     "name": "stderr",
     "output_type": "stream",
     "text": [
      "5085it [00:31, 161.73it/s]\n",
      "3it [00:00, 28.64it/s]"
     ]
    },
    {
     "name": "stdout",
     "output_type": "stream",
     "text": [
      "epoch : 0 -> loss : 0.9924\n"
     ]
    },
    {
     "name": "stderr",
     "output_type": "stream",
     "text": [
      "5085it [00:31, 160.52it/s]\n",
      "3it [00:00, 29.17it/s]"
     ]
    },
    {
     "name": "stdout",
     "output_type": "stream",
     "text": [
      "epoch : 1 -> loss : 0.9802\n"
     ]
    },
    {
     "name": "stderr",
     "output_type": "stream",
     "text": [
      "5085it [00:31, 160.63it/s]\n",
      "4it [00:00, 37.96it/s]"
     ]
    },
    {
     "name": "stdout",
     "output_type": "stream",
     "text": [
      "epoch : 2 -> loss : 0.015\n"
     ]
    },
    {
     "name": "stderr",
     "output_type": "stream",
     "text": [
      "5085it [00:31, 163.07it/s]\n",
      "3it [00:00, 29.98it/s]"
     ]
    },
    {
     "name": "stdout",
     "output_type": "stream",
     "text": [
      "epoch : 3 -> loss : 0.9774\n"
     ]
    },
    {
     "name": "stderr",
     "output_type": "stream",
     "text": [
      "5085it [00:32, 156.53it/s]\n",
      "3it [00:00, 29.83it/s]"
     ]
    },
    {
     "name": "stdout",
     "output_type": "stream",
     "text": [
      "epoch : 4 -> loss : 0.987\n"
     ]
    },
    {
     "name": "stderr",
     "output_type": "stream",
     "text": [
      "5085it [00:32, 154.57it/s]\n",
      "2it [00:00, 19.36it/s]"
     ]
    },
    {
     "name": "stdout",
     "output_type": "stream",
     "text": [
      "epoch : 5 -> loss : 0.0154\n"
     ]
    },
    {
     "name": "stderr",
     "output_type": "stream",
     "text": [
      "5085it [00:30, 164.51it/s]\n",
      "4it [00:00, 39.85it/s]"
     ]
    },
    {
     "name": "stdout",
     "output_type": "stream",
     "text": [
      "epoch : 6 -> loss : 1.0104\n"
     ]
    },
    {
     "name": "stderr",
     "output_type": "stream",
     "text": [
      "5085it [00:32, 158.54it/s]\n",
      "4it [00:00, 38.36it/s]"
     ]
    },
    {
     "name": "stdout",
     "output_type": "stream",
     "text": [
      "epoch : 7 -> loss : 1.9229\n"
     ]
    },
    {
     "name": "stderr",
     "output_type": "stream",
     "text": [
      "5085it [00:31, 163.32it/s]\n",
      "2it [00:00, 18.44it/s]"
     ]
    },
    {
     "name": "stdout",
     "output_type": "stream",
     "text": [
      "epoch : 8 -> loss : 0.9965\n"
     ]
    },
    {
     "name": "stderr",
     "output_type": "stream",
     "text": [
      "5085it [00:31, 160.14it/s]\n"
     ]
    },
    {
     "name": "stdout",
     "output_type": "stream",
     "text": [
      "epoch : 9 -> loss : 1.9641\n",
      "test LogLoss 0.0686\n",
      "test AUC 0.6239\n"
     ]
    }
   ],
   "source": [
    "fm_model2 = FM(dataset=data,\n",
    "                       device=device,\n",
    "                       sparse_feature_names=sparse_feature_names2,\n",
    "                       dense_feature_names=dense_feature_names)\n",
    "fm_model2.fit(train_model_input2, train2['click'].values)\n",
    "\n",
    "pred = fm_model2.predict(test_model_input2)\n",
    "\n",
    "print(\"test LogLoss\", round(log_loss(test2['click'].values, pred), 4))\n",
    "print(\"test AUC\", round(roc_auc_score(test2['click'].values, pred), 4))"
   ]
  },
  {
   "cell_type": "code",
   "execution_count": 12,
   "metadata": {},
   "outputs": [
    {
     "name": "stderr",
     "output_type": "stream",
     "text": [
      "1it [00:00,  9.46it/s]"
     ]
    },
    {
     "name": "stdout",
     "output_type": "stream",
     "text": [
      "learning device : cpu\n"
     ]
    },
    {
     "name": "stderr",
     "output_type": "stream",
     "text": [
      "5085it [01:02, 80.92it/s]\n",
      "1it [00:00,  6.49it/s]"
     ]
    },
    {
     "name": "stdout",
     "output_type": "stream",
     "text": [
      "epoch : 0 -> loss : 0.9804\n"
     ]
    },
    {
     "name": "stderr",
     "output_type": "stream",
     "text": [
      "5085it [00:59, 84.97it/s]\n",
      "1it [00:00,  6.80it/s]"
     ]
    },
    {
     "name": "stdout",
     "output_type": "stream",
     "text": [
      "epoch : 1 -> loss : 0.0183\n"
     ]
    },
    {
     "name": "stderr",
     "output_type": "stream",
     "text": [
      "5085it [01:00, 84.63it/s]\n",
      "1it [00:00,  6.83it/s]"
     ]
    },
    {
     "name": "stdout",
     "output_type": "stream",
     "text": [
      "epoch : 2 -> loss : 0.9821\n"
     ]
    },
    {
     "name": "stderr",
     "output_type": "stream",
     "text": [
      "5085it [01:02, 81.67it/s]\n",
      "1it [00:00,  5.64it/s]"
     ]
    },
    {
     "name": "stdout",
     "output_type": "stream",
     "text": [
      "epoch : 3 -> loss : 0.0156\n"
     ]
    },
    {
     "name": "stderr",
     "output_type": "stream",
     "text": [
      "5085it [01:00, 84.19it/s]\n",
      "1it [00:00,  6.29it/s]"
     ]
    },
    {
     "name": "stdout",
     "output_type": "stream",
     "text": [
      "epoch : 4 -> loss : 1.9035\n"
     ]
    },
    {
     "name": "stderr",
     "output_type": "stream",
     "text": [
      "5085it [01:00, 84.19it/s]\n",
      "1it [00:00,  7.23it/s]"
     ]
    },
    {
     "name": "stdout",
     "output_type": "stream",
     "text": [
      "epoch : 5 -> loss : 0.977\n"
     ]
    },
    {
     "name": "stderr",
     "output_type": "stream",
     "text": [
      "5085it [00:59, 84.77it/s]\n",
      "1it [00:00,  6.34it/s]"
     ]
    },
    {
     "name": "stdout",
     "output_type": "stream",
     "text": [
      "epoch : 6 -> loss : 1.9648\n"
     ]
    },
    {
     "name": "stderr",
     "output_type": "stream",
     "text": [
      "5085it [01:00, 84.25it/s]\n",
      "1it [00:00,  6.16it/s]"
     ]
    },
    {
     "name": "stdout",
     "output_type": "stream",
     "text": [
      "epoch : 7 -> loss : 0.0179\n"
     ]
    },
    {
     "name": "stderr",
     "output_type": "stream",
     "text": [
      "5085it [00:59, 84.98it/s]\n",
      "1it [00:00,  6.69it/s]"
     ]
    },
    {
     "name": "stdout",
     "output_type": "stream",
     "text": [
      "epoch : 8 -> loss : 0.9809\n"
     ]
    },
    {
     "name": "stderr",
     "output_type": "stream",
     "text": [
      "5085it [01:01, 83.28it/s]\n"
     ]
    },
    {
     "name": "stdout",
     "output_type": "stream",
     "text": [
      "epoch : 9 -> loss : 1.945\n",
      "test LogLoss 0.0667\n",
      "test AUC 0.6371\n"
     ]
    }
   ],
   "source": [
    "dnn_model1 = DNN(dataset=data,\n",
    "                       device=device,\n",
    "                       sparse_feature_names=sparse_feature_names1,\n",
    "                       dense_feature_names=dense_feature_names)\n",
    "dnn_model1.fit(train_model_input1, train1['click'].values)\n",
    "\n",
    "pred = dnn_model1.predict(test_model_input1)\n",
    "\n",
    "print(\"test LogLoss\", round(log_loss(test1['click'].values, pred), 4))\n",
    "print(\"test AUC\", round(roc_auc_score(test1['click'].values, pred), 4))"
   ]
  },
  {
   "cell_type": "code",
   "execution_count": 13,
   "metadata": {},
   "outputs": [
    {
     "name": "stderr",
     "output_type": "stream",
     "text": [
      "1it [00:00,  8.56it/s]"
     ]
    },
    {
     "name": "stdout",
     "output_type": "stream",
     "text": [
      "learning device : cpu\n"
     ]
    },
    {
     "name": "stderr",
     "output_type": "stream",
     "text": [
      "5085it [00:52, 97.46it/s] \n",
      "1it [00:00,  7.06it/s]"
     ]
    },
    {
     "name": "stdout",
     "output_type": "stream",
     "text": [
      "epoch : 0 -> loss : 0.0216\n"
     ]
    },
    {
     "name": "stderr",
     "output_type": "stream",
     "text": [
      "5085it [00:51, 99.27it/s] \n",
      "1it [00:00,  5.64it/s]"
     ]
    },
    {
     "name": "stdout",
     "output_type": "stream",
     "text": [
      "epoch : 1 -> loss : 0.0182\n"
     ]
    },
    {
     "name": "stderr",
     "output_type": "stream",
     "text": [
      "5085it [00:50, 100.42it/s]\n",
      "1it [00:00,  6.68it/s]"
     ]
    },
    {
     "name": "stdout",
     "output_type": "stream",
     "text": [
      "epoch : 2 -> loss : 0.9765\n"
     ]
    },
    {
     "name": "stderr",
     "output_type": "stream",
     "text": [
      "5085it [00:50, 100.97it/s]\n",
      "1it [00:00,  7.43it/s]"
     ]
    },
    {
     "name": "stdout",
     "output_type": "stream",
     "text": [
      "epoch : 3 -> loss : 0.0169\n"
     ]
    },
    {
     "name": "stderr",
     "output_type": "stream",
     "text": [
      "5085it [00:50, 101.01it/s]\n",
      "1it [00:00,  7.41it/s]"
     ]
    },
    {
     "name": "stdout",
     "output_type": "stream",
     "text": [
      "epoch : 4 -> loss : 1.9649\n"
     ]
    },
    {
     "name": "stderr",
     "output_type": "stream",
     "text": [
      "5085it [00:50, 101.66it/s]\n",
      "1it [00:00,  7.26it/s]"
     ]
    },
    {
     "name": "stdout",
     "output_type": "stream",
     "text": [
      "epoch : 5 -> loss : 0.0145\n"
     ]
    },
    {
     "name": "stderr",
     "output_type": "stream",
     "text": [
      "5085it [00:50, 100.53it/s]\n",
      "1it [00:00,  6.21it/s]"
     ]
    },
    {
     "name": "stdout",
     "output_type": "stream",
     "text": [
      "epoch : 6 -> loss : 0.0159\n"
     ]
    },
    {
     "name": "stderr",
     "output_type": "stream",
     "text": [
      "5085it [00:51, 98.70it/s] \n",
      "1it [00:00,  7.20it/s]"
     ]
    },
    {
     "name": "stdout",
     "output_type": "stream",
     "text": [
      "epoch : 7 -> loss : 0.9567\n"
     ]
    },
    {
     "name": "stderr",
     "output_type": "stream",
     "text": [
      "5085it [00:52, 97.07it/s] \n",
      "1it [00:00,  6.50it/s]"
     ]
    },
    {
     "name": "stdout",
     "output_type": "stream",
     "text": [
      "epoch : 8 -> loss : 1.9508\n"
     ]
    },
    {
     "name": "stderr",
     "output_type": "stream",
     "text": [
      "5085it [00:53, 94.53it/s] \n"
     ]
    },
    {
     "name": "stdout",
     "output_type": "stream",
     "text": [
      "epoch : 9 -> loss : 1.0009\n",
      "test LogLoss 0.0677\n",
      "test AUC 0.6332\n"
     ]
    }
   ],
   "source": [
    "dnn_model2 = DNN(dataset=data,\n",
    "                       device=device,\n",
    "                       sparse_feature_names=sparse_feature_names2,\n",
    "                       dense_feature_names=dense_feature_names)\n",
    "dnn_model2.fit(train_model_input2, train2['click'].values)\n",
    "\n",
    "pred = dnn_model2.predict(test_model_input2)\n",
    "\n",
    "print(\"test LogLoss\", round(log_loss(test2['click'].values, pred), 4))\n",
    "print(\"test AUC\", round(roc_auc_score(test2['click'].values, pred), 4))"
   ]
  },
  {
   "cell_type": "code",
   "execution_count": 14,
   "metadata": {},
   "outputs": [
    {
     "name": "stderr",
     "output_type": "stream",
     "text": [
      "1it [00:00,  8.95it/s]"
     ]
    },
    {
     "name": "stdout",
     "output_type": "stream",
     "text": [
      "learning device : cpu\n"
     ]
    },
    {
     "name": "stderr",
     "output_type": "stream",
     "text": [
      "5085it [02:14, 37.93it/s]\n",
      "1it [00:00,  6.18it/s]"
     ]
    },
    {
     "name": "stdout",
     "output_type": "stream",
     "text": [
      "epoch : 0 -> loss : 1.0016\n"
     ]
    },
    {
     "name": "stderr",
     "output_type": "stream",
     "text": [
      "5085it [02:08, 39.48it/s]\n",
      "1it [00:00,  6.36it/s]"
     ]
    },
    {
     "name": "stdout",
     "output_type": "stream",
     "text": [
      "epoch : 1 -> loss : 0.9813\n"
     ]
    },
    {
     "name": "stderr",
     "output_type": "stream",
     "text": [
      "5085it [02:05, 40.62it/s]\n",
      "1it [00:00,  6.54it/s]"
     ]
    },
    {
     "name": "stdout",
     "output_type": "stream",
     "text": [
      "epoch : 2 -> loss : 0.9999\n"
     ]
    },
    {
     "name": "stderr",
     "output_type": "stream",
     "text": [
      "5085it [02:05, 40.63it/s]\n",
      "1it [00:00,  6.48it/s]"
     ]
    },
    {
     "name": "stdout",
     "output_type": "stream",
     "text": [
      "epoch : 3 -> loss : 0.9895\n"
     ]
    },
    {
     "name": "stderr",
     "output_type": "stream",
     "text": [
      "5085it [02:08, 39.58it/s]\n",
      "1it [00:00,  6.38it/s]"
     ]
    },
    {
     "name": "stdout",
     "output_type": "stream",
     "text": [
      "epoch : 4 -> loss : 1.9212\n"
     ]
    },
    {
     "name": "stderr",
     "output_type": "stream",
     "text": [
      "5085it [02:07, 39.86it/s]\n",
      "1it [00:00,  6.43it/s]"
     ]
    },
    {
     "name": "stdout",
     "output_type": "stream",
     "text": [
      "epoch : 5 -> loss : 2.9149\n"
     ]
    },
    {
     "name": "stderr",
     "output_type": "stream",
     "text": [
      "5085it [02:14, 37.87it/s]\n",
      "1it [00:00,  6.72it/s]"
     ]
    },
    {
     "name": "stdout",
     "output_type": "stream",
     "text": [
      "epoch : 6 -> loss : 0.0132\n"
     ]
    },
    {
     "name": "stderr",
     "output_type": "stream",
     "text": [
      "5085it [02:09, 39.27it/s]\n",
      "1it [00:00,  6.30it/s]"
     ]
    },
    {
     "name": "stdout",
     "output_type": "stream",
     "text": [
      "epoch : 7 -> loss : 1.9058\n"
     ]
    },
    {
     "name": "stderr",
     "output_type": "stream",
     "text": [
      "5085it [02:05, 40.66it/s]\n",
      "1it [00:00,  6.17it/s]"
     ]
    },
    {
     "name": "stdout",
     "output_type": "stream",
     "text": [
      "epoch : 8 -> loss : 2.8768\n"
     ]
    },
    {
     "name": "stderr",
     "output_type": "stream",
     "text": [
      "5085it [02:08, 39.56it/s]\n"
     ]
    },
    {
     "name": "stdout",
     "output_type": "stream",
     "text": [
      "epoch : 9 -> loss : 0.0308\n",
      "test LogLoss 0.0716\n",
      "test AUC 0.6219\n"
     ]
    }
   ],
   "source": [
    "deepfm_model1 = DeepFM(dataset=data,\n",
    "                       device=device,\n",
    "                       sparse_feature_names=sparse_feature_names1,\n",
    "                       dense_feature_names=dense_feature_names)\n",
    "deepfm_model1.fit(train_model_input1, train1['click'].values)\n",
    "\n",
    "pred = deepfm_model1.predict(test_model_input1)\n",
    "\n",
    "print(\"test LogLoss\", round(log_loss(test1['click'].values, pred), 4))\n",
    "print(\"test AUC\", round(roc_auc_score(test1['click'].values, pred), 4))"
   ]
  },
  {
   "cell_type": "code",
   "execution_count": null,
   "metadata": {},
   "outputs": [],
   "source": []
  }
 ],
 "metadata": {
  "kernelspec": {
   "display_name": "Python 3",
   "language": "python",
   "name": "python3"
  },
  "language_info": {
   "codemirror_mode": {
    "name": "ipython",
    "version": 3
   },
   "file_extension": ".py",
   "mimetype": "text/x-python",
   "name": "python",
   "nbconvert_exporter": "python",
   "pygments_lexer": "ipython3",
   "version": "3.7.5"
  }
 },
 "nbformat": 4,
 "nbformat_minor": 4
}
