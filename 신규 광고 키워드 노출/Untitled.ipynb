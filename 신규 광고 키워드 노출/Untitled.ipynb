{
 "cells": [
  {
   "cell_type": "code",
   "execution_count": 1,
   "metadata": {},
   "outputs": [],
   "source": [
    "import pandas as pd\n",
    "from sqlalchemy import create_engine\n",
    "from sqlalchemy.pool import NullPool\n",
    "import matplotlib as plt\n",
    "import matplotlib.pylab as plt\n",
    "import seaborn as sns\n",
    "from tqdm import tqdm\n",
    "from PIL import Image\n",
    "import requests\n",
    "from io import BytesIO\n",
    "\n",
    "\n",
    "\n"
   ]
  },
  {
   "cell_type": "code",
   "execution_count": 20,
   "metadata": {},
   "outputs": [],
   "source": [
    "q = '''\n",
    "SELECT ref_term,\n",
    "       count(*) AS imp_cnt\n",
    "FROM bun_log_db.app_event_type_impression\n",
    "WHERE device_type = 'a'\n",
    "  AND YEAR||MONTH||DAY = '20201204'\n",
    "  AND page_id = '검색결과'\n",
    "  AND ref_source IN ('ad_super_up_shop',\n",
    "                     'ad_super_up',\n",
    "                     'power_up')\n",
    "GROUP BY 1\n",
    "'''\n",
    "old_imp = pd.read_sql(q, con=bun_dw)"
   ]
  },
  {
   "cell_type": "code",
   "execution_count": 12,
   "metadata": {},
   "outputs": [],
   "source": [
    "q = '''\n",
    "SELECT ref_term,\n",
    "       count(*) AS click_cnt\n",
    "FROM bun_log_db.app_event_type_view\n",
    "WHERE device_type = 'a'\n",
    "  AND YEAR||MONTH||DAY = '20201204'\n",
    "  AND ref_source IN ('ad_super_up_shop',\n",
    "                     'ad_super_up',\n",
    "                     'power_up')\n",
    "GROUP BY 1\n",
    "'''\n",
    "old_click = pd.read_sql(q, con=bun_dw)"
   ]
  },
  {
   "cell_type": "code",
   "execution_count": 28,
   "metadata": {},
   "outputs": [],
   "source": [
    "q = '''\n",
    "SELECT search_term AS ref_term,\n",
    "       count(*) AS search_cnt\n",
    "FROM bun_log_db.app_event_type_search\n",
    "WHERE device_type = 'a'\n",
    "  AND YEAR||MONTH||DAY = '20201204'\n",
    "GROUP BY 1;\n",
    "'''\n",
    "old_search = pd.read_sql(q, con=bun_dw)"
   ]
  },
  {
   "cell_type": "code",
   "execution_count": 9,
   "metadata": {},
   "outputs": [],
   "source": [
    "q = '''\n",
    "SELECT ref_term,\n",
    "       count(*) AS imp_cnt\n",
    "FROM bun_log_db.api_event_type_impression_ad\n",
    "WHERE device_type = 'a'\n",
    "  AND YEAR||MONTH||DAY = '20201218'\n",
    "  AND page_id = '검색결과'\n",
    "  AND ref_source IN ('sa',\n",
    "                     'ca')\n",
    "GROUP BY 1\n",
    "'''\n",
    "new_imp = pd.read_sql(q, con=bun_dw)"
   ]
  },
  {
   "cell_type": "code",
   "execution_count": 15,
   "metadata": {},
   "outputs": [],
   "source": [
    "q = '''\n",
    "SELECT ref_term,\n",
    "       count(*) AS click_cnt\n",
    "FROM bun_log_db.api_event_type_click_ad\n",
    "WHERE device_type = 'a'\n",
    "  AND YEAR||MONTH||DAY = '20201218'\n",
    "  AND ref_source IN ('sa',\n",
    "                     'ca')\n",
    "GROUP BY 1\n",
    "'''\n",
    "new_click = pd.read_sql(q, con=bun_dw)"
   ]
  },
  {
   "cell_type": "code",
   "execution_count": 29,
   "metadata": {},
   "outputs": [],
   "source": [
    "q = '''\n",
    "SELECT search_term AS ref_term,\n",
    "       count(*) AS search_cnt\n",
    "FROM bun_log_db.api_event_type_search\n",
    "WHERE device_type = 'a'\n",
    "  AND YEAR||MONTH||DAY = '20201218'\n",
    "GROUP BY 1\n",
    "'''\n",
    "new_search = pd.read_sql(q, con=bun_dw)"
   ]
  },
  {
   "cell_type": "code",
   "execution_count": 21,
   "metadata": {},
   "outputs": [],
   "source": [
    "old = pd.merge(old_imp, old_click, on='ref_term', how='left')\n",
    "new = pd.merge(new_imp, new_click, on='ref_term', how='left')"
   ]
  },
  {
   "cell_type": "code",
   "execution_count": 32,
   "metadata": {},
   "outputs": [],
   "source": [
    "old = pd.merge(old, old_search, on='ref_term', how='left')\n",
    "new = pd.merge(new, new_search, on='ref_term', how='left')"
   ]
  },
  {
   "cell_type": "code",
   "execution_count": 33,
   "metadata": {},
   "outputs": [],
   "source": [
    "old.sort_values('imp_cnt', ascending=False).to_csv('./old_ad.csv')\n",
    "new.sort_values('imp_cnt', ascending=False).to_csv('./new_ad.csv')"
   ]
  },
  {
   "cell_type": "code",
   "execution_count": 31,
   "metadata": {},
   "outputs": [
    {
     "data": {
      "text/html": [
       "<div>\n",
       "<style scoped>\n",
       "    .dataframe tbody tr th:only-of-type {\n",
       "        vertical-align: middle;\n",
       "    }\n",
       "\n",
       "    .dataframe tbody tr th {\n",
       "        vertical-align: top;\n",
       "    }\n",
       "\n",
       "    .dataframe thead th {\n",
       "        text-align: right;\n",
       "    }\n",
       "</style>\n",
       "<table border=\"1\" class=\"dataframe\">\n",
       "  <thead>\n",
       "    <tr style=\"text-align: right;\">\n",
       "      <th></th>\n",
       "      <th>ref_term</th>\n",
       "      <th>search_cnt</th>\n",
       "    </tr>\n",
       "  </thead>\n",
       "  <tbody>\n",
       "    <tr>\n",
       "      <th>0</th>\n",
       "      <td>에르메스롱망토</td>\n",
       "      <td>1</td>\n",
       "    </tr>\n",
       "    <tr>\n",
       "      <th>1</th>\n",
       "      <td>닌텐도 위 게임</td>\n",
       "      <td>2</td>\n",
       "    </tr>\n",
       "    <tr>\n",
       "      <th>2</th>\n",
       "      <td>헬로키티 스트랩 고래</td>\n",
       "      <td>1</td>\n",
       "    </tr>\n",
       "    <tr>\n",
       "      <th>3</th>\n",
       "      <td>bmw538i 스피커</td>\n",
       "      <td>1</td>\n",
       "    </tr>\n",
       "    <tr>\n",
       "      <th>4</th>\n",
       "      <td>스쿠터쿠션</td>\n",
       "      <td>1</td>\n",
       "    </tr>\n",
       "    <tr>\n",
       "      <th>...</th>\n",
       "      <td>...</td>\n",
       "      <td>...</td>\n",
       "    </tr>\n",
       "    <tr>\n",
       "      <th>276412</th>\n",
       "      <td>대구 a90</td>\n",
       "      <td>4</td>\n",
       "    </tr>\n",
       "    <tr>\n",
       "      <th>276413</th>\n",
       "      <td>501연청</td>\n",
       "      <td>1</td>\n",
       "    </tr>\n",
       "    <tr>\n",
       "      <th>276414</th>\n",
       "      <td>sm7 보키</td>\n",
       "      <td>1</td>\n",
       "    </tr>\n",
       "    <tr>\n",
       "      <th>276415</th>\n",
       "      <td>뉴발327 블랙</td>\n",
       "      <td>2</td>\n",
       "    </tr>\n",
       "    <tr>\n",
       "      <th>276416</th>\n",
       "      <td>로스코 항공점퍼</td>\n",
       "      <td>1</td>\n",
       "    </tr>\n",
       "  </tbody>\n",
       "</table>\n",
       "<p>276417 rows × 2 columns</p>\n",
       "</div>"
      ],
      "text/plain": [
       "           ref_term  search_cnt\n",
       "0           에르메스롱망토           1\n",
       "1          닌텐도 위 게임           2\n",
       "2       헬로키티 스트랩 고래           1\n",
       "3       bmw538i 스피커           1\n",
       "4             스쿠터쿠션           1\n",
       "...             ...         ...\n",
       "276412       대구 a90           4\n",
       "276413        501연청           1\n",
       "276414       sm7 보키           1\n",
       "276415     뉴발327 블랙           2\n",
       "276416     로스코 항공점퍼           1\n",
       "\n",
       "[276417 rows x 2 columns]"
      ]
     },
     "execution_count": 31,
     "metadata": {},
     "output_type": "execute_result"
    }
   ],
   "source": [
    "new_search"
   ]
  },
  {
   "cell_type": "code",
   "execution_count": null,
   "metadata": {},
   "outputs": [],
   "source": []
  },
  {
   "cell_type": "code",
   "execution_count": 35,
   "metadata": {},
   "outputs": [],
   "source": [
    "q = '''\n",
    "SELECT imp.ref_term,\n",
    "       imp.imp_cnt,\n",
    "       click.click_cnt,\n",
    "       search.search_cnt\n",
    "FROM\n",
    "  (SELECT ref_term,\n",
    "          count(*) AS imp_cnt\n",
    "   FROM bun_log_db.app_event_type_impression\n",
    "   WHERE device_type = 'a'\n",
    "     AND YEAR||MONTH||DAY = '20201204'\n",
    "     AND page_id = '검색결과'\n",
    "     AND ref_source IN ('ad_super_up_shop',\n",
    "                        'ad_super_up',\n",
    "                        'power_up')\n",
    "   GROUP BY 1) AS imp\n",
    "LEFT JOIN\n",
    "  (SELECT ref_term,\n",
    "          count(*) AS click_cnt\n",
    "   FROM bun_log_db.app_event_type_view\n",
    "   WHERE device_type = 'a'\n",
    "     AND YEAR||MONTH||DAY = '20201204'\n",
    "     AND ref_source IN ('ad_super_up_shop',\n",
    "                        'ad_super_up',\n",
    "                        'power_up')\n",
    "   GROUP BY 1) AS click ON imp.ref_term = click.ref_term\n",
    "LEFT JOIN\n",
    "  (SELECT search_term AS ref_term,\n",
    "          count(*) AS search_cnt\n",
    "   FROM bun_log_db.app_event_type_search\n",
    "   WHERE device_type = 'a'\n",
    "     AND YEAR||MONTH||DAY = '20201204'\n",
    "   GROUP BY 1) AS SEARCH ON imp.ref_term = search.ref_term\n",
    "'''\n",
    "oldAd = pd.read_sql(q, con=bun_dw)"
   ]
  },
  {
   "cell_type": "code",
   "execution_count": 39,
   "metadata": {},
   "outputs": [],
   "source": [
    "oldAd.sort_values('imp_cnt', ascending=False).to_csv('./old_ad.csv')"
   ]
  },
  {
   "cell_type": "code",
   "execution_count": 37,
   "metadata": {},
   "outputs": [],
   "source": [
    "q = '''\n",
    "SELECT imp.ref_term,\n",
    "       imp.imp_cnt,\n",
    "       click.click_cnt,\n",
    "       search.search_cnt\n",
    "FROM\n",
    "  (SELECT ref_term,\n",
    "          count(*) AS imp_cnt\n",
    "   FROM bun_log_db.api_event_type_impression_ad\n",
    "   WHERE device_type = 'a'\n",
    "     AND YEAR||MONTH||DAY = '20201218'\n",
    "     AND page_id = '검색결과'\n",
    "     AND ref_source IN ('sa',\n",
    "                        'ca')\n",
    "   GROUP BY 1) AS imp\n",
    "LEFT JOIN\n",
    "  (SELECT ref_term,\n",
    "          count(*) AS click_cnt\n",
    "   FROM bun_log_db.api_event_type_click_ad\n",
    "   WHERE device_type = 'a'\n",
    "     AND YEAR||MONTH||DAY = '20201218'\n",
    "     AND ref_source IN ('sa',\n",
    "                        'ca')\n",
    "   GROUP BY 1) AS click ON imp.ref_term = click.ref_term\n",
    "LEFT JOIN\n",
    "  (SELECT search_term AS ref_term,\n",
    "          count(*) AS search_cnt\n",
    "   FROM bun_log_db.api_event_type_search\n",
    "   WHERE device_type = 'a'\n",
    "     AND YEAR||MONTH||DAY = '20201218'\n",
    "   GROUP BY 1) AS SEARCH ON imp.ref_term = search.ref_term\n",
    "'''\n",
    "newAd = pd.read_sql(q, con=bun_dw)"
   ]
  },
  {
   "cell_type": "code",
   "execution_count": 41,
   "metadata": {},
   "outputs": [],
   "source": [
    "newAd.sort_values('imp_cnt', ascending=False).to_csv('./new_ad.csv')"
   ]
  },
  {
   "cell_type": "code",
   "execution_count": null,
   "metadata": {},
   "outputs": [],
   "source": []
  }
 ],
 "metadata": {
  "kernelspec": {
   "display_name": "Python 3",
   "language": "python",
   "name": "python3"
  },
  "language_info": {
   "codemirror_mode": {
    "name": "ipython",
    "version": 3
   },
   "file_extension": ".py",
   "mimetype": "text/x-python",
   "name": "python",
   "nbconvert_exporter": "python",
   "pygments_lexer": "ipython3",
   "version": "3.7.5"
  }
 },
 "nbformat": 4,
 "nbformat_minor": 4
}