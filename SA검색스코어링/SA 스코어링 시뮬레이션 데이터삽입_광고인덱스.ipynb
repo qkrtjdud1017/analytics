{
 "cells": [
  {
   "cell_type": "markdown",
   "metadata": {},
   "source": [
    "# 1. DB 연결"
   ]
  },
  {
   "cell_type": "code",
   "execution_count": 1,
   "metadata": {},
   "outputs": [],
   "source": [
    "import pandas as pd\n",
    "from sqlalchemy import create_engine\n"
   ]
  },
  {
   "cell_type": "code",
   "execution_count": null,
   "metadata": {},
   "outputs": [],
   "source": [
    "\n",
    "q = '''\n",
    "select *\n",
    "from product_info\n",
    "where uid = '11801509'\n",
    "'''\n",
    "\n",
    "df = pd.read_sql(q, con=db_slave)"
   ]
  },
  {
   "cell_type": "markdown",
   "metadata": {},
   "source": [
    "# 2. 서비스 데이터베이스에서 상품정보 수집"
   ]
  },
  {
   "cell_type": "code",
   "execution_count": 2,
   "metadata": {},
   "outputs": [],
   "source": [
    "# 2020-05-28 ~ 2020-05-31 파워업을 수행한 PID\n",
    "power_up = [122049388,104268953,122433602,108902959,125152086,125212616,124695512,124543289,124543235,123263485,66218216,123682346,123304404,123489299,125564801,125565329,125565210,125565087,125565595,125565751,125566288,125567227,125567340,125567296,125567438,125567159,125567004,125566048,125566471,125566586,125567634,125567499,125566867,125567083,125566924,123825070,108845622,108648933,125590247,119142990,123399088,111572825,122291617,125434106,125226193,124841257,30263804,125593102,125449648,123914082,124093959,121262133,125439654,125024167,125056205,125166366,30098045,123663102,122555881,111816871,122403991,123129163,117290357,121892603,122391701,122577580,124362834,125292778,120665728,121900335,94059596,75057161,103167986,91198238,92189888,125248049,114529608,76227161,125569281,125566750,103160830,90469535,125396840,125502213,30520517,124498252,124499096,125191291,125241664,125493858,125192699,77307587,125549139,105618687,125190594,125238215,113408316,125235946,125298003,125297560,125547532,125238412,125549565,125297403,125237564,125530073,125191823,125546290,125261875,125551867,125555975,125495376,121776569,103651799,125238012,125297157,125367935,105568864,121838519,49359996,117878002,115324857,125541498,123495162,125390088,123836720,124631175,124630812,100545159,100585083,125425849,101240416,125371802,123498027,101219161,125386629,124474373,121647090,122955916,122957848,89522806,122807533,1550821,23191945,93750149,51119806,124580614,85405927,84185022,107886597,124047560,52012509,50054232,101124289,125551082,125491448,125469611,122717925,122160463,110058109,77212876,70919389,79280156,104314864,115325793,117020948,125374443,125544773,123847031,105010017,125611192,100178400,102816830,111129057,89583199,105077781,125545196,125106141,125062899,125603410,125602743,125262374,125549268,123836303,123260553,72151666,108656909,110047932,113760663,124713537,113536561,125043188,111414779,124951195,123434563,123434876,109589528,119553486,120022443,73188070,125622189,125625558,124203417,121677635,87888882,95510908,117477667,125629501,122346140,120638426,125371258,123462749,125606647,125606382,125606084,125605502,125605145,125604883,125604060,125603405,125602747,125602394,125603614,125604623,125631889,125625564,125624181,125504114,123397745,101285862,123611060,125376973,86152968,119996605,122575836,125636262,105391056,125543109,111835989,109178313,123390810,119783159,101582247,125636797,124258685,116931998,79556618,123465285,124828024,87379719,125600530,125646180,125583440,124902313,125043741,114656146,124894555,109528278,96196400,125656094,87116721,92133858,106995454,125413248,115882787,123975283,120636775,124652005,121605919,125505088,125504849,116263147,104302835,114799868,125442531,119167920,119164363,55745342,120916246,124302863,121706519,125192476,125053209,125052423,125343350,121139072,122228009,123607590,104855759,122667869,122669828,116945436,124876260,125215525,124870610,125558946,124140479,125218978,125560961,125460410,116505271,122862286,125636369,125624998,125623364,125622415,125214665,122944102,125586523,111952148,125677665,71089516,125556591,125678756,117717381,117831810,124396395,75331711,122735095,105160200,97654056,125630164,125601722,52257536,125684959,125684540,125236855,112040021,124780265,125656547,73114234,109331442,83157266,116577207,125689878,116576868,123508954,101102076,125692499,125663439,125694917,125688747,110914894,125503765,114498720,117262102,124286992,124287493,124290394,125692293,124290310,124287939,125682261,124841155,125375179,123381669,125505186,125424758,125268897,125327952,116574217,116621093,124415426,123417542,118181318,117271877,122301461,122995294,118996281,125231563,119225899,119167104,124400793,123033516,125392783,125410211,123275590,122199982,121063232,111820126,125390534,108841316,125726998,125502311,125515512,60994436,125515883,116593460,125713238,125210105,125062978,58911399,124951347,125500639,102889116,124398390,124629535,121963235,120382359,120904567,107885058,98045948,125472096,125337810,115559976,123508982,116505635,125204035,92231868,99708634,120865658,89894034,89804447,89561402,68794494,122425431,108612254,111461750,125504965,125573766,125707724,125667318,122693411,90640634,124129434,125505280,121993583,125374868,123559878,123489122,125583574,110191595,120890035,122990637,124510326,125770781,115810789,108651872,109333281,125302304,125776031,125724525,114846594,125738546,98807536,125722394,125720588,125720871,124966584,110636597,124739779,125754656,104268692,109921080,53540378,53536015,116135711,125743729,88067819,114229214,125381563,125381476,125775636,125775468,125775809,125486900,125506129,95440931,125799318,125800951,125802296,123771087,125803655,125804268,123711999,125756626,116891145,87157726,125667166,118847112,100089500,57895412,125803023,120040749,125071461,125808357,125808813,125810184,124991212,125422138,115603751,120370110,93199250,125819390,104515999,108905614,104270825,124216960,114305389,125734957,124995676,125821586,125821115,124789934,123200146,113875661,103960681,109708029,125827656,117358756,117152245,125504213,85136537,123088064,55259316,116904592,125680667,123463460,108649632,108646841,108643786,123464221,123463703,112704093,118798811,108652118,117282691,125843403,104272169,108841181,113778722,125849076,123518886,123519036,123519111,123509038,123509093,123509132,125674640,114272270,125858371,123558352,118447485,70089192,125860323]\n",
    "str_power_up = ','.join('\\'' + str(x) + '\\'' for x in power_up)"
   ]
  },
  {
   "cell_type": "code",
   "execution_count": 3,
   "metadata": {},
   "outputs": [
    {
     "name": "stderr",
     "output_type": "stream",
     "text": [
      "/Users/emilyPark/.pyenv/versions/3.7.5/envs/bun-analytics/lib/python3.7/site-packages/pymysql/cursors.py:170: Warning: (1292, \"Truncated incorrect DOUBLE value: 'ALL'\")\n",
      "  result = self._query(query)\n"
     ]
    }
   ],
   "source": [
    "query = f\"\"\"SELECT\n",
    "                    p.id\n",
    "                  , p.uid\n",
    "                  , p.status AS status\n",
    "                  , p.price\n",
    "                  , pd.description\n",
    "                  , p.flag_used AS used\n",
    "                  , p.flag_taekpo AS free_shipping\n",
    "                  , p.flag_exchg AS exchange\n",
    "                  , p.category_id\n",
    "                  , p.enc_location\n",
    "                  , p.enc_latitude\n",
    "                  , p.enc_longitude\n",
    "                  , p.name\n",
    "                  , p.create_date\n",
    "                  , p.m_time\n",
    "                  , p.s3_storage\n",
    "                  , p.keyword AS keywords\n",
    "                  , c.name AS category_name\n",
    "                  , IFNULL(pu.register_date, now()) AS update_time\n",
    "                  , ps.extended_spec\n",
    "                  , IFNULL(pe.interest, 0) AS view_count\n",
    "                  , IFNULL(pe.pfavcnt, 0) AS favorite_count\n",
    "                  , pe.comment_cnt AS comment_count\n",
    "                  , pe.is_adult AS adult\n",
    "                  , pe.ptranscnt AS contact_count\n",
    "                  , IF(cs.is_removed = 0, 1, 0) AS checkout\n",
    "                  , IFNULL(ub.bizlicense, 0) AS by_bizseller\n",
    "                  , p.modified_at\n",
    "                  , ps.updated AS modified_at_ps\n",
    "                  , cs.modified_at AS modified_at_cs\n",
    "                  , su.status AS super_up_status\n",
    "                  , IF(su.status=2 AND su.type = 1, (SELECT sul.enable FROM ad_super_up_lite_group sul WHERE sul.suid = su.suid), IF(su.status=2, 1, 0)) is_display_super_up\n",
    "                  , IFNULL(suspd.idx, 0)*IFNULL(sus.sus_id, 0)*IFNULL(suspd.on_off, 0) as is_super_up_shop\n",
    "                  , IFNULL(suspd.on_off, -1) as is_displayable_super_up_shop\n",
    "                  , IFNULL(es365.product_reported_count, 0) product_reported_count_365\n",
    "                  , IFNULL(es365.shop_reported_count, 0) shop_reported_count_365\n",
    "                  , IFNULL(es365.review_reported_count + es365.review_reply_reported_count, 0) review_reported_count_365\n",
    "                  , IFNULL(es365.comment_reported_count, 0) comment_reported_count_365\n",
    "                  , IFNULL(es365.group_post_reported_count, 0) group_post_reported_count_365\n",
    "                  , IFNULL(es90.product_reported_count, 0) product_reported_count_90\n",
    "                  , IFNULL(es90.shop_reported_count, 0) shop_reported_count_90\n",
    "                  , IFNULL(es90.review_reported_count + es90.review_reply_reported_count, 0) review_reported_count_90\n",
    "                  , IFNULL(es90.comment_reported_count, 0) comment_reported_count_90\n",
    "                  , IFNULL(es90.group_post_reported_count, 0) group_post_reported_count_90\n",
    "                  , IFNULL(es30.product_reported_count, 0) product_reported_count_30\n",
    "                  , IFNULL(es30.shop_reported_count, 0) shop_reported_count_30\n",
    "                  , IFNULL(es30.review_reported_count + es30.review_reply_reported_count, 0) review_reported_count_30\n",
    "                  , IFNULL(es30.comment_reported_count, 0) comment_reported_count_30\n",
    "                  , IFNULL(es30.group_post_reported_count, 0) group_post_reported_count_30\n",
    "                  , outlink.outlink_url\n",
    "                  , IFNULL(pc.contact_hope, 0) contact\n",
    "                  , IFNULL(pn.display_on_neighborhood, 0) as neighborhood\n",
    "FROM\n",
    "                    product_info p\n",
    "                    LEFT JOIN product_up pu ON p.id = pu.pid\n",
    "                    LEFT JOIN product_spec_json ps ON p.id = ps.pid\n",
    "                    LEFT JOIN product_description pd ON p.id = pd.pid\n",
    "                    LEFT JOIN product_ext pe ON p.id = pe.pid\n",
    "                    LEFT JOIN checkout_status cs ON p.id = cs.pid\n",
    "                    LEFT JOIN user_bizlicense ub ON p.uid = ub.uid\n",
    "                    LEFT JOIN product_outlink outlink ON p.id = outlink.pid\n",
    "                    LEFT JOIN product_contact_option pc ON p.id = pc.pid\n",
    "                    LEFT JOIN ad_super_up su ON p.id = su.pid AND su.status = 2 AND EXISTS (SELECT 1 FROM ad_super_up_point spu WHERE su.suid = spu.suid AND now() BETWEEN start_at AND end_at)\n",
    "                    LEFT JOIN ad_super_up_shop sus ON p.uid = sus.uid AND now() BETWEEN sus.start_at AND sus.end_at AND sus.status=2\n",
    "                    LEFT JOIN ad_super_up_shop_products suspd on p.id=suspd.pid and sus.sus_id=suspd.sus_id\n",
    "                    LEFT JOIN emergency_uniq_stats es30 ON p.uid = es30.uid AND es30.period = 30\n",
    "                    LEFT JOIN emergency_uniq_stats es90 ON p.uid = es90.uid AND es90.period = 90\n",
    "                    LEFT JOIN emergency_uniq_stats es365 ON p.uid = es365.uid AND es365.period = 365\n",
    "                    LEFT JOIN product_neighborhood pn ON p.id = pn.pid\n",
    "                    LEFT JOIN categories c ON c.category = p.category_id\n",
    "WHERE p.id IN ({str_power_up});\"\"\"\n",
    "\n",
    "df = pd.read_sql(query, con=db_slave)"
   ]
  },
  {
   "cell_type": "code",
   "execution_count": 4,
   "metadata": {},
   "outputs": [],
   "source": [
    "product_template = {\n",
    "  \"category\": {\n",
    "    \"name\": \"\",\n",
    "    \"level1\": \"\",\n",
    "    \"level2\": \"\",\n",
    "    \"level3\": \"\"\n",
    "  },\n",
    "  \"createdAt\": \"\",\n",
    "  \"description\": \"\",\n",
    "  \"modifiedAt\": \"\",\n",
    "  \"id\": 0,\n",
    "  \"keywords\": \"\",\n",
    "  \"location\": {\n",
    "    \"name\": \"\",\n",
    "    \"coords\": {\n",
    "        \"lat\": 0.0,\n",
    "        \"lon\": 0.0\n",
    "    }\n",
    "  },\n",
    "  \"m_time\": 0,\n",
    "  \"meta\": {\n",
    "    \"adult\": 0,\n",
    "    \"contact\": 0,\n",
    "    \"display\": \"\",\n",
    "    \"exchange\": 0,\n",
    "    \"freeShipping\": 0,\n",
    "    \"used\": 0\n",
    "  },\n",
    "  \"metrics\": {\n",
    "    \"commentCount\": 0,\n",
    "    \"contactCount\": 0,\n",
    "    \"favoriteCount\": 0,\n",
    "    \"viewCount\": 0,\n",
    "    \"impressionCount\": 0,\n",
    "    \"ctr\": 0.0\n",
    "  },\n",
    "  \"name\": \"\",\n",
    "  \"price\": 0,\n",
    "  \"status\": 0,\n",
    "  \"updatedAt\": \"\",\n",
    "  \"user\": {\n",
    "    \"uid\": 0,\n",
    "    \"reportScore\": 0.0\n",
    "  },\n",
    "  \"campaign\": {\n",
    "    \"type\": \"NEW_CAMPAIGN\",\n",
    "    \"id\": 0,\n",
    "    \"status\": 0,\n",
    "    \"startAt\": \"20200528000000\",\n",
    "    \"endAt\": \"99991231235959\",\n",
    "    \"budget\": 0,\n",
    "    \"maxCpc\": 0,\n",
    "  }\n",
    "}"
   ]
  },
  {
   "cell_type": "markdown",
   "metadata": {},
   "source": [
    "# 2-1. 클릭 수 수집"
   ]
  },
  {
   "cell_type": "code",
   "execution_count": 4,
   "metadata": {},
   "outputs": [],
   "source": [
    "query = f\"\"\"\n",
    "SELECT content_id, count(*) FROM bun_log_db.app_event_type_view\n",
    "WHERE content_id IN (\n",
    "SELECT CAST(id as varchar) FROM (\n",
    "SELECT CASE WHEN id ~ '^[0-9]+$' then id else null end as id  FROM service1_quicket.product_info\n",
    "WHERE create_date BETWEEN '2020-05-28 00:00:00' AND '2020-05-31 23:59:59')) AND YEAR||MONTH||DAY >= '20200528' AND YEAR||MONTH||DAY <= '20200531'\n",
    "AND user_id != content_owner\n",
    "GROUP BY content_id;\n",
    "\"\"\"\n",
    "\n",
    "view_df = pd.read_sql(query, con=bun_analytics)"
   ]
  },
  {
   "cell_type": "markdown",
   "metadata": {},
   "source": [
    "# 2-2. 노출 수 수집"
   ]
  },
  {
   "cell_type": "code",
   "execution_count": 5,
   "metadata": {},
   "outputs": [],
   "source": [
    "query = f\"\"\"\n",
    "SELECT content_id, count(*) FROM bun_log_db.app_event_type_impression\n",
    "WHERE content_id IN (\n",
    "SELECT CAST(id as varchar) FROM (\n",
    "SELECT CASE WHEN id ~ '^[0-9]+$' then id else null end as id  FROM service1_quicket.product_info\n",
    "WHERE create_date BETWEEN '2020-05-28 00:00:00' AND '2020-05-31 23:59:59')) AND YEAR||MONTH||DAY >= '20200528' AND YEAR||MONTH||DAY <= '20200531'\n",
    "AND user_id != content_owner\n",
    "GROUP BY content_id;\n",
    "\"\"\"\n",
    "\n",
    "imp_df = pd.read_sql(query, con=bun_analytics)"
   ]
  },
  {
   "cell_type": "code",
   "execution_count": 6,
   "metadata": {},
   "outputs": [],
   "source": [
    "imp_dict = imp_df.groupby('content_id')['count'].apply(int).to_dict()\n",
    "view_dict = view_df.groupby('content_id')['count'].apply(int).to_dict()"
   ]
  },
  {
   "cell_type": "markdown",
   "metadata": {},
   "source": [
    "# 2-3. 신고 점수 계산"
   ]
  },
  {
   "cell_type": "code",
   "execution_count": 7,
   "metadata": {},
   "outputs": [],
   "source": [
    "from sklearn.preprocessing import MinMaxScaler\n",
    "scaler = MinMaxScaler()\n",
    "df[['comment_reported_count_30', 'comment_reported_count_90', 'comment_reported_count_365']] = scaler.fit_transform(df[['comment_reported_count_30', 'comment_reported_count_90','comment_reported_count_365']].to_numpy())\n",
    "df[['review_reported_count_30', 'review_reported_count_90', 'review_reported_count_365']] = scaler.fit_transform(df[['review_reported_count_30', 'review_reported_count_90','review_reported_count_365']].to_numpy())\n",
    "df[['shop_reported_count_30', 'shop_reported_count_90', 'shop_reported_count_365']] = scaler.fit_transform(df[['shop_reported_count_30', 'shop_reported_count_90','shop_reported_count_365']].to_numpy())\n",
    "df[['product_reported_count_30', 'product_reported_count_90', 'product_reported_count_365']] = scaler.fit_transform(df[['product_reported_count_30', 'product_reported_count_90','product_reported_count_365']].to_numpy())"
   ]
  },
  {
   "cell_type": "code",
   "execution_count": 8,
   "metadata": {},
   "outputs": [],
   "source": [
    "df['reported_count_30'] = round((df['comment_reported_count_30'] + df['review_reported_count_30'] + df['shop_reported_count_30'] + df['product_reported_count_30']) * 0.6, 6)\n",
    "df['reported_count_90'] = round((df['comment_reported_count_90'] + df['review_reported_count_90'] + df['shop_reported_count_90'] + df['product_reported_count_90']) * 0.25, 6)\n",
    "df['reported_count_365'] = round((df['comment_reported_count_365'] + df['review_reported_count_365'] + df['shop_reported_count_365'] + df['product_reported_count_365']) * 0.15, 6)\n",
    "\n",
    "df['report_score'] = round(df['reported_count_30'] + df['reported_count_90'] + df['reported_count_365'], 6)"
   ]
  },
  {
   "cell_type": "code",
   "execution_count": 10,
   "metadata": {},
   "outputs": [
    {
     "data": {
      "text/plain": [
       "Index(['id', 'uid', 'status', 'price', 'description', 'used', 'free_shipping',\n",
       "       'exchange', 'category_id', 'enc_location', 'enc_latitude',\n",
       "       'enc_longitude', 'name', 'create_date', 'm_time', 's3_storage',\n",
       "       'keywords', 'category_name', 'update_time', 'extended_spec',\n",
       "       'view_count', 'favorite_count', 'comment_count', 'adult',\n",
       "       'contact_count', 'checkout', 'by_bizseller', 'modified_at',\n",
       "       'modified_at_ps', 'modified_at_cs', 'super_up_status',\n",
       "       'is_display_super_up', 'is_super_up_shop',\n",
       "       'is_displayable_super_up_shop', 'product_reported_count_365',\n",
       "       'shop_reported_count_365', 'review_reported_count_365',\n",
       "       'comment_reported_count_365', 'group_post_reported_count_365',\n",
       "       'product_reported_count_90', 'shop_reported_count_90',\n",
       "       'review_reported_count_90', 'comment_reported_count_90',\n",
       "       'group_post_reported_count_90', 'product_reported_count_30',\n",
       "       'shop_reported_count_30', 'review_reported_count_30',\n",
       "       'comment_reported_count_30', 'group_post_reported_count_30',\n",
       "       'outlink_url', 'contact', 'neighborhood', 'reported_count_30',\n",
       "       'reported_count_90', 'reported_count_365', 'report_score'],\n",
       "      dtype='object')"
      ]
     },
     "execution_count": 10,
     "metadata": {},
     "output_type": "execute_result"
    }
   ],
   "source": [
    "df.columns"
   ]
  },
  {
   "cell_type": "markdown",
   "metadata": {},
   "source": [
    "# 3. ES 벌크 데이터로 변환후 삽입"
   ]
  },
  {
   "cell_type": "code",
   "execution_count": 11,
   "metadata": {},
   "outputs": [],
   "source": [
    "from datetime import datetime\n",
    "from time import sleep\n",
    "import requests\n",
    "import json\n",
    "from random import randint\n",
    "\n",
    "headers = {'Content-type': 'application/json', 'Accept': 'text/plain'}"
   ]
  },
  {
   "cell_type": "code",
   "execution_count": 12,
   "metadata": {},
   "outputs": [],
   "source": [
    "def make_header(index, _id):\n",
    "    return '{\"index\": {\"_index\": \"%s\", \"_id\": \"%s\"}}\\n' % (index, _id)"
   ]
  },
  {
   "cell_type": "code",
   "execution_count": 13,
   "metadata": {},
   "outputs": [],
   "source": [
    "es_bulk_data = str()\n",
    "index_name = \"campaign\"\n",
    "for idx, row in df.iterrows():\n",
    "    \n",
    "    product_template['category']['name'] = row['category_name']\n",
    "    product_template['category']['level1'] = str(row['category_id'])[:3]\n",
    "    product_template['category']['level2'] = str(row['category_id'])[3:6]\n",
    "    product_template['category']['level3'] = str(row['category_id'])[-3:]\n",
    "    \n",
    "    product_template['createdAt'] = datetime.strftime(row['create_date'], '%Y%m%d%H%M%S')\n",
    "    product_template['description'] = \"\"\n",
    "    product_template['modifiedAt'] = datetime.strftime(row['modified_at'], '%Y%m%d%H%M%S')\n",
    "    product_template['id'] = row['id']\n",
    "    product_template['keywords'] = row['keywords']\n",
    "\n",
    "    product_template['m_time'] = row['m_time']\n",
    "\n",
    "    product_template['meta']['adult'] = row['adult']\n",
    "    product_template['meta']['contact'] = row['contact']\n",
    "    product_template['meta']['display'] = \"None\"\n",
    "    product_template['meta']['exchange'] = row['exchange']\n",
    "    product_template['meta']['freeShipping'] = row['free_shipping']\n",
    "    product_template['meta']['used'] = row['used']\n",
    "    \n",
    "    product_template['metrics']['commentCount'] = row['comment_count']\n",
    "    product_template['metrics']['contactCount'] = row['contact_count']\n",
    "    product_template['metrics']['favoriteCount'] = row['favorite_count']\n",
    "    view_count = view_dict.get(str(row['id']), 0)\n",
    "    imp_count = imp_dict.get(str(row['id']), 0)\n",
    "    if imp_count > 0:\n",
    "        ctr = round(view_count / imp_count, 4)\n",
    "    else:\n",
    "        ctr = 0.0000\n",
    "    product_template['metrics']['viewCount'] = view_count\n",
    "    product_template['metrics']['impressionCount'] = imp_count\n",
    "\n",
    "    product_template['metrics']['ctr'] = ctr\n",
    "    \n",
    "    product_template['name'] = row['name']\n",
    "    product_template['price'] = row['price']\n",
    "    product_template['status'] = row['status']\n",
    "    product_template['updatedAt'] = datetime.strftime(row['update_time'], '%Y%m%d%H%M%S')\n",
    "    \n",
    "    product_template['user']['uid'] = row['uid']\n",
    "    product_template['user']['reportScore'] = row['report_score']\n",
    "    \n",
    "    product_template['campaign']['budget'] = randint(8000, 1000000)\n",
    "    product_template['campaign']['maxCpc'] = randint(80, 1500)\n",
    "    \n",
    "    query_headers = make_header(index_name, row['id'])\n",
    "    es_bulk_data += query_headers + json.dumps(product_template) + \"\\n\"\n",
    "    \n",
    "#     if idx % 1000 == 0:\n",
    "requests.post(url=\"http://127.0.0.1:9200/product/_bulk\", \n",
    "              data=es_bulk_data, \n",
    "              headers=headers)\n",
    "es_bulk_data = str()"
   ]
  },
  {
   "cell_type": "code",
   "execution_count": 9,
   "metadata": {},
   "outputs": [],
   "source": [
    "view_df = {}\n",
    "ids = []\n",
    "view_cnt = []\n",
    "for i in view_dict.keys():\n",
    "    ids.append(i)\n",
    "    view_cnt.append(view_dict.get(i))\n",
    "view_df['id'] = ids\n",
    "view_df['view_cnt'] = view_cnt\n",
    "view_df = pd.DataFrame.from_dict(view_df)"
   ]
  },
  {
   "cell_type": "code",
   "execution_count": 10,
   "metadata": {},
   "outputs": [],
   "source": [
    "imp_df = {}\n",
    "ids = []\n",
    "imp_cnt = []\n",
    "for i in imp_dict.keys():\n",
    "    ids.append(i)\n",
    "    imp_cnt.append(imp_dict.get(i))\n",
    "imp_df['id'] = ids\n",
    "imp_df['imp_cnt'] = imp_cnt\n",
    "imp_df = pd.DataFrame.from_dict(imp_df)"
   ]
  },
  {
   "cell_type": "code",
   "execution_count": 11,
   "metadata": {},
   "outputs": [
    {
     "data": {
      "text/html": [
       "<div>\n",
       "<style scoped>\n",
       "    .dataframe tbody tr th:only-of-type {\n",
       "        vertical-align: middle;\n",
       "    }\n",
       "\n",
       "    .dataframe tbody tr th {\n",
       "        vertical-align: top;\n",
       "    }\n",
       "\n",
       "    .dataframe thead th {\n",
       "        text-align: right;\n",
       "    }\n",
       "</style>\n",
       "<table border=\"1\" class=\"dataframe\">\n",
       "  <thead>\n",
       "    <tr style=\"text-align: right;\">\n",
       "      <th></th>\n",
       "      <th>id</th>\n",
       "      <th>view_cnt</th>\n",
       "      <th>imp_cnt</th>\n",
       "    </tr>\n",
       "  </thead>\n",
       "  <tbody>\n",
       "    <tr>\n",
       "      <th>0</th>\n",
       "      <td>125583500</td>\n",
       "      <td>16.0</td>\n",
       "      <td>555.0</td>\n",
       "    </tr>\n",
       "    <tr>\n",
       "      <th>1</th>\n",
       "      <td>125583501</td>\n",
       "      <td>6.0</td>\n",
       "      <td>77.0</td>\n",
       "    </tr>\n",
       "    <tr>\n",
       "      <th>2</th>\n",
       "      <td>125583502</td>\n",
       "      <td>1.0</td>\n",
       "      <td>8.0</td>\n",
       "    </tr>\n",
       "    <tr>\n",
       "      <th>3</th>\n",
       "      <td>125583503</td>\n",
       "      <td>2.0</td>\n",
       "      <td>46.0</td>\n",
       "    </tr>\n",
       "    <tr>\n",
       "      <th>4</th>\n",
       "      <td>125583504</td>\n",
       "      <td>10.0</td>\n",
       "      <td>1286.0</td>\n",
       "    </tr>\n",
       "  </tbody>\n",
       "</table>\n",
       "</div>"
      ],
      "text/plain": [
       "          id  view_cnt  imp_cnt\n",
       "0  125583500      16.0    555.0\n",
       "1  125583501       6.0     77.0\n",
       "2  125583502       1.0      8.0\n",
       "3  125583503       2.0     46.0\n",
       "4  125583504      10.0   1286.0"
      ]
     },
     "execution_count": 11,
     "metadata": {},
     "output_type": "execute_result"
    }
   ],
   "source": [
    "ctr = pd.merge(view_df, imp_df, on='id', how='outer')\n",
    "ctr.head()"
   ]
  },
  {
   "cell_type": "code",
   "execution_count": 12,
   "metadata": {},
   "outputs": [],
   "source": [
    "c = []\n",
    "for i in range(len(ctr)):\n",
    "    row = ctr.iloc[i]\n",
    "    if row['imp_cnt'] > 0:\n",
    "        c.append(round(row['view_cnt']/row['imp_cnt'], 4))\n",
    "    else:\n",
    "        c.append(0)\n",
    "ctr['ctr'] = c"
   ]
  },
  {
   "cell_type": "code",
   "execution_count": 13,
   "metadata": {},
   "outputs": [],
   "source": [
    "ctr = ctr.fillna(0)"
   ]
  },
  {
   "cell_type": "code",
   "execution_count": 14,
   "metadata": {},
   "outputs": [],
   "source": [
    "df['id'] = df['id'].astype(str)\n",
    "ctr['id'] = ctr['id'].astype(str)\n",
    "data = pd.merge(df, ctr, on='id')"
   ]
  },
  {
   "cell_type": "code",
   "execution_count": 15,
   "metadata": {},
   "outputs": [],
   "source": [
    "level1 = []\n",
    "for i in data['category_id']:\n",
    "    level1.append(i[:3])\n",
    "data['category_level1'] = level1"
   ]
  },
  {
   "cell_type": "code",
   "execution_count": 16,
   "metadata": {},
   "outputs": [
    {
     "data": {
      "text/plain": [
       "Index(['id', 'uid', 'status', 'price', 'description', 'used', 'free_shipping',\n",
       "       'exchange', 'category_id', 'enc_location', 'enc_latitude',\n",
       "       'enc_longitude', 'name', 'create_date', 'm_time', 's3_storage',\n",
       "       'keywords', 'category_name', 'update_time', 'extended_spec',\n",
       "       'view_count', 'favorite_count', 'comment_count', 'adult',\n",
       "       'contact_count', 'checkout', 'by_bizseller', 'modified_at',\n",
       "       'modified_at_ps', 'modified_at_cs', 'super_up_status',\n",
       "       'is_display_super_up', 'is_super_up_shop',\n",
       "       'is_displayable_super_up_shop', 'product_reported_count_365',\n",
       "       'shop_reported_count_365', 'review_reported_count_365',\n",
       "       'comment_reported_count_365', 'group_post_reported_count_365',\n",
       "       'product_reported_count_90', 'shop_reported_count_90',\n",
       "       'review_reported_count_90', 'comment_reported_count_90',\n",
       "       'group_post_reported_count_90', 'product_reported_count_30',\n",
       "       'shop_reported_count_30', 'review_reported_count_30',\n",
       "       'comment_reported_count_30', 'group_post_reported_count_30',\n",
       "       'outlink_url', 'contact', 'neighborhood', 'reported_count_30',\n",
       "       'reported_count_90', 'reported_count_365', 'report_score', 'view_cnt',\n",
       "       'imp_cnt', 'ctr', 'category_level1'],\n",
       "      dtype='object')"
      ]
     },
     "execution_count": 16,
     "metadata": {},
     "output_type": "execute_result"
    }
   ],
   "source": [
    "data.columns"
   ]
  },
  {
   "cell_type": "code",
   "execution_count": 18,
   "metadata": {},
   "outputs": [],
   "source": [
    "from random import randint\n",
    "\n",
    "budget = []\n",
    "max_cpc = []\n",
    "for i in range(len(data)):\n",
    "    budget.append(randint(8000, 1000000))\n",
    "    max_cpc.append(randint(80, 1500))"
   ]
  },
  {
   "cell_type": "code",
   "execution_count": 19,
   "metadata": {},
   "outputs": [],
   "source": [
    "data['budget'] = budget\n",
    "data['max_cpc'] = max_cpc"
   ]
  },
  {
   "cell_type": "code",
   "execution_count": 20,
   "metadata": {},
   "outputs": [],
   "source": [
    "data = data[['id', 'name', 'price', 'status', 'exchange', 'contact', 'free_shipping', 'used', 'adult', 'uid', 'report_score', 'keywords', 'update_time', 'category_level1', 'comment_count', 'view_cnt', 'imp_cnt', 'ctr', 'favorite_count', 'contact_count', 'budget', 'max_cpc']]"
   ]
  },
  {
   "cell_type": "code",
   "execution_count": 21,
   "metadata": {},
   "outputs": [],
   "source": [
    "data.to_csv('ad_products.csv', index=False)"
   ]
  },
  {
   "cell_type": "code",
   "execution_count": null,
   "metadata": {},
   "outputs": [],
   "source": []
  }
 ],
 "metadata": {
  "kernelspec": {
   "display_name": "Python 3",
   "language": "python",
   "name": "python3"
  },
  "language_info": {
   "codemirror_mode": {
    "name": "ipython",
    "version": 3
   },
   "file_extension": ".py",
   "mimetype": "text/x-python",
   "name": "python",
   "nbconvert_exporter": "python",
   "pygments_lexer": "ipython3",
   "version": "3.7.5"
  }
 },
 "nbformat": 4,
 "nbformat_minor": 2
}