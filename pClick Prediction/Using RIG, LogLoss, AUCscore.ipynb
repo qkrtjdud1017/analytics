{
 "cells": [
  {
   "cell_type": "code",
   "execution_count": 1,
   "metadata": {},
   "outputs": [],
   "source": [
    "import pandas as pd\n",
    "from sqlalchemy import create_engine\n",
    "from sqlalchemy.pool import NullPool\n",
    "import matplotlib as plt\n",
    "import matplotlib.pylab as plt\n",
    "import seaborn as sns\n",
    "import numpy as np\n",
    "\n",
    "from sklearn import preprocessing\n",
    "from sklearn.model_selection import train_test_split, RandomizedSearchCV\n",
    "import lightgbm as lgb\n",
    "from sklearn.linear_model import LogisticRegression\n",
    "from sklearn.linear_model import LinearRegression\n",
    "from sklearn.ensemble import RandomForestClassifier\n",
    "from xgboost.sklearn import XGBClassifier\n",
    "from sklearn import model_selection\n",
    "from sklearn.metrics import f1_score, recall_score, precision_score, accuracy_score, roc_auc_score, log_loss, brier_score_loss, classification_report,confusion_matrix\n"
   ]
  },
  {
   "cell_type": "code",
   "execution_count": 2,
   "metadata": {},
   "outputs": [],
   "source": [
    "df = pd.read_csv('oneday_df.csv')"
   ]
  },
  {
   "cell_type": "code",
   "execution_count": 35,
   "metadata": {},
   "outputs": [],
   "source": [
    "sparse = ['hour', 'imp_content_position', 'imp_page_id', 'imp_ref_page_id', \n",
    "          'imp_ref_source', 'user_sex', 'user_age', 'content_category_id']\n",
    "dense = ['user_following_cnt', 'user_bunpay_count', 'owner_grade', 'owner_item_count',\n",
    "         'owner_interest', 'owner_follower_cnt', 'owner_bunpay_count', 'content_price',\n",
    "        'content_emergency_cnt', 'content_comment_cnt', 'content_interest', 'content_pfavcnt']\n",
    "features = sparse + dense"
   ]
  },
  {
   "cell_type": "code",
   "execution_count": 4,
   "metadata": {},
   "outputs": [],
   "source": [
    "for s in sparse:\n",
    "    df[s] = df[s].fillna('-1')\n",
    "    df[s] = preprocessing.LabelEncoder().fit_transform(df[s])\n",
    "for d in dense:\n",
    "    df[d] = df[d].fillna(0)\n",
    "# Normalization\n",
    "# df[dense] = preprocessing.MinMaxScaler(feature_range = (0, 1)).fit_transform(df[dense])"
   ]
  },
  {
   "cell_type": "code",
   "execution_count": 5,
   "metadata": {},
   "outputs": [],
   "source": [
    "df = df[features + ['label']]"
   ]
  },
  {
   "cell_type": "code",
   "execution_count": 6,
   "metadata": {},
   "outputs": [
    {
     "name": "stdout",
     "output_type": "stream",
     "text": [
      "data shape: (3077366, 21)\n",
      "Overall CTR: 0.0314\n"
     ]
    }
   ],
   "source": [
    "print('data shape:', df.shape)\n",
    "print('Overall CTR:', round(len(df[df['label'] == 1])/len(df), 4))"
   ]
  },
  {
   "cell_type": "markdown",
   "metadata": {},
   "source": [
    "### LightGBM"
   ]
  },
  {
   "cell_type": "markdown",
   "metadata": {},
   "source": [
    "#### sampling n = 1m"
   ]
  },
  {
   "cell_type": "code",
   "execution_count": 15,
   "metadata": {},
   "outputs": [],
   "source": [
    "data = df.sample(n=1000000)\n",
    "train, test = train_test_split(data, test_size = 0.2)\n",
    "train, valid = train_test_split(train, test_size = 0.2)\n",
    "train_data = lgb.Dataset(train[features], label=train['label'], feature_name = features, categorical_feature=sparse)\n",
    "validation_data = lgb.Dataset(valid[features], label=valid['label'], feature_name = features, categorical_feature=sparse)\n",
    "test_data = lgb.Dataset(test[features], label=test['label'], feature_name = features, categorical_feature=sparse)"
   ]
  },
  {
   "cell_type": "code",
   "execution_count": 16,
   "metadata": {},
   "outputs": [
    {
     "name": "stderr",
     "output_type": "stream",
     "text": [
      "/Users/emilyPark/.pyenv/versions/bun-analytics/lib/python3.7/site-packages/lightgbm/basic.py:1291: UserWarning: Using categorical_feature in Dataset.\n",
      "  warnings.warn('Using categorical_feature in Dataset.')\n"
     ]
    },
    {
     "name": "stdout",
     "output_type": "stream",
     "text": [
      "[1]\tvalid_0's auc: 0.634115\tvalid_0's binary_logloss: 0.138678\n",
      "[2]\tvalid_0's auc: 0.640774\tvalid_0's binary_logloss: 0.137901\n",
      "[3]\tvalid_0's auc: 0.647045\tvalid_0's binary_logloss: 0.137286\n",
      "[4]\tvalid_0's auc: 0.651074\tvalid_0's binary_logloss: 0.136794\n",
      "[5]\tvalid_0's auc: 0.651595\tvalid_0's binary_logloss: 0.136409\n",
      "[6]\tvalid_0's auc: 0.654329\tvalid_0's binary_logloss: 0.136065\n",
      "[7]\tvalid_0's auc: 0.65512\tvalid_0's binary_logloss: 0.135821\n",
      "[8]\tvalid_0's auc: 0.655523\tvalid_0's binary_logloss: 0.135611\n",
      "[9]\tvalid_0's auc: 0.655212\tvalid_0's binary_logloss: 0.135459\n",
      "[10]\tvalid_0's auc: 0.656378\tvalid_0's binary_logloss: 0.135291\n"
     ]
    }
   ],
   "source": [
    "param = {\n",
    "    'objective': 'binary', \n",
    "    'metric': ['auc', 'binary_logloss']\n",
    "}\n",
    "\n",
    "num_round = 10\n",
    "bst = lgb.train(param, train_data, num_round, valid_sets=[validation_data])"
   ]
  },
  {
   "cell_type": "code",
   "execution_count": 22,
   "metadata": {},
   "outputs": [
    {
     "name": "stdout",
     "output_type": "stream",
     "text": [
      "log_loss: 0.13646385192475313\n",
      "brier_score_loss: 0.030467354330201608\n",
      "============================================================\n",
      "classification report:\n"
     ]
    },
    {
     "name": "stderr",
     "output_type": "stream",
     "text": [
      "/Users/emilyPark/.pyenv/versions/bun-analytics/lib/python3.7/site-packages/sklearn/metrics/_classification.py:1272: UndefinedMetricWarning: Precision and F-score are ill-defined and being set to 0.0 in labels with no predicted samples. Use `zero_division` parameter to control this behavior.\n",
      "  _warn_prf(average, modifier, msg_start, len(result))\n"
     ]
    },
    {
     "name": "stdout",
     "output_type": "stream",
     "text": [
      "              precision    recall  f1-score   support\n",
      "\n",
      "           0       0.97      1.00      0.98    193637\n",
      "           1       0.00      0.00      0.00      6363\n",
      "\n",
      "    accuracy                           0.97    200000\n",
      "   macro avg       0.48      0.50      0.49    200000\n",
      "weighted avg       0.94      0.97      0.95    200000\n",
      "\n",
      "confusion_matrix:\n",
      "[[193637      0]\n",
      " [  6363      0]]\n"
     ]
    }
   ],
   "source": [
    "lgbm_pred = bst.predict(np.array(test[features]))\n",
    "print('log_loss:', log_loss(test['label'], lgbm_pred.tolist()))\n",
    "print('brier_score_loss:', brier_score_loss(test['label'], lgbm_pred))\n",
    "print('============================================================')\n",
    "print('classification report:')\n",
    "print(classification_report(test['label'], lgbm_pred.round()))\n",
    "print('confusion_matrix:')\n",
    "print(confusion_matrix(test['label'], lgbm_pred.round()))"
   ]
  },
  {
   "cell_type": "code",
   "execution_count": 9,
   "metadata": {},
   "outputs": [],
   "source": [
    "from scipy.stats import entropy\n",
    "def rig(p, q):\n",
    "    return (entropy(p, base=2) - entropy(p, q, base=2))/entropy(p, base=2)"
   ]
  },
  {
   "cell_type": "code",
   "execution_count": 41,
   "metadata": {},
   "outputs": [
    {
     "name": "stdout",
     "output_type": "stream",
     "text": [
      "RIG: 0.9946347616408873\n"
     ]
    }
   ],
   "source": [
    "print('RIG:', rig(lgbm_pred, [len(test[test['label'] == 1])/len(test)]*len(lgbm_pred)))"
   ]
  },
  {
   "cell_type": "code",
   "execution_count": 42,
   "metadata": {},
   "outputs": [
    {
     "data": {
      "text/plain": [
       "0.031815"
      ]
     },
     "execution_count": 42,
     "metadata": {},
     "output_type": "execute_result"
    }
   ],
   "source": [
    "len(test[test['label'] == 1])/len(test)"
   ]
  },
  {
   "cell_type": "code",
   "execution_count": 45,
   "metadata": {},
   "outputs": [
    {
     "data": {
      "text/plain": [
       "<matplotlib.axes._subplots.AxesSubplot at 0x1edc33510>"
      ]
     },
     "execution_count": 45,
     "metadata": {},
     "output_type": "execute_result"
    },
    {
     "data": {
      "image/png": "[encoded data removed]",
      "text/plain": [
       "<Figure size 432x288 with 1 Axes>"
      ]
     },
     "metadata": {
      "needs_background": "light"
     },
     "output_type": "display_data"
    }
   ],
   "source": [
    "lgb.plot_importance(bst)"
   ]
  },
  {
   "cell_type": "markdown",
   "metadata": {},
   "source": [
    "#### sampling n = 3m"
   ]
  },
  {
   "cell_type": "code",
   "execution_count": 48,
   "metadata": {},
   "outputs": [
    {
     "name": "stderr",
     "output_type": "stream",
     "text": [
      "/Users/emilyPark/.pyenv/versions/bun-analytics/lib/python3.7/site-packages/lightgbm/basic.py:1291: UserWarning: Using categorical_feature in Dataset.\n",
      "  warnings.warn('Using categorical_feature in Dataset.')\n"
     ]
    },
    {
     "name": "stdout",
     "output_type": "stream",
     "text": [
      "[1]\tvalid_0's auc: 0.648373\tvalid_0's binary_logloss: 0.139034\n",
      "[2]\tvalid_0's auc: 0.655793\tvalid_0's binary_logloss: 0.138201\n",
      "[3]\tvalid_0's auc: 0.658861\tvalid_0's binary_logloss: 0.137564\n",
      "[4]\tvalid_0's auc: 0.661382\tvalid_0's binary_logloss: 0.137048\n",
      "[5]\tvalid_0's auc: 0.662196\tvalid_0's binary_logloss: 0.136637\n",
      "[6]\tvalid_0's auc: 0.663307\tvalid_0's binary_logloss: 0.136315\n",
      "[7]\tvalid_0's auc: 0.663966\tvalid_0's binary_logloss: 0.13603\n",
      "[8]\tvalid_0's auc: 0.665636\tvalid_0's binary_logloss: 0.135775\n",
      "[9]\tvalid_0's auc: 0.666545\tvalid_0's binary_logloss: 0.135569\n",
      "[10]\tvalid_0's auc: 0.667735\tvalid_0's binary_logloss: 0.135385\n",
      "log_loss: 0.13349483632229114\n",
      "brier_score_loss: 0.02971120252966725\n",
      "RIG: 0.9954232968395924\n",
      "============================================================\n",
      "classification report:\n"
     ]
    },
    {
     "name": "stderr",
     "output_type": "stream",
     "text": [
      "/Users/emilyPark/.pyenv/versions/bun-analytics/lib/python3.7/site-packages/sklearn/metrics/_classification.py:1272: UndefinedMetricWarning: Precision and F-score are ill-defined and being set to 0.0 in labels with no predicted samples. Use `zero_division` parameter to control this behavior.\n",
      "  _warn_prf(average, modifier, msg_start, len(result))\n"
     ]
    },
    {
     "name": "stdout",
     "output_type": "stream",
     "text": [
      "              precision    recall  f1-score   support\n",
      "\n",
      "           0       0.97      1.00      0.98    581389\n",
      "           1       0.00      0.00      0.00     18611\n",
      "\n",
      "    accuracy                           0.97    600000\n",
      "   macro avg       0.48      0.50      0.49    600000\n",
      "weighted avg       0.94      0.97      0.95    600000\n",
      "\n",
      "confusion_matrix:\n",
      "[[581389      0]\n",
      " [ 18611      0]]\n"
     ]
    }
   ],
   "source": [
    "data = df.sample(n=3000000)\n",
    "train, test = train_test_split(data, test_size = 0.2)\n",
    "train, valid = train_test_split(train, test_size = 0.2)\n",
    "train_data = lgb.Dataset(train[features], label=train['label'], feature_name = features, categorical_feature=sparse)\n",
    "validation_data = lgb.Dataset(valid[features], label=valid['label'], feature_name = features, categorical_feature=sparse)\n",
    "test_data = lgb.Dataset(test[features], label=test['label'], feature_name = features, categorical_feature=sparse)\n",
    "\n",
    "param = {\n",
    "    'objective': 'binary', \n",
    "    'metric': ['auc', 'binary_logloss']\n",
    "}\n",
    "\n",
    "num_round = 10\n",
    "bst2 = lgb.train(param, train_data, num_round, valid_sets=[validation_data])\n",
    "\n",
    "lgbm_pred2 = bst2.predict(np.array(test[features]))\n",
    "print('log_loss:', log_loss(test['label'], lgbm_pred2.tolist()))\n",
    "print('brier_score_loss:', brier_score_loss(test['label'], lgbm_pred2))\n",
    "print('RIG:', rig(lgbm_pred2, [len(test[test['label'] == 1])/len(test)]*len(lgbm_pred2)))\n",
    "print('============================================================')\n",
    "print('classification report:')\n",
    "print(classification_report(test['label'], lgbm_pred2.round()))\n",
    "print('confusion_matrix:')\n",
    "print(confusion_matrix(test['label'], lgbm_pred2.round()))"
   ]
  },
  {
   "cell_type": "code",
   "execution_count": 49,
   "metadata": {},
   "outputs": [
    {
     "data": {
      "text/plain": [
       "<matplotlib.axes._subplots.AxesSubplot at 0x154fcfed0>"
      ]
     },
     "execution_count": 49,
     "metadata": {},
     "output_type": "execute_result"
    },
    {
     "data": {
      "image/png": "[encoded data removed]",
      "text/plain": [
       "<Figure size 432x288 with 1 Axes>"
      ]
     },
     "metadata": {
      "needs_background": "light"
     },
     "output_type": "display_data"
    }
   ],
   "source": [
    "lgb.plot_importance(bst2)"
   ]
  },
  {
   "cell_type": "markdown",
   "metadata": {},
   "source": [
    "#### under-sampling  \n",
    "label 1: 0 = 1: 9"
   ]
  },
  {
   "cell_type": "code",
   "execution_count": 50,
   "metadata": {
    "scrolled": false
   },
   "outputs": [
    {
     "name": "stderr",
     "output_type": "stream",
     "text": [
      "/Users/emilyPark/.pyenv/versions/bun-analytics/lib/python3.7/site-packages/lightgbm/basic.py:1291: UserWarning: Using categorical_feature in Dataset.\n",
      "  warnings.warn('Using categorical_feature in Dataset.')\n"
     ]
    },
    {
     "name": "stdout",
     "output_type": "stream",
     "text": [
      "[1]\tvalid_0's auc: 0.64245\tvalid_0's binary_logloss: 0.320218\n",
      "[2]\tvalid_0's auc: 0.654785\tvalid_0's binary_logloss: 0.317963\n",
      "[3]\tvalid_0's auc: 0.657561\tvalid_0's binary_logloss: 0.316135\n",
      "[4]\tvalid_0's auc: 0.659788\tvalid_0's binary_logloss: 0.314679\n",
      "[5]\tvalid_0's auc: 0.660853\tvalid_0's binary_logloss: 0.313448\n",
      "[6]\tvalid_0's auc: 0.661692\tvalid_0's binary_logloss: 0.31246\n",
      "[7]\tvalid_0's auc: 0.662105\tvalid_0's binary_logloss: 0.311679\n",
      "[8]\tvalid_0's auc: 0.663097\tvalid_0's binary_logloss: 0.310958\n",
      "[9]\tvalid_0's auc: 0.664346\tvalid_0's binary_logloss: 0.310312\n",
      "[10]\tvalid_0's auc: 0.66569\tvalid_0's binary_logloss: 0.309751\n",
      "log_loss: 0.3109473905500593\n",
      "brier_score_loss: 0.08707321431828136\n",
      "RIG: 0.9958488139467061\n",
      "============================================================\n",
      "classification report:\n"
     ]
    },
    {
     "name": "stderr",
     "output_type": "stream",
     "text": [
      "/Users/emilyPark/.pyenv/versions/bun-analytics/lib/python3.7/site-packages/sklearn/metrics/_classification.py:1272: UndefinedMetricWarning: Precision and F-score are ill-defined and being set to 0.0 in labels with no predicted samples. Use `zero_division` parameter to control this behavior.\n",
      "  _warn_prf(average, modifier, msg_start, len(result))\n"
     ]
    },
    {
     "name": "stdout",
     "output_type": "stream",
     "text": [
      "              precision    recall  f1-score   support\n",
      "\n",
      "           0       0.90      1.00      0.95    144044\n",
      "           1       0.00      0.00      0.00     15956\n",
      "\n",
      "    accuracy                           0.90    160000\n",
      "   macro avg       0.45      0.50      0.47    160000\n",
      "weighted avg       0.81      0.90      0.85    160000\n",
      "\n",
      "confusion_matrix:\n",
      "[[144044      0]\n",
      " [ 15956      0]]\n"
     ]
    }
   ],
   "source": [
    "n = 80000\n",
    "data = pd.concat([df[df['label'] == 1].sample(n=n), df[df['label'] == 0].sample(n=n*9)])\n",
    "train, test = train_test_split(data, test_size = 0.2)\n",
    "train, valid = train_test_split(train, test_size = 0.2)\n",
    "train_data = lgb.Dataset(train[features], label=train['label'], feature_name = features, categorical_feature=sparse)\n",
    "validation_data = lgb.Dataset(valid[features], label=valid['label'], feature_name = features, categorical_feature=sparse)\n",
    "test_data = lgb.Dataset(test[features], label=test['label'], feature_name = features, categorical_feature=sparse)\n",
    "\n",
    "param = {\n",
    "    'objective': 'binary', \n",
    "    'metric': ['auc', 'binary_logloss']\n",
    "}\n",
    "\n",
    "num_round = 10\n",
    "bst3 = lgb.train(param, train_data, num_round, valid_sets=[validation_data])\n",
    "\n",
    "lgbm_pred3 = bst3.predict(np.array(test[features]))\n",
    "print('log_loss:', log_loss(test['label'], lgbm_pred3.tolist()))\n",
    "print('brier_score_loss:', brier_score_loss(test['label'], lgbm_pred3))\n",
    "print('RIG:', rig(lgbm_pred3, [len(test[test['label'] == 1])/len(test)]*len(lgbm_pred3)))\n",
    "print('============================================================')\n",
    "print('classification report:')\n",
    "print(classification_report(test['label'], lgbm_pred3.round()))\n",
    "print('confusion_matrix:')\n",
    "print(confusion_matrix(test['label'], lgbm_pred3.round()))"
   ]
  },
  {
   "cell_type": "code",
   "execution_count": 51,
   "metadata": {},
   "outputs": [
    {
     "data": {
      "text/plain": [
       "<matplotlib.axes._subplots.AxesSubplot at 0x14983a1d0>"
      ]
     },
     "execution_count": 51,
     "metadata": {},
     "output_type": "execute_result"
    },
    {
     "data": {
      "image/png": "[encoded data removed]",
      "text/plain": [
       "<Figure size 432x288 with 1 Axes>"
      ]
     },
     "metadata": {
      "needs_background": "light"
     },
     "output_type": "display_data"
    }
   ],
   "source": [
    "lgb.plot_importance(bst3)"
   ]
  },
  {
   "cell_type": "markdown",
   "metadata": {},
   "source": [
    "#### negative sampling"
   ]
  },
  {
   "cell_type": "code",
   "execution_count": 52,
   "metadata": {},
   "outputs": [
    {
     "name": "stdout",
     "output_type": "stream",
     "text": [
      "label 1 proportion before negative sampling: 0.03151958333333333\n"
     ]
    },
    {
     "name": "stderr",
     "output_type": "stream",
     "text": [
      "/Users/emilyPark/.pyenv/versions/bun-analytics/lib/python3.7/site-packages/pandas/core/indexing.py:190: SettingWithCopyWarning: \n",
      "A value is trying to be set on a copy of a slice from a DataFrame\n",
      "\n",
      "See the caveats in the documentation: http://pandas.pydata.org/pandas-docs/stable/indexing.html#indexing-view-versus-copy\n",
      "  self._setitem_with_indexer(indexer, value)\n",
      "/Users/emilyPark/.pyenv/versions/bun-analytics/lib/python3.7/site-packages/ipykernel_launcher.py:9: SettingWithCopyWarning: \n",
      "A value is trying to be set on a copy of a slice from a DataFrame\n",
      "\n",
      "See the caveats in the documentation: http://pandas.pydata.org/pandas-docs/stable/indexing.html#indexing-view-versus-copy\n",
      "  if __name__ == '__main__':\n"
     ]
    },
    {
     "name": "stdout",
     "output_type": "stream",
     "text": [
      "label 1 proportion after negative sampling: 0.03132541666666667\n",
      "============================================================\n"
     ]
    },
    {
     "name": "stderr",
     "output_type": "stream",
     "text": [
      "/Users/emilyPark/.pyenv/versions/bun-analytics/lib/python3.7/site-packages/lightgbm/basic.py:1291: UserWarning: Using categorical_feature in Dataset.\n",
      "  warnings.warn('Using categorical_feature in Dataset.')\n"
     ]
    },
    {
     "name": "stdout",
     "output_type": "stream",
     "text": [
      "[1]\tvalid_0's auc: 0.646991\tvalid_0's binary_logloss: 0.138766\n",
      "[2]\tvalid_0's auc: 0.653852\tvalid_0's binary_logloss: 0.137957\n",
      "[3]\tvalid_0's auc: 0.658229\tvalid_0's binary_logloss: 0.137319\n",
      "[4]\tvalid_0's auc: 0.661286\tvalid_0's binary_logloss: 0.136791\n",
      "[5]\tvalid_0's auc: 0.661975\tvalid_0's binary_logloss: 0.136383\n",
      "[6]\tvalid_0's auc: 0.662958\tvalid_0's binary_logloss: 0.13606\n",
      "[7]\tvalid_0's auc: 0.663744\tvalid_0's binary_logloss: 0.13578\n",
      "[8]\tvalid_0's auc: 0.66499\tvalid_0's binary_logloss: 0.135526\n",
      "[9]\tvalid_0's auc: 0.666467\tvalid_0's binary_logloss: 0.135308\n",
      "[10]\tvalid_0's auc: 0.666883\tvalid_0's binary_logloss: 0.135147\n",
      "log_loss: 0.13320415083098716\n",
      "brier_score_loss: 0.02963809989091692\n",
      "RIG: 0.9954182598032792\n",
      "============================================================\n",
      "classification report:\n"
     ]
    },
    {
     "name": "stderr",
     "output_type": "stream",
     "text": [
      "/Users/emilyPark/.pyenv/versions/bun-analytics/lib/python3.7/site-packages/sklearn/metrics/_classification.py:1272: UndefinedMetricWarning: Precision and F-score are ill-defined and being set to 0.0 in labels with no predicted samples. Use `zero_division` parameter to control this behavior.\n",
      "  _warn_prf(average, modifier, msg_start, len(result))\n"
     ]
    },
    {
     "name": "stdout",
     "output_type": "stream",
     "text": [
      "              precision    recall  f1-score   support\n",
      "\n",
      "           0       0.97      1.00      0.98    581430\n",
      "           1       0.00      0.00      0.00     18570\n",
      "\n",
      "    accuracy                           0.97    600000\n",
      "   macro avg       0.48      0.50      0.49    600000\n",
      "weighted avg       0.94      0.97      0.95    600000\n",
      "\n",
      "confusion_matrix:\n",
      "[[581430      0]\n",
      " [ 18570      0]]\n"
     ]
    }
   ],
   "source": [
    "import random\n",
    "\n",
    "n = 3000000\n",
    "data = df.sample(n=n)\n",
    "train, test = train_test_split(data, test_size = 0.2)\n",
    "print('label 1 proportion before negative sampling:', len(train[train['label'] == 1])/len(train))\n",
    "one_index = train[train['label'] == 1].index\n",
    "rand_index = random.sample(range(len(one_index)), round(len(one_index)*0.2))\n",
    "train.loc[train.index[rand_index], 'label'] = 0\n",
    "print('label 1 proportion after negative sampling:', len(train[train['label'] == 1])/len(train))\n",
    "print('============================================================')\n",
    "train, valid = train_test_split(train, test_size = 0.2)\n",
    "train_data = lgb.Dataset(train[features], label=train['label'], feature_name = features, categorical_feature=sparse)\n",
    "validation_data = lgb.Dataset(valid[features], label=valid['label'], feature_name = features, categorical_feature=sparse)\n",
    "test_data = lgb.Dataset(test[features], label=test['label'], feature_name = features, categorical_feature=sparse)\n",
    "\n",
    "param = {\n",
    "    'objective': 'binary', \n",
    "    'metric': ['auc', 'binary_logloss']\n",
    "}\n",
    "\n",
    "num_round = 10\n",
    "bst4 = lgb.train(param, train_data, num_round, valid_sets=[validation_data])\n",
    "\n",
    "lgbm_pred4 = bst4.predict(np.array(test[features]))\n",
    "print('log_loss:', log_loss(test['label'], lgbm_pred4.tolist()))\n",
    "print('brier_score_loss:', brier_score_loss(test['label'], lgbm_pred4))\n",
    "print('RIG:', rig(lgbm_pred4, [len(test[test['label'] == 1])/len(test)]*len(lgbm_pred4)))\n",
    "print('============================================================')\n",
    "print('classification report:')\n",
    "print(classification_report(test['label'], lgbm_pred4.round()))\n",
    "print('confusion_matrix:')\n",
    "print(confusion_matrix(test['label'], lgbm_pred4.round()))"
   ]
  },
  {
   "cell_type": "code",
   "execution_count": 34,
   "metadata": {},
   "outputs": [
    {
     "ename": "NameError",
     "evalue": "name 'lgbm_pred4' is not defined",
     "output_type": "error",
     "traceback": [
      "\u001b[0;31m---------------------------------------------------------------------------\u001b[0m",
      "\u001b[0;31mNameError\u001b[0m                                 Traceback (most recent call last)",
      "\u001b[0;32m<ipython-input-34-8d61ed28ccf8>\u001b[0m in \u001b[0;36m<module>\u001b[0;34m()\u001b[0m\n\u001b[0;32m----> 1\u001b[0;31m \u001b[0mprint\u001b[0m\u001b[0;34m(\u001b[0m\u001b[0;34m'log_loss:'\u001b[0m\u001b[0;34m,\u001b[0m \u001b[0mlog_loss\u001b[0m\u001b[0;34m(\u001b[0m\u001b[0;34m[\u001b[0m\u001b[0;36m0.3\u001b[0m\u001b[0;34m]\u001b[0m\u001b[0;34m*\u001b[0m\u001b[0mlen\u001b[0m\u001b[0;34m(\u001b[0m\u001b[0mlgbm_pred4\u001b[0m\u001b[0;34m)\u001b[0m\u001b[0;34m,\u001b[0m \u001b[0mlgbm_pred4\u001b[0m\u001b[0;34m.\u001b[0m\u001b[0mtolist\u001b[0m\u001b[0;34m(\u001b[0m\u001b[0;34m)\u001b[0m\u001b[0;34m)\u001b[0m\u001b[0;34m)\u001b[0m\u001b[0;34m\u001b[0m\u001b[0;34m\u001b[0m\u001b[0m\n\u001b[0m",
      "\u001b[0;31mNameError\u001b[0m: name 'lgbm_pred4' is not defined"
     ]
    }
   ],
   "source": [
    "print('log_loss:', log_loss([0.3]*len(lgbm_pred4), lgbm_pred4.tolist()))\n"
   ]
  },
  {
   "cell_type": "code",
   "execution_count": 53,
   "metadata": {
    "scrolled": false
   },
   "outputs": [
    {
     "data": {
      "text/plain": [
       "<matplotlib.axes._subplots.AxesSubplot at 0x13da4b710>"
      ]
     },
     "execution_count": 53,
     "metadata": {},
     "output_type": "execute_result"
    },
    {
     "data": {
      "image/png": "[encoded data removed]",
      "text/plain": [
       "<Figure size 432x288 with 1 Axes>"
      ]
     },
     "metadata": {
      "needs_background": "light"
     },
     "output_type": "display_data"
    }
   ],
   "source": [
    "lgb.plot_importance(bst4)"
   ]
  },
  {
   "cell_type": "markdown",
   "metadata": {},
   "source": [
    "### XGBoost"
   ]
  },
  {
   "cell_type": "code",
   "execution_count": 7,
   "metadata": {},
   "outputs": [],
   "source": [
    "data = df.sample(n=3000000)\n",
    "x = data.iloc[:, :-1]\n",
    "y = data.iloc[:, -1]\n",
    "x_train, x_test, y_train, y_test = train_test_split(x, y, test_size=0.2)"
   ]
  },
  {
   "cell_type": "code",
   "execution_count": 8,
   "metadata": {},
   "outputs": [
    {
     "name": "stdout",
     "output_type": "stream",
     "text": [
      "Fitting 5 folds for each of 10 candidates, totalling 50 fits\n"
     ]
    },
    {
     "name": "stderr",
     "output_type": "stream",
     "text": [
      "[Parallel(n_jobs=-1)]: Using backend LokyBackend with 16 concurrent workers.\n",
      "[Parallel(n_jobs=-1)]: Done  18 tasks      | elapsed:  2.5min\n",
      "[Parallel(n_jobs=-1)]: Done  50 out of  50 | elapsed:  5.0min finished\n"
     ]
    },
    {
     "name": "stdout",
     "output_type": "stream",
     "text": [
      "best parameters:\n",
      "{'scale_pos_weight': 2, 'n_estimators': 4, 'max_depth': 3, 'learning_rate': 0.1}\n",
      "========================================\n",
      "label 1 proportion of prediction: 0.0\n",
      "log loss: 1.078818680695035\n",
      "brier_score_loss: 0.031235\n"
     ]
    },
    {
     "ename": "NameError",
     "evalue": "name 'rig' is not defined",
     "output_type": "error",
     "traceback": [
      "\u001b[0;31m---------------------------------------------------------------------------\u001b[0m",
      "\u001b[0;31mNameError\u001b[0m                                 Traceback (most recent call last)",
      "\u001b[0;32m<ipython-input-8-535404f3e8a4>\u001b[0m in \u001b[0;36m<module>\u001b[0;34m()\u001b[0m\n\u001b[1;32m     28\u001b[0m \u001b[0mprint\u001b[0m\u001b[0;34m(\u001b[0m\u001b[0;34m'log loss:'\u001b[0m\u001b[0;34m,\u001b[0m \u001b[0mlog_loss\u001b[0m\u001b[0;34m(\u001b[0m\u001b[0my_test\u001b[0m\u001b[0;34m.\u001b[0m\u001b[0mastype\u001b[0m\u001b[0;34m(\u001b[0m\u001b[0mint\u001b[0m\u001b[0;34m)\u001b[0m\u001b[0;34m,\u001b[0m \u001b[0mxgb_pred\u001b[0m\u001b[0;34m)\u001b[0m\u001b[0;34m)\u001b[0m\u001b[0;34m\u001b[0m\u001b[0;34m\u001b[0m\u001b[0m\n\u001b[1;32m     29\u001b[0m \u001b[0mprint\u001b[0m\u001b[0;34m(\u001b[0m\u001b[0;34m'brier_score_loss:'\u001b[0m\u001b[0;34m,\u001b[0m \u001b[0mbrier_score_loss\u001b[0m\u001b[0;34m(\u001b[0m\u001b[0my_test\u001b[0m\u001b[0;34m,\u001b[0m \u001b[0mxgb_pred\u001b[0m\u001b[0;34m)\u001b[0m\u001b[0;34m)\u001b[0m\u001b[0;34m\u001b[0m\u001b[0;34m\u001b[0m\u001b[0m\n\u001b[0;32m---> 30\u001b[0;31m \u001b[0mprint\u001b[0m\u001b[0;34m(\u001b[0m\u001b[0;34m'RIG:'\u001b[0m\u001b[0;34m,\u001b[0m \u001b[0mrig\u001b[0m\u001b[0;34m(\u001b[0m\u001b[0mxgb_pred\u001b[0m\u001b[0;34m,\u001b[0m \u001b[0;34m[\u001b[0m\u001b[0mlen\u001b[0m\u001b[0;34m(\u001b[0m\u001b[0;34m[\u001b[0m\u001b[0mi\u001b[0m \u001b[0;32mfor\u001b[0m \u001b[0mi\u001b[0m \u001b[0;32min\u001b[0m \u001b[0my_test\u001b[0m \u001b[0;32mif\u001b[0m \u001b[0mi\u001b[0m \u001b[0;34m==\u001b[0m \u001b[0;36m1\u001b[0m\u001b[0;34m]\u001b[0m\u001b[0;34m)\u001b[0m\u001b[0;34m/\u001b[0m\u001b[0mlen\u001b[0m\u001b[0;34m(\u001b[0m\u001b[0my_test\u001b[0m\u001b[0;34m)\u001b[0m\u001b[0;34m]\u001b[0m\u001b[0;34m*\u001b[0m\u001b[0mlen\u001b[0m\u001b[0;34m(\u001b[0m\u001b[0mxgb_pred\u001b[0m\u001b[0;34m)\u001b[0m\u001b[0;34m)\u001b[0m\u001b[0;34m)\u001b[0m\u001b[0;34m\u001b[0m\u001b[0;34m\u001b[0m\u001b[0m\n\u001b[0m",
      "\u001b[0;31mNameError\u001b[0m: name 'rig' is not defined"
     ]
    }
   ],
   "source": [
    "import random\n",
    "from sklearn.model_selection import RandomizedSearchCV\n",
    "\n",
    "param_space = {\n",
    "    'n_estimators': range(2, 7), \n",
    "    'max_depth': range(3, 7),\n",
    "    'scale_pos_weight': range(1, 5),\n",
    "    'learning_rate': [0.1, 0.01, 0.001]\n",
    "}\n",
    "\n",
    "\n",
    "xgb = XGBClassifier(objective='binary:logistic',\n",
    "                    n_jobs=-1,\n",
    "                    random_state=42)\n",
    "\n",
    "xgb_random_search = RandomizedSearchCV(xgb, param_space, scoring='neg_log_loss', verbose=True, cv=5,\n",
    "                                        n_jobs=-1, random_state=42)\n",
    "xgb_random_search.fit(x_train, y_train)\n",
    "\n",
    "print('best parameters:')\n",
    "print(xgb_random_search.best_params_)\n",
    "best_xgb = xgb_random_search.best_estimator_.fit(x_train, y_train)\n",
    "xgb_pred = best_xgb.predict(x_test)\n",
    "\n",
    "\n",
    "print('========================================')\n",
    "print('label 1 proportion of prediction:', len([i for i in xgb_pred if i == 1])/len(xgb_pred))\n",
    "print('log loss:', log_loss(y_test.astype(int), xgb_pred))\n",
    "print('brier_score_loss:', brier_score_loss(y_test, xgb_pred))\n",
    "print('RIG:', rig(xgb_pred, [len([i for i in y_test if i == 1])/len(y_test)]*len(xgb_pred)))"
   ]
  },
  {
   "cell_type": "code",
   "execution_count": 10,
   "metadata": {},
   "outputs": [
    {
     "name": "stdout",
     "output_type": "stream",
     "text": [
      "log loss: 0.45003429438809556\n",
      "brier_score_loss: 0.13186237837673812\n",
      "RIG: 0.9999771351952887\n"
     ]
    }
   ],
   "source": [
    "xgb_proba = best_xgb.predict_proba(x_test)\n",
    "xgb_click_proba = xgb_proba[:, 1]\n",
    "print('log loss:', log_loss(y_test.astype(int), xgb_click_proba))\n",
    "print('brier_score_loss:', brier_score_loss(y_test, xgb_click_proba))\n",
    "print('RIG:', rig(xgb_click_proba, [len([i for i in y_test if i == 1])/len(y_test)]*len(xgb_click_proba)))"
   ]
  },
  {
   "cell_type": "code",
   "execution_count": 32,
   "metadata": {},
   "outputs": [
    {
     "data": {
      "text/html": [
       "<div>\n",
       "<style scoped>\n",
       "    .dataframe tbody tr th:only-of-type {\n",
       "        vertical-align: middle;\n",
       "    }\n",
       "\n",
       "    .dataframe tbody tr th {\n",
       "        vertical-align: top;\n",
       "    }\n",
       "\n",
       "    .dataframe thead th {\n",
       "        text-align: right;\n",
       "    }\n",
       "</style>\n",
       "<table border=\"1\" class=\"dataframe\">\n",
       "  <thead>\n",
       "    <tr style=\"text-align: right;\">\n",
       "      <th></th>\n",
       "      <th>0</th>\n",
       "    </tr>\n",
       "  </thead>\n",
       "  <tbody>\n",
       "    <tr>\n",
       "      <th>imp_content_position</th>\n",
       "      <td>0.434305</td>\n",
       "    </tr>\n",
       "    <tr>\n",
       "      <th>imp_page_id</th>\n",
       "      <td>0.246788</td>\n",
       "    </tr>\n",
       "    <tr>\n",
       "      <th>imp_ref_source</th>\n",
       "      <td>0.230761</td>\n",
       "    </tr>\n",
       "    <tr>\n",
       "      <th>content_price</th>\n",
       "      <td>0.045113</td>\n",
       "    </tr>\n",
       "    <tr>\n",
       "      <th>content_category_id</th>\n",
       "      <td>0.029747</td>\n",
       "    </tr>\n",
       "    <tr>\n",
       "      <th>owner_interest</th>\n",
       "      <td>0.013286</td>\n",
       "    </tr>\n",
       "    <tr>\n",
       "      <th>hour</th>\n",
       "      <td>0.000000</td>\n",
       "    </tr>\n",
       "    <tr>\n",
       "      <th>content_interest</th>\n",
       "      <td>0.000000</td>\n",
       "    </tr>\n",
       "    <tr>\n",
       "      <th>content_comment_cnt</th>\n",
       "      <td>0.000000</td>\n",
       "    </tr>\n",
       "    <tr>\n",
       "      <th>content_emergency_cnt</th>\n",
       "      <td>0.000000</td>\n",
       "    </tr>\n",
       "    <tr>\n",
       "      <th>owner_bunpay_count</th>\n",
       "      <td>0.000000</td>\n",
       "    </tr>\n",
       "    <tr>\n",
       "      <th>owner_follower_cnt</th>\n",
       "      <td>0.000000</td>\n",
       "    </tr>\n",
       "    <tr>\n",
       "      <th>owner_grade</th>\n",
       "      <td>0.000000</td>\n",
       "    </tr>\n",
       "    <tr>\n",
       "      <th>owner_item_count</th>\n",
       "      <td>0.000000</td>\n",
       "    </tr>\n",
       "    <tr>\n",
       "      <th>user_bunpay_count</th>\n",
       "      <td>0.000000</td>\n",
       "    </tr>\n",
       "    <tr>\n",
       "      <th>user_following_cnt</th>\n",
       "      <td>0.000000</td>\n",
       "    </tr>\n",
       "    <tr>\n",
       "      <th>user_age</th>\n",
       "      <td>0.000000</td>\n",
       "    </tr>\n",
       "    <tr>\n",
       "      <th>user_sex</th>\n",
       "      <td>0.000000</td>\n",
       "    </tr>\n",
       "    <tr>\n",
       "      <th>imp_ref_page_id</th>\n",
       "      <td>0.000000</td>\n",
       "    </tr>\n",
       "    <tr>\n",
       "      <th>content_pfavcnt</th>\n",
       "      <td>0.000000</td>\n",
       "    </tr>\n",
       "  </tbody>\n",
       "</table>\n",
       "</div>"
      ],
      "text/plain": [
       "                              0\n",
       "imp_content_position   0.434305\n",
       "imp_page_id            0.246788\n",
       "imp_ref_source         0.230761\n",
       "content_price          0.045113\n",
       "content_category_id    0.029747\n",
       "owner_interest         0.013286\n",
       "hour                   0.000000\n",
       "content_interest       0.000000\n",
       "content_comment_cnt    0.000000\n",
       "content_emergency_cnt  0.000000\n",
       "owner_bunpay_count     0.000000\n",
       "owner_follower_cnt     0.000000\n",
       "owner_grade            0.000000\n",
       "owner_item_count       0.000000\n",
       "user_bunpay_count      0.000000\n",
       "user_following_cnt     0.000000\n",
       "user_age               0.000000\n",
       "user_sex               0.000000\n",
       "imp_ref_page_id        0.000000\n",
       "content_pfavcnt        0.000000"
      ]
     },
     "execution_count": 32,
     "metadata": {},
     "output_type": "execute_result"
    }
   ],
   "source": [
    "feature_imp = {}\n",
    "for i in range(len(features)):\n",
    "    feature_imp[features[i]] = [best_xgb.feature_importances_[i]]\n",
    "pd.DataFrame.from_dict(feature_imp).T.sort_values(0, ascending=False)"
   ]
  },
  {
   "cell_type": "code",
   "execution_count": 22,
   "metadata": {},
   "outputs": [
    {
     "data": {
      "text/plain": [
       "([0, 1, 2, 3, 4, 5, 6, 7, 8, 9, 10, 11, 12, 13, 14, 15, 16, 17, 18, 19],\n",
       " <a list of 20 Text xticklabel objects>)"
      ]
     },
     "execution_count": 22,
     "metadata": {},
     "output_type": "execute_result"
    },
    {
     "data": {
      "image/png": "[encoded data removed]",
      "text/plain": [
       "<Figure size 1440x720 with 1 Axes>"
      ]
     },
     "metadata": {
      "needs_background": "light"
     },
     "output_type": "display_data"
    }
   ],
   "source": [
    "import matplotlib.pyplot as plt\n",
    "plt.figure(figsize=(20,10))\n",
    "plt.bar(features, best_xgb.feature_importances_)\n",
    "plt.xticks(rotation=45)"
   ]
  },
  {
   "cell_type": "markdown",
   "metadata": {},
   "source": [
    "### Logistic Regression"
   ]
  },
  {
   "cell_type": "code",
   "execution_count": 15,
   "metadata": {},
   "outputs": [
    {
     "name": "stdout",
     "output_type": "stream",
     "text": [
      "Fitting 5 folds for each of 10 candidates, totalling 50 fits\n"
     ]
    },
    {
     "name": "stderr",
     "output_type": "stream",
     "text": [
      "[Parallel(n_jobs=-1)]: Using backend LokyBackend with 16 concurrent workers.\n",
      "[Parallel(n_jobs=-1)]: Done  18 tasks      | elapsed:  2.6min\n",
      "/Users/emilyPark/.pyenv/versions/bun-analytics/lib/python3.7/site-packages/joblib/externals/loky/process_executor.py:706: UserWarning: A worker stopped while some jobs were given to the executor. This can be caused by a too short worker timeout or by a memory leak.\n",
      "  \"timeout or by a memory leak.\", UserWarning\n",
      "[Parallel(n_jobs=-1)]: Done  50 out of  50 | elapsed:  6.0min finished\n"
     ]
    },
    {
     "data": {
      "text/plain": [
       "RandomizedSearchCV(cv=5, error_score=nan,\n",
       "                   estimator=LogisticRegression(C=1.0, class_weight=None,\n",
       "                                                dual=False, fit_intercept=True,\n",
       "                                                intercept_scaling=1,\n",
       "                                                l1_ratio=None, max_iter=100,\n",
       "                                                multi_class='auto', n_jobs=-1,\n",
       "                                                penalty='l2', random_state=42,\n",
       "                                                solver='lbfgs', tol=0.0001,\n",
       "                                                verbose=0, warm_start=False),\n",
       "                   iid='deprecated', n_iter=10, n_jobs=-1,\n",
       "                   param_distributions={'class_weight': [{0: 1, 1: 0},\n",
       "                                                         {0: 1, 1: 1},\n",
       "                                                         {0: 1, 1: 2},\n",
       "                                                         {0: 1, 1: 3},\n",
       "                                                         {0: 1, 1: 4},\n",
       "                                                         {0: 1, 1: 5},\n",
       "                                                         {0: 1, 1: 6},\n",
       "                                                         {0: 1, 1: 7},\n",
       "                                                         {0: 1, 1: 8},\n",
       "                                                         {0: 1, 1: 9},\n",
       "                                                         {0: 1, 1: 10},\n",
       "                                                         {0: 1, 1: 11},\n",
       "                                                         {0: 1, 1: 12},\n",
       "                                                         {0: 1, 1: 13},\n",
       "                                                         {0: 1, 1: 14},\n",
       "                                                         {0: 1, 1: 15},\n",
       "                                                         {0: 1, 1: 16},\n",
       "                                                         {0: 1, 1: 17},\n",
       "                                                         {0: 1, 1: 18},\n",
       "                                                         {0: 1, 1: 19}]},\n",
       "                   pre_dispatch='2*n_jobs', random_state=42, refit=True,\n",
       "                   return_train_score=True, scoring='neg_log_loss',\n",
       "                   verbose=True)"
      ]
     },
     "execution_count": 15,
     "metadata": {},
     "output_type": "execute_result"
    }
   ],
   "source": [
    "param_space = {\n",
    "    'class_weight': [{0:1, 1:i} for i in range(20)]\n",
    "}\n",
    "lr = LogisticRegression(n_jobs=-1, random_state=42)\n",
    "lr_random_search = RandomizedSearchCV(lr, param_space, return_train_score=True, scoring='neg_log_loss',\n",
    "                                      verbose=True, cv=5, n_jobs=-1, random_state=42)\n",
    "lr_random_search.fit(x_train, y_train)"
   ]
  },
  {
   "cell_type": "code",
   "execution_count": 16,
   "metadata": {},
   "outputs": [
    {
     "name": "stdout",
     "output_type": "stream",
     "text": [
      "best parameters:\n",
      "{'class_weight': {0: 1, 1: 1}}\n"
     ]
    }
   ],
   "source": [
    "print('best parameters:')\n",
    "print(lr_random_search.best_params_)\n",
    "best_lr = lr_random_search.best_estimator_.fit(x_train, y_train)\n",
    "lr_pred = best_lr.predict(x_test)\n",
    "lr_click_proba = best_lr.predict_proba(x_test)[:, 1]"
   ]
  },
  {
   "cell_type": "code",
   "execution_count": 18,
   "metadata": {},
   "outputs": [
    {
     "name": "stdout",
     "output_type": "stream",
     "text": [
      "log loss: 0.1808750239093828\n",
      "brier_score_loss: 0.034782216854153704\n",
      "RIG: 0.9515875032132436\n"
     ]
    }
   ],
   "source": [
    "print('log loss:', log_loss(y_test.astype(int), lr_click_proba))\n",
    "print('brier_score_loss:', brier_score_loss(y_test, lr_click_proba))\n",
    "print('RIG:', rig(lr_click_proba, [len([i for i in y_test if i == 1])/len(y_test)]*len(lr_click_proba)))"
   ]
  },
  {
   "cell_type": "code",
   "execution_count": null,
   "metadata": {},
   "outputs": [],
   "source": [
    "f = open('./test.txt', 'w')\n",
    "f.write([1,2,3])"
   ]
  },
  {
   "cell_type": "code",
   "execution_count": null,
   "metadata": {},
   "outputs": [],
   "source": []
  }
 ],
 "metadata": {
  "kernelspec": {
   "display_name": "Python 3",
   "language": "python",
   "name": "python3"
  },
  "language_info": {
   "codemirror_mode": {
    "name": "ipython",
    "version": 3
   },
   "file_extension": ".py",
   "mimetype": "text/x-python",
   "name": "python",
   "nbconvert_exporter": "python",
   "pygments_lexer": "ipython3",
   "version": "3.7.5"
  }
 },
 "nbformat": 4,
 "nbformat_minor": 4
}