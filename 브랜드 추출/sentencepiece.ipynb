{
 "cells": [
  {
   "cell_type": "code",
   "execution_count": 1,
   "metadata": {},
   "outputs": [],
   "source": [
    "import pandas as pd\n",
    "from sqlalchemy import create_engine\n",
    "from sqlalchemy.pool import NullPool\n",
    "import matplotlib as plt\n",
    "import matplotlib.pylab as plt\n",
    "import seaborn as sns\n",
    "from tqdm import tqdm\n",
    "from PIL import Image\n",
    "import requests\n",
    "from io import BytesIO"
   ]
  },
  {
   "cell_type": "code",
   "execution_count": 2,
   "metadata": {},
   "outputs": [
    {
     "name": "stderr",
     "output_type": "stream",
     "text": [
      "/Users/emilyPark/.pyenv/versions/bun-analytics/lib/python3.7/site-packages/IPython/core/interactiveshell.py:2718: DtypeWarning: Columns (0,1) have mixed types.Specify dtype option on import or set low_memory=False.\n",
      "  interactivity=interactivity, compiler=compiler, result=result)\n"
     ]
    }
   ],
   "source": [
    "df = pd.read_csv('./product_info.csv')"
   ]
  },
  {
   "cell_type": "code",
   "execution_count": 3,
   "metadata": {},
   "outputs": [
    {
     "data": {
      "text/html": [
       "<div>\n",
       "<style scoped>\n",
       "    .dataframe tbody tr th:only-of-type {\n",
       "        vertical-align: middle;\n",
       "    }\n",
       "\n",
       "    .dataframe tbody tr th {\n",
       "        vertical-align: top;\n",
       "    }\n",
       "\n",
       "    .dataframe thead th {\n",
       "        text-align: right;\n",
       "    }\n",
       "</style>\n",
       "<table border=\"1\" class=\"dataframe\">\n",
       "  <thead>\n",
       "    <tr style=\"text-align: right;\">\n",
       "      <th></th>\n",
       "      <th>id</th>\n",
       "      <th>uid</th>\n",
       "      <th>name</th>\n",
       "      <th>keyword</th>\n",
       "      <th>category_id</th>\n",
       "    </tr>\n",
       "  </thead>\n",
       "  <tbody>\n",
       "    <tr>\n",
       "      <th>0</th>\n",
       "      <td>100002112</td>\n",
       "      <td>5016511</td>\n",
       "      <td>[66] 끌리오 자켓</td>\n",
       "      <td>66,끌리오,자켓</td>\n",
       "      <td>310100999.0</td>\n",
       "    </tr>\n",
       "    <tr>\n",
       "      <th>1</th>\n",
       "      <td>100013888</td>\n",
       "      <td>7680369</td>\n",
       "      <td>🔥당일배송가능🔥(260~280)구찌 모던 로퍼</td>\n",
       "      <td>구지,구지신발,구찌신발,구찌슬리퍼,구지로퍼</td>\n",
       "      <td>400051300.0</td>\n",
       "    </tr>\n",
       "    <tr>\n",
       "      <th>2</th>\n",
       "      <td>100014144</td>\n",
       "      <td>4429338</td>\n",
       "      <td>⭐️구* 클러치⭐️</td>\n",
       "      <td>구찌,구찌클러치,구찌클러치백,구찌가방,구찌핸드백</td>\n",
       "      <td>400020400.0</td>\n",
       "    </tr>\n",
       "    <tr>\n",
       "      <th>3</th>\n",
       "      <td>100014912</td>\n",
       "      <td>3550416</td>\n",
       "      <td>the izzat 봄 트위드자켓</td>\n",
       "      <td>트위드자켓,트위드코트,봄코트,봄자켓,봄아우터</td>\n",
       "      <td>310100030.0</td>\n",
       "    </tr>\n",
       "    <tr>\n",
       "      <th>4</th>\n",
       "      <td>100021056</td>\n",
       "      <td>5811221</td>\n",
       "      <td>▷에르메스 오즈 켈리 뮬 로퍼 6color</td>\n",
       "      <td>에르메스오즈,에르메스오즈뮬,에르메스켈리,에르메스로퍼,에르메스뮬</td>\n",
       "      <td>400040300.0</td>\n",
       "    </tr>\n",
       "  </tbody>\n",
       "</table>\n",
       "</div>"
      ],
      "text/plain": [
       "          id      uid                       name  \\\n",
       "0  100002112  5016511                [66] 끌리오 자켓   \n",
       "1  100013888  7680369  🔥당일배송가능🔥(260~280)구찌 모던 로퍼   \n",
       "2  100014144  4429338                 ⭐️구* 클러치⭐️   \n",
       "3  100014912  3550416          the izzat 봄 트위드자켓   \n",
       "4  100021056  5811221    ▷에르메스 오즈 켈리 뮬 로퍼 6color   \n",
       "\n",
       "                              keyword  category_id  \n",
       "0                           66,끌리오,자켓  310100999.0  \n",
       "1             구지,구지신발,구찌신발,구찌슬리퍼,구지로퍼  400051300.0  \n",
       "2          구찌,구찌클러치,구찌클러치백,구찌가방,구찌핸드백  400020400.0  \n",
       "3            트위드자켓,트위드코트,봄코트,봄자켓,봄아우터  310100030.0  \n",
       "4  에르메스오즈,에르메스오즈뮬,에르메스켈리,에르메스로퍼,에르메스뮬  400040300.0  "
      ]
     },
     "execution_count": 3,
     "metadata": {},
     "output_type": "execute_result"
    }
   ],
   "source": [
    "df.head()"
   ]
  },
  {
   "cell_type": "code",
   "execution_count": 4,
   "metadata": {},
   "outputs": [],
   "source": [
    "import re\n",
    "\n",
    "def preprocess(name):\n",
    "    name = str(name)\n",
    "    regrex_pattern = re.compile(pattern = \"[\"\n",
    "    u\"\\U0001F600-\\U0001F64F\"  \n",
    "    u\"\\U0001F300-\\U0001F5FF\"  \n",
    "    u\"\\U0001F680-\\U0001F6FF\"  \n",
    "    u\"\\U0001F1E0-\\U0001F1FF\"  \n",
    "                       \"]+\", flags = re.UNICODE)\n",
    "    name = regrex_pattern.sub(r'',name)\n",
    "    name = re.sub(r'[^\\w\\s]', ' ', name)\n",
    "    name = re.sub(r'\\s+', ' ', name)\n",
    "    return name.lower().strip()"
   ]
  },
  {
   "cell_type": "code",
   "execution_count": 5,
   "metadata": {},
   "outputs": [],
   "source": [
    "df['preprocessed'] = df['name'].map(preprocess)"
   ]
  },
  {
   "cell_type": "code",
   "execution_count": 7,
   "metadata": {},
   "outputs": [
    {
     "data": {
      "text/html": [
       "<div>\n",
       "<style scoped>\n",
       "    .dataframe tbody tr th:only-of-type {\n",
       "        vertical-align: middle;\n",
       "    }\n",
       "\n",
       "    .dataframe tbody tr th {\n",
       "        vertical-align: top;\n",
       "    }\n",
       "\n",
       "    .dataframe thead th {\n",
       "        text-align: right;\n",
       "    }\n",
       "</style>\n",
       "<table border=\"1\" class=\"dataframe\">\n",
       "  <thead>\n",
       "    <tr style=\"text-align: right;\">\n",
       "      <th></th>\n",
       "      <th>id</th>\n",
       "      <th>uid</th>\n",
       "      <th>name</th>\n",
       "      <th>keyword</th>\n",
       "      <th>category_id</th>\n",
       "      <th>preprocessed</th>\n",
       "    </tr>\n",
       "  </thead>\n",
       "  <tbody>\n",
       "    <tr>\n",
       "      <th>0</th>\n",
       "      <td>100002112</td>\n",
       "      <td>5016511</td>\n",
       "      <td>[66] 끌리오 자켓</td>\n",
       "      <td>66,끌리오,자켓</td>\n",
       "      <td>310100999.0</td>\n",
       "      <td>66 끌리오 자켓</td>\n",
       "    </tr>\n",
       "    <tr>\n",
       "      <th>1</th>\n",
       "      <td>100013888</td>\n",
       "      <td>7680369</td>\n",
       "      <td>🔥당일배송가능🔥(260~280)구찌 모던 로퍼</td>\n",
       "      <td>구지,구지신발,구찌신발,구찌슬리퍼,구지로퍼</td>\n",
       "      <td>400051300.0</td>\n",
       "      <td>당일배송가능 260 280 구찌 모던 로퍼</td>\n",
       "    </tr>\n",
       "    <tr>\n",
       "      <th>2</th>\n",
       "      <td>100014144</td>\n",
       "      <td>4429338</td>\n",
       "      <td>⭐️구* 클러치⭐️</td>\n",
       "      <td>구찌,구찌클러치,구찌클러치백,구찌가방,구찌핸드백</td>\n",
       "      <td>400020400.0</td>\n",
       "      <td>구 클러치</td>\n",
       "    </tr>\n",
       "    <tr>\n",
       "      <th>3</th>\n",
       "      <td>100014912</td>\n",
       "      <td>3550416</td>\n",
       "      <td>the izzat 봄 트위드자켓</td>\n",
       "      <td>트위드자켓,트위드코트,봄코트,봄자켓,봄아우터</td>\n",
       "      <td>310100030.0</td>\n",
       "      <td>the izzat 봄 트위드자켓</td>\n",
       "    </tr>\n",
       "    <tr>\n",
       "      <th>4</th>\n",
       "      <td>100021056</td>\n",
       "      <td>5811221</td>\n",
       "      <td>▷에르메스 오즈 켈리 뮬 로퍼 6color</td>\n",
       "      <td>에르메스오즈,에르메스오즈뮬,에르메스켈리,에르메스로퍼,에르메스뮬</td>\n",
       "      <td>400040300.0</td>\n",
       "      <td>에르메스 오즈 켈리 뮬 로퍼 6color</td>\n",
       "    </tr>\n",
       "  </tbody>\n",
       "</table>\n",
       "</div>"
      ],
      "text/plain": [
       "          id      uid                       name  \\\n",
       "0  100002112  5016511                [66] 끌리오 자켓   \n",
       "1  100013888  7680369  🔥당일배송가능🔥(260~280)구찌 모던 로퍼   \n",
       "2  100014144  4429338                 ⭐️구* 클러치⭐️   \n",
       "3  100014912  3550416          the izzat 봄 트위드자켓   \n",
       "4  100021056  5811221    ▷에르메스 오즈 켈리 뮬 로퍼 6color   \n",
       "\n",
       "                              keyword  category_id             preprocessed  \n",
       "0                           66,끌리오,자켓  310100999.0                66 끌리오 자켓  \n",
       "1             구지,구지신발,구찌신발,구찌슬리퍼,구지로퍼  400051300.0  당일배송가능 260 280 구찌 모던 로퍼  \n",
       "2          구찌,구찌클러치,구찌클러치백,구찌가방,구찌핸드백  400020400.0                    구 클러치  \n",
       "3            트위드자켓,트위드코트,봄코트,봄자켓,봄아우터  310100030.0        the izzat 봄 트위드자켓  \n",
       "4  에르메스오즈,에르메스오즈뮬,에르메스켈리,에르메스로퍼,에르메스뮬  400040300.0   에르메스 오즈 켈리 뮬 로퍼 6color  "
      ]
     },
     "execution_count": 7,
     "metadata": {},
     "output_type": "execute_result"
    }
   ],
   "source": [
    "df.head()"
   ]
  },
  {
   "cell_type": "code",
   "execution_count": 6,
   "metadata": {},
   "outputs": [],
   "source": [
    "import sentencepiece as sp"
   ]
  },
  {
   "cell_type": "code",
   "execution_count": 9,
   "metadata": {},
   "outputs": [
    {
     "data": {
      "text/plain": [
       "True"
      ]
     },
     "execution_count": 9,
     "metadata": {},
     "output_type": "execute_result"
    }
   ],
   "source": [
    "bpe_20000 = sp.SentencePieceProcessor()\n",
    "vocab_file = \"name_bpe_20000.model\"\n",
    "bpe_20000.load(vocab_file)"
   ]
  },
  {
   "cell_type": "code",
   "execution_count": 11,
   "metadata": {},
   "outputs": [],
   "source": [
    "df['bpe_20000_pieces'] = df['preprocessed'].apply(lambda x: bpe_20000.encode_as_pieces(x))"
   ]
  },
  {
   "cell_type": "code",
   "execution_count": 13,
   "metadata": {},
   "outputs": [],
   "source": [
    "df['bpe_20000_ids'] = df['preprocessed'].apply(lambda x: bpe_20000.encode_as_ids(x))"
   ]
  },
  {
   "cell_type": "code",
   "execution_count": 14,
   "metadata": {},
   "outputs": [
    {
     "data": {
      "text/plain": [
       "True"
      ]
     },
     "execution_count": 14,
     "metadata": {},
     "output_type": "execute_result"
    }
   ],
   "source": [
    "unigram_20000 = sp.SentencePieceProcessor()\n",
    "vocab_file = \"name_unigram_20000.model\"\n",
    "unigram_20000.load(vocab_file)"
   ]
  },
  {
   "cell_type": "code",
   "execution_count": 15,
   "metadata": {},
   "outputs": [],
   "source": [
    "df['unigram_20000_pieces'] = df['preprocessed'].apply(lambda x: unigram_20000.encode_as_pieces(x))\n",
    "df['unigram_20000_ids'] = df['preprocessed'].apply(lambda x: unigram_20000.encode_as_ids(x))"
   ]
  },
  {
   "cell_type": "code",
   "execution_count": 16,
   "metadata": {},
   "outputs": [
    {
     "data": {
      "text/html": [
       "<div>\n",
       "<style scoped>\n",
       "    .dataframe tbody tr th:only-of-type {\n",
       "        vertical-align: middle;\n",
       "    }\n",
       "\n",
       "    .dataframe tbody tr th {\n",
       "        vertical-align: top;\n",
       "    }\n",
       "\n",
       "    .dataframe thead th {\n",
       "        text-align: right;\n",
       "    }\n",
       "</style>\n",
       "<table border=\"1\" class=\"dataframe\">\n",
       "  <thead>\n",
       "    <tr style=\"text-align: right;\">\n",
       "      <th></th>\n",
       "      <th>id</th>\n",
       "      <th>uid</th>\n",
       "      <th>name</th>\n",
       "      <th>keyword</th>\n",
       "      <th>category_id</th>\n",
       "      <th>preprocessed</th>\n",
       "      <th>bpe_20000_pieces</th>\n",
       "      <th>bpe_20000_ids</th>\n",
       "      <th>unigram_20000_pieces</th>\n",
       "      <th>unigram_20000_ids</th>\n",
       "    </tr>\n",
       "  </thead>\n",
       "  <tbody>\n",
       "    <tr>\n",
       "      <th>0</th>\n",
       "      <td>100002112</td>\n",
       "      <td>5016511</td>\n",
       "      <td>[66] 끌리오 자켓</td>\n",
       "      <td>66,끌리오,자켓</td>\n",
       "      <td>310100999.0</td>\n",
       "      <td>66 끌리오 자켓</td>\n",
       "      <td>[▁66, ▁끌, 리오, ▁자켓]</td>\n",
       "      <td>[182, 1930, 1932, 52]</td>\n",
       "      <td>[▁66, ▁끌, 리오, ▁자켓]</td>\n",
       "      <td>[40, 13529, 4951, 11]</td>\n",
       "    </tr>\n",
       "    <tr>\n",
       "      <th>1</th>\n",
       "      <td>100013888</td>\n",
       "      <td>7680369</td>\n",
       "      <td>🔥당일배송가능🔥(260~280)구찌 모던 로퍼</td>\n",
       "      <td>구지,구지신발,구찌신발,구찌슬리퍼,구지로퍼</td>\n",
       "      <td>400051300.0</td>\n",
       "      <td>당일배송가능 260 280 구찌 모던 로퍼</td>\n",
       "      <td>[▁당일배송, 가능, ▁260, ▁280, ▁구찌, ▁모던, ▁로퍼]</td>\n",
       "      <td>[889, 508, 552, 765, 104, 2146, 673]</td>\n",
       "      <td>[▁당일배송, 가능, ▁260, ▁280, ▁구찌, ▁모던, ▁로퍼]</td>\n",
       "      <td>[383, 503, 188, 317, 23, 1343, 261]</td>\n",
       "    </tr>\n",
       "    <tr>\n",
       "      <th>2</th>\n",
       "      <td>100014144</td>\n",
       "      <td>4429338</td>\n",
       "      <td>⭐️구* 클러치⭐️</td>\n",
       "      <td>구찌,구찌클러치,구찌클러치백,구찌가방,구찌핸드백</td>\n",
       "      <td>400020400.0</td>\n",
       "      <td>구 클러치</td>\n",
       "      <td>[▁구, ▁클러치]</td>\n",
       "      <td>[36, 261]</td>\n",
       "      <td>[▁구, ▁클러치]</td>\n",
       "      <td>[253, 132]</td>\n",
       "    </tr>\n",
       "    <tr>\n",
       "      <th>3</th>\n",
       "      <td>100014912</td>\n",
       "      <td>3550416</td>\n",
       "      <td>the izzat 봄 트위드자켓</td>\n",
       "      <td>트위드자켓,트위드코트,봄코트,봄자켓,봄아우터</td>\n",
       "      <td>310100030.0</td>\n",
       "      <td>the izzat 봄 트위드자켓</td>\n",
       "      <td>[▁the, ▁izzat, ▁봄, ▁트위드자켓]</td>\n",
       "      <td>[2316, 12481, 282, 2113]</td>\n",
       "      <td>[▁the, ▁izzat, ▁봄, ▁트위드자켓]</td>\n",
       "      <td>[1594, 10221, 192, 1150]</td>\n",
       "    </tr>\n",
       "    <tr>\n",
       "      <th>4</th>\n",
       "      <td>100021056</td>\n",
       "      <td>5811221</td>\n",
       "      <td>▷에르메스 오즈 켈리 뮬 로퍼 6color</td>\n",
       "      <td>에르메스오즈,에르메스오즈뮬,에르메스켈리,에르메스로퍼,에르메스뮬</td>\n",
       "      <td>400040300.0</td>\n",
       "      <td>에르메스 오즈 켈리 뮬 로퍼 6color</td>\n",
       "      <td>[▁에르메스, ▁오즈, ▁켈리, ▁뮬, ▁로퍼, ▁6, color]</td>\n",
       "      <td>[710, 2006, 7061, 1342, 673, 109, 309]</td>\n",
       "      <td>[▁에르메스, ▁오즈, ▁켈리, ▁뮬, ▁로퍼, ▁6, color]</td>\n",
       "      <td>[277, 9792, 4856, 804, 261, 227, 87]</td>\n",
       "    </tr>\n",
       "  </tbody>\n",
       "</table>\n",
       "</div>"
      ],
      "text/plain": [
       "          id      uid                       name  \\\n",
       "0  100002112  5016511                [66] 끌리오 자켓   \n",
       "1  100013888  7680369  🔥당일배송가능🔥(260~280)구찌 모던 로퍼   \n",
       "2  100014144  4429338                 ⭐️구* 클러치⭐️   \n",
       "3  100014912  3550416          the izzat 봄 트위드자켓   \n",
       "4  100021056  5811221    ▷에르메스 오즈 켈리 뮬 로퍼 6color   \n",
       "\n",
       "                              keyword  category_id             preprocessed  \\\n",
       "0                           66,끌리오,자켓  310100999.0                66 끌리오 자켓   \n",
       "1             구지,구지신발,구찌신발,구찌슬리퍼,구지로퍼  400051300.0  당일배송가능 260 280 구찌 모던 로퍼   \n",
       "2          구찌,구찌클러치,구찌클러치백,구찌가방,구찌핸드백  400020400.0                    구 클러치   \n",
       "3            트위드자켓,트위드코트,봄코트,봄자켓,봄아우터  310100030.0        the izzat 봄 트위드자켓   \n",
       "4  에르메스오즈,에르메스오즈뮬,에르메스켈리,에르메스로퍼,에르메스뮬  400040300.0   에르메스 오즈 켈리 뮬 로퍼 6color   \n",
       "\n",
       "                         bpe_20000_pieces  \\\n",
       "0                      [▁66, ▁끌, 리오, ▁자켓]   \n",
       "1  [▁당일배송, 가능, ▁260, ▁280, ▁구찌, ▁모던, ▁로퍼]   \n",
       "2                              [▁구, ▁클러치]   \n",
       "3              [▁the, ▁izzat, ▁봄, ▁트위드자켓]   \n",
       "4   [▁에르메스, ▁오즈, ▁켈리, ▁뮬, ▁로퍼, ▁6, color]   \n",
       "\n",
       "                            bpe_20000_ids  \\\n",
       "0                   [182, 1930, 1932, 52]   \n",
       "1    [889, 508, 552, 765, 104, 2146, 673]   \n",
       "2                               [36, 261]   \n",
       "3                [2316, 12481, 282, 2113]   \n",
       "4  [710, 2006, 7061, 1342, 673, 109, 309]   \n",
       "\n",
       "                     unigram_20000_pieces  \\\n",
       "0                      [▁66, ▁끌, 리오, ▁자켓]   \n",
       "1  [▁당일배송, 가능, ▁260, ▁280, ▁구찌, ▁모던, ▁로퍼]   \n",
       "2                              [▁구, ▁클러치]   \n",
       "3              [▁the, ▁izzat, ▁봄, ▁트위드자켓]   \n",
       "4   [▁에르메스, ▁오즈, ▁켈리, ▁뮬, ▁로퍼, ▁6, color]   \n",
       "\n",
       "                      unigram_20000_ids  \n",
       "0                 [40, 13529, 4951, 11]  \n",
       "1   [383, 503, 188, 317, 23, 1343, 261]  \n",
       "2                            [253, 132]  \n",
       "3              [1594, 10221, 192, 1150]  \n",
       "4  [277, 9792, 4856, 804, 261, 227, 87]  "
      ]
     },
     "execution_count": 16,
     "metadata": {},
     "output_type": "execute_result"
    }
   ],
   "source": [
    "df.head()"
   ]
  },
  {
   "cell_type": "code",
   "execution_count": 17,
   "metadata": {},
   "outputs": [],
   "source": [
    "df.to_csv('df_compare_sp.csv', index=False)"
   ]
  },
  {
   "cell_type": "code",
   "execution_count": 18,
   "metadata": {},
   "outputs": [],
   "source": [
    "df.sample(n=1000).to_csv('df_compare_sp_sample.csv', index=False)"
   ]
  },
  {
   "cell_type": "code",
   "execution_count": 19,
   "metadata": {},
   "outputs": [],
   "source": [
    "sample = pd.read_csv('df_compare_sp_sample.csv')"
   ]
  },
  {
   "cell_type": "code",
   "execution_count": 20,
   "metadata": {},
   "outputs": [
    {
     "data": {
      "text/html": [
       "<div>\n",
       "<style scoped>\n",
       "    .dataframe tbody tr th:only-of-type {\n",
       "        vertical-align: middle;\n",
       "    }\n",
       "\n",
       "    .dataframe tbody tr th {\n",
       "        vertical-align: top;\n",
       "    }\n",
       "\n",
       "    .dataframe thead th {\n",
       "        text-align: right;\n",
       "    }\n",
       "</style>\n",
       "<table border=\"1\" class=\"dataframe\">\n",
       "  <thead>\n",
       "    <tr style=\"text-align: right;\">\n",
       "      <th></th>\n",
       "      <th>id</th>\n",
       "      <th>uid</th>\n",
       "      <th>name</th>\n",
       "      <th>keyword</th>\n",
       "      <th>category_id</th>\n",
       "      <th>preprocessed</th>\n",
       "      <th>bpe_20000_pieces</th>\n",
       "      <th>bpe_20000_ids</th>\n",
       "      <th>unigram_20000_pieces</th>\n",
       "      <th>unigram_20000_ids</th>\n",
       "    </tr>\n",
       "  </thead>\n",
       "  <tbody>\n",
       "    <tr>\n",
       "      <th>0</th>\n",
       "      <td>145749070</td>\n",
       "      <td>7371587.0</td>\n",
       "      <td>바인드 니트</td>\n",
       "      <td>bind,니트,여성니트,아이보리니트,바인드</td>\n",
       "      <td>310060040.0</td>\n",
       "      <td>바인드 니트</td>\n",
       "      <td>['▁바인', '드', '▁니트']</td>\n",
       "      <td>[9751, 18897, 26]</td>\n",
       "      <td>['▁바인드', '▁니트']</td>\n",
       "      <td>[18668, 7]</td>\n",
       "    </tr>\n",
       "    <tr>\n",
       "      <th>1</th>\n",
       "      <td>123081835</td>\n",
       "      <td>4253630.0</td>\n",
       "      <td>빨질레리 사르토리알</td>\n",
       "      <td>란스미어키톤,라르디니링자켓,볼리올리폴로</td>\n",
       "      <td>320090100.0</td>\n",
       "      <td>빨질레리 사르토리알</td>\n",
       "      <td>['▁빨질레리', '▁사', '르', '토리', '알']</td>\n",
       "      <td>[14404, 215, 19007, 1534, 19123]</td>\n",
       "      <td>['▁빨질레리', '▁사', '르', '토리', '알']</td>\n",
       "      <td>[12041, 1307, 528, 5801, 2220]</td>\n",
       "    </tr>\n",
       "    <tr>\n",
       "      <th>2</th>\n",
       "      <td>91019252</td>\n",
       "      <td>5342587.0</td>\n",
       "      <td>긴팔 티셔츠 받쳐입기 좋아요</td>\n",
       "      <td>66,긴팔,티셔츠</td>\n",
       "      <td>310010020.0</td>\n",
       "      <td>긴팔 티셔츠 받쳐입기 좋아요</td>\n",
       "      <td>['▁긴팔', '▁티셔츠', '▁받', '쳐', '입기', '▁좋아요']</td>\n",
       "      <td>[395, 117, 8316, 19396, 9585, 5268]</td>\n",
       "      <td>['▁긴팔', '▁티셔츠', '▁', '받', '쳐', '입기', '▁좋아요']</td>\n",
       "      <td>[216, 25, 5, 6880, 3292, 14325, 3636]</td>\n",
       "    </tr>\n",
       "    <tr>\n",
       "      <th>3</th>\n",
       "      <td>126327684</td>\n",
       "      <td>192530.0</td>\n",
       "      <td>[정품] FENDI 기저귀가방 추천</td>\n",
       "      <td>펜디정품,펜디,펜디기저귀가방,기저귀가방추천,명품가방</td>\n",
       "      <td>400010100.0</td>\n",
       "      <td>정품 fendi 기저귀가방 추천</td>\n",
       "      <td>['▁정품', '▁fendi', '▁기저귀가방', '▁추천']</td>\n",
       "      <td>[33, 5748, 10998, 1827]</td>\n",
       "      <td>['▁정품', '▁fendi', '▁기저귀가방', '▁추천']</td>\n",
       "      <td>[6, 4025, 8804, 1363]</td>\n",
       "    </tr>\n",
       "    <tr>\n",
       "      <th>4</th>\n",
       "      <td>147514337</td>\n",
       "      <td>6612036.0</td>\n",
       "      <td>나이키 베이퍼맥스 파슬실버      /낫띵리튼,텔파,아모멘토,시엔느,단톤</td>\n",
       "      <td>빔즈보이,네이더스,메종마르엘라,단톤,블랭코브</td>\n",
       "      <td>400040300.0</td>\n",
       "      <td>나이키 베이퍼맥스 파슬실버 낫띵리튼 텔파 아모멘토 시엔느 단톤</td>\n",
       "      <td>['▁나이키', '▁베이퍼맥스', '▁파슬', '실버', '▁낫띵리튼', '▁텔',...</td>\n",
       "      <td>[41, 2612, 7068, 1267, 13863, 11971, 19004, 14...</td>\n",
       "      <td>['▁나이키', '▁베이퍼맥스', '▁파슬', '실버', '▁낫띵리튼', '▁', ...</td>\n",
       "      <td>[10, 1497, 5105, 685, 11541, 5, 3666, 899, 123...</td>\n",
       "    </tr>\n",
       "    <tr>\n",
       "      <th>...</th>\n",
       "      <td>...</td>\n",
       "      <td>...</td>\n",
       "      <td>...</td>\n",
       "      <td>...</td>\n",
       "      <td>...</td>\n",
       "      <td>...</td>\n",
       "      <td>...</td>\n",
       "      <td>...</td>\n",
       "      <td>...</td>\n",
       "      <td>...</td>\n",
       "    </tr>\n",
       "    <tr>\n",
       "      <th>995</th>\n",
       "      <td>3121065</td>\n",
       "      <td>295594.0</td>\n",
       "      <td>♥19900특가♥</td>\n",
       "      <td>NaN</td>\n",
       "      <td>400050999.0</td>\n",
       "      <td>19900특가</td>\n",
       "      <td>['▁19', '900', '특가']</td>\n",
       "      <td>[513, 3375, 311]</td>\n",
       "      <td>['▁19', '900', '특가']</td>\n",
       "      <td>[223, 3417, 1036]</td>\n",
       "    </tr>\n",
       "    <tr>\n",
       "      <th>996</th>\n",
       "      <td>143235664</td>\n",
       "      <td>75092091.0</td>\n",
       "      <td>롯데백화점 구입 코트</td>\n",
       "      <td>55~66</td>\n",
       "      <td>310110010.0</td>\n",
       "      <td>롯데백화점 구입 코트</td>\n",
       "      <td>['▁롯데백화점', '▁구입', '▁코트']</td>\n",
       "      <td>[12126, 4237, 127]</td>\n",
       "      <td>['▁롯데백화점', '▁구입', '▁코트']</td>\n",
       "      <td>[9884, 3575, 30]</td>\n",
       "    </tr>\n",
       "    <tr>\n",
       "      <th>997</th>\n",
       "      <td>148465247</td>\n",
       "      <td>3555188.0</td>\n",
       "      <td>여성 자켓</td>\n",
       "      <td>여성자켓</td>\n",
       "      <td>310100999.0</td>\n",
       "      <td>여성 자켓</td>\n",
       "      <td>['▁여성', '▁자켓']</td>\n",
       "      <td>[31, 52]</td>\n",
       "      <td>['▁여성', '▁자켓']</td>\n",
       "      <td>[13, 11]</td>\n",
       "    </tr>\n",
       "    <tr>\n",
       "      <th>998</th>\n",
       "      <td>150556964</td>\n",
       "      <td>10076676.0</td>\n",
       "      <td>발루찌 남자 블레이저 블레이져 자켓</td>\n",
       "      <td>남자자켓,블레이져,블레이저,자켓,정장</td>\n",
       "      <td>320090100.0</td>\n",
       "      <td>발루찌 남자 블레이저 블레이져 자켓</td>\n",
       "      <td>['▁발', '루', '찌', '▁남자', '▁블레이저', '▁블레이져', '▁자켓']</td>\n",
       "      <td>[132, 18956, 18992, 197, 1468, 1103, 52]</td>\n",
       "      <td>['▁발', '루', '찌', '▁남자', '▁블레이저', '▁블레이져', '▁자켓']</td>\n",
       "      <td>[1287, 995, 2881, 55, 732, 506, 11]</td>\n",
       "    </tr>\n",
       "    <tr>\n",
       "      <th>999</th>\n",
       "      <td>123883969</td>\n",
       "      <td>3381376.0</td>\n",
       "      <td>시스템 마가디건 새상품 판매합니다</td>\n",
       "      <td>시스템,프리</td>\n",
       "      <td>310070999.0</td>\n",
       "      <td>시스템 마가디건 새상품 판매합니다</td>\n",
       "      <td>['▁시스템', '▁마', '가디건', '▁새상품', '▁판매합니다']</td>\n",
       "      <td>[1385, 96, 247, 28, 305]</td>\n",
       "      <td>['▁시스템', '▁마', '가디건', '▁새상품', '▁판매합니다']</td>\n",
       "      <td>[826, 431, 150, 4, 85]</td>\n",
       "    </tr>\n",
       "  </tbody>\n",
       "</table>\n",
       "<p>1000 rows × 10 columns</p>\n",
       "</div>"
      ],
      "text/plain": [
       "            id         uid                                      name  \\\n",
       "0    145749070   7371587.0                                    바인드 니트   \n",
       "1    123081835   4253630.0                                빨질레리 사르토리알   \n",
       "2     91019252   5342587.0                           긴팔 티셔츠 받쳐입기 좋아요   \n",
       "3    126327684    192530.0                       [정품] FENDI 기저귀가방 추천   \n",
       "4    147514337   6612036.0  나이키 베이퍼맥스 파슬실버      /낫띵리튼,텔파,아모멘토,시엔느,단톤   \n",
       "..         ...         ...                                       ...   \n",
       "995    3121065    295594.0                                 ♥19900특가♥   \n",
       "996  143235664  75092091.0                               롯데백화점 구입 코트   \n",
       "997  148465247   3555188.0                                     여성 자켓   \n",
       "998  150556964  10076676.0                       발루찌 남자 블레이저 블레이져 자켓   \n",
       "999  123883969   3381376.0                        시스템 마가디건 새상품 판매합니다   \n",
       "\n",
       "                          keyword  category_id  \\\n",
       "0         bind,니트,여성니트,아이보리니트,바인드  310060040.0   \n",
       "1           란스미어키톤,라르디니링자켓,볼리올리폴로  320090100.0   \n",
       "2                       66,긴팔,티셔츠  310010020.0   \n",
       "3    펜디정품,펜디,펜디기저귀가방,기저귀가방추천,명품가방  400010100.0   \n",
       "4        빔즈보이,네이더스,메종마르엘라,단톤,블랭코브  400040300.0   \n",
       "..                            ...          ...   \n",
       "995                           NaN  400050999.0   \n",
       "996                         55~66  310110010.0   \n",
       "997                          여성자켓  310100999.0   \n",
       "998          남자자켓,블레이져,블레이저,자켓,정장  320090100.0   \n",
       "999                        시스템,프리  310070999.0   \n",
       "\n",
       "                           preprocessed  \\\n",
       "0                                바인드 니트   \n",
       "1                            빨질레리 사르토리알   \n",
       "2                       긴팔 티셔츠 받쳐입기 좋아요   \n",
       "3                     정품 fendi 기저귀가방 추천   \n",
       "4    나이키 베이퍼맥스 파슬실버 낫띵리튼 텔파 아모멘토 시엔느 단톤   \n",
       "..                                  ...   \n",
       "995                             19900특가   \n",
       "996                         롯데백화점 구입 코트   \n",
       "997                               여성 자켓   \n",
       "998                 발루찌 남자 블레이저 블레이져 자켓   \n",
       "999                  시스템 마가디건 새상품 판매합니다   \n",
       "\n",
       "                                      bpe_20000_pieces  \\\n",
       "0                                  ['▁바인', '드', '▁니트']   \n",
       "1                      ['▁빨질레리', '▁사', '르', '토리', '알']   \n",
       "2             ['▁긴팔', '▁티셔츠', '▁받', '쳐', '입기', '▁좋아요']   \n",
       "3                   ['▁정품', '▁fendi', '▁기저귀가방', '▁추천']   \n",
       "4    ['▁나이키', '▁베이퍼맥스', '▁파슬', '실버', '▁낫띵리튼', '▁텔',...   \n",
       "..                                                 ...   \n",
       "995                               ['▁19', '900', '특가']   \n",
       "996                           ['▁롯데백화점', '▁구입', '▁코트']   \n",
       "997                                     ['▁여성', '▁자켓']   \n",
       "998   ['▁발', '루', '찌', '▁남자', '▁블레이저', '▁블레이져', '▁자켓']   \n",
       "999            ['▁시스템', '▁마', '가디건', '▁새상품', '▁판매합니다']   \n",
       "\n",
       "                                         bpe_20000_ids  \\\n",
       "0                                    [9751, 18897, 26]   \n",
       "1                     [14404, 215, 19007, 1534, 19123]   \n",
       "2                  [395, 117, 8316, 19396, 9585, 5268]   \n",
       "3                              [33, 5748, 10998, 1827]   \n",
       "4    [41, 2612, 7068, 1267, 13863, 11971, 19004, 14...   \n",
       "..                                                 ...   \n",
       "995                                   [513, 3375, 311]   \n",
       "996                                 [12126, 4237, 127]   \n",
       "997                                           [31, 52]   \n",
       "998           [132, 18956, 18992, 197, 1468, 1103, 52]   \n",
       "999                           [1385, 96, 247, 28, 305]   \n",
       "\n",
       "                                  unigram_20000_pieces  \\\n",
       "0                                      ['▁바인드', '▁니트']   \n",
       "1                      ['▁빨질레리', '▁사', '르', '토리', '알']   \n",
       "2         ['▁긴팔', '▁티셔츠', '▁', '받', '쳐', '입기', '▁좋아요']   \n",
       "3                   ['▁정품', '▁fendi', '▁기저귀가방', '▁추천']   \n",
       "4    ['▁나이키', '▁베이퍼맥스', '▁파슬', '실버', '▁낫띵리튼', '▁', ...   \n",
       "..                                                 ...   \n",
       "995                               ['▁19', '900', '특가']   \n",
       "996                           ['▁롯데백화점', '▁구입', '▁코트']   \n",
       "997                                     ['▁여성', '▁자켓']   \n",
       "998   ['▁발', '루', '찌', '▁남자', '▁블레이저', '▁블레이져', '▁자켓']   \n",
       "999            ['▁시스템', '▁마', '가디건', '▁새상품', '▁판매합니다']   \n",
       "\n",
       "                                     unigram_20000_ids  \n",
       "0                                           [18668, 7]  \n",
       "1                       [12041, 1307, 528, 5801, 2220]  \n",
       "2                [216, 25, 5, 6880, 3292, 14325, 3636]  \n",
       "3                                [6, 4025, 8804, 1363]  \n",
       "4    [10, 1497, 5105, 685, 11541, 5, 3666, 899, 123...  \n",
       "..                                                 ...  \n",
       "995                                  [223, 3417, 1036]  \n",
       "996                                   [9884, 3575, 30]  \n",
       "997                                           [13, 11]  \n",
       "998                [1287, 995, 2881, 55, 732, 506, 11]  \n",
       "999                             [826, 431, 150, 4, 85]  \n",
       "\n",
       "[1000 rows x 10 columns]"
      ]
     },
     "execution_count": 20,
     "metadata": {},
     "output_type": "execute_result"
    }
   ],
   "source": []
  },
  {
   "cell_type": "code",
   "execution_count": 21,
   "metadata": {},
   "outputs": [],
   "source": [
    "brand = pd.read_csv('./brand extraction dictionary - final.csv')\n",
    "brand = brand.iloc[:, :3]\n",
    "brand.columns = ['name', 'eng', 'syn']"
   ]
  },
  {
   "cell_type": "code",
   "execution_count": 22,
   "metadata": {},
   "outputs": [
    {
     "data": {
      "text/html": [
       "<div>\n",
       "<style scoped>\n",
       "    .dataframe tbody tr th:only-of-type {\n",
       "        vertical-align: middle;\n",
       "    }\n",
       "\n",
       "    .dataframe tbody tr th {\n",
       "        vertical-align: top;\n",
       "    }\n",
       "\n",
       "    .dataframe thead th {\n",
       "        text-align: right;\n",
       "    }\n",
       "</style>\n",
       "<table border=\"1\" class=\"dataframe\">\n",
       "  <thead>\n",
       "    <tr style=\"text-align: right;\">\n",
       "      <th></th>\n",
       "      <th>name</th>\n",
       "      <th>eng</th>\n",
       "      <th>syn</th>\n",
       "    </tr>\n",
       "  </thead>\n",
       "  <tbody>\n",
       "    <tr>\n",
       "      <th>0</th>\n",
       "      <td>나이키</td>\n",
       "      <td>nike</td>\n",
       "      <td>조던</td>\n",
       "    </tr>\n",
       "    <tr>\n",
       "      <th>1</th>\n",
       "      <td>스톤아일랜드</td>\n",
       "      <td>stone island</td>\n",
       "      <td>NaN</td>\n",
       "    </tr>\n",
       "    <tr>\n",
       "      <th>2</th>\n",
       "      <td>뉴발란스</td>\n",
       "      <td>new balance</td>\n",
       "      <td>뉴발</td>\n",
       "    </tr>\n",
       "    <tr>\n",
       "      <th>3</th>\n",
       "      <td>아디다스</td>\n",
       "      <td>adidas</td>\n",
       "      <td>NaN</td>\n",
       "    </tr>\n",
       "    <tr>\n",
       "      <th>4</th>\n",
       "      <td>노스페이스</td>\n",
       "      <td>north face</td>\n",
       "      <td>노페, 더 노스페이스</td>\n",
       "    </tr>\n",
       "    <tr>\n",
       "      <th>...</th>\n",
       "      <td>...</td>\n",
       "      <td>...</td>\n",
       "      <td>...</td>\n",
       "    </tr>\n",
       "    <tr>\n",
       "      <th>326</th>\n",
       "      <td>타이틀리스트</td>\n",
       "      <td>titleist</td>\n",
       "      <td>NaN</td>\n",
       "    </tr>\n",
       "    <tr>\n",
       "      <th>327</th>\n",
       "      <td>오클리</td>\n",
       "      <td>oakley</td>\n",
       "      <td>NaN</td>\n",
       "    </tr>\n",
       "    <tr>\n",
       "      <th>328</th>\n",
       "      <td>먼싱웨어</td>\n",
       "      <td>munsingwear</td>\n",
       "      <td>NaN</td>\n",
       "    </tr>\n",
       "    <tr>\n",
       "      <th>329</th>\n",
       "      <td>몬츄라</td>\n",
       "      <td>montura</td>\n",
       "      <td>NaN</td>\n",
       "    </tr>\n",
       "    <tr>\n",
       "      <th>330</th>\n",
       "      <td>마크앤로나</td>\n",
       "      <td>mark&amp;lona</td>\n",
       "      <td>NaN</td>\n",
       "    </tr>\n",
       "  </tbody>\n",
       "</table>\n",
       "<p>331 rows × 3 columns</p>\n",
       "</div>"
      ],
      "text/plain": [
       "       name           eng          syn\n",
       "0       나이키          nike           조던\n",
       "1    스톤아일랜드  stone island          NaN\n",
       "2      뉴발란스   new balance           뉴발\n",
       "3      아디다스        adidas          NaN\n",
       "4     노스페이스    north face  노페, 더 노스페이스\n",
       "..      ...           ...          ...\n",
       "326  타이틀리스트      titleist          NaN\n",
       "327     오클리        oakley          NaN\n",
       "328    먼싱웨어   munsingwear          NaN\n",
       "329     몬츄라       montura          NaN\n",
       "330   마크앤로나     mark&lona          NaN\n",
       "\n",
       "[331 rows x 3 columns]"
      ]
     },
     "execution_count": 22,
     "metadata": {},
     "output_type": "execute_result"
    }
   ],
   "source": [
    "brand"
   ]
  },
  {
   "cell_type": "code",
   "execution_count": 50,
   "metadata": {},
   "outputs": [],
   "source": [
    "brand['set'] = brand['name'].fillna('') + ',' + brand['eng'].fillna('') + ',' + brand['syn'].fillna('')"
   ]
  },
  {
   "cell_type": "code",
   "execution_count": 51,
   "metadata": {},
   "outputs": [],
   "source": [
    "brands = dict(zip(brand['name'], brand['set'].apply(lambda x: str(x).split(','))))"
   ]
  },
  {
   "cell_type": "code",
   "execution_count": 52,
   "metadata": {},
   "outputs": [
    {
     "data": {
      "text/plain": [
       "{'MCM': ['MCM', '', '엠씨엠'],\n",
       " nan: ['', '', ''],\n",
       " '겐조': ['겐조', 'kenzo', '갠조'],\n",
       " '고야드': ['고야드', 'goyard', ''],\n",
       " '골든구스': ['골든구스', 'golden goose', ''],\n",
       " '골든듀': ['골든듀', 'goldendew', ''],\n",
       " '구찌': ['구찌', 'gucci', ''],\n",
       " '구호': ['구호', 'kuho', ''],\n",
       " '그라미치': ['그라미치', 'gramicci', ''],\n",
       " '그랜드세이코': ['그랜드세이코', 'grand seiko', ''],\n",
       " '그레고리': ['그레고리', 'gregory', ''],\n",
       " '까르띠에': ['까르띠에', 'cartier', ''],\n",
       " '까스텔바작': ['까스텔바작', 'castel bajac', '까스탤바작'],\n",
       " '꼼데가르송': ['꼼데가르송', 'comme des garcons', '꼼데', ' 꼼대', ' 꼼대가르송'],\n",
       " '끌로에': ['끌로에', 'chloe', ''],\n",
       " '나나미카': ['나나미카', 'nanamica', ''],\n",
       " '나이젤카본': ['나이젤카본', 'nigel cabourn', ''],\n",
       " '나이키': ['나이키', 'nike', '조던'],\n",
       " '낫띵리튼': ['낫띵리튼', 'nothing written', ''],\n",
       " '내셔널지오그래픽': ['내셔널지오그래픽',\n",
       "  'national geographic',\n",
       "  '네셔널지오그래픽',\n",
       "  ' 내셔널지오그래피',\n",
       "  ' 네셔널지오그래피'],\n",
       " '널디': ['널디', 'nerdy', ''],\n",
       " '넘버나인': ['넘버나인', 'number (n)ine', ''],\n",
       " '네이더스': ['네이더스', 'neithers', ''],\n",
       " '노스페이스': ['노스페이스', 'north face', '노페', ' 더 노스페이스'],\n",
       " '뉴발란스': ['뉴발란스', 'new balance', '뉴발'],\n",
       " '뉴에라': ['뉴에라', 'new era', ''],\n",
       " '느와르라르메스': ['느와르라르메스', 'noir larmes', ''],\n",
       " '니들스': ['니들스', 'needles', ''],\n",
       " '닐바렛': ['닐바렛', 'neil barrett', ''],\n",
       " '다미아니': ['다미아니', 'damiani', ''],\n",
       " '다이나핏': ['다이나핏', 'dynafit', ''],\n",
       " '다이애그널 ': ['다이애그널 ', 'diagonal', '다이에그널'],\n",
       " '닥스': ['닥스', 'daks', ''],\n",
       " '닥터마틴': ['닥터마틴', 'dr martens', ''],\n",
       " '단톤': ['단톤', 'danton', ''],\n",
       " '더오픈프로덕트': ['더오픈프로덕트', 'theopen product', ''],\n",
       " '던스트': ['던스트', 'dunst', ''],\n",
       " '데상트': ['데상트', 'descente', ''],\n",
       " '데상트골프': ['데상트골프', 'descente golf', ''],\n",
       " '덱케': ['덱케', 'decke', ''],\n",
       " '돌체앤가바나': ['돌체앤가바나', 'dolce & gabbana', ' d&c', '돌체엔가바나'],\n",
       " '두산베어스': ['두산베어스', 'doosan bears', ''],\n",
       " '듀엘': ['듀엘', 'dewl', ''],\n",
       " '드래곤백': ['드래곤백', 'dragon diffusion', ''],\n",
       " '드레익스': ['드레익스', \"drake's\", ''],\n",
       " '드리스반노튼': ['드리스반노튼', 'dries van noten', ''],\n",
       " '드바스크': ['드바스크', 'debassqq', ''],\n",
       " '디디에두보': ['디디에두보', 'didier dubot', ''],\n",
       " '디스이즈네버댓': ['디스이즈네버댓', 'thisisneverthat', '디네뎃'],\n",
       " '디스커버리': ['디스커버리', 'discovery', ''],\n",
       " '디스퀘어드': ['디스퀘어드', 'dsquared', ''],\n",
       " '디올': ['디올', 'dior', ''],\n",
       " '디젤': ['디젤', 'diesel', ''],\n",
       " '띠어리': ['띠어리', 'theory', ''],\n",
       " '라이프워크': ['라이프워크', 'lifework', ''],\n",
       " '라코스테': ['라코스테', 'lacoste', '라꼬스테', ' 라코스태', ' 라코스떼'],\n",
       " '라퍼지스토어': ['라퍼지스토어', 'la fudge store', ''],\n",
       " '라프시몬스': ['라프시몬스', 'raf simons', ''],\n",
       " '랑방': ['랑방', 'lanvin', ''],\n",
       " '러브캣': ['러브캣', 'lovcat', ''],\n",
       " '럭키슈에뜨': ['럭키슈에뜨', 'lucky chouette', ''],\n",
       " '레드윙': ['레드윙', 'red wing', ''],\n",
       " '로라로라': ['로라로라', 'rola rola', ''],\n",
       " '로로피아나': ['로로피아나', 'loro piana', ''],\n",
       " '로사케이': ['로사케이', 'rosa.k', ''],\n",
       " '로스코': ['로스코', 'rothco', ''],\n",
       " '로에베': ['로에베', 'loewe', ''],\n",
       " '로저비비에': ['로저비비에', 'roger vivier', ''],\n",
       " '론진': ['론진', 'longines', ''],\n",
       " '롤렉스': ['롤렉스', 'rolex', '로렉스', ' 로랙스', ' 롤랙스'],\n",
       " '롯데자이언츠': ['롯데자이언츠', 'lotte giants', ''],\n",
       " '루미녹스': ['루미녹스', 'luminox', ''],\n",
       " '루에브르': ['루에브르', 'loeuvre', ''],\n",
       " '루이까또즈': ['루이까또즈', 'louis quatorze', '류이까또즈', ' 루이가또즈'],\n",
       " '루이까스텔': ['루이까스텔', 'louis castel', ''],\n",
       " '루이비통': ['루이비통', 'louis vuitton', '루이비똥', ' 루비이퉁'],\n",
       " '룰루레몬': ['룰루레몬', 'lululemon', ''],\n",
       " '르꼬끄': ['르꼬끄', 'le coq', ' le coq sportif', '르꼬끄 스포르티프', ' 르코크'],\n",
       " '르메르': ['르메르', 'lemaire', ''],\n",
       " '리바이스': ['리바이스', 'levis', ''],\n",
       " '리복': ['리복', 'reebok', ''],\n",
       " '릭오웬스': ['릭오웬스', 'rick owens', ''],\n",
       " '마가렛호웰': ['마가렛호웰', 'margaret howell', ''],\n",
       " '마뗑킴': ['마뗑킴', 'matin kim', '마틴킴'],\n",
       " '마르니': ['마르니', 'marni', ''],\n",
       " '마르셀로불론': ['마르셀로불론', 'marcelo burlon', '마르셀로블론'],\n",
       " '마린세르': ['마린세르', 'marine serre', ''],\n",
       " '마무트': ['마무트', 'mammut', ''],\n",
       " '마시모두띠': ['마시모두띠', 'massimo dutti', ''],\n",
       " '마운틴하드웨어': ['마운틴하드웨어', 'mountain hardwear', ''],\n",
       " '마이클코어스': ['마이클코어스', 'michael kors', ''],\n",
       " '마인': ['마인', 'mine', ''],\n",
       " '마제스틱': ['마제스틱', 'majestic', ''],\n",
       " '마쥬': ['마쥬', 'maje', ''],\n",
       " '마크앤로나': ['마크앤로나', 'mark&lona', ''],\n",
       " '마틴로즈': ['마틴로즈', 'martine rose', ''],\n",
       " '만다리나덕': ['만다리나덕', 'mandarina duck', ''],\n",
       " '맥케이지': ['맥케이지', 'mackage', '맥캐이지'],\n",
       " '먼싱웨어': ['먼싱웨어', 'munsingwear', ''],\n",
       " '메종마르지엘라': ['메종마르지엘라', 'maison margiela', '매종마르지엘라'],\n",
       " '메종키츠네': ['메종키츠네', 'maison kitsune', '매종키츠네'],\n",
       " '메트로시티': ['메트로시티', 'metrocity', '매트로시티'],\n",
       " '모드나인': ['모드나인', 'modnine', ''],\n",
       " '모조에스핀': ['모조에스핀', 'mojo.s.phine', ''],\n",
       " '몬츄라': ['몬츄라', 'montura', ''],\n",
       " '몽블랑': ['몽블랑', 'montblanc', ''],\n",
       " '몽클레어': ['몽클레어', 'moncler', '몽클레르', ' 몽클'],\n",
       " '무스너클': ['무스너클', 'mooseknuckles', ''],\n",
       " '무신사스탠다드': ['무신사스탠다드', 'musinsa standard', '무탠다드', ' 무신사스텐다드'],\n",
       " '미닛뮤트': ['미닛뮤트', 'minitmute', ''],\n",
       " '미스치프': ['미스치프', 'mischief', ' mschf', ''],\n",
       " '미우미우': ['미우미우', 'miu miu', ''],\n",
       " '미하라야스히로': ['미하라야스히로', 'mihara yasuhiro', ''],\n",
       " '바라쿠타': ['바라쿠타', 'baracuta', ''],\n",
       " '바버': ['바버', 'barbour', ''],\n",
       " '바쉐론 콘스탄틴': ['바쉐론 콘스탄틴', 'vacheron constantin', ''],\n",
       " '반스': ['반스', 'vans', ''],\n",
       " '발렌시아가': ['발렌시아가', 'balenciaga', ''],\n",
       " '발렌타인': ['발렌타인', 'ballantyne', ''],\n",
       " '발렌티노': ['발렌티노', 'valentino', ''],\n",
       " '발망': ['발망', 'balmain', ''],\n",
       " '버버리': ['버버리', 'burberry', ''],\n",
       " '버즈릭슨': ['버즈릭슨', 'buzz rickson', ''],\n",
       " '벌스데이수트': ['벌스데이수트', 'birthdaysuit', ''],\n",
       " '베라왕': ['베라왕', 'vera wang', ''],\n",
       " '베르사체': ['베르사체', 'versace', ''],\n",
       " '베이프': ['베이프', 'bape', ''],\n",
       " '베트멍': ['베트멍', 'vetements', ''],\n",
       " '벨루티': ['벨루티', 'berluti', ''],\n",
       " '벨리에': ['벨리에', 'belier', ''],\n",
       " '보테가베네타': ['보테가베네타', 'bottega veneta', '보테가'],\n",
       " '부쉐론': ['부쉐론', 'boucheron', ''],\n",
       " '분크': ['분크', 'vunque', ''],\n",
       " '불가리': ['불가리', 'bvlgari', ''],\n",
       " '브라이틀링': ['브라이틀링', 'breitling', ''],\n",
       " '브룩스브라더스': ['브룩스브라더스', 'brooks brothers', ''],\n",
       " '블랙야크': ['블랙야크', 'black yak', ''],\n",
       " '블랭코브': ['블랭코브', 'blankof', ''],\n",
       " '블레스': ['블레스', 'bless', ''],\n",
       " '비바스튜디오': ['비바스튜디오', 'vivastudio', '비바 스투디오'],\n",
       " '비비안': ['비비안', 'vivien', ''],\n",
       " '비비안웨스트우드': ['비비안웨스트우드', 'vivienne westwood', ''],\n",
       " '비즈빔': ['비즈빔', 'visvim', ''],\n",
       " '빈폴': ['빈폴', 'beanpole', ''],\n",
       " '빔즈': ['빔즈', 'beams', ''],\n",
       " '사카이': ['사카이', 'sacai', ''],\n",
       " '산드로': ['산드로', 'sandro', ''],\n",
       " '살로몬': ['살로몬', 'salomon', ''],\n",
       " '삼성라이온즈': ['삼성라이온즈', 'samsung lions', ''],\n",
       " '생로랑': ['생로랑',\n",
       "  'saint laurent',\n",
       "  ' yves saint laurent',\n",
       "  ' ysl',\n",
       "  '세인트로랑',\n",
       "  ' 입생로랑',\n",
       "  ' 입생'],\n",
       " '샤넬': ['샤넬', 'chanel', ''],\n",
       " '세이코': ['세이코', 'seiko', ''],\n",
       " '세인트제임스': ['세인트제임스', 'saint james', ''],\n",
       " '셀린느': ['셀린느', 'celine', ''],\n",
       " '소우소우': ['소우소우', 'sou sou', ''],\n",
       " '소프트서울 ': ['소프트서울 ', 'soft seoul', ''],\n",
       " '손정완': ['손정완', 'son jung wan', ''],\n",
       " '솔로이스트': ['솔로이스트', 'soloist', ''],\n",
       " '솔리드옴므': ['솔리드옴므', 'solid homme', ''],\n",
       " '송지오옴므': ['송지오옴므', 'songzio', ''],\n",
       " '쇼메': ['쇼메', 'chaumet', ''],\n",
       " '슈콤마보니': ['슈콤마보니', 'sue comma bonnie', ''],\n",
       " '슈프림': ['슈프림', 'supreme', ''],\n",
       " '스와로브스키': ['스와로브스키', 'swarovski', ''],\n",
       " '스타일난다': ['스타일난다', 'stylenanda', ''],\n",
       " '스톤아일랜드': ['스톤아일랜드', 'stone island', ''],\n",
       " '스투시': ['스투시', 'stussy', ''],\n",
       " '스튜디오니콜슨': ['스튜디오니콜슨', 'studio nicholson', ''],\n",
       " '스파이더': ['스파이더', 'spyder', ''],\n",
       " '스푸닝': ['스푸닝', 'spooning', ''],\n",
       " '시리즈': ['시리즈', 'series', ''],\n",
       " '시스템': ['시스템', 'system', ''],\n",
       " '시티즌': ['시티즌', 'citizen', ''],\n",
       " '써스데이아일랜드': ['써스데이아일랜드', 'thursday island', ''],\n",
       " '아더에러': ['아더에러', 'ader error', ''],\n",
       " '아디다스': ['아디다스', 'adidas', ''],\n",
       " '아미': ['아미', 'ami', ''],\n",
       " '아미리': ['아미리', 'amiri', ''],\n",
       " '아베크롬비': ['아베크롬비', 'abercrombie', ' abercrombie & fitch', ''],\n",
       " '아비렉스': ['아비렉스', 'avirex', ''],\n",
       " '아식스': ['아식스', 'asics', ''],\n",
       " '아워레가시': ['아워레가시', 'our legacy', ''],\n",
       " '아조바이아조': ['아조바이아조', 'ajobyajo', '아조바이조'],\n",
       " '아카이브앱크': ['아카이브앱크', 'archivepke', ''],\n",
       " '아크네': ['아크네', 'acne', ' acne studio', '아크네 스튜디오'],\n",
       " '아크메드라비': ['아크메드라비', 'acmedelavie', ' adlv', '아크매드라비'],\n",
       " '아크테릭스': ['아크테릭스', \"arc'teryx\", ''],\n",
       " '아페쎄': ['아페쎄', 'a.p.c.', ''],\n",
       " '악셀아리가토': ['악셀아리가토', 'axel arigato', ''],\n",
       " '안다르': ['안다르', 'andar', ''],\n",
       " '안데르센안데르센': ['안데르센안데르센', 'andersen andersen', '안데르센'],\n",
       " '알든': ['알든', 'alden', ''],\n",
       " '알레그리': ['알레그리', 'allegri', ''],\n",
       " '알렉산더맥퀸': ['알렉산더맥퀸', 'alexander mcqueen', '알랙산더맥퀸'],\n",
       " '알렉산더왕': ['알렉산더왕', 'alexander wang', ''],\n",
       " '알렌느': ['알렌느', 'haleine', ''],\n",
       " '알릭스': ['알릭스', 'alyx', ''],\n",
       " '알파인더스트리': ['알파인더스트리', 'alpha industries', ''],\n",
       " '앤더슨벨': ['앤더슨벨', 'andersson bell', '엔더슨벨', ' 앤더스벨', ' 엔더스벨'],\n",
       " '어나더오피스': ['어나더오피스', 'another office', ''],\n",
       " '어콜드월': ['어콜드월', 'a cold wall', ''],\n",
       " '언더아머': ['언더아머', 'under armour', ''],\n",
       " '언더커버': ['언더커버', 'under cover', ''],\n",
       " '엄브로': ['엄브로', 'umbro', ''],\n",
       " '에고이스트': ['에고이스트', 'egoist', ''],\n",
       " '에르메스': ['에르메스', 'hermes', '애르매스'],\n",
       " '에센셜': ['에센셜', 'essential', ''],\n",
       " '에트로': ['에트로', 'etro', ''],\n",
       " '엔지니어드가먼츠': ['엔지니어드가먼츠', 'engineered garments', ''],\n",
       " '엘바테게브': ['엘바테게브', 'elbategev', ''],\n",
       " '예스아이씨': ['예스아이씨', 'yes eye see', ''],\n",
       " '오니츠카타이거': ['오니츠카타이거', 'onitsukatiger', ''],\n",
       " '오데마피게': ['오데마피게', 'audemars piguet', ''],\n",
       " '오리스': ['오리스', 'oris', ''],\n",
       " '오메가': ['오메가', 'omega', ''],\n",
       " '오베이': ['오베이', 'obey', '오배이'],\n",
       " '오소이': ['오소이', 'osoi', ''],\n",
       " '오야니': ['오야니', 'oryany', ''],\n",
       " '오일릴리': ['오일릴리', 'oilily', ''],\n",
       " '오즈세컨': ['오즈세컨', \"o' 2nd\", ''],\n",
       " '오클리': ['오클리', 'oakley', ''],\n",
       " '오프화이트': ['오프화이트', 'off white', ''],\n",
       " '올세인츠': ['올세인츠', 'all saints', ''],\n",
       " '와이드앵글': ['와이드앵글', 'wideangle', ''],\n",
       " '요지야마모토': ['요지야마모토', 'yohji yamamoto', ''],\n",
       " '우알롱': ['우알롱', 'wooalong', ''],\n",
       " '우영미': ['우영미', 'wooyoungmi', ''],\n",
       " '우포스': ['우포스', 'oofos', ''],\n",
       " '위블로': ['위블로', 'hublot', ''],\n",
       " '유니클로': ['유니클로', 'uniqlo', ''],\n",
       " '이세이미야케': ['이세이미야케', 'issey miyake', '이사이미야케'],\n",
       " '이자벨마랑': ['이자벨마랑', 'isabel marant', 'isbel marant'],\n",
       " '인스턴트펑크': ['인스턴트펑크', 'instant funk', ''],\n",
       " '일꼬르소': ['일꼬르소', 'ilcorso', ''],\n",
       " '잇미샤': ['잇미샤', 'it michaa', ''],\n",
       " '자라': ['자라', 'zara', ''],\n",
       " '자크뮈스': ['자크뮈스', 'jacquemus', ''],\n",
       " '잔스포츠': ['잔스포츠', 'jansport', ''],\n",
       " '제시뉴욕': ['제시뉴욕', 'jessi newyork', ''],\n",
       " '제이린드버그': ['제이린드버그', 'j.lindeberg', ''],\n",
       " '제이에스티나': ['제이에스티나', 'j.estina', ''],\n",
       " '젝시믹스': ['젝시믹스', 'xexymix', ''],\n",
       " '젠틀몬스터': ['젠틀몬스터', 'gentle monster', ''],\n",
       " '조셉앤스테이시': ['조셉앤스테이시', 'joseph and stacey', ' JOSEPH&STACEY', '조셉엔스테이시'],\n",
       " '조이그라이슨': ['조이그라이슨', 'joygryson', ''],\n",
       " '준지': ['준지', 'juun.j', ''],\n",
       " '지방시': ['지방시', 'givenchy', ''],\n",
       " '지샥': ['지샥', 'gshock', '쥐샥'],\n",
       " '질샌더': ['질샌더', 'jil sander', ''],\n",
       " '질스튜어트': ['질스튜어트', 'jill stuart', '질슈트어트'],\n",
       " '찰스앤키스': ['찰스앤키스', 'charles & keith', '찰스엔키스'],\n",
       " '챔피온': ['챔피온', 'champion', '챔피언'],\n",
       " '카시오': ['카시오', 'casio', ''],\n",
       " '칼린': ['칼린', 'carlyn', ''],\n",
       " '칼하트': ['칼하트', 'carhartt', ''],\n",
       " '캉골': ['캉골', 'kangol', ''],\n",
       " '캐나다구스': ['캐나다구스', 'canada goose', '케나다구스'],\n",
       " '캘러웨이': ['캘러웨이', 'callaway', ''],\n",
       " '캘빈클라인': ['캘빈클라인', 'calvin klein', ' ck', '켈빈클라인', ' 케빈클라인'],\n",
       " '캠퍼': ['캠퍼', 'camper', ''],\n",
       " '커렌트': ['커렌트', 'current', ''],\n",
       " '커먼프로젝트': ['커먼프로젝트', 'common projects', '커먼프로잭트'],\n",
       " '커버낫': ['커버낫', 'convernat', ''],\n",
       " '커스텀멜로우': ['커스텀멜로우', 'customellow', '커스텀맬로우'],\n",
       " '컨버스': ['컨버스', 'converse', ''],\n",
       " '코비': ['코비', 'kobe', ''],\n",
       " '코스': ['코스', 'cos', ''],\n",
       " '코오롱': ['코오롱', 'kolon', ''],\n",
       " '코치': ['코치', 'coach', ''],\n",
       " '쿠론': ['쿠론', 'couronne', ''],\n",
       " '큐리티': ['큐리티', 'curetty', ''],\n",
       " '크록스': ['크록스', 'crocs', ''],\n",
       " '크롬하츠': ['크롬하츠', 'chrome hearts', ''],\n",
       " '클락스': ['클락스', 'clarks', ''],\n",
       " '키르시': ['키르시', 'kirsh', ''],\n",
       " '키이스': ['키이스', 'keith', '키이쓰'],\n",
       " '키코': ['키코', 'kiko', ''],\n",
       " '키플링': ['키플링', 'kipling', ''],\n",
       " '킨더살몬': ['킨더살몬', 'kindersalmon', ''],\n",
       " '타미힐피거': ['타미힐피거', 'tommy hilfiger', ''],\n",
       " '타이틀리스트': ['타이틀리스트', 'titleist', ''],\n",
       " '타임': ['타임', 'time', ''],\n",
       " '태그호이어': ['태그호이어', 'tag heuer', ''],\n",
       " '텔파': ['텔파', 'telfar', ''],\n",
       " '토리버치': ['토리버치', 'tory burch', ''],\n",
       " '토마스모어': ['토마스모어', 'thomas more', ''],\n",
       " '토즈': ['토즈', 'tods', ''],\n",
       " '토템': ['토템', 'toteme', ''],\n",
       " '토트넘': ['토트넘', 'tottenham', ''],\n",
       " '톰보이': ['톰보이', 'tom boy', ''],\n",
       " '톰브라운': ['톰브라운', 'thom browne', ''],\n",
       " '톰포드': ['톰포드', 'tomford', ''],\n",
       " '투미': ['투미', 'tumi', ''],\n",
       " '튜더': ['튜더', 'tudor', ''],\n",
       " '티쏘': ['티쏘', 'tissot', ''],\n",
       " '티파니앤코': ['티파니앤코', 'tiffany', ' tiffancy & co', ''],\n",
       " '팀버랜드': ['팀버랜드', 'timberland', ''],\n",
       " '파라부트': ['파라부트', 'paraboot', ''],\n",
       " '파라점퍼스': ['파라점퍼스', 'para jumpers', ''],\n",
       " '파리게이츠': ['파리게이츠', 'pearly gates', ''],\n",
       " '파인드카푸어': ['파인드카푸어', 'find kapoor', ''],\n",
       " '파타고니아': ['파타고니아', 'patagonia', ''],\n",
       " '파텍필립': ['파텍필립', 'patek philippe', ''],\n",
       " '판도라': ['판도라', 'pandora', ''],\n",
       " '페라가모': ['페라가모', 'ferragamo', ''],\n",
       " '페이탈리즘': ['페이탈리즘', 'fatalism', '패이탈리즘'],\n",
       " '펜디': ['펜디', 'fendi', '팬디'],\n",
       " '포터': ['포터', 'porter', '요시다 포터'],\n",
       " '폴로': ['폴로', 'polo', ' ralphlauren', '폴로 랄프로렌', ' 랄프로렌'],\n",
       " '폴로스포츠': ['폴로스포츠', 'polo sport', ''],\n",
       " '폴스미스': ['폴스미스', 'paul smith', ''],\n",
       " '폴스부띠끄': ['폴스부띠끄', 'pauls boutique', ''],\n",
       " '프라다': ['프라다', 'prada', ''],\n",
       " '프라이탁': ['프라이탁', 'freitag', ''],\n",
       " '프레드': ['프레드', 'fred', ''],\n",
       " '프레드릭 콘스탄트': ['프레드릭 콘스탄트', 'frederique constant', ''],\n",
       " '프레드페리': ['프레드페리', 'fredperry', ''],\n",
       " '플립': ['플립', 'flip', ''],\n",
       " '피스워커': ['피스워커', 'piece worker', ''],\n",
       " '피어오브갓': ['피어오브갓', 'fear of god', '피오갓', ' fog'],\n",
       " '피엘라벤': ['피엘라벤', 'fjallraven', ''],\n",
       " '필립플레인': ['필립플레인', 'philipp plein', '필립프레인'],\n",
       " '필슨': ['필슨', 'filson', ''],\n",
       " '핏플랍': ['핏플랍', 'fitflop', ''],\n",
       " '하이칙스': ['하이칙스', 'high cheeks', ''],\n",
       " '해밀턴': ['해밀턴', 'hamilton', ''],\n",
       " '험멜': ['험멜', 'hummel', ''],\n",
       " '헤지스': ['헤지스', 'hazzys', ''],\n",
       " '헨리코튼': ['헨리코튼', 'henry cottons', ''],\n",
       " '헬무트랭': ['헬무트랭', 'helmutlang', ''],\n",
       " '호카오네오네': ['호카오네오네', 'hoka one one', ' hoka', '']}"
      ]
     },
     "execution_count": 52,
     "metadata": {},
     "output_type": "execute_result"
    }
   ],
   "source": [
    "brands"
   ]
  },
  {
   "cell_type": "code",
   "execution_count": 55,
   "metadata": {},
   "outputs": [],
   "source": [
    "brands_token = {}\n",
    "for k, v in brands.items():\n",
    "    tmp = [unigram_20000.encode_as_pieces(x) for x in v]\n",
    "    brands_token[k] = [i for i in tmp if i != []]"
   ]
  },
  {
   "cell_type": "code",
   "execution_count": 56,
   "metadata": {},
   "outputs": [
    {
     "data": {
      "text/plain": [
       "{'MCM': [['▁', 'MCM'], ['▁엠씨엠']],\n",
       " nan: [],\n",
       " '겐조': [['▁겐조'], ['▁kenzo'], ['▁갠조']],\n",
       " '고야드': [['▁고야드'], ['▁goyard']],\n",
       " '골든구스': [['▁골든구스'], ['▁golden', '▁goose']],\n",
       " '골든듀': [['▁골든듀'], ['▁golden', 'de', 'w']],\n",
       " '구찌': [['▁구찌'], ['▁gucci']],\n",
       " '구호': [['▁구호'], ['▁kuho']],\n",
       " '그라미치': [['▁그라미치'], ['▁gr', 'ami', 'cci']],\n",
       " '그랜드세이코': [['▁그랜드', '세이', '코'], ['▁gr', 'and', '▁seiko']],\n",
       " '그레고리': [['▁그레고리'], ['▁gr', 'eg', 'ory']],\n",
       " '까르띠에': [['▁까르띠에'], ['▁cartier']],\n",
       " '까스텔바작': [['▁까스텔바작'],\n",
       "  ['▁castel', '▁ba', 'j', 'ac'],\n",
       "  ['▁까', '스', '탤', '바', '작']],\n",
       " '꼼데가르송': [['▁꼼데가르송'],\n",
       "  ['▁comme', '▁des', '▁garcons'],\n",
       "  ['▁꼼데'],\n",
       "  ['▁꼼', '대'],\n",
       "  ['▁꼼대가르송']],\n",
       " '끌로에': [['▁끌로에'], ['▁chloe']],\n",
       " '나나미카': [['▁나나미카'], ['▁nan', 'am', 'ica']],\n",
       " '나이젤카본': [['▁나이젤카본'], ['▁n', 'ige', 'l', '▁ca', 'b', 'our', 'n']],\n",
       " '나이키': [['▁나이키'], ['▁nike'], ['▁조던']],\n",
       " '낫띵리튼': [['▁낫띵리튼'], ['▁no', 'thing', '▁w', 'ri', 't', 'ten']],\n",
       " '내셔널지오그래픽': [['▁내셔널지오그래픽'],\n",
       "  ['▁n', 'ation', 'al', '▁ge', 'o', 'graph', 'ic'],\n",
       "  ['▁네셔널지오그래픽'],\n",
       "  ['▁내셔널', '지오', '그래', '피'],\n",
       "  ['▁네셔널', '지오', '그래', '피']],\n",
       " '널디': [['▁널디'], ['▁nerdy']],\n",
       " '넘버나인': [['▁넘버나인'], ['▁number', '▁', '(', 'n', ')', 'ine']],\n",
       " '네이더스': [['▁네이더스'], ['▁n', 'ei', 'ther', 's']],\n",
       " '노스페이스': [['▁노스페이스'], ['▁north', '▁face'], ['▁노페'], ['▁더', '▁노스페이스']],\n",
       " '뉴발란스': [['▁뉴발란스'], ['▁new', '▁balance'], ['▁뉴발']],\n",
       " '뉴에라': [['▁뉴에라'], ['▁new', '▁', 'era']],\n",
       " '느와르라르메스': [['▁느와르', '라', '르', '메', '스'],\n",
       "  ['▁no', 'ir', '▁l', 'ar', 'me', 's']],\n",
       " '니들스': [['▁니들스'], ['▁needles']],\n",
       " '닐바렛': [['▁닐바렛'], ['▁neil', '▁barrett']],\n",
       " '다미아니': [['▁다미아니'], ['▁d', 'ami', 'ani']],\n",
       " '다이나핏': [['▁다이나핏'], ['▁', 'dy', 'na', 'fit']],\n",
       " '다이애그널 ': [['▁다이애그널'], ['▁diagon', 'al'], ['▁다이', '에', '그', '널']],\n",
       " '닥스': [['▁닥스'], ['▁daks']],\n",
       " '닥터마틴': [['▁닥터마틴'], ['▁dr', '▁martens']],\n",
       " '단톤': [['▁단톤'], ['▁danton']],\n",
       " '더오픈프로덕트': [['▁더오픈프로덕트'], ['▁the', 'o', 'pen', '▁', 'product']],\n",
       " '던스트': [['▁던스트'], ['▁d', 'un', 'st']],\n",
       " '데상트': [['▁데상트'], ['▁descente']],\n",
       " '데상트골프': [['▁데상트', '골프'], ['▁descente', '▁golf']],\n",
       " '덱케': [['▁덱케'], ['▁de', 'ck', 'e']],\n",
       " '돌체앤가바나': [['▁돌체앤가바나'],\n",
       "  ['▁dolce', '▁', '&', '▁gabbana'],\n",
       "  ['▁d', '&', 'c'],\n",
       "  ['▁돌체엔가바나']],\n",
       " '두산베어스': [['▁두산베어스'], ['▁do', 'o', 's', 'an', '▁bear', 's']],\n",
       " '듀엘': [['▁듀엘'], ['▁dewl']],\n",
       " '드래곤백': [['▁드래곤', '백'], ['▁dr', 'ag', 'on', '▁d', 'iff', 'u', 'sion']],\n",
       " '드레익스': [['▁드레익스'], ['▁dr', 'ake', \"'\", 's']],\n",
       " '드리스반노튼': [['▁드리스반노튼'], ['▁dri', 'es', '▁van', '▁no', 'ten']],\n",
       " '드바스크': [['▁드바스크'], ['▁de', 'ba', 'ss', 'q', 'q']],\n",
       " '디디에두보': [['▁디디에두보'], ['▁d', 'idi', 'er', '▁du', 'bo', 't']],\n",
       " '디스이즈네버댓': [['▁디스이즈네버댓'], ['▁thisisneverthat'], ['▁디네뎃']],\n",
       " '디스커버리': [['▁디스커버리'], ['▁discovery']],\n",
       " '디스퀘어드': [['▁디스퀘어드'], ['▁dsquared']],\n",
       " '디올': [['▁디올'], ['▁dior']],\n",
       " '디젤': [['▁디젤'], ['▁diesel']],\n",
       " '띠어리': [['▁띠어리'], ['▁theory']],\n",
       " '라이프워크': [['▁라이프워크'], ['▁life', 'work']],\n",
       " '라코스테': [['▁라코스테'],\n",
       "  ['▁lacoste'],\n",
       "  ['▁라', '꼬', '스테'],\n",
       "  ['▁라코스', '태'],\n",
       "  ['▁라코스떼']],\n",
       " '라퍼지스토어': [['▁라퍼지스토어'], ['▁la', '▁f', 'ud', 'ge', '▁store']],\n",
       " '라프시몬스': [['▁라프시몬스'], ['▁raf', '▁si', 'mon', 's']],\n",
       " '랑방': [['▁랑방'], ['▁lanvin']],\n",
       " '러브캣': [['▁러브캣'], ['▁lovcat']],\n",
       " '럭키슈에뜨': [['▁럭키슈에뜨'], ['▁lucky', '▁chouette']],\n",
       " '레드윙': [['▁레드윙'], ['▁red', '▁w', 'ing']],\n",
       " '로라로라': [['▁로라로라'], ['▁r', 'ola', '▁r', 'ola']],\n",
       " '로로피아나': [['▁로로피아나'], ['▁lo', 'ro', '▁pi', 'ana']],\n",
       " '로사케이': [['▁로사케이'], ['▁rosa', '.', 'k']],\n",
       " '로스코': [['▁로스코'], ['▁ro', 'th', 'co']],\n",
       " '로에베': [['▁로에베'], ['▁loewe']],\n",
       " '로저비비에': [['▁로저비비에'], ['▁ro', 'ger', '▁vivi', 'er']],\n",
       " '론진': [['▁론진'], ['▁long', 'ine', 's']],\n",
       " '롤렉스': [['▁롤렉스'], ['▁rolex'], ['▁로렉스'], ['▁로', '랙스'], ['▁롤', '랙스']],\n",
       " '롯데자이언츠': [['▁롯데자이언츠'], ['▁lo', 'tte', '▁gi', 'ant', 's']],\n",
       " '루미녹스': [['▁루미녹스'], ['▁l', 'um', 'ino', 'x']],\n",
       " '루에브르': [['▁루', '에', '브르'], ['▁l', 'oe', 'uv', 're']],\n",
       " '루이까또즈': [['▁루이까또즈'],\n",
       "  ['▁louis', '▁quatorze'],\n",
       "  ['▁', '류', '이', '까또즈'],\n",
       "  ['▁루이가또즈']],\n",
       " '루이까스텔': [['▁루이까스텔'], ['▁louis', '▁castel']],\n",
       " '루이비통': [['▁루이비통'], ['▁louis', '▁vuitton'], ['▁루이비똥'], ['▁루비', '이', '퉁']],\n",
       " '룰루레몬': [['▁룰루레몬'], ['▁lu', 'lu', 'le', 'mon']],\n",
       " '르꼬끄': [['▁르꼬끄'],\n",
       "  ['▁le', '▁coq'],\n",
       "  ['▁le', '▁coq', '▁sportif'],\n",
       "  ['▁르꼬끄', '▁스', '포르', '티', '프'],\n",
       "  ['▁르', '코', '크']],\n",
       " '르메르': [['▁르메르'], ['▁lemaire']],\n",
       " '리바이스': [['▁리바이스'], ['▁levis']],\n",
       " '리복': [['▁리복'], ['▁reebok']],\n",
       " '릭오웬스': [['▁릭오웬스'], ['▁ri', 'ck', '▁ow', 'en', 's']],\n",
       " '마가렛호웰': [['▁마가렛호웰'], ['▁mar', 'gar', 'et', '▁ho', 'well']],\n",
       " '마뗑킴': [['▁마뗑킴'], ['▁m', 'at', 'in', '▁kim'], ['▁마틴킴']],\n",
       " '마르니': [['▁마르니'], ['▁marni']],\n",
       " '마르셀로불론': [['▁마르셀로불론'], ['▁m', 'arcelo', '▁burlon'], ['▁마르셀로', '블', '론']],\n",
       " '마린세르': [['▁마린세르'], ['▁mar', 'ine', '▁s', 'erre']],\n",
       " '마무트': [['▁마무트'], ['▁ma', 'mm', 'ut']],\n",
       " '마시모두띠': [['▁마시모두띠'], ['▁ma', 'ss', 'im', 'o', '▁du', 't', 'ti']],\n",
       " '마운틴하드웨어': [['▁마운틴하드웨어'], ['▁mountain', '▁h', 'ard', 'wear']],\n",
       " '마이클코어스': [['▁마이클코어스'], ['▁michael', '▁kors']],\n",
       " '마인': [['▁마인'], ['▁mine']],\n",
       " '마제스틱': [['▁마제스틱'], ['▁majestic']],\n",
       " '마쥬': [['▁마쥬'], ['▁maje']],\n",
       " '마크앤로나': [['▁마크앤로나'], ['▁mark', '&', 'lon', 'a']],\n",
       " '마틴로즈': [['▁마틴로즈'], ['▁martin', 'e', '▁rose']],\n",
       " '만다리나덕': [['▁만다리나덕'], ['▁m', 'and', 'ar', 'ina', '▁duck']],\n",
       " '맥케이지': [['▁맥케이지'], ['▁m', 'ack', 'age'], ['▁맥', '캐', '이지']],\n",
       " '먼싱웨어': [['▁먼싱웨어'], ['▁munsing', 'wear']],\n",
       " '메종마르지엘라': [['▁메종마르지엘라'], ['▁maison', '▁margiela'], ['▁매', '종', '마르지엘라']],\n",
       " '메종키츠네': [['▁메종키츠네'],\n",
       "  ['▁maison', '▁ki', 'ts', 'une'],\n",
       "  ['▁매', '종', '키', '츠', '네']],\n",
       " '메트로시티': [['▁메트로시티'], ['▁metrocity'], ['▁매트로시티']],\n",
       " '모드나인': [['▁모드나인'], ['▁mod', 'n', 'ine']],\n",
       " '모조에스핀': [['▁모조에스핀'], ['▁mojo', '.', 's', '.', 'ph', 'ine']],\n",
       " '몬츄라': [['▁몬츄라'], ['▁mont', 'ura']],\n",
       " '몽블랑': [['▁몽블랑'], ['▁', 'montblanc']],\n",
       " '몽클레어': [['▁몽클레어'], ['▁moncler'], ['▁몽클레르'], ['▁몽클']],\n",
       " '무스너클': [['▁무스너클'], ['▁moose', 'k', 'n', 'uck', 'les']],\n",
       " '무신사스탠다드': [['▁무신사스탠다드'],\n",
       "  ['▁m', 'us', 'in', 'sa', '▁standard'],\n",
       "  ['▁무탠다드'],\n",
       "  ['▁무신사', '스텐다드']],\n",
       " '미닛뮤트': [['▁미닛뮤트'], ['▁mini', 't', 'm', 'ute']],\n",
       " '미스치프': [['▁미스치프'], ['▁mis', 'chi', 'ef'], ['▁mschf']],\n",
       " '미우미우': [['▁미우미우'], ['▁miu', '▁miu']],\n",
       " '미하라야스히로': [['▁미하라야스히로'], ['▁mi', 'har', 'a', '▁ya', 'su', 'h', 'iro']],\n",
       " '바라쿠타': [['▁바라쿠타'], ['▁b', 'ara', 'cut', 'a']],\n",
       " '바버': [['▁바버'], ['▁barbour']],\n",
       " '바쉐론 콘스탄틴': [['▁바쉐론', '▁콘스탄틴'],\n",
       "  ['▁v', 'ache', 'ron', '▁con', 'st', 'ant', 'in']],\n",
       " '반스': [['▁반스'], ['▁vans']],\n",
       " '발렌시아가': [['▁발렌시아가'], ['▁balenciaga']],\n",
       " '발렌타인': [['▁발렌타인'], ['▁ball', 'ant', 'y', 'ne']],\n",
       " '발렌티노': [['▁발렌티노'], ['▁valentino']],\n",
       " '발망': [['▁발망'], ['▁balmain']],\n",
       " '버버리': [['▁버버리'], ['▁burberry']],\n",
       " '버즈릭슨': [['▁버즈릭슨'], ['▁bu', 'zz', '▁ri', 'ck', 'son']],\n",
       " '벌스데이수트': [['▁벌', '스', '데이', '수트'], ['▁b', 'ir', 'th', 'day', 'su', 'it']],\n",
       " '베라왕': [['▁베라왕'], ['▁ver', 'a', '▁wang']],\n",
       " '베르사체': [['▁베르사체'], ['▁versace']],\n",
       " '베이프': [['▁베이프'], ['▁bape']],\n",
       " '베트멍': [['▁베트멍'], ['▁vetements']],\n",
       " '벨루티': [['▁벨루티'], ['▁ber', 'lu', 'ti']],\n",
       " '벨리에': [['▁벨리에'], ['▁b', 'eli', 'er']],\n",
       " '보테가베네타': [['▁보테가베네타'], ['▁bottega', '▁veneta'], ['▁보테가']],\n",
       " '부쉐론': [['▁부쉐론'], ['▁b', 'ou', 'che', 'ron']],\n",
       " '분크': [['▁분', '크'], ['▁v', 'un', 'que']],\n",
       " '불가리': [['▁불가리'], ['▁bvlgari']],\n",
       " '브라이틀링': [['▁브라이틀링'], ['▁bre', 'it', 'ling']],\n",
       " '브룩스브라더스': [['▁브룩스브라더스'], ['▁brooks', '▁brothers']],\n",
       " '블랙야크': [['▁블랙야크'], ['▁black', '▁ya', 'k']],\n",
       " '블랭코브': [['▁블랭코브'], ['▁blank', 'of']],\n",
       " '블레스': [['▁블레스'], ['▁b', 'less']],\n",
       " '비바스튜디오': [['▁비바스튜디오'], ['▁vivastudio'], ['▁비바', '▁스투', '디오']],\n",
       " '비비안': [['▁비비안'], ['▁vivi', 'en']],\n",
       " '비비안웨스트우드': [['▁비비안웨스트우드'], ['▁vivienne', '▁westwood']],\n",
       " '비즈빔': [['▁비즈빔'], ['▁visvim']],\n",
       " '빈폴': [['▁빈폴'], ['▁beanpole']],\n",
       " '빔즈': [['▁빔즈'], ['▁beams']],\n",
       " '사카이': [['▁사카이'], ['▁sacai']],\n",
       " '산드로': [['▁산드로'], ['▁sandro']],\n",
       " '살로몬': [['▁살로몬'], ['▁sa', 'lo', 'mon']],\n",
       " '삼성라이온즈': [['▁삼성', '라이', '온', '즈'], ['▁sa', 'ms', 'ung', '▁l', 'ion', 's']],\n",
       " '생로랑': [['▁생로랑'],\n",
       "  ['▁saint', '▁laurent'],\n",
       "  ['▁yves', '▁saint', '▁laurent'],\n",
       "  ['▁ysl'],\n",
       "  ['▁세인트로랑'],\n",
       "  ['▁입생로랑'],\n",
       "  ['▁입생']],\n",
       " '샤넬': [['▁샤넬'], ['▁chanel']],\n",
       " '세이코': [['▁세이코'], ['▁seiko']],\n",
       " '세인트제임스': [['▁세인트제임스'], ['▁saint', '▁james']],\n",
       " '셀린느': [['▁셀린느'], ['▁celine']],\n",
       " '소우소우': [['▁소우소우'], ['▁s', 'ou', '▁s', 'ou']],\n",
       " '소프트서울 ': [['▁소프트서울'], ['▁soft', '▁seoul']],\n",
       " '손정완': [['▁손정완'], ['▁s', 'on', '▁j', 'ung', '▁w', 'an']],\n",
       " '솔로이스트': [['▁솔로이스트'], ['▁soloist']],\n",
       " '솔리드옴므': [['▁솔리드옴므'], ['▁solid', '▁homme']],\n",
       " '송지오옴므': [['▁송지오', '옴므'], ['▁s', 'ong', 'zio']],\n",
       " '쇼메': [['▁쇼메'], ['▁cha', 'ume', 't']],\n",
       " '슈콤마보니': [['▁슈콤마보니'], ['▁s', 'ue', '▁com', 'ma', '▁bonnie']],\n",
       " '슈프림': [['▁슈프림'], ['▁supreme']],\n",
       " '스와로브스키': [['▁스와로브스키'], ['▁swarovski']],\n",
       " '스타일난다': [['▁스타일난다'], ['▁style', 'n', 'and', 'a']],\n",
       " '스톤아일랜드': [['▁스톤아일랜드'], ['▁stone', '▁island']],\n",
       " '스투시': [['▁스투시'], ['▁stussy']],\n",
       " '스튜디오니콜슨': [['▁스튜디오니콜슨'], ['▁studio', '▁n', 'ich', 'ol', 'son']],\n",
       " '스파이더': [['▁스파이더'], ['▁spyder']],\n",
       " '스푸닝': [['▁스푸닝'], ['▁sp', 'oon', 'ing']],\n",
       " '시리즈': [['▁시리즈'], ['▁series']],\n",
       " '시스템': [['▁시스템'], ['▁system']],\n",
       " '시티즌': [['▁시티즌'], ['▁citizen']],\n",
       " '써스데이아일랜드': [['▁써스데이아일랜드'], ['▁thursday', '▁island']],\n",
       " '아더에러': [['▁아더에러'], ['▁a', 'der', '▁e', 'rr', 'or']],\n",
       " '아디다스': [['▁아디다스'], ['▁adidas']],\n",
       " '아미': [['▁아미'], ['▁ami']],\n",
       " '아미리': [['▁아미리'], ['▁ami', 'ri']],\n",
       " '아베크롬비': [['▁아베크롬비'], ['▁abercrombie'], ['▁abercrombie', '▁', '&', '▁fitch']],\n",
       " '아비렉스': [['▁아비렉스'], ['▁avirex']],\n",
       " '아식스': [['▁아식스'], ['▁asics']],\n",
       " '아워레가시': [['▁아워레가시'], ['▁', 'our', '▁', 'legacy']],\n",
       " '아조바이아조': [['▁아조바이아조'],\n",
       "  ['▁aj', 'o', 'by', 'a', 'j', 'o'],\n",
       "  ['▁아', '조', '바이', '조']],\n",
       " '아카이브앱크': [['▁아카이브앱크'], ['▁archive', 'pk', 'e']],\n",
       " '아크네': [['▁아크네'], ['▁acne'], ['▁acne', '▁studio'], ['▁아크네', '▁스튜디오']],\n",
       " '아크메드라비': [['▁아크메드라비'],\n",
       "  ['▁a', 'cm', 'ed', 'el', 'avi', 'e'],\n",
       "  ['▁ad', 'lv'],\n",
       "  ['▁아크', '매', '드라', '비']],\n",
       " '아크테릭스': [['▁아크테릭스'], ['▁ar', 'c', \"'\", 'ter', 'y', 'x']],\n",
       " '아페쎄': [['▁아페쎄'], ['▁a', '.', 'p', '.', 'c', '.']],\n",
       " '악셀아리가토': [['▁악', '셀', '아', '리', '가', '토'],\n",
       "  ['▁a', 'x', 'el', '▁ar', 'ig', 'ato']],\n",
       " '안다르': [['▁안다르'], ['▁and', 'ar']],\n",
       " '안데르센안데르센': [['▁안데르센', '안', '데', '르', '센'],\n",
       "  ['▁and', 'ers', 'en', '▁and', 'ers', 'en'],\n",
       "  ['▁안데르센']],\n",
       " '알든': [['▁알든'], ['▁al', 'den']],\n",
       " '알레그리': [['▁알레그리'], ['▁all', 'eg', 'ri']],\n",
       " '알렉산더맥퀸': [['▁알렉산더맥퀸'], ['▁alexander', '▁mcqueen'], ['▁알랙산더맥퀸']],\n",
       " '알렉산더왕': [['▁알렉산더왕'], ['▁alexander', '▁wang']],\n",
       " '알렌느': [['▁알렌느'], ['▁h', 'ale', 'ine']],\n",
       " '알릭스': [['▁알릭스'], ['▁alyx']],\n",
       " '알파인더스트리': [['▁알파인더스트리'], ['▁alpha', '▁in', 'du', 'st', 'rie', 's']],\n",
       " '앤더슨벨': [['▁앤더슨벨'],\n",
       "  ['▁andersson', '▁bell'],\n",
       "  ['▁엔더슨벨'],\n",
       "  ['▁앤', '더스', '벨'],\n",
       "  ['▁엔', '더스', '벨']],\n",
       " '어나더오피스': [['▁어나더오피스'], ['▁another', '▁office']],\n",
       " '어콜드월': [['▁어콜드월'], ['▁a', '▁cold', '▁wall']],\n",
       " '언더아머': [['▁언더아머'], ['▁under', '▁ar', 'm', 'our']],\n",
       " '언더커버': [['▁언더커버'], ['▁under', '▁cover']],\n",
       " '엄브로': [['▁엄브로'], ['▁umbro']],\n",
       " '에고이스트': [['▁에고이스트'], ['▁egoist']],\n",
       " '에르메스': [['▁에르메스'], ['▁hermes'], ['▁애', '르', '매', '스']],\n",
       " '에센셜': [['▁에센셜'], ['▁essential']],\n",
       " '에트로': [['▁에트로'], ['▁etro']],\n",
       " '엔지니어드가먼츠': [['▁엔지니어드가먼츠'],\n",
       "  ['▁e', 'ng', 'ine', 'er', 'ed', '▁gar', 'ment', 's']],\n",
       " '엘바테게브': [['▁엘바테게브'], ['▁el', 'b', 'ate', 'ge', 'v']],\n",
       " '예스아이씨': [['▁예스아이씨'], ['▁yes', '▁eye', '▁see']],\n",
       " '오니츠카타이거': [['▁오니츠카타이거'], ['▁on', 'it', 'su', 'k', 'ati', 'ger']],\n",
       " '오데마피게': [['▁오데마피게'], ['▁aude', 'mars', '▁pigue', 't']],\n",
       " '오리스': [['▁오리스'], ['▁or', 'is']],\n",
       " '오메가': [['▁오메가'], ['▁omega']],\n",
       " '오베이': [['▁오베이'], ['▁obey'], ['▁오', '배', '이']],\n",
       " '오소이': [['▁오소이'], ['▁os', 'oi']],\n",
       " '오야니': [['▁오야니'], ['▁', 'ory', 'any']],\n",
       " '오일릴리': [['▁오일릴리'], ['▁oilily']],\n",
       " '오즈세컨': [['▁오즈세컨'], ['▁o', \"'\", '▁2', 'nd']],\n",
       " '오클리': [['▁오클리'], ['▁oak', 'ley']],\n",
       " '오프화이트': [['▁오프화이트'], ['▁off', '▁white']],\n",
       " '올세인츠': [['▁올세인츠'], ['▁all', '▁saint', 's']],\n",
       " '와이드앵글': [['▁와이드앵글'], ['▁wide', 'ang', 'le']],\n",
       " '요지야마모토': [['▁요지야마모토'], ['▁yohji', '▁yamam', 'oto']],\n",
       " '우알롱': [['▁우알롱'], ['▁w', 'oo', 'al', 'ong']],\n",
       " '우영미': [['▁우영미'], ['▁w', 'oo', 'you', 'ng', 'mi']],\n",
       " '우포스': [['▁우포스'], ['▁o', 'of', 'o', 's']],\n",
       " '위블로': [['▁위블로'], ['▁hublot']],\n",
       " '유니클로': [['▁유니클로'], ['▁uniqlo']],\n",
       " '이세이미야케': [['▁이세이미야케'], ['▁issey', '▁miyake'], ['▁이사', '이', '미', '야', '케']],\n",
       " '이자벨마랑': [['▁이자벨마랑'], ['▁isabel', '▁marant'], ['▁is', 'b', 'el', '▁marant']],\n",
       " '인스턴트펑크': [['▁인스턴트펑크'], ['▁in', 'st', 'ant', '▁f', 'un', 'k']],\n",
       " '일꼬르소': [['▁일꼬르소'], ['▁il', 'cor', 'so']],\n",
       " '잇미샤': [['▁잇미샤'], ['▁it', '▁michaa']],\n",
       " '자라': [['▁자라'], ['▁zara']],\n",
       " '자크뮈스': [['▁자크뮈스'], ['▁j', 'ac', 'que', 'm', 'us']],\n",
       " '잔스포츠': [['▁잔스포츠'], ['▁ja', 'ns', 'port']],\n",
       " '제시뉴욕': [['▁제시뉴욕'], ['▁jessi', '▁newyork']],\n",
       " '제이린드버그': [['▁제이린드버그'], ['▁j', '.', 'lin', 'de', 'ber', 'g']],\n",
       " '제이에스티나': [['▁제이에스티나'], ['▁j', '.', 'e', 'st', 'ina']],\n",
       " '젝시믹스': [['▁젝시믹스'], ['▁x', 'ex', 'y', 'mi', 'x']],\n",
       " '젠틀몬스터': [['▁젠틀몬스터'], ['▁gentle', '▁mon', 'ster']],\n",
       " '조셉앤스테이시': [['▁조셉앤스테이시'],\n",
       "  ['▁joseph', '▁and', '▁st', 'ace', 'y'],\n",
       "  ['▁', 'JOSEPH&STACEY'],\n",
       "  ['▁조셉', '엔', '스테이', '시']],\n",
       " '조이그라이슨': [['▁조이그라이슨'], ['▁joy', 'g', 'ry', 'son']],\n",
       " '준지': [['▁준지'], ['▁juun', '.', 'j']],\n",
       " '지방시': [['▁지방시'], ['▁givenchy']],\n",
       " '지샥': [['▁지샥'], ['▁g', 'sh', 'ock'], ['▁쥐샥']],\n",
       " '질샌더': [['▁질샌더'], ['▁j', 'il', '▁s', 'ander']],\n",
       " '질스튜어트': [['▁질스튜어트'], ['▁jill', '▁stuart'], ['▁질슈트어트']],\n",
       " '찰스앤키스': [['▁찰스앤키스'], ['▁charles', '▁', '&', '▁keith'], ['▁찰스', '엔', '키스']],\n",
       " '챔피온': [['▁챔피온'], ['▁champion'], ['▁챔피언']],\n",
       " '카시오': [['▁카시오'], ['▁casio']],\n",
       " '칼린': [['▁칼린'], ['▁car', 'lyn']],\n",
       " '칼하트': [['▁칼하트'], ['▁carhartt']],\n",
       " '캉골': [['▁캉골'], ['▁kangol']],\n",
       " '캐나다구스': [['▁캐나다구스'], ['▁canada', '▁goose'], ['▁케', '나다구스']],\n",
       " '캘러웨이': [['▁캘러웨이'], ['▁cal', 'la', 'way']],\n",
       " '캘빈클라인': [['▁캘빈클라인'], ['▁calvin', '▁klein'], ['▁ck'], ['▁켈빈클라인'], ['▁케빈클라인']],\n",
       " '캠퍼': [['▁캠퍼'], ['▁camper']],\n",
       " '커렌트': [['▁커렌트'], ['▁cur', 'ren', 't']],\n",
       " '커먼프로젝트': [['▁커먼프로젝트'],\n",
       "  ['▁com', 'mon', '▁project', 's'],\n",
       "  ['▁커먼', '프로', '잭', '트']],\n",
       " '커버낫': [['▁커버낫'], ['▁con', 'ver', 'na', 't']],\n",
       " '커스텀멜로우': [['▁커스텀멜로우'], ['▁custom', 'ello', 'w'], ['▁커스텀', '맬', '로우']],\n",
       " '컨버스': [['▁컨버스'], ['▁converse']],\n",
       " '코비': [['▁코비'], ['▁ko', 'be']],\n",
       " '코스': [['▁코스'], ['▁cos']],\n",
       " '코오롱': [['▁코오롱'], ['▁kolon']],\n",
       " '코치': [['▁코치'], ['▁coach']],\n",
       " '쿠론': [['▁쿠론'], ['▁couronne']],\n",
       " '큐리티': [['▁큐리티'], ['▁cur', 'ett', 'y']],\n",
       " '크록스': [['▁크록스'], ['▁c', 'roc', 's']],\n",
       " '크롬하츠': [['▁크롬하츠'], ['▁chrome', '▁hearts']],\n",
       " '클락스': [['▁클락스'], ['▁cl', 'ar', 'k', 's']],\n",
       " '키르시': [['▁키르시'], ['▁kirsh']],\n",
       " '키이스': [['▁키이스'], ['▁keith'], ['▁키', '이쓰']],\n",
       " '키코': [['▁키코'], ['▁k', 'iko']],\n",
       " '키플링': [['▁키플링'], ['▁kipling']],\n",
       " '킨더살몬': [['▁킨더살몬'], ['▁ki', 'nd', 'ers', 'al', 'mon']],\n",
       " '타미힐피거': [['▁타미힐피거'], ['▁tommy', '▁hilfiger']],\n",
       " '타이틀리스트': [['▁타이틀리스트'], ['▁titleist']],\n",
       " '타임': [['▁타임'], ['▁time']],\n",
       " '태그호이어': [['▁태그호이어'], ['▁tag', '▁heuer']],\n",
       " '텔파': [['▁', '텔', '파'], ['▁t', 'el', 'f', 'ar']],\n",
       " '토리버치': [['▁토리버치'], ['▁tory', '▁burch']],\n",
       " '토마스모어': [['▁토마스모어'], ['▁thom', 'as', '▁more']],\n",
       " '토즈': [['▁토즈'], ['▁tods']],\n",
       " '토템': [['▁토템'], ['▁tote', 'me']],\n",
       " '토트넘': [['▁토트넘'], ['▁t', 'ott', 'en', 'ham']],\n",
       " '톰보이': [['▁톰보이'], ['▁tom', '▁boy']],\n",
       " '톰브라운': [['▁톰브라운'], ['▁thom', '▁browne']],\n",
       " '톰포드': [['▁톰포드'], ['▁tom', 'ford']],\n",
       " '투미': [['▁투미'], ['▁tumi']],\n",
       " '튜더': [['▁튜더'], ['▁tu', 'dor']],\n",
       " '티쏘': [['▁티쏘'], ['▁tissot']],\n",
       " '티파니앤코': [['▁티파니앤코'],\n",
       "  ['▁tiffany'],\n",
       "  ['▁t', 'iff', 'an', 'c', 'y', '▁', '&', '▁co']],\n",
       " '팀버랜드': [['▁팀버랜드'], ['▁timberland']],\n",
       " '파라부트': [['▁파라부트'], ['▁para', 'bo', 'ot']],\n",
       " '파라점퍼스': [['▁파라점퍼스'], ['▁para', '▁jumper', 's']],\n",
       " '파리게이츠': [['▁파리게이츠'], ['▁pearl', 'y', '▁g', 'ate', 's']],\n",
       " '파인드카푸어': [['▁파인드카푸어'], ['▁fi', 'nd', '▁ka', 'po', 'or']],\n",
       " '파타고니아': [['▁파타고니아'], ['▁patagonia']],\n",
       " '파텍필립': [['▁파텍필립'], ['▁', 'patek', '▁philippe']],\n",
       " '판도라': [['▁판도라'], ['▁pandora']],\n",
       " '페라가모': [['▁페라가모'], ['▁ferragamo']],\n",
       " '페이탈리즘': [['▁페이탈리즘'], ['▁f', 'ata', 'l', 'ism'], ['▁패', '이', '탈', '리즘']],\n",
       " '펜디': [['▁펜디'], ['▁fendi'], ['▁팬디']],\n",
       " '포터': [['▁포터'], ['▁porter'], ['▁요시다', '▁포터']],\n",
       " '폴로': [['▁폴로'], ['▁polo'], ['▁ralphlauren'], ['▁폴로', '▁랄프로렌'], ['▁랄프로렌']],\n",
       " '폴로스포츠': [['▁폴로스포츠'], ['▁polo', '▁sport']],\n",
       " '폴스미스': [['▁폴스미스'], ['▁paul', '▁smith']],\n",
       " '폴스부띠끄': [['▁폴스부띠끄'], ['▁paul', 's', '▁boutique']],\n",
       " '프라다': [['▁프라다'], ['▁prada']],\n",
       " '프라이탁': [['▁프라이탁'], ['▁fre', 'ita', 'g']],\n",
       " '프레드': [['▁프레드'], ['▁fred']],\n",
       " '프레드릭 콘스탄트': [['▁프레드릭', '▁콘스탄트'],\n",
       "  ['▁fred', 'er', 'ique', '▁con', 'st', 'ant']],\n",
       " '프레드페리': [['▁프레드페리'], ['▁fred', 'p', 'erry']],\n",
       " '플립': [['▁플립'], ['▁f', 'lip']],\n",
       " '피스워커': [['▁피스워커'], ['▁piece', '▁work', 'er']],\n",
       " '피어오브갓': [['▁피어오브갓'], ['▁fear', '▁of', '▁god'], ['▁피오갓'], ['▁fog']],\n",
       " '피엘라벤': [['▁피엘라벤'], ['▁f', 'j', 'all', 'ra', 'ven']],\n",
       " '필립플레인': [['▁필립플레인'], ['▁philipp', '▁plein'], ['▁필립', '프', '레인']],\n",
       " '필슨': [['▁필슨'], ['▁fil', 'son']],\n",
       " '핏플랍': [['▁핏플랍'], ['▁fit', 'fl', 'op']],\n",
       " '하이칙스': [['▁하이칙스'], ['▁high', '▁ch', 'ee', 'k', 's']],\n",
       " '해밀턴': [['▁해밀턴'], ['▁h', 'ami', 'l', 'ton']],\n",
       " '험멜': [['▁험멜'], ['▁hummel']],\n",
       " '헤지스': [['▁헤지스'], ['▁hazzys']],\n",
       " '헨리코튼': [['▁헨리코튼'], ['▁henry', '▁cotton', 's']],\n",
       " '헬무트랭': [['▁헬무트랭'], ['▁helmut', 'l', 'ang']],\n",
       " '호카오네오네': [['▁호카오네오네'], ['▁ho', 'ka', '▁one', '▁one'], ['▁ho', 'ka']]}"
      ]
     },
     "execution_count": 56,
     "metadata": {},
     "output_type": "execute_result"
    }
   ],
   "source": [
    "brands_token"
   ]
  },
  {
   "cell_type": "code",
   "execution_count": 57,
   "metadata": {},
   "outputs": [
    {
     "data": {
      "text/plain": [
       "331"
      ]
     },
     "execution_count": 57,
     "metadata": {},
     "output_type": "execute_result"
    }
   ],
   "source": [
    "len(brands_token)"
   ]
  },
  {
   "cell_type": "code",
   "execution_count": 87,
   "metadata": {},
   "outputs": [],
   "source": [
    "# unigram_20000_pieces = df['preprocessed'].apply(lambda x: unigram_20000.encode_as_pieces(x))\n",
    "def extract(brand):\n",
    "    result = []\n",
    "    bl = brands_token[brand]\n",
    "    print(bl)\n",
    "    for i in unigram_20000_pieces:\n",
    "        for b in bl:\n",
    "            if all(bi in i for bi in b):\n",
    "                result.append(i)\n",
    "                break\n",
    "    return result"
   ]
  },
  {
   "cell_type": "code",
   "execution_count": 88,
   "metadata": {},
   "outputs": [
    {
     "name": "stdout",
     "output_type": "stream",
     "text": [
      "[['▁까르띠에'], ['▁cartier']]\n"
     ]
    }
   ],
   "source": [
    "cartier = extract('까르띠에')"
   ]
  },
  {
   "cell_type": "code",
   "execution_count": 89,
   "metadata": {},
   "outputs": [
    {
     "data": {
      "text/plain": [
       "9849"
      ]
     },
     "execution_count": 89,
     "metadata": {},
     "output_type": "execute_result"
    }
   ],
   "source": [
    "len(cartier)"
   ]
  },
  {
   "cell_type": "code",
   "execution_count": 85,
   "metadata": {},
   "outputs": [
    {
     "data": {
      "text/plain": [
       "[['▁까르띠에', '▁드롭', '▁귀걸이'],\n",
       " ['▁까르띠에', '▁클', '런치', '백'],\n",
       " ['▁까르띠에', '▁산토스', '▁콤비', '▁특', '급', '▁커플가능'],\n",
       " ['▁v', '6', '▁까르띠에', '▁발롱블루', '33', 'mm', '▁메탈', '여성시계'],\n",
       " ['▁까르띠에', '탱', '크'],\n",
       " ['▁까르띠에', '▁남성시계'],\n",
       " ['▁까르띠에', '▁풀박스', '▁탱크'],\n",
       " ['▁까', '▁', '띠에', '▁드라이브', '▁드', '▁까르띠에', '▁100', '실사'],\n",
       " ['▁까르띠에', 'st', '팔찌'],\n",
       " ['▁까르띠에', '가죽'],\n",
       " ['▁까르띠에', '▁솔로탱크', '▁커플가능', '▁인기'],\n",
       " ['▁까르띠에', '▁드라이브', '▁드'],\n",
       " ['▁14', 'k', '▁18', 'k', '▁까르띠에', '▁러브팔찌', '▁6', 'mm'],\n",
       " ['▁까르띠에', '▁링', '▁귀걸이', '▁골드', '▁실버'],\n",
       " ['▁까르띠에', '▁링'],\n",
       " ['▁까르띠에', '▁두줄팔찌'],\n",
       " ['▁까르띠에', '▁팔찌', '▁골드', '▁로즈골드'],\n",
       " ['▁까르띠에', '▁신상', '▁4', '핀', '▁오토', '시계'],\n",
       " ['▁까르띠에',\n",
       "  '▁18',\n",
       "  'k',\n",
       "  '▁저스트앵끌루',\n",
       "  '▁못팔찌',\n",
       "  '▁신형',\n",
       "  '▁핑크골드',\n",
       "  '▁헤드',\n",
       "  'd',\n",
       "  'ia',\n",
       "  '▁퍼펙트',\n",
       "  '▁제작'],\n",
       " ['▁까르띠에',\n",
       "  '▁전디자인',\n",
       "  '▁18',\n",
       "  'k',\n",
       "  '▁반지',\n",
       "  '▁목걸이',\n",
       "  '▁팔찌',\n",
       "  '▁핑크골드',\n",
       "  '▁파',\n",
       "  '베',\n",
       "  '▁올',\n",
       "  '다이아',\n",
       "  '▁퍼펙트'],\n",
       " ['▁무료배송', '▁총알배송', '▁까르띠에', '▁쿼츠', '신형', '33', 'mm'],\n",
       " ['▁까르띠에', '▁산토스', '▁갈', '베', '실버'],\n",
       " ['▁까르띠에', '▁발롱블루', '▁여성용'],\n",
       " ['▁까르띠에', '▁선글라스'],\n",
       " ['▁까르띠에', '▁팔찌', '▁18', 'k', '▁전디자인', '▁손', '님', '▁리얼', '▁구매', '후기', '▁사진'],\n",
       " ['▁까르띠에',\n",
       "  '▁18',\n",
       "  'k',\n",
       "  '▁저스트앵끌루',\n",
       "  '▁못팔찌',\n",
       "  '▁신형',\n",
       "  '▁핑크골드',\n",
       "  '▁헤드',\n",
       "  'd',\n",
       "  'ia',\n",
       "  '▁퍼펙트',\n",
       "  '▁제작'],\n",
       " ['▁까르띠에', '▁발롱블루', '36', 'mm', '▁바로배송'],\n",
       " ['▁까르띠에', '▁시계'],\n",
       " ['▁까르띠에', '팔찌', '당일배송', '▁청담제니'],\n",
       " ['▁까르띠에', 'st', '▁목걸이'],\n",
       " ['▁까르띠에', '가죽', '▁시계'],\n",
       " ['▁까르띠에', '▁이어링'],\n",
       " ['▁당일', '▁무료배송', '▁까르띠에', '▁41', 'mm', '▁가죽', '▁오토매틱'],\n",
       " ['▁까르띠에',\n",
       "  '▁18',\n",
       "  'k',\n",
       "  '▁저스트앵끌루',\n",
       "  '▁못팔찌',\n",
       "  '▁신형',\n",
       "  '▁핑크골드',\n",
       "  '▁헤드',\n",
       "  'd',\n",
       "  'ia',\n",
       "  '▁퍼펙트',\n",
       "  '▁제작'],\n",
       " ['▁까르띠에', 'st', '핑크', '귀걸이'],\n",
       " ['▁까르띠에',\n",
       "  '▁18',\n",
       "  'k',\n",
       "  '▁화이트골드',\n",
       "  '▁테니스',\n",
       "  '팔찌',\n",
       "  '▁1',\n",
       "  '부',\n",
       "  '▁올',\n",
       "  '다이아',\n",
       "  '▁파베세팅',\n",
       "  '▁팔찌'],\n",
       " ['▁까르띠에', '▁러브팔찌'],\n",
       " ['▁14', 'k', '▁18', 'k', '▁까르띠에', '▁러브', '반지'],\n",
       " ['▁까르띠에', '▁팔찌', '▁남성용', '팔찌'],\n",
       " ['▁당일', '▁무료배송', '▁까르띠에', '▁42', 'mm', '▁가죽', '▁특가', '▁인기상품'],\n",
       " ['▁까르띠에', '▁발롱블루', '▁시계'],\n",
       " ['▁까르띠에', '▁팔찌'],\n",
       " ['▁까르띠에'],\n",
       " ['▁까르띠에', '▁골드', '▁가죽팔찌'],\n",
       " ['▁까르띠에', 'st', '▁스타일', '▁발롱블루'],\n",
       " ['▁v', '6', '▁까르띠에', '▁발롱블루', '42', 'mm', '▁가죽', '▁남성시계'],\n",
       " ['▁까르띠에'],\n",
       " ['▁까르띠에', '▁반지'],\n",
       " ['▁까르띠에',\n",
       "  '▁18',\n",
       "  'k',\n",
       "  '▁저스트앵끌루',\n",
       "  '▁못팔찌',\n",
       "  '▁신형',\n",
       "  '▁핑크골드',\n",
       "  '▁헤드',\n",
       "  'd',\n",
       "  'ia',\n",
       "  '▁퍼펙트',\n",
       "  '▁제작'],\n",
       " ['▁까르띠에', '▁롱', '드', '▁솔로', '▁드', '▁쿼츠무브', '▁소가죽', '▁스트랩', '▁남', '▁여'],\n",
       " ['▁까르띠에',\n",
       "  '▁전디자인',\n",
       "  '▁18',\n",
       "  'k',\n",
       "  '▁반지',\n",
       "  '▁팔찌',\n",
       "  '▁목걸이',\n",
       "  '▁다이아',\n",
       "  '▁퍼펙트',\n",
       "  '급',\n",
       "  '▁제작'],\n",
       " ['▁까르띠에', '▁신상', '▁재팬', '무브', '▁남자시계'],\n",
       " ['▁까르띠에', '▁다이아', '▁저스트앵끌루', '▁팔찌', '▁19', '호', '▁판매합니다'],\n",
       " ['▁당일', '▁무료배송', '▁까르띠에', '▁41', 'mm', '▁인기상품'],\n",
       " ['▁까르띠에', '▁반지'],\n",
       " ['▁당일', '▁무료배송', '▁까르띠에', '▁가죽', '▁43', 'mm'],\n",
       " ['▁까르띠에',\n",
       "  '▁18',\n",
       "  'k',\n",
       "  '▁러브팔찌',\n",
       "  '▁저스트앵끌루',\n",
       "  '▁못팔찌',\n",
       "  '▁풀',\n",
       "  '▁다이아',\n",
       "  '▁파베세팅',\n",
       "  '▁2',\n",
       "  '줄'],\n",
       " ['▁까르띠에', '▁2019', '▁신상', '▁재팬', '풀', '오토', '무브'],\n",
       " ['▁까르띠에', '여성', '쿼츠'],\n",
       " ['▁까르띠에',\n",
       "  '▁전디자인',\n",
       "  '▁18',\n",
       "  'k',\n",
       "  '▁반지',\n",
       "  '▁팔찌',\n",
       "  '▁목걸이',\n",
       "  '▁다이아',\n",
       "  '▁퍼펙트',\n",
       "  '급',\n",
       "  '▁제작'],\n",
       " ['▁bv',\n",
       "  '▁k',\n",
       "  'or',\n",
       "  '▁까르띠에',\n",
       "  '▁산토스',\n",
       "  '▁스틸',\n",
       "  '▁콤비',\n",
       "  '▁공구',\n",
       "  '▁합니다',\n",
       "  '▁국내',\n",
       "  '▁최저가',\n",
       "  '▁카톡',\n",
       "  '문의'],\n",
       " ['▁무료배송', '▁까르띠에', '▁쿼츠', '▁신형', '▁45', 'mm'],\n",
       " ['▁까르띠에',\n",
       "  '▁전디자인',\n",
       "  '▁18',\n",
       "  'k',\n",
       "  '▁반지',\n",
       "  '▁목걸이',\n",
       "  '▁팔찌',\n",
       "  '▁핑크골드',\n",
       "  '▁파',\n",
       "  '베',\n",
       "  '▁올',\n",
       "  '다이아',\n",
       "  '▁퍼펙트'],\n",
       " ['▁까르띠에', '▁팬더'],\n",
       " ['▁14', 'k', '▁까르띠에', 'st', '▁목걸이', '▁팔찌', '▁반지'],\n",
       " ['▁까르띠에', '▁다이아', '▁로고', '▁팔찌'],\n",
       " ['▁까르띠에', '▁탱크솔로'],\n",
       " ['▁까르띠에'],\n",
       " ['▁까르띠에', '▁발롱블루'],\n",
       " ['▁까르띠에', '반지', '▁62', '호'],\n",
       " ['▁까르띠에', '▁시계'],\n",
       " ['▁v',\n",
       "  '6',\n",
       "  '▁까르띠에',\n",
       "  '▁발롱블루',\n",
       "  '콤비',\n",
       "  '▁핑크',\n",
       "  '로즈골드',\n",
       "  '▁33',\n",
       "  'mm',\n",
       "  '▁v',\n",
       "  '7',\n",
       "  '▁메탈',\n",
       "  '▁여성시계'],\n",
       " ['▁무료배송', '▁까르띠에', '▁쿼츠', '▁신형', '▁45', 'mm'],\n",
       " ['▁k', '11', '▁까르띠에', '탱', '크', '▁여성시계'],\n",
       " ['▁까르띠에', '▁발롱블루', '▁핑크'],\n",
       " ['▁14', 'k', '▁18', 'k', '▁까르띠에', '▁못팔찌'],\n",
       " ['▁도매가', '방출', '▁까르띠에', '▁앙글레즈', '▁series'],\n",
       " ['▁gf', '▁까르띠에', '▁산토스', 'v', '2', '▁콤비', '▁스마트', '링크', '▁남성시계'],\n",
       " ['▁까르띠에', '▁탱크', '▁앙글레즈'],\n",
       " ['▁까르띠에', '▁목걸이', '▁루이비통', '▁팔찌', '▁st', '▁14', 'k'],\n",
       " ['▁까르띠에', '▁산토스', '▁시계'],\n",
       " ['▁당일발송', '▁까르띠에', '▁시계', '▁주문폭주'],\n",
       " ['▁까르띠에', '▁발롱블루', '▁s', '급', '▁커플가능'],\n",
       " ['▁까르띠에', '▁', '엥', '끄', '루', '▁팔찌'],\n",
       " ['▁무료배송', '▁총알배송', '▁까르띠에', '▁오토매틱', '신형', '42', 'mm'],\n",
       " ['▁까르띠에', '▁신상', '▁2', '핀', '▁풀', '오토', '▁시계'],\n",
       " ['▁새제품', '▁은', '925', '▁까르띠에', '▁목걸이', '▁귀걸이', 'set'],\n",
       " ['▁까르띠에', '▁탱크', '▁앙글레즈', '▁실버', '▁메탈'],\n",
       " ['▁까르띠에', '▁42', 'mm', '▁가죽', '▁당일', '▁', '무료발송'],\n",
       " ['▁v', '6', '▁까르띠에', '▁발롱블루', '▁33', 'mm', '▁메탈', '▁여성시계'],\n",
       " ['▁까르띠에', '▁손가방'],\n",
       " ['▁까르띠에', '▁st', '▁24', 'k', '▁팔찌', '▁18', 'k', '▁장식', '▁마크'],\n",
       " ['▁까르띠에', '▁팬더', '▁콤비'],\n",
       " ['▁까르띠에', '▁시계'],\n",
       " ['▁부산',\n",
       "  '▁까르띠에',\n",
       "  '▁발롱블루',\n",
       "  '▁스틸',\n",
       "  '▁시계',\n",
       "  '▁36',\n",
       "  'mm',\n",
       "  '▁16',\n",
       "  '년',\n",
       "  '스',\n",
       "  '탬',\n",
       "  '핑',\n",
       "  '▁판매합니다'],\n",
       " ['▁까르띠에',\n",
       "  '▁18',\n",
       "  'k',\n",
       "  '▁저스트앵끌루',\n",
       "  '▁못팔찌',\n",
       "  '▁신형',\n",
       "  '▁핑크골드',\n",
       "  '▁헤드',\n",
       "  'd',\n",
       "  'ia',\n",
       "  '▁퍼펙트',\n",
       "  '▁제작'],\n",
       " ['▁까르띠에', '▁발', '랑', '블루', '▁메탈', '▁대자'],\n",
       " ['▁까르띠에', '▁산토스', '▁금통', '금장', '▁로즈골드', '▁메탈', '▁남성시계'],\n",
       " ['▁까르띠에',\n",
       "  '▁전디자인',\n",
       "  '▁18',\n",
       "  'k',\n",
       "  '▁팔찌',\n",
       "  '▁반지',\n",
       "  '▁올',\n",
       "  '다이아',\n",
       "  '▁파베세팅',\n",
       "  '▁퍼펙트',\n",
       "  '▁제작'],\n",
       " ['▁까르띠에', '▁미니', '▁진주', '▁귀걸이', '▁무료배송'],\n",
       " ['▁까르띠에', '▁드라이브', '드'],\n",
       " ['▁까르띠에'],\n",
       " ['▁18', 'k', '▁까르띠에', '▁러브팔찌', '▁4', 'mm'],\n",
       " ['▁까르띠에', '▁시계'],\n",
       " ['▁정품', '▁까르띠에', '▁파', '샤', '▁반지갑'],\n",
       " ['▁당일', '▁무료배송', '▁까르띠에', '▁가죽', '▁42', 'mm', '▁오토매틱'],\n",
       " ['▁까르띠에', '▁솔로탱크', '▁금장', '▁쿼츠무브', '▁소가죽', '▁스트랩', '▁3', '종'],\n",
       " ['▁까르띠에',\n",
       "  '▁전디자인',\n",
       "  '▁18',\n",
       "  'k',\n",
       "  '▁러브',\n",
       "  '반지',\n",
       "  '▁러브링',\n",
       "  '▁민자',\n",
       "  '▁dia',\n",
       "  '▁핑크골드',\n",
       "  '▁퍼펙트'],\n",
       " ['▁까르띠에', '▁러브팔찌'],\n",
       " ['▁까르띠에', '▁925', '실버', '▁로고', '체인팔찌'],\n",
       " ['▁까르띠에', '▁산토스'],\n",
       " ['▁까르띠에', '▁시계'],\n",
       " ['▁까르띠에', '▁', '자개판', '▁핑크'],\n",
       " ['▁까르띠에', '▁신상', '▁올', '큐빅'],\n",
       " ['▁v', '6', '▁까르띠에', '▁산토스', '▁남성시계'],\n",
       " ['▁까르띠에', '▁시계'],\n",
       " ['▁까르띠에'],\n",
       " ['▁까르띠에', '▁팔찌'],\n",
       " ['▁당일', '▁무료배송', '▁까르띠에', '▁42', 'mm', '▁오토매틱'],\n",
       " ['▁까르띠에', '▁선글라스'],\n",
       " ['▁무료배송', '▁총알배송', '▁까르띠에', '▁오토매틱', '신형', '42', 'mm'],\n",
       " ['▁까르띠에', '▁러브팔찌'],\n",
       " ['▁v', '6', '▁까르띠에', '산', '토스', '▁남녀', '사이즈', '▁남성시계', '▁여성시계'],\n",
       " ['▁까르띠에', '▁sm', '러브', '팔찌', '▁신형', '▁4', 'mm'],\n",
       " ['▁까르띠에', 'st', '언발귀걸이', '▁7'],\n",
       " ['▁당일', '▁무료배송', '▁까르띠에', '▁42', 'mm', '▁가죽', '▁오토매틱'],\n",
       " ['▁까르띠에', '반지'],\n",
       " ['▁까르띠에', '▁딸랑이', '링', '▁써지컬스틸', '▁핑크골드'],\n",
       " ['▁까르띠에', '▁러브팔찌'],\n",
       " ['▁까르띠에', '▁반지'],\n",
       " ['▁무료배송', '▁총알배송', '▁까르띠에', '▁쿼츠', '신형', '33', 'mm'],\n",
       " ['▁까르띠에'],\n",
       " ['▁까르띠에', '▁산토스', '▁핑크', '▁', '자개판'],\n",
       " ['▁까르띠에', '▁써지컬', '스틱'],\n",
       " ['▁도매가', '방출', '▁까르띠에', '▁큐빅', '여성시계'],\n",
       " ['▁무료배송', '▁총알배송', '▁까르띠에', '▁오토매틱', '신형', '42', 'mm'],\n",
       " ['▁까르띠에', '▁드라이브', '▁드'],\n",
       " ['▁까르띠에', '▁러브팔찌'],\n",
       " ['▁당일발송', '▁까르띠에', '▁시계', '▁주문폭주'],\n",
       " ['▁v', '6', '▁까르띠에', '▁발롱블루', '33', 'mm', '▁메탈', '여성시계'],\n",
       " ['▁까르띠에', '▁나사', '▁팔찌'],\n",
       " ['▁무료배송', '▁총알배송', '▁까르띠에', '▁오토매틱', '신형', '42', 'mm'],\n",
       " ['▁당일', '▁무료배송', '▁까르띠에', '▁35', '▁34', '▁28', 'mm', '▁인기상품'],\n",
       " ['▁당일', '▁무료배송', '▁까르띠에', '▁41', 'mm', '▁가죽', '▁인기상품', '▁오토매틱'],\n",
       " ['▁까르띠에', '▁반지'],\n",
       " ['▁까르띠에', '▁시계'],\n",
       " ['▁까르띠에', '▁못팔찌'],\n",
       " ['▁14', 'k', '▁까르띠에', '▁반지', '▁11', '호'],\n",
       " ['▁까르띠에', '르', '▁여성시계'],\n",
       " ['▁까르띠에', '▁시계'],\n",
       " ['▁까르띠에', '▁발롱블루'],\n",
       " ['▁까르띠에', '▁발롱블루', '▁33', 'mm', '▁오토', '먼트', '▁핑크골드', '콤비'],\n",
       " ['▁까르띠에', '▁러브팔찌', '18', 'k'],\n",
       " ['▁까르띠에', 'st', '실버', '925', '▁크리스탈', '반지'],\n",
       " ['▁까르띠에', '▁실버', '▁여성시계'],\n",
       " ['▁당일발송', '▁까르띠에', '▁시계', '▁주문폭주'],\n",
       " ['▁까르띠에', '▁발롱블루', '▁42', '미리'],\n",
       " ['▁까르띠에', '▁탱크솔로'],\n",
       " ['▁까르띠에',\n",
       "  'st',\n",
       "  '▁팔찌',\n",
       "  '▁럭스',\n",
       "  '픽',\n",
       "  '▁에',\n",
       "  '크',\n",
       "  '르',\n",
       "  '드',\n",
       "  '▁14',\n",
       "  'k',\n",
       "  '화이트골드',\n",
       "  '팔찌',\n",
       "  '▁까르띠에',\n",
       "  '럭스',\n",
       "  '픽'],\n",
       " ['▁v', '6', '▁까르띠에', '▁발롱블루', '로즈골드', '▁가죽', '▁남성시계', '▁42', 'mm'],\n",
       " ['▁까르띠에', '▁러브', '▁팔찌', '▁베스트', '▁인기', '제품'],\n",
       " ['▁af', '▁까르띠에', '▁롱', '드', '솔', '로', '▁청판', '화이트', '▁메탈', '▁남성시계'],\n",
       " ['▁까르띠에', '▁중지갑', '▁정품'],\n",
       " ['▁당일', '▁무료배송', '▁까르띠에', '▁42', 'mm'],\n",
       " ['▁까르띠에', '▁반지'],\n",
       " ['▁까르띠에',\n",
       "  '▁전디자인',\n",
       "  '▁18',\n",
       "  'k',\n",
       "  '▁반지',\n",
       "  '▁목걸이',\n",
       "  '▁팔찌',\n",
       "  '▁핑크골드',\n",
       "  '▁파',\n",
       "  '베',\n",
       "  '▁올',\n",
       "  '다이아',\n",
       "  '▁퍼펙트'],\n",
       " ['▁당일', '▁무료배송', '▁까르띠에', '▁가죽', '▁40', 'mm'],\n",
       " ['▁까르띠에', '▁큐빅팔찌'],\n",
       " ['▁까르띠에', '▁여성시계'],\n",
       " ['▁까르띠에', '▁끌레', '드', '▁까르띠에', '▁핑크골드'],\n",
       " ['▁당일', '▁무료배송', '▁까르띠에', '▁33', 'mm'],\n",
       " ['▁까르띠에', '▁러브팔찌'],\n",
       " ['▁까르띠에',\n",
       "  '▁전디자인',\n",
       "  '▁18',\n",
       "  'k',\n",
       "  '▁반지',\n",
       "  '▁목걸이',\n",
       "  '▁팔찌',\n",
       "  '▁핑크골드',\n",
       "  '▁파',\n",
       "  '베',\n",
       "  '▁올',\n",
       "  '다이아',\n",
       "  '▁퍼펙트'],\n",
       " ['▁까르띠에', '▁', '뚜', '르', '비', '용', '▁발롱블루', '▁드라이브', '▁남성시계'],\n",
       " ['▁당일', '▁무료배송', '▁까르띠에', '▁42', 'mm', '▁가죽', '▁오토매틱'],\n",
       " ['▁까르띠에', '▁시계'],\n",
       " ['▁까르띠에', '▁시계'],\n",
       " ['▁당일', '▁배송', '▁까르띠에', '▁해', '와', '▁달', '▁메탈', '▁시계', '▁고퀄리티'],\n",
       " ['▁당일', '▁무료배송', '▁까르띠에', '▁42', 'mm', '▁가죽', '▁오토매틱'],\n",
       " ['▁까르띠에', '▁러브링', '▁18', 'k', '▁화이트', '▁골드', '▁48', '호', '▁깨끗'],\n",
       " ['▁당일', '▁무료배송', '▁까르띠에', '▁41', 'mm', '▁가죽'],\n",
       " ['▁zf', '▁까르띠에', '▁발롱블루', '▁크로노그래프'],\n",
       " ['▁까르띠에', '▁큐빅귀걸이'],\n",
       " ['▁까르띠에', '산', '토스', '가죽시계'],\n",
       " ['▁v', '6', '▁까르띠에', '▁발롱블루', '33', 'mm', '▁v', '7', '▁로즈골드', '▁여성시계'],\n",
       " ['▁까르띠에', '▁발롱블루', '▁42', 'mm', '▁메탈', '▁남성시계'],\n",
       " ['▁까', '▁', '띠에', '▁롱', '통', '드', '▁드', '▁까르띠에', '▁크로노그래프'],\n",
       " ['▁까르띠에', '러브', '반지'],\n",
       " ['▁까르띠에', '▁신형', '▁선', '반', '▁4', '미리', '팔찌'],\n",
       " ['▁당일', '▁무료배송', '▁까르띠에', '▁42', 'mm', '▁오토매틱'],\n",
       " ['▁까르띠에', '▁최신상', '▁', '똑', '뛰', '▁실버'],\n",
       " ['▁s', '925', '▁까르띠에', '오팔', '▁표범', '반지', '▁순은반지', '▁오픈링', '▁사이즈', '조절'],\n",
       " ['▁까르띠에', '▁큐빅팔찌'],\n",
       " ['▁당일', '▁무료배송', '▁까르띠에', '▁33', 'mm', '▁가죽'],\n",
       " ['▁까르띠에', '▁최신상', '▁펜', '더', '▁드', '▁까르띠에', '▁콤비'],\n",
       " ['▁무료배송', '▁총알배송', '▁까르띠에', '▁오토매틱', '신형', '42', 'mm'],\n",
       " ['▁까르띠에',\n",
       "  'st',\n",
       "  '▁팔찌',\n",
       "  '▁저스트앵끌루',\n",
       "  '▁까르띠에',\n",
       "  '저',\n",
       "  '스트',\n",
       "  '▁저스트앵끌루',\n",
       "  '팔찌',\n",
       "  '▁못팔찌',\n",
       "  '화이트'],\n",
       " ['▁까르띠에', '▁장지갑', 'ᅳ정품'],\n",
       " ['▁까르띠에', '▁발롱블루', '▁골드', '▁36', 'mm', '▁미디엄', '▁오토메틱'],\n",
       " ['▁까르띠에', '▁시계'],\n",
       " ['▁까르띠에', '▁웨딩', '링', '▁1', 'p', '▁다이아', '▁pt', '950', '▁골드', '▁49', '호'],\n",
       " ['▁까르띠에', '▁시계'],\n",
       " ['▁까르띠에', '▁발롱블루', '▁핑크', '판', '▁메탈'],\n",
       " ['▁cartier', '▁까르띠에', '▁여성', '▁클러치백'],\n",
       " ['▁까르띠에', '러브', '팔찌', 'pr', 'em', 'ium', '▁국내배송'],\n",
       " ['▁까', '▁', '띠에', '▁롱', '통', '드', '▁드', '▁까르띠에', '▁크로노그래프'],\n",
       " ['▁후루룩구제', '▁까르띠에', '▁지갑', '▁중고', '▁가방', '▁신발'],\n",
       " ['▁까르띠에'],\n",
       " ['▁까르띠에', '▁베누아', '▁핑크골드', '▁여성시계'],\n",
       " ['▁까르띠에', '▁발롱블루', '▁28', '미리'],\n",
       " ['▁까르띠에', '▁발롱블루', '▁스틸'],\n",
       " ['▁까르띠에', '▁시계'],\n",
       " ['▁까르띠에', '▁여성시계'],\n",
       " ['▁까르띠에', '▁탱크솔로', '▁블랙'],\n",
       " ['▁까르띠에', '러브', '팔찌'],\n",
       " ['▁까르띠에', '▁시계'],\n",
       " ['▁까르띠에', '▁시계'],\n",
       " ['▁까르띠에', '▁21', 'c', '▁스틸', '워치', '▁고야드', '지갑'],\n",
       " ['▁까르띠에', '지갑'],\n",
       " ['▁까르띠에', '▁발롱블루', '▁', '뚜르비옹', '▁은장'],\n",
       " ['▁s',\n",
       "  '925',\n",
       "  '▁티파니',\n",
       "  '반지',\n",
       "  '▁투링',\n",
       "  '다이아반지',\n",
       "  '▁에르메스',\n",
       "  '샹',\n",
       "  '달',\n",
       "  '반지',\n",
       "  '▁벨트',\n",
       "  '은반지',\n",
       "  '▁까르띠에'],\n",
       " ['▁까르띠에', '▁시계'],\n",
       " ['▁까르띠에', '▁큐빅반지'],\n",
       " ['▁까르띠에', '▁premium', '▁국내배송'],\n",
       " ['▁까르띠에', '▁시계'],\n",
       " ['▁까르띠에', '▁심플', '목걸이'],\n",
       " ['▁정품', '▁까르띠에', '▁시계'],\n",
       " ['▁로렉스', '▁테그호이어', '▁까르띠에', '▁각종', '▁명품', '▁시계', '▁팝니다'],\n",
       " ['▁까르띠에', '▁러브팔찌'],\n",
       " ['▁까르띠에', '▁시계'],\n",
       " ['▁까르띠에', '▁목걸이', '▁j', '▁21'],\n",
       " ['▁까르띠에', '▁마르', '첼', '로', '▁아이보리', '▁가방'],\n",
       " ['▁정품급', '매', '▁까르띠에', '▁아메리칸', '▁탱크', '▁18', 'k', '화이트골드', '▁급매'],\n",
       " ['▁필웨이', '정품', '인증', '▁까르띠에', '▁반지갑'],\n",
       " ['▁까르띠에'],\n",
       " ['▁까르띠에', '팔찌', '▁큐빅팔찌'],\n",
       " ['▁까르띠에', '▁시계'],\n",
       " ['▁까르띠에', '▁산토스', '▁100', '주년', '▁실버', '▁블랙'],\n",
       " ['▁까르띠에', '▁발롱블루', '▁36', '미리'],\n",
       " ['▁까르띠에', '▁칼', '▁리브', '▁드', '▁다이버', '▁블랙', '▁다이얼', '▁스틸'],\n",
       " ['▁까르띠에', '▁탱크', '▁프랑', '세스'],\n",
       " ['▁까르띠에', '▁다이버', '▁메탈', '동', '시', '배송'],\n",
       " ['▁까르띠에', '▁발롱블루', '▁레이디', '▁28', 'mm'],\n",
       " ['▁까르띠에',\n",
       "  '▁스폐셜',\n",
       "  '제작',\n",
       "  '▁화이트골드',\n",
       "  '▁도금',\n",
       "  '▁실버',\n",
       "  '▁30',\n",
       "  '돈',\n",
       "  '▁못팔찌',\n",
       "  '▁xl',\n",
       "  '▁퍼펙트',\n",
       "  '버전'],\n",
       " ['▁v', '6', '▁까르띠에', '▁발롱블루', '로즈골드', '▁42', 'mm', '▁남성시계', '▁콤비'],\n",
       " ['▁까르띠에', '▁아메리칸', '▁탱크', '▁보테가', '▁키링'],\n",
       " ['▁까르띠에', '▁롱목걸이'],\n",
       " ['▁당일배송', '▁까르띠에', '▁러브팔찌', '▁큐빅', '▁3', '색상', '▁남녀공용'],\n",
       " ['▁18', 'k', '▁까르띠에', '▁러브링', '▁12', '호', '▁핑크골드'],\n",
       " ['▁까르띠에', '▁시계'],\n",
       " ['▁까르띠에'],\n",
       " ['▁당일배송', '▁까르띠에', '▁러브팔찌', '▁민자', '▁3', '색상', '▁남녀공용'],\n",
       " ['▁까르띠에', '▁시계'],\n",
       " ['▁까르띠에'],\n",
       " ['▁까르띠에', '▁발롱블루', '▁특가'],\n",
       " ['▁까르띠에', 'st', '귀걸이'],\n",
       " ['▁v', '6', '▁까르띠에', '▁산토스', '팅', '크', '▁여성시계'],\n",
       " ['▁까르띠에', '▁러브', '반지'],\n",
       " ['▁까르띠에', '▁못', '▁뱅글', '▁팔찌', '▁무료배송'],\n",
       " ['▁까르띠에', '▁뱅글팔찌'],\n",
       " ['▁까르띠에', '▁팬더', '드', '▁워치', '▁풀박스'],\n",
       " ['▁까르띠에', '러브', '팔찌'],\n",
       " ['▁까르띠에', '▁뚜루비옹', '▁문페이즈', '▁메탈', '▁스트랩'],\n",
       " ['▁까르띠에', '▁롱', '드', '솔', '로', '▁36', 'mm'],\n",
       " ['▁v', '6', '▁까르띠에', '▁산토스', 'v', '2', '▁블랙', '▁스마트', '링크', '▁남성시계'],\n",
       " ['▁까르띠에', '▁팬더', '▁금장', '▁사이즈', '▁아', '래', '사진', '참조', '▁쿼츠무브', '▁최'],\n",
       " ['▁까르띠에', '▁s', 'ant', 'o', 's'],\n",
       " ['▁까르띠에', '▁클러치백'],\n",
       " ['▁s', '9', '▁고품질', '▁까르띠에', '▁러브', '▁팔찌', '▁여성용', '▁남성용'],\n",
       " ['▁까르띠에',\n",
       "  '▁하정우',\n",
       "  '시계',\n",
       "  '▁드라이브',\n",
       "  '▁드',\n",
       "  '▁까르띠에',\n",
       "  '▁dr',\n",
       "  'ive',\n",
       "  '▁de',\n",
       "  '▁cartier'],\n",
       " ['▁까르띠에', '▁산토스', '▁100', '▁한정판', '▁남자시계'],\n",
       " ['▁까르띠에', '▁큐빅', '시계'],\n",
       " ['▁까르띠에',\n",
       "  '▁스폐셜',\n",
       "  '제작',\n",
       "  '▁화이트골드',\n",
       "  '▁도금',\n",
       "  '▁실버',\n",
       "  '▁30',\n",
       "  '돈',\n",
       "  '▁못팔찌',\n",
       "  '▁xl',\n",
       "  '▁퍼펙트',\n",
       "  '버전'],\n",
       " ['▁까르띠에', '▁발롱블루', '▁로즈', '콤비', '▁여성용'],\n",
       " ['▁펜', '더', '드', '▁까르띠에', '▁시계'],\n",
       " ['▁까르띠에', '▁여성시계'],\n",
       " ['▁까르띠에', '▁로', '통', '드', '▁크로노그래프', '▁은장', '▁카드지갑'],\n",
       " ['▁까르띠에', '▁장지갑'],\n",
       " ['▁까르띠에', '▁여성시계'],\n",
       " ['▁까르띠에', '▁러브팔찌'],\n",
       " ['▁당일배송', '▁까르띠에', '▁저스트앵끌루', '▁못팔찌', '▁민', '짜'],\n",
       " ['▁까르띠에', '▁원터치', '▁이어링'],\n",
       " ['▁까르띠에', '▁발롱블루', '▁핑크골드', '▁카드지갑'],\n",
       " ['▁까르띠에', '▁뱅글팔찌'],\n",
       " ['▁까르띠에', '▁팔찌'],\n",
       " ['▁까르띠에', '▁투링', '목걸이'],\n",
       " ['▁까르띠에', '▁시계'],\n",
       " ['▁까르띠에', '▁가죽', '못', '팔찌', '▁남녀공용'],\n",
       " ['▁까르띠에', '▁목걸이', '▁j', '▁22'],\n",
       " ['▁까르띠에', '▁선글라스'],\n",
       " ['▁까르띠에', '▁탱크', '▁프랑', '세', '즈', '▁카드지갑'],\n",
       " ['▁까르띠에', '▁구슬', '▁핸드백', '▁가방'],\n",
       " ['▁최상급', '▁까르띠에', '▁발롱블루', '▁메탈', '▁소', '자'],\n",
       " ['▁까르띠에', '▁시계'],\n",
       " ['▁까르띠에', '▁신형', '▁풀', '보석', '▁오토매틱', '▁39', 'mm', '▁여성용'],\n",
       " ['▁ᄀ', 'ᄀᄇ', '▁까르띠에'],\n",
       " ['▁까르띠에', '사각', '팔찌', '▁14', 'k'],\n",
       " ['▁까르띠에', '▁링', '▁love', '▁로즈골드', '▁반지'],\n",
       " ['▁ᄀ', 'ᄀᄇ', '▁까르띠에'],\n",
       " ['▁까르띠에', '▁시계'],\n",
       " ['▁까르띠에', '▁반지'],\n",
       " ['▁까르띠에', '▁목걸이'],\n",
       " ['▁까르띠에', '▁원', '사슬', '팔찌', '▁14', 'k'],\n",
       " ['▁c', '▁아', '뮬', '레', '뜨', '▁드', '▁까르띠에', '이어링'],\n",
       " ['▁까르띠에', '▁구슬', '▁핸드백', '▁가방'],\n",
       " ['▁14', 'k', '▁까르띠에', '▁st', '반지', '▁13', '▁반지', '폭', '▁7', '미리'],\n",
       " ['▁까르띠에', '▁시계'],\n",
       " ['▁까르띠에', '▁롱', '드', '▁솔로', '드'],\n",
       " ['▁까르띠에', '▁탱크솔로', '▁메탈', '▁대', '▁남녀공용'],\n",
       " ['▁럭셔리', '▁까르띠에', '▁love', '▁귀걸이', '▁목걸이'],\n",
       " ['▁까르띠에', '▁뚜루비옹', '▁문페이즈', '▁메탈', '▁스트랩'],\n",
       " ['▁까르띠에', '▁팔찌'],\n",
       " ['▁최상급', '▁까르띠에', '▁아메리칸', '▁탱크', '▁금장', '▁가죽'],\n",
       " ['▁까르띠에', '▁발롱블루', '▁콤비', '▁화이트다이얼', '▁여성용', '▁27', 'mm', '▁쿼츠', '무브먼트'],\n",
       " ['▁까르띠에', '▁cartier', '▁발롱블루', '▁ball', 'on', '▁bl', 'eu'],\n",
       " ['▁까르띠에', '탱', '크'],\n",
       " ['▁까르띠에', '▁발롱블루', '▁36', 'mm'],\n",
       " ['▁까르띠에', '▁트리플', '▁러브링', '▁네크리스', '▁목걸이'],\n",
       " ['▁까르띠에',\n",
       "  '▁산토스',\n",
       "  '▁100',\n",
       "  '▁로즈골드',\n",
       "  '▁화이트다이얼',\n",
       "  '▁남',\n",
       "  '▁여',\n",
       "  '공',\n",
       "  '영',\n",
       "  '▁38',\n",
       "  'mm',\n",
       "  '▁쿼츠무브'],\n",
       " ['▁까르띠에', '▁발롱블루', '▁쿼츠'],\n",
       " ['▁까르띠에', '▁ss', '급', '▁전국최저가'],\n",
       " ['▁까르띠에', '▁백팩'],\n",
       " ['▁까르띠에', '▁팬더', '드', '▁스몰', '▁실제', '▁', '출고', '사진'],\n",
       " ['▁까르띠에', '▁st', '▁팔찌'],\n",
       " ['▁당일배송', '▁까르띠에', '▁발롱블루', '뚜르비옹', '▁은장'],\n",
       " ['▁까르띠에', '▁시계', '▁산토스', '▁드', '▁까르띠에', '▁워치'],\n",
       " ['▁까르띠에', '▁시계'],\n",
       " ['▁까르띠에', '▁발롱블루', '▁실버', '▁카드지갑'],\n",
       " ['▁까르띠에', '▁롱', '드', '솔', '로', '▁금장', '▁화이트', '▁오토', '무브먼트', '▁41', 'mm'],\n",
       " ['▁까르띠에', '▁발롱블루', '▁', '뚜르비옹', '▁은장'],\n",
       " ['▁까르띠에', '▁큐빅', '시계'],\n",
       " ['▁샤넬', '▁까르띠에'],\n",
       " ['▁까르띠에', '▁로', '통', '드', '▁크로노그래프', '▁은장', '▁카드지갑'],\n",
       " ['▁당일배송',\n",
       "  '▁까르띠에',\n",
       "  '▁산토스',\n",
       "  '▁100',\n",
       "  '주년',\n",
       "  '▁실버',\n",
       "  '▁블랙',\n",
       "  'w',\n",
       "  '20',\n",
       "  '106',\n",
       "  'x',\n",
       "  '8'],\n",
       " ['▁까르띠에', '▁롱', '드', '솔', '로', '▁남성용'],\n",
       " ['▁까르띠에', '쿼츠시계'],\n",
       " ['▁까르띠에', '▁칼리브'],\n",
       " ['▁까르띠에', '▁산토스', '▁크로노그래프'],\n",
       " ['▁까르띠에', '▁산토스', '▁100', '▁화이트다이얼', '▁여성용', '▁35', 'mm', '▁쿼츠', '무브먼트'],\n",
       " ['▁롱', '드', '▁솔로', '▁드', '▁까르띠에', '▁메탈', '▁스트랩'],\n",
       " ['▁14', 'k', '금', '욜', '42', '판매', '▁까르띠에', 'st', '스틱', '4', '센티', '▁팔찌'],\n",
       " ['▁까르띠에', '▁산토스'],\n",
       " ['▁까르띠에',\n",
       "  '▁발롱블루',\n",
       "  '▁대',\n",
       "  '▁중',\n",
       "  '▁소',\n",
       "  '▁가죽',\n",
       "  '스트',\n",
       "  '렙',\n",
       "  '▁사이즈',\n",
       "  '▁아',\n",
       "  '래',\n",
       "  '사진',\n",
       "  '참조'],\n",
       " ['▁까르띠에', '▁가방'],\n",
       " ['▁까르띠에', '▁아', '뮬', '레', '뜨'],\n",
       " ['▁가가밀라노', '▁l', 'w', 'c', '▁까르띠에', '산', '토스'],\n",
       " ['▁까르띠에', '▁솔', '리', '테', '어', '링'],\n",
       " ['▁까르띠에', 'st', '▁팔찌'],\n",
       " ['▁까르띠에', '정품', '시계'],\n",
       " ['▁까르띠에', '▁퍼플', '▁여성시계', '▁w', 'b', '52', '002', '2'],\n",
       " ['▁14', 'k', '▁18', 'k', '▁신형', '▁까르띠에', '▁반', '나', '사', '▁4', '미리'],\n",
       " ['▁까르띠에', '▁시계'],\n",
       " ['▁까르띠에', '▁롱', '드', '솔', '로', '▁여성용'],\n",
       " ['▁까르띠에', '▁롱', '드', '솔', '로', '▁화이트', '▁오토', '무브먼트', '▁41', 'mm'],\n",
       " ['▁전시상품급', '▁정품', '▁cartier', '▁탱크', '▁프랑', '세스', '▁풀', '다이아', '▁시계', '▁팝니다'],\n",
       " ['▁까르띠에', '▁클러치백'],\n",
       " ['▁까르띠에', '쿼츠시계'],\n",
       " ['▁당일배송', '▁까르띠에', '▁드라이브', '▁드', '▁까르띠에'],\n",
       " ['▁까르띠에', '▁산토스', '100', '▁여성용'],\n",
       " ['▁까르띠에', '팔찌'],\n",
       " ['▁까르띠에', '▁시계'],\n",
       " ['▁최상급', '▁까르띠에', '▁발롱블루', '▁메탈', '▁대자', '▁쿼츠'],\n",
       " ['▁ᄀ', 'ᄀᄇ', '▁까르띠에'],\n",
       " ['▁까르띠에', '▁드라이브', '▁드', '▁까르띠에', '▁시계'],\n",
       " ['▁여름', '특가', '남여공용커플선글라스최저가', '판매', '▁까르띠에', '선글라스'],\n",
       " ['▁까르띠에', '▁남성시계', '▁판매', '▁합니다'],\n",
       " ['▁까르띠에', '▁발', '롱', '▁블루', '▁카본', '워치', '▁카드지갑'],\n",
       " ['▁v', '6', '▁까르띠에', '▁v', '7', '▁발롱블루', '▁42', 'mm'],\n",
       " ['▁14',\n",
       "  'k',\n",
       "  '▁18',\n",
       "  'k',\n",
       "  '▁핑크골드',\n",
       "  '▁로즈골드',\n",
       "  '▁반지',\n",
       "  '▁까르띠에',\n",
       "  '반지',\n",
       "  '▁r',\n",
       "  '142',\n",
       "  '▁체리스쥬얼',\n",
       "  '리'],\n",
       " ['▁까르띠에', '▁발롱블루', '▁콤비', '▁2', 'size'],\n",
       " ['▁까르띠에', '▁큐빅', '시계'],\n",
       " ['▁까르띠에', '▁산토스', '▁여성용'],\n",
       " ['▁까르띠에', '▁다이버', '▁골드'],\n",
       " ['▁까르띠에', '▁탱크솔로', '▁블랙', '▁3', 'size', '▁커플'],\n",
       " ['▁까르띠에', '▁여자시계'],\n",
       " ['▁까르띠에', '▁베누아', '▁핑크골드', '▁여성시계'],\n",
       " ['▁까르띠에', '여성', '쿼츠시계'],\n",
       " ['▁ᄀ', 'ᄀᄇ', '▁까르띠에'],\n",
       " ['▁ᄀ', 'ᄀᄇ', '▁까르띠에'],\n",
       " ['▁14', 'k', '▁18', 'k', '▁까르띠에', '▁러브', '목걸이'],\n",
       " ['▁까르띠에', '▁시계'],\n",
       " ['▁까르띠에', '▁이보영', '▁탱크솔로', '▁금장', '소', '자', '▁가죽'],\n",
       " ['▁까르띠에', '발', '롱', '블루'],\n",
       " ['▁ᄀ', 'ᄀᄇ', '▁까르띠에'],\n",
       " ['▁14', 'k', '▁까르띠에', '▁st', '▁체인반지'],\n",
       " ['▁까르띠에', '쿼츠'],\n",
       " ['▁까르띠에', '▁여성용', '▁시계'],\n",
       " ['▁까르띠에', '▁에', '뮬', '레', '뜨'],\n",
       " ['▁까르띠에', '▁못팔찌', '▁14', 'k'],\n",
       " ['▁여름', '특가', '남여공용커플선글라스최저가', '판매', '▁까르띠에', '선글라스'],\n",
       " ['▁까르띠에', '▁반지', '▁쇼핑백'],\n",
       " ['▁까르띠에', '▁롱', '드', '솔', '로'],\n",
       " ['▁14', 'k', '▁18', 'k', '▁까르띠에', '▁커플링'],\n",
       " ['▁까르띠에', '▁앙글레즈', '▁커플시계', '▁남', '▁여', '▁사이즈'],\n",
       " ['▁까르띠에',\n",
       "  '▁골드',\n",
       "  '▁18',\n",
       "  'k',\n",
       "  '▁gold',\n",
       "  '▁팬더',\n",
       "  '▁드',\n",
       "  '▁까르띠에',\n",
       "  '▁재규어',\n",
       "  '팔찌',\n",
       "  '▁퍼펙트',\n",
       "  '▁제작'],\n",
       " ['▁c', '아', '뮬', '레', '뜨', '▁드', '▁까르띠에', '▁목걸이'],\n",
       " ['▁까르띠에', '▁하정우', '▁검판', '▁금장', '가죽'],\n",
       " ['▁까르띠에', '▁탱크', '▁솔로'],\n",
       " ['▁ᄀ', 'ᄀᄇ', '▁까르띠에'],\n",
       " ['▁까르띠에', '▁팬더'],\n",
       " ['▁까르띠에', '자동시계'],\n",
       " ['▁까르띠에', '▁9', '306'],\n",
       " ['▁까르띠에', '▁시계', '▁레플', '▁싸게', '급처'],\n",
       " ['▁까르띠에', '▁로즈골드', '▁우레탄'],\n",
       " ['▁까르띠에', '▁시계'],\n",
       " ['▁까르띠에', '▁탱크솔로'],\n",
       " ['▁까르띠에', '▁드라이브', '▁드', '▁로즈골드', '▁블랙다이얼', '▁오토메틱', '▁42', 'mm'],\n",
       " ['▁까르띠에', '▁발롱블루', '▁화이트다이얼', '▁여성용', '▁27', 'mm', '▁쿼츠', '무브먼트'],\n",
       " ['▁v', '6', '▁까르띠에', '▁산토스', '청', '판', '▁스마트', '링크', '▁남성시계'],\n",
       " ['▁까르띠에', '▁러브팔찌'],\n",
       " ['▁까르띠에', '▁드라이브', '▁드', '▁블랙다이얼', '▁오토메틱', '▁42', 'mm'],\n",
       " ['▁국내당일배송', '▁까르띠에', '▁탱크', '▁솔로', '▁쿼츠'],\n",
       " ['▁까르띠에',\n",
       "  '▁산토스',\n",
       "  '▁100',\n",
       "  '▁화이트다이얼',\n",
       "  '▁남',\n",
       "  '▁여공용',\n",
       "  '▁38',\n",
       "  'mm',\n",
       "  '▁쿼츠',\n",
       "  '무브먼트'],\n",
       " ['▁모',\n",
       "  '바',\n",
       "  '도',\n",
       "  '▁까르띠에',\n",
       "  '▁페라가모',\n",
       "  '▁루이비통',\n",
       "  '▁샤넬',\n",
       "  '▁구찌',\n",
       "  '▁오메가',\n",
       "  '▁미쉘',\n",
       "  '에',\n",
       "  '블랑',\n",
       "  '▁프라다'],\n",
       " ['▁까르띠에', '▁산토스', '▁스틸', '금장', '세트', '▁남여커플'],\n",
       " ['▁까르띠에', '▁로고', '▁스팽글', '▁팔찌'],\n",
       " ['▁까르띠에',\n",
       "  '▁러브팔찌',\n",
       "  '▁러브',\n",
       "  '반지',\n",
       "  '▁각인',\n",
       "  '있음',\n",
       "  '▁스틸',\n",
       "  '▁최저가',\n",
       "  '▁남자',\n",
       "  '팔찌',\n",
       "  '▁남자',\n",
       "  '까르띠에',\n",
       "  '팔찌'],\n",
       " ['▁정품', '▁까르띠에', '▁팬더', '라인', '▁토드백'],\n",
       " ['▁까르띠에', '▁머스트', '▁반지갑', '▁3', '슬', '롯'],\n",
       " ['▁까르띠에', '산', '토스', '▁ss', '급', '▁전국최저가'],\n",
       " ['▁까르띠에', '▁발롱블루', '▁여성용', '▁28', 'mm'],\n",
       " ['▁까르띠에', '▁팔찌'],\n",
       " ['▁까르띠에', '▁스타일', '▁팔찌'],\n",
       " ['▁bbr', '▁까르띠에', '▁로', '통', '드', '▁', '뚜', '르', '비', '용', '시계'],\n",
       " ['▁까르띠에'],\n",
       " ['▁까르띠에', '▁시계'],\n",
       " ['▁까르띠에', '▁정품', '▁반지', '▁인증', '서', '▁포함', '▁팝니다'],\n",
       " ['▁국내당일배송', '▁까르띠에', '▁로', '통', '드', '▁크로노', '▁쿼츠'],\n",
       " ['▁까르띠에', '명함지갑'],\n",
       " ['▁까르띠에', '▁팬더', '골드'],\n",
       " ['▁여름', '특가', '남여공용커플선글라스최저가', '판매', '▁까르띠에', '선글라스'],\n",
       " ['▁까르띠에', '▁14', 'k', '▁일체형'],\n",
       " ['▁까르띠에', '▁드라이브', '▁드', '▁까르띠에', '▁국내', '풀셋', '▁민트급'],\n",
       " ['▁k', '11', '공장', '▁까르띠에', '▁롱', '드', '솔', '로', '▁최고퀄리티'],\n",
       " ['▁까르띠에', '▁탱크', 'mc', '▁모델', '입니다'],\n",
       " ['▁까르띠에', '▁산토스', '100'],\n",
       " ['▁까르띠에', '▁탱크솔로', '▁금장', '▁브라운', '▁커플'],\n",
       " ['▁까르띠에', '▁탱크솔로', '▁최고급', '▁고급'],\n",
       " ['▁까르띠에', '▁프랑', '세', '즈', '▁세트'],\n",
       " ['▁까르띠에', 'st', '▁실버', '▁뱅글'],\n",
       " ['▁까르띠에', 'st', '▁체인', '▁팔찌', '▁남녀공용'],\n",
       " ['▁까르띠에', '▁산토스', '▁100', '▁크로노그래프', '▁화이트', '▁41', 'mm', '▁쿼츠', '무브먼트'],\n",
       " ['▁까르띠에', '▁산토스', '▁100', '▁크로노그래프', '▁블랙', '▁41', 'mm', '▁쿼츠', '무브먼트'],\n",
       " ['▁까르띠에', '▁시계'],\n",
       " ['▁까르띠에', '▁산토스', '100', '▁가죽', '▁커플'],\n",
       " ['▁까르띠에', '▁탱크솔로', '▁27', 'mm'],\n",
       " ['▁까르띠에', '▁팬더', '▁드', '▁워치', '▁2', 'type', '▁여성'],\n",
       " ['▁여름', '특가', '남여공용커플선글라스최저가', '판매', '▁까르띠에', '선글라스'],\n",
       " ['▁까르띠에', '스타일', '▁뱅글', '▁팔찌'],\n",
       " ['▁까르띠에', '▁목걸이'],\n",
       " ['▁ᄀ', 'ᄀᄇ', '▁까르띠에'],\n",
       " ['▁까르띠에', '▁볼펜'],\n",
       " ['▁여름', '특가', '남여공용커플선글라스최저가', '판매', '▁까르띠에', '블루', '미러선글라스'],\n",
       " ['▁v', '6', '▁까르띠에', '▁산토스', '▁올블랙', '▁남성시계'],\n",
       " ['▁까르띠에', 'st', '▁디아', '망', '▁주얼리', '▁세트'],\n",
       " ['▁당일배송', '▁까르띠에', '▁발롱블루'],\n",
       " ['▁까르띠에', '벨트', '▁구매', '희', '망', '합니다'],\n",
       " ['▁커플', '이벤트', '상품', '▁까르띠에', '▁발롱블루', '▁메탈', '▁커플시계'],\n",
       " ['▁면', '세', '급', '▁로켓배송', '▁까르띠에', '▁앙글레즈', '▁메탈', '▁남성용'],\n",
       " ['▁까르띠에', '▁앙글레즈', '▁가죽', '▁남성용'],\n",
       " ['▁까르띠에', '▁앙글레즈', '▁금장', '▁3', 'size', '▁커플'],\n",
       " ['▁까르띠에', '▁시계'],\n",
       " ['▁까르띠에', '▁시계'],\n",
       " ['▁까르띠에', '▁탱크', '앤', '▁실버', '▁레이디스', '▁손목시계'],\n",
       " ['▁까르띠에', '▁여성시계'],\n",
       " ['▁까르띠에', '▁저스트앵끌루', '▁못팔찌', '▁다이아몬드', '▁명품', '팔찌', '▁섹시', '▁비키니', '▁발찌'],\n",
       " ['▁까르띠에', '▁다이버', '▁검판', '▁은장', '▁우레탄'],\n",
       " ['▁까르띠에', '▁팬더', '▁드', '▁워치', '▁콤비'],\n",
       " ['▁까르띠에', '▁발롱블루', '▁메탈', '▁커플시계'],\n",
       " ['▁ᄀ', 'ᄀᄇ', '▁까르띠에'],\n",
       " ['▁까르띠에', '▁미니', '링', '▁귀걸이', '▁디자인', '▁컬러', '별'],\n",
       " ['▁cartier', '▁까르띠에', '▁반지갑'],\n",
       " ['▁여름', '특가', '남여공용커플선글라스최저가', '판매', '▁까르띠에', '선글라스'],\n",
       " ['▁까르띠에', '▁다이버', '▁검판', '▁은장', '▁우레탄'],\n",
       " ['▁17', '호', '▁까르띠에', '써지컬', '반지'],\n",
       " ['▁까르띠에', '▁팔찌'],\n",
       " ['▁당일배송', '▁까르띠에', '▁탱크', '앤', '▁실버', '▁레이디스', '▁손목시계'],\n",
       " ['▁까르띠에', '▁시계'],\n",
       " ['▁까르띠에', '팔찌', '999', '실버', '제품'],\n",
       " ['▁까르띠에', '▁발롱블루', '▁메탈', '▁28', 'mm'],\n",
       " ['▁까르띠에', '▁팔찌'],\n",
       " ['▁까르띠에', 'st', '▁무배'],\n",
       " ['▁화이트', '▁핑크', '▁af', '공장', '▁까르띠에', '▁발롱블루', '▁28', 'mm', '▁스틸', '▁브레이슬릿'],\n",
       " ['▁까르띠에', '▁하정우', '▁검판', '▁은장', '가죽'],\n",
       " ['▁까르띠에', '▁산토스', '▁스틸', '은장', '세트', '▁남여커플'],\n",
       " ['▁면', '세', '급', '▁로켓배송', '▁까르띠에', '▁탱크솔로', '▁가죽', '▁대자'],\n",
       " ['▁까르띠에', '▁드라이브', '▁드', '▁로즈골드', '▁화이트다이얼', '▁오토메틱', '▁42', 'mm'],\n",
       " ['▁당일배송', '▁까르띠에', '▁발롱블루', '▁메탈시계'],\n",
       " ['▁100',\n",
       "  '▁신상',\n",
       "  '▁new',\n",
       "  '▁까르띠에',\n",
       "  '▁미니',\n",
       "  '러브',\n",
       "  '팔찌',\n",
       "  '▁sm',\n",
       "  '▁love',\n",
       "  '▁10',\n",
       "  'p',\n",
       "  '▁dia'],\n",
       " ['▁까르띠에', '탱', '크', '솔', '로', '▁매탈'],\n",
       " ['▁까르띠에', '▁드라이브', '▁드', '▁까르띠에'],\n",
       " ['▁위',\n",
       "  '탁',\n",
       "  '▁까르띠에',\n",
       "  '▁산토스',\n",
       "  '▁오토',\n",
       "  '▁18',\n",
       "  'k',\n",
       "  '▁콤비',\n",
       "  '▁여성용',\n",
       "  '▁s',\n",
       "  '▁사이즈',\n",
       "  '▁24',\n",
       "  'mm'],\n",
       " ['▁까르띠에', '▁발롱블루', '▁핑크', '자개', '▁여성용', '▁27', 'mm', '▁쿼츠', '무브먼트'],\n",
       " ['▁까르띠에', '▁뱅글', '▁여름', '엔', '▁악세사리', '필수'],\n",
       " ['▁금', '딱지', '▁까르띠에', '▁팔찌', '▁주문', '▁제작해드립니', '다', '▁내용참고'],\n",
       " ['▁까르띠에', '▁러브링', '▁케이스'],\n",
       " ['▁까르띠에'],\n",
       " ['▁까르띠에', '▁탱크', '▁여성', '▁솔로', '▁골드'],\n",
       " ['▁까르띠에', '▁다이버'],\n",
       " ['▁까르띠에', '▁앙글레즈', '▁콤비', '▁남성용'],\n",
       " ['▁v', '6', '▁까르띠에', '▁산토스'],\n",
       " ['▁까르띠에', '▁탱크', '▁프랑', '세', '즈', '▁카드지갑'],\n",
       " ['▁까르띠에', '▁못', '▁팔찌', '▁풀박스'],\n",
       " ['▁까르띠에', '▁탱크솔로', '▁메탈'],\n",
       " ['▁까르띠에'],\n",
       " ['▁까르띠에', '▁발롱블루', '▁메탈', '▁42', 'mm'],\n",
       " ['▁까르띠에', '▁앙글레즈', '▁콤비', '▁3', 'size', '▁커플'],\n",
       " ['▁까르띠에', '▁팬더', '▁드', '▁워치', '▁신민아', '▁콤비'],\n",
       " ['▁까르띠에', '▁탱크', '▁아메리칸', '▁가죽'],\n",
       " ['▁까르띠에', '▁발', '롱', '▁블루', '▁카본', '워치'],\n",
       " ['▁까르띠에', '▁시계', '정품', '팝니다'],\n",
       " ['▁까르띠에', '▁팬더', '▁드', '▁워치', '▁로즈골드'],\n",
       " ['▁까르띠에', '▁칼리버', '▁드', '▁다이브', '▁실버'],\n",
       " ['▁커플', '이벤트', '상품', '▁까르띠에', '▁발롱블루', '▁메탈', '▁커플시계'],\n",
       " ['▁까르띠에', '▁시계'],\n",
       " ['▁까르띠에', '▁산토스', '▁스틸', '금장', '콤비'],\n",
       " ['▁까르띠에', '▁산토스', '▁핑크', '자개판', '▁100', '▁실사'],\n",
       " ['▁정품',\n",
       "  '▁까르띠에',\n",
       "  '▁러브링',\n",
       "  '▁러브',\n",
       "  '반지',\n",
       "  '▁다이아',\n",
       "  '▁3',\n",
       "  'p',\n",
       "  '▁팝니다',\n",
       "  '▁7',\n",
       "  '호',\n",
       "  '▁풀셋'],\n",
       " ['▁까르띠에', '▁팔찌'],\n",
       " ['▁까르띠에', '▁시계'],\n",
       " ['▁까르띠에', '▁발롱블루', '▁입고', '▁제작', '사', '▁v', '6', '팩토리', '▁버전', '▁최신'],\n",
       " ['▁급매', '▁여성', '14', 'k', '골드', '▁까르띠에', '▁팔찌'],\n",
       " ['▁까르띠에', '▁산토스', '▁100', '주년', '▁에디션', '▁은장', '▁100', '▁실사'],\n",
       " ['▁정품', '▁까르띠에', '▁마르', '첼', '로', '▁토드백'],\n",
       " ['▁폭',\n",
       "  '시',\n",
       "  '하트',\n",
       "  '시계',\n",
       "  '▁까르띠에',\n",
       "  '▁패션시계',\n",
       "  '▁구찌시계',\n",
       "  '▁샤넬',\n",
       "  '시계',\n",
       "  '▁로즈몽시계',\n",
       "  '▁ost',\n",
       "  '시계'],\n",
       " ['▁까르띠에', '▁여성시계'],\n",
       " ['▁까르띠에', '▁발롱블루', '▁콤비', '▁커플시계', '▁3', '가지', '사이즈'],\n",
       " ['▁까르띠에', '▁여성시계'],\n",
       " ['▁까르띠에', '▁산토스', '▁콤비', '▁메탈'],\n",
       " ['▁까르띠에', '▁발롱블루', '▁', '뚜르비옹', '▁은장', '▁시계'],\n",
       " ['▁까르띠에', '▁팬더', '▁드', '▁워치', '▁콤비'],\n",
       " ['▁까르띠에', '▁산토스', '▁스틸', '은장', '▁시계'],\n",
       " ['▁까르띠에', '▁러브', '▁팔찌'],\n",
       " ['▁까르띠에', '▁러브링'],\n",
       " ['▁화이트',\n",
       "  '▁핑크',\n",
       "  '▁v',\n",
       "  '9',\n",
       "  '공장',\n",
       "  '▁까르띠에',\n",
       "  '▁발롱블루',\n",
       "  '▁33',\n",
       "  'mm',\n",
       "  '▁로',\n",
       "  '골',\n",
       "  '포',\n",
       "  '금',\n",
       "  '▁브레이슬릿'],\n",
       " ['▁까르띠에', '▁못', '▁목걸이'],\n",
       " ['▁택포',\n",
       "  '▁컬',\n",
       "  '리티',\n",
       "  '갑',\n",
       "  '▁리얼',\n",
       "  '티',\n",
       "  '타',\n",
       "  '늄',\n",
       "  '▁까르띠에',\n",
       "  '▁러브',\n",
       "  '반지',\n",
       "  '팔아요',\n",
       "  '▁',\n",
       "  '값',\n",
       "  '싼',\n",
       "  '제품',\n",
       "  '과',\n",
       "  '▁비',\n",
       "  '교',\n",
       "  '불가'],\n",
       " ['▁면', '세', '급', '▁로켓배송', '▁까르띠에', '▁팬더', '▁드', '▁워치', '▁신민아', '▁큐빅'],\n",
       " ['▁14', 'k', '▁18', 'k', '▁까르띠에', '▁팔찌'],\n",
       " ['▁까르띠에', '발', '롱', '블루'],\n",
       " ['▁까르띠에', '▁하정우', '▁검판', '▁은장', '가죽'],\n",
       " ['▁까르띠에', '목걸이', '케이스', '▁정품'],\n",
       " ['▁까르띠에', '▁', 'tan', 'k', '▁mc', '▁블랙판'],\n",
       " ['▁까르띠에', '▁cartier', '▁발롱블루', '▁ball', 'on', '▁bl', 'eu', '▁풀박스'],\n",
       " ['▁까르띠에', '▁발롱블루', '▁콤비', '▁소', '자'],\n",
       " ['▁까르띠에'],\n",
       " ['▁까르띠에', '▁펜', '더', '▁드', '▁까르띠에', '▁실버'],\n",
       " ['▁까르띠에', '▁발롱블루', '▁메탈', '▁3', 'size', '▁커플'],\n",
       " ['▁까르띠에'],\n",
       " ['▁까르띠에', '▁앙글레즈', '▁가죽', '▁여성용'],\n",
       " ['▁까르띠에', '뱅글', '18', 'k', '팔찌'],\n",
       " ['▁까르띠에', '화이트', '▁여', '장', '▁큐빅'],\n",
       " ['▁까르띠에', '▁산토스', '▁갈', '베', '▁남성용', '시계'],\n",
       " ['▁까르띠에', '▁발롱블루', '▁메탈'],\n",
       " ['▁까르띠에', '▁펜', '더', '▁드', '▁까르띠에', '▁로즈골드'],\n",
       " ['▁까르띠에', '▁산토스', '▁스틸', '은장'],\n",
       " ['▁반클리프', '▁까르띠에', '▁발찌'],\n",
       " ['▁까르띠에', '▁발', '롱', '▁블루', '▁카본', '워치'],\n",
       " ['▁까르띠에', '▁발롱블루', '▁42', 'm', '▁메탈시계'],\n",
       " ['▁블랙',\n",
       "  '▁블루',\n",
       "  '▁j',\n",
       "  'f',\n",
       "  '공장',\n",
       "  '▁까르띠에',\n",
       "  '▁칼리브',\n",
       "  '▁드',\n",
       "  '▁다이버',\n",
       "  '▁스틸',\n",
       "  '▁브레이슬릿'],\n",
       " ['▁까르띠에', '▁귀걸이'],\n",
       " ['▁까르띠에', '▁발롱블루', '▁42', '미리'],\n",
       " ['▁정품', '▁까르띠에'],\n",
       " ['▁까르띠에', '▁시계'],\n",
       " ['▁까르띠에', '▁21', 'c', '▁스틸', '워치', '▁여성시계'],\n",
       " ['▁까르띠에', '▁하정우', '▁흰판', '▁금장', '가죽'],\n",
       " ['▁까르띠에', '▁산토스', '▁남성시계'],\n",
       " ['▁까르띠에', '▁반지갑', '▁정품'],\n",
       " ['▁까르띠에', '▁탱크', '▁여성', '▁솔로', '▁골드'],\n",
       " ['▁여름', '특가', '남여공용커플선글라스최저가', '판매', '▁까르띠에', '블랙', '선글라스'],\n",
       " ['▁까르띠에', '▁발롱블루', '▁28', '미리'],\n",
       " ['▁까르띠에', '▁탱크', '▁프랑', '세', '즈', '▁카드지갑'],\n",
       " ['▁까르띠에', '▁시계'],\n",
       " ['▁까르띠에', '▁칼리버', '▁드', '▁다이브', '▁실버'],\n",
       " ['▁까르띠에', '▁베누아'],\n",
       " ['▁까르띠에', '▁드라이브', '▁드', '▁까르띠에', '▁100', '▁실사'],\n",
       " ['▁까르띠에'],\n",
       " ['▁까르띠에', '▁아메리칸', '▁탱크', '▁금장', '▁가죽', '▁여성용'],\n",
       " ['▁까르띠에', '▁발롱블루', '▁콤비', '▁커플시계', '▁3', '가지', '사이즈'],\n",
       " ['▁까르띠에', '▁발롱블루', '▁핑크', '판', '▁메탈'],\n",
       " ['▁제품',\n",
       "  '다양',\n",
       "  '▁af',\n",
       "  '공장',\n",
       "  '▁까르띠에',\n",
       "  '▁발롱블루',\n",
       "  '▁33',\n",
       "  'mm',\n",
       "  '▁스틸',\n",
       "  '▁크로커다일',\n",
       "  '스트랩'],\n",
       " ['▁면', '세', '급', '▁로켓배송', '▁까르띠에', '▁팬더', '▁드', '▁워치', '▁신민아'],\n",
       " ['▁이', '둔', '링', '▁패션반지', '▁구찌', '▁까르띠에'],\n",
       " ['▁까르띠에'],\n",
       " ['▁ca',\n",
       "  'm',\n",
       "  'ly',\n",
       "  '시계',\n",
       "  '▁스위스',\n",
       "  '여성시계',\n",
       "  '▁까르띠에',\n",
       "  '▁구찌시계',\n",
       "  '▁오메가시계',\n",
       "  '▁로이드시계',\n",
       "  '▁파슬'],\n",
       " ['▁까르띠에', '▁시계'],\n",
       " ['▁게', '르', '마', '륨', '99', '▁99', '▁까르띠에', '스타일'],\n",
       " ['▁까르띠에', '▁발롱블루', '▁콤비', '▁대자'],\n",
       " ['▁까르띠에', '▁반지', '▁케이스'],\n",
       " ['▁까르띠에', '▁러브', '▁뱅글', '▁팔찌', '▁까르띠에', '▁러브팔찌', '▁풀박스'],\n",
       " ['▁까르띠에', '▁드라이브', '▁드', '▁까르띠에', '▁시계'],\n",
       " ['▁까르띠에', '▁시계'],\n",
       " ['▁까르띠에', '▁시계'],\n",
       " ['▁까르띠에', '▁탱크솔로', '▁은장', '▁블랙', '가죽'],\n",
       " ['▁까르띠에'],\n",
       " ['▁까르띠에', '▁핑크', '자개판', '▁100', '▁실사'],\n",
       " ['▁까르띠에', '▁자개', '▁포인트', '▁뱅글', '▁팔찌'],\n",
       " ['▁까르띠에', '▁탱크솔로', '▁가죽', '▁소', '자'],\n",
       " ['▁까르띠에', '▁저스트앵끌루', '▁팔찌', '▁', '생활', '기', '스'],\n",
       " ['▁까르띠에', '▁반지'],\n",
       " ['▁까르띠에', '러', '브레이슬릿', '세트', '▁초인기'],\n",
       " ['▁까르띠에', '▁하정우', '▁흰판', '▁금장', '가죽'],\n",
       " ['▁까르띠에', '▁앙글레즈', '▁커플시계', '▁남', '▁여', '▁사이즈'],\n",
       " ['▁까르띠에', '▁여성시계'],\n",
       " ['▁까르띠에', '▁시계줄', '▁새상품', '▁정품', '▁오리지날'],\n",
       " ['▁까르띠에', '▁롱', '드', '▁시계', '▁정품'],\n",
       " ['▁까르띠에', '▁러브링'],\n",
       " ['▁까르띠에', '▁시계'],\n",
       " ['▁제품', '다양', '▁af', '공장', '▁까르띠에', '▁탱크솔로', '▁27', 'mm', '▁소가죽', '스트랩'],\n",
       " ['▁당일배송', '▁까르띠에', '▁로', '통', '드', '▁크로노', '▁가죽시계'],\n",
       " ['▁까르띠에', '▁하정우', '▁검판', '▁은장', '가죽'],\n",
       " ['▁까르띠에', '산', '토스', '▁스틸', '▁시계', '▁여유', '▁스트랩'],\n",
       " ['▁까르띠에', '▁발롱블루', '▁33', '미리'],\n",
       " ['▁당일배송', '▁까르띠에', '▁탱크', '▁솔로', '▁커플시계'],\n",
       " ['▁까르띠에', '▁다이버', '▁검판', '▁금장', '▁우레탄'],\n",
       " ['▁까르띠에', '▁다이버', '▁검판', '▁은장', '▁우레탄'],\n",
       " ['▁당일배송', '▁까르띠에', '▁탱크', '▁프랑', '세', '즈', '▁금장'],\n",
       " ['▁까르띠에', '▁백금', '▁pt', '950', '▁러브', '반지', '▁46', '사이즈', '▁정품', '▁정품'],\n",
       " ['▁까르띠에', '▁베누아'],\n",
       " ['▁까르띠에', '▁앙글레즈', '▁메탈', '▁30', 'mm'],\n",
       " ['▁까르띠에', '▁하정우', '▁검판', '▁금장', '가죽'],\n",
       " ['▁까르띠에', '▁송아지가죽', '▁', '단지갑'],\n",
       " ['▁까르띠에', '▁산토스'],\n",
       " ['▁까르띠에', '▁하정우', '▁흰판', '▁금장', '가죽'],\n",
       " ['▁까르띠에', '▁반지'],\n",
       " ['▁면', '세', '급', '▁로켓배송', '▁까르띠에', '▁앙글레즈', '▁메탈', '▁여성용'],\n",
       " ['▁면', '세', '급', '▁로켓배송', '▁까르띠에', '▁탱크솔로', '▁가죽', '▁중', '자'],\n",
       " ['▁까르띠에', '▁앙글레즈', '▁콤비', '▁여성용'],\n",
       " ['▁마린', '샵', '자체제작', '▁까르띠에', '▁드라이브', '▁드', '▁금장'],\n",
       " ['▁까르띠에', 'st', '▁팔찌'],\n",
       " ['▁까르띠에', '▁송아지가죽', '▁장지갑'],\n",
       " ['▁까르띠에', '▁산토스', '▁여성용'],\n",
       " ['▁까르띠에', '▁발롱블루', '▁블랙', '가죽'],\n",
       " ['▁까르띠에', '▁발롱블루', '▁초코', '판', '▁오토메틱', '시계'],\n",
       " ['▁까르띠에', '▁21', 'c', '▁스틸', '워치', '▁여성시계'],\n",
       " ['▁까르띠에', '▁탱크', '▁솔로', '▁골드', '▁브라운', '가죽'],\n",
       " ['▁까르띠에', '▁러브팔찌', '▁초특가', '▁이벤트'],\n",
       " ['▁까르띠에', '▁발롱블루', '▁콤비', '▁커플시계', '▁3', '가지', '사이즈'],\n",
       " ['▁까르띠에', '산', '토스', '실버'],\n",
       " ['▁까르띠에', '▁정품', '▁장지갑'],\n",
       " ['▁특', '▁까르띠에', '▁탱크솔로', '▁가죽'],\n",
       " ['▁까르띠에', '▁18', 'k', '▁gold', '▁메인', '조', '합', '▁러브팔찌', '▁저스트앵끌루', '▁못팔찌'],\n",
       " ['▁까르띠에', '▁산토스', '▁여성용'],\n",
       " ['▁까르띠에', '▁금장'],\n",
       " ['▁마린', '샵', '자체제작', '▁까르띠에', '▁드라이브', '▁드', '▁은장'],\n",
       " ['▁까르띠에',\n",
       "  '▁18',\n",
       "  'k',\n",
       "  '▁gold',\n",
       "  '▁팬더',\n",
       "  '▁드',\n",
       "  '▁까르띠에',\n",
       "  '▁재규어',\n",
       "  '▁반지',\n",
       "  '▁올',\n",
       "  '다이아',\n",
       "  '▁파베세팅'],\n",
       " ['▁바로배송', '▁까르띠에', '▁발롱블루', '▁100', '▁실사', '▁고퀄리티'],\n",
       " ['▁까르띠에', '▁시계'],\n",
       " ['▁gf', '▁까르띠에', '▁산토스', 'v', '2', '▁청판', '▁스마트', '링크', '▁남성시계'],\n",
       " ['▁당일', '▁무료배송', '▁까르띠에', '▁오토매틱', '▁현존최강', '퀄리티'],\n",
       " ['▁까르띠에', '▁발롱블루', '콤비', '▁바로배송'],\n",
       " ['▁까르띠에', '▁cartier', '▁펜', '더', '▁드', '▁까르띠에', '▁콤비', '메탈', '▁우먼', '▁풀박스'],\n",
       " ['▁까르띠에', '▁1', 'p', '▁c', '로고', '▁남성', '반지', '▁19', '호', '▁59', '호'],\n",
       " ['▁까르띠에', '▁발롱블루', '▁드', '▁문페이즈'],\n",
       " ['▁까르띠에', '▁사각', '▁화이트판'],\n",
       " ['▁까르띠에', '▁여성시계'],\n",
       " ['▁더', '베러', '▁까르띠에', '▁저스트', '▁', '앵', '▁끌', '루', '▁보석', '링'],\n",
       " ['▁까르띠에', '▁앙글레즈', '▁커플시계', '▁남', '▁여', '▁사이즈'],\n",
       " ['▁까르띠에', '▁아메리칸', '탱', '크', '▁금장', '▁바로배송'],\n",
       " ['▁마린', '샵', '자체제작', '▁까르띠에', '▁탱크솔로', '▁메탈시계'],\n",
       " ['▁까르띠에', '▁벨트'],\n",
       " ['▁까르띠에', '▁러브링', '목걸이', '▁s', '사이즈'],\n",
       " ['▁까르띠에'],\n",
       " ['▁14', 'k', '▁까르띠에', '▁에폭', '▁목걸이'],\n",
       " ['▁까르띠에', '▁팔찌'],\n",
       " ['▁까르띠에', '▁시계', '▁남여공용', '▁팜니다'],\n",
       " ['▁까르띠에', '▁아메리칸', '▁탱크', '▁금장', '▁가죽', '▁여성용'],\n",
       " ['▁까르띠에', '▁발롱블루', '▁블랙', '가죽'],\n",
       " ['▁까르띠에', '▁콤비', '▁발롱블루', '▁j', 'f', '공장', '▁18', 'k', '포', '금', '제품', '입니다'],\n",
       " ['▁정품',\n",
       "  '▁까르띠에',\n",
       "  '▁롱',\n",
       "  '드',\n",
       "  '솔',\n",
       "  '로',\n",
       "  '스몰',\n",
       "  '▁다크브라운',\n",
       "  '▁악어가죽',\n",
       "  '밴드',\n",
       "  '▁핀',\n",
       "  '버클',\n",
       "  '용'],\n",
       " ['▁까르띠에', '▁못', '▁팔찌'],\n",
       " ['▁까르띠에', '▁산토스', '▁커플시계'],\n",
       " ['▁까르띠에', '▁발롱블루', '▁카카오', '블랙', '▁j', 'f', '▁퍼펙트', '▁버전', '입니다'],\n",
       " ['▁당일발송',\n",
       "  '▁v',\n",
       "  '6',\n",
       "  '▁까르띠에',\n",
       "  '▁발롱블루',\n",
       "  '▁까르띠에',\n",
       "  '▁36',\n",
       "  'mm',\n",
       "  '▁오토메틱',\n",
       "  '▁슈퍼',\n",
       "  '클',\n",
       "  '론'],\n",
       " ['▁까르띠에', '▁러브링', '▁3', '종'],\n",
       " ['▁까르띠에', '▁반지'],\n",
       " ['▁까르띠에', '▁러브팔찌', '▁원가이하세일'],\n",
       " ['▁당일무료배송', '▁까르띠에', '▁오토매틱', '▁현존최강', '퀄리티'],\n",
       " ['▁까르띠에',\n",
       "  '▁18',\n",
       "  'k',\n",
       "  '▁gold',\n",
       "  '▁팬더',\n",
       "  '▁드',\n",
       "  '▁까르띠에',\n",
       "  '▁재규어',\n",
       "  '▁반지',\n",
       "  '▁올',\n",
       "  '다이아',\n",
       "  '▁파베세팅'],\n",
       " ['▁당일무료배송', '▁까르띠에', '▁오토매틱', '▁현존최강', '퀄리티'],\n",
       " ['▁고퀄', '▁까르띠에', '▁러브팔찌'],\n",
       " ['▁까르띠에', '화이트', '▁여', '장', '▁큐빅'],\n",
       " ['▁까르띠에', '▁21', 'c', '▁스틸', '워치', '▁여성시계'],\n",
       " ['▁까르띠에', '▁베', '뉴', '와', '▁스위스', '쿼츠', '▁여성용'],\n",
       " ['▁까르띠에', '▁러브', '▁팔찌'],\n",
       " ['▁특', '▁까르띠에', '▁산토스', '▁콤비'],\n",
       " ['▁까르띠에', 'st', '▁심플', '작은', '원터치', '링귀걸이'],\n",
       " ['▁까르띠에', '▁금장'],\n",
       " ['▁까르띠에', '▁앙글레즈', '▁메탈', '▁23', 'mm'],\n",
       " ['▁까르띠에', '▁발롱블루', '▁메탈'],\n",
       " ['▁v', '6', '▁까르띠에', '산', '토스', '▁청판', '▁가죽', '▁남성시계'],\n",
       " ['▁까르띠에', '▁뚜루비옹', '▁문페이즈', '▁메탈', '▁스트랩'],\n",
       " ['▁까르띠에', '▁탱크', 'mc'],\n",
       " ['▁까르띠에', '▁전디자인', '▁18', 'k', '▁러브팔찌', '▁파베세팅', '▁저스트앵끌루', '▁못팔찌', '▁제작'],\n",
       " ['▁당일', '▁무료배송', '▁까르띠에', '▁신형', '▁쿼츠', '▁42', '▁14', 'mm', '주문폭주'],\n",
       " ['▁당일', '▁무료배송', '▁까르띠에', '▁신형', '▁오토매틱', '▁43', 'mm', '주문폭주'],\n",
       " ['▁미친', '▁컬', '리티', '▁까르띠에', '▁러브', '반지', '▁티타늄', '▁색', '변', '화', '▁알러지'],\n",
       " ['▁정품', '▁까르띠에', '▁시계', '▁롱', '드', '솔', '로'],\n",
       " ['▁까르띠에', '▁산토스', '▁여성용'],\n",
       " ['▁까르띠에', '▁산토스', '▁커플'],\n",
       " ['▁까르띠에', '▁아메리칸', '▁탱크', '▁금장', '▁가죽', '▁여성용'],\n",
       " ['▁5', '색상', '▁까르띠에', '▁여성시계'],\n",
       " ['▁까르띠에', '▁팔찌', '▁16', '호'],\n",
       " ['▁까르띠에', '▁롱', '드', '▁솔로', '▁드'],\n",
       " ['▁까르띠에', '▁손목시계', '▁남녀공용'],\n",
       " ['▁까르띠에', '▁뱅', '골', '▁팔찌'],\n",
       " ['▁까르띠에'],\n",
       " ['▁까르띠에', '▁팔찌'],\n",
       " ['▁까르띠에', '▁시계'],\n",
       " ['▁까르띠에', '▁귀걸이'],\n",
       " ['▁특', '▁까르띠에', '▁발롱블루'],\n",
       " ['▁마린', '샵', '자체제작', '▁신상', '▁까르띠에', '▁로즈골드', '▁28', 'mm', '▁시계'],\n",
       " ['▁까르띠에', '▁손목시계', '▁남', '▁녀'],\n",
       " ['▁까르띠에', '▁18', 'k', '▁금', '▁반지', '▁무료배송'],\n",
       " ['▁여성지갑', '▁고', '르', '셔', '여', '▁루이비통', '▁프라다', '▁까르띠에', '등'],\n",
       " ['▁당일', '▁무료배송', '▁까르띠에', '▁오토매틱', '▁현존최강', '퀄리티'],\n",
       " ['▁까르띠에', 'st', '못', '목걸이'],\n",
       " ['▁까르띠에', '▁산토스', '▁드', '▁까르띠에'],\n",
       " ['▁당일발송',\n",
       "  '▁v',\n",
       "  '6',\n",
       "  '공장',\n",
       "  '신',\n",
       "  '버젼',\n",
       "  '▁까르띠에',\n",
       "  '▁발롱블루',\n",
       "  '▁28',\n",
       "  'mm',\n",
       "  '▁스틸',\n",
       "  '▁흰판',\n",
       "  '▁슈퍼',\n",
       "  '클',\n",
       "  '론'],\n",
       " ['▁까르띠에', '▁칼리버', '▁드', '▁다이브', '▁실버'],\n",
       " ['▁까르띠에', '반지'],\n",
       " ['▁까르띠에', '▁탱크', 'mc'],\n",
       " ['▁슈퍼',\n",
       "  '클',\n",
       "  '론',\n",
       "  '▁당일발송',\n",
       "  '▁k',\n",
       "  '11',\n",
       "  '▁까르띠에',\n",
       "  '▁탱크솔로',\n",
       "  '▁로즈골드',\n",
       "  '▁브라운',\n",
       "  '▁24',\n",
       "  'mm'],\n",
       " ['▁까르띠에',\n",
       "  '▁18',\n",
       "  'k',\n",
       "  '▁gold',\n",
       "  '▁러브팔찌',\n",
       "  '▁sm',\n",
       "  '러브',\n",
       "  '팔찌',\n",
       "  '▁올',\n",
       "  '다이아',\n",
       "  '▁파베세팅'],\n",
       " ['▁까르띠에', '목걸이'],\n",
       " ['▁마린', '샵', '자체제작', '▁까르띠에', '▁고급', 'v', '6', '라인', '▁시계'],\n",
       " ['▁고퀄', '▁까르띠에', '▁러브', '반지'],\n",
       " ['▁고퀄', '▁까르띠에', '▁저스트', '▁앵끌루', '▁팔찌', '▁못팔찌'],\n",
       " ['▁까르띠에', '▁앙글레즈', '▁메탈', '▁36', 'mm'],\n",
       " ['▁까르띠에', '▁금장'],\n",
       " ['▁까르띠에', '▁사각', '▁화이트판', '▁대', '▁중', '▁소'],\n",
       " ['▁당일발송', '▁af', '공장', '▁까르띠에', '▁탱크솔로', '▁27', '▁로즈골드', '▁화이트다이얼', '▁가죽'],\n",
       " ['▁당일', '▁무료배송', '▁까르띠에', '▁신형', '▁오토매틱', '▁43', '▁14', 'mm', '주문폭주'],\n",
       " ['▁당일', '▁무료배송', '▁까르띠에', '▁신형', '▁오토', '▁43', 'mm', '주문폭주'],\n",
       " ['▁까르띠에', '▁탱크', 'mc'],\n",
       " ['▁까르띠에', '▁발롱블루', '▁퍼펙트', '▁버전', '입니다'],\n",
       " ['▁까르띠에', '▁발롱블루', '▁드', '▁문페이즈'],\n",
       " ['▁18', 'k', '▁까르띠에', '▁팔찌', '▁19', '호', '▁9', '▁5', '돈', '▁다이아', '장식'],\n",
       " ['▁까르띠에', '▁목걸이'],\n",
       " ['▁까르띠에', '▁뚜루비옹', '▁문페이즈', '▁메탈', '▁스트랩'],\n",
       " ['▁정품', '▁까르띠에', '▁남성', '▁장지갑'],\n",
       " ['▁당일', '▁무료배송', '▁까르띠에', '▁신형', '▁오토매틱', '▁40', '▁12', 'mm', '주문폭주'],\n",
       " ['▁까르띠에', '▁시계'],\n",
       " ['▁까르띠에', '▁저스트앵끌루', '▁목걸이', '▁못', '목걸이'],\n",
       " ['▁까르띠에', '▁사각', '▁화이트판', '▁대', '▁중', '▁소'],\n",
       " ['▁까르띠에', '▁발롱블루', '▁드', '▁문페이즈'],\n",
       " ['▁까르띠에', '▁러브', '▁못팔찌'],\n",
       " ['▁까르띠에', '▁탱크', '▁여성', '▁솔로', '▁골드'],\n",
       " ['▁까르띠에',\n",
       "  '▁18',\n",
       "  'k',\n",
       "  '▁gold',\n",
       "  '▁러브팔찌',\n",
       "  '▁sm',\n",
       "  '러브',\n",
       "  '팔찌',\n",
       "  '▁올',\n",
       "  '다이아',\n",
       "  '▁파베세팅'],\n",
       " ['▁까르띠에', '▁시계'],\n",
       " ['▁당일발송',\n",
       "  '▁k',\n",
       "  '11',\n",
       "  '▁까르띠에',\n",
       "  '▁탱크솔로',\n",
       "  '▁로즈골드',\n",
       "  '▁브라운',\n",
       "  '▁27',\n",
       "  'mm',\n",
       "  '▁슈퍼',\n",
       "  '클',\n",
       "  '론'],\n",
       " ['▁당일발송',\n",
       "  '▁l',\n",
       "  'm',\n",
       "  '▁까르띠에',\n",
       "  '▁탱크솔로',\n",
       "  '▁24',\n",
       "  'mm',\n",
       "  '▁블랙',\n",
       "  '스트랩',\n",
       "  '▁쿼츠',\n",
       "  '▁슈퍼',\n",
       "  '클',\n",
       "  '론'],\n",
       " ['▁당일', '▁무료배송', '▁까르띠에', '▁신형', '▁쿼츠', '▁40', '▁12', 'mm', '주문폭주'],\n",
       " ['▁까르띠에', '팔찌', '▁러브팔찌'],\n",
       " ['▁당일발송',\n",
       "  '▁af',\n",
       "  '▁까르띠에',\n",
       "  '▁탱크솔로',\n",
       "  '▁24',\n",
       "  'mm',\n",
       "  '▁스틸',\n",
       "  '▁화이트다이얼',\n",
       "  '▁슈퍼',\n",
       "  '클',\n",
       "  '론'],\n",
       " ['▁까르띠에', '산', '토스', '가죽시계'],\n",
       " ['▁까르띠에', '▁시계'],\n",
       " ['▁까르띠에', '▁시계', '케이스', '▁팝니다'],\n",
       " ['▁까르띠에', '▁발롱블루', '▁드', '▁문페이즈'],\n",
       " ['▁까르띠에', '▁시계'],\n",
       " ['▁까르띠에', '▁화이트', '▁큐빅'],\n",
       " ['▁까르띠에', 'st', '팔찌'],\n",
       " ['▁당일무료배송', '▁까르띠에', '▁오토매틱', '▁현존최강', '퀄리티'],\n",
       " ['▁까르띠에', '▁러브', '▁두줄', '목걸이'],\n",
       " ['▁까르띠에', '▁시계'],\n",
       " ['▁까르띠에', '▁시계'],\n",
       " ['▁당일무료배송', '▁까르띠에', '▁오토매틱', '▁현존최강', '퀄리티'],\n",
       " ['▁까르띠에', '▁장지갑'],\n",
       " ['▁당일', '▁무료배송', '▁까르띠에', '▁신형', '▁오토', '▁41', 'mm', '주문폭주'],\n",
       " ['▁까르띠에', '▁러브', '▁뱅글', '▁팔찌', '▁까르띠에', '▁러브팔찌', '▁풀박스'],\n",
       " ['▁까르띠에', '▁트리니티', '▁다이아', '▁팬던트'],\n",
       " ['▁14', 'k', '▁로즈골드', '▁까르띠에', 'st', '▁반지'],\n",
       " ['▁까르띠에', '▁시계'],\n",
       " ['▁까르띠에', '▁에크루', '드', '▁볼트', '팔찌', '▁18', 'k', '▁19', '호', '▁', '팔아봅니다'],\n",
       " ['▁까르띠에', '▁시계'],\n",
       " ['▁까르띠에', '▁발롱블루', '▁메탈', '▁커플시계'],\n",
       " ['▁까르띠에', '▁시계'],\n",
       " ['▁까르띠에',\n",
       "  '▁18',\n",
       "  'k',\n",
       "  '▁gold',\n",
       "  '▁러브팔찌',\n",
       "  '▁sm',\n",
       "  '러브',\n",
       "  '팔찌',\n",
       "  '▁올',\n",
       "  '다이아',\n",
       "  '▁파베세팅'],\n",
       " ['▁까르띠에', '▁금장'],\n",
       " ['▁까르띠에', '▁은귀걸이', '▁핑크골드', '▁도금'],\n",
       " ['▁당일발송',\n",
       "  '▁k',\n",
       "  '11',\n",
       "  '▁까르띠에',\n",
       "  '▁탱크솔로',\n",
       "  '▁옐로골드',\n",
       "  '▁블랙',\n",
       "  '스트랩',\n",
       "  '▁27',\n",
       "  'mm',\n",
       "  '▁슈퍼',\n",
       "  '클',\n",
       "  '론'],\n",
       " ['▁까르띠에', '러브', 'st', '팔찌'],\n",
       " ['▁까르띠에', '남성', '쿼츠시계'],\n",
       " ['▁까르띠에', '▁금장'],\n",
       " ['▁당일발송',\n",
       "  '▁l',\n",
       "  'm',\n",
       "  '▁까르띠에',\n",
       "  '▁탱크솔로',\n",
       "  '▁27',\n",
       "  'mm',\n",
       "  '▁블랙',\n",
       "  '악어',\n",
       "  '스트랩',\n",
       "  '▁쿼츠',\n",
       "  '▁슈퍼',\n",
       "  '클',\n",
       "  '론'],\n",
       " ['▁까르띠에', '▁금장'],\n",
       " ['▁큐빅', '▁브로치', '▁까르띠에'],\n",
       " ['▁까르띠에', '▁뚜루비옹', '▁문페이즈', '▁메탈', '▁스트랩'],\n",
       " ['▁까르띠에', 'st', '심플', '목걸이'],\n",
       " ['▁까르띠에', '▁은팔찌', '▁핑크골드'],\n",
       " ['▁당일', '▁무료배송', '▁까르띠에', '▁신형', '▁쿼츠', '▁42', '▁14', 'mm', '주문폭주'],\n",
       " ['▁까르띠에', '▁시계'],\n",
       " ['▁까르띠에', '▁브라운'],\n",
       " ['▁까르띠에', '▁시계'],\n",
       " ['▁까르띠에', '▁st', '▁시계'],\n",
       " ['▁까르띠에', '▁뉴', '탱', '크', '▁스위스', '쿼츠', '▁여성용'],\n",
       " ['▁당일', '▁무료배송', '▁까르띠에', '▁신형', '▁오토', '▁43', 'mm', '주문폭주'],\n",
       " ['▁까르띠에', '▁파', '샤', '▁37', 'mm', '▁쿼츠'],\n",
       " ['▁까르띠에', '▁다이버', '▁흰판', '▁은장', '▁우레탄'],\n",
       " ['▁까르띠에', '▁트리니티', '▁이어링'],\n",
       " ['▁까르띠에', '▁시계'],\n",
       " ['▁까르띠에', '▁산토스', '▁커플시계', '▁두가지색상'],\n",
       " ['▁14', 'k', '▁18', 'k', '▁까르띠에', 'st', '▁링', '앤', '링', '목걸이'],\n",
       " ['▁까르띠에', '▁발롱블루'],\n",
       " ['▁당일', '▁무료배송', '▁까르띠에', '▁신형', '▁쿼츠', '▁41', 'mm', '주문폭주'],\n",
       " ['▁까르띠에', '▁시계'],\n",
       " ['▁까르띠에', '▁중지갑'],\n",
       " ['▁cartier', '▁jw', '88'],\n",
       " ['▁당일발송', '▁sw', '▁까르띠에', '▁발롱블루', '▁28', 'mm', '▁화이트다이얼', '▁슈퍼', '클', '론'],\n",
       " ['▁까르띠에', '▁발', '롱', '▁블루', '▁카본', '워치'],\n",
       " ['▁새상품', '▁신민아', '▁실버침', '▁까르띠에', '▁못', '▁귀걸이'],\n",
       " ['▁까르띠에', '▁커프스'],\n",
       " ['▁당일발송', '▁af', '▁까르띠에', '▁탱크솔로', '▁27', 'mm', '▁스틸', '▁화이트', '▁블랙', '▁소가죽'],\n",
       " ['▁까르띠에', '▁탱크', 'mc', '▁화이트', '베젤', '▁골드', '▁실버'],\n",
       " ['▁00', '▁까르띠에'],\n",
       " ['▁까르띠에', '▁시계'],\n",
       " ['▁구매글', '▁까르띠에', '▁팔찌'],\n",
       " ['▁까르띠에', 'st', '귀걸이'],\n",
       " ['▁까르띠에',\n",
       "  '▁',\n",
       "  '로버',\n",
       "  '트',\n",
       "  '▁다',\n",
       "  '우',\n",
       "  '니',\n",
       "  '▁주니어',\n",
       "  '▁드라이브',\n",
       "  '▁시계',\n",
       "  '▁하정우',\n",
       "  '▁시계'],\n",
       " ['▁까르띠에', '▁레트로', '골드', '▁오토무브', '▁43', 'mm'],\n",
       " ['▁당일', '▁무료배송', '▁까르띠에', '▁신형', '▁오토매틱', '▁40', '▁12', 'mm', '주문폭주'],\n",
       " ['▁해외', '▁까르띠에', '▁발롱블루'],\n",
       " ['▁100',\n",
       "  '▁팬더',\n",
       "  '▁드',\n",
       "  '▁까르띠에',\n",
       "  '▁신상',\n",
       "  '▁재규어',\n",
       "  '▁팬더',\n",
       "  '▁반지',\n",
       "  '▁올',\n",
       "  '다이아',\n",
       "  '▁파베세팅',\n",
       "  '▁반지'],\n",
       " ['▁에', '땅', '셀', '▁드', '▁까르띠에', '▁웨딩', '밴드', '▁핑크골드', '▁다이아몬드'],\n",
       " ['▁까르띠에', '▁파', '샤', '▁로즈골드', '▁스위스', '쿼츠', '크로노', '▁37', 'mm'],\n",
       " ['▁까르띠에', '쿼츠시계'],\n",
       " ['▁까르띠에', '▁목걸이'],\n",
       " ['▁까르띠에', '▁뱅글', '▁팔찌'],\n",
       " ['▁당일발송',\n",
       "  '▁v',\n",
       "  '6',\n",
       "  '▁까르띠에',\n",
       "  '▁발롱블루',\n",
       "  '▁드',\n",
       "  '▁까르띠에',\n",
       "  '▁36',\n",
       "  'mm',\n",
       "  '▁쿼츠',\n",
       "  '▁슈퍼',\n",
       "  '클',\n",
       "  '론'],\n",
       " ['▁당일무료배송', '▁까르띠에', '▁오토매틱', '▁현존최강', '퀄리티'],\n",
       " ['▁당일무료배송', '▁까르띠에', '▁오토매틱', '▁현존최강', '퀄리티'],\n",
       " ['▁까르띠에', '▁반지', '▁못반지'],\n",
       " ['▁까르띠에', '▁커플시계'],\n",
       " ['▁cv',\n",
       "  'd',\n",
       "  '▁랩',\n",
       "  '다이아',\n",
       "  '▁lab',\n",
       "  '▁dia',\n",
       "  '▁1',\n",
       "  '부',\n",
       "  '▁18',\n",
       "  'k',\n",
       "  '▁까르띠에',\n",
       "  '▁테니스',\n",
       "  '▁체인',\n",
       "  '▁팔찌'],\n",
       " ['▁까르띠에', '▁남성지갑', '▁판매합니다', '▁15', '만원', '입니다'],\n",
       " ['▁무료배송', '▁까르띠에', '▁탱크', '▁mc', '▁골드', '▁화이트판', '▁탱크솔로'],\n",
       " ['▁까르띠에', '▁탱크솔로'],\n",
       " ['▁당일', '▁무료배송', '▁까르띠에', '▁신형', '▁쿼츠', '▁40', '▁12', 'mm', '주문폭주'],\n",
       " ['▁까르띠에', '▁머스트', '▁남성용', '▁장지갑'],\n",
       " ['▁당일', '▁무료배송', '▁까르띠에', '▁신형', '▁오토매틱', '▁43', '▁14', 'mm', '주문폭주'],\n",
       " ['▁까르띠에', 'st', '▁별모양', '▁러브', '귀걸이'],\n",
       " ['▁까르띠에', '▁cartier', '▁발롱블루', '▁ball', 'on', '▁bl', 'eu'],\n",
       " ['▁까르띠에', '▁산토스'],\n",
       " ['▁까르띠에', '▁발롱블루'],\n",
       " ['▁까르띠에', 'st', '▁꽃모양', '▁러브', '귀걸이'],\n",
       " ['▁까르띠에', '▁블랙'],\n",
       " ['▁까르띠에', '▁탱크', '▁여성', '▁솔로', '▁골드'],\n",
       " ['▁까르띠에', '▁솔로탱크'],\n",
       " ['▁까르띠에', '▁하정우', '▁검판', '▁금장', '가죽'],\n",
       " ['▁당일발송',\n",
       "  '▁슈퍼',\n",
       "  '클',\n",
       "  '론',\n",
       "  '▁k',\n",
       "  '11',\n",
       "  '▁27',\n",
       "  'mm',\n",
       "  '▁까르띠에',\n",
       "  '▁탱크솔로',\n",
       "  '▁스틸',\n",
       "  '▁브레이슬릿'],\n",
       " ['▁까르띠에', '▁발롱블루', '▁드', '▁문페이즈', '▁여성시계'],\n",
       " ['▁까르띠에'],\n",
       " ['▁까르띠에', '벨트'],\n",
       " ['▁까르띠에', '▁반지', '사요'],\n",
       " ['▁까르띠에', '▁금장'],\n",
       " ['▁까르띠에', '▁다이버', '▁검판', '▁은장', '▁메탈'],\n",
       " ['▁까르띠에', '▁산토스', '▁커플시계'],\n",
       " ['▁당일발송',\n",
       "  '▁af',\n",
       "  '▁까르띠에',\n",
       "  '▁탱크솔로',\n",
       "  '▁24',\n",
       "  'mm',\n",
       "  '▁스틸',\n",
       "  '▁화이트다이얼',\n",
       "  '▁블랙',\n",
       "  '소가죽'],\n",
       " ['▁고퀄', '▁까르띠에', '▁벨트'],\n",
       " ['▁00', '▁까르띠에'],\n",
       " ['▁까르띠에', '▁발롱블루', '▁메탈', '▁33', 'mm'],\n",
       " ['▁까르띠에', '▁탱크', '▁앙', '글', '래', '즈'],\n",
       " ['▁까르띠에', '▁반지', '사요'],\n",
       " ['▁까르띠에', '▁산토스', '▁콤비'],\n",
       " ['▁까르띠에', '▁산토스', '▁100', '주년', '▁은장'],\n",
       " ['▁까르띠에', '▁드', '▁팬더', '▁실버', '▁신민아', '시계'],\n",
       " ['▁까르띠에'],\n",
       " ['▁커플', '이벤트', '상품', '▁까르띠에', '▁발롱블루', '▁메탈', '▁커플시계'],\n",
       " ['▁까르띠에', '▁팬더', '▁손목시계'],\n",
       " ['▁까르띠에', '▁21', 'c', '▁스틸', '워치', '▁여성시계'],\n",
       " ['▁까르띠에', '▁인', '그레이', '빙', '링', '▁웨딩', '밴드', '▁다이아', '▁1', 'p', '▁로즈골드'],\n",
       " ['▁까르띠에', '여성시계'],\n",
       " ['▁당일', '▁무료배송', '▁까르띠에', '▁신형', '▁오토매틱', '▁43', '▁14', 'mm', '주문폭주'],\n",
       " ['▁20', '돈', '▁까르띠에', '▁금팔찌', '팝니다'],\n",
       " ['▁까르띠에', '▁하정우', '▁흰판', '▁은장', '가죽'],\n",
       " ['▁까르띠에', '▁new', '▁옷', '목걸이', '▁네', '크', '이스'],\n",
       " ['▁까르띠에', '▁발', '롱', '▁금장', '▁화이트'],\n",
       " ['▁까르띠에', '▁커플팔찌', '▁18', 'cm'],\n",
       " ['▁팬더',\n",
       "  '▁드',\n",
       "  '▁까르띠에',\n",
       "  '▁전디자인',\n",
       "  '▁18',\n",
       "  'k',\n",
       "  '▁반지',\n",
       "  '▁팔찌',\n",
       "  '▁핑크골드',\n",
       "  '▁파',\n",
       "  '베',\n",
       "  '▁올',\n",
       "  '다이아'],\n",
       " ['▁14', 'k', '▁까르띠에', 'st', '▁로즈', '▁목걸이'],\n",
       " ['▁당일', '▁무료배송', '▁까르띠에', '▁신형', '▁오토', '▁43', 'mm', '주문폭주'],\n",
       " ['▁까르띠에', '▁귀걸이'],\n",
       " ['▁까르띠에', '▁칼리브', '▁드', '▁다이버'],\n",
       " ['▁까르띠에', '▁앙글레즈', '▁콤비', '▁남성', '▁여성', '▁커플시계'],\n",
       " ['▁까르띠에', '▁반지', '사요'],\n",
       " ['▁당일발송', '▁슈퍼', '클', '론', '▁k', '11', '▁24', 'mm', '▁까르띠에', '▁탱크솔로', '▁스틸'],\n",
       " ['▁까르띠에', '▁클러치백', '▁겸', '▁숄더'],\n",
       " ['▁까르띠에', '▁발롱블루', '▁특별', '행사', '▁소', '▁중', '▁대'],\n",
       " ['▁까르띠에', '▁하정우', '▁흰판', '▁금장', '가죽'],\n",
       " ['▁무료배송', '▁초특가', '▁까르띠에', '▁탱크', 'mc', '▁골드', '▁블랙다이얼'],\n",
       " ['▁명품', '▁까르띠에', '▁쇼핑백', '▁및', '▁케이스'],\n",
       " ['▁까르띠에', '앙', '들', '레', '즈'],\n",
       " ['▁까르띠에', '▁목걸이'],\n",
       " ['▁까르띠에', '▁산토스', '▁가죽줄', '▁여성시계'],\n",
       " ['▁까르띠에', '▁칼리브', '▁드', '▁다이버'],\n",
       " ['▁까르띠에', '▁여성시계'],\n",
       " ['▁까르띠에', '▁남성', '▁반지갑'],\n",
       " ['▁까르띠에', '▁뚜루비옹', '▁문페이즈', '▁메탈', '▁스트랩'],\n",
       " ['▁까르띠에', '▁솔로탱크'],\n",
       " ['▁까르띠에', '▁고', '이', '비', '토', '▁여성시계'],\n",
       " ['▁18',\n",
       "  'k',\n",
       "  '▁까르띠에',\n",
       "  '▁저스트앵끌루',\n",
       "  '▁2',\n",
       "  '줄',\n",
       "  '▁못팔찌',\n",
       "  '▁올',\n",
       "  '다이아',\n",
       "  '▁파베세팅',\n",
       "  '▁주문제작'],\n",
       " ['▁까르띠에', '▁하정우', '▁검판', '▁은장', '가죽'],\n",
       " ['▁까르띠에', '▁3', '단', '▁지갑'],\n",
       " ['▁까르띠에', '▁love', '팔찌'],\n",
       " ['▁까르띠에', '▁발롱블루'],\n",
       " ['▁까르띠에', '▁정품', '가방'],\n",
       " ['▁까르띠에', '▁목걸이'],\n",
       " ['▁까르띠에', 'st', '▁하트', '모양', '▁귀걸이'],\n",
       " ['▁까르띠에',\n",
       "  '▁18',\n",
       "  'k',\n",
       "  '▁저스트앵끌루',\n",
       "  '▁못팔찌',\n",
       "  '▁신형',\n",
       "  '▁핑크골드',\n",
       "  '▁헤드',\n",
       "  'd',\n",
       "  'ia',\n",
       "  '▁퍼펙트',\n",
       "  '▁제작'],\n",
       " ['▁당일무료배송', '▁까르띠에', '▁오토매틱', '▁현존최강', '퀄리티'],\n",
       " ['▁까르띠에', '클', '래', '쉬'],\n",
       " ['▁당일', '▁무료배송', '▁까르띠에', '▁신형', '▁오토매틱', '▁43', 'mm', '주문폭주'],\n",
       " ['▁까르띠에', '프', '랑'],\n",
       " ['▁까르띠에', '동물', '반지', '사요'],\n",
       " ['▁까르띠에'],\n",
       " ['▁까르띠에', '▁산토스', '▁콤비', '▁커플시계'],\n",
       " ['▁무배', '▁까르띠에', '▁산토스', '▁우레탄'],\n",
       " ['▁까르띠에', '▁발', '롱', '블랑'],\n",
       " ['▁까르띠에', '▁남성', '팔찌'],\n",
       " ['▁까르띠에', '▁목걸이'],\n",
       " ['▁까르띠에', '▁앙글레즈', '▁커플시계', '▁남', '▁여', '▁사이즈'],\n",
       " ['▁까르띠에', '▁저스트', '▁', '앵', '▁끌', '루', '▁네크리스', '▁기본'],\n",
       " ['▁까르띠에',\n",
       "  '▁전디자인',\n",
       "  '▁18',\n",
       "  'k',\n",
       "  '▁반지',\n",
       "  '▁목걸이',\n",
       "  '▁팔찌',\n",
       "  '▁핑크골드',\n",
       "  '▁파',\n",
       "  '베',\n",
       "  '▁올',\n",
       "  '다이아',\n",
       "  '▁퍼펙트'],\n",
       " ['▁초특가', '▁cartier', '▁miss', '▁pas', 'ha', '▁27', 'mm', '▁미스', '▁파', '샤'],\n",
       " ['▁까르띠에', '▁골드', '세라믹', '콤비'],\n",
       " ['▁까르띠에', '▁스타일', '▁귀걸이'],\n",
       " ['▁까르띠에', '▁탱크', '솔', '라', '▁메탈시계'],\n",
       " ['▁칼리브', '▁드', '▁까르띠에', '▁워', '런', '티', '▁6', '년', '▁보', '증'],\n",
       " ['▁까르띠에', '▁반지', '▁정품'],\n",
       " ['▁초',\n",
       "  '고',\n",
       "  '가',\n",
       "  '라인',\n",
       "  '▁까르띠에',\n",
       "  '▁18',\n",
       "  'k',\n",
       "  '▁러브팔찌',\n",
       "  '▁러브링',\n",
       "  '▁올',\n",
       "  '다이아',\n",
       "  '▁파베세팅',\n",
       "  '▁풀박스'],\n",
       " ['▁cv',\n",
       "  'd',\n",
       "  '▁랩',\n",
       "  '다이아',\n",
       "  '▁lab',\n",
       "  '▁dia',\n",
       "  '▁1',\n",
       "  '부',\n",
       "  '▁18',\n",
       "  'k',\n",
       "  '▁까르띠에',\n",
       "  '▁테니스',\n",
       "  '▁체인',\n",
       "  '▁팔찌'],\n",
       " ['▁까르띠에', '▁펜', '더', '드', '▁시계'],\n",
       " ['▁까르띠에',\n",
       "  '▁18',\n",
       "  'k',\n",
       "  '▁저스트앵끌루',\n",
       "  '▁못팔찌',\n",
       "  '▁신형',\n",
       "  '▁화이',\n",
       "  '골드',\n",
       "  '▁민자',\n",
       "  '▁퍼펙트',\n",
       "  '▁제작'],\n",
       " ['▁gf', '▁까르띠에', '▁산토스', '▁스마트', '링크', '▁남성시계'],\n",
       " ['▁까르띠에', '▁산토스', '스틸', '▁금장', '콤비'],\n",
       " ['▁완벽', '버전', '▁까르띠에', '▁18', 'k', '▁러브', '▁브레이슬릿', '▁러브팔찌', '▁dia', '▁전디자인'],\n",
       " ['▁cv',\n",
       "  'd',\n",
       "  '▁랩',\n",
       "  '다이아',\n",
       "  '▁lab',\n",
       "  '▁dia',\n",
       "  '▁1',\n",
       "  '부',\n",
       "  '▁18',\n",
       "  'k',\n",
       "  '▁까르띠에',\n",
       "  '▁테니스',\n",
       "  '▁체인',\n",
       "  '▁팔찌'],\n",
       " ['▁까르띠에', '▁4', 'p', '다이아'],\n",
       " ['▁까르띠에', '▁새것', '이에요', '▁한번도', '▁착용', '▁안', '한', '▁', '거에요'],\n",
       " ['▁금', '제품', '명품', '▁까르띠에', '▁반클리프', '목걸이', '▁가격', '공', '지'],\n",
       " ['▁정품', '▁까르띠에', '▁화이트골드', '▁반지', '9', '호'],\n",
       " ['▁까르띠에', '팬더', '콤비'],\n",
       " ['▁까르띠에', '▁목걸이'],\n",
       " ['▁까르띠에', '▁솔로탱크'],\n",
       " ['▁까르띠에', '▁cartier', '▁발', '롱', '▁블랑', '▁드', '▁핑크골드', '▁이영애', '시계'],\n",
       " ['▁까르띠에', '▁칼리브', '▁드', '▁다이버', '▁실버'],\n",
       " ['▁까르띠에', '▁반지'],\n",
       " ['▁까르띠에', '▁시계', '▁요', '모델', '▁구합니다', '▁꼭', '▁구', '하고', '싶', '어요'],\n",
       " ['▁v', '6', '▁까르띠에', '▁산토스', '▁남성시계'],\n",
       " ['▁까르띠에', '▁여성시계'],\n",
       " ['▁까르띠에', '▁발롱블루', '▁콤비', '▁커플시계', '▁3', '가지', '사이즈'],\n",
       " ['▁까르띠에', '▁팔찌'],\n",
       " ['▁완벽',\n",
       "  '버전',\n",
       "  '▁까르띠에',\n",
       "  '▁18',\n",
       "  'k',\n",
       "  '▁러브',\n",
       "  '브레이슬릿',\n",
       "  '▁러브팔찌',\n",
       "  '▁못팔찌',\n",
       "  '▁저스트앵끌루'],\n",
       " ['▁까르띠에', '▁베누아'],\n",
       " ['▁까르띠에', '▁발롱블루'],\n",
       " ['▁까르띠에', '▁문페이즈', '▁메탈시계'],\n",
       " ['▁까르띠에', '정품', '▁지갑'],\n",
       " ['▁zf', '▁까르띠에', '탱', '크', '솔', '로', '▁남성시계'],\n",
       " ['▁까르띠에', '▁반지', '사요'],\n",
       " ['▁까르띠에', '발', '롱', '블루'],\n",
       " ['▁정품', '▁까르띠에', '▁21', 'c', '▁전', '투', '용', '▁명품시계', '▁팝니다'],\n",
       " ['▁까르띠에',\n",
       "  '▁18',\n",
       "  'k',\n",
       "  '▁저스트앵끌루',\n",
       "  '▁못팔찌',\n",
       "  '▁신형',\n",
       "  '▁핑크골드',\n",
       "  '▁헤드',\n",
       "  'd',\n",
       "  'ia',\n",
       "  '▁퍼펙트',\n",
       "  '▁제작'],\n",
       " ['▁초',\n",
       "  '고',\n",
       "  '가',\n",
       "  '라인',\n",
       "  '▁팬더',\n",
       "  '▁드',\n",
       "  '▁까르띠에',\n",
       "  '▁18',\n",
       "  'k',\n",
       "  '▁재규어',\n",
       "  '▁팔찌',\n",
       "  '▁반지',\n",
       "  '▁올',\n",
       "  '다이아',\n",
       "  '▁파베세팅'],\n",
       " ['▁까르띠에', '▁하정우', '시계', '▁가죽', '▁블랙판', '▁은장', '▁남성용'],\n",
       " ['▁까르띠에', '▁산토스', '▁핑크', '자개판'],\n",
       " ['▁까르띠에', '▁시계'],\n",
       " ['▁까르띠에', '▁정품', '▁케이스'],\n",
       " ['▁신공장', '▁까르띠에', '▁탱크솔로', '▁s'],\n",
       " ['▁까르띠에', '▁발롱블루'],\n",
       " ['▁까르띠에', '▁반지', '▁정품'],\n",
       " ['▁까르띠에', '▁반지'],\n",
       " ['▁까르띠에', '▁발', '롱', '▁블루', '▁카본', '워치'],\n",
       " ['▁까르띠에', '▁시계'],\n",
       " ['▁까르띠에', '▁여성', '▁반지갑'],\n",
       " ['▁100',\n",
       "  '▁팬더',\n",
       "  '▁드',\n",
       "  '▁까르띠에',\n",
       "  '▁신상',\n",
       "  '▁재규어',\n",
       "  '▁팬더',\n",
       "  '▁반지',\n",
       "  '▁올',\n",
       "  '다이아',\n",
       "  '▁파베세팅',\n",
       "  '▁반지'],\n",
       " ['▁까르띠에', '▁시계'],\n",
       " ['▁까르띠에', '▁시계'],\n",
       " ['▁까르띠에', '자동시계'],\n",
       " ['▁까르띠에',\n",
       "  '▁산토스',\n",
       "  '▁라운드',\n",
       "  '▁쿼츠',\n",
       "  '▁18',\n",
       "  'k',\n",
       "  '▁콤비',\n",
       "  '▁라지',\n",
       "  '▁32',\n",
       "  'mm',\n",
       "  '▁남녀공용'],\n",
       " ['▁정품', '▁까르띠에', '▁팬더', '라인', '▁토트백'],\n",
       " ['▁신상', '▁까르띠에', '▁목걸이'],\n",
       " ['▁완벽',\n",
       "  '버전',\n",
       "  '▁까르띠에',\n",
       "  '▁18',\n",
       "  'k',\n",
       "  '▁러브',\n",
       "  '브레이슬릿',\n",
       "  '▁러브팔찌',\n",
       "  '▁못팔찌',\n",
       "  '▁저스트앵끌루'],\n",
       " ['▁까르띠에', '▁귀걸이', '▁목걸이'],\n",
       " ['▁14', 'k', '▁18', 'k', '▁까르띠에', 'st', '▁목걸이'],\n",
       " ['▁까르띠에', '▁시계'],\n",
       " ['▁까르띠에', '▁귀걸이'],\n",
       " ['▁빈티지',\n",
       "  '▁명품',\n",
       "  '▁까르띠에',\n",
       "  '▁정품',\n",
       "  '▁must',\n",
       "  '▁de',\n",
       "  '18',\n",
       "  'k',\n",
       "  '▁골드',\n",
       "  '콤비',\n",
       "  '▁남',\n",
       "  '▁녀',\n",
       "  '▁공용'],\n",
       " ['▁까르띠에', '▁mt', 'wt', 'f', 'ss'],\n",
       " ['▁까르띠에', '▁프랑', '세', '즈', '▁스몰'],\n",
       " ['▁실버', '925', '반지', '▁까르띠에', 'st'],\n",
       " ['▁홍콩직수', '▁cartier', '▁반지'],\n",
       " ['▁까르띠에', '▁6', 'p', '▁러브링', '▁53'],\n",
       " ['▁까르띠에', '▁시계'],\n",
       " ['▁까르띠에', '손목시계', '▁손목시계', '▁여성', '손목시계', '▁까르띠에시계'],\n",
       " ['▁까르띠에', '▁시계'],\n",
       " ['▁까르띠에', '▁반지'],\n",
       " ['▁까르띠에', '▁뱅글팔찌'],\n",
       " ['▁홍콩직수', '▁까르띠에', '▁발롱블루', '▁여성용'],\n",
       " ['▁까르띠에', '탱', '크', '솔', '로'],\n",
       " ['▁까르띠에', '▁모양', '▁게르마늄', '▁금반지', '▁18', 'k'],\n",
       " ...]"
      ]
     },
     "execution_count": 85,
     "metadata": {},
     "output_type": "execute_result"
    }
   ],
   "source": [
    "cartier"
   ]
  },
  {
   "cell_type": "code",
   "execution_count": 90,
   "metadata": {},
   "outputs": [
    {
     "name": "stdout",
     "output_type": "stream",
     "text": [
      "[['▁꼼데가르송'], ['▁comme', '▁des', '▁garcons'], ['▁꼼데'], ['▁꼼', '대'], ['▁꼼대가르송']]\n"
     ]
    }
   ],
   "source": [
    "commedesgarcons = extract('꼼데가르송')"
   ]
  },
  {
   "cell_type": "code",
   "execution_count": 92,
   "metadata": {},
   "outputs": [
    {
     "data": {
      "text/plain": [
       "22638"
      ]
     },
     "execution_count": 92,
     "metadata": {},
     "output_type": "execute_result"
    }
   ],
   "source": [
    "len(commedesgarcons)"
   ]
  },
  {
   "cell_type": "code",
   "execution_count": 93,
   "metadata": {},
   "outputs": [
    {
     "data": {
      "text/plain": [
       "[['▁꼼데가르송', '▁가디건'],\n",
       " ['▁꼼데가르송', '▁셔츠'],\n",
       " ['▁꼼데가르송', '▁반팔', '▁최저가', '▁보장', '▁꼼데', '반팔티'],\n",
       " ['▁꼼데', '▁셔츠'],\n",
       " ['▁꼼데가르송', '▁여성용', '▁정품', '반팔티'],\n",
       " ['▁꼼데가르송', '▁검정색', '▁가디건', '▁재입고', '▁az', '▁n', '008', '▁051', '▁1', '▁4'],\n",
       " ['▁꼼데가르송', '▁스트라이프', '▁셔츠', '▁4', '사이즈'],\n",
       " ['▁꼼데가르송', '▁굿', '디자인', '샵', '▁블루종', '▁cdg', '▁야구잠바'],\n",
       " ['▁꼼데', '▁하트', '▁와팬', '▁백팩'],\n",
       " ['▁꼼데가르송', '▁셔츠', '▁s'],\n",
       " ['▁꼼데가르송', '가디건', '▁블랙와펜', 'm'],\n",
       " ['▁꼼데가르송', '▁가디간'],\n",
       " ['▁스톤', '▁꼼데', '▁오프화이트', '▁마르셀로', '▁10', '이하', '▁꿀매', '봐요'],\n",
       " ['▁꼼데', '▁반팔'],\n",
       " ['▁정품', '▁꼼데가르송', '▁올', '프린팅', '▁블랙', '▁카모', '▁반팔', '▁슬리브', '▁티셔츠'],\n",
       " ['▁꼼데가르송', '▁긴팔티'],\n",
       " ['▁남녀공용', '▁꼼데', '▁르', '송', '▁st', '▁라운드'],\n",
       " ['▁꼼데가르송', '▁긴팔', '보', '더', '티'],\n",
       " ['▁꼼데가르송', '▁셔츠', '▁여성용'],\n",
       " ['▁꼼데가르송', '▁스트라이프', '▁셔츠'],\n",
       " ['▁꼼데가르송', '레플리카'],\n",
       " ['▁꼼데가르송', '▁옴므', '플러스', '▁울', '▁코트자켓', '▁m'],\n",
       " ['▁새상품', '▁꼼데가르송', '▁도트', '▁긴팔티', '▁반팔티', '▁집업', '▁후드집업', '▁바람막이', '▁맨투맨'],\n",
       " ['▁꼼데가르송', '▁빅아이', '▁반팔티셔츠'],\n",
       " ['▁꼼데', '▁하트', '▁긴팔', '▁티셔츠'],\n",
       " ['▁꼼데', '와이셔츠', '▁꼼데', '흰', '셔츠', '▁쿨거래', '▁쇼핑백', '도', '▁포함'],\n",
       " ['▁m', '▁꼼데가르송', '▁정품', '반팔티'],\n",
       " ['▁comme', '▁des', '▁garcons', '▁더블', '하', '펜', '▁v', '넥', '▁가디건'],\n",
       " ['▁꼼데가르송', '▁셔츠'],\n",
       " ['▁꼼데가르송', '▁신발'],\n",
       " ['▁꼼데', '▁더블와펜', '▁레드', '▁가디건', '▁라지사이즈'],\n",
       " ['▁꼼데', '와이셔츠', '▁꼼데', '흰', '셔츠', '▁쿨거래', '▁쇼핑백', '도', '▁포함'],\n",
       " ['▁온', '도', '에', '변', '하는', '▁꼼데가르송', '▁반팔티'],\n",
       " ['▁꼼데가르송', '▁프리미엄', '▁베이직', '▁맨투맨'],\n",
       " ['▁꼼데가르송', '▁신발'],\n",
       " ['▁해외', '▁꼼데가르송', '▁cdg', '▁로고', '▁니트', '▁맨투맨'],\n",
       " ['▁꼼데', '▁하트', '▁와팬', '▁백팩'],\n",
       " ['▁꼼데', '티', '▁도트', '레드'],\n",
       " ['▁꼼데가르송', '▁티셔츠', '▁7', '부티셔츠'],\n",
       " ['▁꼼데가르송', '▁화이트와펜', '▁스트라이프셔츠'],\n",
       " ['▁꼼데가르송', '▁정품', '▁배기팬츠'],\n",
       " ['▁꼼데', '▁더블', '고', '시', '▁카라', '▁반팔'],\n",
       " ['▁새상품', '▁꼼데가르송', '▁가디건', '▁정품'],\n",
       " ['▁꼼데가르송', '▁긴팔', '▁급쳐', '▁삽니다'],\n",
       " ['▁꼼데가르송', '▁가디건'],\n",
       " ['▁꼼데', '▁맨투맨'],\n",
       " ['▁꼼데가르송', '▁s', '사이즈'],\n",
       " ['▁꼼데가르송', '▁검정', '▁하이', '▁265', '▁270', '▁100', '▁미착용', '▁새거', '▁급처합니다'],\n",
       " ['▁꼼데', '▁스트라이프', '▁xs'],\n",
       " ['▁꼼데', '와이셔츠', '▁꼼데', '흰', '셔츠', '▁쿨거래', '▁쇼핑백', '도', '▁포함'],\n",
       " ['▁꼼데가르송', '▁긴팔티셔츠', '▁커플'],\n",
       " ['▁꼼데', '▁투라인', '▁7', '부'],\n",
       " ['▁꼼데가르송', '▁져지'],\n",
       " ['▁꼼데', '▁플레이', '▁하트', '▁반팔', '▁티셔츠'],\n",
       " ['▁꼼데가르송', '▁반팔티', '▁그린', '와펜', '시리즈', '▁시즌오프', '▁폭탄세일', '기획', '전'],\n",
       " ['▁꼼데가르송', '▁셔츠'],\n",
       " ['▁꼼데', '▁비니'],\n",
       " ['▁꼼데가르송', '▁티셔츠', 'm', '사이즈'],\n",
       " ['▁꼼데', '▁보더티'],\n",
       " ['▁comme', '▁des', '▁garcons', '▁슬라브', '▁오버핏', '▁라운드티'],\n",
       " ['▁꼼데가르송', '▁골드와펜', '▁m'],\n",
       " ['▁꼼데',\n",
       "  '▁반팔',\n",
       "  '▁티셔츠',\n",
       "  '▁그레이',\n",
       "  '▁블랙와펜',\n",
       "  '▁여자',\n",
       "  '▁l',\n",
       "  '사이즈',\n",
       "  '▁9',\n",
       "  '에',\n",
       "  '▁판매합니다'],\n",
       " ['▁꼼데가르송', '▁정품', 's'],\n",
       " ['▁꼼데가르송', '▁티셔츠'],\n",
       " ['▁꼼데가르송', '▁신형', '▁화이트', '하트', '▁여성용', '▁가디건'],\n",
       " ['▁꼼데', '▁셔츠', '▁스트라이프'],\n",
       " ['▁꼼데가르송', '▁반팔티', '▁블랙', '아이', '시리즈', '▁시즌오프', '▁반값', '▁기획', '전'],\n",
       " ['▁꼼데가르송', '▁가디간'],\n",
       " ['▁매장판', '▁2019', '▁ss', '▁꼼데', '▁페이퍼', '에코백'],\n",
       " ['▁꼼데', '▁가디건'],\n",
       " ['▁cdg', '▁꼼데가르송', '▁보더티'],\n",
       " ['▁꼼데가르송', '척', '테일러'],\n",
       " ['▁꼼데가르송', '▁척테일러', '▁컨버스'],\n",
       " ['▁s', '▁xl', '▁꼼데', '▁하트', '▁스트라이프', '▁셔츠'],\n",
       " ['▁free', '▁꼼데', '▁티셔츠'],\n",
       " ['▁s', '▁꼼데가르송', '▁네이비', '▁스트라이프', '▁블랙와펜', '▁셔츠'],\n",
       " ['▁comme', '▁des', '▁garcons', '▁원포인트', '▁반팔'],\n",
       " ['▁정품', '▁꼼데가르송', '▁더블와펜', '▁남성용', '▁모든', '색상', '▁판매'],\n",
       " ['▁꼼데', '와이셔츠', '▁꼼데', '흰', '셔츠', '▁쿨거래', '▁쇼핑백', '도', '▁포함'],\n",
       " ['▁꼼데', '보', '더', '티', '▁공용', 's'],\n",
       " ['▁꼼데가르송', '▁척테일러', '▁하이', '▁uk', '3'],\n",
       " ['▁꼼데가르송', '레플'],\n",
       " ['▁꼼데', '▁반팔'],\n",
       " ['▁꼼데', '컨버스', '▁블랙', '▁구입'],\n",
       " ['▁꼼데', '▁pk', '티셔츠'],\n",
       " ['▁꼼데가르송', '▁셔츠'],\n",
       " ['▁꼼데', '▁신발', '▁조던', '▁판매'],\n",
       " ['▁19', 'ss', '▁남성', '▁꼼데가르송', '▁후드집업', '▁블루', '▁m'],\n",
       " ['▁꼼데가르송', '▁와펜', '▁반팔', '▁티셔츠'],\n",
       " ['▁꼼데', '▁포켓', '▁디테일', '▁가디건'],\n",
       " ['▁꼼데', '▁스트', '▁셔츠'],\n",
       " ['▁2',\n",
       "  '009',\n",
       "  '년도',\n",
       "  '▁꼼데가르송',\n",
       "  '▁2',\n",
       "  '003',\n",
       "  '년',\n",
       "  '▁복각',\n",
       "  '▁love',\n",
       "  '▁feel',\n",
       "  'ing',\n",
       "  '▁프린팅',\n",
       "  '▁티'],\n",
       " ['▁실측', '95', '▁꼼데가르송', '▁체크', '▁셔츠', '▁무료배송'],\n",
       " ['▁여자', '▁꼼데', '▁빅하트', '도트', '▁반팔티셔츠', '▁새상품'],\n",
       " ['▁꼼데', 'st', '▁크라', '프트', '▁pvc', '백', '▁쇼핑백', '▁장바구니'],\n",
       " ['▁꼼데가르송', '▁빅로고', '▁하트', '▁반팔티'],\n",
       " ['▁싸게팜', '▁꼼데', '와이셔츠', '▁꼼데', '흰', '셔츠', '▁쿨거래', '▁쇼핑백', '도', '▁포함'],\n",
       " ['▁꼼데', '▁하트', '▁단가라', '▁티셔츠'],\n",
       " ['▁꼼데', '셔츠', '▁미니', '와펜'],\n",
       " ['▁꼼데가르송',\n",
       "  '▁반팔티',\n",
       "  '▁플레이',\n",
       "  '거',\n",
       "  '꾸',\n",
       "  '로',\n",
       "  '▁프린트',\n",
       "  '▁시즌오프',\n",
       "  '▁반값',\n",
       "  '폭',\n",
       "  '탄',\n",
       "  '▁기획',\n",
       "  '전'],\n",
       " ['▁꼼데가르송', '▁남색', '후드', '반팔티셔츠', '▁남성', 'x', '▁사이즈'],\n",
       " ['▁꼼데', '▁7', '부', '▁티'],\n",
       " ['▁정품', '▁꼼데가르송', '▁긴팔티'],\n",
       " ['▁꼼데가르송', '▁와펜', '▁카라티'],\n",
       " ['▁꼼데', '▁풀', '하트', '▁반팔티'],\n",
       " ['▁comme', '▁des', '▁garcons', '▁준야', '▁와타나베', '▁디테일', '▁카라', '▁화이트', '▁셔츠'],\n",
       " ['▁꼼데가르송', '▁옴므', '▁메인', '▁울', '▁가디건'],\n",
       " ['▁꼼데가르송', '▁화이트', '▁셔츠'],\n",
       " ['▁꼼데가르송', '▁척테일러', '▁하이', '▁사이즈', '230', '▁uk', '3'],\n",
       " ['▁꼼데', '▁셔츠', '▁긴팔티'],\n",
       " ['▁꼼데', '와이셔츠', '▁꼼데', '흰', '셔츠', '▁쿨거래', '▁쇼핑백', '도', '▁포함'],\n",
       " ['▁꼼데가르송', '▁하트', '단가라', '▁반팔티셔츠'],\n",
       " ['▁꼼데가르송', '▁간', '류', '▁셔츠'],\n",
       " ['▁꼼데가르송', 'cd', 'g', '▁코치자켓'],\n",
       " ['▁정품', '▁꼼데가르송', '▁스몰로고', '▁m', '사이즈'],\n",
       " ['▁꼼데', '▁하트', '▁스트라이프', '▁셔츠', '▁스판'],\n",
       " ['▁comme', '▁des', '▁garcons', '▁꼼데가르송', '▁빅하트', '▁로고', '▁후드집업'],\n",
       " ['▁꼼데', '티'],\n",
       " ['▁꼼데', '▁카모', '와펜', '▁셔츠'],\n",
       " ['▁해외배송', '▁꼼데가르송', '▁여성가디건'],\n",
       " ['▁꼼데', '▁하트', '▁단가라', '▁반팔', '▁티셔츠'],\n",
       " ['▁꼼데가르송', '가디건'],\n",
       " ['▁꼼데가르송', '▁반팔티', 'xl', '▁l', '▁m', '▁레드와펜', '▁화이트', '▁블랙', '▁골드'],\n",
       " ['▁꼼데가르송', '셔츠', '▁여자', 's'],\n",
       " ['▁꼼데', '▁반팔티', '▁구매'],\n",
       " ['▁꼼데', '▁기본셔츠'],\n",
       " ['▁꼼데가르송', '▁보더티', '▁더블와펜', '▁xl'],\n",
       " ['▁all', '▁빅사이즈', '▁꼼데가르송', '▁보카시', '▁반바지'],\n",
       " ['▁해외', '▁꼼데가르송', '▁cdg', '▁로고', '▁스트라이프', '▁롱슬리브', '▁티셔츠'],\n",
       " ['▁az', '▁t', '005', '▁051', '▁1', '▁5', '▁꼼데가르송', '▁검정', '▁카리티', '셔츠'],\n",
       " ['▁꼼데', '▁셔츠', '▁정품', '▁사이즈', '▁l'],\n",
       " ['▁꼼데가르송', '▁베이직', '▁긴팔티'],\n",
       " ['▁꼼데', '▁여성용', '▁베이지', '니트', 'm'],\n",
       " ['▁all', '▁꼼데가르송', '▁슬라브', '▁브이넥'],\n",
       " ['▁1', '▁1', '▁제작', '▁꼼데가르송', '▁블랙와펜', '▁반팔티'],\n",
       " ['▁s', '▁comme', 'de', 's', 'gar', 'con', 's', '▁shirts', '▁꼼데', '▁셔츠'],\n",
       " ['▁꼼데가르송', '▁단가라', '▁보더티'],\n",
       " ['▁꼼데가르송', '▁가디건'],\n",
       " ['▁꼼데가르송', '▁체크남방', '▁3', '7000'],\n",
       " ['▁꼼데', '▁커플', '보', '더', '티', '▁구매', '창'],\n",
       " ['▁꼼데가르송', 'x', '컨버스', '▁콜라보'],\n",
       " ['▁꼼데'],\n",
       " ['▁comme', '▁des', '▁garcons', '▁골드와펜', '▁원포인트', '▁반팔'],\n",
       " ['▁comme', '▁des', '▁garcons', '▁스트라이프', '▁보더', '▁t'],\n",
       " ['▁꼼데가르송', '니트'],\n",
       " ['▁꼼데', '▁가르송', '▁스프라이트', '▁긴팔티'],\n",
       " ['▁꼼데', '▁척테일러', '▁하이', '▁17', 'ss', '▁가격내림'],\n",
       " ['▁꼼데', '▁셔츠'],\n",
       " ['▁꼼데가르송', '▁가디건'],\n",
       " ['▁m', '▁꼼데가르송', '▁셔츠'],\n",
       " ['▁꼼데가르송', '▁가디건'],\n",
       " ['▁꼼데가르송', '▁남성', '▁카모', '▁셔츠'],\n",
       " ['▁정품', '▁꼼데가르송', '▁가디건'],\n",
       " ['▁꼼데', '▁스트라이프', '▁셔츠'],\n",
       " ['▁꼼데가르송', '▁척테일러', '▁하이', '▁245', '사이즈'],\n",
       " ['▁매장판', '▁2019', '▁ss', '▁꼼데', '▁페이퍼', '에코백', '▁소량', '한정', '판매'],\n",
       " ['▁꼼데', '▁더블와펜', '▁남성', '▁가디건', '▁m'],\n",
       " ['▁꼼데가르송', '▁가디건', '▁판매완료'],\n",
       " ['▁꼼', '대', '블랙', '와펜', '▁가격', '▁내림'],\n",
       " ['▁꼼데가르송', '▁pvc', '▁토트백'],\n",
       " ['▁국내배송', '▁꼼데가르송', '▁pk', '▁카라티', '▁남여공용'],\n",
       " ['▁꼼데', '▁사이드', '▁빅', '▁하트', '▁반팔', '▁티셔츠'],\n",
       " ['▁꼼데', '▁하트', '▁맨투맨', '_', '특', '양면'],\n",
       " ['▁꼼데가르송', '▁컨버스', '▁270', '▁280', '▁구해요', '▁상태', '▁상', '관', '▁레플', 'ok'],\n",
       " ['▁꼼데가르송', '▁원포인트', '▁반팔'],\n",
       " ['▁꼼데', '▁하트', '▁라운드', '▁긴팔티'],\n",
       " ['▁꼼데가르송', '▁블랙와펜', '▁카라', '긴팔티'],\n",
       " ['▁꼼데가르송', '▁cdg', '▁굿', '디자인', '▁커플', '티셔츠'],\n",
       " ['▁꼼데가르송', '▁그레이', '▁더블와펜', '▁반팔티'],\n",
       " ['▁꼼데가르송',\n",
       "  '▁반팔티',\n",
       "  '▁남성용',\n",
       "  '▁레드',\n",
       "  '빅',\n",
       "  '하트',\n",
       "  '▁시리즈',\n",
       "  '▁시즌오프',\n",
       "  '▁폭탄세일',\n",
       "  '▁기획',\n",
       "  '전'],\n",
       " ['▁꼼데', '▁반팔티셔츠', '▁그레이', '▁더블와펜', '▁남자', 'm', '▁사이즈', '▁10', '에', '▁판매합니다'],\n",
       " ['▁꼼데가르송', '▁컨버스', '▁블랙', '▁235', '▁사이즈', '▁미스로', '▁팝니당', 'ᅲᅲ'],\n",
       " ['▁꼼데가르송', '▁가디건'],\n",
       " ['▁2000', '년도', '▁실버', '스', '케', '일', '▁꼼데가르송', '▁반팔티셔츠'],\n",
       " ['▁꼼데', '▁팔로고', '▁반팔', '▁티셔츠'],\n",
       " ['▁꼼데가르송', '▁도트', '티'],\n",
       " ['▁m', '▁남성용', '▁꼼데가르송', '▁스트라이프', '▁셔츠'],\n",
       " ['▁꼼데', '▁후디', '▁롱가디건'],\n",
       " ['▁꼼데가르송', '▁가디건'],\n",
       " ['▁꼼데가르송', '▁가디건', '▁2', '가지', '타입', '▁6', '컬러'],\n",
       " ['▁2', '005', '년', '▁꼼데가르송', '▁핑크', '팬', '서', '▁프린팅', '▁티셔츠'],\n",
       " ['▁꼼데가르송', '▁베이직', '▁반팔티'],\n",
       " ['▁여성', '▁꼼데가르송', '▁스트라이프'],\n",
       " ['▁무료배송', '▁꼼데가르송', '컨버스', '척', '테일러', 'st'],\n",
       " ['▁꼼데가르송', '▁블랙', '▁와펜', '▁셔츠'],\n",
       " ['▁꼼데가르송',\n",
       "  '▁와펜패치',\n",
       "  '로고',\n",
       "  '▁반팔',\n",
       "  'pk',\n",
       "  '티셔츠',\n",
       "  '▁사이즈',\n",
       "  '90',\n",
       "  '▁105',\n",
       "  '▁수량',\n",
       "  '한정'],\n",
       " ['▁꼼데', '스프라이트', '▁셔', '트', '▁l', '사이즈', '▁팔아요'],\n",
       " ['▁꼼데가르송', '▁남성셔츠', 'm'],\n",
       " ['▁꼼데', '▁스니커즈', '▁정품'],\n",
       " ['▁나이키',\n",
       "  '▁꼼데',\n",
       "  '▁척테일러',\n",
       "  '▁맥스',\n",
       "  '97',\n",
       "  '▁고',\n",
       "  '니',\n",
       "  '츠',\n",
       "  '카',\n",
       "  '▁타이거',\n",
       "  '▁신발',\n",
       "  '▁처분합니다'],\n",
       " ['▁꼼데가르송', '▁티셔츠'],\n",
       " ['▁꼼데가르송', '▁라인', '▁더블하트', '▁반팔티'],\n",
       " ['▁꼼데', '와이셔츠', '▁꼼데', '흰', '셔츠', '▁쿨거래', '▁쇼핑백', '도', '▁포함'],\n",
       " ['▁꼼데가르송', 'x', '컨버스', '▁콜라보'],\n",
       " ['▁꼼데가르송', '▁트리', '콧', '▁더비슈즈'],\n",
       " ['▁s', '▁xl', '▁꼼데', '▁하트', '▁화이트', '▁셔츠'],\n",
       " ['▁꼼데가르송', '▁코트'],\n",
       " ['▁꼼데가르송', '▁와펜', '▁반팔티'],\n",
       " ['▁꼼데가르송', '▁가디건', '▁m', '▁95', '▁그레이', '▁골드와펜'],\n",
       " ['▁꼼데가르송', '▁토트백', '▁특가할인', '전'],\n",
       " ['▁꼼데가르송', '▁comme', '▁des', '▁garcons', '▁브이넥니트'],\n",
       " ['▁꼼데', '▁남성용', '▁블랙', '가디건'],\n",
       " ['▁꼼데', '▁스트라이프', '▁셔츠'],\n",
       " ['▁꼼데가르송', '▁엠보싱', '▁장지갑', '▁급', '히', '▁처분합니다', '▁ᅲᅲ'],\n",
       " ['▁꼼데가르송', '▁프리미엄', '▁베이직', '▁후드티'],\n",
       " ['▁꼼데가르송', '▁긴팔티', '▁m'],\n",
       " ['▁꼼데', '척', '테일러'],\n",
       " ['▁싸게팜', '▁꼼데', '와이셔츠', '▁꼼데', '흰', '셔츠', '▁쿨거래', '▁쇼핑백', '도', '▁포함'],\n",
       " ['▁꼼대가르송', '▁정품', '▁스트라이프', '▁셔츠', '▁여성', '▁l'],\n",
       " ['▁바배', '▁깅엄체크', '▁꼼데', '라인', '▁블라우스', '▁2', 'color', '▁블랙', '▁레드'],\n",
       " ['▁꼼데', 'st', '▁셔츠남방'],\n",
       " ['▁국내배송', '▁꼼데가르송', '▁기본셔츠'],\n",
       " ['▁꼼데가르송', '▁반팔'],\n",
       " ['▁꼼데가르송', '티'],\n",
       " ['▁꼼데가르송', '▁더블와펜', '▁l'],\n",
       " ['▁스톤', '▁19', 'ss', '▁검정', '맨투맨', '이랑', '▁꼼데', '가디간', '교환', '하실분'],\n",
       " ['▁꼼데가르송', '▁남성', '▁m', '▁니트', '▁1', '회착'],\n",
       " ['▁꼼데', '보', '더', '티', '▁새거', '▁팔아요'],\n",
       " ['▁꼼데', '▁블랙와펜', '▁반팔티'],\n",
       " ['▁꼼데가르송', '▁블랙와펜', '긴팔', '▁카라티'],\n",
       " ['▁꼼데가르송', '▁셔츠'],\n",
       " ['▁꼼데가르송'],\n",
       " ['▁꼼데가르송', '▁여성', '▁여자', '▁가디건', '▁베이지', '▁화이트', '▁l', '▁사이즈'],\n",
       " ['▁정품', '▁꼼데가르송', '▁오렌지', '레드', '▁퍼플', '▁배색', '▁반팔', '▁슬리브', '▁티셔츠'],\n",
       " ['▁꼼데가르송', '▁반팔티', '▁양면', '레드', '빅', '하트', '▁시즌오프', '▁반팔', '기획', '전'],\n",
       " ['▁꼼데가르송', '▁레드와펜'],\n",
       " ['▁꼼데',\n",
       "  '▁수',\n",
       "  '염',\n",
       "  '▁프린트',\n",
       "  '▁스트라이프',\n",
       "  '▁레깅스',\n",
       "  '▁단가라',\n",
       "  '▁줄무늬',\n",
       "  '▁도톰한',\n",
       "  '▁소재',\n",
       "  '▁세일',\n",
       "  '▁할인'],\n",
       " ['▁꼼데가르송', '▁여성용', '▁메인', '▁울', '▁가디건'],\n",
       " ['▁꼼데', '후드집업', '▁황금사이즈', 's'],\n",
       " ['▁꼼데가르송', '▁가디건', '▁버건디', '▁m', '사이즈'],\n",
       " ['▁인기', '▁꼼데', '▁스트라이프', '▁셔츠'],\n",
       " ['▁1', '▁1', '제작', '▁꼼데가르송', '▁기본셔츠'],\n",
       " ['▁꼼데가르송', '▁커플', '▁반팔'],\n",
       " ['▁꼼데', '▁스트라이프', '▁셔츠'],\n",
       " ['▁꼼데가르송', '▁옥스포드', '▁배이직', '▁긴팔셔츠'],\n",
       " ['▁꼼데가르송', '▁스트라이프', '▁셔츠'],\n",
       " ['▁19', 'ss', '▁꼼데가르송', '▁cdg', '▁반팔'],\n",
       " ['▁꼼데가르송', '▁자켓'],\n",
       " ['▁az', '▁t', '163', '▁051', '▁3', '▁5', '▁꼼데가르송', '▁보더티', '셔츠'],\n",
       " ['▁꼼데가르송', '▁정품', '티셔츠'],\n",
       " ['▁꼼데', '와이셔츠', '▁꼼데', '흰', '셔츠', '▁쿨거래', '▁쇼핑백', '도', '▁포함'],\n",
       " ['▁꼼데', '와이셔츠', '▁꼼데', '흰', '셔츠', '▁쿨거래', '▁쇼핑백', '도', '▁포함'],\n",
       " ['▁꼼데', '▁플레이', '▁반팔', '▁티셔츠'],\n",
       " ['▁m', '▁꼼데가르송', '▁보더티', '▁여성용'],\n",
       " ['▁정품', '▁꼼데가르송', '▁남자', '▁가디건', '▁검빨', '▁s'],\n",
       " ['▁19', '99', '년도', '▁90', 's', '▁꼼데가르송', '▁슈프림', '▁원', '재료', '▁반팔', '▁티셔츠'],\n",
       " ['▁comme', '▁des', '▁garcons', '▁블랙', '와팬', '▁스트라이프', '▁셔츠'],\n",
       " ['▁꼼데가르송', '▁정품', '▁가디건', '▁베이지', '▁남성용', '▁l'],\n",
       " ['▁꼼데가르송', '▁보', '터', '티'],\n",
       " ['▁꼼데가르송', '▁블루', '아이', '시리즈', '▁시즌오프', '▁반값', '▁폭탄', '할인', '▁기획', '전'],\n",
       " ['▁꼼데가르송', '▁척테일러', '▁하이'],\n",
       " ['▁꼼데가르송', 'st', '▁남방셔츠'],\n",
       " ['▁꼼데가르송', '▁반팔티'],\n",
       " ['▁꼼데', '▁컨버스'],\n",
       " ['▁꼼데', '▁실착', '▁2', '회', '▁새상품', '▁m'],\n",
       " ['▁all', '▁꼼데가르송', '▁단가라', '▁라운드'],\n",
       " ['▁꼼데', '▁조끼'],\n",
       " ['▁싸게팜', '▁꼼데', '와이셔츠', '▁꼼데', '흰', '셔츠', '▁쿨거래', '▁쇼핑백', '도', '▁포함'],\n",
       " ['▁꼼데가르송', '▁국내', '▁후드티'],\n",
       " ['▁꼼데', '▁여자', '▁셔츠', '▁s', '▁사이즈', '▁17', '에', '▁판매합니다'],\n",
       " ['▁260', '▁꼼데가르송', 'x', '컨버스', '▁블랙', '▁하이'],\n",
       " ['▁해외', '▁꼼데가르송', '▁cdg', '▁로고', '▁코튼', '▁반팔', '▁티셔츠'],\n",
       " ['▁s', '▁xl', '▁꼼데', '▁하트', '체크', '▁셔츠'],\n",
       " ['▁comme', '▁des', '▁garcons', '▁', 'oe', '▁꼼데가르송', '▁커플', '▁반팔'],\n",
       " ['▁꼼데가르송', '▁스프라이트', '▁셔츠', '▁에눌가능'],\n",
       " ['▁꼼데가르송', '▁comme', '▁des', '▁garcons', '▁블랙', '▁조끼'],\n",
       " ['▁꼼데', '▁play', '▁로고', '▁하트', '티셔츠'],\n",
       " ['▁꼼데가르송', '▁가', '다', '간'],\n",
       " ['▁꼼데가르송', '▁가디건'],\n",
       " ['▁m', '▁슈프림', '▁꼼데가르송', '▁스플릿', '▁반팔', '▁블랙'],\n",
       " ['▁꼼데', '▁겐조'],\n",
       " ['▁꼼데', '▁페이퍼', '백'],\n",
       " ['▁정품', '▁18', 'ss', '▁꼼데가르송', '▁더블와펜', '▁반팔티'],\n",
       " ['▁꼼데가르송', '▁여자', '가디건', '▁m', '▁팔아요', '▁교신가능'],\n",
       " ['▁급처', '▁꼼데', '▁보더티', '▁정품', '▁가격내림'],\n",
       " ['▁꼼데가르송', '▁나이키', '▁에어맥스', '▁180', '▁260'],\n",
       " ['▁꼼데', '▁하트', '▁와펜', '▁반팔', '▁티셔츠'],\n",
       " ['▁꼼데가르송', '▁와펜', '▁셔츠'],\n",
       " ['▁꼼데', '▁가디건'],\n",
       " ['▁꼼데가르송'],\n",
       " ['▁꼼데', '▁겐조'],\n",
       " ['▁꼼데가르송', '▁반팔'],\n",
       " ['▁꼼데가르송', '▁블랙', '하트', '▁반팔티셔츠'],\n",
       " ['▁꼼데가르송', '▁남자', '▁브이넥', '▁v', '넥', '▁가디건', '▁s', '▁차콜', '▁회색'],\n",
       " ['▁꼼데가르송', '▁레드와펜', '▁여성', '▁s'],\n",
       " ['▁꼼데', '▁하트', '▁체크', '▁셔츠'],\n",
       " ['▁꼼데가르송', '▁흰색', '▁긴팔셔츠', '▁az', '▁b', '001', '▁051', '▁2', '▁3', '▁5'],\n",
       " ['▁에어팟키링', '▁꼼데'],\n",
       " ['▁comme', '▁des', '▁garcons', '▁레드', '와팬', '▁스트라이프', '▁셔츠'],\n",
       " ['▁xxl', '▁110', '▁꼼데가르송', '▁비틀즈', '▁콜라보', '▁카라티'],\n",
       " ['▁꼼데', '▁남자', '▁s', '▁3', '번입음'],\n",
       " ['▁꼼데가르송', '▁옴므', '▁올리브', '▁카키', '▁스트라이프', '▁반팔', '▁슬리브', '▁티셔츠'],\n",
       " ['▁정품', '▁꼼데가르송', '▁전면', '▁카모', '▁투포켓', '▁올리브', '카키', '▁반팔', '▁슬리브', '▁티셔츠'],\n",
       " ['▁꼼데가르송', '▁가디건', '▁블랙', '▁m', '사이즈'],\n",
       " ['▁정품',\n",
       "  '▁칼하트',\n",
       "  'x',\n",
       "  '▁꼼데가르송',\n",
       "  '▁리빌드',\n",
       "  '▁스타일',\n",
       "  '▁된장',\n",
       "  '▁패치',\n",
       "  '▁4',\n",
       "  '포켓',\n",
       "  '▁워크자켓'],\n",
       " ['▁싸게팜', '▁꼼데', '와이셔츠', '▁꼼데', '흰', '셔츠', '▁쿨거래', '▁쇼핑백', '도', '▁포함'],\n",
       " ['▁해외배송', '▁꼼데가르송', '▁남자', '가디건'],\n",
       " ['▁꼼데가르송', '▁보더티', '▁정품', '▁m'],\n",
       " ['▁꼼데가르송', '▁스카치', '▁커스텀', '▁나일론', '▁퍼플', '▁모자'],\n",
       " ['▁꼼데가르송', '▁골드', '▁와펜', '▁셔츠'],\n",
       " ['▁꼼데', '▁라운드', '▁가디건'],\n",
       " ['▁꼼데', '선', '하트', '▁반팔티'],\n",
       " ['▁꼼데', '▁x', '▁컨버스', '▁척', '▁테일러', '▁70', 's'],\n",
       " ['▁꼼데가르송', '▁스트라이프', '▁셔츠'],\n",
       " ['▁싸게팜', '▁꼼데', '와이셔츠', '▁꼼데', '흰', '셔츠', '▁쿨거래', '▁쇼핑백', '도', '▁포함'],\n",
       " ['▁꼼데', '와이셔츠', '▁꼼데', '흰', '셔츠', '▁쿨거래', '▁쇼핑백', '도', '▁포함'],\n",
       " ['▁꼼데', '셔츠', '▁미니', '와펜'],\n",
       " ['▁꼼데가르송', '▁셔츠', '▁m', '사이즈', '▁팝니다'],\n",
       " ['▁꼼데가르송', '▁잔', '스트', '▁셔츠'],\n",
       " ['▁꼼데가르송', '가디건'],\n",
       " ['▁꼼데가르송', '컨버스', '240'],\n",
       " ['▁꼼데가르송', '▁컨버스', '▁하이'],\n",
       " ['▁꼼데', '▁도트', '▁빅', '▁하트', '▁반팔', '▁티셔츠'],\n",
       " ['▁꼼데', 'st', '▁여성', '▁여름니트'],\n",
       " ['▁꼼데', '▁cdg', '▁반팔티'],\n",
       " ['▁꼼데가르송', '▁반팔티', '▁유아용', '▁급처'],\n",
       " ['▁꼼데', '▁브이넥', '▁가디건'],\n",
       " ['▁꼼데가르송', '▁스트라이프', '▁셔츠'],\n",
       " ['▁꼼데', '▁여성', '▁흰색', '셔츠'],\n",
       " ['▁l', '▁105', '▁꼼데가르송', '▁옴므', '▁찰스', '커', '크', '▁콜라보', '▁가디건'],\n",
       " ['▁꼼데가르송', '▁프리미엄', '▁7', '부', '▁긴팔', '▁티셔츠'],\n",
       " ['▁꼼데', '▁하트', '▁기본', '▁셔츠', '▁스판', '▁착용감', '▁굿'],\n",
       " ['▁꼼데가르송', '▁반팔', '▁레드와펜', '▁여'],\n",
       " ['▁꼼데가르송', '▁l', '▁새제품'],\n",
       " ['▁꼼데가르송', '▁pvc', '▁투웨이백'],\n",
       " ['▁꼼데', '▁도쿄', '▁카모', '▁더블하트', '▁반팔티셔츠'],\n",
       " ['▁꼼데가르송', '▁가디건'],\n",
       " ['▁꼼데가르송', '▁하트', '와펜', '▁커플', '볼캡'],\n",
       " ['▁꼼데가르송', '▁하트', '소녀', '프린팅'],\n",
       " ['▁꼼데가르송', '▁가디건', '▁m'],\n",
       " ['▁꼼데가르송', '▁맨투맨'],\n",
       " ['▁꼼데', '▁후드집업'],\n",
       " ['▁꼼데가르송', '▁1', '▁1', '▁st', '▁코튼', '▁100', '▁반팔티셔츠'],\n",
       " ['▁꼼데가르송', '▁맨투맨'],\n",
       " ['▁일본', '▁구매대행', '▁베이프', '▁꼼데', '▁노아', '외', '▁다수'],\n",
       " ['▁꼼데', '▁cdg', '▁후드', '▁블랙', '▁xl'],\n",
       " ['▁꼼데가르송', '▁체크셔츠'],\n",
       " ['▁꼼데가르송', '▁긴팔', '▁보더티'],\n",
       " ['▁꼼데', '▁가디건', '▁s', '사이즈'],\n",
       " ['▁꼼데가르송', '▁도트', '티', '▁네이비', '▁여성', '▁m'],\n",
       " ['▁꼼데가르송', 'cd', 'g', '▁스투시', '▁반팔'],\n",
       " ['▁꼼데가르송', '▁가디건'],\n",
       " ['▁꼼데', '▁티셔츠', '▁미듐사이즈', '▁팔아요', '▁새거'],\n",
       " ['▁꼼데', '▁폴로셔츠'],\n",
       " ['▁꼼데', '▁x', '▁컨버스', '▁척', '▁테일러', '▁70', 's'],\n",
       " ['▁꼼데가르송', '▁하트', '▁반팔티', '▁풀라벨'],\n",
       " ['▁최상급', '면', '▁브랜드', '양말', '▁라코스테', '▁꼼데', '▁등'],\n",
       " ['▁꼼데가르송', '▁반팔', 'm'],\n",
       " ['▁정품', '▁새상품', '▁꼼데가르송', '▁가디건', '▁셔츠', '▁보더티', '▁반팔티'],\n",
       " ['▁매입', '▁lmc', '▁꼼데', '▁디네댓', '▁명품', '▁반팔', '▁긴팔'],\n",
       " ['▁꼼데가르송'],\n",
       " ['▁꼼데가르송', '▁반팔'],\n",
       " ['▁꼼데가르송', '▁에어맥스', '▁180', '▁260', '사이즈', '▁판매'],\n",
       " ['▁꼼데가르송', '▁와펜', '▁자수', '▁가디건'],\n",
       " ['▁꼼데가르송', '▁하트', '와펜', '▁커플', '볼캡'],\n",
       " ['▁꼼데가르송', '▁반팔', '▁카라티', '▁엑', '라'],\n",
       " ['▁여자', '▁꼼데', '반팔카라티', '▁팝니다'],\n",
       " ['▁꼼데가르송', '▁빈티지', '▁페이즐리', '▁셔츠', '▁남방'],\n",
       " ['▁꼼데가르송', '▁가방', '▁새상품'],\n",
       " ['▁정품', '▁준야와타나베', '▁꼼데가르송', '▁남자', '▁신발', '▁260', '▁265'],\n",
       " ['▁무배', '▁꼼데가르송', 'pvc', '백'],\n",
       " ['▁2002', '년도', '▁꼼데가르송', '▁원', '러브', '▁래', '게', '맨', '▁반팔', '▁티셔츠'],\n",
       " ['▁꼼데가르송', '▁보더티'],\n",
       " ['▁꼼데가르송', '▁셔츠'],\n",
       " ['▁2019', '▁꼼데가르송', '▁와이드', '칼라', '▁패치', '셔츠'],\n",
       " ['▁겐조', '▁꼼데', '반팔'],\n",
       " ['▁꼼데가르송', '▁네이비', '▁m'],\n",
       " ['▁꼼데가르송', '▁play', '그레이', '▁반팔티셔츠', '▁여성', 'l', '사이즈'],\n",
       " ['▁꼼데가르송', '▁셔츠', '▁s'],\n",
       " ['▁꼼데', '▁셔츠'],\n",
       " ['▁빔즈',\n",
       "  '▁가디건',\n",
       "  '▁l',\n",
       "  '▁꼼데가르송',\n",
       "  '언더커버',\n",
       "  '요',\n",
       "  '지',\n",
       "  '야마',\n",
       "  '모토',\n",
       "  '라',\n",
       "  '프',\n",
       "  '시',\n",
       "  '몬',\n",
       "  '스톤아일랜드',\n",
       "  '아',\n",
       "  '더',\n",
       "  '에',\n",
       "  '러',\n",
       "  '아',\n",
       "  '미'],\n",
       " ['▁꼼데', 'st', '▁셔츠', '▁스트라이프'],\n",
       " ['▁정품', '▁꼼데가르송', '▁아메카지', '▁베이지', '▁치노', '▁팬츠'],\n",
       " ['▁꼼데가르송', '▁남자', '▁가디건', '▁s', '▁m', '▁블랙', '▁베이지', '▁판매합니다'],\n",
       " ['▁꼼데가르송'],\n",
       " ['▁꼼데가르송', '▁가디건', '▁미니', '와펜'],\n",
       " ['▁꼼데가르송', '▁컨버스'],\n",
       " ['▁꼼데가르송', '▁셔츠'],\n",
       " ['▁꼼데가르송', '▁네이비', '▁보더티', '▁l'],\n",
       " ['▁꼼데가르송', '▁노베스타'],\n",
       " ['▁all', '▁꼼데가르송', '▁카라티'],\n",
       " ['▁꼼데가르송', '▁레드', '▁와펜', '▁셔츠'],\n",
       " ['▁free', '▁꼼데', '▁스프라이프', '▁셔츠'],\n",
       " ['▁꼼데가르송', '▁반팔티'],\n",
       " ['▁최저가', '▁입니다', '▁정품', '▁꼼데가르송', '▁셔츠', '▁가디건', '▁보더티', '▁반팔티'],\n",
       " ['▁꼼데가르송', '▁comme', '▁des', '▁garcons', '▁버블', '패턴', '▁오렌지', '화이트', '▁블레이져'],\n",
       " ['▁싸게팜', '▁꼼데', '와이셔츠', '▁꼼데', '흰', '셔츠', '▁쿨거래', '▁쇼핑백', '도', '▁포함'],\n",
       " ['▁꼼데가르송', '▁신상', '▁pk', '▁반팔', '▁카라티', '▁남여공용'],\n",
       " ['▁정품', '▁꼼데가르송', '▁블랙와펜', '▁반팔티'],\n",
       " ['▁꼼데가르송', '▁골든', '와펜', '▁가디건'],\n",
       " ['▁꼼데가르송', '▁19', 's', '▁s', '▁카프리', '▁엠보', '▁티셔츠'],\n",
       " ['▁꼼데가르송', '▁스트라이프', '▁블루', '▁단가라', '▁레드', '하트', '▁와펜', '▁반팔티'],\n",
       " ['▁꼼데', '▁체크셔츠'],\n",
       " ['▁싸게팜', '▁꼼데', '와이셔츠', '▁꼼데', '흰', '셔츠', '▁쿨거래', '▁쇼핑백', '도', '▁포함'],\n",
       " ['▁꼼데가르송', '▁가디건', '▁팝니다', '▁베이지', '▁검정', '와펜', '▁l', '사이즈'],\n",
       " ['▁az', '▁t', '121', '▁051', '▁1', '▁1', '▁꼼데가르송', '▁티셔츠'],\n",
       " ['▁정품', '▁꼼데가르송'],\n",
       " ['▁꼼데가르송', '▁레드', '▁울', '▁니트', '▁신상', '▁라지'],\n",
       " ['▁꼼데', 'st', '▁가디건'],\n",
       " ['▁해외', '▁꼼데가르송', '▁cdg', '▁폴로', '▁셔츠', '▁카라티'],\n",
       " ['▁구찌', '▁꼼데가르송', '▁콜라보', '▁백'],\n",
       " ['▁꼼데가르송', '▁와이셔츠'],\n",
       " ['▁mr', '▁jun', 'ko', '▁아카이브', '▁꼼데가르송', '▁언더커버', '▁빈티지', '▁후드집업'],\n",
       " ['▁꼼데가르송', '▁여성용', '▁화이트셔츠', '▁레드와펜', '▁특가', '기획', '전'],\n",
       " ['▁꼼데가르송', '▁스트라이프'],\n",
       " ['▁꼼데가르송', '셔츠', 's'],\n",
       " ['▁꼼데가르송', '▁남성용', '▁보더티', '▁반값세일', '▁기획', '전'],\n",
       " ['▁꼼데가르송', '▁가디건'],\n",
       " ['▁꼼데가르송', '▁st', '▁베이지', '▁가디건', '▁s', '사이즈'],\n",
       " ['▁꼼데가르송', '▁골드와펜', '▁가디건'],\n",
       " ['▁정품', '▁꼼데가르송', '▁셔츠', '▁가디건', '▁보더티', '▁반팔티'],\n",
       " ['▁꼼데가르송', '▁홀리데이', '▁화이트', '▁하트', '▁e', 'mo', 'ji', '▁반팔티', '▁블랙'],\n",
       " ['▁꼼데가르송', '▁x', '▁컨버스', '▁척테일러'],\n",
       " ['▁꼼데가르송', '▁보더티', 'xl'],\n",
       " ['▁s', '▁m', '▁l', '▁2', 'color', '▁꼼데', '▁체크', '▁셔츠'],\n",
       " ['▁m', '▁정품', '▁새제품', '▁꼼데가르송', '▁가디건', '▁판매'],\n",
       " ['▁꼼데가르송', '▁플레이', '▁블랙', '▁하트', '▁와펜', '▁화이트', '▁반팔티'],\n",
       " ['▁꼼데가르송', '▁신형', '▁컬러', '와펜', '▁5', 'color'],\n",
       " ['▁꼼데가르송', 'st', '▁라운드티', '▁블랙', '하트'],\n",
       " ['▁꼼데가르송', '▁잔', '▁체크', '▁셔츠'],\n",
       " ['▁꼼데가르송', '▁카라티', '▁폴로셔츠', '▁레드', '하트', '▁그레이', '▁반팔티'],\n",
       " ['▁꼼데', '스프라이트', '▁셔', '트', '▁l', '사이즈', '▁팔아요'],\n",
       " ['▁꼼데가르송', '▁하트', '로고', '▁스트라이프', '▁긴팔셔츠'],\n",
       " ['▁꼼데가르송', '▁반바지', '▁1', '▁1', '이벤트'],\n",
       " ['▁꼼데가르송', '▁cdg', '▁후드티', '▁xl', '▁10', '▁9', '▁5'],\n",
       " ['▁꼼데가르송', '▁카라티', '▁폴로셔츠', '▁레드', '하트'],\n",
       " ['▁정품', '▁꼼데가르송', '▁화이트', '▁도트', '하트', '▁레드와펜'],\n",
       " ['▁꼼데가르송', '▁와펜', '▁반팔'],\n",
       " ['▁꼼데', '▁반팔'],\n",
       " ['▁꼼데가르송', '▁슬리브', '▁하트', '▁포인트', '▁플레이', '▁로고', '▁반팔', '▁티셔츠'],\n",
       " ['▁꼼데가르송', '▁신형', '▁화이트', '하트', '▁남성용', '▁가디건'],\n",
       " ['▁꼼데가르송', '▁가디건', '▁검정색', '▁레드', '와팬', '▁l', '사이즈', '▁xl', '교신', '▁환영'],\n",
       " ['▁꼼데', '▁반팔티', '▁최저가'],\n",
       " ['▁꼼데가르송', '▁반팔티', '▁초록', '하트'],\n",
       " ['▁90', '▁s', '▁1992', '년도', '▁꼼데가르송', '▁20', '주년', '▁기념', '▁로고', '▁티셔츠'],\n",
       " ['▁꼼데가르송', '▁스트라이프', '▁셔츠'],\n",
       " ['▁꼼데가르송', '▁티셔츠', '▁블랙', '라인', '▁하트', '▁반팔티'],\n",
       " ['▁꼼데가르송', '▁카라티', '▁폴로셔츠', '▁그린', '하트', '▁레드', '▁반팔티'],\n",
       " ['▁꼼데가르송', '▁반팔티셔츠'],\n",
       " ['▁4',\n",
       "  '월',\n",
       "  '이벤트',\n",
       "  '▁6',\n",
       "  '번',\n",
       "  '▁꼼데',\n",
       "  '▁19',\n",
       "  's',\n",
       "  '▁s',\n",
       "  '▁레드',\n",
       "  '하트',\n",
       "  '▁도트',\n",
       "  '▁pk',\n",
       "  '반팔'],\n",
       " ['▁꼼데가르송', '▁가디건'],\n",
       " ['▁꼼데가르송', '▁블랙', '▁셔츠', '▁더블', '▁하트', '▁와펜'],\n",
       " ['▁꼼데가르송', '▁티셔츠', '3', '종'],\n",
       " ['▁꼼데가르송', '▁네이비', '▁쓰리', '하트', '▁반팔티셔츠'],\n",
       " ['▁꼼데', '▁메종키츠네', '▁세인트제임스', '▁지오다노', '▁유니클로', '▁단가라'],\n",
       " ['▁꼼데', '▁컨버스', '삽니다', '260'],\n",
       " ['▁정품', '▁여성', '▁꼼데가르송', '▁반팔티', '▁최저가'],\n",
       " ['▁b', '108', '4', '▁꼼데', '▁빅로고', '▁티셔츠'],\n",
       " ['▁꼼데', '▁가디건', '▁레드', '▁더블와펜', '▁l', '▁팝니다'],\n",
       " ['▁꼼데가르송', '▁여성', '▁블랙와펜', '▁티셔츠'],\n",
       " ['▁꼼데가르송',\n",
       "  '▁여자',\n",
       "  'u',\n",
       "  '넥',\n",
       "  '▁가디건',\n",
       "  '▁유넥',\n",
       "  '▁꼼데',\n",
       "  '▁가디건',\n",
       "  '▁m',\n",
       "  '▁블랙',\n",
       "  '▁더블와펜',\n",
       "  '▁미디움'],\n",
       " ['▁m',\n",
       "  '▁comme',\n",
       "  'de',\n",
       "  's',\n",
       "  'gar',\n",
       "  'con',\n",
       "  's',\n",
       "  '▁shirts',\n",
       "  '▁꼼데',\n",
       "  '▁셔츠',\n",
       "  '▁스트라이프'],\n",
       " ['▁새상품', '▁꼼데가르송', '▁남성', '▁블랙', '▁후드집업'],\n",
       " ['▁꼼데가르송', '▁tr', '▁브이넥', '▁반팔티셔츠'],\n",
       " ['▁꼼데', '▁여자', '▁s', '▁l', '▁사이즈', '▁팔아요'],\n",
       " ['▁꼼데가르송', '▁더블와펜', '▁반팔', '▁티셔츠', '▁네이비', '▁블랙'],\n",
       " ['▁꼼데가르송', '▁울', '100', '▁니트', '▁넘', '넘', '▁예뻐요'],\n",
       " ['▁az', '▁b', '007', '▁051', '▁1', '▁3', '▁꼼데가르송', '▁스트라이프', '▁셔츠'],\n",
       " ['▁comme', '▁des', '▁garcons', '▁꼼데가르송', '▁모직', '▁울', '▁스커트'],\n",
       " ['▁comme', '▁des', '▁garcons', '▁다운', '▁블랙', '하트', '▁반팔티'],\n",
       " ['▁싸게팜', '▁꼼데', '와이셔츠', '▁꼼데', '흰', '셔츠', '▁쿨거래', '▁쇼핑백', '도', '▁포함'],\n",
       " ['▁꼼데가르송', '▁티셔츠', '▁상태', '9', '▁10'],\n",
       " ['▁꼼데가르송', '▁레드', '▁더블하트', '▁화이트', '▁반팔티'],\n",
       " ['▁꼼데가르송', '▁컨버스', '▁255'],\n",
       " ['▁꼼데가르송', '▁레플', '▁여성', '▁남방', '▁90'],\n",
       " ['▁꼼데가르송', '▁도트', '티', '▁xl'],\n",
       " ['▁정품', '▁꼼데가르송', '후드집업', '▁95', '▁100'],\n",
       " ['▁꼼데가르송', '▁보더티', '▁l'],\n",
       " ['▁싸게팜', '▁꼼데', '와이셔츠', '▁꼼데', '흰', '셔츠', '▁쿨거래', '▁쇼핑백', '도', '▁포함'],\n",
       " ['▁꼼데가르송', '▁가디건', '▁m', '▁사이즈', '▁급처', '▁', '하는', '분', '만', '▁번톡주세요'],\n",
       " ['▁꼼데가르송', '▁반팔'],\n",
       " ['▁꼼데가르송', '▁베이직', '▁커플', '▁기본셔츠'],\n",
       " ['▁꼼데', '▁블랙', '▁나염', '▁반팔티셔츠'],\n",
       " ['▁꼼데가르송', '▁티셔츠', '▁화이트', '하트', '▁레드와펜', '▁반팔'],\n",
       " ['▁꼼데가르송', '▁빅하트', '▁프린트', '▁반팔티'],\n",
       " ['▁해외', '▁cdg', '▁꼼데가르송', '▁x', '▁스투시', '▁반팔', '▁티셔츠', '▁화이트'],\n",
       " ['▁꼼데가르송',\n",
       "  '▁더블와펜',\n",
       "  '▁반팔티',\n",
       "  '▁l',\n",
       "  '▁블랙',\n",
       "  '▁한번도',\n",
       "  '▁안',\n",
       "  '▁입',\n",
       "  '었습니다',\n",
       "  '▁택',\n",
       "  '▁그대로',\n",
       "  '▁있어요',\n",
       "  '▁새상품',\n",
       "  '입'],\n",
       " ['▁comme', '▁des', '▁garcons', '▁레플리카', '스트라이프', '▁티셔츠'],\n",
       " ['▁꼼데가르송', '▁반지갑'],\n",
       " ['▁꼼데가르송', '▁기획', '▁반팔', '▁셔츠'],\n",
       " ['▁꼼데', '▁pvc', '백', '▁꼼데가르송', '▁투웨이백'],\n",
       " ['▁꼼데가르송', '▁트리플', '하트'],\n",
       " ['▁꼼데가르송', '▁골드', '패치', '▁반팔'],\n",
       " ['▁꼼데가르송', '▁레드와펜', '▁반팔티'],\n",
       " ['▁s', '▁m', '▁l', '▁꼼데', '▁레드', '▁하트', '▁카라티셔츠'],\n",
       " ['▁꼼데가르송', '▁카라티', '▁폴로셔츠', '▁레드', '하트', '▁레드', '▁반팔티'],\n",
       " ['▁2002',\n",
       "  '년도',\n",
       "  '▁꼼데가르송',\n",
       "  '▁준야와타나베',\n",
       "  '▁love',\n",
       "  '▁feel',\n",
       "  'ing',\n",
       "  '▁레',\n",
       "  '개',\n",
       "  '맨',\n",
       "  '▁티셔츠'],\n",
       " ['▁꼼데가르송', '▁블랙', '▁반팔티', '▁더블와펜', '▁남여공용'],\n",
       " ['▁꼼데가르송', '▁하트', '▁단가라', '▁티셔츠'],\n",
       " ['▁꼼데가르송', '▁반팔티', '▁빅', '블랙', '하트', '▁티셔츠'],\n",
       " ['▁꼼데가르송', '▁긴팔'],\n",
       " ['▁꼼데가르송', '▁단가라', '▁코튼', '▁반팔티'],\n",
       " ['▁꼼데가르송', '▁컨버스'],\n",
       " ['▁2002', '년도', '▁꼼데가르송', '▁준야와타나베', '▁love', '▁feel', 'ing', '▁프린팅', '▁티셔츠'],\n",
       " ['▁정품', '▁꼼데가르송', '▁스몰', '▁백팩', '▁레더', '▁팝니다', '▁여성용'],\n",
       " ['▁cdg', '▁꼼데가르송', '▁반팔', '▁블랙', '▁l', '▁m', '▁새상품'],\n",
       " ['▁2', '종', '▁꼼데가르송', '▁스니커즈'],\n",
       " ['▁꼼데가르송', '▁홀리데이', '▁e', 'mo', 'ji', '▁5', '하트', '▁그레이', '▁반팔티'],\n",
       " ['▁꼼데가르송', '▁반팔'],\n",
       " ['▁꼼데가르송', '▁반팔'],\n",
       " ['▁꼼데가르송', '▁꼼데', '▁반팔티', '▁판매합니다'],\n",
       " ['▁꼼데가르송', '▁comme', '▁des', '▁garcons', '▁하트', '▁반팔티'],\n",
       " ['▁꼼', '대', '▁겐조', '▁옷팔아요', '▁겐조', '떨이', '해요', '▁돈', '이', '급', '해서'],\n",
       " ['▁꼼데가르송', '▁comme', '▁des', '▁garcons', '▁e', 'mo', 'ji', '▁하트', '▁반팔티'],\n",
       " ['▁트리', '코트', '▁꼼데가르송', '▁깅엄체크', '▁다', '겹', '▁플레어', '▁스커트', '▁새', '▁제품'],\n",
       " ['▁xl', '▁슈프림', '▁꼼데가르송', '▁후드', '▁블랙', '▁17', 'ss'],\n",
       " ['▁꼼데가르송', '▁가디건', '▁한번도', '▁안입은', '▁새상품', '▁팝니다'],\n",
       " ['▁꼼데가르송', '▁반팔티', '▁레드', '하트', '▁블루', '아이', '▁꼼데', '▁티셔츠'],\n",
       " ['▁꼼데가르송', '▁반팔티', '▁도트', '▁리버스', '로고', '▁더블', '▁하트', '▁티셔츠'],\n",
       " ['▁꼼데가르송', '▁차콜', '▁레드와펜', '▁xl'],\n",
       " ['▁꼼데가르송',\n",
       "  '▁블랙',\n",
       "  '▁e',\n",
       "  'mo',\n",
       "  'ji',\n",
       "  '▁하트',\n",
       "  '▁프린트',\n",
       "  '▁레드',\n",
       "  '▁하트',\n",
       "  '▁와펜',\n",
       "  '▁반팔티'],\n",
       " ['▁꼼데가르송', '▁티셔츠', '▁레드', '라인', '▁하트', '▁반팔티'],\n",
       " ['▁cdg', '▁꼼데가르송', '▁pvc', '▁크로스백', '▁한정'],\n",
       " ['▁한정수량', '▁꼼데가르송', '▁cdg', '▁작은', '로고', '▁반팔티'],\n",
       " ['▁꼼데가르송', '▁홀리데이', '▁e', 'mo', 'ji', '▁낙서', '▁하트', '▁반팔티'],\n",
       " ['▁꼼데가르송', '▁반팔티'],\n",
       " ['▁꼼데가르송', '▁블랙', '▁리버스', '로고', '▁더블', '▁하트', '▁티셔츠'],\n",
       " ['▁꼼데가르송', '▁레드', '▁하트', '▁프린트', '▁반팔', '▁티셔츠'],\n",
       " ['▁정품',\n",
       "  '▁꼼데가르송',\n",
       "  '▁az',\n",
       "  '▁t',\n",
       "  '216',\n",
       "  '▁051',\n",
       "  '▁4',\n",
       "  '▁꼼데',\n",
       "  '▁골드',\n",
       "  '▁와펜',\n",
       "  '▁반팔'],\n",
       " ['▁꼼데가르송', '▁카라티', '▁폴로셔츠', '▁레드', '하트', '▁네이비', '▁반팔티'],\n",
       " ['▁쟈', '인', '▁꼼데', '로고', '▁티셔츠'],\n",
       " ['▁꼼데가르송', '▁블라우스'],\n",
       " ['▁꼼데가르송', '셔츠', '▁팔아용'],\n",
       " ['▁꼼데가르송', '▁스트라이프', '▁브이넥', '▁반팔티'],\n",
       " ['▁280', '▁꼼데가르송', '▁컨버스', '▁하이탑'],\n",
       " ['▁싸게팜', '▁꼼데', '와이셔츠', '▁꼼데', '흰', '셔츠', '▁쿨거래', '▁쇼핑백', '도', '▁포함'],\n",
       " ['▁정품', '▁꼼데가르송', '▁긴팔'],\n",
       " ['▁꼼데가르송', '▁az', '▁t', '230', '▁051', '▁1', '▁롱', '와펜', '▁반팔'],\n",
       " ['▁꼼데가르송', '▁컨버스', '▁240', '▁두', '번착용'],\n",
       " ['▁꼼데가르송', '▁보더티', '▁여성', '▁s', '▁네이비'],\n",
       " ['▁꼼데가르송', '▁반팔티', '▁라지', '레드', '하트', '▁더블하트'],\n",
       " ['▁꼼데가르송', '▁티', '▁s', '사이즈'],\n",
       " ['▁오아이오아이', '▁꼼데', '▁폴로', '▁스톤아일랜드', '▁반팔', '▁티셔츠', '▁러브이즈트루'],\n",
       " ['▁꼼데가르송', '셔츠', '▁블랙', '셔츠', '▁블랙와펜'],\n",
       " ['▁루나',\n",
       "  '에비뉴',\n",
       "  '7',\n",
       "  '▁꼼데가르송',\n",
       "  '▁셔츠',\n",
       "  '▁남성',\n",
       "  '▁니트',\n",
       "  '▁새제품',\n",
       "  '▁그레이',\n",
       "  '▁울',\n",
       "  '100',\n",
       "  '▁새제품'],\n",
       " ['▁pvc', '▁커스텀', '▁추천', '▁꼼데가르송', '▁종이가방', '▁종이', '백'],\n",
       " ['▁sml', '▁꼼데가르송', '▁패치', '▁카라티'],\n",
       " ['▁꼼데', '▁맨투맨', '▁정품'],\n",
       " ['▁꼼데', '▁기본', '▁긴팔티'],\n",
       " ['▁꼼데가르송', '▁비틀즈', '▁콜라보', '▁티셔츠'],\n",
       " ['▁꼼데가르송', '▁화이트', '▁셔츠', '▁더블', '▁하트', '▁와펜'],\n",
       " ['▁꼼데가르송', '▁더블하트', '▁반팔티'],\n",
       " ['▁꼼데가르송', 'st', '▁라운드티', '▁쌍', '하트'],\n",
       " ['▁comme', '▁des', '▁garcons', '▁homme', '▁layer', 'ed', '▁blazer'],\n",
       " ['▁꼼데가르송', '▁레드', '하트', '▁프린트', '▁반팔티'],\n",
       " ['▁2002', '년도', '▁꼼데가르송', '▁쿠바', '▁패턴', '▁긴팔', '▁티셔츠'],\n",
       " ['▁꼼데가르송', '▁스트라이프', '▁블랙', '▁레드', '와팬', '▁긴팔', '보', '더', '티'],\n",
       " ['▁꼼데가르송', '셔츠', '▁화이트', '▁블랙와펜'],\n",
       " ['▁2', 'color', '▁슈프림', '▁꼼데', '▁스플릿', '▁박스티셔츠'],\n",
       " ['▁꼼데가르송', '▁보더티', '▁여성'],\n",
       " ['▁꼼데가르송', '▁pvc', '▁새상품'],\n",
       " ['▁꼼데가르송', '▁땡땡이', '▁포인트', '▁레드', '▁하트', '▁티셔츠', '▁반팔티'],\n",
       " ['▁s', '▁꼼데가르송', '▁그레이', '▁블랙와펜', '▁카라티'],\n",
       " ['▁꼼데가르송', '셔츠', '▁정품', '▁사이즈', 's'],\n",
       " ['▁꼼데가르송', '▁유럽판', '▁패턴', '▁프린팅', '▁크롭티셔츠'],\n",
       " ['▁꼼데가르송', '▁블랙와펜', '▁긴팔티셔츠'],\n",
       " ['▁일본', '구매', '▁꼼데가르송', '▁반팔티', '▁그레이', '▁블랙', '▁블랙와펜'],\n",
       " ['▁꼼데가르송', '▁카라티'],\n",
       " ['▁꼼데가르송', '▁반팔', '▁화이트', '▁양면', '레드', '하트'],\n",
       " ['▁꼼데가르송', '▁가디건', '▁브이넥', '▁l'],\n",
       " ['▁꼼데', '정품', '▁반팔티'],\n",
       " ['▁꼼데가르송', '▁반팔티'],\n",
       " ['▁꼼데가르송', '▁cdg', '▁로고', '▁반팔티셔츠', '▁블랙'],\n",
       " ['▁꼼데가르송', '▁유럽', '매장판', '▁컬러', '▁포켓', '▁디자인', '▁셔츠', '▁남방'],\n",
       " ['▁꼼데가르송', '▁여름니트', '후드티'],\n",
       " ['▁꼼데가르송', '▁셔츠', '▁정품'],\n",
       " ['▁꼼데가르송', '▁더블와펜', '▁정품'],\n",
       " ['▁꼼데가르송', '▁반팔티셔츠', '▁도트', '▁더블하트', '▁그레이', '▁반팔티'],\n",
       " ['▁싸게팜', '▁꼼데', '와이셔츠', '▁꼼데', '흰', '셔츠', '▁쿨거래', '▁쇼핑백', '도', '▁포함'],\n",
       " ['▁꼼데', '▁긴팔티'],\n",
       " ['▁꼼데가르송', '▁반팔', '▁s'],\n",
       " ['▁꼼데가르송', '▁pk', '▁카라티'],\n",
       " ['▁꼼데가르송', '▁니트', '▁베이지'],\n",
       " ['▁꼼데', '▁빅하트', '▁로고', '▁후드집업', '▁풀라벨'],\n",
       " ['▁꼼데가르송', '▁로고패치', '▁볼캡', '▁자체제작'],\n",
       " ['▁꼼데가르송', '▁미디엄', '▁남성', '▁브이넥', '▁가디건'],\n",
       " ['▁꼼데가르송', '▁반팔', '▁티셔츠', '▁화이트', '▁레드와펜', '▁남여공용'],\n",
       " ['▁꼼데가르송', '▁가디건'],\n",
       " ['▁꼼데가르송', '▁그린', '▁하트', '▁플레이', '▁로고', '▁반팔티'],\n",
       " ['▁꼼데가르송', '▁가디건'],\n",
       " ['▁꼼데가르송', '▁티셔츠', '▁더블하트', '▁블랙', '▁반팔티'],\n",
       " ['▁꼼데가르송', '▁티셔츠', '▁그린', '하트', '▁그린', '와펜', '▁반팔'],\n",
       " ['▁스', '파워', '트', '▁꼼데가르송'],\n",
       " ['▁꼼데가르송', '▁플레이', '▁아이', '▁네이비', '▁티셔츠'],\n",
       " ['▁꼼데가르송', '▁하트', '와펜', '▁반팔티'],\n",
       " ['▁꼼데가르송', '▁더블와펜', '▁반팔'],\n",
       " ['▁꼼데가르송', '▁나염', '▁패치', '▁반팔'],\n",
       " ['▁꼼데가르송', '▁반팔티', '▁이미'],\n",
       " ['▁꼼데가르송', '셔츠', '▁화이트', '▁레드와펜'],\n",
       " ['▁꼼데가르송', '▁세로', '▁스트라이프', '▁셔츠', '▁핑크', '▁레드와펜'],\n",
       " ['▁남성', '▁꼼데', '▁가르송', '▁반팔티', '▁팝니다'],\n",
       " ['▁comme', '▁des', '▁garcons', '▁꼼데가르송', '▁한정판', '▁크로스백'],\n",
       " ['▁꼼데가르송', '▁네이비', '▁청', '▁골드', '▁s', '사이즈', '▁정품', '▁팔아요'],\n",
       " ['▁2002',\n",
       "  '년도',\n",
       "  '▁꼼데가르송',\n",
       "  '▁love',\n",
       "  '▁feel',\n",
       "  'ing',\n",
       "  '▁래',\n",
       "  '게',\n",
       "  '맨',\n",
       "  '▁프린팅',\n",
       "  '▁반팔',\n",
       "  '▁티셔츠'],\n",
       " ['▁해외', '▁cdg', '▁꼼데가르송', '▁x', '▁스투시', '▁반팔', '▁티셔츠', '▁블랙'],\n",
       " ['▁꼼데가르송', '▁홀리데이', '▁블랙', '▁하트', '▁e', 'mo', 'ji', '▁반팔티'],\n",
       " ['▁꼼데가르송', '▁지퍼', '▁반지갑', '▁겨울', '세일'],\n",
       " ['▁꼼데가르송', '▁보더티'],\n",
       " ['▁꼼데가르송', '▁더블하트'],\n",
       " ['▁꼼데가르송', '▁셔츠'],\n",
       " ['▁꼼데가르송', '▁정품', '▁반팔티'],\n",
       " ['▁꼼데가르송', '▁셔츠'],\n",
       " ['▁꼼데', '▁프리미엄', '▁긴팔'],\n",
       " ['▁도매가', '방출', '▁꼼데가르송', '▁19', 's', '▁s', '▁카프리', '▁엠보', '▁st', '▁티셔츠'],\n",
       " ['▁꼼데', '척', '테일러'],\n",
       " ['▁꼼데가르송', '▁블랙', '▁아이', '▁레드', '▁하트', '▁티셔츠', '▁반팔티'],\n",
       " ['▁꼼데가르송', '▁보더티'],\n",
       " ['▁꼼데가르송', '▁스트라이프', '▁줄무늬', '▁단가라', '▁반팔티', '▁여름', '반팔티', '▁라운드', '▁반팔티셔츠'],\n",
       " ['▁sml', '▁꼼데가르송', '▁패치', '▁카라티'],\n",
       " ['▁꼼데가르송', '▁카라티', '▁폴로셔츠', '▁블랙', '하트', '▁화이트', '▁반팔티'],\n",
       " ['▁꼼데가르송', '▁컨버스'],\n",
       " ['▁꼼데가르송', '▁슬리브', '▁하트', '▁포인트', '▁플레이', '▁로고', '▁그레이', '▁티셔츠'],\n",
       " ['▁꼼데가르송', '▁카라티'],\n",
       " ['▁꼼데가르송', '▁스트라이프셔츠'],\n",
       " ['▁여성', '▁꼼데가르송', '▁카라티', '▁화이트', '▁레드와펜', '▁l', '사이즈'],\n",
       " ['▁새거', '▁꼼데가르송', '▁간절기', '▁긴팔티', '▁입니다', '▁l', '사이즈'],\n",
       " ['▁꼼데가르송', '▁홀리데이', '▁블랙', '▁하트', '▁e', 'mo', 'ji', '▁반팔티', '▁화이트'],\n",
       " ['▁꼼데', '반팔티'],\n",
       " ['▁꼼데가르송', '반팔'],\n",
       " ['▁꼼데', '▁단가라', '▁반팔'],\n",
       " ['▁꼼데가르송', '▁더블와펜', '▁반팔'],\n",
       " ['▁정품', '▁여성', '▁꼼데가르송', '▁스트라이프', '▁셔츠', '▁s', '▁m', '▁l'],\n",
       " ['▁꼼데가르송', '▁x', '▁컨버스', '▁척테일러'],\n",
       " ['▁꼼데가르송', '▁스트라이프', '▁블랙', '▁단가라', '▁레드', '하트', '▁와펜', '▁반팔티'],\n",
       " ['▁꼼데가르송', '▁맨투맨', '▁xl'],\n",
       " ['▁m', '▁꼼데가르송', '▁네이비', '▁빅', '▁로고', '▁반팔티'],\n",
       " ['▁꼼데가르송', '▁레드와펜', '▁반팔'],\n",
       " ['▁최저가', '▁입니다', '▁정품', '▁꼼데가르송', '▁셔츠', '▁가디건', '▁보더티', '▁반팔티'],\n",
       " ['▁2002', '년도', '▁꼼데가르송', '▁쿠바', '▁프린팅', '▁반팔', '▁티셔츠'],\n",
       " ['▁꼼데가르송',\n",
       "  '▁반팔',\n",
       "  '▁흰색',\n",
       "  '▁xl',\n",
       "  '▁풀',\n",
       "  '인증',\n",
       "  '▁가능',\n",
       "  '▁한번도',\n",
       "  '▁',\n",
       "  '안뜯은',\n",
       "  '▁새상품',\n",
       "  '▁톡',\n",
       "  '▁',\n",
       "  'ᄁ'],\n",
       " ['▁꼼데가르송', '▁꼼데', '▁반팔', '▁l', '사이즈', '▁판매합니다'],\n",
       " ['▁꼼데', '▁삽니다'],\n",
       " ['▁꼼데가르송', '▁단가라', '▁반팔티'],\n",
       " ['▁꼼데가르송', '▁셔츠', '▁판매합니다'],\n",
       " ['▁정품', '▁남성', '▁꼼데가르송', '▁반팔티', '▁새상품', '▁최저가'],\n",
       " ['▁꼼데가르송', 'st', '▁와펜', '▁반팔', '▁티셔츠'],\n",
       " ['▁2002', '년도', '▁꼼데가르송', '▁준야와타나베', '▁레', '게', '맨', '▁프린팅', '▁티셔츠'],\n",
       " ['▁꼼데', '▁단가라', '▁반팔'],\n",
       " ['▁꼼데가르송', '▁카라티'],\n",
       " ['▁꼼데가르송', '▁긴팔티'],\n",
       " ['▁꼼데가르송', '▁반팔', '▁티셔츠', '▁화이트', '▁골드', '▁하트', '▁와펜', '▁남여공용'],\n",
       " ['▁꼼데가르송', '▁홀리데이', '▁e', 'mo', 'ji', '▁5', '하트', '▁반팔티', '▁블랙'],\n",
       " ['▁정품', '▁꼼데가르송', '▁여성가디건', '▁레드와펜'],\n",
       " ['▁꼼데가르송', '▁티셔츠', '▁빅', '▁카모', '▁하트', '▁반팔티'],\n",
       " ['▁꼼데가르송', '▁반팔티셔츠', '▁도트', '빅', '하트', '▁그레이', '▁반팔티'],\n",
       " ['▁꼼데가르송', '▁반팔티', 'l'],\n",
       " ['▁2000', '년도', '▁꼼데가르송', '▁', 'ete', '▁프린팅', '▁반팔', '▁티셔츠'],\n",
       " ['▁꼼데가르송', '▁블루', '▁체크', '▁셔츠', '▁레드', '▁하트', '▁와펜'],\n",
       " ['▁꼼데가르송', '▁반팔', '▁티셔츠', '▁네이비', '▁레드와펜', '▁남여공용'],\n",
       " ['▁꼼데가르송', 'st', '▁프리미엄', '▁반팔', '▁티셔츠'],\n",
       " ['▁꼼데가르송', '▁블루', '▁스트라이프', '▁더블', '▁하트', '▁와펜', '▁긴팔', '▁티셔츠'],\n",
       " ['▁xl', '▁꼼데가르송', '▁cdg', '로고', '▁반팔', '▁티셔츠', '▁화이트'],\n",
       " ['▁꼼데가르송', '▁기본', '▁셔츠'],\n",
       " ['▁한정수량', '▁꼼데가르송', '▁스프라이트', '셔츠'],\n",
       " ['▁구매글', '▁꼼데', '▁가르송', '▁가디건', '▁l', '사이즈', '▁구매합니다'],\n",
       " ['▁꼼데가르송', '▁티셔츠', '▁여자', '▁s'],\n",
       " ['▁꼼데가르송', '▁굿', '디자인', '샵', '▁cdg', '▁써클', '로고', '▁화이트', '▁반팔티'],\n",
       " ['▁꼼데가르송', '▁싱글', '하트', '▁카라티'],\n",
       " ['▁꼼데가르송', '▁여성가디건', 'l'],\n",
       " ['▁꼼데가르송', '▁유니크', '▁프린트', '▁하', '단', '▁레드', '▁하트', '▁반팔티'],\n",
       " ['▁새상품', '▁꼼데', '▁정품', '▁네이비', '▁카라티', '▁여자', '▁l', '사이즈', '▁새거'],\n",
       " ['▁꼼데가르송', '▁반팔티'],\n",
       " ['▁꼼데가르송', '▁집업'],\n",
       " ['▁꼼데가르송', '▁스트라이프', '▁셔츠', '▁여성', 's'],\n",
       " ['▁꼼데가르송', '▁골드', '패치', '▁반팔'],\n",
       " ['▁꼼데가르송', '▁후드집업'],\n",
       " ['▁꼼데', '▁스카치', '▁커스텀', '▁모자'],\n",
       " ['▁꼼데가르송', '▁슬', '로', '7', '부티'],\n",
       " ['▁최저가', '▁입니다', '▁정품', '▁꼼데가르송', '▁셔츠', '▁가디건', '▁보더티', '▁반팔티'],\n",
       " ['▁꼼데가르송', '▁블랙', '하트', '▁로고', '▁블랙', '▁와펜', '▁반팔티'],\n",
       " ['▁os', '▁꼼데가르송', '▁블랙', '▁가방'],\n",
       " ['▁꼼데가르송', '▁보더티'],\n",
       " ['▁꼼데가르송',\n",
       "  '▁정품',\n",
       "  '▁가디건',\n",
       "  '▁셔츠',\n",
       "  '▁미개봉',\n",
       "  '▁여자',\n",
       "  '▁검정',\n",
       "  '가디건',\n",
       "  '▁레드와펜',\n",
       "  '▁l',\n",
       "  '사이즈'],\n",
       " ['▁정품', '▁꼼데가르송', '▁여자', '▁카모', '▁반팔티'],\n",
       " ['▁슈프림', '▁꼼데', '▁반팔티', '▁박스로고', '▁블랙'],\n",
       " ['▁44', '▁정품', '▁꼼데가르송', '▁여성', '▁가디건'],\n",
       " ['▁꼼데가르송', '▁더블하트', '▁반팔티'],\n",
       " ['▁꼼데가르송', '▁반팔', '▁티셔츠', '▁카모', '▁하', '단', '하트', '▁레드와펜'],\n",
       " ['▁꼼데가르송', '▁반팔티셔츠', '▁도트', '빅', '하트'],\n",
       " ['▁꼼데가르송', '반팔'],\n",
       " ['▁꼼데가르송', '▁gd', 'g', '▁로고', '▁pk', '▁카라티'],\n",
       " ['▁꼼데가르송', '▁바지', '▁화이트', '▁정품'],\n",
       " ['▁꼼데가르송', '▁도트백'],\n",
       " ['▁2', 'color', '▁슈프림', '▁꼼데', '▁스플릿', '▁박스티셔츠'],\n",
       " ['▁꼼데가르송', '▁카라티'],\n",
       " ['▁뷔스티에', '세트', '▁반팔', '▁쫄티', '▁꼼데가르송', '▁겨울', '조끼', '▁니트', '▁기모', '일자바지'],\n",
       " ['▁미개봉', '▁정품', '▁꼼데가르송', '▁반팔', '▁카모', '빅', '하트'],\n",
       " ['▁꼼데', '▁운동화', '▁고퀄리티', '▁bg', '00', '19'],\n",
       " ['▁꼼데가르송', '▁레드', '▁스트라이프', '▁레드', '▁하트', '▁와펜', '▁긴팔', '▁티셔츠'],\n",
       " ['▁재입고', '▁에어팟키링', '▁꼼데', 'st'],\n",
       " ['▁used', '▁꼼데가르송'],\n",
       " ['▁꼼데가르송', '▁반팔'],\n",
       " ['▁여성', '▁꼼데가르송', '▁반팔티'],\n",
       " ['▁꼼데가르송', '▁컨버스'],\n",
       " ['▁꼼데가르송', '▁니트', '▁그레이', '▁l', '사이즈'],\n",
       " ['▁꼼데가르송', '▁더블', '도트', '하트', '▁화이트', '반팔티셔츠'],\n",
       " ['▁꼼데가르송', '▁긴팔'],\n",
       " ['▁꼼데가르송', '▁반팔티', '▁이미'],\n",
       " ['▁꼼데가르송', '▁pvc', '▁페브릭', '백'],\n",
       " ['▁꼼데가르송', '▁셔츠', '▁여성', 's'],\n",
       " ['▁꼼데가르송', '▁반팔티'],\n",
       " ['▁꼼데가르송', '▁그레이', '▁반팔티', '▁더블와펜', '▁남여공용'],\n",
       " ['▁꼼데가르송', '▁반팔티', '▁블랙', '▁리버스', '▁화이트', '라인', '하트'],\n",
       " ['▁꼼데가르송', '▁스트라이프', '▁블랙', '▁단가라', '▁더블하트', '▁와펜', '▁반팔티'],\n",
       " ['▁꼼데가르송', '▁스트라이프', '▁여자', '셔츠', '▁s'],\n",
       " ['▁정품', '▁꼼데가르송', '▁플레이', '드', '믹스', '▁윈드브레이커'],\n",
       " ['▁꼼데가르송', '▁티셔츠', '▁블루', '▁빅', '▁카모', '▁하트', '▁반팔티', '▁그레이'],\n",
       " ['▁일본정품', '▁꼼데가르송', '▁정품', '▁여성용', '▁블랙와펜', '▁네이비', '▁스트라이프', '▁셔츠', 'm'],\n",
       " ['▁꼼데가르송', '▁알파벳', '▁낙서', '▁블랙', '▁하트', '▁반팔티'],\n",
       " ['▁꼼데가르송', '▁play', '▁골드와펜', '▁반팔티셔츠'],\n",
       " ['▁꼼데가르송', '▁긴팔티'],\n",
       " ['▁꼼데가르송', '▁가디건', '▁네이비', '▁l'],\n",
       " ['▁꼼', '대', '▁가디건', '▁l'],\n",
       " ['▁꼼데가르송', '▁반팔', '▁티셔츠', '▁도트', '▁하', '단', '하트', '▁레드와펜'],\n",
       " ['▁꼼데가르송', '▁옴므', '▁블레이저', '▁자켓'],\n",
       " ['▁꼼데가르송', '▁가디건', '▁판매'],\n",
       " ['▁꼼데가르송', '▁반지갑', '▁꼼데', '▁지갑'],\n",
       " ['▁최저가', '▁입니다', '▁정품', '▁꼼데가르송', '▁셔츠', '▁가디건', '▁보더티', '▁반팔티'],\n",
       " ['▁꼼데가르송', '▁블랙', '▁4', '▁하트', '▁그레이', '▁반팔티'],\n",
       " ['▁꼼데가르송', '▁반팔티'],\n",
       " ['▁꼼데가르송', '▁셔츠'],\n",
       " ['▁일본정품', '▁꼼데가르송', '▁여자', '▁보더티', '▁그린', '▁l'],\n",
       " ['▁꼼데가르송', 'st', '▁라운드티', '▁레드와펜'],\n",
       " ['▁꼼데가르송', '▁셔츠', '▁라인', '▁스트라이트', '▁티셔츠', '▁s', '사이즈', '▁새제품', '▁판매합니다'],\n",
       " ['▁꼼데', '▁커플', '▁셔츠'],\n",
       " ['▁꼼데가르송', '▁골드와펜', '▁반팔티'],\n",
       " ['▁꼼데가르송', '▁반팔티', '▁네이비', '▁리버스', '▁화이트', '라인', '하트'],\n",
       " ['▁꼼데가르송', '▁반팔셔츠', '▁comme', 'de', 's', 'gar', 'con', 's', '▁vintage'],\n",
       " ['▁comme', '▁des', '▁garcons', '▁꼼데가르송', '▁가디건'],\n",
       " ['▁디젤',\n",
       "  '▁롱슬리브',\n",
       "  '▁맨투맨',\n",
       "  '▁아카이브',\n",
       "  '▁꼼데가르송',\n",
       "  '▁미',\n",
       "  '하',\n",
       "  '리쉬',\n",
       "  '▁언더커버',\n",
       "  '▁그런지룩'],\n",
       " ['▁꼼데가르송', '▁정품', '▁pk', '티셔츠', '▁100', '사이즈'],\n",
       " ['▁꼼데가르송', '▁티셔츠', '▁퍼플', '▁하트', '▁반팔티'],\n",
       " ['▁꼼데가르송', '▁스트라이프', '▁레드', '▁단가라', '▁레드', '하트', '▁와펜', '▁반팔티'],\n",
       " ['▁꼼데가르송', '▁블랙', '패치', '▁반팔티'],\n",
       " ['▁꼼데가르송', '▁더블', '카모', '하트', '▁화이트', '반팔티셔츠'],\n",
       " ['▁꼼데가르송', '▁와펜', '▁반팔', '▁티셔츠'],\n",
       " ['▁s', '▁꼼데가르송', '▁반팔', '▁s', '사이즈'],\n",
       " ['▁꼼데가르송', '▁더블와펜', '▁그레이', '▁m', '▁사이즈', '▁판매합니다'],\n",
       " ['▁꼼데가르송', '▁빅아이', '▁프린트', '▁play', '로고', '▁네이비', '▁반팔티'],\n",
       " ['▁꼼데가르송', '▁컨버스', '▁235'],\n",
       " ['▁꼼데가르송', '▁굿', '디자인', '샵', '▁cdg', '▁써클', '로고', '▁반팔티'],\n",
       " ['▁꼼데가르송', '▁여성', '▁가디건', '▁정품', 'm', '사이즈'],\n",
       " ['▁꼼데가르송', '▁후드집업'],\n",
       " ['▁꼼데가르송', '▁티셔츠', '▁카모', '▁하트', '▁반팔티'],\n",
       " ['▁일본정품', '▁꼼데가르송', '▁여성', '▁반팔', '▁블랙', '▁레드와펜', '▁l'],\n",
       " ['▁꼼데가르송', 'st', '▁단가라', '▁반팔', '▁티셔츠'],\n",
       " ['▁꼼데', '▁도트', '▁pk', '티셔츠'],\n",
       " ['▁꼼데가르송', '▁반팔', '▁티셔츠', '▁블랙', '▁레드와펜', '▁남여공용'],\n",
       " ['▁꼼데가르송', '▁커플', '1', '▁1', '▁채', '스트', '와펜'],\n",
       " ['▁꼼데가르송',\n",
       "  '▁가디건',\n",
       "  '11',\n",
       "  '월',\n",
       "  '20',\n",
       "  '일',\n",
       "  '▁안에',\n",
       "  '▁사',\n",
       "  '시면',\n",
       "  '▁18',\n",
       "  '로',\n",
       "  '해드려요'],\n",
       " ['▁꼼데가르송', 'st', '▁반팔', '▁카라티', '▁블랙', '▁레드와펜'],\n",
       " ['▁꼼데가르송', '▁싱글', '하트', '▁카라티'],\n",
       " ['▁꼼데가르송'],\n",
       " ['▁꼼데가르송', '▁하트', '카라', '▁반팔티'],\n",
       " ['▁꼼데가르송', '▁반팔티'],\n",
       " ['▁꼼데가르송', '▁가디건', '팔아여', '▁상태', '▁9', '이상'],\n",
       " ['▁꼼데', '▁나이키', '▁블레이져', '▁270', '사이즈'],\n",
       " ['▁초특가',\n",
       "  '▁아디다스',\n",
       "  '▁슈프림',\n",
       "  '▁스톤아일랜드',\n",
       "  '▁y',\n",
       "  '▁3',\n",
       "  '▁꼼데',\n",
       "  '▁언더커버',\n",
       "  '▁콜라보',\n",
       "  '상품'],\n",
       " ['▁꼼데', '▁콜라보', '▁pvc', '▁가방'],\n",
       " ['▁꼼데', '▁가디건'],\n",
       " ['▁긴', '자', '▁꼼데가르송', '▁꼼데', '티', '▁영수증', '포함'],\n",
       " ['▁에눌가능', '▁꼼데가르송', '▁여자', '▁l', '▁사이즈', '▁레드와펜', '▁반팔티'],\n",
       " ['▁꼼데가르송', '▁후드집업'],\n",
       " ['▁꼼데', '▁티'],\n",
       " ['▁꼼데가르송', '▁후드'],\n",
       " ['▁여성', 's', '▁꼼데가르송', '▁1', '▁2', '▁라운드', '▁티셔츠'],\n",
       " ['▁꼼데가르송', '▁가디건'],\n",
       " ['▁꼼데가르송', '▁단가라', '▁티셔츠', '▁판매합니다'],\n",
       " ['▁꼼데', '티셔츠'],\n",
       " ['▁꼼데가르송', '▁반팔티', '▁커플티'],\n",
       " ['▁꼼데가르송', '▁컴버스', '▁인기', '제품', '89', '▁000', '원'],\n",
       " ['▁꼼데', '반팔'],\n",
       " ['▁280', '▁일본', '▁한정', '▁신상', '▁꼼데가르송', '▁컨버스'],\n",
       " ['▁꼼데가르송', '▁척테일러', '▁구매합니다'],\n",
       " ['▁꼼데가르송', '▁레드', '하트', '▁프린트', '▁반팔티', '▁그레이'],\n",
       " ['▁꼼데가르송', '▁가디건', '▁나시', '▁세트'],\n",
       " ['▁꼼데가르송', '▁긴팔'],\n",
       " ['▁꼼데가르송', '▁땡땡이', '▁포인트', '▁레드', '▁하트', '▁티셔츠', '▁반팔티', '▁블랙'],\n",
       " ['▁1', '▁1', '▁꼼데가르송', '▁19', 's', '▁s', '▁st', '▁코튼', '▁100', '▁반팔티셔츠'],\n",
       " ['▁꼼데', '컨버스', '230'],\n",
       " ['▁정품', '▁남성', '▁꼼데가르송', '▁반팔티', '▁새상품', '▁최저가'],\n",
       " ['▁꼼데가르송', '▁홀리데이', '▁e', 'mo', 'ji', '▁낙서', '▁하트', '▁반팔티', '▁화이트'],\n",
       " ['▁꼼데', '▁하트', '▁카라티', '▁풀라벨'],\n",
       " ['▁꼼데가르송', '▁셔츠', '▁라인', '▁스트라이트', '▁티셔츠', '▁s', '사이즈', '▁새제품', '▁판매합니다'],\n",
       " ['▁꼼데가르송', '▁t', 'pu', '▁pvc', '백'],\n",
       " ['▁꼼데가르송', '▁반팔티'],\n",
       " ['▁꼼데가르송'],\n",
       " ['▁꼼데가르송', '▁카라티'],\n",
       " ['▁꼼데가르송', '▁스트라이프', '▁셔츠'],\n",
       " ['▁꼼데가르송', '▁티셔츠', '▁그린', '하트', '▁반팔티'],\n",
       " ['▁싸게팜', '▁꼼데', '와이셔츠', '▁꼼데', '흰', '셔츠', '▁쿨거래', '▁쇼핑백', '도', '▁포함'],\n",
       " ['▁꼼데가르송', '▁반팔', '▁u', '넥', '▁화이트', '▁레드와펜', '그래픽', '▁l', '▁새상품'],\n",
       " ['▁꼼데가르송', '▁셔츠'],\n",
       " ['▁꼼데가르송', '▁가디건', '▁남자', '▁m'],\n",
       " ['▁꼼데', '▁19', 's', '▁s', '▁트랙', '▁집업자켓', '▁l', '사이즈'],\n",
       " ['▁꼼데가르송', '▁홀리데이', '▁e', 'mo', 'ji', '▁5', '하트', '▁반팔티', '▁화이트'],\n",
       " ['▁꼼데가르송', '▁반팔티', '▁파스텔', '▁하트', '▁티셔츠'],\n",
       " ['▁2',\n",
       "  '009',\n",
       "  '년도',\n",
       "  '▁꼼데가르송',\n",
       "  '▁2',\n",
       "  '003',\n",
       "  '년',\n",
       "  '▁복각',\n",
       "  '▁love',\n",
       "  '▁feel',\n",
       "  'ing',\n",
       "  '▁프린팅',\n",
       "  '▁티'],\n",
       " ['▁꼼데가르송', '▁긴팔'],\n",
       " ['▁꼼데가르송', '▁셔츠', '▁xl'],\n",
       " ['▁sml', '▁3', 'color', '▁꼼데가르송', '▁패치', '▁티셔츠'],\n",
       " ['▁꼼데가르송', '▁보더티'],\n",
       " ['▁꼼데가르송', '▁가디건', '▁베이지', '▁xl', '▁사이즈', '▁l', '로', '▁교환', '▁원합니다'],\n",
       " ['▁꼼대가르송', '▁플레이', '▁블랙', '▁하트', '▁반팔티셔츠'],\n",
       " ['▁4',\n",
       "  '월',\n",
       "  '이벤트',\n",
       "  '▁6',\n",
       "  '번',\n",
       "  '▁꼼데',\n",
       "  '▁19',\n",
       "  's',\n",
       "  '▁s',\n",
       "  '▁레드',\n",
       "  '하트',\n",
       "  '▁도트',\n",
       "  '▁pk',\n",
       "  '반팔'],\n",
       " ['▁셔츠', '▁구매합니다', '▁발렌', '▁꼼데', '▁등', '▁구매해요'],\n",
       " ['▁꼼데가르송', '▁정품', '▁s', '▁여자', '▁셔츠', '▁착용컷'],\n",
       " ['▁꼼데가르송', '▁티셔츠', '▁화이트', '하트', '▁꼼데', '반팔'],\n",
       " ['▁꼼데가르송', '▁반팔티', '▁xl'],\n",
       " ['▁꼼데가르송', '▁스트라이프', '▁셔츠', '▁네이비', '▁더블와펜'],\n",
       " ['▁꼼데가르송', '▁스몰', '와펜'],\n",
       " ['▁2', '종', '▁꼼데가르송', '▁스니커즈'],\n",
       " ['▁꼼데가르송', '▁그레이', '▁긴팔', '▁티셔츠', '▁블랙와펜', '▁남여공용'],\n",
       " ['▁꼼데가르송', '▁스트라이프', '▁셔츠'],\n",
       " ['▁꼼데가르송', '▁불랙', '▁긴팔', '▁티셔츠', '▁레드와펜', '▁남여공용'],\n",
       " ['▁꼼데가르송', '▁x', '▁컨버스', '▁척테일러'],\n",
       " ['▁꼼데가르송', '▁옴므', '▁de', 'u', 'x', '▁체크패턴', '무늬', '▁남방셔츠'],\n",
       " ['▁꼼데가르송', '▁가디건', '▁l', '▁블랙'],\n",
       " ['▁꼼데가르송', '▁플레이', '▁아이', '▁티셔츠'],\n",
       " ['▁꼼데가르송', '▁보더티'],\n",
       " ['▁꼼데가르송', '▁레드', '하트', '▁로고', '▁레드', '▁와펜', '▁반팔티'],\n",
       " ['▁꼼데가르송', '▁정품', '▁컨버스'],\n",
       " ['▁꼼데가르송', '▁가디건'],\n",
       " ['▁꼼데가르송', '▁컨버스', '▁정품'],\n",
       " ['▁꼼데', '티셔츠'],\n",
       " ['▁꼼데가르송', '▁st', '▁반팔티'],\n",
       " ['▁꼼데가르송', '셔츠', '▁핑크', '▁셔츠', '▁레드와펜'],\n",
       " ['▁jpn', '▁빈티지', '▁아카이브', '▁꼼데가르송', '▁언더커버', '▁셔츠'],\n",
       " ['▁꼼데가르송', '▁cdg', '▁shirt', '▁boy', 's', '▁반팔', '▁m', '▁가격인하'],\n",
       " ['▁꼼데가르송', '셔츠', '▁블랙', '▁레드와펜'],\n",
       " ['▁꼼데가르송', '컨버스'],\n",
       " ['▁꼼데가르송', '▁프랑스', '판', '▁포켓', '▁컬러', '▁셔츠', '▁남방'],\n",
       " ['▁여성', '▁꼼데가르송', '▁카라티', '▁화이트', '▁레드와펜', '▁l', '사이즈'],\n",
       " ['▁꼼데가르송', '▁반팔', '▁티셔츠', '▁그레이', '▁골드', '▁하트', '▁와펜', '▁남여공용'],\n",
       " ['▁꼼데가르송', '▁후드집업', '▁거의새거'],\n",
       " ['▁정품', '▁꼼데가르송', '▁스트라이프', '▁남성', '▁남방'],\n",
       " ['▁꼼데가르송', '▁유럽판', '▁크롭', '▁티셔츠'],\n",
       " ['▁꼼데가르송', '▁셔츠'],\n",
       " ['▁꼼데', '▁집업'],\n",
       " ['▁정품', '▁꼼데가르송', '▁도트', '티'],\n",
       " ['▁꼼데가르송', '▁땡땡이', '하트', '▁반팔'],\n",
       " ['▁여성', '▁꼼데가르송', '▁반팔티'],\n",
       " ['▁꼼데가르송', '▁레드', '하트', '▁레드', '▁하트', '▁와펜', '▁반팔', '▁티셔츠'],\n",
       " ['▁꼼데가르송', '▁반팔'],\n",
       " ['▁꼼데가르송', '▁가디건'],\n",
       " ['▁꼼데가르송', '▁완전새제품', '▁l', '▁xl'],\n",
       " ['▁꼼데가르송', '▁그레이', '▁카라', '▁티셔츠'],\n",
       " ['▁꼼데가르송', '▁카라티', '▁폴로셔츠', '▁그린', '하트', '▁블랙', '▁반팔티'],\n",
       " ['▁맥시', '밀리', '언', '▁언더커버', '▁꼼데가르송', '▁아카이브', '▁빈티지', '▁라프시몬스'],\n",
       " ['▁cdg', '▁꼼데가르송', '▁판매합니다', '▁사이즈', 'm', '▁90', '▁95'],\n",
       " ['▁꼼데가르송', '▁긴팔', '▁티셔츠', '▁화이트', '▁레드와펜', '▁남여공용'],\n",
       " ['▁꼼데가르송', '▁스트라이프', '▁기본', '버전', '▁셔츠'],\n",
       " ['▁꼼데가르송', '▁후드티'],\n",
       " ['▁꼼데가르송', '▁다크네이비', '▁도트패턴', '▁긴팔셔츠'],\n",
       " ['▁꼼데가르송', '▁cdg', '로고', '▁반팔티'],\n",
       " ['▁꼼데가르송', '▁그레이', '▁맨투맨', '▁블랙', '▁하', '단', '하트', '▁블랙와펜'],\n",
       " ['▁꼼데', 'st'],\n",
       " ['▁꼼데가르송'],\n",
       " ['▁꼼데가르송', '▁신발'],\n",
       " ['▁꼼데가르송', '▁카라티', '▁폴로셔츠', '▁레드', '하트', '▁블랙', '▁반팔티'],\n",
       " ['▁꼼데', '셔츠', '▁s'],\n",
       " ['▁꼼데', 'st', '▁와펜', '▁카라티'],\n",
       " ['▁꼼데가르송', '▁여성', '▁가디건'],\n",
       " ['▁꼼데가르송', '▁맨투맨', '▁size', '▁free', '▁번장', '▁최저가'],\n",
       " ['▁꼼데', 'st', '▁레플리카', '▁티셔츠'],\n",
       " ['▁꼼데', '가', '▁송', '▁플레이', '▁거', '꾸', '로', '▁티셔츠'],\n",
       " ['▁꼼데가르송', '▁st', '▁니트', '▁가디건'],\n",
       " ['▁꼼데가르송', '▁정품', '▁남녀공용', '▁s', '사이즈'],\n",
       " ['▁꼼데가르송', '▁블랙', '▁스트라이프', '▁레드', '▁하트', '▁와펜', '▁긴팔', '▁티셔츠'],\n",
       " ['▁해피', '▁홀리데이', '▁한정판', '▁구찌', '▁꼼데가르송', '▁콜라보', '▁pvc', '백'],\n",
       " ['▁꼼데가르송', '▁블랙', '라인', '▁하', '단', '하트', '▁레드', '▁하트', '▁와펜', '▁낙서', '▁맨투맨'],\n",
       " ['▁에어팟키링', '▁꼼데', 'st', '▁키링'],\n",
       " ['▁꼼데가르송', '▁화이트', '▁후드집업', '▁블랙', '▁하트', '▁와펜', '▁블랙', '▁하트', '▁패턴'],\n",
       " ['▁꼼데가르송', '▁면', '▁슬라브', '▁7', '부', '▁셔츠'],\n",
       " ['▁꼼데', '반팔티'],\n",
       " ['▁꼼데가르송', '▁반팔'],\n",
       " ['▁comme', '▁des', '▁garcons', '▁꼼데가르송', '▁반팔', '▁티셔츠'],\n",
       " ['▁4',\n",
       "  '월',\n",
       "  '이벤트',\n",
       "  '▁6',\n",
       "  '번',\n",
       "  '▁꼼데',\n",
       "  '▁19',\n",
       "  's',\n",
       "  '▁s',\n",
       "  '▁레드',\n",
       "  '하트',\n",
       "  '▁도트',\n",
       "  '▁pk',\n",
       "  '반팔'],\n",
       " ['▁sale', '▁정품', '▁꼼데가르송', '▁울', '▁밴딩', '▁스커트', '▁여성', 'm'],\n",
       " ['▁꼼데가르송', '▁블랙', '▁하트', '▁프린트', '▁반팔', '▁티셔츠'],\n",
       " ['▁꼼데가르송', '▁커플', '▁카라티셔츠', '▁1', '▁1'],\n",
       " ['▁꼼데가르송', '▁여자', '▁가디건', '▁새', '▁상품', '▁판매합니다'],\n",
       " ['▁정품', '▁꼼데가르송', '▁스트라이프', '▁셔츠'],\n",
       " ['▁꼼데가르송', '▁레드', '▁더블하트', '▁그레이', '▁반팔티'],\n",
       " ['▁남여공용', '▁기획', '▁최저가', '▁꼼데가르송', '▁pk', '▁카라티'],\n",
       " ['▁꼼데가르송', '▁정품', '▁티셔츠'],\n",
       " ['▁꼼데가르송'],\n",
       " ['▁꼼데가르송', '▁회색', '▁긴팔티'],\n",
       " ['▁꼼데가르송', '▁보이즈', '▁후드', '▁s'],\n",
       " ['▁꼼데가르송', '▁cdg', '▁굿', '디자인', '▁커플', '티셔츠'],\n",
       " ['▁꼼데가르송', '▁챠콜', '▁가디건'],\n",
       " ['▁꼼데', '▁보더티'],\n",
       " ['▁꼼데', '▁반팔', '▁풀라벨'],\n",
       " ['▁꼼데가르송', '▁카라티', '▁폴로셔츠', '▁블랙', '하트', '▁블랙', '▁반팔티'],\n",
       " ['▁꼼데가르송', '▁맨투맨', '▁화이트', '▁더블', '▁하트', '▁와펜', '▁남여공용'],\n",
       " ['▁싸게팜', '▁꼼데', '와이셔츠', '▁꼼데', '흰', '셔츠', '▁쿨거래', '▁쇼핑백', '도', '▁포함'],\n",
       " ['▁꼼데', '▁스트라이프', '▁셔츠', '▁여성', '▁l'],\n",
       " ['▁꼼데가르송', '▁맨투맨', '▁블랙', '▁더블', '▁하트', '▁와펜', '▁남여공용'],\n",
       " ['▁꼼데가르송', '▁그레이', '▁후드티', '▁블랙', '▁하트', '▁와펜', '▁남여공용'],\n",
       " ['▁꼼데가르송', '▁반팔티', '▁빅', '레드', '백', '하트', '▁티셔츠'],\n",
       " ['▁꼼데', '▁컨버스', '▁아이보리', '▁275'],\n",
       " ['▁2', '001', '년도', '▁꼼데가르송', '▁', 'ete', '▁핸드', '▁프린팅', '▁반팔', '▁티셔츠'],\n",
       " ['▁컨버스', 'x', '꼼데가르송', '▁꼼데', '컨버스'],\n",
       " ['▁정품', '▁미개봉', '▁꼼데가르송', '▁반팔티', '▁화이트', '▁빅하트', '▁레드와펜'],\n",
       " ['▁초고퀄', '▁꼼데', '▁베이직', '▁티셔츠'],\n",
       " ['▁꼼데가르송', '▁핑크', '▁셔츠', '▁더블', '▁하트', '▁와펜'],\n",
       " ['▁엑소', '신발', '▁꼼데가르송', '▁컨버스', '▁오레오', '▁검흰', '▁팝니당', '▁220'],\n",
       " ['▁꼼데가르송', 'l', '후드', '▁레드와펜'],\n",
       " ['▁꼼데가르송', '▁화이트와펜'],\n",
       " ['▁꼼데', '▁가르송', '▁베이직', '▁반팔', '▁카라티'],\n",
       " ['▁최저가', '▁입니다', '▁정품', '▁꼼데가르송', '▁셔츠', '▁가디건', '▁보더티', '▁반팔티'],\n",
       " ['▁준야', '▁와타나베', '▁꼼데가르송', '▁치마'],\n",
       " ['▁2', 'color', '▁꼼데', '▁cdg', '▁반팔티셔츠'],\n",
       " ['▁꼼데가르송', '▁남성', '▁가디건', '▁화이트와펜'],\n",
       " ['▁정품', '▁꼼데가르송', '▁m', '사이즈'],\n",
       " ['▁꼼데가르송'],\n",
       " ['▁꼼데가르송', '▁더블하트', '▁와펜', '▁그레이', '▁니트', '▁가디건'],\n",
       " ['▁꼼데', '컨버스', '▁255'],\n",
       " ['▁꼼데가르송', '▁싱글', '하트', '▁카라티'],\n",
       " ['▁일본', '▁매장', '▁정품', '▁꼼데가르송', '▁280', '▁285', '▁사이즈', '▁팔아요'],\n",
       " ['▁꼼데가르송', '▁플레이', '▁블랙', '▁하트', '▁와펜', '▁그레이', '▁반팔티'],\n",
       " ['▁comme', '▁des', '▁garcons', '▁꼼데가르송'],\n",
       " ['▁꼼데가르송', 'st', '▁신상', '▁pk', '▁반팔', '▁카라티', '▁남여공용'],\n",
       " ['▁꼼데가르송'],\n",
       " ['▁꼼데가르송', '▁후드집업', '▁블랙', '▁홀리데이', '▁e', 'mo', 'ji', '▁로고', '▁남여공용'],\n",
       " ['▁정품', '▁꼼데가르송', '▁반팔', '▁xs', '사이즈'],\n",
       " ['▁꼼데', '▁정품', '▁반팔티셔츠', '_', '문의', '▁주세요', '▁하트', '만', '▁', '많음'],\n",
       " ['▁꼼데가르송', '▁린넨바지', '▁1', '▁1'],\n",
       " ['▁2017', '년도', '▁꼼데가르송', '▁준야와타나베', '▁p', 'oem', '▁반팔', '▁티셔츠'],\n",
       " ['▁꼼데가르송', '▁플레이', '▁스트라이프', '▁정품', '▁티셔츠', '▁레드', '▁s'],\n",
       " ['▁꼼데가르송', '▁맨투맨', '▁리버스', '로고', '▁긴팔', '▁블랙'],\n",
       " ['▁꼼데', '반팔', '▁초록', '▁여자', 'l'],\n",
       " ['▁꼼데가르송', '▁레드', '하트', '▁와펜', '▁니트', '▁가디건', '▁블랙'],\n",
       " ['▁꼼데가르송', '▁cdg', '▁로고', '▁티셔츠'],\n",
       " ['▁s', '▁꼼데가르송', '▁그레이', '▁블랙와펜', '▁반팔', '▁카라티'],\n",
       " ['▁꼼데가르송', '▁옴므', '플러스', '▁2', '009', 'aw'],\n",
       " ['▁꼼데가르송', '▁반팔티', '▁커플티'],\n",
       " ['▁jun', 'ya', '▁w', 'at', 'ana', 'be', '▁comme', '▁des', '▁garcons'],\n",
       " ['▁꼼데', '▁라운드', '▁가디건'],\n",
       " ['▁ca',\n",
       "  'm',\n",
       "  'br',\n",
       "  'id',\n",
       "  'ge',\n",
       "  'co',\n",
       "  'mp',\n",
       "  'any',\n",
       "  '▁아카이브',\n",
       "  '▁빈티지',\n",
       "  '▁니트',\n",
       "  '▁언더커버',\n",
       "  '▁꼼데가르송'],\n",
       " ['▁꼼데가르송', '▁후드집업', '▁매장판'],\n",
       " ['▁꼼데가르송', '▁보더티'],\n",
       " ['▁꼼데가르송', '▁플레이', '▁블랙', '▁하트', '▁와펜', '▁반팔티'],\n",
       " ['▁cl', 'ama', 'lip', '▁셔츠', '▁언더커버', '▁아카이브', '▁꼼데가르송', '▁빈티지'],\n",
       " ['▁꼼데가르송', '▁e', 'mo', 'ji', '▁하트', '▁포인트', '▁반팔', '▁티셔츠'],\n",
       " ['▁꼼데가르송', '▁반팔', '▁티셔츠', '▁블랙', '▁골드', '▁하트', '▁와펜', '▁남여공용'],\n",
       " ['▁꼼데', '▁반팔', '▁카라'],\n",
       " ['▁꼼데가르송', '▁반팔티'],\n",
       " ['▁꼼데', '▁반팔'],\n",
       " ['▁꼼데가르송', '▁카', '무', '▁쓰리', '하트', '▁그레이', '▁반팔티'],\n",
       " ['▁꼼데가르송', '▁반팔', '▁티셔츠', '▁레드', '▁하', '단', '하트', '▁레드와펜'],\n",
       " ['▁정품', '▁꼼데가르송', '▁정품', '▁셔츠'],\n",
       " ['▁꼼데', '▁단가라', '▁반팔', '▁풀라벨', '▁오늘만', '할인', '특가'],\n",
       " ['▁꼼데가르송', '▁화이트', '▁반팔티', '▁더블와펜', '▁남여공용'],\n",
       " ['▁꼼데가르송', '▁네이비', '▁반팔티', '▁더블와펜', '▁남여공용'],\n",
       " ['▁230', '▁나이키', '▁꼼데가르송', '▁샥스', '▁화이트'],\n",
       " ['▁꼼데가르송', '▁레드', '▁스트라이프', '▁더블', '▁하트', '▁와펜', '▁긴팔', '▁티셔츠'],\n",
       " ['▁꼼데가르송', '▁티셔츠', '▁빅아이', '▁프린트', '▁play', '로고', '▁블랙', '▁반팔티'],\n",
       " ['▁꼼데가르송', '▁홀리데이', '▁e', 'mo', 'ji', '▁삼색', '하트', '▁반팔티'],\n",
       " ['▁꼼데가르송', '▁play', '▁반팔'],\n",
       " ['▁꼼데가르송', '▁블랙', '▁후드집업', '▁레드와펜', '▁남여공용'],\n",
       " ['▁꼼데가르송', '▁레드', '하트', '▁와펜', '▁네이비', '▁니트', '▁가디건'],\n",
       " ['▁xl', '▁꼼데가르송', '▁반팔', '▁티셔츠', '▁정품', '▁매장', '새제품'],\n",
       " ['▁정품', '▁꼼데가르송', '▁여성', '▁라지'],\n",
       " ['▁꼼데가르송', '▁굿', '디자인', '샵', '▁l'],\n",
       " ['▁꼼데가르송', '▁가디건', '▁xl'],\n",
       " ['▁꼼데가르송', '▁얼룩', '이', '▁티셔츠'],\n",
       " ['▁꼼데', '▁가르송', '▁19', '▁s', '▁s', '▁pk', '▁카라티', '▁6', 'color'],\n",
       " ['▁꼼데가르송', '▁컨버스', '▁정품', '▁판매', '할', '게', '여'],\n",
       " ['▁꼼데', '반팔', '▁l', '팝니다'],\n",
       " ['▁준야', '▁와타나베', '▁꼼데가르송', '▁펀칭', '▁블라우스'],\n",
       " ['▁꼼데가르송',\n",
       "  '▁레드',\n",
       "  '▁e',\n",
       "  'mo',\n",
       "  'ji',\n",
       "  '▁하트',\n",
       "  '▁프린트',\n",
       "  '▁레드',\n",
       "  '▁하트',\n",
       "  '▁와펜',\n",
       "  '▁맨투맨'],\n",
       " ['▁꼼데가르송', '▁남자', '반팔티'],\n",
       " ['▁꼼데가르송', '▁레이어드', '▁포멀', '▁자켓', '▁m'],\n",
       " ['▁l', '▁꼼데가르송', '▁그레이', '▁하트', '▁로고', '와펜', '▁집업'],\n",
       " ['▁정품', '▁꼼데가르송', '▁준야와타나베', '▁아카이브', '▁패턴', '▁반팔', '▁티셔츠'],\n",
       " ['▁꼼데', '카라티'],\n",
       " ['▁꼼데가르송', '▁셔츠'],\n",
       " ['▁꼼데가르송',\n",
       "  '▁cdg',\n",
       "  '▁로고',\n",
       "  '▁남여공용',\n",
       "  '▁블랙',\n",
       "  '▁후드집업',\n",
       "  '▁레드',\n",
       "  '▁블랙',\n",
       "  '▁아이',\n",
       "  '▁프린트'],\n",
       " ['▁꼼데가르송', '▁반팔'],\n",
       " ['▁꼼데가르송', '▁블랙색상', '▁반팔', '▁골드와펜'],\n",
       " ['▁꼼데가르송', '▁pvc', '백', '▁페이퍼', '▁쇼퍼백', '▁가격내림'],\n",
       " ['▁꼼데가르송', '▁사', '루', '엘', '▁팬츠', '▁blue', '▁de', '▁p', 'ana', 'me'],\n",
       " ['▁2', 'color', '▁꼼데가르송', '▁cdg', '▁그라데이션'],\n",
       " ['▁최저가', '▁입니다', '▁정품', '▁꼼데가르송', '▁셔츠', '▁가디건', '▁보더티', '▁반팔티'],\n",
       " ['▁꼼데가르송', '▁반팔'],\n",
       " ['▁꼼데', '▁더블', '▁와펜', '▁m', '사이즈', '▁급쳐합니다'],\n",
       " ['▁comme', '▁des', '▁garcons', '▁꼼데', '▁가르송', '▁자켓'],\n",
       " ['▁꼼데가르송', '▁화이트', '▁하트', '▁와펜', '▁블랙', '▁니트', '▁가디건'],\n",
       " ['▁꼼데가르송', '▁더블와펜', '▁가디건'],\n",
       " ['▁꼼데가르송', '▁그레이', '▁후드집업', '▁레드', '▁하트', '▁와펜', '▁플레이'],\n",
       " ['▁꼼데가르송', '▁화이트', '▁하트', '▁와펜', '▁그레이', '▁니트', '▁가디건'],\n",
       " ['▁정품', '▁여성', '▁꼼데가르송', '▁티', '2', '개', '▁합쳐서', '▁5', '에', '▁팝니다'],\n",
       " ['▁꼼데가르송', '▁레드', '하트', '▁로고', '▁레드', '▁와펜', '▁화이트', '▁맨투맨'],\n",
       " ['▁꼼데가르송', '▁체크', '▁셔츠', '▁레드', '▁블랙', '▁하트', '▁와펜'],\n",
       " ['▁꼼데', '▁와펜', '티', '▁교신가능'],\n",
       " ['▁꼼데가르송', '▁블랙와펜', '▁베이지', '▁가디건'],\n",
       " ['▁꼼데가르송', '▁반팔', '▁블랙', '▁양면', '블랙', '하트'],\n",
       " ['▁꼼데가르송', '▁티셔츠', '▁핑크', '▁하트', '▁반팔티'],\n",
       " ['▁꼼데가르송', '반팔티셔츠'],\n",
       " ...]"
      ]
     },
     "execution_count": 93,
     "metadata": {},
     "output_type": "execute_result"
    }
   ],
   "source": [
    "commedesgarcons"
   ]
  },
  {
   "cell_type": "code",
   "execution_count": 94,
   "metadata": {},
   "outputs": [
    {
     "name": "stdout",
     "output_type": "stream",
     "text": [
      "[['▁겐조'], ['▁kenzo'], ['▁갠조']]\n"
     ]
    }
   ],
   "source": [
    "kenzo = extract('겐조')"
   ]
  },
  {
   "cell_type": "code",
   "execution_count": 95,
   "metadata": {},
   "outputs": [
    {
     "data": {
      "text/plain": [
       "11338"
      ]
     },
     "execution_count": 95,
     "metadata": {},
     "output_type": "execute_result"
    }
   ],
   "source": [
    "len(kenzo)"
   ]
  },
  {
   "cell_type": "code",
   "execution_count": 96,
   "metadata": {},
   "outputs": [
    {
     "data": {
      "text/plain": [
       "[['▁겐조', '▁맨투맨'],\n",
       " ['▁겐조', '정품'],\n",
       " ['▁겐조', '▁플라워', '▁가디건', '▁66'],\n",
       " ['▁겐조', '▁실버', '▁자수', '▁타이거'],\n",
       " ['▁겐조', '▁숄더백', '▁', '가져가세여'],\n",
       " ['▁투명', '▁겐조', '▁클러치백'],\n",
       " ['▁겐조', '▁맨투맨'],\n",
       " ['▁무료배송', '▁kenzo', '▁타이거', '▁자수', '▁티셔츠'],\n",
       " ['▁겐조', '▁파', '정', '▁맨투맨', '▁팝니다'],\n",
       " ['▁겐조', '▁퍼퓸', '▁클러치', '▁파우치백'],\n",
       " ['▁겐조', '▁자수', '타이거', '▁블랙', '티'],\n",
       " ['▁겐조', '▁가디건'],\n",
       " ['▁m', '▁겐조', '▁눈알', '▁반팔티'],\n",
       " ['▁인기', '▁겐조', 'st', '▁스냅백'],\n",
       " ['▁겐조', '▁에스파듀', '▁슬립온'],\n",
       " ['▁겐조', '18', 'ss', '맨투맨'],\n",
       " ['▁kenzo', '▁반팔티'],\n",
       " ['▁겐조', '▁넥타이', '▁정품', '▁택포', '▁18', '▁000'],\n",
       " ['▁겐조', '▁반팔티셔츠'],\n",
       " ['▁갠조', '▁골드', '자', '주', '▁타이거'],\n",
       " ['▁겐조', '클러치', '▁한정판', '▁싸게', '▁드려요', '▁얼마', '▁안', '썻', '어요'],\n",
       " ['▁s', '▁겐조', '▁로고', '▁화이트', '▁반팔', '▁판매완료'],\n",
       " ['▁겐조', '▁에펠탑', '▁맨투맨', '▁실착', '▁3', '회', '▁미만'],\n",
       " ['▁겐조', '▁눈', '▁자수', '▁실켓', '▁반팔', '▁티셔츠'],\n",
       " ['▁19', 'ss', '▁겐조', '▁반팔티', '▁매장판', '▁공용'],\n",
       " ['▁겐조', '▁타이거', '로', '어', '▁맨투맨'],\n",
       " ['▁겐조', '▁맨투맨'],\n",
       " ['▁겐조', '▁pk', '티셔츠'],\n",
       " ['▁겐조', '▁뉴', '▁타이거', '▁후드'],\n",
       " ['▁겐조', 'st', '▁스냅백', '▁주말', '세일'],\n",
       " ['▁겐조', '▁클러치', '▁판매완료', '문의', 'x'],\n",
       " ['▁정품', '▁겐조', '▁상태', '▁s', '급', '▁m', '사이즈', '▁맨투맨', '▁판매합니다'],\n",
       " ['▁겐조', '▁반팔카라티', '▁인기', '색상', '▁정품', '▁가격내림', '▁매장', '구매', '가', '▁22', '만원'],\n",
       " ['▁겐조', '▁맨투맨'],\n",
       " ['▁kenzo', '▁빅', '타이거', '▁자수로고', '▁볼캡'],\n",
       " ['▁겐조', '▁후드티', '▁국내', '▁배송'],\n",
       " ['▁겐조', '▁엠보', '▁타이거', '▁반팔티'],\n",
       " ['▁겐조', '▁반팔티'],\n",
       " ['▁free', '▁겐조', '▁반팔티', '▁진짜', '▁이쁘', '다', '▁애드', '라'],\n",
       " ['▁m', '▁겐조', '▁포켓', '▁타이거', '▁데님', '▁셔츠', '▁새상품'],\n",
       " ['▁구찌', '▁청바지', '▁청자켓', '▁겐조', '▁후드'],\n",
       " ['▁겐조', '▁선글라스', '▁k', 'z', '30', '41', 'k', '▁01'],\n",
       " ['▁겐조', '▁티셔츠', '▁18', 'ss'],\n",
       " ['▁급매', '정품', '▁겐조', '▁네오프렌', '▁타이거', '▁맨투맨'],\n",
       " ['▁겐조', '▁정품', '▁95', '사이즈', '▁상태굿', '▁맨투맨티셔츠'],\n",
       " ['▁겐조', '▁골드', '타이거', '▁반팔'],\n",
       " ['▁겐조', '▁반팔티'],\n",
       " ['▁겐조', '▁모자'],\n",
       " ['▁l', '▁겐조', '▁18', 'ss', '▁화이트', '▁로고', '▁라운드', '▁니트', '▁새상품'],\n",
       " ['▁겐조', '▁클러치백'],\n",
       " ['▁최저마진', '▁겐조', '▁19', 's', '▁s', '▁레터링', '▁반팔티셔츠'],\n",
       " ['▁겐조', '▁19', 'fw', '▁30', '30', '▁블랙', '버전', '▁선글라스', '▁안경'],\n",
       " ['▁국내배송', '▁겐조', '▁타이거', '▁자수', '▁반팔티'],\n",
       " ['▁겐조', '▁타이거', '▁자수', '▁후드집업'],\n",
       " ['▁겐조', '▁클러치백', '▁판매합니다'],\n",
       " ['▁겐조', '▁블라우스'],\n",
       " ['▁정품', '▁겐조', '▁빅아이', '▁맨투맨'],\n",
       " ['▁kenzo', 'x', 'h', '▁m', '▁t', '▁shirt'],\n",
       " ['▁kenzo', '▁레인보우', '▁사각', '▁라운드'],\n",
       " ['▁겐조', '스냅백', '▁정품'],\n",
       " ['▁겐조', '▁타이거자수', '라운드', '반팔티'],\n",
       " ['▁겐조', '▁후드티', '▁겐조', '▁후드'],\n",
       " ['▁겐조', '▁세로', '▁로고', '▁맨투맨', '_', '특', '양면'],\n",
       " ['▁겐조', '▁타이거', '▁옐로우', '▁자수', '▁맨투맨'],\n",
       " ['▁겐조', '▁풀', '호랑이', '▁반팔티'],\n",
       " ['▁고홍', '닷컴', '▁n', '▁55', '75', '▁겐조', '▁매장판', '▁맨투맨', '▁티셔츠', '▁100'],\n",
       " ['▁겐조', '넥타이'],\n",
       " ['▁겐조', '▁속옷', '▁세트'],\n",
       " ['▁겐조', '▁타이거', '▁그린', '▁자수', '▁반팔티'],\n",
       " ['▁정품', '▁겐조', '▁빅아이', '▁맨투맨'],\n",
       " ['▁정품', '▁겐조', '▁선글라스'],\n",
       " ['▁s', '▁겐조', '▁18', 'ss', '▁화이트', '▁로고', '▁라운드', '▁니트', '▁새상품'],\n",
       " ['▁겐조', '▁올드스쿨'],\n",
       " ['▁겐조', '▁파리스', '▁로고', '▁반팔티'],\n",
       " ['▁겐조', '▁타이거', '▁반팔티'],\n",
       " ['▁겐조', '▁디즈니', '▁타이거', '▁맨투맨', '▁l'],\n",
       " ['▁all', '▁겐조', '▁톱', '니', '바퀴', '▁반팔'],\n",
       " ['▁겐조', '▁맨투맨', '▁18', 'fw'],\n",
       " ['▁겐조', '▁파리스', '▁나염', '▁반팔티'],\n",
       " ['▁정품', '▁겐조', '▁빅아이', '▁맨투맨'],\n",
       " ['▁겐조', '▁빅아이', '▁맨투맨', '▁여성', 's'],\n",
       " ['▁겐조', '타이거', '자수로고', '슬립온'],\n",
       " ['▁겐조', '▁여성시계'],\n",
       " ['▁겐조', '니트', '세트', '▁ᅳ', '55', '▁66'],\n",
       " ['▁s', '▁겐조', '▁타이거', '▁반팔티', '▁블루'],\n",
       " ['▁겐조', '▁선글라스'],\n",
       " ['▁kenzo', '▁미니', '▁타이거', '▁자수', '▁셔츠'],\n",
       " ['▁겐조', '▁반팔티'],\n",
       " ['▁겐조', '▁정품', '▁카라티'],\n",
       " ['▁겐조', '▁타이거', '▁팬티'],\n",
       " ['▁정품', '▁겐조', '▁빈티지', '▁투버튼', '▁자켓'],\n",
       " ['▁겐조', '▁맨투맨'],\n",
       " ['▁겐조', '▁블라우스'],\n",
       " ['▁겐조', '▁타이거', '▁후드집업'],\n",
       " ['▁정품', '▁겐조', '▁반팔티'],\n",
       " ['▁명품', '▁겐조', '▁정품'],\n",
       " ['▁국내배송', '▁겐조', '19', '▁ss', '▁레터링', '▁반팔티'],\n",
       " ['▁겐조', '▁여성용', '▁마', '▁스커트', '▁사이즈', '40'],\n",
       " ['▁겐조', '▁클러치', '▁팔아요'],\n",
       " ['▁겐조', 'm', '사이즈', '▁급처'],\n",
       " ['▁h', '▁m', '▁kenzo', '▁콜라보', '▁팔찌', '▁주황'],\n",
       " ['▁겐조', '▁풀', '라운드', '▁반팔티'],\n",
       " ['▁겐조', '▁반팔티'],\n",
       " ['▁겐조', '▁맨투맨', '▁레플'],\n",
       " ['▁겐조', '▁맨투맨'],\n",
       " ['▁겐조', '▁일본판', '▁로고', '_', '반팔', '▁티셔츠'],\n",
       " ['▁겐조', '▁골드', '자수', '▁타이거'],\n",
       " ['▁겐조', '▁도금', '브로치'],\n",
       " ['▁겐조', '▁자수', '▁반팔'],\n",
       " ['▁갠조', '▁실버', '자수', '▁타이거'],\n",
       " ['▁꼼데', '▁겐조'],\n",
       " ['▁겐조', '클러치'],\n",
       " ['▁겐조', '니트', '팝니다', '▁하자', 'x', '▁사이즈', 'l'],\n",
       " ['▁겐조', '파리', '맨투맨'],\n",
       " ['▁겐조', '▁골드', '자수', '▁타이거'],\n",
       " ['▁꼼데', '▁겐조'],\n",
       " ['▁겐조', '▁한정판', '▁맨투맨', '▁쿨거', '1', '장', '할인'],\n",
       " ['▁정품', '▁겐조', '▁정글', '타이거', '▁한정판', '▁뉴에라', '모자'],\n",
       " ['▁대구', '정품', '▁여성', '▁겐조', '▁맨투맨', '▁그레이'],\n",
       " ['▁겐조', '▁토드백', '▁ᅳ', '정품'],\n",
       " ['▁겐조', '▁뉴', '▁타이거', '▁맨투맨'],\n",
       " ['▁겐조', '타이거', '▁자수', '▁맨투맨'],\n",
       " ['▁겐조', '▁슬립온'],\n",
       " ['▁겐조', '▁한정판', '▁크리스마스', '에디션', '▁정품'],\n",
       " ['▁정품', '▁구찌', '▁꿀벌', '▁머니클립', '▁지갑', '▁몽클', '▁디퀘', '▁겐조', '▁스톤', '▁톰브'],\n",
       " ['▁겐조', '▁반팔티'],\n",
       " ['▁겐조', '▁블랙', '자수', '▁타이거'],\n",
       " ['▁겐조', '▁로고', '▁반팔티'],\n",
       " ['▁겐조', '▁네오프렌', '▁플랫폼', '▁슬라이드', '▁슬리퍼', '▁3', 'color'],\n",
       " ['▁겐조', '▁타이거', '▁맨투맨'],\n",
       " ['▁겐조', '▁맨투맨'],\n",
       " ['▁정품', '▁겐조', '▁스니커즈', '▁270', '▁새상품'],\n",
       " ['▁겐조'],\n",
       " ['▁겐조', '▁정품', '▁선글라스'],\n",
       " ['▁겐조', '▁빅', '▁타이거', '▁자수', '▁반팔티'],\n",
       " ['▁겐조', '▁선글라스'],\n",
       " ['▁정품', '▁겐조', '▁kenzo', '▁스커트', '▁new'],\n",
       " ['▁여', '55', '▁겐조'],\n",
       " ['▁겐조', '▁청자켓'],\n",
       " ['▁kenzo',\n",
       "  '▁빅',\n",
       "  '타이거',\n",
       "  '▁빅아이',\n",
       "  '로고',\n",
       "  '▁프린트',\n",
       "  '▁코튼',\n",
       "  '라운드',\n",
       "  '반팔',\n",
       "  '▁남녀공용',\n",
       "  '템'],\n",
       " ['▁겐조', '▁로고', '▁긴팔티', '▁_', '▁정', '사이즈'],\n",
       " ['▁정품', '▁겐조', '▁반팔'],\n",
       " ['▁겐조', '▁클러치'],\n",
       " ['▁겐조', '▁맨투맨'],\n",
       " ['▁겐조', '▁꼼데', '반팔'],\n",
       " ['▁급처', '▁겐조', '▁정품', '▁자켓', '▁44', '▁55'],\n",
       " ['▁m', '▁겐조', '▁18', 'ss', '▁화이트', '▁로고', '▁라운드', '▁니트', '▁새상품'],\n",
       " ['▁겐조', '▁정품', '▁여성', '맨투맨'],\n",
       " ['▁겐조', '▁바람막이'],\n",
       " ['▁겐조', '▁타이거', '▁자수', '▁로고', '▁반팔'],\n",
       " ['▁겐조', '▁19', 'fw', '▁멀티', '타이거', '▁반팔', '▁티셔츠'],\n",
       " ['▁겐조', '▁타이거', '▁자수', '▁라운드', '▁반팔티'],\n",
       " ['▁정품', '▁겐조', '▁타이거', '▁맨투맨', '▁상태굿'],\n",
       " ['▁겐조', '▁바람막이', '▁xl'],\n",
       " ['▁겐조', '▁반팔티'],\n",
       " ['▁겐조', '티', '▁겐조', '반팔티', '▁겐조', '티셔츠'],\n",
       " ['▁포틀랜드', '▁겐조', '▁타이거', '▁슬립온', '▁스니커즈', '▁kenzo'],\n",
       " ['▁겐조', '▁k', 'z', '▁30', '11', 'k', '▁01', '▁a', '모델', '입니다'],\n",
       " ['▁겐조', '▁후드티', '▁사이즈', '▁l'],\n",
       " ['▁겐조', '▁19', 's', '▁s', '▁레터링', '▁반팔티셔츠'],\n",
       " ['▁수지', '네', '▁구제', '▁겐조', '▁블랙', '▁울', '▁브이넥니트'],\n",
       " ['▁겐조', '▁로고', '반팔티'],\n",
       " ['▁겐조'],\n",
       " ['▁정품', '▁겐조', '▁전면', '▁로고', '▁퍼플', '▁반팔', '▁카라', '▁티셔츠'],\n",
       " ['▁겐조', '▁맨투맨'],\n",
       " ['▁겐조', '▁울', '스카프'],\n",
       " ['▁겐조', '▁타이거', '▁맨투맨'],\n",
       " ['▁겐조', '▁자수', '타이거', '▁실버', '반팔'],\n",
       " ['▁19', '▁ss', '▁겐조', '▁레인보우', '▁사각', '라운드'],\n",
       " ['▁일본', '▁정품', '▁겐조', '▁바람막이', '▁판매합니다'],\n",
       " ['▁19', 'ss', '▁겐조', '▁타이거', '▁후드집업'],\n",
       " ['▁겐조', '▁기모노', '스타일', '▁맨투맨', '▁팝니다'],\n",
       " ['▁235', '▁겐조', '▁타이거', '▁에스빠드류'],\n",
       " ['▁겐조', '▁후드집업', 'l', '사이즈', '▁사요'],\n",
       " ['▁겐조', '▁정품', '▁반팔'],\n",
       " ['▁겐조', '▁kenzo', '▁전면', '▁스몰로고', '▁퍼플', '▁카라티'],\n",
       " ['▁포틀랜드', '▁겐조', '▁타이거', '▁슬립온', '▁스니커즈', '▁2', '▁kenzo'],\n",
       " ['▁겐조', '▁멀티', '▁지수', '▁반팔티'],\n",
       " ['▁all', '▁겐조', '▁호랑이', '▁자수', '▁반팔'],\n",
       " ['▁겐조', '▁반팔티'],\n",
       " ['▁겐조', '지갑'],\n",
       " ['▁겐조', '▁h', '▁m', '▁콜라보', '▁숄더백'],\n",
       " ['▁겐조', '▁세일러', '▁크로스백'],\n",
       " ['▁한정판', '▁겐조', '▁h', '▁m', '▁콜라보', '▁맨투맨', '▁m', '사이즈', '▁kenzo'],\n",
       " ['▁여성', 'm', '▁겐조', '▁베스트'],\n",
       " ['▁겐조', '클러치', '▁삽니다'],\n",
       " ['▁겐조'],\n",
       " ['▁2018', '▁겐조', '▁맨투맨', '▁m', '▁사이즈'],\n",
       " ['▁겐조', '▁타이거', '▁반팔티'],\n",
       " ['▁겐조', '▁롱가디건'],\n",
       " ['▁정품', '▁겐조', '▁kenzo', '▁명품', '▁넥타이'],\n",
       " ['▁겐조', '셔츠'],\n",
       " ['▁겐조', '▁볼캡', '▁19', 'ss', '▁79', '▁000', '원'],\n",
       " ['▁겐조', '▁스틸', '패치', '로브', '자켓'],\n",
       " ['▁여성', 's', '▁겐조', '▁슬리브리스', '▁원피스'],\n",
       " ['▁겐조', '▁여성', '▁42', '▁자켓', '▁m', '▁66'],\n",
       " ['▁겐조', '▁클러치'],\n",
       " ['▁겐조', '▁사각', '▁레인보우', '▁나염', '▁반팔티'],\n",
       " ['▁겐조', '▁반팔티'],\n",
       " ['▁겐조', '▁금', '팔지'],\n",
       " ['▁겐조', '티셔츠'],\n",
       " ['▁부산', '▁겐조', '▁빅아이', '▁정품', '▁티', '▁엠', '사이즈'],\n",
       " ['▁정품', '▁겐조', '▁에펠탑', '▁맨투맨', '▁s', '사이즈', '▁판매합니다'],\n",
       " ['▁겐조', '▁타이거', '▁반팔', '▁티셔츠', '▁xl'],\n",
       " ['▁남자',\n",
       "  '▁명품',\n",
       "  '▁선글라스',\n",
       "  '▁겐조',\n",
       "  '▁선글라스',\n",
       "  '▁k',\n",
       "  'z',\n",
       "  '▁30',\n",
       "  '45',\n",
       "  '▁k',\n",
       "  '▁c',\n",
       "  '01'],\n",
       " ['▁겐조', '▁19', 'fw', '▁멀티', '타이거', '▁반팔', '▁티셔츠'],\n",
       " ['▁고홍', '닷컴', '▁p', '▁45', '55', '▁겐조', '▁정품', '▁청바지', '▁38'],\n",
       " ['▁정품', '▁겐조', '▁맨투맨'],\n",
       " ['▁겐조', '▁클러치백'],\n",
       " ['▁겐조', '▁맨투맨'],\n",
       " ['▁여성', '22', '▁겐조', '▁팬츠'],\n",
       " ['▁겐조', '▁클러치'],\n",
       " ['▁꼼', '대', '▁겐조', '▁옷팔아요', '▁겐조', '떨이', '해요', '▁돈', '이', '급', '해서'],\n",
       " ['▁겐조', '▁맨투맨'],\n",
       " ['▁겐조', '▁맨투맨'],\n",
       " ['▁겐조', '▁슬립온'],\n",
       " ['▁겐조', '▁클러치백'],\n",
       " ['▁갠조', '▁반팔티'],\n",
       " ['▁겐조', '티', '▁겐조', '반팔티', '▁겐조', '티셔츠'],\n",
       " ['▁겐조', '▁반바지'],\n",
       " ['▁겐조', '▁15', 'ss', '▁빅', '타이거', '▁맨투맨', '▁m'],\n",
       " ['▁겐조', '▁홀리데이', '▁한정판'],\n",
       " ['▁겐조'],\n",
       " ['▁여성', 's', '▁겐조', '▁슬리브리스', '▁원피스'],\n",
       " ['▁겐조', '▁반팔티셔츠'],\n",
       " ['▁겐조', '▁청바지'],\n",
       " ['▁겐조', '▁후드티셔츠'],\n",
       " ['▁겐조', '티', '▁겐조', '반팔티', '▁겐조', '티셔츠'],\n",
       " ['▁겐조', '▁점퍼', '▁m'],\n",
       " ['▁겐조', '▁슬리퍼'],\n",
       " ['▁겐조', '▁타이거', '▁자수로고', '▁반팔티'],\n",
       " ['▁겐조'],\n",
       " ['▁마르셀로', '▁닐바렛', '▁겐조', '▁등', '▁명품', '반팔', '▁삽니다', '▁가격', '연락주세요'],\n",
       " ['▁겐조', '▁반팔'],\n",
       " ['▁겐조', '▁에스파듀', '▁슬립온', '▁38', '사이즈', '▁240', '▁팝니다'],\n",
       " ['▁정품', '▁겐조', '▁선글라스', '▁kenzo', '▁핑크'],\n",
       " ['▁겐조', '▁반팔티'],\n",
       " ['▁겐조', '▁빈티지', '▁피케', '▁반팔', '▁카라', '▁티셔츠'],\n",
       " ['▁겐조', '정', '글', '▁여성', '▁반팔', '▁니트', '▁l'],\n",
       " ['▁수지', '네', '▁구제', '▁겐조', '▁블랙', '▁울', '▁브이넥니트'],\n",
       " ['▁남성', 's', '▁겐조', '▁1', '▁2', '▁카라', '▁티셔츠'],\n",
       " ['▁겐조', '▁로즈', '▁자수', '티'],\n",
       " ['▁겐조', '▁슬리퍼'],\n",
       " ['▁겐조', '▁맨투맨', '▁xl'],\n",
       " ['▁정품', '▁겐조', '▁블루', '캡', '▁사이즈', '▁m', '이구요', '▁겐조', '캡'],\n",
       " ['▁겐조', '▁자수', '클러치'],\n",
       " ['▁정품', '▁겐조', '▁맨투맨', '▁남성', '▁l'],\n",
       " ['▁겐조', '▁반팔티셔츠'],\n",
       " ['▁all', '▁겐조', '▁타이거', '▁와펜', '▁하프', '▁카라'],\n",
       " ['▁남성', '▁겐조', '반팔', '▁정품', '▁l', '사이즈'],\n",
       " ['▁겐조', '▁슬립온', '▁19', 'ss', '▁138', '▁000', '원'],\n",
       " ['▁겐조', '자수', '반팔티'],\n",
       " ['▁겐조', '▁에펠탑', '▁맨투맨'],\n",
       " ['▁겐조', '▁스니커즈'],\n",
       " ['▁여성', 'l', '▁겐조', '▁플라워', '▁롱', '▁셔츠'],\n",
       " ['▁겐조', '▁토드백'],\n",
       " ['▁겐조', '후리스', '집업', '▁95'],\n",
       " ['▁겐조', '▁남성', '▁멘투맨', '▁크리스마스', '▁에디션', '▁한정판'],\n",
       " ['▁겐조', '▁비치', '▁반바지'],\n",
       " ['▁겐조', 'h', '▁m', '▁정글', '▁반팔티', '블랙'],\n",
       " ['▁s', '▁겐조', '▁로고', '맨투맨'],\n",
       " ['▁겐조', '▁반팔'],\n",
       " ['▁겐조', '▁타이거', '헤드', '▁맨투맨', '▁l'],\n",
       " ['▁kenzo', '▁겐조', '▁골프', '▁반집업', '▁티셔츠'],\n",
       " ['▁겐조', '▁트레이닝', '▁투피스', '▁f', '▁01'],\n",
       " ['▁겐조', '▁19', 'fw', '▁자수', '▁반팔', '▁티셔츠'],\n",
       " ['▁겐조', '▁빅아이', '▁블랙', '▁맨투맨'],\n",
       " ['▁겐조', '▁타이거', '▁자수로고', '▁반팔티'],\n",
       " ['▁겐조', '▁왕', '로고', '▁맨투맨', '▁m', '사이즈'],\n",
       " ['▁겐조', '▁맨투맨'],\n",
       " ['▁겐조', '▁맨투맨', '▁판매합니다'],\n",
       " ['▁kenzo', '▁패브릭', '▁타이거자수', '로고', '▁백팩', '▁19', 's', '▁s', '▁특가'],\n",
       " ['▁겐조', '티', '▁반팔티', '▁티셔츠'],\n",
       " ['▁2018', '▁겐조', '▁맨투맨', '▁m', '▁사이즈'],\n",
       " ['▁겐조', '▁맨투맨'],\n",
       " ['▁겐조', '▁러브', '나염', '▁반팔티'],\n",
       " ['▁겐조', '▁볼캡'],\n",
       " ['▁여', '▁겐조'],\n",
       " ['▁겐조', '▁맨투맨'],\n",
       " ['▁겐조', '▁빅아이', '▁맨투맨', '▁m', '사이즈', '▁미시착', '▁새상품'],\n",
       " ['▁겐조', '▁여름', '▁롱', '스카프'],\n",
       " ['▁여성', 's', '▁겐조', '▁하이넥', '▁티셔츠'],\n",
       " ['▁겐조', '▁반팔티'],\n",
       " ['▁겐조'],\n",
       " ['▁s', '▁겐조', '▁러브', '▁패치', '▁로고', '▁라운드', '▁니트'],\n",
       " ['▁겐조', '▁맨투맨'],\n",
       " ['▁겐조', '▁슬리퍼'],\n",
       " ['▁19', '▁ss', '▁겐조', '▁레인보우', '▁사각', '라운드'],\n",
       " ['▁필립플레인', '▁겐조', '▁모자'],\n",
       " ['▁겐조', '티', '▁겐조', '반팔티', '▁겐조', '티셔츠'],\n",
       " ['▁겐조', '▁반팔티'],\n",
       " ['▁겐조', '▁반팔티셔츠'],\n",
       " ['▁겐조', '▁반팔티'],\n",
       " ['▁겐조', '▁골프', '▁pk', '티', '▁카라티', '▁카라넥', '▁티셔츠'],\n",
       " ['▁겐조', '▁x', '▁반스', '▁어센틱', '▁235', '▁새제품'],\n",
       " ['▁여성', '24', '▁겐조', '▁스커트'],\n",
       " ['▁겐조',\n",
       "  '▁kenzo',\n",
       "  '▁19',\n",
       "  'ss',\n",
       "  '▁수입',\n",
       "  '▁고급',\n",
       "  '▁신상',\n",
       "  '▁pk',\n",
       "  '카라티셔츠',\n",
       "  '▁전사이즈',\n",
       "  '▁재'],\n",
       " ['▁19', 'ss', '▁kenzo', '▁모자'],\n",
       " ['▁겐조', '▁빅아이', '▁맨투맨'],\n",
       " ['▁kenzo', '▁타이거자수', '로고', '▁볼캡', '▁사이즈', '▁남녀공용', '▁프리사이즈', '▁특가'],\n",
       " ['▁겐조', '▁옴므', '▁남성', '▁카라티'],\n",
       " ['▁s', '▁겐조', '▁러브', '패치', '▁로고', '▁라운드', '▁니트'],\n",
       " ['▁겐조', '▁맨투맨', '▁m', '사이즈', '▁네이비', '▁상태', '▁', '좋습니다'],\n",
       " ['▁겐조', '▁타이거', '패치', '▁스트라이프'],\n",
       " ['▁겐조', '▁반팔티셔츠'],\n",
       " ['▁부산', '▁겐조', '▁정품', '▁티', '▁l', '▁팔아요'],\n",
       " ['▁겐조', '▁슬리퍼', '▁19', 'ss', '▁88', '▁000', '원'],\n",
       " ['▁겐조', '▁', '폰트', '▁자수', '▁반팔', '▁티셔츠'],\n",
       " ['▁겐조', '▁맨투맨'],\n",
       " ['▁겐조', '▁니트가디건', '▁55'],\n",
       " ['▁여성', 'm', '▁겐조', '▁투피스'],\n",
       " ['▁sale', '▁정품', '▁겐조', '▁플로랄', '▁플리츠', '▁스커트', '▁여성', '38'],\n",
       " ['▁겐조', '▁일본판', '▁네이비', '▁골프웨어', '▁니트'],\n",
       " ['▁s', '▁겐조', '▁타이거', '맨투맨'],\n",
       " ['▁갠조', '▁겐조', '▁겐죠', '▁정품', '▁맨투맨', '▁기모', '▁s', '▁95', '사이즈'],\n",
       " ['▁m', '▁겐조', '▁벙거지', '▁모자', '▁kenzo'],\n",
       " ['▁겐조', '▁전면', '▁원', '▁포켓', '▁패턴', '▁스트라이프', '▁반팔', '▁셔츠'],\n",
       " ['▁정품', '▁kenzo', '▁겐조', '▁맨투맨', '▁s'],\n",
       " ['▁여성', 's', '▁겐조', '▁하이넥', '▁티셔츠'],\n",
       " ['▁겐조', '▁바람막이', '▁자켓'],\n",
       " ['▁겐조', '▁타이거', '▁와펜', '▁카라티'],\n",
       " ['▁겐조', '티', '▁겐조', '반팔티', '▁겐조', '티셔츠'],\n",
       " ['▁정품', '▁겐조', '▁반팔티셔츠', '▁뱀부', '프린팅'],\n",
       " ['▁몽클', '▁겐조', '▁카라티'],\n",
       " ['▁고홍', '닷컴', '▁p', '▁45', '57', '▁겐조', '▁매장판', '▁청반바지', '▁29'],\n",
       " ['▁겐조', '▁맨투맨'],\n",
       " ['▁겐조', '▁로즈', '▁자수', '▁라운드', '▁티'],\n",
       " ['▁겐조', '▁반바지'],\n",
       " ['▁정품', '▁겐조', '▁딥블루', '▁그린', '▁자수', '▁올오버', '▁넥타이'],\n",
       " ['▁겐조', '▁블레이져'],\n",
       " ['▁겐조', '▁반팔티'],\n",
       " ['▁겐조', '▁무릎', '트임', '▁타이거', '진'],\n",
       " ['▁겐조', '▁반팔티'],\n",
       " ['▁겐조', '▁맨투맨', '▁블랙', '▁s', '▁정품'],\n",
       " ['▁남성', 'l', '▁겐조', '▁금장', '▁울', '▁블레이져', '▁자켓'],\n",
       " ['▁겐조', '▁티셔츠'],\n",
       " ['▁겐조', '▁모자'],\n",
       " ['▁xl', '▁kenzo', '▁겐조', '▁밴딩바지'],\n",
       " ['▁겐조', '▁맨투맨'],\n",
       " ['▁겐조', '▁반팔티셔츠'],\n",
       " ['▁겐조', '▁반팔티', '▁새상품'],\n",
       " ['▁겐조', '▁여성', '▁반팔'],\n",
       " ['▁겐조', '▁타이거자수', '맨투맨'],\n",
       " ['▁겐조', '▁슬리퍼'],\n",
       " ['▁겐조', '▁선글라스'],\n",
       " ['▁m', '▁겐조', '▁빅아이', '▁블루', '▁반팔', '▁티셔츠'],\n",
       " ['▁겐조', '클러치'],\n",
       " ['▁정품', '▁kenzo', '▁17', '▁리본', '보', '타이', '▁블라웃'],\n",
       " ['▁갠조', '맨투맨'],\n",
       " ['▁free', '▁겐조', '스탈', '블라우스'],\n",
       " ['▁겐조', '▁반팔티'],\n",
       " ['▁겐조', '▁카라티', '▁겐조', '▁반팔티'],\n",
       " ['▁겐조', '▁멀티로고', '▁맨투맨'],\n",
       " ['▁겐조', '▁19', 'ss', '▁신상', '▁택포'],\n",
       " ['▁도매가', '방출', '▁겐조', '▁19', 's', '▁s', '▁레터링', '▁반팔티셔츠'],\n",
       " ['▁겐조', '▁라운드넥', '▁티셔츠'],\n",
       " ['▁겐조', '▁반팔티', '▁m'],\n",
       " ['▁겐조', '▁클러치백'],\n",
       " ['▁겐조', '▁선글라스', '▁정품'],\n",
       " ['▁겐조', '▁맨투맨', 'l'],\n",
       " ['▁겐조', '▁엠보', '▁타이거', '▁반팔티'],\n",
       " ['▁겐조', '▁빅아이', '▁맨투맨'],\n",
       " ['▁겐조', '▁벙거지모자'],\n",
       " ['▁겐조', '니트', '▁해지스', '▁패딩'],\n",
       " ['▁시즌', 'new', '▁kenzo', '▁스몰', '타이거', '▁코튼', '▁피케', '폴로', '▁사이즈', '95'],\n",
       " ['▁겐조', '▁반팔티'],\n",
       " ['▁겐조', '▁남성', '팬티', '▁4', '종', '▁세트'],\n",
       " ['▁정품', '▁겐조', '▁실버', '▁로즈', '로고', '▁커프스', '▁넥타이핀', '▁세트'],\n",
       " ['▁19', 'ss', '▁kenzo', '▁볼캡'],\n",
       " ['▁19', 'ss', '▁kenzo', '▁타이거', '▁자수', '▁반팔티셔츠'],\n",
       " ['▁s', '▁겐조', '▁그레이', '▁러브', '▁패치', '▁로고', '▁라운드니트'],\n",
       " ['▁겐조', '▁선글라스'],\n",
       " ['▁겐조', '▁18', 'f', '▁w', '▁맨투맨'],\n",
       " ['▁겐조', '▁선글라스'],\n",
       " ['▁판매완료', '▁겐조', '▁빅아이', '▁크리스마스', '▁에디션', '▁맨투맨', '▁티셔츠'],\n",
       " ['▁겐조', '▁슬리퍼'],\n",
       " ['▁겐조', '▁맨트맨', '▁원피스', '▁정품'],\n",
       " ['▁겐조', '▁사각', '▁레인보우', '▁나염', '▁반팔티'],\n",
       " ['▁겐조', '▁7', '부', 'g', '배기'],\n",
       " ['▁겐조', '▁반팔티셔츠'],\n",
       " ['▁겐조', '▁맨투맨'],\n",
       " ['▁kenzo', '▁new', '▁빅', '타이거', '▁코튼', '반팔', '▁사이즈', '90', '▁105', '▁남녀커플'],\n",
       " ['▁정품', '▁kenzo', '▁겐조', '▁맨투맨', '▁s'],\n",
       " ['▁l', '▁겐조', '▁반팔', '▁카라티', '▁반집업', '▁pk', '▁티셔츠'],\n",
       " ['▁겐조', '▁여성', '▁반팔티', '▁정품', '▁가격내림'],\n",
       " ['▁kenzo', '▁겐조', '▁클러치'],\n",
       " ['▁m', '▁겐조', '▁반팔티'],\n",
       " ['▁겐조', '▁반팔'],\n",
       " ['▁겐조', '▁사각', '▁레인보우', '▁나염', '▁반팔티'],\n",
       " ['▁겐조', '▁스니커즈', '▁19', 'ss', '145', '▁000', '원'],\n",
       " ['▁kenzo', '▁야광', '▁클러치백'],\n",
       " ['▁겐조', '▁미시착', '▁18', 'fw', '타이거', '맨투맨', '▁s'],\n",
       " ['▁여성', '▁m', '▁겐조', '▁민소매', '▁셔츠', '▁무료배송'],\n",
       " ['▁겐조', '▁한정판', '▁스니커즈'],\n",
       " ['▁겐조', '▁정품', '▁카드지갑'],\n",
       " ['▁겐조', '▁타이거', '▁자수', '▁맨투맨', '▁신상품'],\n",
       " ['▁s', '▁겐조', '▁반팔'],\n",
       " ['▁겐조', '▁블라우스'],\n",
       " ['▁겐조', '▁빅아이', '▁맨투맨'],\n",
       " ['▁정품', '▁겐조', '▁맨투맨', '▁팝니다'],\n",
       " ['▁겐조', '▁꽃무늬', '스판', '라운드티', '▁m'],\n",
       " ['▁겐조', '▁반팔'],\n",
       " ['▁정품', '▁겐조', '▁전면', '▁빅로고', '▁블루', '▁반팔', '▁카라티'],\n",
       " ['▁겐조', '▁클', '런치', '백'],\n",
       " ['▁갠조', '반팔티', '▁100', '▁정품'],\n",
       " ['▁겐조', '▁2019', '▁삼색', '원피스', '▁여성원피스', '▁명품', '삼색', '원피스', '▁최저가'],\n",
       " ['▁겐조', '▁프리미엄', '▁로고', '▁반바지'],\n",
       " ['▁겐조', '▁반팔티'],\n",
       " ['▁겐조', '티'],\n",
       " ['▁겐', '▁3', 'd', '▁겐조', '▁', '섀', '도', '▁티셔츠'],\n",
       " ['▁겐조', '▁맨투맨'],\n",
       " ['▁kenzo', '▁타이거', '프린트', '▁코튼', '▁라운드반팔', '▁2', '▁1'],\n",
       " ['▁겐조'],\n",
       " ['▁겐조', '▁맨투맨'],\n",
       " ['▁신상', '▁겐조', '▁타이거자수', '▁반팔티'],\n",
       " ['▁겐조', '타이거', '▁자수', '▁라운드'],\n",
       " ['▁디퀘', '▁겐조', '티셔츠'],\n",
       " ['▁겐조'],\n",
       " ['▁겐조', '▁맨투맨', '▁사이즈', '▁l', '지', '▁입니다'],\n",
       " ['▁겐조'],\n",
       " ['▁겐조', '▁클러치'],\n",
       " ['▁19', 'ss', '▁kenzo', '▁타이거', '▁자수', '▁반팔티셔츠'],\n",
       " ['▁겐조', '클러치'],\n",
       " ['▁겐조', '▁팔로고', '▁슬리브', '▁블랙'],\n",
       " ['▁겐조', '▁스니커즈'],\n",
       " ['▁겐조', '▁홀로그램', '▁애나멜', '▁장지갑'],\n",
       " ['▁겐조', '▁비치', '▁반바지'],\n",
       " ['▁겐조', '캡'],\n",
       " ['▁겐조', '▁슬립온', '▁19', 'ss', '145', '▁000', '원'],\n",
       " ['▁kenzo', '▁겐조', '▁남성', '▁eye', '▁jumper', '▁스웨트셔츠', '▁맨투맨'],\n",
       " ['▁kenzo',\n",
       "  '▁프리미엄',\n",
       "  '▁로고',\n",
       "  '▁반바지',\n",
       "  '▁프리미엄',\n",
       "  '▁로고',\n",
       "  '▁반바지',\n",
       "  '▁',\n",
       "  '는',\n",
       "  '▁현재',\n",
       "  '▁한'],\n",
       " ['▁겐조', '▁반팔티'],\n",
       " ['▁겐조', '▁맨투맨', '▁직거래', '▁가능', '▁택배', '▁거래', '▁가능', '▁당일배송'],\n",
       " ['▁겐조', '▁지갑', '▁카드지갑'],\n",
       " ['▁구찌', '▁정품', '▁머니클립', '▁15', '만', '▁겐조', '▁정품', '▁키홀더', '▁10', '만'],\n",
       " ['▁겐조', '▁반팔티'],\n",
       " ['▁kenzo', '▁겐조', '▁핑크', '▁하이', '라이트', '▁eye', '▁sweat', '▁shirt', '▁맨투맨'],\n",
       " ['▁새상품',\n",
       "  '▁박스',\n",
       "  '0',\n",
       "  '▁kenzo',\n",
       "  '▁겐조',\n",
       "  '▁워커',\n",
       "  '가죽',\n",
       "  '신발',\n",
       "  '▁260',\n",
       "  '사이즈',\n",
       "  '▁팝니다'],\n",
       " ['▁명품',\n",
       "  '▁던힐',\n",
       "  '▁페라가모',\n",
       "  '▁로에베',\n",
       "  '▁겐조',\n",
       "  '▁지방시',\n",
       "  '▁버버리',\n",
       "  '▁보스',\n",
       "  '▁등',\n",
       "  '▁넥타이',\n",
       "  '▁12',\n",
       "  '종'],\n",
       " ['▁겐조', '반팔티'],\n",
       " ['▁겐조', '▁클러치'],\n",
       " ['▁주말특가', '▁정품', '▁새상품', '▁겐조', '▁타이거', '▁토트백', '▁더스트백', '포함'],\n",
       " ['▁겐조', '▁미시착', '▁19', 'ss', '빅', '아이', '맨투맨', '▁m'],\n",
       " ['▁겐조', '▁볼캡'],\n",
       " ['▁겐조', '▁토트백'],\n",
       " ['▁겐조', '상하세트'],\n",
       " ['▁s', '▁겐조', '▁v', '넥'],\n",
       " ['▁판매완료', '▁겐조', '▁타이거', '▁자수', '▁로고', '▁맨투맨', '▁티셔츠'],\n",
       " ['▁겐조', '▁맨투맨', '▁18', '▁f', '▁w', '▁크리스마스', '▁에디션', '▁한정판'],\n",
       " ['▁겐조', '▁맨투맨', 'm', '사이즈', '▁판매합니다'],\n",
       " ['▁겐조', '▁정품', '▁반팔'],\n",
       " ['▁겐조', '▁단색', '▁타이거', '▁전사', '나염', '▁반팔티'],\n",
       " ['▁겐조', '▁와이셔츠', '▁크', '게', '입는', '것'],\n",
       " ['▁겐조', '▁레터링', '▁클러치백'],\n",
       " ['▁겐조', '▁몽클레어', '▁합쳐서', '▁5', '에', '▁팝니다'],\n",
       " ['▁겐조', '타이거', '▁자수', '▁라운드'],\n",
       " ['▁겐조', '▁정품', '▁여자', '▁맨투맨', '▁핫핑크', '▁l'],\n",
       " ['▁겐조', '▁정품', '가방'],\n",
       " ['▁정품', '▁겐조', '▁티셔츠'],\n",
       " ['▁겐조', '▁반팔', '▁티셔츠'],\n",
       " ['▁도매가', '방출', '▁겐조', '▁무릎', '트임', '▁타이거', '진'],\n",
       " ['▁겐조', '▁자수', '▁반팔티', '▁급처'],\n",
       " ['▁겐조', '▁한정판', '▁반팔티', '▁팔아요'],\n",
       " ['▁겐조', '▁로고', '▁반팔', '▁가격다운'],\n",
       " ['▁번장최고퀄', '▁겐조', '▁타이거자수', '로고', '반팔티', '▁블랙', '▁화이트'],\n",
       " ['▁겐조', '반팔티'],\n",
       " ['▁s', '▁겐조', '▁맨투맨', '▁여성', '▁롱', '▁맨투맨'],\n",
       " ['▁겐조',\n",
       "  '▁27',\n",
       "  '에',\n",
       "  '샀',\n",
       "  '는데',\n",
       "  '▁한',\n",
       "  '▁10',\n",
       "  '번',\n",
       "  '▁입고',\n",
       "  '▁하자',\n",
       "  '는',\n",
       "  '▁없어요',\n",
       "  '▁택',\n",
       "  '은',\n",
       "  '잊',\n",
       "  '어',\n",
       "  '버리',\n",
       "  '고',\n",
       "  '▁영수증'],\n",
       " ['▁겐조', '▁슬립온', '▁265'],\n",
       " ['▁겐조', '▁린넨', '▁스커트'],\n",
       " ['▁19', 'ss', '▁kenzo', '▁볼캡'],\n",
       " ['▁겐조', '▁맨투맨'],\n",
       " ['▁겐조', '▁맨투맨'],\n",
       " ['▁겐조', '▁반팔티', '▁m'],\n",
       " ['▁겐조', '▁슬립온'],\n",
       " ['▁겐조', '▁티셔츠'],\n",
       " ['▁겐조', '▁반팔'],\n",
       " ['▁정품', '▁xs', '▁겐조', '▁반팔티'],\n",
       " ['▁겐조', '▁더블', '▁링', '▁t'],\n",
       " ['▁kenzo', '여', '화'],\n",
       " ['▁겐조', '▁버킷백', '▁판매'],\n",
       " ['▁겐조', '셔츠'],\n",
       " ['▁겐조', '여성지갑'],\n",
       " ['▁필립플레인', '▁m', '▁겐조', '▁한정판', '▁s', '▁꼼데', '▁긴팔티', '▁m'],\n",
       " ['▁kenzo', '▁겐조', '▁로고', '▁후두', '▁s', '▁xxl'],\n",
       " ['▁19', 'ss', '▁겐조', '▁반팔', '▁l'],\n",
       " ['▁겐조', '▁반팔티'],\n",
       " ['▁겐조', '▁에스파듀', '▁슬립온'],\n",
       " ['▁겐조', 'st', '빅', '타이거', '반팔'],\n",
       " ['▁판매완료', '▁겐조', '▁자수', '▁로고', '▁맨투맨', '▁티셔츠'],\n",
       " ['▁정품', '▁겐조', '▁남성', '반팔티', '▁m'],\n",
       " ['▁겐조', '▁빅아이', '▁반팔티'],\n",
       " ['▁겐조', '▁멀티로고', '▁반팔티'],\n",
       " ['▁겐조', '▁반팔'],\n",
       " ['▁겐조', '▁맨투맨', '▁s'],\n",
       " ['▁겐조', '▁14', 'fw', '▁맨투맨', '▁s', '사이즈'],\n",
       " ['▁겐조'],\n",
       " ['▁겐조', '모자'],\n",
       " ['▁겐조', '▁반팔티'],\n",
       " ['▁겐조', '▁정품', '▁맨투맨'],\n",
       " ['▁겐조', '▁반팔티'],\n",
       " ['▁겐조', '▁맨투맨'],\n",
       " ['▁겐조', '클러치백'],\n",
       " ['▁겐조', '▁미시착', '▁19', 'ss', '▁반팔', '빅', '아이', '프린팅', '▁l'],\n",
       " ['▁정품', '▁kenzo', '▁겐조', '▁니트'],\n",
       " ['▁겐조', '▁물고기', '▁패턴', '▁민소매', '▁셔츠'],\n",
       " ['▁겐조', '▁피쉬', '▁패턴', '▁슬리브리스', '▁셔츠', '▁롱', '탑'],\n",
       " ['▁겐조', '▁맨투맨', '▁사이즈', 'm', '입니다'],\n",
       " ['▁신상', '▁겐조', '▁타이거', '▁자수', '▁반팔티셔츠'],\n",
       " ['▁겐조', '▁반팔'],\n",
       " ['▁겐조', '▁에스파듀', '▁38', '▁235', '▁240'],\n",
       " ['▁겐조', '▁빅아이', '▁맨투맨'],\n",
       " ['▁겐조', '▁청바지'],\n",
       " ['▁꼼데가르송', '▁카라티', '▁정품', '▁겐조', '▁몽클', '▁디퀘', '▁스톤', '▁톰브', '▁발렌'],\n",
       " ['▁정품', '▁겐조', '▁여성', '▁맨투맨'],\n",
       " ['▁겐조', '▁타이거', '▁반팔티', '▁95'],\n",
       " ['▁', '남여공용커플선글라스최저가', '▁겐조', '선글라스', '남여공용', '커플', '선글라스'],\n",
       " ['▁겐조', '▁타이거', '▁로고', '▁슬리퍼', '▁4', '▁컬러'],\n",
       " ['▁kenzo', '▁맨투맨', '▁가격', '▁다운'],\n",
       " ['▁', '랫', '플', '다운', '▁겐조', '▁클러치백'],\n",
       " ['▁xl', '▁겐조', '▁빅아이', '▁반팔티'],\n",
       " ['▁겐조', '▁자켓'],\n",
       " ['▁100', '▁겐조', '▁니트'],\n",
       " ['▁겐조', '▁맨투맨'],\n",
       " ['▁겐조', '▁슬립온'],\n",
       " ['▁겐조', '▁로프', '▁kenzo'],\n",
       " ['▁겐조', '▁백로고', '▁반바지'],\n",
       " ['▁여성', '▁겐조', '▁반팔티'],\n",
       " ['▁겐조', '▁반팔티'],\n",
       " ['▁겐조'],\n",
       " ['▁겐조', '▁반팔', '▁카라티'],\n",
       " ['▁겐조', '멀티', '로고', '▁맨투맨', '▁s'],\n",
       " ['▁겐조', '▁호랑이', '자수', '▁맨투맨'],\n",
       " ['▁매장정품', '▁겐조', '▁롱슬리브', '▁l', '사이즈'],\n",
       " ['▁겐조', '▁수입', '▁신상', '▁후드티'],\n",
       " ['▁명품', '▁겐조', '▁멀티로고', '▁반팔티', '▁흰색', '▁95', '▁100'],\n",
       " ['▁겐조', '▁호랑이', '자수', '▁맨투맨'],\n",
       " ['▁겐조', '▁반팔티'],\n",
       " ['▁겐조', '▁슬립온', '▁에스파드류', '▁00', '10', '28'],\n",
       " ['▁겐조', '▁반팔티', '▁급처', '▁원가', '▁23'],\n",
       " ['▁정품', '▁갠조', '▁뉴에라', '스냅백', '▁무배', '▁내놓습니다'],\n",
       " ['▁정품', '▁겐조', '▁타이거', '▁에스파듀', '▁슬립온'],\n",
       " ['▁겐조', '빅', '아이', '▁반팔', '▁정품'],\n",
       " ['▁19', 'ss', '▁겐조', '▁빅아이', '▁반팔', '라운드티셔츠'],\n",
       " ['▁겐조', '▁맨투맨'],\n",
       " ['▁겐조', '▁반팔', '▁티셔츠'],\n",
       " ['▁kenzo', '▁19', '▁s', '▁s', '▁paris', '▁로고', '▁라운드', '▁반팔티'],\n",
       " ['▁겐조', '▁글리터', '▁에스파듀', '▁슬립온'],\n",
       " ['▁겐조', '▁반팔티', '▁사이즈', '▁m'],\n",
       " ['▁겐조'],\n",
       " ['▁정품', '▁겐조', '▁kenzo', '▁명품', '▁넥타이'],\n",
       " ['▁m',\n",
       "  '▁겐조',\n",
       "  '▁kenzo',\n",
       "  '▁포켓',\n",
       "  '장식',\n",
       "  '▁백포인트',\n",
       "  '▁밴드',\n",
       "  '카라',\n",
       "  '▁화이트',\n",
       "  '▁반팔셔츠',\n",
       "  '▁반팔남방'],\n",
       " ['▁특가', '▁겐조', '▁맨투맨', '▁2', '컬러', '▁주문폭주'],\n",
       " ['▁겐조', '▁파리스', '▁맨투맨'],\n",
       " ['▁겐조', '▁맨투맨'],\n",
       " ['▁겐조', '▁a', '4', '▁가죽', '▁클러치', '▁정품'],\n",
       " ['▁', '남여공용커플선글라스최저가', '▁겐조', '남여공용', '선글라스'],\n",
       " ['▁겐조', '▁맨투맨', '▁s', '▁가격', '▁또', '▁또', '▁또', '▁내림'],\n",
       " ['▁겐조', '▁반팔티'],\n",
       " ['▁겐조', '▁긴팔티'],\n",
       " ['▁정품', '▁겐조', '▁맨투맨'],\n",
       " ['▁s', '▁정품', '▁겐조', '▁kenzo', '▁마혼방', '원피스'],\n",
       " ['▁겐조', '19', 's', '▁s'],\n",
       " ['▁겐조', '▁반팔'],\n",
       " ['▁새상품', '▁겐조', '쇼퍼백'],\n",
       " ['▁겐조', '여성', '청바지'],\n",
       " ['▁정품', '▁겐조', '▁타이거', '▁반팔', '▁신상'],\n",
       " ['▁겐조', '▁꽃', '▁트윌', '▁사각', '▁스카프'],\n",
       " ['▁kenzo', '▁19', '▁s', '▁s', '▁paris', '▁로고', '▁라운드', '▁반팔티'],\n",
       " ['▁겐조', '▁클러치백'],\n",
       " ['▁kenzo', '▁겐조', '▁하이', '라이트', '▁그린', '▁eye', '▁sweat', '▁shirt', '▁맨투맨'],\n",
       " ['▁겐조', '▁반팔'],\n",
       " ['▁겐조', '▁반팔티', '▁티셔츠'],\n",
       " ['▁겐조', '▁맨투맨'],\n",
       " ['▁겐조', '▁반팔티'],\n",
       " ['▁겐조', '▁반팔티'],\n",
       " ['▁겐조', '▁밤', '부', '▁타이거', '▁네오프렌', '▁맨투맨'],\n",
       " ['▁겐조', '▁넥타이', '▁9', '▁5', 'cm', '▁명품넥타이', '▁빈티지', '넥타이'],\n",
       " ['▁겐조', '▁빅', '자수', '▁맨투맨', '▁라운드티', '▁m', '▁66'],\n",
       " ['▁겐조', '▁맨투맨'],\n",
       " ['▁겐조', '▁테이퍼드', '▁진', '▁데님', '▁청바지'],\n",
       " ['▁겐조', '▁kenzo', '▁반팔티', '▁정품'],\n",
       " ['▁s', '▁겐조', '▁맨투맨'],\n",
       " ['▁겐조', '▁빅아이', '▁반팔', '▁티셔츠'],\n",
       " ['▁겐조', 'x', 'h', '▁m', '▁맨투맨'],\n",
       " ['▁겐조', '▁맨투맨'],\n",
       " ['▁정품', '▁겐조', '▁새제품', '▁맨투맨'],\n",
       " ['▁겐조', '▁반팔'],\n",
       " ['▁겐조', '18', 'ss', '타이거', '▁맨투맨'],\n",
       " ['▁겐조', '▁가디건'],\n",
       " ['▁겐조', '▁골프', '▁전면', '▁로고', '▁넥포인트', '▁옐로우', '▁카라', '▁티셔츠'],\n",
       " ['▁겐조', '▁18', 'ss', '▁싸게', '▁던', '집', '니다'],\n",
       " ['▁겐조', '▁스티치', '▁라인', '▁타이거', '▁자수', '색', '▁반팔', '▁19', 'ss'],\n",
       " ['▁겐조', '▁팔찌'],\n",
       " ['▁갠조', '▁반팔티', '▁급매'],\n",
       " ['▁kenzo', '▁네오프랜', '▁타이거자수', '▁웨이스트', '▁범백', '▁특가', '▁11', '만', '8', '천'],\n",
       " ['▁겐조', '▁반팔티'],\n",
       " ['▁겐조', '▁반팔티'],\n",
       " ['▁겐조', '▁맨투맨'],\n",
       " ['▁겐조', '선글라스'],\n",
       " ['▁kenzo', '▁겐조', '▁유니크', '▁스트라이프', '▁셔츠'],\n",
       " ['▁겐조', '▁반팔티', '▁l'],\n",
       " ['▁265', '▁kenzo', '▁운동화'],\n",
       " ['▁겐조', '▁2019', 'ss', '▁paris', '▁반팔티', '▁블랙'],\n",
       " ['▁겐조', '▁슬립온', '▁에스파드류', '▁00', '10', '28'],\n",
       " ['▁겐조', '▁한정판', '▁클러치백'],\n",
       " ['▁남여공용', '▁겐조', '티셔츠', '▁블랙', '▁화이트'],\n",
       " ['▁겐조', '▁카라티'],\n",
       " ['▁판매완료', '▁겐조', '▁스티치', '▁라인', '▁타이거', '▁반팔티', '▁블랙', '▁백화점', '▁매장판'],\n",
       " ['▁겐조', '▁맨투맨'],\n",
       " ['▁m',\n",
       "  '27',\n",
       "  '82',\n",
       "  '▁겐조',\n",
       "  '▁네이비',\n",
       "  '▁패턴',\n",
       "  '▁셔츠',\n",
       "  '▁남자',\n",
       "  '105',\n",
       "  '사이즈',\n",
       "  '▁킹덤',\n",
       "  '구제'],\n",
       " ['▁겐조', '▁맨투맨', '▁크리스마스', '▁에디션'],\n",
       " ['▁55', '▁겐조', '▁데님자켓'],\n",
       " ['▁kenzo', '▁겐조', '▁오버핏', '▁탑', '▁원피스'],\n",
       " ['▁2017', '▁s', '▁s', '▁kenzo'],\n",
       " ['▁겐조', '▁반팔티'],\n",
       " ['▁겐조', '▁반팔티'],\n",
       " ['▁겐조', '▁배색', '▁맨투맨'],\n",
       " ['▁19', 'fw', '▁겐조', '▁엠보', '▁타이거', '▁맨투맨'],\n",
       " ['▁겐조'],\n",
       " ['▁겐조', '▁반팔티'],\n",
       " ['▁겐조', '▁맨투맨'],\n",
       " ['▁겐조', '▁맨투맨'],\n",
       " ['▁겐조', '▁기모', '▁맨투맨'],\n",
       " ['▁겐조', '▁맨투맨'],\n",
       " ['▁겐조', '▁kenzo', '▁반팔티', '▁정품'],\n",
       " ['▁kenzo', '▁겐조', '▁셔츠', '▁남방', '▁남성', '100'],\n",
       " ['▁겐조', '패브릭', '슬립온'],\n",
       " ['▁겐조', '▁타이거', '프린트', '▁맨투맨'],\n",
       " ['▁xl', '▁겐조', '▁반팔'],\n",
       " ['▁겐조', '▁타이거', '호랑이', '맨투맨', '팔아요'],\n",
       " ['▁겐조', '▁여성', '▁울코트'],\n",
       " ['▁겐조', '▁맨투맨'],\n",
       " ['▁겐조', '▁로고', '▁맨투맨'],\n",
       " ['▁겐조', '▁맨투맨'],\n",
       " ['▁겐조', '▁맨투맨'],\n",
       " ['▁겐조', '▁미니', '타이거', '▁새상품', '팝니다'],\n",
       " ['▁겐조', '▁티셔츠'],\n",
       " ['▁겐조', '▁반팔'],\n",
       " ['▁겐조', '스커트'],\n",
       " ['▁겐조', '▁손수건'],\n",
       " ['▁정품', '▁겐조', '▁맨투맨'],\n",
       " ['▁s', '▁l', '▁a', '113', '65', '▁겐조', 'st', '▁여성', '▁후디', '▁원피스'],\n",
       " ['▁정품', '▁겐조', '▁반팔'],\n",
       " ['▁겐조', '▁맨투맨', '▁s', '▁사이즈', '▁상태', '▁10', '▁완전', '▁새거'],\n",
       " ['▁겐조', '▁클러치'],\n",
       " ['▁50',\n",
       "  '만원',\n",
       "  '▁20',\n",
       "  '만원',\n",
       "  '새상품',\n",
       "  '▁겐조',\n",
       "  '▁타이거',\n",
       "  '▁화이트',\n",
       "  '▁유광',\n",
       "  '▁가죽',\n",
       "  '슬립온',\n",
       "  '▁스니커즈'],\n",
       " ['▁겐조', '▁니트', '▁롱', '▁원피스'],\n",
       " ['▁겐조', '19', '▁ss', '▁클러치'],\n",
       " ['▁19', 'fw', '▁겐조', '▁풀', '타이거', '▁자수', '▁맨투맨'],\n",
       " ['▁겐조'],\n",
       " ['▁겐조', '▁반팔'],\n",
       " ['▁겐조', '로고', '▁반팔티', '▁m', '▁정품'],\n",
       " ['▁겐조', '▁맨투맨'],\n",
       " ['▁겐조', '▁맨투맨'],\n",
       " ['▁정품', '▁겐조', '▁반팔티', '▁m', '▁95'],\n",
       " ['▁새상품', '▁19', 'ss', '▁겐조', '▁후드티', '▁l'],\n",
       " ['▁명품', '▁겐조', '▁멀티로고', '▁한정판', '▁반팔티', '▁흰색', '95'],\n",
       " ['▁겐조', '▁맨투맨'],\n",
       " ['▁겐조', '▁맨투맨'],\n",
       " ['▁m', '▁겐조', '▁반팔티', '▁백화점판'],\n",
       " ['▁겐조', '셔츠'],\n",
       " ['▁겐조', '▁에나멜', '▁카드지갑', '▁오프닝세레모니', '▁더스트백'],\n",
       " ['▁겐조', '바지', '▁여', '26'],\n",
       " ['▁겐조', '▁사각', '▁드로즈', '▁셋트'],\n",
       " ['▁겐조', '▁네온', '자수', '▁타이거', '▁로고', '▁티'],\n",
       " ['▁겐조', '▁가슴', '▁포인트', '▁셔츠'],\n",
       " ['▁겐조', '▁반팔'],\n",
       " ['▁겐조', '반팔티'],\n",
       " ['▁겐조', '▁클러치'],\n",
       " ['▁kenzo', '▁jeans', '▁겐조', '▁스판', '▁셔츠', '▁새제품'],\n",
       " ['▁겐조', '▁반팔티', '▁7', '만원'],\n",
       " ['▁겐조', '▁단색', '▁타이거', '▁전사', '나염', '▁반팔티'],\n",
       " ['▁겐조', '▁반팔티'],\n",
       " ['▁겐조', '▁반팔티'],\n",
       " ['▁겐조', '▁타이거', '▁크랙', '▁맨투맨'],\n",
       " ['▁정품', '▁겐조', '▁선', '글래스'],\n",
       " ['▁겐조', '▁맨투맨', '▁s', '▁사이즈'],\n",
       " ['▁겐조', '클러치'],\n",
       " ['▁겐조', '▁타이거', '프린트', '▁맨투맨'],\n",
       " ['▁겐조', '▁프리', '▁맨투맨'],\n",
       " ['▁겐조', '▁반팔티', 'xxl'],\n",
       " ['▁겐조', '▁자수', '▁로고', '▁맨투맨'],\n",
       " ['▁갠조'],\n",
       " ['▁겐조', '▁크로스백'],\n",
       " ['▁19', 'fw', '▁겐조', '▁타이거', '▁크랙', '▁맨투맨'],\n",
       " ['▁vintage', '▁명품', '▁겐조', '▁실크스카프'],\n",
       " ['▁겐조', '▁청바지'],\n",
       " ['▁55', '▁슬', '66', '▁겐조', '정', '글', '▁텐션', '셔츠'],\n",
       " ['▁겐조', '▁뉴에라', '▁한정판', '▁스냅백'],\n",
       " ['▁겐조', '▁맨투맨', '▁l', '사이즈', '▁가격내림'],\n",
       " ['▁겐조', '▁클러치백'],\n",
       " ['▁겐조', '▁올리브', '▁니트'],\n",
       " ['▁겐조', '에스', '퍄', '듀'],\n",
       " ['▁겐조', '▁캘빈', '▁빈폴', '▁반팔'],\n",
       " ['▁정품', '▁겐조', '▁kenzo', '▁레이스', '▁뷔스티에', '▁원피스', '_', '실', '물', '보스'],\n",
       " ['▁겐조', '▁빅아이', '맨투맨'],\n",
       " ['▁당일무료배송', '▁겐조', '▁배색', '▁맨투맨'],\n",
       " ['▁새상품', '▁겐조', '▁반팔', '▁카라티'],\n",
       " ['▁정품', '▁겐조', '▁벨벳', '▁자수', '맨투맨'],\n",
       " ['▁마르셀로불론', '▁겐조', '▁반팔', '▁팝니다'],\n",
       " ['▁겐조', '▁타이거', '▁맨투맨'],\n",
       " ['▁겐조', '▁클러치백'],\n",
       " ['▁겐조',\n",
       "  '▁빅',\n",
       "  '타이거',\n",
       "  '자수',\n",
       "  '▁맨투맨',\n",
       "  '▁기모',\n",
       "  '라운드티',\n",
       "  '▁거의새옷',\n",
       "  '▁l',\n",
       "  '▁66',\n",
       "  '▁77'],\n",
       " ['▁겐조', '티셔츠'],\n",
       " ['▁겐조', '▁타이거', '▁네오프렌', '▁모자'],\n",
       " ['▁갠조', '▁갤러리아', '명품', '관', '▁정품', '▁한정판', '▁귀한', '상품', '▁허리', '24', '▁28'],\n",
       " ['▁겐조', '▁니트', '▁맨투맨'],\n",
       " ['▁겐조', '▁맨투맨', '▁m', '사이즈'],\n",
       " ['▁정품', '▁겐조', '▁후드티'],\n",
       " ['▁겐조', '▁맨투맨', '▁m', '▁사이즈', '▁팝니다'],\n",
       " ['▁겐조', '▁블레이저', '▁man', '▁l'],\n",
       " ['▁정', '▁19', 'ss', '▁겐조', '▁빅아이', '▁프린트', '▁반팔티'],\n",
       " ['▁겐조', '▁로고', '티'],\n",
       " ['▁정품', '▁겐조', '▁폴라', '반팔티'],\n",
       " ['▁겐조', '▁로퍼', '▁235', '▁240'],\n",
       " ['▁겐조', '▁빅', '▁이니셜', '▁라운드', '▁긴팔니트'],\n",
       " ['▁m', '▁겐조', '▁빅아이', '▁블루', '▁반팔', '▁티셔츠'],\n",
       " ['▁xl', '▁겐조', '▁에펠탑', '▁네이비', '▁반팔', '▁티셔츠'],\n",
       " ['▁겐조', '▁모자'],\n",
       " ['▁kenzo', '▁x', '▁뉴에라', '▁스냅백'],\n",
       " ['▁겐조', '▁플로럴', '▁자수', '▁원피스'],\n",
       " ['▁겐조', '▁원피스'],\n",
       " ['▁겐조', '▁클러치', '▁88', '049'],\n",
       " ['▁정품', '▁겐조', '▁신형', '▁형광', '▁레오파드', '▁클러치백', '▁체인크로스백'],\n",
       " ['▁아디다스', '▁맨투맨', '▁스톤아일랜드', '▁겐조', '▁cp', '컴퍼니'],\n",
       " ['▁겐조', '▁맨투맨'],\n",
       " ['▁겐조', '▁타이거', '▁맨투맨', '▁블랙', '▁검정'],\n",
       " ['▁겐조', '▁클러치백'],\n",
       " ['▁l', '▁겐조', '▁빅아이', '▁맨투맨', '▁그레이'],\n",
       " ['▁겐조', '▁클러치'],\n",
       " ['▁겐조', '▁셔츠', '▁판매합니다'],\n",
       " ['▁겐조', '▁19', '▁ss', '▁클러치'],\n",
       " ['▁겐조', '▁문양', '▁자수', '▁맨투맨', '▁5'],\n",
       " ['▁겐조', '▁맨투맨'],\n",
       " ['▁겐조', '▁맨투맨'],\n",
       " ['▁당일무료배송', '▁겐조', '▁엠보', '▁타이거', '▁맨투맨', '▁color', '▁2'],\n",
       " ['▁무료배송', '▁겐조', '▁맨투맨'],\n",
       " ['▁겐조', '▁호랑이', '자수', '▁맨투맨', '2'],\n",
       " ['▁xl', '▁겐조', '▁에펠탑', '▁네이비', '▁반팔', '▁티셔츠'],\n",
       " ['▁겐조', '▁반팔티'],\n",
       " ['▁당일무료배송', '▁겐조', '▁타이거', '▁크랙', '▁맨투맨', '▁color', '▁2'],\n",
       " ['▁겐조', '▁타이거', '▁자수', '▁맨투맨', '▁5'],\n",
       " ['▁겐조', '▁맨투맨'],\n",
       " ['▁겐조', '쇼퍼백'],\n",
       " ['▁kenzo', '▁파리', '러브', '▁니트'],\n",
       " ['▁오', '시야', '▁겐조', '옴므', '▁명품', '▁실크', '▁넥타이', '▁정품', '▁z', '43'],\n",
       " ['▁겐조', '▁맨투맨', '▁겐죠'],\n",
       " ['▁겐조', '▁반팔', '▁정품'],\n",
       " ['▁겐조', '셔츠'],\n",
       " ['▁극미중고', '▁겐조', '▁맨투맨', '▁m', '▁상태', '보장'],\n",
       " ['▁42', '▁겐조', '▁벨벳', '▁캔버스', '▁플라잉', '▁로고', '▁슬립온'],\n",
       " ['▁겐조', '▁맨투맨'],\n",
       " ['▁겐조', '반팔', '▁급쳐'],\n",
       " ['▁정품', '▁겐조', '▁면바지'],\n",
       " ['▁겐조', '▁맨투맨', '▁l'],\n",
       " ['▁정품', '▁겐조', '▁니트'],\n",
       " ['▁겐조', '▁맨투맨', '▁급처', '가', '▁다', '받아요', '▁10', '▁12'],\n",
       " ['▁1', '▁1', '▁겐조', '▁i', '▁kenzo', '▁셔츠'],\n",
       " ['▁겐조', '▁맨투맨', '▁가격다운'],\n",
       " ['▁겐조', '▁필립플레인', '▁반팔티'],\n",
       " ['▁겐조', '▁멀티', '▁클러치'],\n",
       " ['▁겐조', '▁자', '유', '여', '신상'],\n",
       " ['▁겐조', '19', '▁ss', '▁타이거', '클러치'],\n",
       " ['▁겐조', '▁실크', '▁캐시미어', '▁니트', '▁가디건', '▁롱가디건', '▁세트', '▁여성', '▁l', '▁xl'],\n",
       " ['▁당일무료배송', '▁겐조', '▁타이거', '▁자수', '▁니트집업', '▁color', '▁1'],\n",
       " ['▁겐조', '▁겐조', '▁알', '러', '뷰', '▁맨투맨'],\n",
       " ['▁겐조', '▁클러치', 'st'],\n",
       " ['▁19', 'fw', '▁겐조', '▁옐로우', '▁타이거자수', '▁맨투맨'],\n",
       " ['▁겐조', '▁레인보우', '▁자수', '▁맨투맨', '▁5'],\n",
       " ['▁겐조', '▁후드티'],\n",
       " ['▁겐조', '▁자수로고', '▁맨투맨'],\n",
       " ['▁겐조', '▁맨투맨'],\n",
       " ['▁xl', '▁정품', '▁겐조', '▁에펠탑', '▁네이비', '▁반팔', '▁티셔츠'],\n",
       " ['▁당일무료배송', '▁겐조', '▁멀티컬러', '▁자수', '▁맨투맨', '▁color', '▁3'],\n",
       " ['▁겐조', '▁맨투맨', '▁m'],\n",
       " ['▁겐조',\n",
       "  '▁18',\n",
       "  'fw',\n",
       "  '▁한정판',\n",
       "  '▁맨투맨',\n",
       "  '▁명',\n",
       "  '동',\n",
       "  '▁',\n",
       "  '롯',\n",
       "  '백',\n",
       "  '▁구입',\n",
       "  '▁xl',\n",
       "  '▁105'],\n",
       " ['▁겐조', '▁호랑이', '자수', '▁맨투맨', '1'],\n",
       " ['▁겐조', '▁맨투맨'],\n",
       " ['▁겐조', '▁보카시', '▁맨투맨', '▁m', '사이즈', '▁판매합니다'],\n",
       " ['▁겐조', '레플', '▁2', 'xl', '사이즈', '▁팝니다'],\n",
       " ['▁겐조', '▁19', '시즌', '▁맨투맨'],\n",
       " ['▁kenzo', '▁blazer'],\n",
       " ['▁겐조', '▁호랑이', '나염', '▁맨투맨'],\n",
       " ['▁1', '▁1', '▁겐조', '▁i', '▁kenzo', '▁후드'],\n",
       " ['▁당일무료배송', '▁겐조', '▁멀티자수', '▁맨투맨', '▁color', '▁3'],\n",
       " ['▁겐조', '▁맨투맨', '▁m', '사이즈', '▁네고가능', '▁편하게', '▁연락주세요'],\n",
       " ['▁겐조', '▁맨투맨'],\n",
       " ['▁겐조', '▁kenzo', '▁호랑이', '반팔티', '▁판매해용', '▁m', '▁사이즈'],\n",
       " ['▁xl', '▁정품', '▁겐조', '▁에펠탑', '▁네이비', '▁반팔', '▁티셔츠'],\n",
       " ['▁kenzo', '▁여성', '▁화이트', '▁셔츠'],\n",
       " ['▁겐조', '▁후드집업'],\n",
       " ['▁겐조', '▁맨투맨', '▁l', '▁오늘', '▁거래', '시', '▁8', '만'],\n",
       " ['▁겐조', '▁맨투맨', '▁팝니다', '▁l'],\n",
       " ['▁겐조', '▁반팔티'],\n",
       " ['▁겐조', '▁2', 's', 'w', '74', '2', '▁4', 'x', 'j', '▁에펠탑', '맨투맨'],\n",
       " ['▁겐조', '▁후드티'],\n",
       " ['▁갠조', '▁맨투맨'],\n",
       " ['▁m', '▁겐조', '▁남성용', '▁반팔'],\n",
       " ['▁겐조', '▁뉴에라', '▁한정판', '▁멀티', '아이', '▁모자'],\n",
       " ['▁겐조', '▁맨투맨'],\n",
       " ['▁겐조', '▁더스트', '팩'],\n",
       " ['▁겐조', '▁반팔', '▁정품'],\n",
       " ['▁갠조', '맨투맨', '▁사이즈', 'm'],\n",
       " ['▁겐조', '▁빅아이', '▁맨투맨'],\n",
       " ['▁겐조', '▁맨투맨'],\n",
       " ['▁겐조', 'st', '▁스팽글', '▁티셔츠'],\n",
       " ['▁겐조', '▁맨투맨'],\n",
       " ['▁겐조', '▁맨투맨'],\n",
       " ['▁겐조', '▁맨투맨'],\n",
       " ['▁겐조', '▁타이거', '▁스톰', '▁자수', '▁맨투맨', '▁5'],\n",
       " ['▁겐조', '썬글라스'],\n",
       " ['▁당일무료배송', '▁겐조', '▁풀', '타이거', '▁자수', '▁맨투맨', '▁color', '▁2'],\n",
       " ['▁겐조', '▁캐시미어', '▁블루종'],\n",
       " ['▁19', 'ss', '▁겐조', '▁맨투맨', '▁급처', '▁상태', 's', '보장'],\n",
       " ['▁겐조', '▁호랑이', '▁맨투맨'],\n",
       " ['▁정품', '▁겐조', '▁호랑이', '▁맨투맨', '▁급처합니다'],\n",
       " ['▁kenzo', '▁선글라스', '▁정품', '▁가격', '▁내림', '▁5', '▁5', '▁4', '▁0'],\n",
       " ['▁겐조', '▁빅아이', '▁반팔'],\n",
       " ['▁겐조', '▁반팔티'],\n",
       " ['▁겐조', '▁맨투맨', '▁극미중고'],\n",
       " ['▁겐조', '▁맨투맨', '▁xl'],\n",
       " ['▁겐조', '▁세트'],\n",
       " ['▁겐조',\n",
       "  '▁스니커즈',\n",
       "  '▁38',\n",
       "  '▁250',\n",
       "  '사이즈',\n",
       "  '▁2',\n",
       "  's',\n",
       "  'n',\n",
       "  '231',\n",
       "  '▁f',\n",
       "  '51',\n",
       "  '▁99',\n",
       "  '로고',\n",
       "  '▁스니커즈'],\n",
       " ['▁겐조', '▁xl', '사이즈', '▁패딩', '팝니다'],\n",
       " ['▁겐조', '▁맨투맨'],\n",
       " ['▁겐조', '▁맨투맨'],\n",
       " ['▁겐조', '▁맨투맨'],\n",
       " ['▁겐조', '▁자수로고', '▁맨투맨'],\n",
       " ['▁정품', '▁겐조', '▁로고', '▁맨투맨', '▁s'],\n",
       " ['▁정품',\n",
       "  '▁마',\n",
       "  '수',\n",
       "  '나',\n",
       "  '가',\n",
       "  '안경',\n",
       "  '▁레',\n",
       "  '퍼스',\n",
       "  '▁다',\n",
       "  '케',\n",
       "  '다',\n",
       "  '▁겐조',\n",
       "  '▁콜라보',\n",
       "  '▁하금테'],\n",
       " ['▁겐조', '트레이닝바지'],\n",
       " ['▁겐조', '▁반팔티', '▁사이즈', 'm', '판매합니다'],\n",
       " ['▁겐조', '▁버킷햇', '▁kenzo'],\n",
       " ['▁겐조', '▁선글라스'],\n",
       " ['▁겐조', '▁셔츠'],\n",
       " ['▁시즌', 'new', '템', '▁kenzo', '▁타이거자수', '로고', '▁맨투맨', '▁남녀공용', '템', '▁사이즈'],\n",
       " ['▁19', 'fw', '▁겐조', '▁배색', '▁신상', '▁맨투맨'],\n",
       " ['▁당일무료배송', '▁겐조', '▁옐로우', '▁타이거', '▁자수', '▁맨투맨', '▁color', '▁2'],\n",
       " ['▁고퀄', '▁겐조', '반팔'],\n",
       " ['▁겐조', '▁맨투맨', '▁정품', '▁판매합니다'],\n",
       " ['▁겐조', '▁네오프랜', '▁맨투맨'],\n",
       " ['▁겐조', '반팔티'],\n",
       " ['▁겐조', '▁클러치'],\n",
       " ['▁정품', '▁겐조', '▁한정판', '▁레터링', '▁맨투맨', '▁급처합니다'],\n",
       " ['▁겐조', '▁지갑'],\n",
       " ['▁20', 'fw', '▁무스너클', '▁버니스웨터', '▁후드집업', '▁스톤아일랜드', '▁몽클레어', '▁톰브라운', '▁겐조'],\n",
       " ['▁l', '▁겐조', '▁자켓', '▁아이보리', '▁싱글', '▁블레이져'],\n",
       " ['▁free', '▁겐조', '스타일', '▁맨투맨티'],\n",
       " ['▁겐조', '▁가디건'],\n",
       " ['▁겐조', '▁자수', '맨투맨'],\n",
       " ['▁kenzo', '▁겐조', '▁빈티지', '▁크롭티'],\n",
       " ['▁겐조', '▁카라티'],\n",
       " ['▁겐조', '▁코듀로이팬츠'],\n",
       " ['▁겐조', '▁타이거', '▁맨투맨'],\n",
       " ['▁겐조', '▁클러치'],\n",
       " ['▁겐조', '▁링', '▁맨투맨'],\n",
       " ['▁겐조', '▁클러치백', '▁그냥', '▁던', '짐'],\n",
       " ['▁겐조', '▁로고', '▁맨투맨', '▁팔아요', '▁에눌가능'],\n",
       " ['▁겐조', '▁반지갑'],\n",
       " ['▁겐조', '▁kenzo', '▁캐주얼', '▁정장', '▁실크', '▁넥타이', '▁악세사리'],\n",
       " ['▁겐조', '▁겐죠', '▁카라티셔츠', '▁정품', '▁급처'],\n",
       " ['▁겐조', '▁자수로고', '▁맨투맨'],\n",
       " ['▁겐조', '▁맨투맨'],\n",
       " ['▁겐조', '▁카라티'],\n",
       " ['▁겐조', '▁클러치백'],\n",
       " ['▁급처', '▁명품', '▁반팔', '▁맨투맨', '▁의류', '▁구매', '▁겐조', '▁스톤', '▁꼼데', '▁등등'],\n",
       " ['▁l', '▁xl', '▁겐조', '▁사각', '▁자수', '▁맨투맨', '▁2', '컬러'],\n",
       " ['▁겐조', '▁팔로고', '▁티'],\n",
       " ['▁겐조', '▁맨투맨', '▁새상품'],\n",
       " ['▁겐조', '선그라스'],\n",
       " ['▁겐조', '▁호랑이', '▁빅로고', '▁맨투맨'],\n",
       " ['▁kenzo', '▁clutch'],\n",
       " ['▁겐조', '▁가죽', '쟈켓'],\n",
       " ['▁당일무료배송', '▁겐조', '▁파리스', '▁맨투맨', '▁color', '▁2'],\n",
       " ['▁겐조', '▁호랑이', '나염', '▁후드'],\n",
       " ['▁정품', '▁겐조', '▁호랑이', '▁맨투맨', '▁급처합니다'],\n",
       " ['▁당일무료배송', '▁겐조', '▁러브', '▁멀티', '▁나염', '▁맨투맨', '▁color', '▁3'],\n",
       " ['▁겐조', '타이거', '▁자수', '맨투맨'],\n",
       " ['▁정품', '▁겐조', '▁호랑이', '자수', '▁티셔츠', '▁타', '업체', '보다', '▁저렴', '합니다'],\n",
       " ['▁겐조', '▁티셔츠'],\n",
       " ['▁겐조', '▁맨투맨'],\n",
       " ['▁정품', '▁겐조', '클러치', '▁새상품', '▁한정판', '클러치', '▁급처합니다'],\n",
       " ['▁빈티지', '▁겐조', '가방'],\n",
       " ['▁겐조', '▁눈', '▁맨투맨'],\n",
       " ['▁a', '3', '25', '▁겐조', '골프', '▁롱', '▁바람막이', '▁자켓'],\n",
       " ['▁겐조', '▁19', '▁ss', '▁타이거', '클러치'],\n",
       " ['▁겐조', '▁클러치'],\n",
       " ['▁겐조', '▁멀티', '▁클러치'],\n",
       " ['▁겐조', '▁심볼', '▁절개', '▁맨투맨', '▁5'],\n",
       " ['▁겐조', '▁회색', '자수', '▁맨투맨', '▁m', '▁하자', '▁하나', '도', '▁없음'],\n",
       " ['▁겐조', '▁블랙', '▁맨투맨', '▁판매합니다'],\n",
       " ['▁겐조', '▁골프', '▁올드스쿨', '▁빈티지', '▁카라', '▁피케', '▁셔츠', '▁티셔츠'],\n",
       " ['▁겐조', '▁넥타이'],\n",
       " ['▁겐조', '▁물고기', '▁피쉬', '▁맨투맨', '▁멀티로고', '▁명품'],\n",
       " ['▁겐조', '▁맨투맨'],\n",
       " ['▁당일무료배송', '▁겐조', '▁자수', '에디션', '▁맨투맨', '▁color', '▁3'],\n",
       " ['▁나이키', '▁nsw', '▁클럽', '▁맨투맨', '▁스톤아일랜드', '▁겐조', '▁무스너클', '▁톰브라운', '▁지방시'],\n",
       " ['▁겐조', '▁멀티자수', '▁맨투맨'],\n",
       " ['▁113', '15', '▁겐조', '▁연청바지', '▁남자', '▁28', '인치', '▁데님', '▁진', '▁팬츠'],\n",
       " ['▁윤아', '▁겐조', '▁클러치'],\n",
       " ['▁19', 'ss', '▁겐조', '▁맨투맨'],\n",
       " ['▁겐조', '▁올드스쿨', '▁맨투맨'],\n",
       " ['▁겐조', '▁반팔', '▁팝니다', '▁목', '부분', '▁하자', '▁조금'],\n",
       " ['▁정품', '▁겐조', '▁빅아이', '▁맨투맨'],\n",
       " ['▁겐조', '▁숄더백'],\n",
       " ['▁겐조', '▁클러치백'],\n",
       " ['▁겐조', '▁맨투맨'],\n",
       " ['▁겐조', '▁맨투맨'],\n",
       " ['▁정품', '▁겐조', '▁스트라이프', '▁패턴', '▁니트', '웨어'],\n",
       " ['▁스톤아일랜드', '▁겐조', '▁마르셀로', '반팔'],\n",
       " ['▁겐조', '▁키즈', '▁후드집업'],\n",
       " ['▁겐조',\n",
       "  '▁정품',\n",
       "  '▁반팔티',\n",
       "  '95',\n",
       "  '▁100',\n",
       "  '▁시즌',\n",
       "  '아웃',\n",
       "  '▁돈',\n",
       "  '이',\n",
       "  '급',\n",
       "  '해',\n",
       "  '▁대폭',\n",
       "  '에눌'],\n",
       " ['▁18', 'ss', '▁겐조', '▁타이거', '▁자수', '▁그레이', '▁s', '사이즈'],\n",
       " ['▁겐조', '▁벙거지', '▁모자', '▁kenzo'],\n",
       " ['▁겐조', '반팔'],\n",
       " ['▁겐조', '▁청바지'],\n",
       " ['▁19', 'ss', '▁겐조', '▁반팔티', '▁정품', '▁새상품'],\n",
       " ['▁겐조', '▁클러치'],\n",
       " ['▁겐조', '▁유니크', '▁넥타이'],\n",
       " ['▁겐조', '▁타이거', '맨투맨', '▁급처'],\n",
       " ['▁겐조', '▁안경'],\n",
       " ['▁겐조', '▁정품', '▁에스', '빠', '듀', '슬립온'],\n",
       " ['▁겐조', '▁마르셀로', '▁스톤'],\n",
       " ['▁겐조', '▁에스파듀', '▁새상품', '▁정품', '▁여', '▁240'],\n",
       " ['▁겐조', '▁맨투맨', '▁타이거자수'],\n",
       " ['▁정품', '▁겐조', '▁맨투맨', '▁급처'],\n",
       " ['▁겐조', '▁슬렉스', '▁바지'],\n",
       " ['▁겐조', '▁반바지'],\n",
       " ['▁겐조'],\n",
       " ['▁겐조', '▁트레이닝', '▁조거팬츠'],\n",
       " ['▁겐조', '▁클러치'],\n",
       " ['▁f', '26', '37', '▁겐조', '▁투톤', '▁체크', '▁블레이저', '▁여자', '66', '사이즈', '▁유닛구제'],\n",
       " ['▁겐조', '▁맨투맨'],\n",
       " ['▁겐조', '▁미니', '타이거', '▁자수패치', '▁맨투맨', '▁1'],\n",
       " ['▁겐조', '▁클러치'],\n",
       " ['▁겐조',\n",
       "  '▁가죽배색',\n",
       "  '검정',\n",
       "  '▁숄더백',\n",
       "  '▁양피',\n",
       "  '가죽',\n",
       "  '배색',\n",
       "  '▁원산지',\n",
       "  '▁겐조',\n",
       "  '정품',\n",
       "  '▁검정',\n",
       "  '▁양피',\n",
       "  '가죽'],\n",
       " ['▁겐조', '▁후드티'],\n",
       " ['▁겐조', '▁맨투맨'],\n",
       " ['▁남성용', '▁겐조', '▁니트'],\n",
       " ['▁겐조', '▁로고', '▁반팔티'],\n",
       " ['▁판매완료', '▁겐조', '▁여성', '▁백로고', '▁절개', '▁스웨트', '▁셔츠', '▁블랙', '▁새상품'],\n",
       " ['▁정품', '▁겐조', '▁모직', '▁포켓', '▁포인트', '▁네이비', '▁미들', '▁싱글', '▁코트'],\n",
       " ['▁새상품', '▁겐조', '▁반팔티'],\n",
       " ['▁겐조', '▁맨투맨'],\n",
       " ['▁겐조', '▁반지갑'],\n",
       " ['▁정품', '▁겐조', '▁맨투맨', '▁s', '▁size'],\n",
       " ['▁겐조', '클러치'],\n",
       " ['▁필웨이', '▁겐조', '▁kenzo', '▁새상품', '▁정품', '▁영국', '직수입', '▁셔츠'],\n",
       " ['▁xl', '▁겐조', '▁블랙', '반팔', '▁카라티'],\n",
       " ['▁겐조', '▁맨투맨', '▁판매합니다'],\n",
       " ['▁겐조', '선그라스'],\n",
       " ['▁겐조', '▁타이거', '▁자수', '▁슬립온', '▁판매', '▁합니다'],\n",
       " ['▁당일무료배송', '▁겐조', '▁파리', '로고', '▁무지', '▁후드티셔츠', '▁color', '▁8'],\n",
       " ['▁겐조', '▁타이거', '프린트', '▁맨투맨', '▁2', '컬러', '▁국내배송'],\n",
       " ['▁겐조', '▁맨투맨'],\n",
       " ['▁겐조', '▁맨투맨'],\n",
       " ['▁겐조', '빅', '아이', '맨투맨'],\n",
       " ['▁겐조', '▁맨투맨', '▁xl', '▁정품'],\n",
       " ['▁겐조', '▁뉴', '▁타이거', '▁맨투맨', '▁1'],\n",
       " ['▁겐조', '▁맨투맨', '▁새상품'],\n",
       " ['▁m', '▁겐조', '▁멀티', '▁타이거자수', '▁맨투맨'],\n",
       " ['▁겐조', '▁맨투맨', '▁정품', '▁에눌', '▁가능'],\n",
       " ['▁겐조', '▁맨투맨'],\n",
       " ['▁95',\n",
       "  '▁100',\n",
       "  '▁겐조',\n",
       "  '▁kenzo',\n",
       "  '▁해외판',\n",
       "  '▁베이지',\n",
       "  '▁여유핏',\n",
       "  '▁남방',\n",
       "  '▁셔츠',\n",
       "  '▁남여공용'],\n",
       " ['▁겐조', '▁샌들'],\n",
       " ['▁고홍', '닷컴', '▁n', '▁58', '75', '▁겐조', '▁hm', '▁콜라보', '▁티셔츠'],\n",
       " ['▁겐조', '▁정품', '▁반팔', '▁팝니다'],\n",
       " ['▁겐조', '▁스타킹'],\n",
       " ['▁겐조', '▁맨투맨'],\n",
       " ['▁겐조', '▁긴팔티'],\n",
       " ['▁겐조', '▁맨투맨', '▁2', 'color'],\n",
       " ['▁갠조', '맨투맨', '▁정품', '▁오늘만'],\n",
       " ['▁무료배송', '▁겐조', '▁여성', '▁맨투맨'],\n",
       " ['▁겐조', '▁맨투맨'],\n",
       " ['▁겐조', '▁스냅백', '▁sale'],\n",
       " ['▁여름', '특가', '남여공용커플선글라스최저가', '판매', '▁겐조', '선글라스'],\n",
       " ['▁겐조', '▁타이거', '▁맨투맨'],\n",
       " ['▁겐조', '▁스톰', '▁타이거', '▁자수', '▁맨투맨', '▁1'],\n",
       " ['▁겐조', '치마'],\n",
       " ['▁필웨이', '▁겐조', '▁kenzo', '▁영국', '직수입', '▁정품', '▁새상품', '▁셔츠'],\n",
       " ['▁겐조', '▁멀티로고', '▁맨투맨'],\n",
       " ['▁겐조'],\n",
       " ['▁겐조', '진', '스', '▁여성', '청자켓'],\n",
       " ['▁겐조', '▁맨투맨'],\n",
       " ['▁겐조', '▁맨투맨'],\n",
       " ['▁겐조', '▁세트'],\n",
       " ['▁m', '▁정품', '▁겐조', '▁블루', '▁타이거', '▁니트', '▁스웨터'],\n",
       " ['▁겐조', '▁정품', '▁타이거', '▁슬립온', '▁220'],\n",
       " ['▁겐조', '▁타이거', '빅', '자수', '▁맨투맨', '▁라운드티', '▁s', '▁55', '▁66'],\n",
       " ['▁정품',\n",
       "  '▁새상품',\n",
       "  '▁19',\n",
       "  'ss',\n",
       "  '▁겐조',\n",
       "  '▁반팔티',\n",
       "  '▁스톤아일랜드',\n",
       "  '▁몽클레어',\n",
       "  '▁지방시',\n",
       "  '▁불론'],\n",
       " ['▁겐조', '▁목걸이', '▁골드', '▁펜던트'],\n",
       " ['▁겐조', '▁손수건'],\n",
       " ['▁겐조', '▁니트'],\n",
       " ['▁겐조', '▁반팔', '▁l'],\n",
       " ['▁겐조', '▁골프바지', '▁woman'],\n",
       " ['▁겐조', '자수', '벨트', '▁한정판', '▁갤러리아', '명품', '관', '▁정품'],\n",
       " ['▁겐조', '▁반팔티'],\n",
       " ['▁겐조', '▁타이거', '▁나염', '▁맨투맨', '▁5'],\n",
       " ['▁겐조', '▁니트', '▁가디건', '▁12', '▁팜', '▁컨디션', '▁최상'],\n",
       " ...]"
      ]
     },
     "execution_count": 96,
     "metadata": {},
     "output_type": "execute_result"
    }
   ],
   "source": [
    "kenzo"
   ]
  },
  {
   "cell_type": "code",
   "execution_count": 98,
   "metadata": {
    "scrolled": true
   },
   "outputs": [
    {
     "name": "stderr",
     "output_type": "stream",
     "text": [
      "\r",
      "  0%|          | 0/331 [00:00<?, ?it/s]"
     ]
    },
    {
     "name": "stdout",
     "output_type": "stream",
     "text": [
      "[['▁나이키'], ['▁nike'], ['▁조던']]\n"
     ]
    },
    {
     "name": "stderr",
     "output_type": "stream",
     "text": [
      "\r",
      "  0%|          | 1/331 [00:10<58:16, 10.60s/it]"
     ]
    },
    {
     "name": "stdout",
     "output_type": "stream",
     "text": [
      "[['▁스톤아일랜드'], ['▁stone', '▁island']]\n"
     ]
    },
    {
     "name": "stderr",
     "output_type": "stream",
     "text": [
      "\r",
      "  1%|          | 2/331 [00:17<52:41,  9.61s/it]"
     ]
    },
    {
     "name": "stdout",
     "output_type": "stream",
     "text": [
      "[['▁뉴발란스'], ['▁new', '▁balance'], ['▁뉴발']]\n"
     ]
    },
    {
     "name": "stderr",
     "output_type": "stream",
     "text": [
      "\r",
      "  1%|          | 3/331 [00:28<54:28,  9.96s/it]"
     ]
    },
    {
     "name": "stdout",
     "output_type": "stream",
     "text": [
      "[['▁아디다스'], ['▁adidas']]\n"
     ]
    },
    {
     "name": "stderr",
     "output_type": "stream",
     "text": [
      "\r",
      "  1%|          | 4/331 [00:35<49:53,  9.15s/it]"
     ]
    },
    {
     "name": "stdout",
     "output_type": "stream",
     "text": [
      "[['▁노스페이스'], ['▁north', '▁face'], ['▁노페'], ['▁더', '▁노스페이스']]\n"
     ]
    },
    {
     "name": "stderr",
     "output_type": "stream",
     "text": [
      "\r",
      "  2%|▏         | 5/331 [00:50<58:58, 10.85s/it]"
     ]
    },
    {
     "name": "stdout",
     "output_type": "stream",
     "text": [
      "[['▁스투시'], ['▁stussy']]\n"
     ]
    },
    {
     "name": "stderr",
     "output_type": "stream",
     "text": [
      "\r",
      "  2%|▏         | 6/331 [00:58<53:55,  9.96s/it]"
     ]
    },
    {
     "name": "stdout",
     "output_type": "stream",
     "text": [
      "[['▁아식스'], ['▁asics']]\n"
     ]
    },
    {
     "name": "stderr",
     "output_type": "stream",
     "text": [
      "\r",
      "  2%|▏         | 7/331 [01:06<50:08,  9.29s/it]"
     ]
    },
    {
     "name": "stdout",
     "output_type": "stream",
     "text": [
      "[['▁무신사스탠다드'], ['▁m', 'us', 'in', 'sa', '▁standard'], ['▁무탠다드'], ['▁무신사', '스텐다드']]\n"
     ]
    },
    {
     "name": "stderr",
     "output_type": "stream",
     "text": [
      "\r",
      "  2%|▏         | 8/331 [01:21<58:50, 10.93s/it]"
     ]
    },
    {
     "name": "stdout",
     "output_type": "stream",
     "text": [
      "[['▁디스이즈네버댓'], ['▁thisisneverthat'], ['▁디네뎃']]\n"
     ]
    },
    {
     "name": "stderr",
     "output_type": "stream",
     "text": [
      "\r",
      "  3%|▎         | 9/331 [01:31<58:31, 10.91s/it]"
     ]
    },
    {
     "name": "stdout",
     "output_type": "stream",
     "text": [
      "[['▁커버낫'], ['▁con', 'ver', 'na', 't']]\n"
     ]
    },
    {
     "name": "stderr",
     "output_type": "stream",
     "text": [
      "\r",
      "  3%|▎         | 10/331 [01:39<53:24,  9.98s/it]"
     ]
    },
    {
     "name": "stdout",
     "output_type": "stream",
     "text": [
      "[['▁메종키츠네'], ['▁maison', '▁ki', 'ts', 'une'], ['▁매', '종', '키', '츠', '네']]\n"
     ]
    },
    {
     "name": "stderr",
     "output_type": "stream",
     "text": [
      "\r",
      "  3%|▎         | 11/331 [01:51<55:36, 10.43s/it]"
     ]
    },
    {
     "name": "stdout",
     "output_type": "stream",
     "text": [
      "[['▁아미'], ['▁ami']]\n"
     ]
    },
    {
     "name": "stderr",
     "output_type": "stream",
     "text": [
      "\r",
      "  4%|▎         | 12/331 [01:59<51:41,  9.72s/it]"
     ]
    },
    {
     "name": "stdout",
     "output_type": "stream",
     "text": [
      "[['▁아더에러'], ['▁a', 'der', '▁e', 'rr', 'or']]\n"
     ]
    },
    {
     "name": "stderr",
     "output_type": "stream",
     "text": [
      "\r",
      "  4%|▍         | 13/331 [02:07<48:44,  9.20s/it]"
     ]
    },
    {
     "name": "stdout",
     "output_type": "stream",
     "text": [
      "[['▁반스'], ['▁vans']]\n"
     ]
    },
    {
     "name": "stderr",
     "output_type": "stream",
     "text": [
      "\r",
      "  4%|▍         | 14/331 [02:15<46:20,  8.77s/it]"
     ]
    },
    {
     "name": "stdout",
     "output_type": "stream",
     "text": [
      "[['▁아크네'], ['▁acne'], ['▁acne', '▁studio'], ['▁아크네', '▁스튜디오']]\n"
     ]
    },
    {
     "name": "stderr",
     "output_type": "stream",
     "text": [
      "\r",
      "  5%|▍         | 15/331 [02:29<54:41, 10.38s/it]"
     ]
    },
    {
     "name": "stdout",
     "output_type": "stream",
     "text": [
      "[['▁컨버스'], ['▁converse']]\n"
     ]
    },
    {
     "name": "stderr",
     "output_type": "stream",
     "text": [
      "\r",
      "  5%|▍         | 16/331 [02:36<49:55,  9.51s/it]"
     ]
    },
    {
     "name": "stdout",
     "output_type": "stream",
     "text": [
      "[['▁유니클로'], ['▁uniqlo']]\n"
     ]
    },
    {
     "name": "stderr",
     "output_type": "stream",
     "text": [
      "\r",
      "  5%|▌         | 17/331 [02:44<46:26,  8.87s/it]"
     ]
    },
    {
     "name": "stdout",
     "output_type": "stream",
     "text": [
      "[['▁알파인더스트리'], ['▁alpha', '▁in', 'du', 'st', 'rie', 's']]\n"
     ]
    },
    {
     "name": "stderr",
     "output_type": "stream",
     "text": [
      "\r",
      "  5%|▌         | 18/331 [02:51<43:57,  8.43s/it]"
     ]
    },
    {
     "name": "stdout",
     "output_type": "stream",
     "text": [
      "[['▁에센셜'], ['▁essential']]\n"
     ]
    },
    {
     "name": "stderr",
     "output_type": "stream",
     "text": [
      "\r",
      "  6%|▌         | 19/331 [02:59<43:32,  8.37s/it]"
     ]
    },
    {
     "name": "stdout",
     "output_type": "stream",
     "text": [
      "[['▁내셔널지오그래픽'], ['▁n', 'ation', 'al', '▁ge', 'o', 'graph', 'ic'], ['▁네셔널지오그래픽'], ['▁내셔널', '지오', '그래', '피'], ['▁네셔널', '지오', '그래', '피']]\n"
     ]
    },
    {
     "name": "stderr",
     "output_type": "stream",
     "text": [
      "\r",
      "  6%|▌         | 20/331 [03:18<59:10, 11.42s/it]"
     ]
    },
    {
     "name": "stdout",
     "output_type": "stream",
     "text": [
      "[['▁앤더슨벨'], ['▁andersson', '▁bell'], ['▁엔더슨벨'], ['▁앤', '더스', '벨'], ['▁엔', '더스', '벨']]\n"
     ]
    },
    {
     "name": "stderr",
     "output_type": "stream",
     "text": [
      "\r",
      "  6%|▋         | 21/331 [03:35<1:07:55, 13.15s/it]"
     ]
    },
    {
     "name": "stdout",
     "output_type": "stream",
     "text": [
      "[['▁파타고니아'], ['▁patagonia']]\n"
     ]
    },
    {
     "name": "stderr",
     "output_type": "stream",
     "text": [
      "\r",
      "  7%|▋         | 22/331 [03:42<58:44, 11.41s/it]  "
     ]
    },
    {
     "name": "stdout",
     "output_type": "stream",
     "text": [
      "[['▁르꼬끄'], ['▁le', '▁coq'], ['▁le', '▁coq', '▁sportif'], ['▁르꼬끄', '▁스', '포르', '티', '프'], ['▁르', '코', '크']]\n"
     ]
    },
    {
     "name": "stderr",
     "output_type": "stream",
     "text": [
      "\r",
      "  7%|▋         | 23/331 [04:00<1:08:12, 13.29s/it]"
     ]
    },
    {
     "name": "stdout",
     "output_type": "stream",
     "text": [
      "[['▁칼하트'], ['▁carhartt']]\n"
     ]
    },
    {
     "name": "stderr",
     "output_type": "stream",
     "text": [
      "\r",
      "  7%|▋         | 24/331 [04:08<59:47, 11.68s/it]  "
     ]
    },
    {
     "name": "stdout",
     "output_type": "stream",
     "text": [
      "[['▁구찌'], ['▁gucci']]\n"
     ]
    },
    {
     "name": "stderr",
     "output_type": "stream",
     "text": [
      "\r",
      "  8%|▊         | 25/331 [04:15<53:16, 10.45s/it]"
     ]
    },
    {
     "name": "stdout",
     "output_type": "stream",
     "text": [
      "[['▁프라다'], ['▁prada']]\n"
     ]
    },
    {
     "name": "stderr",
     "output_type": "stream",
     "text": [
      "\r",
      "  8%|▊         | 26/331 [04:23<48:39,  9.57s/it]"
     ]
    },
    {
     "name": "stdout",
     "output_type": "stream",
     "text": [
      "[['▁자라'], ['▁zara']]\n"
     ]
    },
    {
     "name": "stderr",
     "output_type": "stream",
     "text": [
      "\r",
      "  8%|▊         | 27/331 [04:31<45:32,  8.99s/it]"
     ]
    },
    {
     "name": "stdout",
     "output_type": "stream",
     "text": [
      "[['▁코스'], ['▁cos']]\n"
     ]
    },
    {
     "name": "stderr",
     "output_type": "stream",
     "text": [
      "\r",
      "  8%|▊         | 28/331 [04:38<43:33,  8.63s/it]"
     ]
    },
    {
     "name": "stdout",
     "output_type": "stream",
     "text": [
      "[['▁메종마르지엘라'], ['▁maison', '▁margiela'], ['▁매', '종', '마르지엘라']]\n"
     ]
    },
    {
     "name": "stderr",
     "output_type": "stream",
     "text": [
      "\r",
      "  9%|▉         | 29/331 [04:49<46:41,  9.28s/it]"
     ]
    },
    {
     "name": "stdout",
     "output_type": "stream",
     "text": [
      "[['▁라퍼지스토어'], ['▁la', '▁f', 'ud', 'ge', '▁store']]\n"
     ]
    },
    {
     "name": "stderr",
     "output_type": "stream",
     "text": [
      "\r",
      "  9%|▉         | 30/331 [04:57<44:01,  8.77s/it]"
     ]
    },
    {
     "name": "stdout",
     "output_type": "stream",
     "text": [
      "[['▁비바스튜디오'], ['▁vivastudio'], ['▁비바', '▁스투', '디오']]\n"
     ]
    },
    {
     "name": "stderr",
     "output_type": "stream",
     "text": [
      "\r",
      "  9%|▉         | 31/331 [05:08<47:01,  9.41s/it]"
     ]
    },
    {
     "name": "stdout",
     "output_type": "stream",
     "text": [
      "[['▁프라이탁'], ['▁fre', 'ita', 'g']]\n"
     ]
    },
    {
     "name": "stderr",
     "output_type": "stream",
     "text": [
      "\r",
      " 10%|▉         | 32/331 [05:15<44:12,  8.87s/it]"
     ]
    },
    {
     "name": "stdout",
     "output_type": "stream",
     "text": [
      "[['▁커먼프로젝트'], ['▁com', 'mon', '▁project', 's'], ['▁커먼', '프로', '잭', '트']]\n"
     ]
    },
    {
     "name": "stderr",
     "output_type": "stream",
     "text": [
      "\r",
      " 10%|▉         | 33/331 [05:26<47:09,  9.50s/it]"
     ]
    },
    {
     "name": "stdout",
     "output_type": "stream",
     "text": [
      "[['▁라코스테'], ['▁lacoste'], ['▁라', '꼬', '스테'], ['▁라코스', '태'], ['▁라코스떼']]\n"
     ]
    },
    {
     "name": "stderr",
     "output_type": "stream",
     "text": [
      "\r",
      " 10%|█         | 34/331 [05:43<58:28, 11.81s/it]"
     ]
    },
    {
     "name": "stdout",
     "output_type": "stream",
     "text": [
      "[['▁챔피온'], ['▁champion'], ['▁챔피언']]\n"
     ]
    },
    {
     "name": "stderr",
     "output_type": "stream",
     "text": [
      "\r",
      " 11%|█         | 35/331 [05:55<57:33, 11.67s/it]"
     ]
    },
    {
     "name": "stdout",
     "output_type": "stream",
     "text": [
      "[['▁모드나인'], ['▁mod', 'n', 'ine']]\n"
     ]
    },
    {
     "name": "stderr",
     "output_type": "stream",
     "text": [
      "\r",
      " 11%|█         | 36/331 [06:02<51:25, 10.46s/it]"
     ]
    },
    {
     "name": "stdout",
     "output_type": "stream",
     "text": [
      "[['▁슈프림'], ['▁supreme']]\n"
     ]
    },
    {
     "name": "stderr",
     "output_type": "stream",
     "text": [
      "\r",
      " 11%|█         | 37/331 [06:10<47:02,  9.60s/it]"
     ]
    },
    {
     "name": "stdout",
     "output_type": "stream",
     "text": [
      "[['▁오베이'], ['▁obey'], ['▁오', '배', '이']]\n"
     ]
    },
    {
     "name": "stderr",
     "output_type": "stream",
     "text": [
      "\r",
      " 11%|█▏        | 38/331 [06:21<48:46,  9.99s/it]"
     ]
    },
    {
     "name": "stdout",
     "output_type": "stream",
     "text": [
      "[['▁피어오브갓'], ['▁fear', '▁of', '▁god'], ['▁피오갓'], ['▁fog']]\n"
     ]
    },
    {
     "name": "stderr",
     "output_type": "stream",
     "text": [
      "\r",
      " 12%|█▏        | 39/331 [06:35<54:40, 11.24s/it]"
     ]
    },
    {
     "name": "stdout",
     "output_type": "stream",
     "text": [
      "[['▁루이비통'], ['▁louis', '▁vuitton'], ['▁루이비똥'], ['▁루비', '이', '퉁']]\n"
     ]
    },
    {
     "name": "stderr",
     "output_type": "stream",
     "text": [
      "\r",
      " 12%|█▏        | 40/331 [06:49<58:30, 12.06s/it]"
     ]
    },
    {
     "name": "stdout",
     "output_type": "stream",
     "text": [
      "[['▁페이탈리즘'], ['▁f', 'ata', 'l', 'ism'], ['▁패', '이', '탈', '리즘']]\n"
     ]
    },
    {
     "name": "stderr",
     "output_type": "stream",
     "text": [
      "\r",
      " 12%|█▏        | 41/331 [07:00<56:25, 11.67s/it]"
     ]
    },
    {
     "name": "stdout",
     "output_type": "stream",
     "text": [
      "[['▁뉴에라'], ['▁new', '▁', 'era']]\n"
     ]
    },
    {
     "name": "stderr",
     "output_type": "stream",
     "text": [
      "\r",
      " 13%|█▎        | 42/331 [07:07<50:26, 10.47s/it]"
     ]
    },
    {
     "name": "stdout",
     "output_type": "stream",
     "text": [
      "[['▁바버'], ['▁barbour']]\n"
     ]
    },
    {
     "name": "stderr",
     "output_type": "stream",
     "text": [
      "\r",
      " 13%|█▎        | 43/331 [07:15<46:05,  9.60s/it]"
     ]
    },
    {
     "name": "stdout",
     "output_type": "stream",
     "text": [
      "[['▁피스워커'], ['▁piece', '▁work', 'er']]\n"
     ]
    },
    {
     "name": "stderr",
     "output_type": "stream",
     "text": [
      "\r",
      " 13%|█▎        | 44/331 [07:23<43:01,  9.00s/it]"
     ]
    },
    {
     "name": "stdout",
     "output_type": "stream",
     "text": [
      "[['▁오프화이트'], ['▁off', '▁white']]\n"
     ]
    },
    {
     "name": "stderr",
     "output_type": "stream",
     "text": [
      "\r",
      " 14%|█▎        | 45/331 [07:30<40:52,  8.57s/it]"
     ]
    },
    {
     "name": "stdout",
     "output_type": "stream",
     "text": [
      "[['▁톰브라운'], ['▁thom', '▁browne']]\n"
     ]
    },
    {
     "name": "stderr",
     "output_type": "stream",
     "text": [
      "\r",
      " 14%|█▍        | 46/331 [07:38<39:01,  8.22s/it]"
     ]
    },
    {
     "name": "stdout",
     "output_type": "stream",
     "text": [
      "[['▁보테가베네타'], ['▁bottega', '▁veneta'], ['▁보테가']]\n"
     ]
    },
    {
     "name": "stderr",
     "output_type": "stream",
     "text": [
      "\r",
      " 14%|█▍        | 47/331 [07:48<42:20,  8.94s/it]"
     ]
    },
    {
     "name": "stdout",
     "output_type": "stream",
     "text": [
      "[['▁디올'], ['▁dior']]\n"
     ]
    },
    {
     "name": "stderr",
     "output_type": "stream",
     "text": [
      "\r",
      " 15%|█▍        | 48/331 [07:56<40:16,  8.54s/it]"
     ]
    },
    {
     "name": "stdout",
     "output_type": "stream",
     "text": [
      "[['▁알렉산더맥퀸'], ['▁alexander', '▁mcqueen'], ['▁알랙산더맥퀸']]\n"
     ]
    },
    {
     "name": "stderr",
     "output_type": "stream",
     "text": [
      "\r",
      " 15%|█▍        | 49/331 [08:06<43:01,  9.15s/it]"
     ]
    },
    {
     "name": "stdout",
     "output_type": "stream",
     "text": [
      "[['▁무스너클'], ['▁moose', 'k', 'n', 'uck', 'les']]\n"
     ]
    },
    {
     "name": "stderr",
     "output_type": "stream",
     "text": [
      "\r",
      " 15%|█▌        | 50/331 [08:14<40:40,  8.68s/it]"
     ]
    },
    {
     "name": "stdout",
     "output_type": "stream",
     "text": [
      "[['▁티파니앤코'], ['▁tiffany'], ['▁t', 'iff', 'an', 'c', 'y', '▁', '&', '▁co']]\n"
     ]
    },
    {
     "name": "stderr",
     "output_type": "stream",
     "text": [
      "\r",
      " 15%|█▌        | 51/331 [08:25<43:17,  9.28s/it]"
     ]
    },
    {
     "name": "stdout",
     "output_type": "stream",
     "text": [
      "[['▁에르메스'], ['▁hermes'], ['▁애', '르', '매', '스']]\n"
     ]
    },
    {
     "name": "stderr",
     "output_type": "stream",
     "text": [
      "\r",
      " 16%|█▌        | 52/331 [08:36<45:18,  9.75s/it]"
     ]
    },
    {
     "name": "stdout",
     "output_type": "stream",
     "text": [
      "[['▁샤넬'], ['▁chanel']]\n"
     ]
    },
    {
     "name": "stderr",
     "output_type": "stream",
     "text": [
      "\r",
      " 16%|█▌        | 53/331 [08:43<42:03,  9.08s/it]"
     ]
    },
    {
     "name": "stdout",
     "output_type": "stream",
     "text": [
      "[['▁토템'], ['▁tote', 'me']]\n"
     ]
    },
    {
     "name": "stderr",
     "output_type": "stream",
     "text": [
      "\r",
      " 16%|█▋        | 54/331 [08:51<40:02,  8.67s/it]"
     ]
    },
    {
     "name": "stdout",
     "output_type": "stream",
     "text": [
      "[['▁자크뮈스'], ['▁j', 'ac', 'que', 'm', 'us']]\n"
     ]
    },
    {
     "name": "stderr",
     "output_type": "stream",
     "text": [
      "\r",
      " 17%|█▋        | 55/331 [08:59<38:51,  8.45s/it]"
     ]
    },
    {
     "name": "stdout",
     "output_type": "stream",
     "text": [
      "[['▁단톤'], ['▁danton']]\n"
     ]
    },
    {
     "name": "stderr",
     "output_type": "stream",
     "text": [
      "\r",
      " 17%|█▋        | 56/331 [09:06<37:38,  8.21s/it]"
     ]
    },
    {
     "name": "stdout",
     "output_type": "stream",
     "text": [
      "[['▁판도라'], ['▁pandora']]\n"
     ]
    },
    {
     "name": "stderr",
     "output_type": "stream",
     "text": [
      "\r",
      " 17%|█▋        | 57/331 [09:14<36:40,  8.03s/it]"
     ]
    },
    {
     "name": "stdout",
     "output_type": "stream",
     "text": [
      "[['▁스푸닝'], ['▁sp', 'oon', 'ing']]\n"
     ]
    },
    {
     "name": "stderr",
     "output_type": "stream",
     "text": [
      "\r",
      " 18%|█▊        | 58/331 [09:22<36:01,  7.92s/it]"
     ]
    },
    {
     "name": "stdout",
     "output_type": "stream",
     "text": [
      "[['▁마뗑킴'], ['▁m', 'at', 'in', '▁kim'], ['▁마틴킴']]\n"
     ]
    },
    {
     "name": "stderr",
     "output_type": "stream",
     "text": [
      "\r",
      " 18%|█▊        | 59/331 [09:33<40:02,  8.83s/it]"
     ]
    },
    {
     "name": "stdout",
     "output_type": "stream",
     "text": [
      "[['▁더오픈프로덕트'], ['▁the', 'o', 'pen', '▁', 'product']]\n"
     ]
    },
    {
     "name": "stderr",
     "output_type": "stream",
     "text": [
      "\r",
      " 18%|█▊        | 60/331 [09:40<38:00,  8.42s/it]"
     ]
    },
    {
     "name": "stdout",
     "output_type": "stream",
     "text": [
      "[['▁다이애그널'], ['▁diagon', 'al'], ['▁다이', '에', '그', '널']]\n"
     ]
    },
    {
     "name": "stderr",
     "output_type": "stream",
     "text": [
      "\r",
      " 18%|█▊        | 61/331 [09:51<41:06,  9.14s/it]"
     ]
    },
    {
     "name": "stdout",
     "output_type": "stream",
     "text": [
      "[['▁낫띵리튼'], ['▁no', 'thing', '▁w', 'ri', 't', 'ten']]\n"
     ]
    },
    {
     "name": "stderr",
     "output_type": "stream",
     "text": [
      "\r",
      " 19%|█▊        | 62/331 [09:59<39:29,  8.81s/it]"
     ]
    },
    {
     "name": "stdout",
     "output_type": "stream",
     "text": [
      "[['▁미닛뮤트'], ['▁mini', 't', 'm', 'ute']]\n"
     ]
    },
    {
     "name": "stderr",
     "output_type": "stream",
     "text": [
      "\r",
      " 19%|█▉        | 63/331 [10:07<38:04,  8.52s/it]"
     ]
    },
    {
     "name": "stdout",
     "output_type": "stream",
     "text": [
      "[['▁소프트서울'], ['▁soft', '▁seoul']]\n"
     ]
    },
    {
     "name": "stderr",
     "output_type": "stream",
     "text": [
      "\r",
      " 19%|█▉        | 64/331 [10:15<36:58,  8.31s/it]"
     ]
    },
    {
     "name": "stdout",
     "output_type": "stream",
     "text": [
      "[['▁소우소우'], ['▁s', 'ou', '▁s', 'ou']]\n"
     ]
    },
    {
     "name": "stderr",
     "output_type": "stream",
     "text": [
      "\r",
      " 20%|█▉        | 65/331 [10:23<36:27,  8.22s/it]"
     ]
    },
    {
     "name": "stdout",
     "output_type": "stream",
     "text": [
      "[['▁', '텔', '파'], ['▁t', 'el', 'f', 'ar']]\n"
     ]
    },
    {
     "name": "stderr",
     "output_type": "stream",
     "text": [
      "\r",
      " 20%|█▉        | 66/331 [10:30<35:37,  8.07s/it]"
     ]
    },
    {
     "name": "stdout",
     "output_type": "stream",
     "text": [
      "[['▁톰보이'], ['▁tom', '▁boy']]\n"
     ]
    },
    {
     "name": "stderr",
     "output_type": "stream",
     "text": [
      "\r",
      " 20%|██        | 67/331 [10:38<34:45,  7.90s/it]"
     ]
    },
    {
     "name": "stdout",
     "output_type": "stream",
     "text": [
      "[['▁오소이'], ['▁os', 'oi']]\n"
     ]
    },
    {
     "name": "stderr",
     "output_type": "stream",
     "text": [
      "\r",
      " 21%|██        | 68/331 [10:45<34:10,  7.80s/it]"
     ]
    },
    {
     "name": "stdout",
     "output_type": "stream",
     "text": [
      "[['▁스타일난다'], ['▁style', 'n', 'and', 'a']]\n"
     ]
    },
    {
     "name": "stderr",
     "output_type": "stream",
     "text": [
      "\r",
      " 21%|██        | 69/331 [10:53<33:27,  7.66s/it]"
     ]
    },
    {
     "name": "stdout",
     "output_type": "stream",
     "text": [
      "[['▁이자벨마랑'], ['▁isabel', '▁marant'], ['▁is', 'b', 'el', '▁marant']]\n"
     ]
    },
    {
     "name": "stderr",
     "output_type": "stream",
     "text": [
      "\r",
      " 21%|██        | 70/331 [11:03<37:12,  8.55s/it]"
     ]
    },
    {
     "name": "stdout",
     "output_type": "stream",
     "text": [
      "[['▁페라가모'], ['▁ferragamo']]\n"
     ]
    },
    {
     "name": "stderr",
     "output_type": "stream",
     "text": [
      "\r",
      " 21%|██▏       | 71/331 [11:11<35:28,  8.19s/it]"
     ]
    },
    {
     "name": "stdout",
     "output_type": "stream",
     "text": [
      "[['▁투미'], ['▁tumi']]\n"
     ]
    },
    {
     "name": "stderr",
     "output_type": "stream",
     "text": [
      "\r",
      " 22%|██▏       | 72/331 [11:18<34:34,  8.01s/it]"
     ]
    },
    {
     "name": "stdout",
     "output_type": "stream",
     "text": [
      "[['▁닥스'], ['▁daks']]\n"
     ]
    },
    {
     "name": "stderr",
     "output_type": "stream",
     "text": [
      "\r",
      " 22%|██▏       | 73/331 [11:26<34:42,  8.07s/it]"
     ]
    },
    {
     "name": "stdout",
     "output_type": "stream",
     "text": [
      "[['▁오즈세컨'], ['▁o', \"'\", '▁2', 'nd']]\n"
     ]
    },
    {
     "name": "stderr",
     "output_type": "stream",
     "text": [
      "\r",
      " 22%|██▏       | 74/331 [11:35<34:34,  8.07s/it]"
     ]
    },
    {
     "name": "stdout",
     "output_type": "stream",
     "text": [
      "[['▁메트로시티'], ['▁metrocity'], ['▁매트로시티']]\n"
     ]
    },
    {
     "name": "stderr",
     "output_type": "stream",
     "text": [
      "\r",
      " 23%|██▎       | 75/331 [11:45<37:43,  8.84s/it]"
     ]
    },
    {
     "name": "stdout",
     "output_type": "stream",
     "text": [
      "[['▁지샥'], ['▁g', 'sh', 'ock'], ['▁쥐샥']]\n"
     ]
    },
    {
     "name": "stderr",
     "output_type": "stream",
     "text": [
      "\r",
      " 23%|██▎       | 76/331 [11:56<40:10,  9.45s/it]"
     ]
    },
    {
     "name": "stdout",
     "output_type": "stream",
     "text": [
      "[['▁롤렉스'], ['▁rolex'], ['▁로렉스'], ['▁로', '랙스'], ['▁롤', '랙스']]\n"
     ]
    },
    {
     "name": "stderr",
     "output_type": "stream",
     "text": [
      "\r",
      " 23%|██▎       | 77/331 [12:14<51:04, 12.06s/it]"
     ]
    },
    {
     "name": "stdout",
     "output_type": "stream",
     "text": [
      "[['▁룰루레몬'], ['▁lu', 'lu', 'le', 'mon']]\n"
     ]
    },
    {
     "name": "stderr",
     "output_type": "stream",
     "text": [
      "\r",
      " 24%|██▎       | 78/331 [12:22<45:23, 10.77s/it]"
     ]
    },
    {
     "name": "stdout",
     "output_type": "stream",
     "text": [
      "[['▁젝시믹스'], ['▁x', 'ex', 'y', 'mi', 'x']]\n"
     ]
    },
    {
     "name": "stderr",
     "output_type": "stream",
     "text": [
      "\r",
      " 24%|██▍       | 79/331 [12:30<41:45,  9.94s/it]"
     ]
    },
    {
     "name": "stdout",
     "output_type": "stream",
     "text": [
      "[['▁안다르'], ['▁and', 'ar']]\n"
     ]
    },
    {
     "name": "stderr",
     "output_type": "stream",
     "text": [
      "\r",
      " 24%|██▍       | 80/331 [12:38<38:54,  9.30s/it]"
     ]
    },
    {
     "name": "stdout",
     "output_type": "stream",
     "text": [
      "[['▁캘러웨이'], ['▁cal', 'la', 'way']]\n"
     ]
    },
    {
     "name": "stderr",
     "output_type": "stream",
     "text": [
      "\r",
      " 24%|██▍       | 81/331 [12:45<36:27,  8.75s/it]"
     ]
    },
    {
     "name": "stdout",
     "output_type": "stream",
     "text": [
      "[['▁폴로'], ['▁polo'], ['▁ralphlauren'], ['▁폴로', '▁랄프로렌'], ['▁랄프로렌']]\n"
     ]
    },
    {
     "name": "stderr",
     "output_type": "stream",
     "text": [
      "\r",
      " 25%|██▍       | 82/331 [13:02<46:42, 11.25s/it]"
     ]
    },
    {
     "name": "stdout",
     "output_type": "stream",
     "text": [
      "[['▁타미힐피거'], ['▁tommy', '▁hilfiger']]\n"
     ]
    },
    {
     "name": "stderr",
     "output_type": "stream",
     "text": [
      "\r",
      " 25%|██▌       | 83/331 [13:10<41:43, 10.10s/it]"
     ]
    },
    {
     "name": "stdout",
     "output_type": "stream",
     "text": [
      "[['▁리바이스'], ['▁levis']]\n"
     ]
    },
    {
     "name": "stderr",
     "output_type": "stream",
     "text": [
      "\r",
      " 25%|██▌       | 84/331 [13:17<38:21,  9.32s/it]"
     ]
    },
    {
     "name": "stdout",
     "output_type": "stream",
     "text": [
      "[['▁띠어리'], ['▁theory']]\n"
     ]
    },
    {
     "name": "stderr",
     "output_type": "stream",
     "text": [
      "\r",
      " 26%|██▌       | 85/331 [13:25<36:01,  8.79s/it]"
     ]
    },
    {
     "name": "stdout",
     "output_type": "stream",
     "text": [
      "[['▁언더아머'], ['▁under', '▁ar', 'm', 'our']]\n"
     ]
    },
    {
     "name": "stderr",
     "output_type": "stream",
     "text": [
      "\r",
      " 26%|██▌       | 86/331 [13:32<34:11,  8.37s/it]"
     ]
    },
    {
     "name": "stdout",
     "output_type": "stream",
     "text": [
      "[['▁캉골'], ['▁kangol']]\n"
     ]
    },
    {
     "name": "stderr",
     "output_type": "stream",
     "text": [
      "\r",
      " 26%|██▋       | 87/331 [13:40<33:06,  8.14s/it]"
     ]
    },
    {
     "name": "stdout",
     "output_type": "stream",
     "text": [
      "[['▁널디'], ['▁nerdy']]\n"
     ]
    },
    {
     "name": "stderr",
     "output_type": "stream",
     "text": [
      "\r",
      " 27%|██▋       | 88/331 [13:47<32:11,  7.95s/it]"
     ]
    },
    {
     "name": "stdout",
     "output_type": "stream",
     "text": [
      "[['▁우알롱'], ['▁w', 'oo', 'al', 'ong']]\n"
     ]
    },
    {
     "name": "stderr",
     "output_type": "stream",
     "text": [
      "\r",
      " 27%|██▋       | 89/331 [13:55<31:44,  7.87s/it]"
     ]
    },
    {
     "name": "stdout",
     "output_type": "stream",
     "text": [
      "[['▁발렌시아가'], ['▁balenciaga']]\n"
     ]
    },
    {
     "name": "stderr",
     "output_type": "stream",
     "text": [
      "\r",
      " 27%|██▋       | 90/331 [14:03<31:53,  7.94s/it]"
     ]
    },
    {
     "name": "stdout",
     "output_type": "stream",
     "text": [
      "[['▁고야드'], ['▁goyard']]\n"
     ]
    },
    {
     "name": "stderr",
     "output_type": "stream",
     "text": [
      "\r",
      " 27%|██▋       | 91/331 [14:11<31:54,  7.98s/it]"
     ]
    },
    {
     "name": "stdout",
     "output_type": "stream",
     "text": [
      "[['▁젠틀몬스터'], ['▁gentle', '▁mon', 'ster']]\n"
     ]
    },
    {
     "name": "stderr",
     "output_type": "stream",
     "text": [
      "\r",
      " 28%|██▊       | 92/331 [14:19<31:37,  7.94s/it]"
     ]
    },
    {
     "name": "stdout",
     "output_type": "stream",
     "text": [
      "[['▁크록스'], ['▁c', 'roc', 's']]\n"
     ]
    },
    {
     "name": "stderr",
     "output_type": "stream",
     "text": [
      "\r",
      " 28%|██▊       | 93/331 [14:27<31:05,  7.84s/it]"
     ]
    },
    {
     "name": "stdout",
     "output_type": "stream",
     "text": [
      "[['▁우포스'], ['▁o', 'of', 'o', 's']]\n"
     ]
    },
    {
     "name": "stderr",
     "output_type": "stream",
     "text": [
      "\r",
      " 28%|██▊       | 94/331 [14:35<31:10,  7.89s/it]"
     ]
    },
    {
     "name": "stdout",
     "output_type": "stream",
     "text": [
      "[['▁셀린느'], ['▁celine']]\n"
     ]
    },
    {
     "name": "stderr",
     "output_type": "stream",
     "text": [
      "\r",
      " 29%|██▊       | 95/331 [14:43<31:11,  7.93s/it]"
     ]
    },
    {
     "name": "stdout",
     "output_type": "stream",
     "text": [
      "[['▁겐조'], ['▁kenzo'], ['▁갠조']]\n"
     ]
    },
    {
     "name": "stderr",
     "output_type": "stream",
     "text": [
      "\r",
      " 29%|██▉       | 96/331 [14:54<34:34,  8.83s/it]"
     ]
    },
    {
     "name": "stdout",
     "output_type": "stream",
     "text": [
      "[['▁파라점퍼스'], ['▁para', '▁jumper', 's']]\n"
     ]
    },
    {
     "name": "stderr",
     "output_type": "stream",
     "text": [
      "\r",
      " 29%|██▉       | 97/331 [15:02<33:24,  8.56s/it]"
     ]
    },
    {
     "name": "stdout",
     "output_type": "stream",
     "text": [
      "[['▁캐나다구스'], ['▁canada', '▁goose'], ['▁케', '나다구스']]\n"
     ]
    },
    {
     "name": "stderr",
     "output_type": "stream",
     "text": [
      "\r",
      " 30%|██▉       | 98/331 [15:12<35:51,  9.24s/it]"
     ]
    },
    {
     "name": "stdout",
     "output_type": "stream",
     "text": [
      "[['▁맥케이지'], ['▁m', 'ack', 'age'], ['▁맥', '캐', '이지']]\n"
     ]
    },
    {
     "name": "stderr",
     "output_type": "stream",
     "text": [
      "\r",
      " 30%|██▉       | 99/331 [15:23<37:21,  9.66s/it]"
     ]
    },
    {
     "name": "stdout",
     "output_type": "stream",
     "text": [
      "[['▁생로랑'], ['▁saint', '▁laurent'], ['▁yves', '▁saint', '▁laurent'], ['▁ysl'], ['▁세인트로랑'], ['▁입생로랑'], ['▁입생']]\n"
     ]
    },
    {
     "name": "stderr",
     "output_type": "stream",
     "text": [
      "\r",
      " 30%|███       | 100/331 [15:46<53:09, 13.81s/it]"
     ]
    },
    {
     "name": "stdout",
     "output_type": "stream",
     "text": [
      "[['▁우영미'], ['▁w', 'oo', 'you', 'ng', 'mi']]\n"
     ]
    },
    {
     "name": "stderr",
     "output_type": "stream",
     "text": [
      "\r",
      " 31%|███       | 101/331 [15:54<45:51, 11.96s/it]"
     ]
    },
    {
     "name": "stdout",
     "output_type": "stream",
     "text": [
      "[['▁르메르'], ['▁lemaire']]\n"
     ]
    },
    {
     "name": "stderr",
     "output_type": "stream",
     "text": [
      "\r",
      " 31%|███       | 102/331 [16:02<40:53, 10.71s/it]"
     ]
    },
    {
     "name": "stdout",
     "output_type": "stream",
     "text": [
      "[['▁준지'], ['▁juun', '.', 'j']]\n"
     ]
    },
    {
     "name": "stderr",
     "output_type": "stream",
     "text": [
      "\r",
      " 31%|███       | 103/331 [16:10<37:31,  9.87s/it]"
     ]
    },
    {
     "name": "stdout",
     "output_type": "stream",
     "text": [
      "[['▁아워레가시'], ['▁', 'our', '▁', 'legacy']]\n"
     ]
    },
    {
     "name": "stderr",
     "output_type": "stream",
     "text": [
      "\r",
      " 31%|███▏      | 104/331 [16:18<35:09,  9.29s/it]"
     ]
    },
    {
     "name": "stdout",
     "output_type": "stream",
     "text": [
      "[['▁꼼데가르송'], ['▁comme', '▁des', '▁garcons'], ['▁꼼데'], ['▁꼼', '대'], ['▁꼼대가르송']]\n"
     ]
    },
    {
     "name": "stderr",
     "output_type": "stream",
     "text": [
      "\r",
      " 32%|███▏      | 105/331 [16:35<44:22, 11.78s/it]"
     ]
    },
    {
     "name": "stdout",
     "output_type": "stream",
     "text": [
      "[['▁아크테릭스'], ['▁ar', 'c', \"'\", 'ter', 'y', 'x']]\n"
     ]
    },
    {
     "name": "stderr",
     "output_type": "stream",
     "text": [
      "\r",
      " 32%|███▏      | 106/331 [16:43<39:29, 10.53s/it]"
     ]
    },
    {
     "name": "stdout",
     "output_type": "stream",
     "text": [
      "[['▁솔리드옴므'], ['▁solid', '▁homme']]\n"
     ]
    },
    {
     "name": "stderr",
     "output_type": "stream",
     "text": [
      "\r",
      " 32%|███▏      | 107/331 [16:50<35:51,  9.60s/it]"
     ]
    },
    {
     "name": "stdout",
     "output_type": "stream",
     "text": [
      "[['▁니들스'], ['▁needles']]\n"
     ]
    },
    {
     "name": "stderr",
     "output_type": "stream",
     "text": [
      "\r",
      " 33%|███▎      | 108/331 [16:58<33:16,  8.95s/it]"
     ]
    },
    {
     "name": "stdout",
     "output_type": "stream",
     "text": [
      "[['▁스튜디오니콜슨'], ['▁studio', '▁n', 'ich', 'ol', 'son']]\n"
     ]
    },
    {
     "name": "stderr",
     "output_type": "stream",
     "text": [
      "\r",
      " 33%|███▎      | 109/331 [17:05<31:20,  8.47s/it]"
     ]
    },
    {
     "name": "stdout",
     "output_type": "stream",
     "text": [
      "[['▁나나미카'], ['▁nan', 'am', 'ica']]\n"
     ]
    },
    {
     "name": "stderr",
     "output_type": "stream",
     "text": [
      "\r",
      " 33%|███▎      | 110/331 [17:13<30:11,  8.20s/it]"
     ]
    },
    {
     "name": "stdout",
     "output_type": "stream",
     "text": [
      "[['▁살로몬'], ['▁sa', 'lo', 'mon']]\n"
     ]
    },
    {
     "name": "stderr",
     "output_type": "stream",
     "text": [
      "\r",
      " 34%|███▎      | 111/331 [17:20<29:33,  8.06s/it]"
     ]
    },
    {
     "name": "stdout",
     "output_type": "stream",
     "text": [
      "[['▁엔지니어드가먼츠'], ['▁e', 'ng', 'ine', 'er', 'ed', '▁gar', 'ment', 's']]\n"
     ]
    },
    {
     "name": "stderr",
     "output_type": "stream",
     "text": [
      "\r",
      " 34%|███▍      | 112/331 [17:28<28:40,  7.85s/it]"
     ]
    },
    {
     "name": "stdout",
     "output_type": "stream",
     "text": [
      "[['▁비즈빔'], ['▁visvim']]\n"
     ]
    },
    {
     "name": "stderr",
     "output_type": "stream",
     "text": [
      "\r",
      " 34%|███▍      | 113/331 [17:35<28:09,  7.75s/it]"
     ]
    },
    {
     "name": "stdout",
     "output_type": "stream",
     "text": [
      "[['▁릭오웬스'], ['▁ri', 'ck', '▁ow', 'en', 's']]\n"
     ]
    },
    {
     "name": "stderr",
     "output_type": "stream",
     "text": [
      "\r",
      " 34%|███▍      | 114/331 [17:43<27:43,  7.66s/it]"
     ]
    },
    {
     "name": "stdout",
     "output_type": "stream",
     "text": [
      "[['▁라프시몬스'], ['▁raf', '▁si', 'mon', 's']]\n"
     ]
    },
    {
     "name": "stderr",
     "output_type": "stream",
     "text": [
      "\r",
      " 35%|███▍      | 115/331 [17:50<27:24,  7.61s/it]"
     ]
    },
    {
     "name": "stdout",
     "output_type": "stream",
     "text": [
      "[['▁사카이'], ['▁sacai']]\n"
     ]
    },
    {
     "name": "stderr",
     "output_type": "stream",
     "text": [
      "\r",
      " 35%|███▌      | 116/331 [17:58<27:10,  7.58s/it]"
     ]
    },
    {
     "name": "stdout",
     "output_type": "stream",
     "text": [
      "[['▁아조바이아조'], ['▁aj', 'o', 'by', 'a', 'j', 'o'], ['▁아', '조', '바이', '조']]\n"
     ]
    },
    {
     "name": "stderr",
     "output_type": "stream",
     "text": [
      "\r",
      " 35%|███▌      | 117/331 [18:09<30:37,  8.59s/it]"
     ]
    },
    {
     "name": "stdout",
     "output_type": "stream",
     "text": [
      "[['▁솔로이스트'], ['▁soloist']]\n"
     ]
    },
    {
     "name": "stderr",
     "output_type": "stream",
     "text": [
      "\r",
      " 36%|███▌      | 118/331 [18:16<29:11,  8.22s/it]"
     ]
    },
    {
     "name": "stdout",
     "output_type": "stream",
     "text": [
      "[['▁마틴로즈'], ['▁martin', 'e', '▁rose']]\n"
     ]
    },
    {
     "name": "stderr",
     "output_type": "stream",
     "text": [
      "\r",
      " 36%|███▌      | 119/331 [18:24<28:15,  8.00s/it]"
     ]
    },
    {
     "name": "stdout",
     "output_type": "stream",
     "text": [
      "[['▁아페쎄'], ['▁a', '.', 'p', '.', 'c', '.']]\n"
     ]
    },
    {
     "name": "stderr",
     "output_type": "stream",
     "text": [
      "\r",
      " 36%|███▋      | 120/331 [18:31<27:42,  7.88s/it]"
     ]
    },
    {
     "name": "stdout",
     "output_type": "stream",
     "text": [
      "[['▁세인트제임스'], ['▁saint', '▁james']]\n"
     ]
    },
    {
     "name": "stderr",
     "output_type": "stream",
     "text": [
      "\r",
      " 37%|███▋      | 121/331 [18:39<27:03,  7.73s/it]"
     ]
    },
    {
     "name": "stdout",
     "output_type": "stream",
     "text": [
      "[['▁리복'], ['▁reebok']]\n"
     ]
    },
    {
     "name": "stderr",
     "output_type": "stream",
     "text": [
      "\r",
      " 37%|███▋      | 122/331 [18:46<26:52,  7.72s/it]"
     ]
    },
    {
     "name": "stdout",
     "output_type": "stream",
     "text": [
      "[['▁네이더스'], ['▁n', 'ei', 'ther', 's']]\n"
     ]
    },
    {
     "name": "stderr",
     "output_type": "stream",
     "text": [
      "\r",
      " 37%|███▋      | 123/331 [18:54<26:32,  7.66s/it]"
     ]
    },
    {
     "name": "stdout",
     "output_type": "stream",
     "text": [
      "[['▁어콜드월'], ['▁a', '▁cold', '▁wall']]\n"
     ]
    },
    {
     "name": "stderr",
     "output_type": "stream",
     "text": [
      "\r",
      " 37%|███▋      | 124/331 [19:01<26:26,  7.67s/it]"
     ]
    },
    {
     "name": "stdout",
     "output_type": "stream",
     "text": [
      "[['▁일꼬르소'], ['▁il', 'cor', 'so']]\n"
     ]
    },
    {
     "name": "stderr",
     "output_type": "stream",
     "text": [
      "\r",
      " 38%|███▊      | 125/331 [19:09<26:09,  7.62s/it]"
     ]
    },
    {
     "name": "stdout",
     "output_type": "stream",
     "text": [
      "[['▁프레드페리'], ['▁fred', 'p', 'erry']]\n"
     ]
    },
    {
     "name": "stderr",
     "output_type": "stream",
     "text": [
      "\r",
      " 38%|███▊      | 126/331 [19:16<25:53,  7.58s/it]"
     ]
    },
    {
     "name": "stdout",
     "output_type": "stream",
     "text": [
      "[['▁닥터마틴'], ['▁dr', '▁martens']]\n"
     ]
    },
    {
     "name": "stderr",
     "output_type": "stream",
     "text": [
      "\r",
      " 38%|███▊      | 127/331 [19:24<25:52,  7.61s/it]"
     ]
    },
    {
     "name": "stdout",
     "output_type": "stream",
     "text": [
      "[['▁아크메드라비'], ['▁a', 'cm', 'ed', 'el', 'avi', 'e'], ['▁ad', 'lv'], ['▁아크', '매', '드라', '비']]\n"
     ]
    },
    {
     "name": "stderr",
     "output_type": "stream",
     "text": [
      "\r",
      " 39%|███▊      | 128/331 [19:38<32:23,  9.57s/it]"
     ]
    },
    {
     "name": "stdout",
     "output_type": "stream",
     "text": [
      "[['▁시스템'], ['▁system']]\n"
     ]
    },
    {
     "name": "stderr",
     "output_type": "stream",
     "text": [
      "\r",
      " 39%|███▉      | 129/331 [19:46<30:08,  8.95s/it]"
     ]
    },
    {
     "name": "stdout",
     "output_type": "stream",
     "text": [
      "[['▁시리즈'], ['▁series']]\n"
     ]
    },
    {
     "name": "stderr",
     "output_type": "stream",
     "text": [
      "\r",
      " 39%|███▉      | 130/331 [19:54<28:46,  8.59s/it]"
     ]
    },
    {
     "name": "stdout",
     "output_type": "stream",
     "text": [
      "[['▁언더커버'], ['▁under', '▁cover']]\n"
     ]
    },
    {
     "name": "stderr",
     "output_type": "stream",
     "text": [
      "\r",
      " 40%|███▉      | 131/331 [20:01<27:57,  8.39s/it]"
     ]
    },
    {
     "name": "stdout",
     "output_type": "stream",
     "text": [
      "[['▁로에베'], ['▁loewe']]\n"
     ]
    },
    {
     "name": "stderr",
     "output_type": "stream",
     "text": [
      "\r",
      " 40%|███▉      | 132/331 [20:09<27:01,  8.15s/it]"
     ]
    },
    {
     "name": "stdout",
     "output_type": "stream",
     "text": [
      "[['▁산드로'], ['▁sandro']]\n"
     ]
    },
    {
     "name": "stderr",
     "output_type": "stream",
     "text": [
      "\r",
      " 40%|████      | 133/331 [20:17<26:24,  8.00s/it]"
     ]
    },
    {
     "name": "stdout",
     "output_type": "stream",
     "text": [
      "[['▁발렌티노'], ['▁valentino']]\n"
     ]
    },
    {
     "name": "stderr",
     "output_type": "stream",
     "text": [
      "\r",
      " 40%|████      | 134/331 [20:24<26:02,  7.93s/it]"
     ]
    },
    {
     "name": "stdout",
     "output_type": "stream",
     "text": [
      "[['▁베르사체'], ['▁versace']]\n"
     ]
    },
    {
     "name": "stderr",
     "output_type": "stream",
     "text": [
      "\r",
      " 41%|████      | 135/331 [20:32<25:55,  7.94s/it]"
     ]
    },
    {
     "name": "stdout",
     "output_type": "stream",
     "text": [
      "[['▁호카오네오네'], ['▁ho', 'ka', '▁one', '▁one'], ['▁ho', 'ka']]\n"
     ]
    },
    {
     "name": "stderr",
     "output_type": "stream",
     "text": [
      "\r",
      " 41%|████      | 136/331 [20:44<29:28,  9.07s/it]"
     ]
    },
    {
     "name": "stdout",
     "output_type": "stream",
     "text": [
      "[['▁골든구스'], ['▁golden', '▁goose']]\n"
     ]
    },
    {
     "name": "stderr",
     "output_type": "stream",
     "text": [
      "\r",
      " 41%|████▏     | 137/331 [20:52<27:55,  8.64s/it]"
     ]
    },
    {
     "name": "stdout",
     "output_type": "stream",
     "text": [
      "[['▁버버리'], ['▁burberry']]\n"
     ]
    },
    {
     "name": "stderr",
     "output_type": "stream",
     "text": [
      "\r",
      " 42%|████▏     | 138/331 [20:59<26:50,  8.35s/it]"
     ]
    },
    {
     "name": "stdout",
     "output_type": "stream",
     "text": [
      "[['▁빈폴'], ['▁beanpole']]\n"
     ]
    },
    {
     "name": "stderr",
     "output_type": "stream",
     "text": [
      "\r",
      " 42%|████▏     | 139/331 [21:07<26:04,  8.15s/it]"
     ]
    },
    {
     "name": "stdout",
     "output_type": "stream",
     "text": [
      "[['▁예스아이씨'], ['▁yes', '▁eye', '▁see']]\n"
     ]
    },
    {
     "name": "stderr",
     "output_type": "stream",
     "text": [
      "\r",
      " 42%|████▏     | 140/331 [21:15<25:15,  7.94s/it]"
     ]
    },
    {
     "name": "stdout",
     "output_type": "stream",
     "text": [
      "[['▁만다리나덕'], ['▁m', 'and', 'ar', 'ina', '▁duck']]\n"
     ]
    },
    {
     "name": "stderr",
     "output_type": "stream",
     "text": [
      "\r",
      " 43%|████▎     | 141/331 [21:22<24:45,  7.82s/it]"
     ]
    },
    {
     "name": "stdout",
     "output_type": "stream",
     "text": [
      "[['▁클락스'], ['▁cl', 'ar', 'k', 's']]\n"
     ]
    },
    {
     "name": "stderr",
     "output_type": "stream",
     "text": [
      "\r",
      " 43%|████▎     | 142/331 [21:30<24:21,  7.73s/it]"
     ]
    },
    {
     "name": "stdout",
     "output_type": "stream",
     "text": [
      "[['▁루이까또즈'], ['▁louis', '▁quatorze'], ['▁', '류', '이', '까또즈'], ['▁루이가또즈']]\n"
     ]
    },
    {
     "name": "stderr",
     "output_type": "stream",
     "text": [
      "\r",
      " 43%|████▎     | 143/331 [21:43<29:44,  9.49s/it]"
     ]
    },
    {
     "name": "stdout",
     "output_type": "stream",
     "text": [
      "[['▁이세이미야케'], ['▁issey', '▁miyake'], ['▁이사', '이', '미', '야', '케']]\n"
     ]
    },
    {
     "name": "stderr",
     "output_type": "stream",
     "text": [
      "\r",
      " 44%|████▎     | 144/331 [21:54<30:41,  9.85s/it]"
     ]
    },
    {
     "name": "stdout",
     "output_type": "stream",
     "text": [
      "[['▁베트멍'], ['▁vetements']]\n"
     ]
    },
    {
     "name": "stderr",
     "output_type": "stream",
     "text": [
      "\r",
      " 44%|████▍     | 145/331 [22:02<28:27,  9.18s/it]"
     ]
    },
    {
     "name": "stdout",
     "output_type": "stream",
     "text": [
      "[['▁질샌더'], ['▁j', 'il', '▁s', 'ander']]\n"
     ]
    },
    {
     "name": "stderr",
     "output_type": "stream",
     "text": [
      "\r",
      " 44%|████▍     | 146/331 [22:09<26:57,  8.74s/it]"
     ]
    },
    {
     "name": "stdout",
     "output_type": "stream",
     "text": [
      "[['▁빔즈'], ['▁beams']]\n"
     ]
    },
    {
     "name": "stderr",
     "output_type": "stream",
     "text": [
      "\r",
      " 44%|████▍     | 147/331 [22:17<25:51,  8.43s/it]"
     ]
    },
    {
     "name": "stdout",
     "output_type": "stream",
     "text": [
      "[['▁그라미치'], ['▁gr', 'ami', 'cci']]\n"
     ]
    },
    {
     "name": "stderr",
     "output_type": "stream",
     "text": [
      "\r",
      " 45%|████▍     | 148/331 [22:25<25:04,  8.22s/it]"
     ]
    },
    {
     "name": "stdout",
     "output_type": "stream",
     "text": [
      "[['▁나이젤카본'], ['▁n', 'ige', 'l', '▁ca', 'b', 'our', 'n']]\n"
     ]
    },
    {
     "name": "stderr",
     "output_type": "stream",
     "text": [
      "\r",
      " 45%|████▌     | 149/331 [22:32<24:15,  8.00s/it]"
     ]
    },
    {
     "name": "stdout",
     "output_type": "stream",
     "text": [
      "[['▁마가렛호웰'], ['▁mar', 'gar', 'et', '▁ho', 'well']]\n"
     ]
    },
    {
     "name": "stderr",
     "output_type": "stream",
     "text": [
      "\r",
      " 45%|████▌     | 150/331 [22:40<23:47,  7.88s/it]"
     ]
    },
    {
     "name": "stdout",
     "output_type": "stream",
     "text": [
      "[['▁악', '셀', '아', '리', '가', '토'], ['▁a', 'x', 'el', '▁ar', 'ig', 'ato']]\n"
     ]
    },
    {
     "name": "stderr",
     "output_type": "stream",
     "text": [
      "\r",
      " 46%|████▌     | 151/331 [22:47<23:20,  7.78s/it]"
     ]
    },
    {
     "name": "stdout",
     "output_type": "stream",
     "text": [
      "[['▁브룩스브라더스'], ['▁brooks', '▁brothers']]\n"
     ]
    },
    {
     "name": "stderr",
     "output_type": "stream",
     "text": [
      "\r",
      " 46%|████▌     | 152/331 [22:55<22:51,  7.66s/it]"
     ]
    },
    {
     "name": "stdout",
     "output_type": "stream",
     "text": [
      "[['▁폴로스포츠'], ['▁polo', '▁sport']]\n"
     ]
    },
    {
     "name": "stderr",
     "output_type": "stream",
     "text": [
      "\r",
      " 46%|████▌     | 153/331 [23:02<22:27,  7.57s/it]"
     ]
    },
    {
     "name": "stdout",
     "output_type": "stream",
     "text": [
      "[['▁필슨'], ['▁fil', 'son']]\n"
     ]
    },
    {
     "name": "stderr",
     "output_type": "stream",
     "text": [
      "\r",
      " 47%|████▋     | 154/331 [23:10<22:33,  7.65s/it]"
     ]
    },
    {
     "name": "stdout",
     "output_type": "stream",
     "text": [
      "[['▁오니츠카타이거'], ['▁on', 'it', 'su', 'k', 'ati', 'ger']]\n"
     ]
    },
    {
     "name": "stderr",
     "output_type": "stream",
     "text": [
      "\r",
      " 47%|████▋     | 155/331 [23:18<22:45,  7.76s/it]"
     ]
    },
    {
     "name": "stdout",
     "output_type": "stream",
     "text": [
      "[['▁안데르센', '안', '데', '르', '센'], ['▁and', 'ers', 'en', '▁and', 'ers', 'en'], ['▁안데르센']]\n"
     ]
    },
    {
     "name": "stderr",
     "output_type": "stream",
     "text": [
      "\r",
      " 47%|████▋     | 156/331 [23:29<25:26,  8.72s/it]"
     ]
    },
    {
     "name": "stdout",
     "output_type": "stream",
     "text": [
      "[['▁로스코'], ['▁ro', 'th', 'co']]\n"
     ]
    },
    {
     "name": "stderr",
     "output_type": "stream",
     "text": [
      "\r",
      " 47%|████▋     | 157/331 [23:36<24:14,  8.36s/it]"
     ]
    },
    {
     "name": "stdout",
     "output_type": "stream",
     "text": [
      "[['▁디스퀘어드'], ['▁dsquared']]\n"
     ]
    },
    {
     "name": "stderr",
     "output_type": "stream",
     "text": [
      "\r",
      " 48%|████▊     | 158/331 [23:44<23:17,  8.08s/it]"
     ]
    },
    {
     "name": "stdout",
     "output_type": "stream",
     "text": [
      "[['▁필립플레인'], ['▁philipp', '▁plein'], ['▁필립', '프', '레인']]\n"
     ]
    },
    {
     "name": "stderr",
     "output_type": "stream",
     "text": [
      "\r",
      " 48%|████▊     | 159/331 [23:55<25:29,  8.89s/it]"
     ]
    },
    {
     "name": "stdout",
     "output_type": "stream",
     "text": [
      "[['▁코비'], ['▁ko', 'be']]\n"
     ]
    },
    {
     "name": "stderr",
     "output_type": "stream",
     "text": [
      "\r",
      " 48%|████▊     | 160/331 [24:02<24:13,  8.50s/it]"
     ]
    },
    {
     "name": "stdout",
     "output_type": "stream",
     "text": [
      "[['▁팀버랜드'], ['▁timberland']]\n"
     ]
    },
    {
     "name": "stderr",
     "output_type": "stream",
     "text": [
      "\r",
      " 49%|████▊     | 161/331 [24:10<23:14,  8.21s/it]"
     ]
    },
    {
     "name": "stdout",
     "output_type": "stream",
     "text": [
      "[['▁아베크롬비'], ['▁abercrombie'], ['▁abercrombie', '▁', '&', '▁fitch']]\n"
     ]
    },
    {
     "name": "stderr",
     "output_type": "stream",
     "text": [
      "\r",
      " 49%|████▉     | 162/331 [24:20<25:09,  8.93s/it]"
     ]
    },
    {
     "name": "stdout",
     "output_type": "stream",
     "text": [
      "[['▁엄브로'], ['▁umbro']]\n"
     ]
    },
    {
     "name": "stderr",
     "output_type": "stream",
     "text": [
      "\r",
      " 49%|████▉     | 163/331 [24:29<24:30,  8.75s/it]"
     ]
    },
    {
     "name": "stdout",
     "output_type": "stream",
     "text": [
      "[['▁커스텀멜로우'], ['▁custom', 'ello', 'w'], ['▁커스텀', '맬', '로우']]\n"
     ]
    },
    {
     "name": "stderr",
     "output_type": "stream",
     "text": [
      "\r",
      " 50%|████▉     | 164/331 [24:39<26:03,  9.36s/it]"
     ]
    },
    {
     "name": "stdout",
     "output_type": "stream",
     "text": [
      "[['▁마제스틱'], ['▁majestic']]\n"
     ]
    },
    {
     "name": "stderr",
     "output_type": "stream",
     "text": [
      "\r",
      " 50%|████▉     | 165/331 [24:47<24:28,  8.84s/it]"
     ]
    },
    {
     "name": "stdout",
     "output_type": "stream",
     "text": [
      "[['▁토마스모어'], ['▁thom', 'as', '▁more']]\n"
     ]
    },
    {
     "name": "stderr",
     "output_type": "stream",
     "text": [
      "\r",
      " 50%|█████     | 166/331 [24:55<23:23,  8.50s/it]"
     ]
    },
    {
     "name": "stdout",
     "output_type": "stream",
     "text": [
      "[['▁아비렉스'], ['▁avirex']]\n"
     ]
    },
    {
     "name": "stderr",
     "output_type": "stream",
     "text": [
      "\r",
      " 50%|█████     | 167/331 [25:02<22:22,  8.19s/it]"
     ]
    },
    {
     "name": "stdout",
     "output_type": "stream",
     "text": [
      "[['▁마르셀로불론'], ['▁m', 'arcelo', '▁burlon'], ['▁마르셀로', '블', '론']]\n"
     ]
    },
    {
     "name": "stderr",
     "output_type": "stream",
     "text": [
      "\r",
      " 51%|█████     | 168/331 [25:13<24:20,  8.96s/it]"
     ]
    },
    {
     "name": "stdout",
     "output_type": "stream",
     "text": [
      "[['▁잔스포츠'], ['▁ja', 'ns', 'port']]\n"
     ]
    },
    {
     "name": "stderr",
     "output_type": "stream",
     "text": [
      "\r",
      " 51%|█████     | 169/331 [25:21<23:01,  8.53s/it]"
     ]
    },
    {
     "name": "stdout",
     "output_type": "stream",
     "text": [
      "[['▁헬무트랭'], ['▁helmut', 'l', 'ang']]\n"
     ]
    },
    {
     "name": "stderr",
     "output_type": "stream",
     "text": [
      "\r",
      " 51%|█████▏    | 170/331 [25:28<22:02,  8.21s/it]"
     ]
    },
    {
     "name": "stdout",
     "output_type": "stream",
     "text": [
      "[['▁베이프'], ['▁bape']]\n"
     ]
    },
    {
     "name": "stderr",
     "output_type": "stream",
     "text": [
      "\r",
      " 52%|█████▏    | 171/331 [25:36<21:20,  8.00s/it]"
     ]
    },
    {
     "name": "stdout",
     "output_type": "stream",
     "text": [
      "[['▁포터'], ['▁porter'], ['▁요시다', '▁포터']]\n"
     ]
    },
    {
     "name": "stderr",
     "output_type": "stream",
     "text": [
      "\r",
      " 52%|█████▏    | 172/331 [25:46<23:24,  8.84s/it]"
     ]
    },
    {
     "name": "stdout",
     "output_type": "stream",
     "text": [
      "[['▁드레익스'], ['▁dr', 'ake', \"'\", 's']]\n"
     ]
    },
    {
     "name": "stderr",
     "output_type": "stream",
     "text": [
      "\r",
      " 52%|█████▏    | 173/331 [25:54<22:09,  8.41s/it]"
     ]
    },
    {
     "name": "stdout",
     "output_type": "stream",
     "text": [
      "[['▁어나더오피스'], ['▁another', '▁office']]\n"
     ]
    },
    {
     "name": "stderr",
     "output_type": "stream",
     "text": [
      "\r",
      " 53%|█████▎    | 174/331 [26:01<21:10,  8.09s/it]"
     ]
    },
    {
     "name": "stdout",
     "output_type": "stream",
     "text": [
      "[['▁스파이더'], ['▁spyder']]\n"
     ]
    },
    {
     "name": "stderr",
     "output_type": "stream",
     "text": [
      "\r",
      " 53%|█████▎    | 175/331 [26:08<20:29,  7.88s/it]"
     ]
    },
    {
     "name": "stdout",
     "output_type": "stream",
     "text": [
      "[['▁다이나핏'], ['▁', 'dy', 'na', 'fit']]\n"
     ]
    },
    {
     "name": "stderr",
     "output_type": "stream",
     "text": [
      "\r",
      " 53%|█████▎    | 176/331 [26:16<19:57,  7.73s/it]"
     ]
    },
    {
     "name": "stdout",
     "output_type": "stream",
     "text": [
      "[['▁캘빈클라인'], ['▁calvin', '▁klein'], ['▁ck'], ['▁켈빈클라인'], ['▁케빈클라인']]\n"
     ]
    },
    {
     "name": "stderr",
     "output_type": "stream",
     "text": [
      "\r",
      " 53%|█████▎    | 177/331 [26:33<27:07, 10.57s/it]"
     ]
    },
    {
     "name": "stdout",
     "output_type": "stream",
     "text": [
      "[['▁벨리에'], ['▁b', 'eli', 'er']]\n"
     ]
    },
    {
     "name": "stderr",
     "output_type": "stream",
     "text": [
      "\r",
      " 54%|█████▍    | 178/331 [26:41<24:40,  9.68s/it]"
     ]
    },
    {
     "name": "stdout",
     "output_type": "stream",
     "text": [
      "[['▁몽클레어'], ['▁moncler'], ['▁몽클레르'], ['▁몽클']]\n"
     ]
    },
    {
     "name": "stderr",
     "output_type": "stream",
     "text": [
      "\r",
      " 54%|█████▍    | 179/331 [26:55<27:42, 10.94s/it]"
     ]
    },
    {
     "name": "stdout",
     "output_type": "stream",
     "text": [
      "[['▁라이프워크'], ['▁life', 'work']]\n"
     ]
    },
    {
     "name": "stderr",
     "output_type": "stream",
     "text": [
      "\r",
      " 54%|█████▍    | 180/331 [27:02<24:51,  9.88s/it]"
     ]
    },
    {
     "name": "stdout",
     "output_type": "stream",
     "text": [
      "[['▁드리스반노튼'], ['▁dri', 'es', '▁van', '▁no', 'ten']]\n"
     ]
    },
    {
     "name": "stderr",
     "output_type": "stream",
     "text": [
      "\r",
      " 55%|█████▍    | 181/331 [27:09<22:54,  9.16s/it]"
     ]
    },
    {
     "name": "stdout",
     "output_type": "stream",
     "text": [
      "[['▁알릭스'], ['▁alyx']]\n"
     ]
    },
    {
     "name": "stderr",
     "output_type": "stream",
     "text": [
      "\r",
      " 55%|█████▍    | 182/331 [27:17<21:31,  8.66s/it]"
     ]
    },
    {
     "name": "stdout",
     "output_type": "stream",
     "text": [
      "[['▁아미리'], ['▁ami', 'ri']]\n"
     ]
    },
    {
     "name": "stderr",
     "output_type": "stream",
     "text": [
      "\r",
      " 55%|█████▌    | 183/331 [27:25<20:34,  8.34s/it]"
     ]
    },
    {
     "name": "stdout",
     "output_type": "stream",
     "text": [
      "[['▁디젤'], ['▁diesel']]\n"
     ]
    },
    {
     "name": "stderr",
     "output_type": "stream",
     "text": [
      "\r",
      " 56%|█████▌    | 184/331 [27:32<19:47,  8.08s/it]"
     ]
    },
    {
     "name": "stdout",
     "output_type": "stream",
     "text": [
      "[['▁헨리코튼'], ['▁henry', '▁cotton', 's']]\n"
     ]
    },
    {
     "name": "stderr",
     "output_type": "stream",
     "text": [
      "\r",
      " 56%|█████▌    | 185/331 [27:39<19:07,  7.86s/it]"
     ]
    },
    {
     "name": "stdout",
     "output_type": "stream",
     "text": [
      "[['▁미하라야스히로'], ['▁mi', 'har', 'a', '▁ya', 'su', 'h', 'iro']]\n"
     ]
    },
    {
     "name": "stderr",
     "output_type": "stream",
     "text": [
      "\r",
      " 56%|█████▌    | 186/331 [27:47<18:43,  7.75s/it]"
     ]
    },
    {
     "name": "stdout",
     "output_type": "stream",
     "text": [
      "[['▁알든'], ['▁al', 'den']]\n"
     ]
    },
    {
     "name": "stderr",
     "output_type": "stream",
     "text": [
      "\r",
      " 56%|█████▋    | 187/331 [27:54<18:30,  7.71s/it]"
     ]
    },
    {
     "name": "stdout",
     "output_type": "stream",
     "text": [
      "[['▁커렌트'], ['▁cur', 'ren', 't']]\n"
     ]
    },
    {
     "name": "stderr",
     "output_type": "stream",
     "text": [
      "\r",
      " 57%|█████▋    | 188/331 [28:02<18:20,  7.69s/it]"
     ]
    },
    {
     "name": "stdout",
     "output_type": "stream",
     "text": [
      "[['▁벨루티'], ['▁ber', 'lu', 'ti']]\n"
     ]
    },
    {
     "name": "stderr",
     "output_type": "stream",
     "text": [
      "\r",
      " 57%|█████▋    | 189/331 [28:10<18:12,  7.69s/it]"
     ]
    },
    {
     "name": "stdout",
     "output_type": "stream",
     "text": [
      "[['▁올세인츠'], ['▁all', '▁saint', 's']]\n"
     ]
    },
    {
     "name": "stderr",
     "output_type": "stream",
     "text": [
      "\r",
      " 57%|█████▋    | 190/331 [28:17<17:57,  7.64s/it]"
     ]
    },
    {
     "name": "stdout",
     "output_type": "stream",
     "text": [
      "[['▁지방시'], ['▁givenchy']]\n"
     ]
    },
    {
     "name": "stderr",
     "output_type": "stream",
     "text": [
      "\r",
      " 58%|█████▊    | 191/331 [28:25<17:38,  7.56s/it]"
     ]
    },
    {
     "name": "stdout",
     "output_type": "stream",
     "text": [
      "[['▁로로피아나'], ['▁lo', 'ro', '▁pi', 'ana']]\n"
     ]
    },
    {
     "name": "stderr",
     "output_type": "stream",
     "text": [
      "\r",
      " 58%|█████▊    | 192/331 [28:32<17:32,  7.57s/it]"
     ]
    },
    {
     "name": "stdout",
     "output_type": "stream",
     "text": [
      "[['▁그레고리'], ['▁gr', 'eg', 'ory']]\n"
     ]
    },
    {
     "name": "stderr",
     "output_type": "stream",
     "text": [
      "\r",
      " 58%|█████▊    | 193/331 [28:40<17:18,  7.53s/it]"
     ]
    },
    {
     "name": "stdout",
     "output_type": "stream",
     "text": [
      "[['▁넘버나인'], ['▁number', '▁', '(', 'n', ')', 'ine']]\n"
     ]
    },
    {
     "name": "stderr",
     "output_type": "stream",
     "text": [
      "\r",
      " 59%|█████▊    | 194/331 [28:47<17:06,  7.49s/it]"
     ]
    },
    {
     "name": "stdout",
     "output_type": "stream",
     "text": [
      "[['▁블랙야크'], ['▁black', '▁ya', 'k']]\n"
     ]
    },
    {
     "name": "stderr",
     "output_type": "stream",
     "text": [
      "\r",
      " 59%|█████▉    | 195/331 [28:55<16:58,  7.49s/it]"
     ]
    },
    {
     "name": "stdout",
     "output_type": "stream",
     "text": [
      "[['▁알레그리'], ['▁all', 'eg', 'ri']]\n"
     ]
    },
    {
     "name": "stderr",
     "output_type": "stream",
     "text": [
      "\r",
      " 59%|█████▉    | 196/331 [29:02<16:46,  7.46s/it]"
     ]
    },
    {
     "name": "stdout",
     "output_type": "stream",
     "text": [
      "[['▁블레스'], ['▁b', 'less']]\n"
     ]
    },
    {
     "name": "stderr",
     "output_type": "stream",
     "text": [
      "\r",
      " 60%|█████▉    | 197/331 [29:10<16:43,  7.49s/it]"
     ]
    },
    {
     "name": "stdout",
     "output_type": "stream",
     "text": [
      "[['▁마르니'], ['▁marni']]\n"
     ]
    },
    {
     "name": "stderr",
     "output_type": "stream",
     "text": [
      "\r",
      " 60%|█████▉    | 198/331 [29:17<16:36,  7.49s/it]"
     ]
    },
    {
     "name": "stdout",
     "output_type": "stream",
     "text": [
      "[['▁키코'], ['▁k', 'iko']]\n"
     ]
    },
    {
     "name": "stderr",
     "output_type": "stream",
     "text": [
      "\r",
      " 60%|██████    | 199/331 [29:25<16:38,  7.57s/it]"
     ]
    },
    {
     "name": "stdout",
     "output_type": "stream",
     "text": [
      "[['▁닐바렛'], ['▁neil', '▁barrett']]\n"
     ]
    },
    {
     "name": "stderr",
     "output_type": "stream",
     "text": [
      "\r",
      " 60%|██████    | 200/331 [29:32<16:28,  7.54s/it]"
     ]
    },
    {
     "name": "stdout",
     "output_type": "stream",
     "text": [
      "[['▁요지야마모토'], ['▁yohji', '▁yamam', 'oto']]\n"
     ]
    },
    {
     "name": "stderr",
     "output_type": "stream",
     "text": [
      "\r",
      " 61%|██████    | 201/331 [29:40<16:15,  7.50s/it]"
     ]
    },
    {
     "name": "stdout",
     "output_type": "stream",
     "text": [
      "[['▁폴스미스'], ['▁paul', '▁smith']]\n"
     ]
    },
    {
     "name": "stderr",
     "output_type": "stream",
     "text": [
      "\r",
      " 61%|██████    | 202/331 [29:47<16:08,  7.51s/it]"
     ]
    },
    {
     "name": "stdout",
     "output_type": "stream",
     "text": [
      "[['▁발망'], ['▁balmain']]\n"
     ]
    },
    {
     "name": "stderr",
     "output_type": "stream",
     "text": [
      "\r",
      " 61%|██████▏   | 203/331 [29:55<16:00,  7.51s/it]"
     ]
    },
    {
     "name": "stdout",
     "output_type": "stream",
     "text": [
      "[['▁바라쿠타'], ['▁b', 'ara', 'cut', 'a']]\n"
     ]
    },
    {
     "name": "stderr",
     "output_type": "stream",
     "text": [
      "\r",
      " 62%|██████▏   | 204/331 [30:02<15:54,  7.52s/it]"
     ]
    },
    {
     "name": "stdout",
     "output_type": "stream",
     "text": [
      "[['▁알렉산더왕'], ['▁alexander', '▁wang']]\n"
     ]
    },
    {
     "name": "stderr",
     "output_type": "stream",
     "text": [
      "\r",
      " 62%|██████▏   | 205/331 [30:10<15:43,  7.49s/it]"
     ]
    },
    {
     "name": "stdout",
     "output_type": "stream",
     "text": [
      "[['▁파라부트'], ['▁para', 'bo', 'ot']]\n"
     ]
    },
    {
     "name": "stderr",
     "output_type": "stream",
     "text": [
      "\r",
      " 62%|██████▏   | 206/331 [30:17<15:31,  7.45s/it]"
     ]
    },
    {
     "name": "stdout",
     "output_type": "stream",
     "text": [
      "[['▁톰포드'], ['▁tom', 'ford']]\n"
     ]
    },
    {
     "name": "stderr",
     "output_type": "stream",
     "text": [
      "\r",
      " 63%|██████▎   | 207/331 [30:25<15:27,  7.48s/it]"
     ]
    },
    {
     "name": "stdout",
     "output_type": "stream",
     "text": [
      "[['▁랑방'], ['▁lanvin']]\n"
     ]
    },
    {
     "name": "stderr",
     "output_type": "stream",
     "text": [
      "\r",
      " 63%|██████▎   | 208/331 [30:32<15:24,  7.52s/it]"
     ]
    },
    {
     "name": "stdout",
     "output_type": "stream",
     "text": [
      "[['▁블랭코브'], ['▁blank', 'of']]\n"
     ]
    },
    {
     "name": "stderr",
     "output_type": "stream",
     "text": [
      "\r",
      " 63%|██████▎   | 209/331 [30:40<15:10,  7.46s/it]"
     ]
    },
    {
     "name": "stdout",
     "output_type": "stream",
     "text": [
      "[['▁느와르', '라', '르', '메', '스'], ['▁no', 'ir', '▁l', 'ar', 'me', 's']]\n"
     ]
    },
    {
     "name": "stderr",
     "output_type": "stream",
     "text": [
      "\r",
      " 63%|██████▎   | 210/331 [30:47<15:07,  7.50s/it]"
     ]
    },
    {
     "name": "stdout",
     "output_type": "stream",
     "text": [
      "[['▁알렌느'], ['▁h', 'ale', 'ine']]\n"
     ]
    },
    {
     "name": "stderr",
     "output_type": "stream",
     "text": [
      "\r",
      " 64%|██████▎   | 211/331 [30:55<15:01,  7.51s/it]"
     ]
    },
    {
     "name": "stdout",
     "output_type": "stream",
     "text": [
      "[['▁벌', '스', '데이', '수트'], ['▁b', 'ir', 'th', 'day', 'su', 'it']]\n"
     ]
    },
    {
     "name": "stderr",
     "output_type": "stream",
     "text": [
      "\r",
      " 64%|██████▍   | 212/331 [31:02<14:54,  7.52s/it]"
     ]
    },
    {
     "name": "stdout",
     "output_type": "stream",
     "text": [
      "[['▁버즈릭슨'], ['▁bu', 'zz', '▁ri', 'ck', 'son']]\n"
     ]
    },
    {
     "name": "stderr",
     "output_type": "stream",
     "text": [
      "\r",
      " 64%|██████▍   | 213/331 [31:10<14:48,  7.53s/it]"
     ]
    },
    {
     "name": "stdout",
     "output_type": "stream",
     "text": [
      "[['▁송지오', '옴므'], ['▁s', 'ong', 'zio']]\n"
     ]
    },
    {
     "name": "stderr",
     "output_type": "stream",
     "text": [
      "\r",
      " 65%|██████▍   | 214/331 [31:17<14:40,  7.52s/it]"
     ]
    },
    {
     "name": "stdout",
     "output_type": "stream",
     "text": [
      "[['▁토즈'], ['▁tods']]\n"
     ]
    },
    {
     "name": "stderr",
     "output_type": "stream",
     "text": [
      "\r",
      " 65%|██████▍   | 215/331 [31:25<14:40,  7.59s/it]"
     ]
    },
    {
     "name": "stdout",
     "output_type": "stream",
     "text": [
      "[['▁', 'MCM'], ['▁엠씨엠']]\n"
     ]
    },
    {
     "name": "stderr",
     "output_type": "stream",
     "text": [
      "\r",
      " 65%|██████▌   | 216/331 [31:32<14:27,  7.54s/it]"
     ]
    },
    {
     "name": "stdout",
     "output_type": "stream",
     "text": [
      "[['▁돌체앤가바나'], ['▁dolce', '▁', '&', '▁gabbana'], ['▁d', '&', 'c'], ['▁돌체엔가바나']]\n"
     ]
    },
    {
     "name": "stderr",
     "output_type": "stream",
     "text": [
      "\r",
      " 66%|██████▌   | 217/331 [31:46<17:52,  9.40s/it]"
     ]
    },
    {
     "name": "stdout",
     "output_type": "stream",
     "text": [
      "[['▁비비안웨스트우드'], ['▁vivienne', '▁westwood']]\n"
     ]
    },
    {
     "name": "stderr",
     "output_type": "stream",
     "text": [
      "\r",
      " 66%|██████▌   | 218/331 [31:53<16:27,  8.74s/it]"
     ]
    },
    {
     "name": "stdout",
     "output_type": "stream",
     "text": [
      "[['▁미스치프'], ['▁mis', 'chi', 'ef'], ['▁mschf']]\n"
     ]
    },
    {
     "name": "stderr",
     "output_type": "stream",
     "text": [
      "\r",
      " 66%|██████▌   | 219/331 [32:05<17:43,  9.49s/it]"
     ]
    },
    {
     "name": "stdout",
     "output_type": "stream",
     "text": [
      "[['▁킨더살몬'], ['▁ki', 'nd', 'ers', 'al', 'mon']]\n"
     ]
    },
    {
     "name": "stderr",
     "output_type": "stream",
     "text": [
      "\r",
      " 66%|██████▋   | 220/331 [32:12<16:33,  8.95s/it]"
     ]
    },
    {
     "name": "stdout",
     "output_type": "stream",
     "text": [
      "[['▁키르시'], ['▁kirsh']]\n"
     ]
    },
    {
     "name": "stderr",
     "output_type": "stream",
     "text": [
      "\r",
      " 67%|██████▋   | 221/331 [32:20<15:42,  8.57s/it]"
     ]
    },
    {
     "name": "stdout",
     "output_type": "stream",
     "text": [
      "[['▁미우미우'], ['▁miu', '▁miu']]\n"
     ]
    },
    {
     "name": "stderr",
     "output_type": "stream",
     "text": [
      "\r",
      " 67%|██████▋   | 222/331 [1:08:03<19:38:41, 648.83s/it]"
     ]
    },
    {
     "name": "stdout",
     "output_type": "stream",
     "text": [
      "[['▁토리버치'], ['▁tory', '▁burch']]\n"
     ]
    },
    {
     "name": "stderr",
     "output_type": "stream",
     "text": [
      "\r",
      " 67%|██████▋   | 223/331 [1:08:11<13:41:48, 456.56s/it]"
     ]
    },
    {
     "name": "stdout",
     "output_type": "stream",
     "text": [
      "[['▁에고이스트'], ['▁egoist']]\n"
     ]
    },
    {
     "name": "stderr",
     "output_type": "stream",
     "text": [
      "\r",
      " 68%|██████▊   | 224/331 [1:08:49<9:50:40, 331.22s/it] "
     ]
    },
    {
     "name": "stdout",
     "output_type": "stream",
     "text": [
      "[['▁엘바테게브'], ['▁el', 'b', 'ate', 'ge', 'v']]\n"
     ]
    },
    {
     "name": "stderr",
     "output_type": "stream",
     "text": [
      "\r",
      " 68%|██████▊   | 225/331 [1:09:30<7:10:53, 243.90s/it]"
     ]
    },
    {
     "name": "stdout",
     "output_type": "stream",
     "text": [
      "[['▁듀엘'], ['▁dewl']]\n"
     ]
    },
    {
     "name": "stderr",
     "output_type": "stream",
     "text": [
      "\r",
      " 68%|██████▊   | 226/331 [1:10:10<5:20:03, 182.89s/it]"
     ]
    },
    {
     "name": "stdout",
     "output_type": "stream",
     "text": [
      "[['▁아카이브앱크'], ['▁archive', 'pk', 'e']]\n"
     ]
    },
    {
     "name": "stderr",
     "output_type": "stream",
     "text": [
      "\r",
      " 69%|██████▊   | 227/331 [1:10:43<3:58:58, 137.87s/it]"
     ]
    },
    {
     "name": "stdout",
     "output_type": "stream",
     "text": [
      "[['▁마인'], ['▁mine']]\n"
     ]
    },
    {
     "name": "stderr",
     "output_type": "stream",
     "text": [
      "\r",
      " 69%|██████▉   | 228/331 [1:35:46<15:39:41, 547.39s/it]"
     ]
    },
    {
     "name": "stdout",
     "output_type": "stream",
     "text": [
      "[['▁마쥬'], ['▁maje']]\n"
     ]
    },
    {
     "name": "stderr",
     "output_type": "stream",
     "text": [
      "\r",
      " 69%|██████▉   | 229/331 [1:35:54<10:55:42, 385.71s/it]"
     ]
    },
    {
     "name": "stdout",
     "output_type": "stream",
     "text": [
      "[['▁타임'], ['▁time']]\n"
     ]
    },
    {
     "name": "stderr",
     "output_type": "stream",
     "text": [
      "\r",
      " 69%|██████▉   | 230/331 [1:36:03<7:38:43, 272.51s/it] "
     ]
    },
    {
     "name": "stdout",
     "output_type": "stream",
     "text": [
      "[['▁인스턴트펑크'], ['▁in', 'st', 'ant', '▁f', 'un', 'k']]\n"
     ]
    },
    {
     "name": "stderr",
     "output_type": "stream",
     "text": [
      "\r",
      " 70%|██████▉   | 231/331 [1:36:12<5:22:19, 193.40s/it]"
     ]
    },
    {
     "name": "stdout",
     "output_type": "stream",
     "text": [
      "[['▁폴스부띠끄'], ['▁paul', 's', '▁boutique']]\n"
     ]
    },
    {
     "name": "stderr",
     "output_type": "stream",
     "text": [
      "\r",
      " 70%|███████   | 232/331 [1:36:20<3:47:30, 137.88s/it]"
     ]
    },
    {
     "name": "stdout",
     "output_type": "stream",
     "text": [
      "[['▁코치'], ['▁coach']]\n"
     ]
    },
    {
     "name": "stderr",
     "output_type": "stream",
     "text": [
      "\r",
      " 70%|███████   | 233/331 [1:36:28<2:41:37, 98.95s/it] "
     ]
    },
    {
     "name": "stdout",
     "output_type": "stream",
     "text": [
      "[['▁쿠론'], ['▁couronne']]\n"
     ]
    },
    {
     "name": "stderr",
     "output_type": "stream",
     "text": [
      "\r",
      " 71%|███████   | 234/331 [1:36:36<1:55:47, 71.62s/it]"
     ]
    },
    {
     "name": "stdout",
     "output_type": "stream",
     "text": [
      "[['▁루', '에', '브르'], ['▁l', 'oe', 'uv', 're']]\n"
     ]
    },
    {
     "name": "stderr",
     "output_type": "stream",
     "text": [
      "\r",
      " 71%|███████   | 235/331 [1:36:44<1:23:59, 52.50s/it]"
     ]
    },
    {
     "name": "stdout",
     "output_type": "stream",
     "text": [
      "[['▁제이에스티나'], ['▁j', '.', 'e', 'st', 'ina']]\n"
     ]
    },
    {
     "name": "stderr",
     "output_type": "stream",
     "text": [
      "\r",
      " 71%|███████▏  | 236/331 [1:36:51<1:01:42, 38.98s/it]"
     ]
    },
    {
     "name": "stdout",
     "output_type": "stream",
     "text": [
      "[['▁헤지스'], ['▁hazzys']]\n"
     ]
    },
    {
     "name": "stderr",
     "output_type": "stream",
     "text": [
      "\r",
      " 72%|███████▏  | 237/331 [1:36:59<46:14, 29.52s/it]  "
     ]
    },
    {
     "name": "stdout",
     "output_type": "stream",
     "text": [
      "[['▁질스튜어트'], ['▁jill', '▁stuart'], ['▁질슈트어트']]\n"
     ]
    },
    {
     "name": "stderr",
     "output_type": "stream",
     "text": [
      "\r",
      " 72%|███████▏  | 238/331 [1:37:09<36:55, 23.83s/it]"
     ]
    },
    {
     "name": "stdout",
     "output_type": "stream",
     "text": [
      "[['▁하이칙스'], ['▁high', '▁ch', 'ee', 'k', 's']]\n"
     ]
    },
    {
     "name": "stderr",
     "output_type": "stream",
     "text": [
      "\r",
      " 72%|███████▏  | 239/331 [1:37:17<28:59, 18.91s/it]"
     ]
    },
    {
     "name": "stdout",
     "output_type": "stream",
     "text": [
      "[['▁파인드카푸어'], ['▁fi', 'nd', '▁ka', 'po', 'or']]\n"
     ]
    },
    {
     "name": "stderr",
     "output_type": "stream",
     "text": [
      "\r",
      " 73%|███████▎  | 240/331 [1:37:24<23:30, 15.50s/it]"
     ]
    },
    {
     "name": "stdout",
     "output_type": "stream",
     "text": [
      "[['▁로저비비에'], ['▁ro', 'ger', '▁vivi', 'er']]\n"
     ]
    },
    {
     "name": "stderr",
     "output_type": "stream",
     "text": [
      "\r",
      " 73%|███████▎  | 241/331 [1:37:32<19:38, 13.09s/it]"
     ]
    },
    {
     "name": "stdout",
     "output_type": "stream",
     "text": [
      "[['▁끌로에'], ['▁chloe']]\n"
     ]
    },
    {
     "name": "stderr",
     "output_type": "stream",
     "text": [
      "\r",
      " 73%|███████▎  | 242/331 [1:37:39<16:54, 11.40s/it]"
     ]
    },
    {
     "name": "stdout",
     "output_type": "stream",
     "text": [
      "[['▁마시모두띠'], ['▁ma', 'ss', 'im', 'o', '▁du', 't', 'ti']]\n"
     ]
    },
    {
     "name": "stderr",
     "output_type": "stream",
     "text": [
      "\r",
      " 73%|███████▎  | 243/331 [1:37:46<14:58, 10.21s/it]"
     ]
    },
    {
     "name": "stdout",
     "output_type": "stream",
     "text": [
      "[['▁마린세르'], ['▁mar', 'ine', '▁s', 'erre']]\n"
     ]
    },
    {
     "name": "stderr",
     "output_type": "stream",
     "text": [
      "\r",
      " 74%|███████▎  | 244/331 [1:37:54<13:35,  9.37s/it]"
     ]
    },
    {
     "name": "stdout",
     "output_type": "stream",
     "text": [
      "[['▁로사케이'], ['▁rosa', '.', 'k']]\n"
     ]
    },
    {
     "name": "stderr",
     "output_type": "stream",
     "text": [
      "\r",
      " 74%|███████▍  | 245/331 [1:38:01<12:33,  8.76s/it]"
     ]
    },
    {
     "name": "stdout",
     "output_type": "stream",
     "text": [
      "[['▁잇미샤'], ['▁it', '▁michaa']]\n"
     ]
    },
    {
     "name": "stderr",
     "output_type": "stream",
     "text": [
      "\r",
      " 74%|███████▍  | 246/331 [1:38:09<11:50,  8.36s/it]"
     ]
    },
    {
     "name": "stdout",
     "output_type": "stream",
     "text": [
      "[['▁오야니'], ['▁', 'ory', 'any']]\n"
     ]
    },
    {
     "name": "stderr",
     "output_type": "stream",
     "text": [
      "\r",
      " 75%|███████▍  | 247/331 [1:38:16<11:16,  8.06s/it]"
     ]
    },
    {
     "name": "stdout",
     "output_type": "stream",
     "text": [
      "[['▁에트로'], ['▁etro']]\n"
     ]
    },
    {
     "name": "stderr",
     "output_type": "stream",
     "text": [
      "\r",
      " 75%|███████▍  | 248/331 [1:38:23<10:53,  7.88s/it]"
     ]
    },
    {
     "name": "stdout",
     "output_type": "stream",
     "text": [
      "[['▁비비안'], ['▁vivi', 'en']]\n"
     ]
    },
    {
     "name": "stderr",
     "output_type": "stream",
     "text": [
      "\r",
      " 75%|███████▌  | 249/331 [1:38:31<10:32,  7.72s/it]"
     ]
    },
    {
     "name": "stdout",
     "output_type": "stream",
     "text": [
      "[['▁펜디'], ['▁fendi'], ['▁팬디']]\n"
     ]
    },
    {
     "name": "stderr",
     "output_type": "stream",
     "text": [
      "\r",
      " 76%|███████▌  | 250/331 [1:38:41<11:34,  8.58s/it]"
     ]
    },
    {
     "name": "stdout",
     "output_type": "stream",
     "text": [
      "[['▁큐리티'], ['▁cur', 'ett', 'y']]\n"
     ]
    },
    {
     "name": "stderr",
     "output_type": "stream",
     "text": [
      "\r",
      " 76%|███████▌  | 251/331 [1:38:49<10:57,  8.22s/it]"
     ]
    },
    {
     "name": "stdout",
     "output_type": "stream",
     "text": [
      "[['▁럭키슈에뜨'], ['▁lucky', '▁chouette']]\n"
     ]
    },
    {
     "name": "stderr",
     "output_type": "stream",
     "text": [
      "\r",
      " 76%|███████▌  | 252/331 [1:38:56<10:26,  7.92s/it]"
     ]
    },
    {
     "name": "stdout",
     "output_type": "stream",
     "text": [
      "[['▁써스데이아일랜드'], ['▁thursday', '▁island']]\n"
     ]
    },
    {
     "name": "stderr",
     "output_type": "stream",
     "text": [
      "\r",
      " 76%|███████▋  | 253/331 [1:39:03<10:01,  7.71s/it]"
     ]
    },
    {
     "name": "stdout",
     "output_type": "stream",
     "text": [
      "[['▁로라로라'], ['▁r', 'ola', '▁r', 'ola']]\n"
     ]
    },
    {
     "name": "stderr",
     "output_type": "stream",
     "text": [
      "\r",
      " 77%|███████▋  | 254/331 [1:39:11<09:44,  7.60s/it]"
     ]
    },
    {
     "name": "stdout",
     "output_type": "stream",
     "text": [
      "[['▁러브캣'], ['▁lovcat']]\n"
     ]
    },
    {
     "name": "stderr",
     "output_type": "stream",
     "text": [
      "\r",
      " 77%|███████▋  | 255/331 [1:39:18<09:30,  7.51s/it]"
     ]
    },
    {
     "name": "stdout",
     "output_type": "stream",
     "text": [
      "[['▁분', '크'], ['▁v', 'un', 'que']]\n"
     ]
    },
    {
     "name": "stderr",
     "output_type": "stream",
     "text": [
      "\r",
      " 77%|███████▋  | 256/331 [1:39:25<09:19,  7.46s/it]"
     ]
    },
    {
     "name": "stdout",
     "output_type": "stream",
     "text": [
      "[['▁조셉앤스테이시'], ['▁joseph', '▁and', '▁st', 'ace', 'y'], ['▁', 'JOSEPH&STACEY'], ['▁조셉', '엔', '스테이', '시']]\n"
     ]
    },
    {
     "name": "stderr",
     "output_type": "stream",
     "text": [
      "\r",
      " 78%|███████▊  | 257/331 [1:39:39<11:26,  9.28s/it]"
     ]
    },
    {
     "name": "stdout",
     "output_type": "stream",
     "text": [
      "[['▁찰스앤키스'], ['▁charles', '▁', '&', '▁keith'], ['▁찰스', '엔', '키스']]\n"
     ]
    },
    {
     "name": "stderr",
     "output_type": "stream",
     "text": [
      "\r",
      " 78%|███████▊  | 258/331 [1:39:49<11:44,  9.65s/it]"
     ]
    },
    {
     "name": "stdout",
     "output_type": "stream",
     "text": [
      "[['▁디스커버리'], ['▁discovery']]\n"
     ]
    },
    {
     "name": "stderr",
     "output_type": "stream",
     "text": [
      "\r",
      " 78%|███████▊  | 259/331 [1:39:56<10:42,  8.92s/it]"
     ]
    },
    {
     "name": "stdout",
     "output_type": "stream",
     "text": [
      "[['▁슈콤마보니'], ['▁s', 'ue', '▁com', 'ma', '▁bonnie']]\n"
     ]
    },
    {
     "name": "stderr",
     "output_type": "stream",
     "text": [
      "\r",
      " 79%|███████▊  | 260/331 [1:40:04<09:59,  8.44s/it]"
     ]
    },
    {
     "name": "stdout",
     "output_type": "stream",
     "text": [
      "[['▁마이클코어스'], ['▁michael', '▁kors']]\n"
     ]
    },
    {
     "name": "stderr",
     "output_type": "stream",
     "text": [
      "\r",
      " 79%|███████▉  | 261/331 [1:40:11<09:24,  8.07s/it]"
     ]
    },
    {
     "name": "stdout",
     "output_type": "stream",
     "text": [
      "[['▁핏플랍'], ['▁fit', 'fl', 'op']]\n"
     ]
    },
    {
     "name": "stderr",
     "output_type": "stream",
     "text": [
      "\r",
      " 79%|███████▉  | 262/331 [1:40:18<09:02,  7.86s/it]"
     ]
    },
    {
     "name": "stdout",
     "output_type": "stream",
     "text": [
      "[['▁베라왕'], ['▁ver', 'a', '▁wang']]\n"
     ]
    },
    {
     "name": "stderr",
     "output_type": "stream",
     "text": [
      "\r",
      " 79%|███████▉  | 263/331 [1:40:26<08:44,  7.72s/it]"
     ]
    },
    {
     "name": "stdout",
     "output_type": "stream",
     "text": [
      "[['▁모조에스핀'], ['▁mojo', '.', 's', '.', 'ph', 'ine']]\n"
     ]
    },
    {
     "name": "stderr",
     "output_type": "stream",
     "text": [
      "\r",
      " 80%|███████▉  | 264/331 [1:40:33<08:28,  7.59s/it]"
     ]
    },
    {
     "name": "stdout",
     "output_type": "stream",
     "text": [
      "[['▁던스트'], ['▁d', 'un', 'st']]\n"
     ]
    },
    {
     "name": "stderr",
     "output_type": "stream",
     "text": [
      "\r",
      " 80%|████████  | 265/331 [1:40:40<08:17,  7.53s/it]"
     ]
    },
    {
     "name": "stdout",
     "output_type": "stream",
     "text": [
      "[['▁손정완'], ['▁s', 'on', '▁j', 'ung', '▁w', 'an']]\n"
     ]
    },
    {
     "name": "stderr",
     "output_type": "stream",
     "text": [
      "\r",
      " 80%|████████  | 266/331 [1:40:48<08:07,  7.50s/it]"
     ]
    },
    {
     "name": "stdout",
     "output_type": "stream",
     "text": [
      "[['▁조이그라이슨'], ['▁joy', 'g', 'ry', 'son']]\n"
     ]
    },
    {
     "name": "stderr",
     "output_type": "stream",
     "text": [
      "\r",
      " 81%|████████  | 267/331 [1:40:55<07:59,  7.49s/it]"
     ]
    },
    {
     "name": "stdout",
     "output_type": "stream",
     "text": [
      "[['▁골든듀'], ['▁golden', 'de', 'w']]\n"
     ]
    },
    {
     "name": "stderr",
     "output_type": "stream",
     "text": [
      "\r",
      " 81%|████████  | 268/331 [1:41:03<07:54,  7.53s/it]"
     ]
    },
    {
     "name": "stdout",
     "output_type": "stream",
     "text": [
      "[['▁다미아니'], ['▁d', 'ami', 'ani']]\n"
     ]
    },
    {
     "name": "stderr",
     "output_type": "stream",
     "text": [
      "\r",
      " 81%|████████▏ | 269/331 [1:41:10<07:44,  7.49s/it]"
     ]
    },
    {
     "name": "stdout",
     "output_type": "stream",
     "text": [
      "[['▁드래곤', '백'], ['▁dr', 'ag', 'on', '▁d', 'iff', 'u', 'sion']]\n"
     ]
    },
    {
     "name": "stderr",
     "output_type": "stream",
     "text": [
      "\r",
      " 82%|████████▏ | 270/331 [1:41:18<07:36,  7.49s/it]"
     ]
    },
    {
     "name": "stdout",
     "output_type": "stream",
     "text": [
      "[['▁발렌타인'], ['▁ball', 'ant', 'y', 'ne']]\n"
     ]
    },
    {
     "name": "stderr",
     "output_type": "stream",
     "text": [
      "\r",
      " 82%|████████▏ | 271/331 [1:41:25<07:25,  7.43s/it]"
     ]
    },
    {
     "name": "stdout",
     "output_type": "stream",
     "text": [
      "[['▁키이스'], ['▁keith'], ['▁키', '이쓰']]\n"
     ]
    },
    {
     "name": "stderr",
     "output_type": "stream",
     "text": [
      "\r",
      " 82%|████████▏ | 272/331 [1:41:36<08:17,  8.43s/it]"
     ]
    },
    {
     "name": "stdout",
     "output_type": "stream",
     "text": [
      "[['▁덱케'], ['▁de', 'ck', 'e']]\n"
     ]
    },
    {
     "name": "stderr",
     "output_type": "stream",
     "text": [
      "\r",
      " 82%|████████▏ | 273/331 [1:41:43<07:53,  8.16s/it]"
     ]
    },
    {
     "name": "stdout",
     "output_type": "stream",
     "text": [
      "[['▁캠퍼'], ['▁camper']]\n"
     ]
    },
    {
     "name": "stderr",
     "output_type": "stream",
     "text": [
      "\r",
      " 83%|████████▎ | 274/331 [1:41:51<07:31,  7.92s/it]"
     ]
    },
    {
     "name": "stdout",
     "output_type": "stream",
     "text": [
      "[['▁제시뉴욕'], ['▁jessi', '▁newyork']]\n"
     ]
    },
    {
     "name": "stderr",
     "output_type": "stream",
     "text": [
      "\r",
      " 83%|████████▎ | 275/331 [1:41:58<07:13,  7.74s/it]"
     ]
    },
    {
     "name": "stdout",
     "output_type": "stream",
     "text": [
      "[['▁칼린'], ['▁car', 'lyn']]\n"
     ]
    },
    {
     "name": "stderr",
     "output_type": "stream",
     "text": [
      "\r",
      " 83%|████████▎ | 276/331 [1:42:06<07:01,  7.67s/it]"
     ]
    },
    {
     "name": "stdout",
     "output_type": "stream",
     "text": [
      "[['▁키플링'], ['▁kipling']]\n"
     ]
    },
    {
     "name": "stderr",
     "output_type": "stream",
     "text": [
      "\r",
      " 84%|████████▎ | 277/331 [1:42:13<06:52,  7.64s/it]"
     ]
    },
    {
     "name": "stdout",
     "output_type": "stream",
     "text": [
      "[['▁플립'], ['▁f', 'lip']]\n"
     ]
    },
    {
     "name": "stderr",
     "output_type": "stream",
     "text": [
      "\r",
      " 84%|████████▍ | 278/331 [1:42:21<06:46,  7.67s/it]"
     ]
    },
    {
     "name": "stdout",
     "output_type": "stream",
     "text": [
      "[['▁까르띠에'], ['▁cartier']]\n"
     ]
    },
    {
     "name": "stderr",
     "output_type": "stream",
     "text": [
      "\r",
      " 84%|████████▍ | 279/331 [1:42:28<06:36,  7.62s/it]"
     ]
    },
    {
     "name": "stdout",
     "output_type": "stream",
     "text": [
      "[['▁레드윙'], ['▁red', '▁w', 'ing']]\n"
     ]
    },
    {
     "name": "stderr",
     "output_type": "stream",
     "text": [
      "\r",
      " 85%|████████▍ | 280/331 [1:42:36<06:28,  7.62s/it]"
     ]
    },
    {
     "name": "stdout",
     "output_type": "stream",
     "text": [
      "[['▁구호'], ['▁kuho']]\n"
     ]
    },
    {
     "name": "stderr",
     "output_type": "stream",
     "text": [
      "\r",
      " 85%|████████▍ | 281/331 [1:42:44<06:22,  7.64s/it]"
     ]
    },
    {
     "name": "stdout",
     "output_type": "stream",
     "text": [
      "[['▁오일릴리'], ['▁oilily']]\n"
     ]
    },
    {
     "name": "stderr",
     "output_type": "stream",
     "text": [
      "\r",
      " 85%|████████▌ | 282/331 [1:42:51<06:12,  7.61s/it]"
     ]
    },
    {
     "name": "stdout",
     "output_type": "stream",
     "text": [
      "[['▁오데마피게'], ['▁aude', 'mars', '▁pigue', 't']]\n"
     ]
    },
    {
     "name": "stderr",
     "output_type": "stream",
     "text": [
      "\r",
      " 85%|████████▌ | 283/331 [1:42:59<06:04,  7.60s/it]"
     ]
    },
    {
     "name": "stdout",
     "output_type": "stream",
     "text": [
      "[['▁태그호이어'], ['▁tag', '▁heuer']]\n"
     ]
    },
    {
     "name": "stderr",
     "output_type": "stream",
     "text": [
      "\r",
      " 86%|████████▌ | 284/331 [1:43:06<05:56,  7.59s/it]"
     ]
    },
    {
     "name": "stdout",
     "output_type": "stream",
     "text": [
      "[['▁드바스크'], ['▁de', 'ba', 'ss', 'q', 'q']]\n"
     ]
    },
    {
     "name": "stderr",
     "output_type": "stream",
     "text": [
      "\r",
      " 86%|████████▌ | 285/331 [1:43:14<05:50,  7.62s/it]"
     ]
    },
    {
     "name": "stdout",
     "output_type": "stream",
     "text": [
      "[['▁세이코'], ['▁seiko']]\n"
     ]
    },
    {
     "name": "stderr",
     "output_type": "stream",
     "text": [
      "\r",
      " 86%|████████▋ | 286/331 [1:43:22<05:43,  7.62s/it]"
     ]
    },
    {
     "name": "stdout",
     "output_type": "stream",
     "text": [
      "[['▁파텍필립'], ['▁', 'patek', '▁philippe']]\n"
     ]
    },
    {
     "name": "stderr",
     "output_type": "stream",
     "text": [
      "\r",
      " 87%|████████▋ | 287/331 [1:43:29<05:35,  7.63s/it]"
     ]
    },
    {
     "name": "stdout",
     "output_type": "stream",
     "text": [
      "[['▁프레드릭', '▁콘스탄트'], ['▁fred', 'er', 'ique', '▁con', 'st', 'ant']]\n"
     ]
    },
    {
     "name": "stderr",
     "output_type": "stream",
     "text": [
      "\r",
      " 87%|████████▋ | 288/331 [1:43:37<05:28,  7.63s/it]"
     ]
    },
    {
     "name": "stdout",
     "output_type": "stream",
     "text": [
      "[['▁카시오'], ['▁casio']]\n"
     ]
    },
    {
     "name": "stderr",
     "output_type": "stream",
     "text": [
      "\r",
      " 87%|████████▋ | 289/331 [1:43:45<05:20,  7.64s/it]"
     ]
    },
    {
     "name": "stdout",
     "output_type": "stream",
     "text": [
      "[['▁오메가'], ['▁omega']]\n"
     ]
    },
    {
     "name": "stderr",
     "output_type": "stream",
     "text": [
      "\r",
      " 88%|████████▊ | 290/331 [1:43:52<05:13,  7.64s/it]"
     ]
    },
    {
     "name": "stdout",
     "output_type": "stream",
     "text": [
      "[['▁티쏘'], ['▁tissot']]\n"
     ]
    },
    {
     "name": "stderr",
     "output_type": "stream",
     "text": [
      "\r",
      " 88%|████████▊ | 291/331 [1:44:00<05:05,  7.63s/it]"
     ]
    },
    {
     "name": "stdout",
     "output_type": "stream",
     "text": [
      "[['▁루미녹스'], ['▁l', 'um', 'ino', 'x']]\n"
     ]
    },
    {
     "name": "stderr",
     "output_type": "stream",
     "text": [
      "\r",
      " 88%|████████▊ | 292/331 [1:44:08<04:57,  7.63s/it]"
     ]
    },
    {
     "name": "stdout",
     "output_type": "stream",
     "text": [
      "[['▁바쉐론', '▁콘스탄틴'], ['▁v', 'ache', 'ron', '▁con', 'st', 'ant', 'in']]\n"
     ]
    },
    {
     "name": "stderr",
     "output_type": "stream",
     "text": [
      "\r",
      " 89%|████████▊ | 293/331 [1:44:15<04:50,  7.65s/it]"
     ]
    },
    {
     "name": "stdout",
     "output_type": "stream",
     "text": [
      "[['▁크롬하츠'], ['▁chrome', '▁hearts']]\n"
     ]
    },
    {
     "name": "stderr",
     "output_type": "stream",
     "text": [
      "\r",
      " 89%|████████▉ | 294/331 [1:44:23<04:41,  7.61s/it]"
     ]
    },
    {
     "name": "stdout",
     "output_type": "stream",
     "text": [
      "[['▁시티즌'], ['▁citizen']]\n"
     ]
    },
    {
     "name": "stderr",
     "output_type": "stream",
     "text": [
      "\r",
      " 89%|████████▉ | 295/331 [1:44:30<04:33,  7.61s/it]"
     ]
    },
    {
     "name": "stdout",
     "output_type": "stream",
     "text": [
      "[['▁론진'], ['▁long', 'ine', 's']]\n"
     ]
    },
    {
     "name": "stderr",
     "output_type": "stream",
     "text": [
      "\r",
      " 89%|████████▉ | 296/331 [1:44:38<04:27,  7.63s/it]"
     ]
    },
    {
     "name": "stdout",
     "output_type": "stream",
     "text": [
      "[['▁위블로'], ['▁hublot']]\n"
     ]
    },
    {
     "name": "stderr",
     "output_type": "stream",
     "text": [
      "\r",
      " 90%|████████▉ | 297/331 [1:44:46<04:19,  7.64s/it]"
     ]
    },
    {
     "name": "stdout",
     "output_type": "stream",
     "text": [
      "[['▁브라이틀링'], ['▁bre', 'it', 'ling']]\n"
     ]
    },
    {
     "name": "stderr",
     "output_type": "stream",
     "text": [
      "\r",
      " 90%|█████████ | 298/331 [1:44:53<04:11,  7.63s/it]"
     ]
    },
    {
     "name": "stdout",
     "output_type": "stream",
     "text": [
      "[['▁해밀턴'], ['▁h', 'ami', 'l', 'ton']]\n"
     ]
    },
    {
     "name": "stderr",
     "output_type": "stream",
     "text": [
      "\r",
      " 90%|█████████ | 299/331 [1:45:01<04:04,  7.63s/it]"
     ]
    },
    {
     "name": "stdout",
     "output_type": "stream",
     "text": [
      "[['▁오리스'], ['▁or', 'is']]\n"
     ]
    },
    {
     "name": "stderr",
     "output_type": "stream",
     "text": [
      "\r",
      " 91%|█████████ | 300/331 [1:45:09<03:57,  7.68s/it]"
     ]
    },
    {
     "name": "stdout",
     "output_type": "stream",
     "text": [
      "[['▁스와로브스키'], ['▁swarovski']]\n"
     ]
    },
    {
     "name": "stderr",
     "output_type": "stream",
     "text": [
      "\r",
      " 91%|█████████ | 301/331 [1:45:16<03:48,  7.61s/it]"
     ]
    },
    {
     "name": "stdout",
     "output_type": "stream",
     "text": [
      "[['▁디디에두보'], ['▁d', 'idi', 'er', '▁du', 'bo', 't']]\n"
     ]
    },
    {
     "name": "stderr",
     "output_type": "stream",
     "text": [
      "\r",
      " 91%|█████████ | 302/331 [1:45:24<03:40,  7.60s/it]"
     ]
    },
    {
     "name": "stdout",
     "output_type": "stream",
     "text": [
      "[['▁그랜드', '세이', '코'], ['▁gr', 'and', '▁seiko']]\n"
     ]
    },
    {
     "name": "stderr",
     "output_type": "stream",
     "text": [
      "\r",
      " 92%|█████████▏| 303/331 [1:45:31<03:33,  7.64s/it]"
     ]
    },
    {
     "name": "stdout",
     "output_type": "stream",
     "text": [
      "[['▁튜더'], ['▁tu', 'dor']]\n"
     ]
    },
    {
     "name": "stderr",
     "output_type": "stream",
     "text": [
      "\r",
      " 92%|█████████▏| 304/331 [1:45:39<03:27,  7.67s/it]"
     ]
    },
    {
     "name": "stdout",
     "output_type": "stream",
     "text": [
      "[['▁몽블랑'], ['▁', 'montblanc']]\n"
     ]
    },
    {
     "name": "stderr",
     "output_type": "stream",
     "text": [
      "\r",
      " 92%|█████████▏| 305/331 [1:45:47<03:19,  7.67s/it]"
     ]
    },
    {
     "name": "stdout",
     "output_type": "stream",
     "text": [
      "[['▁프레드'], ['▁fred']]\n"
     ]
    },
    {
     "name": "stderr",
     "output_type": "stream",
     "text": [
      "\r",
      " 92%|█████████▏| 306/331 [1:45:55<03:11,  7.67s/it]"
     ]
    },
    {
     "name": "stdout",
     "output_type": "stream",
     "text": [
      "[['▁불가리'], ['▁bvlgari']]\n"
     ]
    },
    {
     "name": "stderr",
     "output_type": "stream",
     "text": [
      "\r",
      " 93%|█████████▎| 307/331 [1:46:02<03:03,  7.65s/it]"
     ]
    },
    {
     "name": "stdout",
     "output_type": "stream",
     "text": [
      "[['▁부쉐론'], ['▁b', 'ou', 'che', 'ron']]\n"
     ]
    },
    {
     "name": "stderr",
     "output_type": "stream",
     "text": [
      "\r",
      " 93%|█████████▎| 308/331 [1:46:10<02:55,  7.65s/it]"
     ]
    },
    {
     "name": "stdout",
     "output_type": "stream",
     "text": [
      "[['▁쇼메'], ['▁cha', 'ume', 't']]\n"
     ]
    },
    {
     "name": "stderr",
     "output_type": "stream",
     "text": [
      "\r",
      " 93%|█████████▎| 309/331 [1:46:18<02:48,  7.67s/it]"
     ]
    },
    {
     "name": "stdout",
     "output_type": "stream",
     "text": [
      "[]\n"
     ]
    },
    {
     "name": "stderr",
     "output_type": "stream",
     "text": [
      "\r",
      " 94%|█████████▎| 310/331 [1:46:18<01:57,  5.59s/it]"
     ]
    },
    {
     "name": "stdout",
     "output_type": "stream",
     "text": [
      "[['▁험멜'], ['▁hummel']]\n"
     ]
    },
    {
     "name": "stderr",
     "output_type": "stream",
     "text": [
      "\r",
      " 94%|█████████▍| 311/331 [1:46:26<02:04,  6.21s/it]"
     ]
    },
    {
     "name": "stdout",
     "output_type": "stream",
     "text": [
      "[['▁데상트'], ['▁descente']]\n"
     ]
    },
    {
     "name": "stderr",
     "output_type": "stream",
     "text": [
      "\r",
      " 94%|█████████▍| 312/331 [1:46:34<02:05,  6.63s/it]"
     ]
    },
    {
     "name": "stdout",
     "output_type": "stream",
     "text": [
      "[['▁코오롱'], ['▁kolon']]\n"
     ]
    },
    {
     "name": "stderr",
     "output_type": "stream",
     "text": [
      "\r",
      " 95%|█████████▍| 313/331 [1:46:41<02:04,  6.93s/it]"
     ]
    },
    {
     "name": "stdout",
     "output_type": "stream",
     "text": [
      "[['▁두산베어스'], ['▁do', 'o', 's', 'an', '▁bear', 's']]\n"
     ]
    },
    {
     "name": "stderr",
     "output_type": "stream",
     "text": [
      "\r",
      " 95%|█████████▍| 314/331 [1:46:49<02:01,  7.15s/it]"
     ]
    },
    {
     "name": "stdout",
     "output_type": "stream",
     "text": [
      "[['▁삼성', '라이', '온', '즈'], ['▁sa', 'ms', 'ung', '▁l', 'ion', 's']]\n"
     ]
    },
    {
     "name": "stderr",
     "output_type": "stream",
     "text": [
      "\r",
      " 95%|█████████▌| 315/331 [1:46:57<01:57,  7.35s/it]"
     ]
    },
    {
     "name": "stdout",
     "output_type": "stream",
     "text": [
      "[['▁롯데자이언츠'], ['▁lo', 'tte', '▁gi', 'ant', 's']]\n"
     ]
    },
    {
     "name": "stderr",
     "output_type": "stream",
     "text": [
      "\r",
      " 95%|█████████▌| 316/331 [1:47:04<01:51,  7.41s/it]"
     ]
    },
    {
     "name": "stdout",
     "output_type": "stream",
     "text": [
      "[['▁토트넘'], ['▁t', 'ott', 'en', 'ham']]\n"
     ]
    },
    {
     "name": "stderr",
     "output_type": "stream",
     "text": [
      "\r",
      " 96%|█████████▌| 317/331 [1:47:12<01:44,  7.45s/it]"
     ]
    },
    {
     "name": "stdout",
     "output_type": "stream",
     "text": [
      "[['▁데상트', '골프'], ['▁descente', '▁golf']]\n"
     ]
    },
    {
     "name": "stderr",
     "output_type": "stream",
     "text": [
      "\r",
      " 96%|█████████▌| 318/331 [1:47:19<01:35,  7.38s/it]"
     ]
    },
    {
     "name": "stdout",
     "output_type": "stream",
     "text": [
      "[['▁까스텔바작'], ['▁castel', '▁ba', 'j', 'ac'], ['▁까', '스', '탤', '바', '작']]\n"
     ]
    },
    {
     "name": "stderr",
     "output_type": "stream",
     "text": [
      "\r",
      " 96%|█████████▋| 319/331 [1:47:29<01:39,  8.30s/it]"
     ]
    },
    {
     "name": "stdout",
     "output_type": "stream",
     "text": [
      "[['▁마운틴하드웨어'], ['▁mountain', '▁h', 'ard', 'wear']]\n"
     ]
    },
    {
     "name": "stderr",
     "output_type": "stream",
     "text": [
      "\r",
      " 97%|█████████▋| 320/331 [1:47:37<01:27,  7.95s/it]"
     ]
    },
    {
     "name": "stdout",
     "output_type": "stream",
     "text": [
      "[['▁피엘라벤'], ['▁f', 'j', 'all', 'ra', 'ven']]\n"
     ]
    },
    {
     "name": "stderr",
     "output_type": "stream",
     "text": [
      "\r",
      " 97%|█████████▋| 321/331 [1:55:44<25:18, 151.80s/it]"
     ]
    },
    {
     "name": "stdout",
     "output_type": "stream",
     "text": [
      "[['▁제이린드버그'], ['▁j', '.', 'lin', 'de', 'ber', 'g']]\n"
     ]
    },
    {
     "name": "stderr",
     "output_type": "stream",
     "text": [
      "\r",
      " 97%|█████████▋| 322/331 [1:55:53<16:19, 108.83s/it]"
     ]
    },
    {
     "name": "stdout",
     "output_type": "stream",
     "text": [
      "[['▁루이까스텔'], ['▁louis', '▁castel']]\n"
     ]
    },
    {
     "name": "stderr",
     "output_type": "stream",
     "text": [
      "\r",
      " 98%|█████████▊| 323/331 [1:56:01<10:28, 78.62s/it] "
     ]
    },
    {
     "name": "stdout",
     "output_type": "stream",
     "text": [
      "[['▁파리게이츠'], ['▁pearl', 'y', '▁g', 'ate', 's']]\n"
     ]
    },
    {
     "name": "stderr",
     "output_type": "stream",
     "text": [
      "\r",
      " 98%|█████████▊| 324/331 [1:56:09<06:42, 57.56s/it]"
     ]
    },
    {
     "name": "stdout",
     "output_type": "stream",
     "text": [
      "[['▁마무트'], ['▁ma', 'mm', 'ut']]\n"
     ]
    },
    {
     "name": "stderr",
     "output_type": "stream",
     "text": [
      "\r",
      " 98%|█████████▊| 325/331 [1:56:17<04:15, 42.55s/it]"
     ]
    },
    {
     "name": "stdout",
     "output_type": "stream",
     "text": [
      "[['▁와이드앵글'], ['▁wide', 'ang', 'le']]\n"
     ]
    },
    {
     "name": "stderr",
     "output_type": "stream",
     "text": [
      "\r",
      " 98%|█████████▊| 326/331 [1:56:24<02:40, 32.03s/it]"
     ]
    },
    {
     "name": "stdout",
     "output_type": "stream",
     "text": [
      "[['▁타이틀리스트'], ['▁titleist']]\n"
     ]
    },
    {
     "name": "stderr",
     "output_type": "stream",
     "text": [
      "\r",
      " 99%|█████████▉| 327/331 [1:56:32<01:39, 24.78s/it]"
     ]
    },
    {
     "name": "stdout",
     "output_type": "stream",
     "text": [
      "[['▁오클리'], ['▁oak', 'ley']]\n"
     ]
    },
    {
     "name": "stderr",
     "output_type": "stream",
     "text": [
      "\r",
      " 99%|█████████▉| 328/331 [1:56:40<00:59, 19.72s/it]"
     ]
    },
    {
     "name": "stdout",
     "output_type": "stream",
     "text": [
      "[['▁먼싱웨어'], ['▁munsing', 'wear']]\n"
     ]
    },
    {
     "name": "stderr",
     "output_type": "stream",
     "text": [
      "\r",
      " 99%|█████████▉| 329/331 [1:56:47<00:32, 16.05s/it]"
     ]
    },
    {
     "name": "stdout",
     "output_type": "stream",
     "text": [
      "[['▁몬츄라'], ['▁mont', 'ura']]\n"
     ]
    },
    {
     "name": "stderr",
     "output_type": "stream",
     "text": [
      "\r",
      "100%|█████████▉| 330/331 [1:56:55<00:13, 13.61s/it]"
     ]
    },
    {
     "name": "stdout",
     "output_type": "stream",
     "text": [
      "[['▁마크앤로나'], ['▁mark', '&', 'lon', 'a']]\n"
     ]
    },
    {
     "name": "stderr",
     "output_type": "stream",
     "text": [
      "100%|██████████| 331/331 [1:57:03<00:00, 21.22s/it]\n"
     ]
    }
   ],
   "source": [
    "brand_product_dict = {}\n",
    "for b in tqdm(brands_token):\n",
    "    brand_product_dict[b] = extract(b)"
   ]
  },
  {
   "cell_type": "code",
   "execution_count": 99,
   "metadata": {},
   "outputs": [],
   "source": [
    "import json \n",
    " \n",
    "with open(\"brand_product_dict.json\", \"w\") as outfile: \n",
    "    json.dump(brand_product_dict, outfile)"
   ]
  },
  {
   "cell_type": "code",
   "execution_count": 100,
   "metadata": {},
   "outputs": [
    {
     "data": {
      "text/plain": [
       "331"
      ]
     },
     "execution_count": 100,
     "metadata": {},
     "output_type": "execute_result"
    }
   ],
   "source": [
    "len(brand_product_dict)"
   ]
  },
  {
   "cell_type": "code",
   "execution_count": 104,
   "metadata": {},
   "outputs": [
    {
     "name": "stdout",
     "output_type": "stream",
     "text": [
      "nan\n"
     ]
    }
   ],
   "source": [
    "result_brand_list = []\n",
    "for k, v in brand_product_dict.items():\n",
    "    size = len(v)\n",
    "    if size > 0:\n",
    "        result_brand_list.append((k, size))\n",
    "    else:\n",
    "        print(k)"
   ]
  },
  {
   "cell_type": "code",
   "execution_count": 105,
   "metadata": {},
   "outputs": [
    {
     "data": {
      "text/plain": [
       "330"
      ]
     },
     "execution_count": 105,
     "metadata": {},
     "output_type": "execute_result"
    }
   ],
   "source": [
    "len(result_brand_list)"
   ]
  },
  {
   "cell_type": "code",
   "execution_count": 106,
   "metadata": {},
   "outputs": [
    {
     "data": {
      "text/plain": [
       "[('나이키', 255114),\n",
       " ('스톤아일랜드', 29689),\n",
       " ('뉴발란스', 42895),\n",
       " ('아디다스', 155233),\n",
       " ('노스페이스', 37268),\n",
       " ('스투시', 12264),\n",
       " ('아식스', 6634),\n",
       " ('무신사스탠다드', 974),\n",
       " ('디스이즈네버댓', 10843),\n",
       " ('커버낫', 8172),\n",
       " ('메종키츠네', 3909),\n",
       " ('아미', 4396),\n",
       " ('아더에러', 2023),\n",
       " ('반스', 18653),\n",
       " ('아크네', 7204),\n",
       " ('컨버스', 22875),\n",
       " ('유니클로', 39468),\n",
       " ('알파인더스트리', 1235),\n",
       " ('에센셜', 3643),\n",
       " ('내셔널지오그래픽', 5538),\n",
       " ('앤더슨벨', 3881),\n",
       " ('파타고니아', 5614),\n",
       " ('르꼬끄', 19510),\n",
       " ('칼하트', 24025),\n",
       " ('구찌', 122452),\n",
       " ('프라다', 48702),\n",
       " ('자라', 44827),\n",
       " ('코스', 9347),\n",
       " ('메종마르지엘라', 1477),\n",
       " ('라퍼지스토어', 1332),\n",
       " ('비바스튜디오', 4849),\n",
       " ('프라이탁', 2214),\n",
       " ('커먼프로젝트', 520),\n",
       " ('라코스테', 41167),\n",
       " ('챔피온', 17314),\n",
       " ('모드나인', 642),\n",
       " ('슈프림', 18116),\n",
       " ('오베이', 3201),\n",
       " ('피어오브갓', 3591),\n",
       " ('루이비통', 95571),\n",
       " ('페이탈리즘', 854),\n",
       " ('뉴에라', 5605),\n",
       " ('바버', 2891),\n",
       " ('피스워커', 1046),\n",
       " ('오프화이트', 19627),\n",
       " ('톰브라운', 30268),\n",
       " ('보테가베네타', 15783),\n",
       " ('디올', 28562),\n",
       " ('알렉산더맥퀸', 3573),\n",
       " ('무스너클', 11810),\n",
       " ('티파니앤코', 1186),\n",
       " ('에르메스', 19995),\n",
       " ('샤넬', 69650),\n",
       " ('토템', 192),\n",
       " ('자크뮈스', 142),\n",
       " ('단톤', 627),\n",
       " ('판도라', 3665),\n",
       " ('스푸닝', 593),\n",
       " ('마뗑킴', 890),\n",
       " ('더오픈프로덕트', 797),\n",
       " ('다이애그널 ', 586),\n",
       " ('낫띵리튼', 300),\n",
       " ('미닛뮤트', 534),\n",
       " ('소프트서울 ', 322),\n",
       " ('소우소우', 417),\n",
       " ('텔파', 63),\n",
       " ('톰보이', 4144),\n",
       " ('오소이', 385),\n",
       " ('스타일난다', 4083),\n",
       " ('이자벨마랑', 2232),\n",
       " ('페라가모', 7552),\n",
       " ('투미', 1469),\n",
       " ('닥스', 15804),\n",
       " ('오즈세컨', 4089),\n",
       " ('메트로시티', 15482),\n",
       " ('지샥', 4634),\n",
       " ('롤렉스', 12122),\n",
       " ('룰루레몬', 376),\n",
       " ('젝시믹스', 714),\n",
       " ('안다르', 795),\n",
       " ('캘러웨이', 436),\n",
       " ('폴로', 86747),\n",
       " ('타미힐피거', 32220),\n",
       " ('리바이스', 25734),\n",
       " ('띠어리', 5313),\n",
       " ('언더아머', 9003),\n",
       " ('캉골', 7118),\n",
       " ('널디', 2726),\n",
       " ('우알롱', 107),\n",
       " ('발렌시아가', 38212),\n",
       " ('고야드', 8256),\n",
       " ('젠틀몬스터', 2677),\n",
       " ('크록스', 3043),\n",
       " ('우포스', 141),\n",
       " ('셀린느', 11168),\n",
       " ('겐조', 11338),\n",
       " ('파라점퍼스', 3443),\n",
       " ('캐나다구스', 4465),\n",
       " ('맥케이지', 1303),\n",
       " ('생로랑', 28570),\n",
       " ('우영미', 1493),\n",
       " ('르메르', 1437),\n",
       " ('준지', 1666),\n",
       " ('아워레가시', 1000),\n",
       " ('꼼데가르송', 22638),\n",
       " ('아크테릭스', 900),\n",
       " ('솔리드옴므', 1925),\n",
       " ('니들스', 862),\n",
       " ('스튜디오니콜슨', 141),\n",
       " ('나나미카', 139),\n",
       " ('살로몬', 377),\n",
       " ('엔지니어드가먼츠', 641),\n",
       " ('비즈빔', 343),\n",
       " ('릭오웬스', 1198),\n",
       " ('라프시몬스', 1706),\n",
       " ('사카이', 3500),\n",
       " ('아조바이아조', 270),\n",
       " ('솔로이스트', 772),\n",
       " ('마틴로즈', 333),\n",
       " ('아페쎄', 3383),\n",
       " ('세인트제임스', 1333),\n",
       " ('리복', 16509),\n",
       " ('네이더스', 305),\n",
       " ('어콜드월', 569),\n",
       " ('일꼬르소', 336),\n",
       " ('프레드페리', 2283),\n",
       " ('닥터마틴', 9890),\n",
       " ('아크메드라비', 904),\n",
       " ('시스템', 7670),\n",
       " ('시리즈', 2064),\n",
       " ('언더커버', 2266),\n",
       " ('로에베', 3924),\n",
       " ('산드로', 2995),\n",
       " ('발렌티노', 21295),\n",
       " ('베르사체', 7272),\n",
       " ('호카오네오네', 254),\n",
       " ('골든구스', 12010),\n",
       " ('버버리', 52388),\n",
       " ('빈폴', 33405),\n",
       " ('예스아이씨', 268),\n",
       " ('만다리나덕', 1265),\n",
       " ('클락스', 1085),\n",
       " ('루이까또즈', 20213),\n",
       " ('이세이미야케', 961),\n",
       " ('베트멍', 4835),\n",
       " ('질샌더', 1605),\n",
       " ('빔즈', 1827),\n",
       " ('그라미치', 505),\n",
       " ('나이젤카본', 237),\n",
       " ('마가렛호웰', 535),\n",
       " ('악셀아리가토', 20),\n",
       " ('브룩스브라더스', 993),\n",
       " ('폴로스포츠', 993),\n",
       " ('필슨', 214),\n",
       " ('오니츠카타이거', 2370),\n",
       " ('안데르센안데르센', 172),\n",
       " ('로스코', 799),\n",
       " ('디스퀘어드', 24553),\n",
       " ('필립플레인', 5488),\n",
       " ('코비', 526),\n",
       " ('팀버랜드', 3761),\n",
       " ('아베크롬비', 15953),\n",
       " ('엄브로', 3318),\n",
       " ('커스텀멜로우', 1867),\n",
       " ('마제스틱', 936),\n",
       " ('토마스모어', 102),\n",
       " ('아비렉스', 488),\n",
       " ('마르셀로불론', 1325),\n",
       " ('잔스포츠', 1005),\n",
       " ('헬무트랭', 330),\n",
       " ('베이프', 6636),\n",
       " ('포터', 855),\n",
       " ('드레익스', 127),\n",
       " ('어나더오피스', 175),\n",
       " ('스파이더', 10415),\n",
       " ('다이나핏', 2592),\n",
       " ('캘빈클라인', 16495),\n",
       " ('벨리에', 158),\n",
       " ('몽클레어', 34335),\n",
       " ('라이프워크', 126),\n",
       " ('드리스반노튼', 183),\n",
       " ('알릭스', 280),\n",
       " ('아미리', 683),\n",
       " ('디젤', 7238),\n",
       " ('헨리코튼', 991),\n",
       " ('미하라야스히로', 201),\n",
       " ('알든', 195),\n",
       " ('커렌트', 285),\n",
       " ('벨루티', 604),\n",
       " ('올세인츠', 965),\n",
       " ('지방시', 19252),\n",
       " ('로로피아나', 887),\n",
       " ('그레고리', 421),\n",
       " ('넘버나인', 371),\n",
       " ('블랙야크', 10677),\n",
       " ('알레그리', 253),\n",
       " ('블레스', 202),\n",
       " ('마르니', 2197),\n",
       " ('키코', 453),\n",
       " ('닐바렛', 4058),\n",
       " ('요지야마모토', 1064),\n",
       " ('폴스미스', 3744),\n",
       " ('발망', 11999),\n",
       " ('바라쿠타', 225),\n",
       " ('알렉산더왕', 2339),\n",
       " ('파라부트', 292),\n",
       " ('톰포드', 1299),\n",
       " ('랑방', 3501),\n",
       " ('블랭코브', 115),\n",
       " ('느와르라르메스', 82),\n",
       " ('알렌느', 127),\n",
       " ('벌스데이수트', 86),\n",
       " ('버즈릭슨', 204),\n",
       " ('송지오옴므', 141),\n",
       " ('토즈', 2839),\n",
       " ('MCM', 2787),\n",
       " ('돌체앤가바나', 7393),\n",
       " ('비비안웨스트우드', 5547),\n",
       " ('미스치프', 6368),\n",
       " ('킨더살몬', 124),\n",
       " ('키르시', 5784),\n",
       " ('미우미우', 6329),\n",
       " ('토리버치', 9489),\n",
       " ('에고이스트', 6389),\n",
       " ('엘바테게브', 179),\n",
       " ('듀엘', 2393),\n",
       " ('아카이브앱크', 127),\n",
       " ('마인', 3834),\n",
       " ('마쥬', 2801),\n",
       " ('타임', 8946),\n",
       " ('인스턴트펑크', 244),\n",
       " ('폴스부띠끄', 4995),\n",
       " ('코치', 16547),\n",
       " ('쿠론', 4109),\n",
       " ('루에브르', 52),\n",
       " ('제이에스티나', 6043),\n",
       " ('헤지스', 12164),\n",
       " ('질스튜어트', 7641),\n",
       " ('하이칙스', 318),\n",
       " ('파인드카푸어', 571),\n",
       " ('로저비비에', 2017),\n",
       " ('끌로에', 4551),\n",
       " ('마시모두띠', 924),\n",
       " ('마린세르', 130),\n",
       " ('로사케이', 122),\n",
       " ('잇미샤', 3346),\n",
       " ('오야니', 671),\n",
       " ('에트로', 2572),\n",
       " ('비비안', 2812),\n",
       " ('펜디', 16086),\n",
       " ('큐리티', 189),\n",
       " ('럭키슈에뜨', 4188),\n",
       " ('써스데이아일랜드', 1959),\n",
       " ('로라로라', 298),\n",
       " ('러브캣', 5563),\n",
       " ('분크', 102),\n",
       " ('조셉앤스테이시', 456),\n",
       " ('찰스앤키스', 3189),\n",
       " ('디스커버리', 14747),\n",
       " ('슈콤마보니', 2218),\n",
       " ('마이클코어스', 7781),\n",
       " ('핏플랍', 649),\n",
       " ('베라왕', 921),\n",
       " ('모조에스핀', 1244),\n",
       " ('던스트', 255),\n",
       " ('손정완', 818),\n",
       " ('조이그라이슨', 232),\n",
       " ('골든듀', 290),\n",
       " ('다미아니', 465),\n",
       " ('드래곤백', 49),\n",
       " ('발렌타인', 496),\n",
       " ('키이스', 919),\n",
       " ('덱케', 417),\n",
       " ('캠퍼', 731),\n",
       " ('제시뉴욕', 1196),\n",
       " ('칼린', 548),\n",
       " ('키플링', 3472),\n",
       " ('플립', 1003),\n",
       " ('까르띠에', 9849),\n",
       " ('레드윙', 616),\n",
       " ('구호', 2566),\n",
       " ('오일릴리', 1250),\n",
       " ('오데마피게', 1640),\n",
       " ('태그호이어', 4458),\n",
       " ('드바스크', 995),\n",
       " ('세이코', 2551),\n",
       " ('파텍필립', 1295),\n",
       " ('프레드릭 콘스탄트', 140),\n",
       " ('카시오', 2842),\n",
       " ('오메가', 3888),\n",
       " ('티쏘', 2140),\n",
       " ('루미녹스', 304),\n",
       " ('바쉐론 콘스탄틴', 210),\n",
       " ('크롬하츠', 13639),\n",
       " ('시티즌', 1256),\n",
       " ('론진', 560),\n",
       " ('위블로', 2741),\n",
       " ('브라이틀링', 3674),\n",
       " ('해밀턴', 1325),\n",
       " ('오리스', 293),\n",
       " ('스와로브스키', 7080),\n",
       " ('디디에두보', 347),\n",
       " ('그랜드세이코', 27),\n",
       " ('튜더', 126),\n",
       " ('몽블랑', 6992),\n",
       " ('프레드', 805),\n",
       " ('불가리', 4420),\n",
       " ('부쉐론', 164),\n",
       " ('쇼메', 130),\n",
       " ('험멜', 1558),\n",
       " ('데상트', 26452),\n",
       " ('코오롱', 7707),\n",
       " ('두산베어스', 123),\n",
       " ('삼성라이온즈', 43),\n",
       " ('롯데자이언츠', 109),\n",
       " ('토트넘', 234),\n",
       " ('데상트골프', 33),\n",
       " ('까스텔바작', 1010),\n",
       " ('마운틴하드웨어', 327),\n",
       " ('피엘라벤', 115),\n",
       " ('제이린드버그', 96),\n",
       " ('루이까스텔', 2963),\n",
       " ('파리게이츠', 1171),\n",
       " ('마무트', 304),\n",
       " ('와이드앵글', 405),\n",
       " ('타이틀리스트', 2228),\n",
       " ('오클리', 1397),\n",
       " ('먼싱웨어', 927),\n",
       " ('몬츄라', 778),\n",
       " ('마크앤로나', 143)]"
      ]
     },
     "execution_count": 106,
     "metadata": {},
     "output_type": "execute_result"
    }
   ],
   "source": [
    "result_brand_list"
   ]
  },
  {
   "cell_type": "code",
   "execution_count": 108,
   "metadata": {},
   "outputs": [
    {
     "data": {
      "text/plain": [
       "[['▁롯데자이언츠', '▁홍', '성', '흔', '▁유니폼'],\n",
       " ['▁xl', '▁아디다스', '▁롯데자이언츠', '▁춘추', '▁야구점퍼', '▁블랙', '75'],\n",
       " ['▁롯데자이언츠', '▁챔피언', '▁홈', '▁완전', '▁새상품'],\n",
       " ['▁롯데자이언츠', '▁모자', '▁등', '▁판매합니다'],\n",
       " ['▁롯데자이언츠', '▁유니폼', '▁아이다스', '▁새제품', '▁울산'],\n",
       " ['▁롯데자이언츠', '▁유니폼', '▁', '응', '원', '복', '▁원', '정', '▁팝니다'],\n",
       " ['▁실측', '95', '▁아디다스', '▁롯데자이언츠', '▁홍', '성', '흔', '▁', '마킹', '▁유니폼', '▁무료배송'],\n",
       " ['▁95', '▁네', '포스', '▁롯데자이언츠', '▁유니폼', '▁무료배송'],\n",
       " ['▁100', '▁롯데자이언츠', '▁싸인', '▁유니폼', '▁무료배송'],\n",
       " ['▁롯데자이언츠', '▁사', '인', '유니폼'],\n",
       " ['▁롯데자이언츠', '▁외투'],\n",
       " ['▁롯데자이언츠', '▁모자', '▁팝니다'],\n",
       " ['▁롯데자이언츠', '▁유니폼', '▁팔아요'],\n",
       " ['▁롯데자이언츠', '▁31', '번', '▁손', '아', '섭', '▁85', '▁유니폼'],\n",
       " ['▁롯데자이언츠', '▁김', '민', '혁', '▁유니폼', '▁저지', '▁야구', '복', '▁95'],\n",
       " ['▁k', 'bo', '▁뉴에라', '▁59', 'fifty', '▁롯데자이언츠'],\n",
       " ['▁롯데자이언츠', '잠바'],\n",
       " ['▁롯데자이언츠', '▁47', '▁레플리카', '▁l'],\n",
       " ['▁xxl', '▁네', '포스', '▁롯데자이언츠', '▁이', '대', '호', '▁원', '정', '▁유니폼', '184'],\n",
       " ['▁여성', '95', '▁롯데자이언츠', '▁이', '대', '호', '▁', '마킹', '▁유니폼', '▁무료배송'],\n",
       " ['▁롯데자이언츠', '▁바람막이', '▁90', '▁파격할인'],\n",
       " ['▁롯데자이언츠', '▁90', '▁남', '▁강', '민', '호', '유니폼'],\n",
       " ['▁xxl', '▁롯데자이언츠', '▁이', '대', '호', '▁복고', '▁유니폼', '1', '85'],\n",
       " ['▁롯데자이언츠', '▁90', '▁남', '▁황', '재', '균', '유니폼'],\n",
       " ['▁95', '▁롯데자이언츠', '▁조', '성', '환', '마킹', '▁어센틱', '▁유니폼', '▁무료배송', '▁새상품'],\n",
       " ['▁100', '▁롯데자이언츠', '▁유니폼', '▁무료배송'],\n",
       " ['▁롯데자이언츠', '▁커스텀', '▁캡', '▁모자', '▁판매합니다'],\n",
       " ['▁100', '▁롯데자이언츠', '▁이', '대', '호', '▁', '마킹', '▁유니폼', '▁무료배송'],\n",
       " ['▁롯데자이언츠', '▁남성'],\n",
       " ['▁남성', '100', '▁롯데자이언츠', '▁야구', '유니폼', '▁00', '60', '408'],\n",
       " ['▁105', '▁네', '포스', '▁롯데자이언츠', '▁유니폼', '▁새상품', '▁무료배송'],\n",
       " ['▁롯데자이언츠', '▁유니폼', '▁상의', '▁검정', '▁90', '▁95'],\n",
       " ['▁xxl', '▁카멜레온', '▁롯데자이언츠', '▁강', '민', '호', '▁유니폼', '189'],\n",
       " ['▁95', '▁롯데자이언츠', '▁민', '병', '헌', '▁', '마킹', '▁유니폼', '▁무료배송'],\n",
       " ['▁롯데자이언츠', '▁모자', '▁티셔츠'],\n",
       " ['▁100', '▁롯데자이언츠', '▁유니폼', '▁무료배송'],\n",
       " ['▁100', '▁롯데자이언츠', '▁홍', '성', '흔', '▁', '마킹', '▁유니폼', '▁무료배송'],\n",
       " ['▁실측', '95', '▁롯데자이언츠', '▁강', '민', '호', '▁싸인', '▁유니폼', '▁무료배송'],\n",
       " ['▁롯데자이언츠', '▁후드티', '▁95', '▁새상품'],\n",
       " ['▁롯데자이언츠', '▁모자'],\n",
       " ['▁롯데자이언츠', '▁풀오버', '▁판매합니다', '▁사이즈', '▁95'],\n",
       " ['▁73', '▁1', '▁롯데자이언츠', '▁여자', '90', '▁베이스볼', '클럽', '▁티셔츠', '▁더크'],\n",
       " ['▁105',\n",
       "  '▁롯데자이언츠',\n",
       "  '▁황',\n",
       "  '재',\n",
       "  '균',\n",
       "  '13',\n",
       "  '티셔츠',\n",
       "  '▁새상품',\n",
       "  '▁정가',\n",
       "  '90',\n",
       "  '000',\n",
       "  '원'],\n",
       " ['▁롯데자이언츠'],\n",
       " ['▁롯데자이언츠', '▁아이보리', '▁노', '마킹', '▁105', '사이즈'],\n",
       " ['▁롯데자이언츠', '▁바람막이', '▁선', '수', '지', '급', '용'],\n",
       " ['▁105',\n",
       "  '▁롯데자이언츠',\n",
       "  '▁황',\n",
       "  '재',\n",
       "  '균',\n",
       "  '13',\n",
       "  '티셔츠',\n",
       "  '▁새상품',\n",
       "  '▁정가',\n",
       "  '90',\n",
       "  '000',\n",
       "  '원'],\n",
       " ['▁105',\n",
       "  '▁롯데자이언츠',\n",
       "  '▁황',\n",
       "  '재',\n",
       "  '균',\n",
       "  '13',\n",
       "  '티셔츠',\n",
       "  '▁새상품',\n",
       "  '▁정가',\n",
       "  '90',\n",
       "  '000',\n",
       "  '원'],\n",
       " ['▁롯데자이언츠', '▁모자'],\n",
       " ['▁롯데자이언츠', '▁아노락', '▁100', '▁105'],\n",
       " ['▁남자', '▁95', '▁lo', 'tte', '▁롯데자이언츠', '▁가을', '▁야구잠바'],\n",
       " ['▁100', '▁아디다스', '▁롯데자이언츠', '▁야구점퍼'],\n",
       " ['▁l', '▁롯데자이언츠', '▁싸인', '자켓', '▁싸인', '볼'],\n",
       " ['▁롯데자이언츠', '▁아디다스', '▁가방', '▁대'],\n",
       " ['▁롯데자이언츠', '▁아디다스', '▁춘추', '자켓'],\n",
       " ['▁롯데자이언츠', '▁아디다스', '▁풀오버', '티'],\n",
       " ['▁xl', '▁롯데자이언츠', '▁후드티'],\n",
       " ['▁롯데자이언츠', '▁m', '▁당근', '점퍼', '▁미사용'],\n",
       " ['▁105', '▁롯데자이언츠', '▁춘추', '▁바람막이', '▁아노락', '▁웜업', '▁블랙', '▁무료배송'],\n",
       " ['▁롯데자이언츠', '▁구', '단', '▁점퍼'],\n",
       " ['▁롯데자이언츠', '구', '단', '▁싸인', '쟈켓', '▁싸인', '볼'],\n",
       " ['▁아디다스', '▁롯데자이언츠'],\n",
       " ['▁롯데자이언츠', '▁져지'],\n",
       " ['▁롯데자이언츠', '▁k', 'ami', 'st', 'a', '▁언더', '티'],\n",
       " ['▁롯데자이언츠', '▁부산', '홈', '▁전', '준', '우', '유니폼', '▁95', '사이즈', '▁새상품'],\n",
       " ['▁l', '▁롯데자이언츠', '▁기모', '▁후드'],\n",
       " ['▁롯데자이언츠', '▁춘추', '▁점퍼', '100'],\n",
       " ['▁아디다스', '▁롯데자이언츠', '▁볼캡'],\n",
       " ['▁아디다스', '▁롯데자이언츠', '▁볼캡'],\n",
       " ['▁95', '▁100', '▁롯데자이언츠', '▁후리스', '▁맨투맨'],\n",
       " ['▁떨이', '▁롯데자이언츠', '▁야구', '▁모직', '▁점퍼', '▁자켓', '▁90', '▁95', '▁남녀', '▁공용'],\n",
       " ['▁아디다스',\n",
       "  '▁롯데자이언츠',\n",
       "  '▁롯데',\n",
       "  '자',\n",
       "  '이',\n",
       "  '언',\n",
       "  '트',\n",
       "  '▁야구',\n",
       "  '▁유니폼',\n",
       "  '▁반팔티',\n",
       "  '▁95',\n",
       "  '사이즈'],\n",
       " ['▁아디다스', '▁롯데자이언츠', '▁볼캡'],\n",
       " ['▁아디다스', '▁롯데자이언츠', '▁볼캡'],\n",
       " ['▁90', '▁롯데자이언츠', '▁유니폼'],\n",
       " ['▁롯데자이언츠', '▁유니폼'],\n",
       " ['▁100', '▁롯데자이언츠', '▁바람막이', '▁점퍼', '▁무료배송'],\n",
       " ['▁롯데자이언츠', '▁야구모자'],\n",
       " ['▁롯데자이언츠', '▁강', '민', '호', '▁유니폼'],\n",
       " ['▁95', '▁롯데자이언츠', '손', '아', '섭', '티'],\n",
       " ['▁롯데자이언츠', '▁모자'],\n",
       " ['▁롯데자이언츠', '▁유니폼', '▁홍', '성', '흔'],\n",
       " ['▁롯데자이언츠', '야구모자', '▁정품'],\n",
       " ['▁롯데자이언츠', '▁모자'],\n",
       " ['▁', '훼', '루', '자', '▁롯데자이언츠', '▁박', '기', '혁', '▁야구', '▁반팔', '▁유니폼', '▁95'],\n",
       " ['▁세일', '▁정품', '▁롯데자이언츠', '▁미사용', '▁스냅백'],\n",
       " ['▁90', '▁롯데자이언츠', '▁홍', '성', '흔', '▁싸인', '▁야구', '져지'],\n",
       " ['▁롯데자이언츠', '▁핑크', '모자'],\n",
       " ['▁네', '포스', '▁롯데자이언츠', '▁춘추', '▁바막', '▁점퍼', '▁11'],\n",
       " ['▁100', '▁롯데자이언츠', '▁47', '번', '강', '민', '호', '▁야구', '유니폼'],\n",
       " ['▁l', '▁롯데자이언츠', '▁박', '정', '태', '선', '수', '▁싸인', '유니폼'],\n",
       " ['▁95', '▁롯데자이언츠', '▁야구', '유니폼', '▁면티', '▁가격내림'],\n",
       " ['▁남성', '▁롯데자이언츠', '▁후드티', '▁m'],\n",
       " ['▁롯데자이언츠', '▁손', '아', '섭', '▁유니폼'],\n",
       " ['▁90', '▁롯데자이언츠', '▁야구', '유니폼'],\n",
       " ['▁l', '▁네', '포스', '▁롯데자이언츠', '▁후리스', '▁맨투맨'],\n",
       " ['▁롯데자이언츠', '▁후드티', '▁공동구매'],\n",
       " ['▁롯데자이언츠', '▁모자', '▁야구모자', '▁패션모자'],\n",
       " ['▁롯데자이언츠', '▁모자'],\n",
       " ['▁도라에몽', '▁스냅백', '▁롯데자이언츠', '▁도라에몽', '▁스냅백'],\n",
       " ['▁xl', '▁네', '포스', '▁롯데자이언츠', '▁야구', '▁유니폼', '▁저지'],\n",
       " ['▁롯데자이언츠', '▁춘추복', '자켓'],\n",
       " ['▁m', '▁롯데자이언츠', '▁춘추', '▁야구점퍼', '▁유니폼', '▁블랙', '65'],\n",
       " ['▁롯데자이언츠', '유니폼', '▁m'],\n",
       " ['▁아디다스', '▁롯데자이언츠', '▁바람막이', '▁집업', '▁빅사이즈'],\n",
       " ['▁미착용', '▁롯데자이언츠', '▁남', '▁녀', '▁잠바', '2', '벌'],\n",
       " ['▁뉴에라', '▁롯데자이언츠', '▁모자', '▁정품', '▁56', '▁8', 'cm'],\n",
       " ['▁롯데자이언츠', '▁반팔', '▁여성', '저지'],\n",
       " ['▁90', '▁롯데자이언츠', '▁야구', '져지', '▁반팔', '▁이', '대', '호', '▁유니폼']]"
      ]
     },
     "execution_count": 108,
     "metadata": {},
     "output_type": "execute_result"
    }
   ],
   "source": [
    "brand_product_dict['롯데자이언츠']"
   ]
  },
  {
   "cell_type": "code",
   "execution_count": null,
   "metadata": {},
   "outputs": [],
   "source": []
  }
 ],
 "metadata": {
  "kernelspec": {
   "display_name": "Python 3",
   "language": "python",
   "name": "python3"
  },
  "language_info": {
   "codemirror_mode": {
    "name": "ipython",
    "version": 3
   },
   "file_extension": ".py",
   "mimetype": "text/x-python",
   "name": "python",
   "nbconvert_exporter": "python",
   "pygments_lexer": "ipython3",
   "version": "3.7.5"
  }
 },
 "nbformat": 4,
 "nbformat_minor": 4
}
