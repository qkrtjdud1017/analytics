{
 "cells": [
  {
   "cell_type": "code",
   "execution_count": 2,
   "metadata": {},
   "outputs": [],
   "source": [
    "import pandas as pd\n",
    "from sqlalchemy import create_engine\n",
    "from sqlalchemy.pool import NullPool\n",
    "import matplotlib as plt\n",
    "import matplotlib.pylab as plt\n",
    "import seaborn as sns\n",
    "from tqdm import tqdm\n",
    "from PIL import Image\n",
    "import requests\n",
    "from io import BytesIO\n"
   ]
  },
  {
   "cell_type": "code",
   "execution_count": 3,
   "metadata": {},
   "outputs": [],
   "source": [
    "brands = pd.read_csv('brands.csv')"
   ]
  },
  {
   "cell_type": "code",
   "execution_count": 4,
   "metadata": {},
   "outputs": [
    {
     "data": {
      "text/html": [
       "<div>\n",
       "<style scoped>\n",
       "    .dataframe tbody tr th:only-of-type {\n",
       "        vertical-align: middle;\n",
       "    }\n",
       "\n",
       "    .dataframe tbody tr th {\n",
       "        vertical-align: top;\n",
       "    }\n",
       "\n",
       "    .dataframe thead th {\n",
       "        text-align: right;\n",
       "    }\n",
       "</style>\n",
       "<table border=\"1\" class=\"dataframe\">\n",
       "  <thead>\n",
       "    <tr style=\"text-align: right;\">\n",
       "      <th></th>\n",
       "      <th>브랜드 이름</th>\n",
       "      <th>영어 이름</th>\n",
       "      <th>동의어/유의어</th>\n",
       "      <th>Unnamed: 3</th>\n",
       "      <th>Unnamed: 4</th>\n",
       "      <th>이슈 / 위험 요소</th>\n",
       "    </tr>\n",
       "  </thead>\n",
       "  <tbody>\n",
       "    <tr>\n",
       "      <th>0</th>\n",
       "      <td>나이키</td>\n",
       "      <td>nike</td>\n",
       "      <td>NaN</td>\n",
       "      <td>NaN</td>\n",
       "      <td>NaN</td>\n",
       "      <td>어뷰징, 콜라보 브랜드</td>\n",
       "    </tr>\n",
       "    <tr>\n",
       "      <th>1</th>\n",
       "      <td>스톤아일랜드</td>\n",
       "      <td>stone island</td>\n",
       "      <td>NaN</td>\n",
       "      <td>NaN</td>\n",
       "      <td>NaN</td>\n",
       "      <td>대리석집' 스톤아일랜드, 톰브라운 가품</td>\n",
       "    </tr>\n",
       "    <tr>\n",
       "      <th>2</th>\n",
       "      <td>뉴발란스</td>\n",
       "      <td>new balance</td>\n",
       "      <td>NaN</td>\n",
       "      <td>NaN</td>\n",
       "      <td>NaN</td>\n",
       "      <td>NaN</td>\n",
       "    </tr>\n",
       "    <tr>\n",
       "      <th>3</th>\n",
       "      <td>아디다스</td>\n",
       "      <td>adidas</td>\n",
       "      <td>NaN</td>\n",
       "      <td>NaN</td>\n",
       "      <td>NaN</td>\n",
       "      <td>어뷰징</td>\n",
       "    </tr>\n",
       "    <tr>\n",
       "      <th>4</th>\n",
       "      <td>노스페이스</td>\n",
       "      <td>north face</td>\n",
       "      <td>NaN</td>\n",
       "      <td>NaN</td>\n",
       "      <td>NaN</td>\n",
       "      <td>NaN</td>\n",
       "    </tr>\n",
       "  </tbody>\n",
       "</table>\n",
       "</div>"
      ],
      "text/plain": [
       "   브랜드 이름         영어 이름 동의어/유의어  Unnamed: 3  Unnamed: 4             이슈 / 위험 요소\n",
       "0     나이키          nike     NaN         NaN         NaN           어뷰징, 콜라보 브랜드\n",
       "1  스톤아일랜드  stone island     NaN         NaN         NaN  대리석집' 스톤아일랜드, 톰브라운 가품\n",
       "2    뉴발란스   new balance     NaN         NaN         NaN                    NaN\n",
       "3    아디다스        adidas     NaN         NaN         NaN                    어뷰징\n",
       "4   노스페이스    north face     NaN         NaN         NaN                    NaN"
      ]
     },
     "execution_count": 4,
     "metadata": {},
     "output_type": "execute_result"
    }
   ],
   "source": [
    "brands.head()"
   ]
  },
  {
   "cell_type": "code",
   "execution_count": 5,
   "metadata": {},
   "outputs": [],
   "source": [
    "brands = brands.iloc[:, :3]\n",
    "brands.columns = ['name', 'eng_name', 'synonym']"
   ]
  },
  {
   "cell_type": "code",
   "execution_count": 6,
   "metadata": {},
   "outputs": [],
   "source": [
    "for col in brands.columns:\n",
    "    brands[col] = brands[col].astype(str).apply(lambda x: x.lower().strip())"
   ]
  },
  {
   "cell_type": "code",
   "execution_count": 99,
   "metadata": {},
   "outputs": [],
   "source": [
    "brands2 = pd.read_csv('brands2.csv')\n",
    "brands2 = brands2.iloc[:, :3]\n",
    "brands2.columns = ['name', 'eng_name', 'synonym']\n",
    "for col in brands2.columns:\n",
    "    brands2[col] = brands2[col].astype(str).apply(lambda x: x.lower().strip())"
   ]
  },
  {
   "cell_type": "code",
   "execution_count": 8,
   "metadata": {},
   "outputs": [],
   "source": [
    "q = '''\n",
    "SELECT id, name, keyword, category_id\n",
    "FROM service1_quicket.product_info\n",
    "WHERE left(category_id, 3) IN ('310', '320', '400') AND status = 0\n",
    "'''\n",
    "products = pd.read_sql(q, con=bun_dw)"
   ]
  },
  {
   "cell_type": "code",
   "execution_count": 9,
   "metadata": {},
   "outputs": [
    {
     "data": {
      "text/plain": [
       "(7897570, 4)"
      ]
     },
     "execution_count": 9,
     "metadata": {},
     "output_type": "execute_result"
    }
   ],
   "source": [
    "products.shape"
   ]
  },
  {
   "cell_type": "code",
   "execution_count": 95,
   "metadata": {},
   "outputs": [],
   "source": [
    "import re\n",
    "\n",
    "def preprocess1(name):\n",
    "    name = str(name)\n",
    "    name = re.sub(r'\\s+', ' ', name)\n",
    "    regrex_pattern = re.compile(pattern = \"[\"\n",
    "    u\"\\U0001F600-\\U0001F64F\"  \n",
    "    u\"\\U0001F300-\\U0001F5FF\"  \n",
    "    u\"\\U0001F680-\\U0001F6FF\"  \n",
    "    u\"\\U0001F1E0-\\U0001F1FF\"  \n",
    "                       \"]+\", flags = re.UNICODE)\n",
    "    name = regrex_pattern.sub(r'',name)\n",
    "    name = re.sub(r'[^\\w\\s]', ' ', name)\n",
    "    name = re.sub(' +', ' ', name) # ver 1\n",
    "#     name = re.sub(' +', '', name) # ver 2\n",
    "    return name.lower().strip()"
   ]
  },
  {
   "cell_type": "code",
   "execution_count": 96,
   "metadata": {},
   "outputs": [],
   "source": [
    "preprocess_name = products.name.map(preprocess1)"
   ]
  },
  {
   "cell_type": "code",
   "execution_count": 97,
   "metadata": {},
   "outputs": [],
   "source": [
    "import re\n",
    "\n",
    "def preprocess2(name):\n",
    "    name = str(name)\n",
    "    name = re.sub(r'\\s+', ' ', name)\n",
    "    regrex_pattern = re.compile(pattern = \"[\"\n",
    "    u\"\\U0001F600-\\U0001F64F\"  \n",
    "    u\"\\U0001F300-\\U0001F5FF\"  \n",
    "    u\"\\U0001F680-\\U0001F6FF\"  \n",
    "    u\"\\U0001F1E0-\\U0001F1FF\"  \n",
    "                       \"]+\", flags = re.UNICODE)\n",
    "    name = regrex_pattern.sub(r'',name)\n",
    "    name = re.sub(r'[^\\w\\s]', ' ', name)\n",
    "#     name = re.sub(' +', ' ', name) # ver 1\n",
    "    name = re.sub(' +', '', name) # ver 2\n",
    "    return name.lower().strip()"
   ]
  },
  {
   "cell_type": "code",
   "execution_count": 98,
   "metadata": {},
   "outputs": [],
   "source": [
    "preprocess_name2 = products.name.map(preprocess2)"
   ]
  },
  {
   "cell_type": "code",
   "execution_count": 35,
   "metadata": {},
   "outputs": [],
   "source": [
    "pids = products.id"
   ]
  },
  {
   "cell_type": "code",
   "execution_count": 15,
   "metadata": {
    "scrolled": true
   },
   "outputs": [
    {
     "data": {
      "text/plain": [
       "0                                      스판 티셔츠\n",
       "1                                     슈프림 후드티\n",
       "2                   스톤아일랜드 윈드브레이커 바람막이 6color\n",
       "3    urbanic30 어바닉30 얼바닉30 스코틀랜드 해리스트위드 스커트입니\n",
       "4                                루이비통 웨이드 스피디\n",
       "5                                      네이비 자켓\n",
       "6                                      팬디썬그라스\n",
       "7                                      반전니트나시\n",
       "8                                인기 lv 키폴 여행구\n",
       "9                                      보테가베네타\n",
       "Name: name, dtype: object"
      ]
     },
     "execution_count": 15,
     "metadata": {},
     "output_type": "execute_result"
    }
   ],
   "source": [
    "preprocess_name[:10]"
   ]
  },
  {
   "cell_type": "code",
   "execution_count": 37,
   "metadata": {},
   "outputs": [],
   "source": [
    "brand_dict = {key: [] for key in brands['name'].unique()}\n",
    "for idx, row in brands.iterrows():\n",
    "    eng = row.eng_name.split(',')\n",
    "    syn = row.synonym.split(',')\n",
    "    both = [i.strip() for i in [row['name']] + eng + syn if i != 'nan']\n",
    "    brand_dict[row['name']] = both"
   ]
  },
  {
   "cell_type": "code",
   "execution_count": 102,
   "metadata": {},
   "outputs": [],
   "source": [
    "brand_dict2 = {key: [] for key in brands2['name'].unique()}\n",
    "for idx, row in brands2.iterrows():\n",
    "    eng = row.eng_name.split(',')\n",
    "    syn = row.synonym.split(',')\n",
    "    both = [re.sub(' +', '', i).strip() for i in [row['name']] + eng + syn if i != 'nan']\n",
    "    brand_dict2[row['name']] = both"
   ]
  },
  {
   "cell_type": "code",
   "execution_count": 38,
   "metadata": {},
   "outputs": [
    {
     "data": {
      "text/plain": [
       "{'mcm': ['mcm', '엠씨엠'],\n",
       " '겐조': ['겐조', 'kenzo'],\n",
       " '고야드': ['고야드', 'goyard'],\n",
       " '골든구스': ['골든구스', 'golden goose'],\n",
       " '골든듀': ['골든듀'],\n",
       " '구찌': ['구찌', 'gucci'],\n",
       " '구호': ['구호', 'kuho'],\n",
       " '그라미치': ['그라미치', 'gramicci'],\n",
       " '그랜드세이코': ['그랜드세이코', 'grand seiko', '세이코'],\n",
       " '그레고리': ['그레고리', 'gregory'],\n",
       " '까르띠에': ['까르띠에', 'cartier'],\n",
       " '까스텔바작': ['까스텔바작', 'castel bajac'],\n",
       " '꼼데가르송': ['꼼데가르송', 'comme des garcons'],\n",
       " '끌로에': ['끌로에', 'chloe'],\n",
       " '나나미카': ['나나미카', 'nanamica'],\n",
       " '나이젤카본': ['나이젤카본', 'nigel cabourn'],\n",
       " '나이키': ['나이키', 'nike'],\n",
       " '낫띵리튼': ['낫띵리튼', 'nothing written'],\n",
       " '내셔널지오그래픽': ['내셔널지오그래픽',\n",
       "  'national geographic',\n",
       "  '네셔널지오그래픽',\n",
       "  '내셔널지오그래피',\n",
       "  '네셔널지오그래피'],\n",
       " '널디': ['널디', 'nerdy'],\n",
       " '넘버나인': ['넘버나인', 'number (n)ine'],\n",
       " '네이더스': ['네이더스', 'neithers'],\n",
       " '노스페이스': ['노스페이스', 'north face'],\n",
       " '뉴발란스': ['뉴발란스', 'new balance'],\n",
       " '뉴에라': ['뉴에라', 'new era'],\n",
       " '느와르라르메스': ['느와르라르메스', 'noir larmes'],\n",
       " '니들스': ['니들스', 'needles'],\n",
       " '닐바렛': ['닐바렛', 'neil barrett'],\n",
       " '다미아니': ['다미아니', 'damiani'],\n",
       " '다이나핏': ['다이나핏', 'dynafit'],\n",
       " '다이애그널': ['다이애그널', 'diagonal', '다이에그널'],\n",
       " '닥스': ['닥스', 'daks'],\n",
       " '닥터마틴': ['닥터마틴', 'dr martens'],\n",
       " '단톤': ['단톤', 'danton'],\n",
       " '더오픈프로덕트': ['더오픈프로덕트', 'theopen product'],\n",
       " '던스트': ['던스트', 'dunst'],\n",
       " '데상트': ['데상트', 'descente'],\n",
       " '데상트골프': ['데상트골프', 'descente golf'],\n",
       " '덱케': ['덱케', 'decke'],\n",
       " '돌체앤가바나': ['돌체앤가바나', 'dolce & gabbana', 'd&c'],\n",
       " '두산베어스': ['두산베어스', 'doosan bears'],\n",
       " '듀엘': ['듀엘', 'dewl'],\n",
       " '드래곤백': ['드래곤백', 'dragon diffusion'],\n",
       " '드레익스': ['드레익스', \"drake's\"],\n",
       " '드리스반노튼': ['드리스반노튼', 'dries van noten'],\n",
       " '드바스크': ['드바스크', 'debassqq'],\n",
       " '디디에두보': ['디디에두보', 'didier dubot'],\n",
       " '디스이즈네버댓': ['디스이즈네버댓', 'thisisneverthat'],\n",
       " '디스커버리': ['디스커버리', 'discovery'],\n",
       " '디스퀘어드': ['디스퀘어드', 'dsquared'],\n",
       " '디올': ['디올', 'dior'],\n",
       " '디젤': ['디젤', 'diesel'],\n",
       " '띠어리': ['띠어리', 'theory'],\n",
       " '라이프워크': ['라이프워크', 'lifework'],\n",
       " '라코스테': ['라코스테', 'lacoste', '라꼬스테'],\n",
       " '라퍼지스토어': ['라퍼지스토어', 'la fudge store'],\n",
       " '라프시몬스': ['라프시몬스', 'raf simons'],\n",
       " '랑방': ['랑방', 'lanvin'],\n",
       " '러브캣': ['러브캣', 'lovcat'],\n",
       " '럭키슈에뜨': ['럭키슈에뜨', 'lucky chouette'],\n",
       " '레드윙': ['레드윙', 'red wing'],\n",
       " '로라로라': ['로라로라', 'rola rola'],\n",
       " '로로피아나': ['로로피아나', 'loro piana'],\n",
       " '로사케이': ['로사케이', 'rosa.k'],\n",
       " '로스코': ['로스코', 'losco'],\n",
       " '로에베': ['로에베', 'loewe'],\n",
       " '로저비비에': ['로저비비에', 'roger vivier'],\n",
       " '론진': ['론진', 'longines'],\n",
       " '롤렉스': ['롤렉스', 'rolex'],\n",
       " '롯데자이언츠': ['롯데자이언츠', 'lotte giants'],\n",
       " '루미녹스': ['루미녹스', 'luminox'],\n",
       " '루에브르': ['루에브르', 'loeuvre'],\n",
       " '루이까또즈': ['루이까또즈', 'louis quatorze'],\n",
       " '루이까스텔': ['루이까스텔', 'louis castel'],\n",
       " '루이비통': ['루이비통', 'louis vuitton'],\n",
       " '룰루레몬': ['룰루레몬', 'lululemon'],\n",
       " '르꼬끄': ['르꼬끄', 'le coq', 'le coq sportif', '르꼬끄 스포르티프', '르코크'],\n",
       " '르메르': ['르메르', 'lemaire'],\n",
       " '리바이스': ['리바이스', 'levis'],\n",
       " '리복': ['리복', 'reebok'],\n",
       " '릭오웬스': ['릭오웬스', 'rick owens'],\n",
       " '마가렛호웰': ['마가렛호웰', 'margaret howell'],\n",
       " '마뗑킴': ['마뗑킴', 'matin kim', '마틴킴'],\n",
       " '마르니': ['마르니', 'marni'],\n",
       " '마르셀로불론': ['마르셀로불론', 'marcelo burlon'],\n",
       " '마린세르': ['마린세르', 'marine serre'],\n",
       " '마무트': ['마무트', 'mammut'],\n",
       " '마시모두띠': ['마시모두띠', 'massimo dutti'],\n",
       " '마운틴하드웨어': ['마운틴하드웨어', 'mountain hardwear'],\n",
       " '마이클코어스': ['마이클코어스', 'michael kors'],\n",
       " '마인': ['마인', 'mine'],\n",
       " '마제스틱': ['마제스틱', 'majestic'],\n",
       " '마쥬': ['마쥬', 'maje'],\n",
       " '마크앤로나': ['마크앤로나', 'mark&lona'],\n",
       " '마틴로즈': ['마틴로즈', 'martine rose'],\n",
       " '만다리나덕': ['만다리나덕', 'mandarina duck'],\n",
       " '맥케이지': ['맥케이지', 'mackage'],\n",
       " '먼싱웨어': ['먼싱웨어', 'munsingwear'],\n",
       " '메종마르지엘라': ['메종마르지엘라', 'maison margiela'],\n",
       " '메종키츠네': ['메종키츠네', 'maison kitsune'],\n",
       " '메트로시티': ['메트로시티', 'metrocity'],\n",
       " '모드나인': ['모드나인', 'modnine'],\n",
       " '모조에스핀': ['모조에스핀', 'mojo.s.phine'],\n",
       " '몬츄라': ['몬츄라', 'montura'],\n",
       " '몽블랑': ['몽블랑', 'montblanc'],\n",
       " '몽클레어': ['몽클레어', 'moncler', '몽클레르'],\n",
       " '무스너클': ['무스너클', 'mooseknuckles'],\n",
       " '무신사스탠다드': ['무신사스탠다드', 'musinsa standard'],\n",
       " '미닛뮤트': ['미닛뮤트', 'minitmute'],\n",
       " '미스치프': ['미스치프', 'mischief'],\n",
       " '미우미우': ['미우미우', 'miu miu'],\n",
       " '미하라야스히로': ['미하라야스히로', 'mihara yasuhiro'],\n",
       " '바라쿠타': ['바라쿠타', 'baracuta'],\n",
       " '바버': ['바버', 'barbour'],\n",
       " '바쉐론 콘스탄틴': ['바쉐론 콘스탄틴', 'vacheron constantin'],\n",
       " '반스': ['반스', 'vans'],\n",
       " '발렌시아가': ['발렌시아가', 'balenciaga'],\n",
       " '발렌타인': ['발렌타인', 'ballantyne'],\n",
       " '발렌티노': ['발렌티노', 'valentino'],\n",
       " '발망': ['발망', 'balmain'],\n",
       " '버버리': ['버버리', 'burberry'],\n",
       " '버즈릭슨': ['버즈릭슨', 'buzz rickson'],\n",
       " '벌스데이수트': ['벌스데이수트', 'birthdaysuit'],\n",
       " '베라왕': ['베라왕', 'vera wang'],\n",
       " '베르사체': ['베르사체', 'versace'],\n",
       " '베이프': ['베이프', 'bape'],\n",
       " '베트멍': ['베트멍', 'vetements'],\n",
       " '벨루티': ['벨루티', 'berluti'],\n",
       " '벨리에': ['벨리에', 'belier'],\n",
       " '보테가베네타': ['보테가베네타', 'bottega veneta'],\n",
       " '부쉐론': ['부쉐론', 'boucheron'],\n",
       " '분크': ['분크', 'vunque'],\n",
       " '불가리': ['불가리', 'bulgari'],\n",
       " '브라이틀링': ['브라이틀링', 'breitling'],\n",
       " '브룩스브라더스': ['브룩스브라더스', 'brooks brothers'],\n",
       " '블랙야크': ['블랙야크', 'black yak'],\n",
       " '블랭코브': ['블랭코브', 'blankof'],\n",
       " '블레스': ['블레스', 'bless'],\n",
       " '비바스튜디오': ['비바스튜디오', 'vivastudio'],\n",
       " '비비안': ['비비안', 'vivien'],\n",
       " '비비안웨스트우드': ['비비안웨스트우드', 'vivienne westwood'],\n",
       " '비즈빔': ['비즈빔', 'visvim'],\n",
       " '빈폴': ['빈폴', 'beanpole'],\n",
       " '빔즈': ['빔즈', 'beams'],\n",
       " '사카이': ['사카이', 'sacai'],\n",
       " '산드로': ['산드로', 'sandro'],\n",
       " '살로몬': ['살로몬', 'salomon'],\n",
       " '삼성라이온즈': ['삼성라이온즈', 'samsung lions'],\n",
       " '생로랑': ['생로랑', 'saint laurent'],\n",
       " '샤넬': ['샤넬', 'chanel'],\n",
       " '세이코': ['세이코', 'seiko'],\n",
       " '세인트제임스': ['세인트제임스', 'saint james'],\n",
       " '셀린느': ['셀린느', 'celine'],\n",
       " '소우소우': ['소우소우', 'sou sou'],\n",
       " '소프트서울': ['소프트서울', 'soft seoul'],\n",
       " '손정완': ['손정완', 'son jung wan'],\n",
       " '솔로이스트': ['솔로이스트', 'soloist'],\n",
       " '솔리드옴므': ['솔리드옴므', 'solid homme'],\n",
       " '송지오옴므': ['송지오옴므', 'songzio homme'],\n",
       " '쇼메': ['쇼메', 'chaumet'],\n",
       " '슈콤마보니': ['슈콤마보니', 'sue comma bonnie'],\n",
       " '슈프림': ['슈프림', 'supreme'],\n",
       " '스와로브스키': ['스와로브스키', 'swarovski'],\n",
       " '스타일난다': ['스타일난다', 'stylenanda'],\n",
       " '스톤아일랜드': ['스톤아일랜드', 'stone island'],\n",
       " '스투시': ['스투시', 'stussy'],\n",
       " '스튜디오니콜슨': ['스튜디오니콜슨', 'studio nicholson'],\n",
       " '스파이더': ['스파이더', 'spyder'],\n",
       " '스푸닝': ['스푸닝', 'spooning'],\n",
       " '시리즈': ['시리즈', 'series'],\n",
       " '시스템': ['시스템', 'system'],\n",
       " '시티즌': ['시티즌', 'citizen'],\n",
       " '써스데이아일랜드': ['써스데이아일랜드', 'thursday island'],\n",
       " '아더에러': ['아더에러', 'ader error'],\n",
       " '아디다스': ['아디다스', 'adidas'],\n",
       " '아미': ['아미', 'ami'],\n",
       " '아미리': ['아미리', 'amiri'],\n",
       " '아베크롬비': ['아베크롬비', 'abercrombie', 'abercrombie & fitch'],\n",
       " '아비렉스': ['아비렉스', 'avirex'],\n",
       " '아식스': ['아식스', 'asics'],\n",
       " '아워레가시': ['아워레가시', 'our legacy'],\n",
       " '아조바이아조': ['아조바이아조', 'ajobyajo'],\n",
       " '아카이브앱크': ['아카이브앱크', 'archivepke'],\n",
       " '아크네': ['아크네', 'acne', 'acne studio', '아크네 스튜디오'],\n",
       " '아크메드라비': ['아크메드라비', 'acmedelavie'],\n",
       " '아크테릭스': ['아크테릭스', \"arc'teryx\"],\n",
       " '아페쎄': ['아페쎄', 'a.p.c.'],\n",
       " '악셀아리가토': ['악셀아리가토', 'axel arigato'],\n",
       " '안다르': ['안다르', 'andar'],\n",
       " '안데르센안데르센': ['안데르센안데르센', 'andersen andersen'],\n",
       " '알든': ['알든', 'alden'],\n",
       " '알레그리': ['알레그리', 'allegri'],\n",
       " '알렉산더맥퀸': ['알렉산더맥퀸', 'alexander mcqueen'],\n",
       " '알렉산더왕': ['알렉산더왕', 'alexander wang'],\n",
       " '알렌느': ['알렌느', 'haleine'],\n",
       " '알릭스': ['알릭스', 'alyx'],\n",
       " '알파인더스트리': ['알파인더스트리', 'alpha industries'],\n",
       " '앤더슨벨': ['앤더슨벨', 'andersson bell', '엔더슨벨', '앤더스벨', '엔더스벨'],\n",
       " '어나더오피스': ['어나더오피스', 'another office'],\n",
       " '어콜드월': ['어콜드월', 'a cold wall'],\n",
       " '언더아머': ['언더아머', 'under armour'],\n",
       " '언더커버': ['언더커버', 'under cover'],\n",
       " '엄브로': ['엄브로', 'umbro'],\n",
       " '에고이스트': ['에고이스트', 'egoist'],\n",
       " '에르메스': ['에르메스', 'hermes'],\n",
       " '에센셜': ['에센셜', 'essential'],\n",
       " '에트로': ['에트로', 'etro'],\n",
       " '엔지니어드가먼츠': ['엔지니어드가먼츠', 'engineered garments'],\n",
       " '엘바테게브': ['엘바테게브', 'elbategev'],\n",
       " '예스아이씨': ['예스아이씨', 'yes eye see'],\n",
       " '오니츠카타이거': ['오니츠카타이거', 'onitsukatiger'],\n",
       " '오데마피게': ['오데마피게', 'audemars piguet'],\n",
       " '오리스': ['오리스', 'oris'],\n",
       " '오메가': ['오메가', 'omega'],\n",
       " '오베이': ['오베이', 'obey'],\n",
       " '오소이': ['오소이', 'osoi'],\n",
       " '오야니': ['오야니', 'oryany'],\n",
       " '오일릴리': ['오일릴리', 'oilily'],\n",
       " '오즈세컨': ['오즈세컨', \"o' 2nd\"],\n",
       " '오클리': ['오클리', 'oakley'],\n",
       " '오프화이트': ['오프화이트', 'off white'],\n",
       " '올세인츠': ['올세인츠', 'all saints'],\n",
       " '와이드앵글': ['와이드앵글', 'wideangle'],\n",
       " '요지야마모토': ['요지야마모토', 'yohji yamamoto'],\n",
       " '우알롱': ['우알롱', 'wooalong'],\n",
       " '우영미': ['우영미', 'wooyoungmi'],\n",
       " '우포스': ['우포스', 'oofos'],\n",
       " '위블로': ['위블로', 'hublot'],\n",
       " '유니클로': ['유니클로', 'uniqlo'],\n",
       " '이세이미야케': ['이세이미야케', 'issey miyake'],\n",
       " '이자벨마랑': ['이자벨마랑', 'isabel marant'],\n",
       " '인스턴트펑크': ['인스턴트펑크', 'instant funk'],\n",
       " '일꼬르소': ['일꼬르소', 'ilcorso'],\n",
       " '입생로랑': ['입생로랑', 'yves saint laurent', 'ysl', '입생', '생로랑'],\n",
       " '잇미샤': ['잇미샤', 'it michaa'],\n",
       " '자라': ['자라', 'zara'],\n",
       " '자크뮈스': ['자크뮈스', 'jacquemus'],\n",
       " '잔스포츠': ['잔스포츠', 'jansport'],\n",
       " '제시뉴욕': ['제시뉴욕', 'jessi newyork'],\n",
       " '제이린드버그': ['제이린드버그', 'j.lindeberg'],\n",
       " '제이에스티나': ['제이에스티나', 'j.estina'],\n",
       " '젝시믹스': ['젝시믹스', 'xexymix'],\n",
       " '젠틀몬스터': ['젠틀몬스터', 'gentle monster'],\n",
       " '조셉앤스테이시': ['조셉앤스테이시', 'joseph and stacey', '조셉엔스테이시'],\n",
       " '조이그라이슨': ['조이그라이슨', 'joygryson'],\n",
       " '준지': ['준지', 'juun.j'],\n",
       " '지방시': ['지방시', 'givenchy'],\n",
       " '지샥': ['지샥', 'gshock'],\n",
       " '질샌더': ['질샌더', 'jil sander'],\n",
       " '질스튜어트': ['질스튜어트', 'jill stuart'],\n",
       " '찰스앤키스': ['찰스앤키스', 'charles & keith', '찰스엔키스'],\n",
       " '챔피온': ['챔피온', 'champion', '챔피언'],\n",
       " '카시오': ['카시오', 'casio'],\n",
       " '칼린': ['칼린', 'carlyn'],\n",
       " '칼하트': ['칼하트', 'carhartt'],\n",
       " '캉골': ['캉골', 'kangol'],\n",
       " '캐나다구스': ['캐나다구스', 'canada goose'],\n",
       " '캘러웨이': ['캘러웨이', 'callaway'],\n",
       " '캘빈클라인': ['캘빈클라인', 'calvin klein'],\n",
       " '캠퍼': ['캠퍼', 'camper'],\n",
       " '커렌트': ['커렌트', 'current'],\n",
       " '커먼프로젝트': ['커먼프로젝트', 'common projects'],\n",
       " '커버낫': ['커버낫', 'convernat'],\n",
       " '커스텀멜로우': ['커스텀멜로우', 'customellow'],\n",
       " '컨버스': ['컨버스', 'converse'],\n",
       " '코비': ['코비', 'kobe'],\n",
       " '코스': ['코스', 'cos'],\n",
       " '코오롱': ['코오롱', 'kolon'],\n",
       " '코치': ['코치', 'coach'],\n",
       " '쿠론': ['쿠론', 'couronne'],\n",
       " '큐리티': ['큐리티', 'curetty'],\n",
       " '크록스': ['크록스', 'crocs'],\n",
       " '크롬하츠': ['크롬하츠', 'chrome hearts'],\n",
       " '클락스': ['클락스', 'clarks'],\n",
       " '키르시': ['키르시', 'kirsh'],\n",
       " '키이스': ['키이스', 'keith'],\n",
       " '키코': ['키코', 'kiko'],\n",
       " '키플링': ['키플링', 'kipling'],\n",
       " '킨더살몬': ['킨더살몬', 'kindersalmon'],\n",
       " '타미힐피거': ['타미힐피거', 'tommy hilfiger'],\n",
       " '타이틀리스트': ['타이틀리스트', 'titleist'],\n",
       " '타임': ['타임', 'time'],\n",
       " '태그호이어': ['태그호이어', 'tag heuer'],\n",
       " '텔파': ['텔파', 'telfar'],\n",
       " '토리버치': ['토리버치', 'tory burch'],\n",
       " '토마스모어': ['토마스모어', 'thomas more'],\n",
       " '토즈': ['토즈', 'tods'],\n",
       " '토템': ['토템', 'toteme'],\n",
       " '토트넘': ['토트넘', 'tottenham'],\n",
       " '톰보이': ['톰보이', 'tom boy'],\n",
       " '톰브라운': ['톰브라운', 'thom browne'],\n",
       " '톰포드': ['톰포드', 'tomford'],\n",
       " '투미': ['투미', 'tumi'],\n",
       " '튜더': ['튜더', 'tudor'],\n",
       " '티쏘': ['티쏘', 'tissot'],\n",
       " '티파니': ['티파니', 'tiffany', 'tiffancy & co', '티파니앤코'],\n",
       " '팀버랜드': ['팀버랜드', 'timberland'],\n",
       " '파라부트': ['파라부트', 'paraboot'],\n",
       " '파라점퍼스': ['파라점퍼스', 'para jumpers'],\n",
       " '파리게이츠': ['파리게이츠', 'pearly gates'],\n",
       " '파인드카푸어': ['파인드카푸어', 'find kapoor'],\n",
       " '파타고니아': ['파타고니아', 'patagonia'],\n",
       " '파텍필립': ['파텍필립', 'patek philippe'],\n",
       " '판도라': ['판도라', 'pandora'],\n",
       " '페라가모': ['페라가모', 'ferragamo'],\n",
       " '페이탈리즘': ['페이탈리즘', 'fatalism'],\n",
       " '펜디': ['펜디', 'fendi'],\n",
       " '포터': ['포터', 'porter', '요시다 포터'],\n",
       " '폴로': ['폴로', 'polo', 'ralphlauren', '폴로 랄프로렌'],\n",
       " '폴로스포츠': ['폴로스포츠', 'polo sport'],\n",
       " '폴스미스': ['폴스미스', 'paul smith'],\n",
       " '폴스부띠끄': ['폴스부띠끄', 'pauls boutique'],\n",
       " '프라다': ['프라다', 'prada'],\n",
       " '프라이탁': ['프라이탁', 'freitag'],\n",
       " '프레드': ['프레드', 'fred'],\n",
       " '프레드릭 콘스탄트': ['프레드릭 콘스탄트', 'frederique constant'],\n",
       " '프레드페리': ['프레드페리', 'fredperry'],\n",
       " '플리츠플리즈': ['플리츠플리즈', 'pleats please'],\n",
       " '플립': ['플립', 'flip'],\n",
       " '피스워커': ['피스워커', 'piece worker'],\n",
       " '피어오브갓': ['피어오브갓', 'fear of god'],\n",
       " '피엘라벤': ['피엘라벤', 'fjallraven'],\n",
       " '필립플레인': ['필립플레인', 'philipp plein'],\n",
       " '필슨': ['필슨', 'filson'],\n",
       " '핏플랍': ['핏플랍', 'fitflop'],\n",
       " '하이칙스': ['하이칙스', 'high cheeks'],\n",
       " '해밀턴': ['해밀턴', 'hamilton'],\n",
       " '험멜': ['험멜', 'hummel'],\n",
       " '헤지스': ['헤지스', 'hazzys'],\n",
       " '헨리코튼': ['헨리코튼', 'henry cottons'],\n",
       " '헬무트랭': ['헬무트랭', 'helmutlang'],\n",
       " '호카오네오네': ['호카오네오네', 'hoka one one']}"
      ]
     },
     "execution_count": 38,
     "metadata": {},
     "output_type": "execute_result"
    }
   ],
   "source": [
    "brand_dict"
   ]
  },
  {
   "cell_type": "code",
   "execution_count": 103,
   "metadata": {},
   "outputs": [
    {
     "data": {
      "text/plain": [
       "{'mcm': ['mcm', '엠씨엠'],\n",
       " '겐조': ['겐조', 'kenzo'],\n",
       " '고야드': ['고야드', 'goyard'],\n",
       " '골든구스': ['골든구스', 'goldengoose'],\n",
       " '골든듀': ['골든듀'],\n",
       " '구찌': ['구찌', 'gucci'],\n",
       " '구호': ['구호', 'kuho'],\n",
       " '그라미치': ['그라미치', 'gramicci'],\n",
       " '그랜드세이코': ['그랜드세이코', 'grandseiko', '세이코'],\n",
       " '그레고리': ['그레고리', 'gregory'],\n",
       " '까르띠에': ['까르띠에', 'cartier'],\n",
       " '까스텔바작': ['까스텔바작', 'castelbajac'],\n",
       " '꼼데가르송': ['꼼데가르송', 'commedesgarcons'],\n",
       " '끌로에': ['끌로에', 'chloe'],\n",
       " '나나미카': ['나나미카', 'nanamica'],\n",
       " '나이젤카본': ['나이젤카본', 'nigelcabourn'],\n",
       " '나이키': ['나이키', 'nike', '조던'],\n",
       " '낫띵리튼': ['낫띵리튼', 'nothingwritten'],\n",
       " '내셔널지오그래픽': ['내셔널지오그래픽',\n",
       "  'nationalgeographic',\n",
       "  '네셔널지오그래픽',\n",
       "  '내셔널지오그래피',\n",
       "  '네셔널지오그래피'],\n",
       " '널디': ['널디', 'nerdy'],\n",
       " '넘버나인': ['넘버나인', 'number(n)ine'],\n",
       " '네이더스': ['네이더스', 'neithers'],\n",
       " '노스페이스': ['노스페이스', 'northface'],\n",
       " '뉴발란스': ['뉴발란스', 'newbalance', '뉴발'],\n",
       " '뉴에라': ['뉴에라', 'newera'],\n",
       " '느와르라르메스': ['느와르라르메스', 'noirlarmes'],\n",
       " '니들스': ['니들스', 'needles'],\n",
       " '닐바렛': ['닐바렛', 'neilbarrett'],\n",
       " '다미아니': ['다미아니', 'damiani'],\n",
       " '다이나핏': ['다이나핏', 'dynafit'],\n",
       " '다이애그널': ['다이애그널', 'diagonal', '다이에그널'],\n",
       " '닥스': ['닥스', 'daks'],\n",
       " '닥터마틴': ['닥터마틴', 'drmartens'],\n",
       " '단톤': ['단톤', 'danton'],\n",
       " '더오픈프로덕트': ['더오픈프로덕트', 'theopenproduct'],\n",
       " '던스트': ['던스트', 'dunst'],\n",
       " '데상트': ['데상트', 'descente'],\n",
       " '데상트골프': ['데상트골프', 'descentegolf'],\n",
       " '덱케': ['덱케', 'decke'],\n",
       " '돌체앤가바나': ['돌체앤가바나', 'dolce&gabbana', 'd&c', '돌체엔가바나'],\n",
       " '두산베어스': ['두산베어스', 'doosanbears'],\n",
       " '듀엘': ['듀엘', 'dewl'],\n",
       " '드래곤백': ['드래곤백', 'dragondiffusion'],\n",
       " '드레익스': ['드레익스', \"drake's\"],\n",
       " '드리스반노튼': ['드리스반노튼', 'driesvannoten'],\n",
       " '드바스크': ['드바스크', 'debassqq'],\n",
       " '디디에두보': ['디디에두보', 'didierdubot'],\n",
       " '디스이즈네버댓': ['디스이즈네버댓', 'thisisneverthat'],\n",
       " '디스커버리': ['디스커버리', 'discovery'],\n",
       " '디스퀘어드': ['디스퀘어드', 'dsquared'],\n",
       " '디올': ['디올', 'dior'],\n",
       " '디젤': ['디젤', 'diesel'],\n",
       " '띠어리': ['띠어리', 'theory'],\n",
       " '라이프워크': ['라이프워크', 'lifework'],\n",
       " '라코스테': ['라코스테', 'lacoste', '라꼬스테'],\n",
       " '라퍼지스토어': ['라퍼지스토어', 'lafudgestore'],\n",
       " '라프시몬스': ['라프시몬스', 'rafsimons'],\n",
       " '랑방': ['랑방', 'lanvin'],\n",
       " '러브캣': ['러브캣', 'lovcat'],\n",
       " '럭키슈에뜨': ['럭키슈에뜨', 'luckychouette'],\n",
       " '레드윙': ['레드윙', 'redwing'],\n",
       " '로라로라': ['로라로라', 'rolarola'],\n",
       " '로로피아나': ['로로피아나', 'loropiana'],\n",
       " '로사케이': ['로사케이', 'rosa.k'],\n",
       " '로스코': ['로스코', 'losco'],\n",
       " '로에베': ['로에베', 'loewe'],\n",
       " '로저비비에': ['로저비비에', 'rogervivier'],\n",
       " '론진': ['론진', 'longines'],\n",
       " '롤렉스': ['롤렉스', 'rolex', '로렉스'],\n",
       " '롯데자이언츠': ['롯데자이언츠', 'lottegiants'],\n",
       " '루미녹스': ['루미녹스', 'luminox'],\n",
       " '루에브르': ['루에브르', 'loeuvre'],\n",
       " '루이까또즈': ['루이까또즈', 'louisquatorze', '류이까또즈'],\n",
       " '루이까스텔': ['루이까스텔', 'louiscastel'],\n",
       " '루이비통': ['루이비통', 'louisvuitton', '루이비똥', '루비이퉁'],\n",
       " '룰루레몬': ['룰루레몬', 'lululemon'],\n",
       " '르꼬끄': ['르꼬끄', 'lecoq', 'lecoqsportif', '르꼬끄스포르티프', '르코크'],\n",
       " '르메르': ['르메르', 'lemaire'],\n",
       " '리바이스': ['리바이스', 'levis'],\n",
       " '리복': ['리복', 'reebok'],\n",
       " '릭오웬스': ['릭오웬스', 'rickowens'],\n",
       " '마가렛호웰': ['마가렛호웰', 'margarethowell'],\n",
       " '마뗑킴': ['마뗑킴', 'matinkim', '마틴킴'],\n",
       " '마르니': ['마르니', 'marni'],\n",
       " '마르셀로불론': ['마르셀로불론', 'marceloburlon'],\n",
       " '마린세르': ['마린세르', 'marineserre'],\n",
       " '마무트': ['마무트', 'mammut'],\n",
       " '마시모두띠': ['마시모두띠', 'massimodutti'],\n",
       " '마운틴하드웨어': ['마운틴하드웨어', 'mountainhardwear'],\n",
       " '마이클코어스': ['마이클코어스', 'michaelkors'],\n",
       " '마인': ['마인', 'mine'],\n",
       " '마제스틱': ['마제스틱', 'majestic'],\n",
       " '마쥬': ['마쥬', 'maje'],\n",
       " '마크앤로나': ['마크앤로나', 'mark&lona'],\n",
       " '마틴로즈': ['마틴로즈', 'martinerose'],\n",
       " '만다리나덕': ['만다리나덕', 'mandarinaduck'],\n",
       " '맥케이지': ['맥케이지', 'mackage'],\n",
       " '먼싱웨어': ['먼싱웨어', 'munsingwear'],\n",
       " '메종마르지엘라': ['메종마르지엘라', 'maisonmargiela'],\n",
       " '메종키츠네': ['메종키츠네', 'maisonkitsune'],\n",
       " '메트로시티': ['메트로시티', 'metrocity'],\n",
       " '모드나인': ['모드나인', 'modnine'],\n",
       " '모조에스핀': ['모조에스핀', 'mojo.s.phine'],\n",
       " '몬츄라': ['몬츄라', 'montura'],\n",
       " '몽블랑': ['몽블랑', 'montblanc'],\n",
       " '몽클레어': ['몽클레어', 'moncler', '몽클레르', '몽클'],\n",
       " '무스너클': ['무스너클', 'mooseknuckles'],\n",
       " '무신사스탠다드': ['무신사스탠다드', 'musinsastandard'],\n",
       " '미닛뮤트': ['미닛뮤트', 'minitmute'],\n",
       " '미스치프': ['미스치프', 'mischief'],\n",
       " '미우미우': ['미우미우', 'miumiu'],\n",
       " '미하라야스히로': ['미하라야스히로', 'miharayasuhiro'],\n",
       " '바라쿠타': ['바라쿠타', 'baracuta'],\n",
       " '바버': ['바버', 'barbour'],\n",
       " '바쉐론 콘스탄틴': ['바쉐론콘스탄틴', 'vacheronconstantin'],\n",
       " '반스': ['반스', 'vans'],\n",
       " '발렌시아가': ['발렌시아가', 'balenciaga'],\n",
       " '발렌타인': ['발렌타인', 'ballantyne'],\n",
       " '발렌티노': ['발렌티노', 'valentino'],\n",
       " '발망': ['발망', 'balmain'],\n",
       " '버버리': ['버버리', 'burberry'],\n",
       " '버즈릭슨': ['버즈릭슨', 'buzzrickson'],\n",
       " '벌스데이수트': ['벌스데이수트', 'birthdaysuit'],\n",
       " '베라왕': ['베라왕', 'verawang'],\n",
       " '베르사체': ['베르사체', 'versace'],\n",
       " '베이프': ['베이프', 'bape'],\n",
       " '베트멍': ['베트멍', 'vetements'],\n",
       " '벨루티': ['벨루티', 'berluti'],\n",
       " '벨리에': ['벨리에', 'belier'],\n",
       " '보테가베네타': ['보테가베네타', 'bottegaveneta', '보테가'],\n",
       " '부쉐론': ['부쉐론', 'boucheron'],\n",
       " '분크': ['분크', 'vunque'],\n",
       " '불가리': ['불가리', 'bulgari'],\n",
       " '브라이틀링': ['브라이틀링', 'breitling'],\n",
       " '브룩스브라더스': ['브룩스브라더스', 'brooksbrothers'],\n",
       " '블랙야크': ['블랙야크', 'blackyak'],\n",
       " '블랭코브': ['블랭코브', 'blankof'],\n",
       " '블레스': ['블레스', 'bless'],\n",
       " '비바스튜디오': ['비바스튜디오', 'vivastudio'],\n",
       " '비비안': ['비비안', 'vivien'],\n",
       " '비비안웨스트우드': ['비비안웨스트우드', 'viviennewestwood'],\n",
       " '비즈빔': ['비즈빔', 'visvim'],\n",
       " '빈폴': ['빈폴', 'beanpole'],\n",
       " '빔즈': ['빔즈', 'beams'],\n",
       " '사카이': ['사카이', 'sacai'],\n",
       " '산드로': ['산드로', 'sandro'],\n",
       " '살로몬': ['살로몬', 'salomon'],\n",
       " '삼성라이온즈': ['삼성라이온즈', 'samsunglions'],\n",
       " '생로랑': ['생로랑', 'saintlaurent', '세인트로랑'],\n",
       " '샤넬': ['샤넬', 'chanel'],\n",
       " '세이코': ['세이코', 'seiko'],\n",
       " '세인트제임스': ['세인트제임스', 'saintjames'],\n",
       " '셀린느': ['셀린느', 'celine'],\n",
       " '소우소우': ['소우소우', 'sousou'],\n",
       " '소프트서울': ['소프트서울', 'softseoul'],\n",
       " '손정완': ['손정완', 'sonjungwan'],\n",
       " '솔로이스트': ['솔로이스트', 'soloist'],\n",
       " '솔리드옴므': ['솔리드옴므', 'solidhomme'],\n",
       " '송지오옴므': ['송지오옴므', 'songziohomme'],\n",
       " '쇼메': ['쇼메', 'chaumet'],\n",
       " '슈콤마보니': ['슈콤마보니', 'suecommabonnie'],\n",
       " '슈프림': ['슈프림', 'supreme'],\n",
       " '스와로브스키': ['스와로브스키', 'swarovski'],\n",
       " '스타일난다': ['스타일난다', 'stylenanda'],\n",
       " '스톤아일랜드': ['스톤아일랜드', 'stoneisland'],\n",
       " '스투시': ['스투시', 'stussy'],\n",
       " '스튜디오니콜슨': ['스튜디오니콜슨', 'studionicholson'],\n",
       " '스파이더': ['스파이더', 'spyder'],\n",
       " '스푸닝': ['스푸닝', 'spooning'],\n",
       " '시리즈': ['시리즈', 'series'],\n",
       " '시스템': ['시스템', 'system'],\n",
       " '시티즌': ['시티즌', 'citizen'],\n",
       " '써스데이아일랜드': ['써스데이아일랜드', 'thursdayisland'],\n",
       " '아더에러': ['아더에러', 'adererror'],\n",
       " '아디다스': ['아디다스', 'adidas', '이지부스트', 'yeezy', '이지부스터'],\n",
       " '아미': ['아미', 'ami'],\n",
       " '아미리': ['아미리', 'amiri'],\n",
       " '아베크롬비': ['아베크롬비', 'abercrombie', 'abercrombie&fitch'],\n",
       " '아비렉스': ['아비렉스', 'avirex'],\n",
       " '아식스': ['아식스', 'asics'],\n",
       " '아워레가시': ['아워레가시', 'ourlegacy'],\n",
       " '아조바이아조': ['아조바이아조', 'ajobyajo'],\n",
       " '아카이브앱크': ['아카이브앱크', 'archivepke'],\n",
       " '아크네': ['아크네', 'acne', 'acnestudio', '아크네스튜디오'],\n",
       " '아크메드라비': ['아크메드라비', 'acmedelavie'],\n",
       " '아크테릭스': ['아크테릭스', \"arc'teryx\"],\n",
       " '아페쎄': ['아페쎄', 'a.p.c.'],\n",
       " '악셀아리가토': ['악셀아리가토', 'axelarigato'],\n",
       " '안다르': ['안다르', 'andar'],\n",
       " '안데르센안데르센': ['안데르센안데르센', 'andersenandersen'],\n",
       " '알든': ['알든', 'alden'],\n",
       " '알레그리': ['알레그리', 'allegri'],\n",
       " '알렉산더맥퀸': ['알렉산더맥퀸', 'alexandermcqueen'],\n",
       " '알렉산더왕': ['알렉산더왕', 'alexanderwang'],\n",
       " '알렌느': ['알렌느', 'haleine'],\n",
       " '알릭스': ['알릭스', 'alyx'],\n",
       " '알파인더스트리': ['알파인더스트리', 'alphaindustries'],\n",
       " '앤더슨벨': ['앤더슨벨', 'anderssonbell', '엔더슨벨', '앤더스벨', '엔더스벨'],\n",
       " '어나더오피스': ['어나더오피스', 'anotheroffice'],\n",
       " '어콜드월': ['어콜드월', 'acoldwall'],\n",
       " '언더아머': ['언더아머', 'underarmour'],\n",
       " '언더커버': ['언더커버', 'undercover'],\n",
       " '엄브로': ['엄브로', 'umbro'],\n",
       " '에고이스트': ['에고이스트', 'egoist'],\n",
       " '에르메스': ['에르메스', 'hermes'],\n",
       " '에센셜': ['에센셜', 'essential'],\n",
       " '에트로': ['에트로', 'etro'],\n",
       " '엔지니어드가먼츠': ['엔지니어드가먼츠', 'engineeredgarments'],\n",
       " '엘바테게브': ['엘바테게브', 'elbategev'],\n",
       " '예스아이씨': ['예스아이씨', 'yeseyesee'],\n",
       " '오니츠카타이거': ['오니츠카타이거', 'onitsukatiger'],\n",
       " '오데마피게': ['오데마피게', 'audemarspiguet'],\n",
       " '오리스': ['오리스', 'oris'],\n",
       " '오메가': ['오메가', 'omega'],\n",
       " '오베이': ['오베이', 'obey'],\n",
       " '오소이': ['오소이', 'osoi'],\n",
       " '오야니': ['오야니', 'oryany'],\n",
       " '오일릴리': ['오일릴리', 'oilily'],\n",
       " '오즈세컨': ['오즈세컨', \"o'2nd\"],\n",
       " '오클리': ['오클리', 'oakley'],\n",
       " '오프화이트': ['오프화이트', 'offwhite'],\n",
       " '올세인츠': ['올세인츠', 'allsaints'],\n",
       " '와이드앵글': ['와이드앵글', 'wideangle'],\n",
       " '요지야마모토': ['요지야마모토', 'yohjiyamamoto'],\n",
       " '우알롱': ['우알롱', 'wooalong'],\n",
       " '우영미': ['우영미', 'wooyoungmi'],\n",
       " '우포스': ['우포스', 'oofos'],\n",
       " '위블로': ['위블로', 'hublot'],\n",
       " '유니클로': ['유니클로', 'uniqlo'],\n",
       " '이세이미야케': ['이세이미야케', 'isseymiyake', '바오바오'],\n",
       " '이자벨마랑': ['이자벨마랑', 'isabelmarant', 'isbelmarant'],\n",
       " '인스턴트펑크': ['인스턴트펑크', 'instantfunk'],\n",
       " '일꼬르소': ['일꼬르소', 'ilcorso'],\n",
       " '입생로랑': ['입생로랑', 'yvessaintlaurent', 'ysl', '입생', '생로랑'],\n",
       " '잇미샤': ['잇미샤', 'itmichaa'],\n",
       " '자라': ['자라', 'zara'],\n",
       " '자크뮈스': ['자크뮈스', 'jacquemus'],\n",
       " '잔스포츠': ['잔스포츠', 'jansport'],\n",
       " '제시뉴욕': ['제시뉴욕', 'jessinewyork'],\n",
       " '제이린드버그': ['제이린드버그', 'j.lindeberg'],\n",
       " '제이에스티나': ['제이에스티나', 'j.estina'],\n",
       " '젝시믹스': ['젝시믹스', 'xexymix'],\n",
       " '젠틀몬스터': ['젠틀몬스터', 'gentlemonster'],\n",
       " '조셉앤스테이시': ['조셉앤스테이시', 'josephandstacey', '조셉엔스테이시'],\n",
       " '조이그라이슨': ['조이그라이슨', 'joygryson'],\n",
       " '준지': ['준지', 'juun.j'],\n",
       " '지방시': ['지방시', 'givenchy'],\n",
       " '지샥': ['지샥', 'gshock'],\n",
       " '질샌더': ['질샌더', 'jilsander'],\n",
       " '질스튜어트': ['질스튜어트', 'jillstuart', '질슈트어트'],\n",
       " '찰스앤키스': ['찰스앤키스', 'charles&keith', '찰스엔키스'],\n",
       " '챔피온': ['챔피온', 'champion', '챔피언'],\n",
       " '카시오': ['카시오', 'casio'],\n",
       " '칼린': ['칼린', 'carlyn'],\n",
       " '칼하트': ['칼하트', 'carhartt'],\n",
       " '캉골': ['캉골', 'kangol'],\n",
       " '캐나다구스': ['캐나다구스', 'canadagoose'],\n",
       " '캘러웨이': ['캘러웨이', 'callaway'],\n",
       " '캘빈클라인': ['캘빈클라인', 'calvinklein', '켈빈클라인', '케빈클라인'],\n",
       " '캠퍼': ['캠퍼', 'camper'],\n",
       " '커렌트': ['커렌트', 'current'],\n",
       " '커먼프로젝트': ['커먼프로젝트', 'commonprojects'],\n",
       " '커버낫': ['커버낫', 'convernat'],\n",
       " '커스텀멜로우': ['커스텀멜로우', 'customellow'],\n",
       " '컨버스': ['컨버스', 'converse'],\n",
       " '코비': ['코비', 'kobe'],\n",
       " '코스': ['코스', 'cos'],\n",
       " '코오롱': ['코오롱', 'kolon'],\n",
       " '코치': ['코치', 'coach'],\n",
       " '쿠론': ['쿠론', 'couronne'],\n",
       " '큐리티': ['큐리티', 'curetty'],\n",
       " '크록스': ['크록스', 'crocs'],\n",
       " '크롬하츠': ['크롬하츠', 'chromehearts'],\n",
       " '클락스': ['클락스', 'clarks'],\n",
       " '키르시': ['키르시', 'kirsh'],\n",
       " '키이스': ['키이스', 'keith'],\n",
       " '키코': ['키코', 'kiko'],\n",
       " '키플링': ['키플링', 'kipling'],\n",
       " '킨더살몬': ['킨더살몬', 'kindersalmon'],\n",
       " '타미힐피거': ['타미힐피거', 'tommyhilfiger'],\n",
       " '타이틀리스트': ['타이틀리스트', 'titleist'],\n",
       " '타임': ['타임', 'time'],\n",
       " '태그호이어': ['태그호이어', 'tagheuer'],\n",
       " '텔파': ['텔파', 'telfar'],\n",
       " '토리버치': ['토리버치', 'toryburch'],\n",
       " '토마스모어': ['토마스모어', 'thomasmore'],\n",
       " '토즈': ['토즈', 'tods'],\n",
       " '토템': ['토템', 'toteme'],\n",
       " '토트넘': ['토트넘', 'tottenham'],\n",
       " '톰보이': ['톰보이', 'tomboy'],\n",
       " '톰브라운': ['톰브라운', 'thombrowne'],\n",
       " '톰포드': ['톰포드', 'tomford'],\n",
       " '투미': ['투미', 'tumi'],\n",
       " '튜더': ['튜더', 'tudor'],\n",
       " '티쏘': ['티쏘', 'tissot'],\n",
       " '티파니': ['티파니', 'tiffany', 'tiffancy&co', '티파니앤코'],\n",
       " '팀버랜드': ['팀버랜드', 'timberland'],\n",
       " '파라부트': ['파라부트', 'paraboot'],\n",
       " '파라점퍼스': ['파라점퍼스', 'parajumpers'],\n",
       " '파리게이츠': ['파리게이츠', 'pearlygates'],\n",
       " '파인드카푸어': ['파인드카푸어', 'findkapoor'],\n",
       " '파타고니아': ['파타고니아', 'patagonia'],\n",
       " '파텍필립': ['파텍필립', 'patekphilippe'],\n",
       " '판도라': ['판도라', 'pandora'],\n",
       " '페라가모': ['페라가모', 'ferragamo'],\n",
       " '페이탈리즘': ['페이탈리즘', 'fatalism'],\n",
       " '펜디': ['펜디', 'fendi', '팬디'],\n",
       " '포터': ['포터', 'porter', '요시다포터'],\n",
       " '폴로': ['폴로', 'polo', 'ralphlauren', '폴로랄프로렌', '랄프로렌'],\n",
       " '폴로스포츠': ['폴로스포츠', 'polosport'],\n",
       " '폴스미스': ['폴스미스', 'paulsmith'],\n",
       " '폴스부띠끄': ['폴스부띠끄', 'paulsboutique'],\n",
       " '프라다': ['프라다', 'prada'],\n",
       " '프라이탁': ['프라이탁', 'freitag'],\n",
       " '프레드': ['프레드', 'fred'],\n",
       " '프레드릭 콘스탄트': ['프레드릭콘스탄트', 'frederiqueconstant'],\n",
       " '프레드페리': ['프레드페리', 'fredperry'],\n",
       " '플리츠플리즈': ['플리츠플리즈', 'pleatsplease'],\n",
       " '플립': ['플립', 'flip'],\n",
       " '피스워커': ['피스워커', 'pieceworker'],\n",
       " '피어오브갓': ['피어오브갓', 'fearofgod', '피오갓', 'fog'],\n",
       " '피엘라벤': ['피엘라벤', 'fjallraven'],\n",
       " '필립플레인': ['필립플레인', 'philippplein'],\n",
       " '필슨': ['필슨', 'filson'],\n",
       " '핏플랍': ['핏플랍', 'fitflop'],\n",
       " '하이칙스': ['하이칙스', 'highcheeks'],\n",
       " '해밀턴': ['해밀턴', 'hamilton'],\n",
       " '험멜': ['험멜', 'hummel'],\n",
       " '헤지스': ['헤지스', 'hazzys'],\n",
       " '헨리코튼': ['헨리코튼', 'henrycottons'],\n",
       " '헬무트랭': ['헬무트랭', 'helmutlang'],\n",
       " '호카오네오네': ['호카오네오네', 'hokaoneone']}"
      ]
     },
     "execution_count": 103,
     "metadata": {},
     "output_type": "execute_result"
    }
   ],
   "source": [
    "brand_dict2"
   ]
  },
  {
   "cell_type": "code",
   "execution_count": null,
   "metadata": {},
   "outputs": [],
   "source": []
  },
  {
   "cell_type": "markdown",
   "metadata": {},
   "source": [
    "- preprocess_name: a list of preprocessed product names\n",
    "- brand_dict: {brand name: list of brand name in english and synonyms}\n",
    "- name_match: {idx of preprocess_name: list of brands that match the product name}"
   ]
  },
  {
   "cell_type": "code",
   "execution_count": 56,
   "metadata": {},
   "outputs": [],
   "source": [
    "name_match = {}\n",
    "for idx, name in enumerate(preprocess_name):\n",
    "    for brand, word_list in brand_dict.items():\n",
    "        for word in word_list:\n",
    "            if word in name:\n",
    "                brands = name_match.get(idx, [])\n",
    "                if brand not in brands:\n",
    "                    brands.append(brand)\n",
    "                    name_match[idx] = brands"
   ]
  },
  {
   "cell_type": "code",
   "execution_count": 57,
   "metadata": {},
   "outputs": [
    {
     "data": {
      "text/plain": [
       "2580064"
      ]
     },
     "execution_count": 57,
     "metadata": {},
     "output_type": "execute_result"
    }
   ],
   "source": [
    "len(name_match)"
   ]
  },
  {
   "cell_type": "code",
   "execution_count": 58,
   "metadata": {},
   "outputs": [],
   "source": [
    "import json\n",
    "name_match_json = json.dumps(name_match)"
   ]
  },
  {
   "cell_type": "code",
   "execution_count": 59,
   "metadata": {},
   "outputs": [],
   "source": [
    "with open('name_match.txt', 'w') as outfile:\n",
    "    json.dump(name_match_json, outfile)"
   ]
  },
  {
   "cell_type": "code",
   "execution_count": 60,
   "metadata": {},
   "outputs": [],
   "source": [
    "names = name_match.keys()"
   ]
  },
  {
   "cell_type": "code",
   "execution_count": 61,
   "metadata": {},
   "outputs": [
    {
     "data": {
      "text/plain": [
       "[1, 2, 4, 9, 14, 15, 21, 23, 26, 28]"
      ]
     },
     "execution_count": 61,
     "metadata": {},
     "output_type": "execute_result"
    }
   ],
   "source": [
    "list(names)[:10]"
   ]
  },
  {
   "cell_type": "code",
   "execution_count": 65,
   "metadata": {},
   "outputs": [
    {
     "name": "stdout",
     "output_type": "stream",
     "text": [
      "슈프림 후드티 ['슈프림']\n",
      "스톤아일랜드 윈드브레이커 바람막이 6color ['스톤아일랜드']\n",
      "루이비통 웨이드 스피디 ['루이비통']\n",
      "보테가베네타 ['보테가베네타']\n",
      "양모 버버리 워커힐 워너비 ['버버리']\n",
      "샤넬귀걸이 ['샤넬']\n",
      "폴스미스 봄 가을 곤색 면바지 남성 34 k12 314 ['폴스미스']\n",
      "당일배송가능 260 280 구찌 모던 로퍼 ['구찌']\n",
      "에르메스 오즈 켈리 뮬 로퍼 6color ['에르메스']\n",
      "에르메스st 은침귀걸이 ['에르메스']\n"
     ]
    }
   ],
   "source": [
    "tmp_list = [1, 2, 4, 9, 14, 15, 21, 23, 26, 28]\n",
    "for i in tmp_list:\n",
    "    print(preprocess_name[i], name_match[i])"
   ]
  },
  {
   "cell_type": "code",
   "execution_count": 67,
   "metadata": {},
   "outputs": [],
   "source": [
    "no = []\n",
    "for i in range(len(preprocess_name)):\n",
    "    if i not in names:\n",
    "        no.append(i)"
   ]
  },
  {
   "cell_type": "code",
   "execution_count": 68,
   "metadata": {},
   "outputs": [
    {
     "data": {
      "text/plain": [
       "5317506"
      ]
     },
     "execution_count": 68,
     "metadata": {},
     "output_type": "execute_result"
    }
   ],
   "source": [
    "len(no)"
   ]
  },
  {
   "cell_type": "code",
   "execution_count": 73,
   "metadata": {},
   "outputs": [],
   "source": [
    "f=open('not_filtered_name.txt','w')\n",
    "for i in no:\n",
    "    n = preprocess_name[i]\n",
    "    f.write(n+'\\n')"
   ]
  },
  {
   "cell_type": "code",
   "execution_count": 90,
   "metadata": {},
   "outputs": [
    {
     "data": {
      "text/plain": [
       "id                                 99845568\n",
       "name                                  몽클 맨투\n",
       "keyword        몽클레어,몽클레어맨투맨,남자맨투맨,몽클맨투맨,맨투맨\n",
       "category_id                       320030100\n",
       "Name: 5467, dtype: object"
      ]
     },
     "execution_count": 90,
     "metadata": {},
     "output_type": "execute_result"
    }
   ],
   "source": [
    "a = no[3960]\n",
    "products.loc[a]"
   ]
  },
  {
   "cell_type": "code",
   "execution_count": 105,
   "metadata": {},
   "outputs": [],
   "source": [
    "# 하나의 상품 이름에 두개 이상의 브랜드가 속하는 경우\n",
    "duplicates = []\n",
    "for k, v in name_match.items():\n",
    "    if len(v) > 1:\n",
    "        duplicates.append(k)"
   ]
  },
  {
   "cell_type": "code",
   "execution_count": null,
   "metadata": {},
   "outputs": [],
   "source": []
  },
  {
   "cell_type": "code",
   "execution_count": 110,
   "metadata": {},
   "outputs": [
    {
     "data": {
      "text/plain": [
       "0.056461390105051655"
      ]
     },
     "execution_count": 110,
     "metadata": {},
     "output_type": "execute_result"
    }
   ],
   "source": [
    "len(duplicates)/len(name_match)"
   ]
  },
  {
   "cell_type": "code",
   "execution_count": 111,
   "metadata": {},
   "outputs": [],
   "source": [
    "name_match2 = {}\n",
    "for idx, name in enumerate(preprocess_name2):\n",
    "    for brand, word_list in brand_dict2.items():\n",
    "        for word in word_list:\n",
    "            if word in name:\n",
    "                brands = name_match2.get(idx, [])\n",
    "                if brand not in brands:\n",
    "                    brands.append(brand)\n",
    "                    name_match2[idx] = brands"
   ]
  },
  {
   "cell_type": "code",
   "execution_count": 118,
   "metadata": {},
   "outputs": [
    {
     "data": {
      "text/plain": [
       "2684895"
      ]
     },
     "execution_count": 118,
     "metadata": {},
     "output_type": "execute_result"
    }
   ],
   "source": [
    "len(name_match2)"
   ]
  },
  {
   "cell_type": "code",
   "execution_count": 115,
   "metadata": {},
   "outputs": [
    {
     "data": {
      "text/plain": [
       "0.04063116263782604"
      ]
     },
     "execution_count": 115,
     "metadata": {},
     "output_type": "execute_result"
    }
   ],
   "source": [
    "(len(name_match2)-len(name_match))/len(name_match)"
   ]
  },
  {
   "cell_type": "code",
   "execution_count": 116,
   "metadata": {},
   "outputs": [
    {
     "name": "stdout",
     "output_type": "stream",
     "text": [
      "156022\n"
     ]
    }
   ],
   "source": [
    "duplicates2 = []\n",
    "for k, v in name_match2.items():\n",
    "    if len(v) > 1:\n",
    "        duplicates2.append(k)\n",
    "print(len(duplicates2))"
   ]
  },
  {
   "cell_type": "code",
   "execution_count": 117,
   "metadata": {},
   "outputs": [
    {
     "data": {
      "text/plain": [
       "0.05811102482592429"
      ]
     },
     "execution_count": 117,
     "metadata": {},
     "output_type": "execute_result"
    }
   ],
   "source": [
    "len(duplicates2)/len(name_match2)"
   ]
  },
  {
   "cell_type": "code",
   "execution_count": 119,
   "metadata": {},
   "outputs": [],
   "source": [
    "f=open('name_match2.txt','w')\n",
    "cnt = 0\n",
    "for i in name_match2:\n",
    "    cnt += 1\n",
    "    n = preprocess_name2[i]\n",
    "    f.write(n + ' || ' + str(name_match2[i]) + '\\n')\n",
    "    if cnt == 10000:\n",
    "        break"
   ]
  },
  {
   "cell_type": "code",
   "execution_count": 127,
   "metadata": {},
   "outputs": [
    {
     "data": {
      "text/plain": [
       "25159"
      ]
     },
     "execution_count": 127,
     "metadata": {},
     "output_type": "execute_result"
    }
   ],
   "source": [
    "preprocess_name2.tolist().index('나이키피오갓250')"
   ]
  },
  {
   "cell_type": "code",
   "execution_count": 128,
   "metadata": {},
   "outputs": [
    {
     "data": {
      "text/plain": [
       "'나이키 피오갓 250'"
      ]
     },
     "execution_count": 128,
     "metadata": {},
     "output_type": "execute_result"
    }
   ],
   "source": [
    "preprocess_name[25159]"
   ]
  },
  {
   "cell_type": "code",
   "execution_count": 129,
   "metadata": {},
   "outputs": [
    {
     "data": {
      "text/plain": [
       "101107652"
      ]
     },
     "execution_count": 129,
     "metadata": {},
     "output_type": "execute_result"
    }
   ],
   "source": [
    "pids[25159]"
   ]
  },
  {
   "cell_type": "code",
   "execution_count": 132,
   "metadata": {},
   "outputs": [],
   "source": [
    "get_brand = []\n",
    "for k, v in name_match2.items():\n",
    "    get_brand += v\n",
    "get_brand = list(set(get_brand))"
   ]
  },
  {
   "cell_type": "code",
   "execution_count": 133,
   "metadata": {},
   "outputs": [
    {
     "data": {
      "text/plain": [
       "332"
      ]
     },
     "execution_count": 133,
     "metadata": {},
     "output_type": "execute_result"
    }
   ],
   "source": [
    "len(get_brand)"
   ]
  },
  {
   "cell_type": "code",
   "execution_count": null,
   "metadata": {},
   "outputs": [],
   "source": []
  }
 ],
 "metadata": {
  "kernelspec": {
   "display_name": "Python 3",
   "language": "python",
   "name": "python3"
  },
  "language_info": {
   "codemirror_mode": {
    "name": "ipython",
    "version": 3
   },
   "file_extension": ".py",
   "mimetype": "text/x-python",
   "name": "python",
   "nbconvert_exporter": "python",
   "pygments_lexer": "ipython3",
   "version": "3.7.5"
  }
 },
 "nbformat": 4,
 "nbformat_minor": 4
}
