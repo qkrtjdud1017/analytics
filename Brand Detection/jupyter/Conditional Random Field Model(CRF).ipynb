{
 "cells": [
  {
   "cell_type": "code",
   "execution_count": 21,
   "metadata": {},
   "outputs": [],
   "source": [
    "import string\n",
    "from nltk.tokenize import word_tokenize\n",
    "import pandas as pd\n",
    "\n",
    "def labeling(label, string):\n",
    "    return [(word, label) for word in word_tokenize(string)]\n",
    "\n",
    "def branding(df):\n",
    "    t, br = df.title, df.brand\n",
    "    start = (t.lower()).find(br.lower())\n",
    "    end = start + len(br)\n",
    "    labeled_title = labeling('0', t[:start]) + labeling('BRAND', t[start:end]) + labeling('0', t[end:])\n",
    "    return labeled_title\n",
    "\n",
    "def word2features(row, i):\n",
    "    word = str(row.title[i][0])\n",
    "    features = {\n",
    "        'root_cat': row.root_cat,\n",
    "        'bias': 1,\n",
    "        'word_position': i,\n",
    "        'word_lower': word.lower(),\n",
    "        'word[-2:]': word[-2:],\n",
    "        'word_isUpper': word.isupper(),\n",
    "        'word_isTitle': word.istitle(),\n",
    "        'word_isDigit': word.isdigit(),\n",
    "    }\n",
    "\n",
    "    if i > 0:\n",
    "        prev_word = str(row.title[i-1][0])\n",
    "        features.update({\n",
    "            'prev_word_lower': prev_word.lower(),\n",
    "            'prev_word_isTitle': prev_word.istitle(),\n",
    "            'prev_word_isUpper': prev_word.isupper(),\n",
    "        })\n",
    "    else:\n",
    "        features['BOS'] = True\n",
    "    \n",
    "    if i < len(row.title) - 1:\n",
    "        next_word = str(row.title[i+1][0])\n",
    "        features.update({\n",
    "            'next_word_lower': next_word.lower(),\n",
    "            'next_word_isTitle': next_word.istitle(),\n",
    "            'next_word_isUpper': next_word.isupper(),\n",
    "            'next_word_anyDigit': any(ch.isdigit() for ch in next_word),\n",
    "            'next_word_isPuctuation': next_word in string.punctuation,\n",
    "        })\n",
    "    else:\n",
    "        features['EOS'] = True\n",
    "    \n",
    "    if i > 1:\n",
    "        prev1 = str(row.title[i-1][0])\n",
    "        prev2 = str(row.title[i-2][0])\n",
    "        features.update({\n",
    "            '-2ngram': '{} {}'.format(prev1, prev2)\n",
    "        })\n",
    "    \n",
    "    if i < len(row.title) - 2:\n",
    "        next1 = str(row.title[i+1][0])\n",
    "        next2 = str(row.title[i+2][0])\n",
    "        features.update({\n",
    "            '+2ngram': '{} {}'.format(next1, next2)\n",
    "        })\n",
    "    \n",
    "    return features\n",
    "\n",
    "class DataLoader:\n",
    "    \"\"\"\n",
    "    data from eBay\n",
    "    columns:\n",
    "    product title, brand, root_cat (root category of item)\n",
    "    \"\"\"\n",
    "    def get_data(self, file_name='../data/train.csv'):\n",
    "        df = pd.read_csv(filename, index=False)\n",
    "        df['origin_title'] = df['title'].values\n",
    "        df['title'] = df.apply(branding, axis=1)\n",
    "        df['features'] = df.apply(lambda row: [word2features(row, i)\n",
    "                                    for i in range(len(row.title))], axis=1)\n",
    "        df['labels'] = df.apply(lambda row: [label for token, label in row.title], axis=1)\n",
    "\n",
    "        return df\n",
    "\n"
   ]
  },
  {
   "cell_type": "code",
   "execution_count": 8,
   "metadata": {},
   "outputs": [],
   "source": [
    "df = pd.read_csv('../data/train.csv')"
   ]
  },
  {
   "cell_type": "code",
   "execution_count": 10,
   "metadata": {},
   "outputs": [],
   "source": [
    "df['origin_title'] = df['title'].values"
   ]
  },
  {
   "cell_type": "code",
   "execution_count": 11,
   "metadata": {},
   "outputs": [],
   "source": [
    "df['title'] = df.apply(branding, axis=1)"
   ]
  },
  {
   "cell_type": "code",
   "execution_count": 13,
   "metadata": {},
   "outputs": [
    {
     "data": {
      "text/plain": [
       "[('BRIO', 'BRAND'),\n",
       " ('Magnetic', '0'),\n",
       " ('Building', '0'),\n",
       " ('Wooden', '0'),\n",
       " ('Blocks', '0'),\n",
       " ('Toddler', '0'),\n",
       " ('Activity', '0'),\n",
       " ('Toy', '0'),\n",
       " ('Ages', '0'),\n",
       " ('1+', '0'),\n",
       " ('NEW', '0')]"
      ]
     },
     "execution_count": 13,
     "metadata": {},
     "output_type": "execute_result"
    }
   ],
   "source": [
    "df['title'][1]"
   ]
  },
  {
   "cell_type": "code",
   "execution_count": 15,
   "metadata": {},
   "outputs": [
    {
     "data": {
      "text/plain": [
       "'BRIO Magnetic Building Wooden Blocks Toddler Activity Toy Ages 1+ NEW'"
      ]
     },
     "execution_count": 15,
     "metadata": {},
     "output_type": "execute_result"
    }
   ],
   "source": [
    "df['origin_title'][1]"
   ]
  },
  {
   "cell_type": "code",
   "execution_count": 17,
   "metadata": {},
   "outputs": [
    {
     "data": {
      "text/plain": [
       "'Brio'"
      ]
     },
     "execution_count": 17,
     "metadata": {},
     "output_type": "execute_result"
    }
   ],
   "source": [
    "df['brand'][1]"
   ]
  },
  {
   "cell_type": "code",
   "execution_count": 22,
   "metadata": {},
   "outputs": [],
   "source": [
    "df['features'] = df.apply(lambda row: [word2features(row, i)\n",
    "                                    for i in range(len(row.title))], axis=1)"
   ]
  },
  {
   "cell_type": "code",
   "execution_count": 24,
   "metadata": {},
   "outputs": [
    {
     "data": {
      "text/plain": [
       "[{'+2ngram': 'Magnetic Building',\n",
       "  'BOS': True,\n",
       "  'bias': 1,\n",
       "  'next_word_anyDigit': False,\n",
       "  'next_word_isPuctuation': False,\n",
       "  'next_word_isTitle': True,\n",
       "  'next_word_isUpper': False,\n",
       "  'next_word_lower': 'magnetic',\n",
       "  'root_cat': 2984,\n",
       "  'word[-2:]': 'IO',\n",
       "  'word_isDigit': False,\n",
       "  'word_isTitle': False,\n",
       "  'word_isUpper': True,\n",
       "  'word_lower': 'brio',\n",
       "  'word_position': 0},\n",
       " {'+2ngram': 'Building Wooden',\n",
       "  'bias': 1,\n",
       "  'next_word_anyDigit': False,\n",
       "  'next_word_isPuctuation': False,\n",
       "  'next_word_isTitle': True,\n",
       "  'next_word_isUpper': False,\n",
       "  'next_word_lower': 'building',\n",
       "  'prev_word_isTitle': False,\n",
       "  'prev_word_isUpper': True,\n",
       "  'prev_word_lower': 'brio',\n",
       "  'root_cat': 2984,\n",
       "  'word[-2:]': 'ic',\n",
       "  'word_isDigit': False,\n",
       "  'word_isTitle': True,\n",
       "  'word_isUpper': False,\n",
       "  'word_lower': 'magnetic',\n",
       "  'word_position': 1},\n",
       " {'+2ngram': 'Wooden Blocks',\n",
       "  '-2ngram': 'Magnetic BRIO',\n",
       "  'bias': 1,\n",
       "  'next_word_anyDigit': False,\n",
       "  'next_word_isPuctuation': False,\n",
       "  'next_word_isTitle': True,\n",
       "  'next_word_isUpper': False,\n",
       "  'next_word_lower': 'wooden',\n",
       "  'prev_word_isTitle': True,\n",
       "  'prev_word_isUpper': False,\n",
       "  'prev_word_lower': 'magnetic',\n",
       "  'root_cat': 2984,\n",
       "  'word[-2:]': 'ng',\n",
       "  'word_isDigit': False,\n",
       "  'word_isTitle': True,\n",
       "  'word_isUpper': False,\n",
       "  'word_lower': 'building',\n",
       "  'word_position': 2},\n",
       " {'+2ngram': 'Blocks Toddler',\n",
       "  '-2ngram': 'Building Magnetic',\n",
       "  'bias': 1,\n",
       "  'next_word_anyDigit': False,\n",
       "  'next_word_isPuctuation': False,\n",
       "  'next_word_isTitle': True,\n",
       "  'next_word_isUpper': False,\n",
       "  'next_word_lower': 'blocks',\n",
       "  'prev_word_isTitle': True,\n",
       "  'prev_word_isUpper': False,\n",
       "  'prev_word_lower': 'building',\n",
       "  'root_cat': 2984,\n",
       "  'word[-2:]': 'en',\n",
       "  'word_isDigit': False,\n",
       "  'word_isTitle': True,\n",
       "  'word_isUpper': False,\n",
       "  'word_lower': 'wooden',\n",
       "  'word_position': 3},\n",
       " {'+2ngram': 'Toddler Activity',\n",
       "  '-2ngram': 'Wooden Building',\n",
       "  'bias': 1,\n",
       "  'next_word_anyDigit': False,\n",
       "  'next_word_isPuctuation': False,\n",
       "  'next_word_isTitle': True,\n",
       "  'next_word_isUpper': False,\n",
       "  'next_word_lower': 'toddler',\n",
       "  'prev_word_isTitle': True,\n",
       "  'prev_word_isUpper': False,\n",
       "  'prev_word_lower': 'wooden',\n",
       "  'root_cat': 2984,\n",
       "  'word[-2:]': 'ks',\n",
       "  'word_isDigit': False,\n",
       "  'word_isTitle': True,\n",
       "  'word_isUpper': False,\n",
       "  'word_lower': 'blocks',\n",
       "  'word_position': 4},\n",
       " {'+2ngram': 'Activity Toy',\n",
       "  '-2ngram': 'Blocks Wooden',\n",
       "  'bias': 1,\n",
       "  'next_word_anyDigit': False,\n",
       "  'next_word_isPuctuation': False,\n",
       "  'next_word_isTitle': True,\n",
       "  'next_word_isUpper': False,\n",
       "  'next_word_lower': 'activity',\n",
       "  'prev_word_isTitle': True,\n",
       "  'prev_word_isUpper': False,\n",
       "  'prev_word_lower': 'blocks',\n",
       "  'root_cat': 2984,\n",
       "  'word[-2:]': 'er',\n",
       "  'word_isDigit': False,\n",
       "  'word_isTitle': True,\n",
       "  'word_isUpper': False,\n",
       "  'word_lower': 'toddler',\n",
       "  'word_position': 5},\n",
       " {'+2ngram': 'Toy Ages',\n",
       "  '-2ngram': 'Toddler Blocks',\n",
       "  'bias': 1,\n",
       "  'next_word_anyDigit': False,\n",
       "  'next_word_isPuctuation': False,\n",
       "  'next_word_isTitle': True,\n",
       "  'next_word_isUpper': False,\n",
       "  'next_word_lower': 'toy',\n",
       "  'prev_word_isTitle': True,\n",
       "  'prev_word_isUpper': False,\n",
       "  'prev_word_lower': 'toddler',\n",
       "  'root_cat': 2984,\n",
       "  'word[-2:]': 'ty',\n",
       "  'word_isDigit': False,\n",
       "  'word_isTitle': True,\n",
       "  'word_isUpper': False,\n",
       "  'word_lower': 'activity',\n",
       "  'word_position': 6},\n",
       " {'+2ngram': 'Ages 1+',\n",
       "  '-2ngram': 'Activity Toddler',\n",
       "  'bias': 1,\n",
       "  'next_word_anyDigit': False,\n",
       "  'next_word_isPuctuation': False,\n",
       "  'next_word_isTitle': True,\n",
       "  'next_word_isUpper': False,\n",
       "  'next_word_lower': 'ages',\n",
       "  'prev_word_isTitle': True,\n",
       "  'prev_word_isUpper': False,\n",
       "  'prev_word_lower': 'activity',\n",
       "  'root_cat': 2984,\n",
       "  'word[-2:]': 'oy',\n",
       "  'word_isDigit': False,\n",
       "  'word_isTitle': True,\n",
       "  'word_isUpper': False,\n",
       "  'word_lower': 'toy',\n",
       "  'word_position': 7},\n",
       " {'+2ngram': '1+ NEW',\n",
       "  '-2ngram': 'Toy Activity',\n",
       "  'bias': 1,\n",
       "  'next_word_anyDigit': True,\n",
       "  'next_word_isPuctuation': False,\n",
       "  'next_word_isTitle': False,\n",
       "  'next_word_isUpper': False,\n",
       "  'next_word_lower': '1+',\n",
       "  'prev_word_isTitle': True,\n",
       "  'prev_word_isUpper': False,\n",
       "  'prev_word_lower': 'toy',\n",
       "  'root_cat': 2984,\n",
       "  'word[-2:]': 'es',\n",
       "  'word_isDigit': False,\n",
       "  'word_isTitle': True,\n",
       "  'word_isUpper': False,\n",
       "  'word_lower': 'ages',\n",
       "  'word_position': 8},\n",
       " {'-2ngram': 'Ages Toy',\n",
       "  'bias': 1,\n",
       "  'next_word_anyDigit': False,\n",
       "  'next_word_isPuctuation': False,\n",
       "  'next_word_isTitle': False,\n",
       "  'next_word_isUpper': True,\n",
       "  'next_word_lower': 'new',\n",
       "  'prev_word_isTitle': True,\n",
       "  'prev_word_isUpper': False,\n",
       "  'prev_word_lower': 'ages',\n",
       "  'root_cat': 2984,\n",
       "  'word[-2:]': '1+',\n",
       "  'word_isDigit': False,\n",
       "  'word_isTitle': False,\n",
       "  'word_isUpper': False,\n",
       "  'word_lower': '1+',\n",
       "  'word_position': 9},\n",
       " {'-2ngram': '1+ Ages',\n",
       "  'EOS': True,\n",
       "  'bias': 1,\n",
       "  'prev_word_isTitle': False,\n",
       "  'prev_word_isUpper': False,\n",
       "  'prev_word_lower': '1+',\n",
       "  'root_cat': 2984,\n",
       "  'word[-2:]': 'EW',\n",
       "  'word_isDigit': False,\n",
       "  'word_isTitle': False,\n",
       "  'word_isUpper': True,\n",
       "  'word_lower': 'new',\n",
       "  'word_position': 10}]"
      ]
     },
     "execution_count": 24,
     "metadata": {},
     "output_type": "execute_result"
    }
   ],
   "source": [
    "df['features'][1]"
   ]
  },
  {
   "cell_type": "code",
   "execution_count": 25,
   "metadata": {},
   "outputs": [],
   "source": [
    "df['labels'] = df.apply(lambda row: [label for token, label in row.title], axis=1)"
   ]
  },
  {
   "cell_type": "code",
   "execution_count": 26,
   "metadata": {},
   "outputs": [
    {
     "data": {
      "text/plain": [
       "0                          [BRAND, 0, 0, 0, 0, 0, 0, 0, 0]\n",
       "1                    [BRAND, 0, 0, 0, 0, 0, 0, 0, 0, 0, 0]\n",
       "2           [0, BRAND, 0, 0, 0, 0, 0, 0, 0, 0, 0, 0, 0, 0]\n",
       "3           [0, BRAND, 0, 0, 0, 0, 0, 0, 0, 0, 0, 0, 0, 0]\n",
       "4        [BRAND, BRAND, 0, 0, 0, 0, 0, 0, 0, 0, 0, 0, 0...\n",
       "                               ...                        \n",
       "29995                      [0, 0, 0, 0, 0, 0, 0, 0, BRAND]\n",
       "29996    [0, 0, 0, 0, 0, 0, 0, 0, 0, 0, 0, BRAND, BRAND...\n",
       "29997                      [0, 0, 0, 0, 0, 0, 0, 0, BRAND]\n",
       "29998                      [0, 0, 0, 0, 0, 0, 0, 0, BRAND]\n",
       "29999                      [0, 0, 0, 0, 0, 0, 0, 0, BRAND]\n",
       "Name: labels, Length: 30000, dtype: object"
      ]
     },
     "execution_count": 26,
     "metadata": {},
     "output_type": "execute_result"
    }
   ],
   "source": [
    "df['labels']"
   ]
  },
  {
   "cell_type": "code",
   "execution_count": 30,
   "metadata": {},
   "outputs": [],
   "source": [
    "from sklearn.model_selection import train_test_split\n",
    "\n",
    "x_train, x_test, y_train, y_test = train_test_split(\n",
    "    df['features'], df['labels'],\n",
    "    test_size=0.2,\n",
    "    random_state=123\n",
    ")\n",
    "test_index = x_test.index"
   ]
  },
  {
   "cell_type": "code",
   "execution_count": 32,
   "metadata": {},
   "outputs": [
    {
     "name": "stdout",
     "output_type": "stream",
     "text": [
      "24000\n",
      "6000\n"
     ]
    }
   ],
   "source": [
    "print(len(x_train))\n",
    "print(len(x_test))"
   ]
  },
  {
   "cell_type": "code",
   "execution_count": 31,
   "metadata": {},
   "outputs": [
    {
     "data": {
      "text/plain": [
       "0       CONTE A PARIS SKETCHING CRAYONS with Assorted ...\n",
       "1       Brand New Replay Anbass Mens Jeans Slim Fit RR...\n",
       "2       FOREVER DREAMING Ladies Womens Chunky Slipper ...\n",
       "3       HP Compaq dc7100 Tower HDD Hard Disk Drive SAT...\n",
       "4       ASOS LADIES BLUE WHITE STRIPED JERSEY PLAYSUIT...\n",
       "                              ...                        \n",
       "5995                  Cisco 72-4226-01 Cascade Cable 50cm\n",
       "5996    Sea Gems Gift Boxed Genuine Crystal Set Rose &...\n",
       "5997          Polar FT2 Heart Rate Monitor Blue Strap NEW\n",
       "5998    Glorafilia Arts and Craft Floral Needlepoint T...\n",
       "5999    Hidden Fashion Womens Mid Rise Animal Leopard ...\n",
       "Name: origin_title, Length: 6000, dtype: object"
      ]
     },
     "execution_count": 31,
     "metadata": {},
     "output_type": "execute_result"
    }
   ],
   "source": [
    "df[df.index.isin(test_index)].reindex(test_index).reset_index().origin_title"
   ]
  },
  {
   "cell_type": "code",
   "execution_count": null,
   "metadata": {},
   "outputs": [],
   "source": []
  },
  {
   "cell_type": "code",
   "execution_count": null,
   "metadata": {},
   "outputs": [],
   "source": []
  }
 ],
 "metadata": {
  "kernelspec": {
   "display_name": "Python 3",
   "language": "python",
   "name": "python3"
  },
  "language_info": {
   "codemirror_mode": {
    "name": "ipython",
    "version": 3
   },
   "file_extension": ".py",
   "mimetype": "text/x-python",
   "name": "python",
   "nbconvert_exporter": "python",
   "pygments_lexer": "ipython3",
   "version": "3.7.5"
  }
 },
 "nbformat": 4,
 "nbformat_minor": 4
}
