{
 "cells": [
  {
   "cell_type": "code",
   "execution_count": 3,
   "metadata": {},
   "outputs": [],
   "source": [
    "import pandas as pd\n",
    "from sqlalchemy import create_engine\n",
    "from sqlalchemy.pool import NullPool\n",
    "import matplotlib as plt\n",
    "import matplotlib.pylab as plt\n",
    "import seaborn as sns\n",
    "\n",
    "from datetime import date, timedelta\n"
   ]
  },
  {
   "cell_type": "code",
   "execution_count": 56,
   "metadata": {},
   "outputs": [
    {
     "name": "stdout",
     "output_type": "stream",
     "text": [
      "2020-08-12\n"
     ]
    }
   ],
   "source": [
    "date = date.today() - timedelta(days = 7)\n",
    "print(date)"
   ]
  },
  {
   "cell_type": "markdown",
   "metadata": {},
   "source": [
    "일주일 전 같은 요일 대상 가장 많이 노출된 키워드(ref_term) 1000개 기준  \n",
    "노출된 사용자의 나이, 성별"
   ]
  },
  {
   "cell_type": "code",
   "execution_count": 65,
   "metadata": {},
   "outputs": [],
   "source": [
    "q = '''\n",
    "SELECT i.imp_id,\n",
    "       i.ref_term,\n",
    "       t.imp_cnt,\n",
    "       i.device_type,\n",
    "       CASE\n",
    "           WHEN u.sex = 1 THEN 'female'\n",
    "           WHEN u.sex = 2 THEN 'male'\n",
    "           ELSE 'none'\n",
    "       END AS sex,\n",
    "       Coalesce(NULL, Ceil((Extract(DAY\n",
    "                                    FROM Getdate() - u.birthdate :: timestamptz) / 365.25)), 0) AS age_detail\n",
    "FROM bun_log_db.app_event_type_impression i\n",
    "JOIN\n",
    "  (SELECT ref_term,\n",
    "          count(*) AS imp_cnt\n",
    "   FROM bun_log_db.app_event_type_impression\n",
    "   WHERE ref_term IS NOT NULL\n",
    "     AND device_type IN ('a',\n",
    "                         'i')\n",
    "     AND YEAR||MONTH||DAY = '20200810'\n",
    "   GROUP BY 1\n",
    "   ORDER BY count(*) DESC\n",
    "   LIMIT 1000) t ON i.ref_term = t.ref_term\n",
    "JOIN service1_quicket.user_extra_info u ON i.user_id = u.uid\n",
    "WHERE i.year||i.month||i.day = '20200810'\n",
    "  AND i.device_type IN ('a',\n",
    "                        'i')\n",
    "  AND u.is_identification = 1\n",
    "  AND To_date(u.birthdate, 'YYYY-MM-DD') between '1930-01-01' and '2010-12-31'\n",
    "'''.format('\\'' + date.strftime('%Y%m%d') + '\\'', '\\'' + date.strftime('%Y%m%d') + '\\'')\n",
    "\n",
    "df = pd.read_sql(q, con=bun_dw)"
   ]
  },
  {
   "cell_type": "code",
   "execution_count": 59,
   "metadata": {},
   "outputs": [],
   "source": [
    "# df.to_csv('df.csv', index=False)"
   ]
  },
  {
   "cell_type": "code",
   "execution_count": 60,
   "metadata": {},
   "outputs": [
    {
     "data": {
      "text/html": [
       "<div>\n",
       "<style scoped>\n",
       "    .dataframe tbody tr th:only-of-type {\n",
       "        vertical-align: middle;\n",
       "    }\n",
       "\n",
       "    .dataframe tbody tr th {\n",
       "        vertical-align: top;\n",
       "    }\n",
       "\n",
       "    .dataframe thead th {\n",
       "        text-align: right;\n",
       "    }\n",
       "</style>\n",
       "<table border=\"1\" class=\"dataframe\">\n",
       "  <thead>\n",
       "    <tr style=\"text-align: right;\">\n",
       "      <th></th>\n",
       "      <th>ref_term</th>\n",
       "      <th>imp_cnt</th>\n",
       "      <th>device_type</th>\n",
       "      <th>sex</th>\n",
       "      <th>age_detail</th>\n",
       "      <th>age</th>\n",
       "    </tr>\n",
       "  </thead>\n",
       "  <tbody>\n",
       "    <tr>\n",
       "      <th>0</th>\n",
       "      <td>280</td>\n",
       "      <td>73539</td>\n",
       "      <td>a</td>\n",
       "      <td>male</td>\n",
       "      <td>39.0</td>\n",
       "      <td>30</td>\n",
       "    </tr>\n",
       "    <tr>\n",
       "      <th>1</th>\n",
       "      <td>플레따</td>\n",
       "      <td>19730</td>\n",
       "      <td>i</td>\n",
       "      <td>female</td>\n",
       "      <td>24.0</td>\n",
       "      <td>20</td>\n",
       "    </tr>\n",
       "    <tr>\n",
       "      <th>2</th>\n",
       "      <td>327</td>\n",
       "      <td>51838</td>\n",
       "      <td>a</td>\n",
       "      <td>male</td>\n",
       "      <td>31.0</td>\n",
       "      <td>30</td>\n",
       "    </tr>\n",
       "    <tr>\n",
       "      <th>3</th>\n",
       "      <td>원피스</td>\n",
       "      <td>410746</td>\n",
       "      <td>a</td>\n",
       "      <td>female</td>\n",
       "      <td>31.0</td>\n",
       "      <td>30</td>\n",
       "    </tr>\n",
       "    <tr>\n",
       "      <th>4</th>\n",
       "      <td>스투시</td>\n",
       "      <td>171450</td>\n",
       "      <td>i</td>\n",
       "      <td>female</td>\n",
       "      <td>21.0</td>\n",
       "      <td>20</td>\n",
       "    </tr>\n",
       "  </tbody>\n",
       "</table>\n",
       "</div>"
      ],
      "text/plain": [
       "  ref_term  imp_cnt device_type     sex  age_detail  age\n",
       "0      280    73539           a    male        39.0   30\n",
       "1      플레따    19730           i  female        24.0   20\n",
       "2      327    51838           a    male        31.0   30\n",
       "3      원피스   410746           a  female        31.0   30\n",
       "4      스투시   171450           i  female        21.0   20"
      ]
     },
     "execution_count": 60,
     "metadata": {},
     "output_type": "execute_result"
    }
   ],
   "source": [
    "df.head()"
   ]
  },
  {
   "cell_type": "code",
   "execution_count": 61,
   "metadata": {},
   "outputs": [
    {
     "name": "stdout",
     "output_type": "stream",
     "text": [
      "female: 42.79912025089407\n",
      "male: 55.98956543304205\n",
      "none: 1.2113143160638788\n"
     ]
    }
   ],
   "source": [
    "print('female:', df[df['sex'] == 'female'].shape[0]/df.shape[0]*100)\n",
    "print('male:', df[df['sex'] == 'male'].shape[0]/df.shape[0]*100)\n",
    "print('none:', df[df['sex'] == 'none'].shape[0]/df.shape[0]*100)"
   ]
  },
  {
   "cell_type": "code",
   "execution_count": 62,
   "metadata": {},
   "outputs": [
    {
     "name": "stdout",
     "output_type": "stream",
     "text": [
      "android: 51.26416448742286\n",
      "iphone: 48.73583551257713\n"
     ]
    }
   ],
   "source": [
    "print('android:', df[df['device_type'] == 'a'].shape[0]/df.shape[0]*100)\n",
    "print('iphone:', df[df['device_type'] == 'i'].shape[0]/df.shape[0]*100)"
   ]
  },
  {
   "cell_type": "code",
   "execution_count": 63,
   "metadata": {},
   "outputs": [
    {
     "data": {
      "text/plain": [
       "count    1.395170e+07\n",
       "mean     2.755752e+01\n",
       "std      9.356760e+00\n",
       "min      1.100000e+01\n",
       "25%      2.100000e+01\n",
       "50%      2.700000e+01\n",
       "75%      3.000000e+01\n",
       "max      9.100000e+01\n",
       "Name: age_detail, dtype: float64"
      ]
     },
     "execution_count": 63,
     "metadata": {},
     "output_type": "execute_result"
    }
   ],
   "source": [
    "df['age_detail'] = df['age_detail'].astype(int)\n",
    "df['age_detail'].describe()"
   ]
  },
  {
   "cell_type": "code",
   "execution_count": 68,
   "metadata": {},
   "outputs": [
    {
     "name": "stdout",
     "output_type": "stream",
     "text": [
      "10: 17.805826631483164\n",
      "20: 55.614787884346164\n",
      "30: 14.330092741674688\n",
      "40: 12.249292742495987\n"
     ]
    }
   ],
   "source": [
    "print('10:', df[df['age'] == 10].shape[0]/df.shape[0]*100)\n",
    "print('20:', df[df['age'] == 20].shape[0]/df.shape[0]*100)\n",
    "print('30:', df[df['age'] == 30].shape[0]/df.shape[0]*100)\n",
    "print('40:', df[df['age'] == 40].shape[0]/df.shape[0]*100)"
   ]
  },
  {
   "cell_type": "code",
   "execution_count": 73,
   "metadata": {},
   "outputs": [
    {
     "name": "stdout",
     "output_type": "stream",
     "text": [
      "coefficient of determination: 0.00010297601925890465\n"
     ]
    }
   ],
   "source": [
    "from sklearn.linear_model import LinearRegression\n",
    "import numpy as np\n",
    "\n",
    "x = np.array(df['age_detail']).reshape((-1, 1))\n",
    "y = np.array(df['imp_cnt'])\n",
    "lr = LinearRegression()\n",
    "lr.fit(x, y)\n",
    "print('coefficient of determination:', lr.score(x, y))"
   ]
  },
  {
   "cell_type": "code",
   "execution_count": 76,
   "metadata": {},
   "outputs": [
    {
     "name": "stdout",
     "output_type": "stream",
     "text": [
      "79758.48750199807\n",
      "[-93.08918924]\n"
     ]
    }
   ],
   "source": [
    "print(lr.intercept_)\n",
    "print(lr.coef_)"
   ]
  },
  {
   "cell_type": "code",
   "execution_count": null,
   "metadata": {},
   "outputs": [],
   "source": []
  },
  {
   "cell_type": "code",
   "execution_count": 124,
   "metadata": {},
   "outputs": [],
   "source": [
    "keywords = df['ref_term'].unique()"
   ]
  },
  {
   "cell_type": "code",
   "execution_count": 362,
   "metadata": {
    "scrolled": true
   },
   "outputs": [],
   "source": [
    "keywords_df = df.groupby('ref_term', as_index=False)['imp_cnt'].count().sort_values('imp_cnt', ascending=False).reset_index()"
   ]
  },
  {
   "cell_type": "code",
   "execution_count": 363,
   "metadata": {},
   "outputs": [
    {
     "data": {
      "text/html": [
       "<div>\n",
       "<style scoped>\n",
       "    .dataframe tbody tr th:only-of-type {\n",
       "        vertical-align: middle;\n",
       "    }\n",
       "\n",
       "    .dataframe tbody tr th {\n",
       "        vertical-align: top;\n",
       "    }\n",
       "\n",
       "    .dataframe thead th {\n",
       "        text-align: right;\n",
       "    }\n",
       "</style>\n",
       "<table border=\"1\" class=\"dataframe\">\n",
       "  <thead>\n",
       "    <tr style=\"text-align: right;\">\n",
       "      <th></th>\n",
       "      <th>index</th>\n",
       "      <th>ref_term</th>\n",
       "      <th>imp_cnt</th>\n",
       "    </tr>\n",
       "  </thead>\n",
       "  <tbody>\n",
       "    <tr>\n",
       "      <th>0</th>\n",
       "      <td>175</td>\n",
       "      <td>나이키</td>\n",
       "      <td>196007</td>\n",
       "    </tr>\n",
       "    <tr>\n",
       "      <th>1</th>\n",
       "      <td>725</td>\n",
       "      <td>원피스</td>\n",
       "      <td>194446</td>\n",
       "    </tr>\n",
       "    <tr>\n",
       "      <th>2</th>\n",
       "      <td>620</td>\n",
       "      <td>아이폰</td>\n",
       "      <td>170246</td>\n",
       "    </tr>\n",
       "    <tr>\n",
       "      <th>3</th>\n",
       "      <td>820</td>\n",
       "      <td>카드지갑</td>\n",
       "      <td>148864</td>\n",
       "    </tr>\n",
       "    <tr>\n",
       "      <th>4</th>\n",
       "      <td>135</td>\n",
       "      <td>구찌</td>\n",
       "      <td>132215</td>\n",
       "    </tr>\n",
       "  </tbody>\n",
       "</table>\n",
       "</div>"
      ],
      "text/plain": [
       "   index ref_term  imp_cnt\n",
       "0    175      나이키   196007\n",
       "1    725      원피스   194446\n",
       "2    620      아이폰   170246\n",
       "3    820     카드지갑   148864\n",
       "4    135       구찌   132215"
      ]
     },
     "execution_count": 363,
     "metadata": {},
     "output_type": "execute_result"
    }
   ],
   "source": [
    "keywords_df.head()"
   ]
  },
  {
   "cell_type": "code",
   "execution_count": 368,
   "metadata": {},
   "outputs": [
    {
     "data": {
      "text/plain": [
       "0"
      ]
     },
     "execution_count": 368,
     "metadata": {},
     "output_type": "execute_result"
    }
   ],
   "source": [
    "keywords_df[keywords_df['ref_term'] == '나이키'].index[0]"
   ]
  },
  {
   "cell_type": "code",
   "execution_count": 370,
   "metadata": {},
   "outputs": [
    {
     "data": {
      "text/plain": [
       "196007"
      ]
     },
     "execution_count": 370,
     "metadata": {},
     "output_type": "execute_result"
    }
   ],
   "source": [
    "keywords_df[keywords_df['ref_term'] == '나이키']['imp_cnt'][0]"
   ]
  },
  {
   "cell_type": "code",
   "execution_count": 323,
   "metadata": {
    "scrolled": true
   },
   "outputs": [
    {
     "data": {
      "text/plain": [
       "device_type\n",
       "a    0.508672\n",
       "i    0.491328\n",
       "Name: imp_id, dtype: float64"
      ]
     },
     "execution_count": 323,
     "metadata": {},
     "output_type": "execute_result"
    }
   ],
   "source": [
    "df.groupby('device_type')['imp_id'].agg(lambda x: len(x)/len(df))"
   ]
  },
  {
   "cell_type": "code",
   "execution_count": null,
   "metadata": {},
   "outputs": [],
   "source": []
  },
  {
   "cell_type": "code",
   "execution_count": 327,
   "metadata": {},
   "outputs": [],
   "source": [
    "keyword_rank = df.groupby('ref_term', as_index=False)['imp_cnt'].count().sort_values('imp_cnt', ascending=False)['ref_term'].tolist()"
   ]
  },
  {
   "cell_type": "code",
   "execution_count": 340,
   "metadata": {
    "scrolled": true
   },
   "outputs": [
    {
     "data": {
      "text/plain": [
       "521"
      ]
     },
     "execution_count": 340,
     "metadata": {},
     "output_type": "execute_result"
    }
   ],
   "source": [
    "keyword_rank.index('나이키에어맥스97') + 1"
   ]
  },
  {
   "cell_type": "code",
   "execution_count": 341,
   "metadata": {},
   "outputs": [
    {
     "data": {
      "text/plain": [
       "994"
      ]
     },
     "execution_count": 341,
     "metadata": {},
     "output_type": "execute_result"
    }
   ],
   "source": [
    "len(keyword_rank)"
   ]
  },
  {
   "cell_type": "code",
   "execution_count": null,
   "metadata": {},
   "outputs": [],
   "source": []
  },
  {
   "cell_type": "code",
   "execution_count": null,
   "metadata": {},
   "outputs": [],
   "source": []
  },
  {
   "cell_type": "markdown",
   "metadata": {},
   "source": [
    "# Regression from sampling"
   ]
  },
  {
   "cell_type": "code",
   "execution_count": 334,
   "metadata": {},
   "outputs": [
    {
     "name": "stdout",
     "output_type": "stream",
     "text": [
      "244\n",
      "\n",
      "11\n",
      "5\n",
      "30\n",
      "111\n",
      "111\n",
      "169\n",
      "269\n",
      "89\n",
      "508\n",
      "179\n",
      "877\n",
      "877\n",
      "117\n",
      "229\n",
      "140\n",
      "40\n",
      "312\n",
      "368\n",
      "200\n",
      "184\n",
      "41\n",
      "158\n",
      "590\n",
      "864\n",
      "849\n",
      "849\n",
      "129\n",
      "520\n"
     ]
    }
   ],
   "source": [
    "l = ['아이폰 11',\n",
    "'나이키 에어맥스 97',\n",
    "'스투시',\n",
    "'구찌',\n",
    "'에어팟프로',\n",
    "'갤럭시',\n",
    "'갤럭시',\n",
    "'루이비통가방',\n",
    "'아이패드 프로',\n",
    "'아이패드 에어3',\n",
    "'게이밍 노트북',\n",
    "'구찌시계',\n",
    "'애플워치',\n",
    "'애플워치',\n",
    "'꼼데가르송 반팔',\n",
    "'꼼데가르송 가디건',\n",
    "'반지',\n",
    "'가방',\n",
    "'샤넬가방',\n",
    "'맥북프로',\n",
    "'닌텐도 스위치 라이트',\n",
    "'자라 원피스',\n",
    "'후드티',\n",
    "'후드집업',\n",
    "'스피커',\n",
    "'뉴발란스 327',\n",
    "'방탄',\n",
    "'방탄',\n",
    "'모자',\n",
    "'롤 스킨']\n",
    "\n",
    "for i in l:\n",
    "    if i in keyword_rank:\n",
    "        print(keyword_rank.index(i)+1)\n",
    "    elif i+' ' in keyword_rank:\n",
    "        print(keyword_rank.index(i+' ')+1)\n",
    "    else: \n",
    "        print()"
   ]
  },
  {
   "cell_type": "code",
   "execution_count": 343,
   "metadata": {},
   "outputs": [],
   "source": [
    "rank1= [3,\n",
    "1,\n",
    "1,\n",
    "4,\n",
    "7,\n",
    "36,\n",
    "50,\n",
    "40,\n",
    "21,\n",
    "21,\n",
    "9,\n",
    "6,\n",
    "92,\n",
    "162,\n",
    "113,\n",
    "113,\n",
    "120,\n",
    "5,\n",
    "40,\n",
    "126,\n",
    "97,\n",
    "12,\n",
    "1,\n",
    "1,\n",
    "293,\n",
    "489,\n",
    "714,\n",
    "213,\n",
    "53,\n",
    "127]\n",
    "\n",
    "rank2 = [244,\n",
    "521,\n",
    "11,\n",
    "5,\n",
    "30,\n",
    "111,\n",
    "111,\n",
    "169,\n",
    "269,\n",
    "89,\n",
    "508,\n",
    "179,\n",
    "877,\n",
    "877,\n",
    "117,\n",
    "229,\n",
    "140,\n",
    "40,\n",
    "312,\n",
    "368,\n",
    "200,\n",
    "184,\n",
    "41,\n",
    "158,\n",
    "590,\n",
    "864,\n",
    "849,\n",
    "849,\n",
    "129,\n",
    "520]\n",
    "\n",
    "diff = [x2-x1 for (x1, x2) in zip(rank1, rank2)]"
   ]
  },
  {
   "cell_type": "code",
   "execution_count": 347,
   "metadata": {},
   "outputs": [],
   "source": [
    "perc = [90,\n",
    "95,\n",
    "54,\n",
    "12,\n",
    "56,\n",
    "43,\n",
    "31,\n",
    "54,\n",
    "77,\n",
    "55,\n",
    "89,\n",
    "84,\n",
    "94,\n",
    "92,\n",
    "3,\n",
    "35,\n",
    "9,\n",
    "64,\n",
    "71,\n",
    "52,\n",
    "34,\n",
    "76,\n",
    "76,\n",
    "88,\n",
    "41,\n",
    "76,\n",
    "46,\n",
    "80,\n",
    "35,\n",
    "64]"
   ]
  },
  {
   "cell_type": "code",
   "execution_count": 348,
   "metadata": {},
   "outputs": [
    {
     "name": "stdout",
     "output_type": "stream",
     "text": [
      "coefficient of determination: 0.44794099946264543\n"
     ]
    }
   ],
   "source": [
    "from sklearn.linear_model import LinearRegression\n",
    "import numpy as np\n",
    "\n",
    "x = np.array(diff).reshape((-1, 1))\n",
    "y = np.array(perc)\n",
    "lr = LinearRegression()\n",
    "lr.fit(x, y)\n",
    "print('coefficient of determination:', lr.score(x, y))"
   ]
  },
  {
   "cell_type": "code",
   "execution_count": 349,
   "metadata": {},
   "outputs": [
    {
     "name": "stdout",
     "output_type": "stream",
     "text": [
      "41.47784223206949\n",
      "[0.08029976]\n"
     ]
    }
   ],
   "source": [
    "print(lr.intercept_)\n",
    "print(lr.coef_)"
   ]
  },
  {
   "cell_type": "code",
   "execution_count": 351,
   "metadata": {},
   "outputs": [
    {
     "data": {
      "text/plain": [
       "<matplotlib.collections.PathCollection at 0x5876d22d0>"
      ]
     },
     "execution_count": 351,
     "metadata": {},
     "output_type": "execute_result"
    },
    {
     "data": {
      "image/png": "[encoded data removed]",
      "text/plain": [
       "<Figure size 432x288 with 1 Axes>"
      ]
     },
     "metadata": {
      "needs_background": "light"
     },
     "output_type": "display_data"
    }
   ],
   "source": [
    "import matplotlib.pyplot as plt\n",
    "\n",
    "plt.scatter(diff, perc)"
   ]
  },
  {
   "cell_type": "code",
   "execution_count": 356,
   "metadata": {},
   "outputs": [
    {
     "data": {
      "text/plain": [
       "array([0.12402657, 0.01155395])"
      ]
     },
     "execution_count": 356,
     "metadata": {},
     "output_type": "execute_result"
    }
   ],
   "source": [
    "np.polyfit(np.log(np.array(diff)), np.array([i/100 for i in perc]), 1)"
   ]
  },
  {
   "cell_type": "markdown",
   "metadata": {},
   "source": [
    "# rank 1 & rank 2"
   ]
  },
  {
   "cell_type": "code",
   "execution_count": 359,
   "metadata": {},
   "outputs": [
    {
     "data": {
      "text/plain": [
       "{'125': ['125'],\n",
       " '125cc': ['125cc', '125'],\n",
       " '14k': ['14k'],\n",
       " '14k 목걸이': ['14k', '목걸이', '14k 목걸이'],\n",
       " '14k귀걸이': ['14k', '귀걸이', '14k귀걸이'],\n",
       " '14k목걸이 ': ['14k', '목걸이', '14k목걸이 '],\n",
       " '14k반지': ['14k', '반지', '14k반지'],\n",
       " '14k팔찌': ['14k', '14k팔찌', '팔찌'],\n",
       " '18k': ['18k'],\n",
       " '18k목걸이': ['18k목걸이', '18k', '목걸이'],\n",
       " '18k팔찌': ['팔찌', '18k', '18k팔찌'],\n",
       " '18인치휠': ['18인치휠'],\n",
       " '19인치휠': ['19인치휠'],\n",
       " '240': ['240'],\n",
       " '245': ['245'],\n",
       " '250': ['250'],\n",
       " '260': ['260'],\n",
       " '265': ['265'],\n",
       " '270': ['270'],\n",
       " '275': ['275'],\n",
       " '280': ['280'],\n",
       " '285': ['285'],\n",
       " '290': ['290'],\n",
       " '327': ['327'],\n",
       " '87mm': ['87mm'],\n",
       " '98도씨': ['98도씨'],\n",
       " 'acg ': ['acg '],\n",
       " 'bmw': ['bmw'],\n",
       " 'bmx': ['bmx'],\n",
       " 'bt21': ['bt21'],\n",
       " 'bts ': ['bts '],\n",
       " 'cbr': ['cbr'],\n",
       " 'cbr 125': ['cbr', '125', 'cbr 125'],\n",
       " 'cbr125': ['cbr125', 'cbr', '125'],\n",
       " 'cgv': ['cgv'],\n",
       " 'cos ': ['cos '],\n",
       " 'cp컴퍼니 ': ['cp컴퍼니 '],\n",
       " 'gtx1060': ['gtx1060'],\n",
       " 'h&m': ['h&m'],\n",
       " 'iab ': ['iab '],\n",
       " 'iab studio ': ['iab ', 'iab studio '],\n",
       " 'iwc': ['iwc'],\n",
       " 'k5': ['k5'],\n",
       " 'k7': ['k7'],\n",
       " 'lmc': ['lmc'],\n",
       " 'lmml': ['lmml'],\n",
       " 'lp': ['lp'],\n",
       " 'lvc': ['lvc'],\n",
       " 'mcm': ['mcm'],\n",
       " 'mlb': ['mlb'],\n",
       " 'mlb모자': ['mlb', 'mlb모자', '모자'],\n",
       " 'mngu': ['mngu'],\n",
       " 'mtb': ['mtb'],\n",
       " 'mtb자전거': ['mtb자전거', 'mtb'],\n",
       " 'nct': ['nct'],\n",
       " 'nmax': ['nmax'],\n",
       " 'oioi': ['oioi'],\n",
       " 'pcx': ['pcx'],\n",
       " 'pcx125': ['pcx', 'pcx125', '125'],\n",
       " 'ps4 ': ['ps4 '],\n",
       " 'pxg': ['pxg'],\n",
       " 'r3': ['r3'],\n",
       " 'rc카': ['rc카'],\n",
       " 's10': ['s10'],\n",
       " 's10 5g ': ['s10', 's10 5g '],\n",
       " 's20 ': ['s20 '],\n",
       " 's8': ['s8'],\n",
       " 's9': ['s9'],\n",
       " 'sf9': ['sf9'],\n",
       " 'sjsj': ['sjsj'],\n",
       " 'sm5 ': ['sm5 '],\n",
       " 'ssd': ['ssd'],\n",
       " 'tv': ['tv'],\n",
       " 'v50': ['v50'],\n",
       " 'xl': ['xl'],\n",
       " 'xmax': ['xmax'],\n",
       " 'xxl': ['xl', 'xxl'],\n",
       " 'z플립': ['z플립'],\n",
       " '가구': ['가구'],\n",
       " '가내스라': ['가내스라'],\n",
       " '가디건': ['가디건'],\n",
       " '가면라이더': ['가면라이더'],\n",
       " '가발': ['가발'],\n",
       " '가방': ['가방'],\n",
       " '가스건 ': ['가스건 '],\n",
       " '가죽자켓 ': ['자켓', '가죽자켓 '],\n",
       " '갓세븐': ['갓세븐'],\n",
       " '강아지': ['강아지'],\n",
       " '개인렌트': ['개인렌트'],\n",
       " '갤럭시': ['갤럭시'],\n",
       " '갤럭시 버즈 ': ['버즈', '갤럭시', '갤럭시 버즈 '],\n",
       " '갤럭시 버즈 라이브 ': ['버즈 라이브', '버즈', '갤럭시', '갤럭시 버즈 ', '갤럭시 버즈 라이브 '],\n",
       " '갤럭시 버즈 플러스': ['갤럭시 버즈 플러스', '버즈', '갤럭시', '갤럭시 버즈 '],\n",
       " '갤럭시s10': ['갤럭시s10', 's10', '갤럭시'],\n",
       " '갤럭시s20': ['갤럭시s20', '갤럭시'],\n",
       " '갤럭시s8': ['갤럭시', '갤럭시s8', 's8'],\n",
       " '갤럭시s9': ['갤럭시', '갤럭시s9', 's9'],\n",
       " '갤럭시z플립': ['z플립', '갤럭시', '갤럭시z플립'],\n",
       " '갤럭시노트10': ['갤럭시노트10', '노트10', '갤럭시'],\n",
       " '갤럭시노트10플러스': ['갤럭시노트10', '노트10', '갤럭시노트10플러스', '갤럭시', '노트10플러스'],\n",
       " '갤럭시버즈': ['갤럭시버즈', '버즈', '갤럭시'],\n",
       " '갤럭시버즈플러스': ['갤럭시버즈', '버즈', '버즈플러스', '갤럭시', '갤럭시버즈플러스'],\n",
       " '갤럭시워치': ['갤럭시', '갤럭시워치'],\n",
       " '갤럭시탭': ['갤럭시탭', '갤럭시'],\n",
       " '갤럭시탭s6': ['갤럭시탭', '갤럭시탭s6', '갤럭시'],\n",
       " '갤럭시폴드': ['갤럭시폴드', '갤럭시'],\n",
       " '건담': ['건담'],\n",
       " '건조기': ['건조기'],\n",
       " '게이밍 노트북': ['노트북', '게이밍 노트북'],\n",
       " '게이밍노트북 ': ['노트북', '게이밍노트북 '],\n",
       " '게이밍컴퓨터': ['게이밍컴퓨터'],\n",
       " '겐조': ['겐조'],\n",
       " '겐조 맨투맨': ['맨투맨', '겐조', '겐조 맨투맨'],\n",
       " '고데기': ['고데기'],\n",
       " '고야드': ['고야드'],\n",
       " '고야드 카드지갑': ['카드지갑', '지갑', '고야드 카드지갑', '고야드'],\n",
       " '고야드 클러치': ['클러치', '고야드', '고야드 클러치'],\n",
       " '고양이': ['고양이'],\n",
       " '고어텍스': ['고어텍스'],\n",
       " '골든구스 ': ['골든구스 '],\n",
       " '골프': ['골프'],\n",
       " '골프백': ['골프백', '골프'],\n",
       " '골프웨어': ['골프웨어', '골프'],\n",
       " '골프채': ['골프', '골프채'],\n",
       " '골프화': ['골프', '골프화'],\n",
       " '공구': ['공구'],\n",
       " '공기계 ': ['공기계 '],\n",
       " '공기청정기': ['공기청정기'],\n",
       " '광주': ['광주'],\n",
       " '교복': ['교복'],\n",
       " '교복치마': ['치마', '교복', '교복치마'],\n",
       " '교신': ['교신'],\n",
       " '구관': ['구관'],\n",
       " '구미': ['구미'],\n",
       " '구즈': ['구즈'],\n",
       " '구찌': ['구찌'],\n",
       " '구찌 라이톤 ': ['구찌', '구찌 라이톤 '],\n",
       " '구찌 반지': ['구찌', '구찌 반지', '반지'],\n",
       " '구찌 반지갑': ['반지갑', '지갑', '구찌', '구찌 반지', '반지', '구찌 반지갑'],\n",
       " '구찌 스니커즈': ['구찌', '스니커즈', '구찌 스니커즈'],\n",
       " '구찌 시계': ['구찌', '시계', '구찌 시계'],\n",
       " '구찌 지갑': ['지갑', '구찌', '구찌 지갑'],\n",
       " '구찌 카드지갑': ['카드지갑', '지갑', '구찌', '구찌 카드지갑'],\n",
       " '구찌 클러치': ['클러치', '구찌', '구찌 클러치'],\n",
       " '구찌가방': ['가방', '구찌', '구찌가방'],\n",
       " '구찌모자': ['구찌', '구찌모자', '모자'],\n",
       " '구찌시계': ['구찌', '시계', '구찌시계'],\n",
       " '구찌지갑 ': ['지갑', '구찌', '구찌지갑 '],\n",
       " '구찌클러치': ['클러치', '구찌', '구찌클러치'],\n",
       " '구체관절인형': ['구체관절인형'],\n",
       " '국내배송': ['국내배송'],\n",
       " '국대': ['국대'],\n",
       " '귀걸이': ['귀걸이'],\n",
       " '귀멸의 칼날': ['귀멸의 칼날'],\n",
       " '귀멸의칼날 ': ['귀멸의칼날 '],\n",
       " '그래픽카드 ': ['그래픽카드 '],\n",
       " '그릇': ['그릇'],\n",
       " '그립톡': ['그립톡'],\n",
       " '글러브': ['글러브'],\n",
       " '금목걸이': ['목걸이', '금목걸이'],\n",
       " '금반지': ['반지', '금반지'],\n",
       " '금팔찌': ['팔찌', '금팔찌'],\n",
       " '급처': ['급처'],\n",
       " '기타': ['기타'],\n",
       " '기프티콘': ['기프티콘'],\n",
       " '김치냉장고': ['냉장고', '김치냉장고'],\n",
       " '까르띠에': ['까르띠에'],\n",
       " '까르띠에 팔찌': ['까르띠에', '팔찌', '까르띠에 팔찌'],\n",
       " '까르띠에시계': ['까르띠에', '시계', '까르띠에시계'],\n",
       " '꼼데': ['꼼데'],\n",
       " '꼼데가르송': ['꼼데가르송', '꼼데'],\n",
       " '꼼데가르송 가디건': ['꼼데가르송 가디건', '꼼데가르송', '가디건', '꼼데'],\n",
       " '꼼데가르송 반팔': ['꼼데가르송', '꼼데가르송 반팔', '꼼데'],\n",
       " '나시': ['나시'],\n",
       " '나시원피스': ['원피스', '나시', '나시원피스'],\n",
       " '나이키': ['나이키'],\n",
       " '나이키 더블스우시 ': ['나이키', '나이키 더블스우시 '],\n",
       " '나이키 데이브레이크': ['나이키 데이브레이크', '나이키'],\n",
       " '나이키 맨투맨': ['맨투맨', '나이키', '나이키 맨투맨'],\n",
       " '나이키 모자': ['나이키', '나이키 모자', '모자'],\n",
       " '나이키 바람막이': ['나이키', '나이키 바람막이', '바람막이'],\n",
       " '나이키 바지': ['나이키', '나이키 바지'],\n",
       " '나이키 반바지': ['나이키', '나이키 반바지'],\n",
       " '나이키 반팔': ['나이키', '나이키 반팔'],\n",
       " '나이키 베이퍼맥스': ['나이키', '나이키 베이퍼맥스', '베이퍼맥스'],\n",
       " '나이키 사카이 ': ['나이키', '사카이', '나이키 사카이 '],\n",
       " '나이키 스투시 ': ['스투시', '나이키', '나이키 스투시 '],\n",
       " '나이키 슬리퍼': ['나이키', '슬리퍼', '나이키 슬리퍼'],\n",
       " '나이키 신발': ['나이키', '신발', '나이키 신발'],\n",
       " '나이키 아노락': ['나이키', '나이키 아노락', '아노락'],\n",
       " '나이키 에어로로프트': ['나이키', '나이키 에어로로프트'],\n",
       " '나이키 에어맥스': ['나이키', '나이키 에어맥스'],\n",
       " '나이키 에어포스': ['나이키', '나이키 에어포스'],\n",
       " '나이키 오프화이트 ': ['나이키', '오프화이트', '나이키 오프화이트 '],\n",
       " '나이키 운동화': ['나이키', '나이키 운동화', '운동화'],\n",
       " '나이키 윈드러너': ['나이키', '나이키 윈드러너'],\n",
       " '나이키 조거팬츠': ['나이키', '조거팬츠', '나이키 조거팬츠'],\n",
       " '나이키 테크팩': ['나이키', '나이키 테크팩'],\n",
       " '나이키 후드집업': ['나이키', '후드집업', '나이키 후드집업'],\n",
       " '나이키 후드티': ['나이키', '후드티', '나이키 후드티'],\n",
       " '나이키모자': ['나이키', '모자', '나이키모자'],\n",
       " '나이키바람막이': ['나이키', '나이키바람막이', '바람막이'],\n",
       " '나이키반바지': ['나이키', '나이키반바지'],\n",
       " '나이키에어맥스97': ['나이키', '나이키에어맥스97'],\n",
       " '나이키운동화 ': ['나이키', '운동화', '나이키운동화 '],\n",
       " '낚시대': ['낚시대'],\n",
       " '남자시계': ['시계', '남자시계'],\n",
       " '내셔널지오그래픽': ['내셔널지오그래픽'],\n",
       " '냉장고': ['냉장고'],\n",
       " '널디 ': ['널디 '],\n",
       " '네이더스': ['네이더스'],\n",
       " '네이버후드 ': ['네이버후드 '],\n",
       " '네일': ['네일'],\n",
       " '네일팁': ['네일팁', '네일'],\n",
       " '넷플릭스': ['넷플릭스'],\n",
       " '노벨티': ['노벨티'],\n",
       " '노스페이스 ': ['노스페이스 '],\n",
       " '노스페이스 바람막이': ['바람막이', '노스페이스 바람막이', '노스페이스 '],\n",
       " '노트10': ['노트10'],\n",
       " '노트10플러스': ['노트10', '노트10플러스'],\n",
       " '노트20': ['노트20'],\n",
       " '노트8': ['노트8'],\n",
       " '노트9': ['노트9'],\n",
       " '노트북': ['노트북'],\n",
       " '농구화 ': ['농구화 '],\n",
       " '뉴발란스 ': ['뉴발란스 '],\n",
       " '뉴발란스 327 ': ['327', '뉴발란스 327 ', '뉴발란스 '],\n",
       " '뉴발란스327': ['327', '뉴발란스327'],\n",
       " '뉴에라': ['뉴에라'],\n",
       " '니들스 ': ['니들스 '],\n",
       " '니트': ['니트'],\n",
       " '니트조끼': ['니트조끼', '니트'],\n",
       " '닌텐도': ['닌텐도'],\n",
       " '닌텐도 3ds': ['닌텐도', '닌텐도 3ds'],\n",
       " '닌텐도 스위치 ': ['닌텐도 스위치 ', '스위치', '닌텐도'],\n",
       " '닌텐도 스위치 동물의숲 에디션': ['동물의숲', '닌텐도 스위치 ', '스위치', '닌텐도', '닌텐도 스위치 동물의숲 에디션'],\n",
       " '닌텐도 스위치 라이트': ['닌텐도 스위치 라이트', '닌텐도 스위치 ', '스위치', '닌텐도'],\n",
       " '닌텐도스위치 ': ['닌텐도스위치 ', '스위치', '닌텐도'],\n",
       " '다꾸': ['다꾸'],\n",
       " '다마고치': ['다마고치'],\n",
       " '다이나핏': ['다이나핏'],\n",
       " '다이어리': ['다이어리'],\n",
       " '다이어트': ['다이어트'],\n",
       " '다크빅토리': ['다크빅토리'],\n",
       " '닥스': ['닥스'],\n",
       " '닥터마틴': ['닥터마틴'],\n",
       " '담전자배': ['담전자배', '전자'],\n",
       " '대구 ': ['대구 '],\n",
       " '대전': ['대전'],\n",
       " '대차': ['대차'],\n",
       " '더보이즈': ['더보이즈'],\n",
       " '더블탭스': ['더블탭스'],\n",
       " '더오픈프로덕트 ': ['더오픈프로덕트 '],\n",
       " '덩크 ': ['덩크 '],\n",
       " '데상트': ['데상트'],\n",
       " '데싱디바': ['데싱디바'],\n",
       " '데이브레이크 ': ['데이브레이크 '],\n",
       " '데이식스 ': ['데이식스 '],\n",
       " '동물의숲': ['동물의숲'],\n",
       " '동전지갑': ['지갑', '동전지갑'],\n",
       " '드래곤볼 ': ['드래곤볼 '],\n",
       " '드래곤볼 피규어': ['드래곤볼 피규어', '드래곤볼 '],\n",
       " '드론': ['드론'],\n",
       " '드바스크': ['드바스크'],\n",
       " '드바스크 팔찌': ['팔찌', '드바스크', '드바스크 팔찌'],\n",
       " '디스이즈네버댓': ['디스이즈네버댓'],\n",
       " '디스퀘어드': ['디스퀘어드'],\n",
       " '디아이콘': ['디아이콘'],\n",
       " '디올 ': ['디올 '],\n",
       " '디올 오블리크': ['디올 ', '디올 오블리크'],\n",
       " '디올 카드지갑': ['카드지갑', '지갑', '디올 ', '디올 카드지갑'],\n",
       " '디올가방': ['가방', '디올가방'],\n",
       " '디월트': ['디월트'],\n",
       " '디즈니': ['디즈니'],\n",
       " '디지몬': ['디지몬'],\n",
       " '디테': ['디테'],\n",
       " '딥디크': ['딥디크'],\n",
       " '떡메': ['떡메'],\n",
       " '라벨르블랑 ': ['라벨르블랑 '],\n",
       " '라우코하우스': ['라우코하우스'],\n",
       " '라이젠': ['라이젠'],\n",
       " '라코스테': ['라코스테'],\n",
       " '라코스테 가디건': ['라코스테', '가디건', '라코스테 가디건'],\n",
       " '라코스테 원피스': ['원피스', '라코스테', '라코스테 원피스'],\n",
       " '라탄': ['라탄'],\n",
       " '라프시몬스 ': ['라프시몬스 '],\n",
       " '랄프로렌': ['랄프로렌'],\n",
       " '래쉬가드': ['래쉬가드'],\n",
       " '랩원피스': ['원피스', '랩원피스'],\n",
       " '랩핑지': ['랩핑지'],\n",
       " '러브미우 ': ['러브미우 '],\n",
       " '러브비트': ['러브비트'],\n",
       " '럭키슈에뜨 ': ['럭키슈에뜨 '],\n",
       " '런스타': ['런스타'],\n",
       " '레고 ': ['레고 '],\n",
       " '레깅스': ['레깅스'],\n",
       " '레니본': ['레니본'],\n",
       " '레드벨벳': ['레드벨벳'],\n",
       " '레알마드리드': ['레알마드리드'],\n",
       " '레인부츠': ['레인부츠'],\n",
       " '레진 ': ['레진 '],\n",
       " '레플 ': ['레플 '],\n",
       " '로드': ['로드'],\n",
       " '로드자전거': ['로드', '로드자전거'],\n",
       " '로렉스': ['로렉스'],\n",
       " '로렉스시계': ['시계', '로렉스', '로렉스시계'],\n",
       " '로맨틱크라운': ['로맨틱크라운'],\n",
       " '로에베': ['로에베'],\n",
       " '로우클래식': ['로우클래식'],\n",
       " '롤': ['롤'],\n",
       " '롤 계정 ': ['롤', '롤 계정 '],\n",
       " '롤 닉네임': ['롤', '롤 닉네임'],\n",
       " '롤 스킨': ['롤', '롤 스킨'],\n",
       " '롤렉스': ['롤', '롤렉스'],\n",
       " '롱스커트': ['롱스커트'],\n",
       " '롱슬리브 ': ['롱슬리브 '],\n",
       " '롱원피스': ['원피스', '롱원피스'],\n",
       " '롱패딩': ['롱패딩', '패딩'],\n",
       " '루이까또즈': ['루이까또즈'],\n",
       " '루이까또즈 반지갑': ['반지갑', '지갑', '반지', '루이까또즈', '루이까또즈 반지갑'],\n",
       " '루이비통 ': ['루이비통 '],\n",
       " '루이비통 가방': ['가방', '루이비통 가방', '루이비통 '],\n",
       " '루이비통 반지갑': ['반지갑', '지갑', '반지', '루이비통 반지갑', '루이비통 '],\n",
       " '루이비통 장지갑': ['지갑', '장지갑', '루이비통 ', '루이비통 장지갑'],\n",
       " '루이비통 정품': ['루이비통 정품', '정품', '루이비통 '],\n",
       " '루이비통 지갑': ['지갑', '루이비통 지갑', '루이비통 '],\n",
       " '루이비통 카드지갑': ['카드지갑', '지갑', '루이비통 카드지갑', '루이비통 '],\n",
       " '루이비통 크로스백': ['크로스백', '루이비통 크로스백', '루이비통 '],\n",
       " '루이비통 클러치': ['클러치', '루이비통 클러치', '루이비통 '],\n",
       " '루이비통 팔찌': ['팔찌', '루이비통 팔찌', '루이비통 '],\n",
       " '루이비통가방': ['가방', '루이비통가방'],\n",
       " '루이비통지갑': ['지갑', '루이비통지갑'],\n",
       " '르꼬끄 ': ['르꼬끄 '],\n",
       " '르메르': ['르메르'],\n",
       " '리나슈슈 ': ['리나슈슈 '],\n",
       " '리버풀': ['리버풀'],\n",
       " '리본돌': ['리본돌'],\n",
       " '릭오웬스': ['릭오웬스'],\n",
       " '린넨': ['린넨'],\n",
       " '마가린핑거스': ['마가린핑거스'],\n",
       " '마뗑킴': ['마뗑킴'],\n",
       " '마르지엘라': ['마르지엘라'],\n",
       " '마르지엘라 카드지갑': ['카드지갑', '지갑', '마르지엘라', '마르지엘라 카드지갑'],\n",
       " '마리마켓 ': ['마리마켓 '],\n",
       " '마마무': ['마마무'],\n",
       " '마스크': ['마스크'],\n",
       " '마이멜로디': ['마이멜로디'],\n",
       " '마이크': ['마이크'],\n",
       " '마이프로틴': ['프로틴', '마이프로틴'],\n",
       " '마쥬': ['마쥬'],\n",
       " '마크곤잘레스': ['마크곤잘레스'],\n",
       " '만화책': ['만화책'],\n",
       " '맥북': ['맥북'],\n",
       " '맥북프로': ['맥북프로', '맥북'],\n",
       " '맥케이지 딕슨': ['맥케이지 딕슨'],\n",
       " '맥퀸': ['맥퀸'],\n",
       " '맨유': ['맨유'],\n",
       " '맨투맨': ['맨투맨'],\n",
       " '메신저백': ['메신저백'],\n",
       " '메이비베이비 ': ['메이비베이비 '],\n",
       " '메이윤': ['메이윤'],\n",
       " '메이플스토리': ['메이플스토리'],\n",
       " '메종마르지엘라': ['마르지엘라', '메종마르지엘라'],\n",
       " '메종키츠네 ': ['메종키츠네 '],\n",
       " '메트로시티': ['메트로시티'],\n",
       " '메트로시티가방': ['가방', '메트로시티', '메트로시티가방'],\n",
       " '명품': ['명품'],\n",
       " '명품레플리카': ['명품', '명품레플리카'],\n",
       " '모노키니': ['모노키니'],\n",
       " '모니터': ['모니터'],\n",
       " '모닝': ['모닝'],\n",
       " '모동숲 ': ['모동숲 '],\n",
       " '모배': ['모배'],\n",
       " '모자': ['모자'],\n",
       " '모하비': ['모하비'],\n",
       " '목걸이': ['목걸이'],\n",
       " '몽클레어 ': ['몽클레어 '],\n",
       " '몽클레어 바람막이': ['바람막이', '몽클레어 바람막이', '몽클레어 '],\n",
       " '몽클레어 반팔': ['몽클레어 반팔', '몽클레어 '],\n",
       " '몽클레어 패딩 ': ['몽클레어 패딩 ', '패딩', '몽클레어 '],\n",
       " '무료나눔': ['무료나눔'],\n",
       " '무스너클': ['무스너클'],\n",
       " '무스너클 발리스틱': ['무스너클', '무스너클 발리스틱'],\n",
       " '무스너클 버니스웨터 ': ['무스너클 버니스웨터 ', '무스너클'],\n",
       " '무스탕': ['무스탕'],\n",
       " '무인양품': ['무인양품'],\n",
       " '문상': ['문상'],\n",
       " '뮬': ['뮬'],\n",
       " '미뉴에트': ['미뉴에트'],\n",
       " '미니백': ['미니백'],\n",
       " '미니원피스': ['원피스', '미니원피스'],\n",
       " '미닛뮤트': ['미닛뮤트'],\n",
       " '미스치프': ['미스치프'],\n",
       " '미스터트롯': ['미스터트롯'],\n",
       " '미우미우': ['미우미우'],\n",
       " '미즈노': ['미즈노'],\n",
       " '밀크코코아': ['밀크코코아'],\n",
       " '밍크': ['밍크'],\n",
       " '바람막이': ['바람막이'],\n",
       " '바르셀로나': ['바르셀로나'],\n",
       " '바비인형': ['바비인형'],\n",
       " '바온': ['바온'],\n",
       " '반바지 ': ['반바지 '],\n",
       " '반스': ['반스'],\n",
       " '반지': ['반지'],\n",
       " '반지갑': ['반지갑', '지갑', '반지'],\n",
       " '반팔 ': ['반팔 '],\n",
       " '반팔티': ['반팔티'],\n",
       " '발렌시아가': ['발렌시아가'],\n",
       " '발렌시아가 모자': ['발렌시아가', '모자', '발렌시아가 모자'],\n",
       " '발렌시아가 반팔': ['발렌시아가', '발렌시아가 반팔'],\n",
       " '발렌시아가 스피드러너': ['발렌시아가', '발렌시아가 스피드러너'],\n",
       " '발렌시아가 클러치': ['클러치', '발렌시아가 클러치', '발렌시아가'],\n",
       " '발렌시아가 트리플s': ['발렌시아가', '발렌시아가 트리플s'],\n",
       " '발렌티노': ['발렌티노'],\n",
       " '발렌티노 스니커즈': ['스니커즈', '발렌티노', '발렌티노 스니커즈'],\n",
       " '발렌티노 카드지갑': ['카드지갑', '지갑', '발렌티노', '발렌티노 카드지갑'],\n",
       " '발렌티노 클러치': ['클러치', '발렌티노', '발렌티노 클러치'],\n",
       " '방탄 ': ['방탄 '],\n",
       " '방탄 랜박': ['방탄 랜박', '방탄 '],\n",
       " '방탄 비공굿': ['방탄 비공굿', '방탄 '],\n",
       " '방탄 앨범': ['방탄 ', '방탄 앨범'],\n",
       " '방탄 포카': ['방탄 포카', '방탄 '],\n",
       " '방탄소년단 ': ['방탄소년단 '],\n",
       " '방탄소년단 앨범': ['방탄소년단 앨범', '방탄소년단 '],\n",
       " '방탄소년단 포카': ['방탄소년단 포카', '방탄소년단 '],\n",
       " '방탄포카 ': ['방탄포카 '],\n",
       " '배그 계정': ['배그 계정'],\n",
       " '백예린': ['백예린'],\n",
       " '백팩': ['백팩'],\n",
       " '뱃지': ['뱃지'],\n",
       " '버버리': ['버버리'],\n",
       " '버버리 셔츠': ['버버리', '버버리 셔츠', '셔츠'],\n",
       " '버버리 스니커즈': ['스니커즈', '버버리', '버버리 스니커즈'],\n",
       " '버버리가방': ['가방', '버버리가방', '버버리'],\n",
       " '버즈': ['버즈'],\n",
       " '버즈 라이브': ['버즈 라이브', '버즈'],\n",
       " '버즈 플러스 ': ['버즈', '버즈 플러스 '],\n",
       " '버즈라이브': ['버즈', '버즈라이브'],\n",
       " '버즈플러스': ['버즈', '버즈플러스'],\n",
       " '버킷백': ['버킷백'],\n",
       " '버킷햇': ['버킷햇'],\n",
       " '베르사체 ': ['베르사체 '],\n",
       " '베스파 ': ['베스파 '],\n",
       " '베어브릭': ['베어브릭'],\n",
       " '베이비돌': ['베이비돌'],\n",
       " '베이퍼맥스': ['베이퍼맥스'],\n",
       " '베이프 ': ['베이프 '],\n",
       " '베이프 반팔 ': ['베이프 ', '반팔 ', '베이프 반팔 '],\n",
       " '베지터블': ['베지터블'],\n",
       " '베트멍': ['베트멍'],\n",
       " '벤츠': ['벤츠'],\n",
       " '벨트': ['벨트'],\n",
       " '보드게임': ['보드게임'],\n",
       " '보드복': ['보드복'],\n",
       " '보스턴백': ['보스턴백'],\n",
       " '보이져 ': ['보이져 '],\n",
       " '보이져125': ['보이져125', '125'],\n",
       " '보테가베네타': ['보테가베네타'],\n",
       " '보테가베네타 클러치': ['클러치', '보테가베네타', '보테가베네타 클러치'],\n",
       " '본체': ['본체'],\n",
       " '볼링': ['볼링'],\n",
       " '볼링공': ['볼링공', '볼링'],\n",
       " '볼캡': ['볼캡'],\n",
       " '부산': ['부산'],\n",
       " '부산 보이져 ': ['부산', '보이져 ', '부산 보이져 '],\n",
       " '부산 오토바이 ': ['부산', '오토바이 ', '부산 오토바이 '],\n",
       " '부산오토바이': ['부산', '부산오토바이'],\n",
       " '뷔스티에': ['뷔스티에'],\n",
       " '브라이틀링 ': ['브라이틀링 '],\n",
       " '블라우스': ['블라우스'],\n",
       " '블랙박스': ['블랙박스'],\n",
       " '블랙베리 ': ['블랙베리 '],\n",
       " '블랙업 ': ['블랙업 '],\n",
       " '블랙핑크': ['블랙핑크'],\n",
       " '블루민': ['블루민'],\n",
       " '블루투스 스피커': ['블루투스 스피커', '스피커'],\n",
       " '블루투스 이어폰': ['블루투스 이어폰', '이어폰'],\n",
       " '비니': ['비니'],\n",
       " '비비안웨스트우드': ['비비안웨스트우드'],\n",
       " '비비안웨스트우드 목걸이': ['비비안웨스트우드 목걸이', '목걸이', '비비안웨스트우드'],\n",
       " '비비탄': ['비비탄'],\n",
       " '비즈': ['비즈'],\n",
       " '비키니': ['비키니'],\n",
       " '비투비': ['비투비'],\n",
       " '빅사이즈': ['빅사이즈'],\n",
       " '빅톤': ['빅톤'],\n",
       " '빈티지 ': ['빈티지 '],\n",
       " '빈티지 원피스': ['원피스', '빈티지 원피스', '빈티지 '],\n",
       " '빈티지시계': ['시계', '빈티지시계'],\n",
       " '빈티지원피스': ['원피스', '빈티지원피스'],\n",
       " '빈티지인형': ['빈티지인형'],\n",
       " '빈폴': ['빈폴'],\n",
       " '빔즈': ['빔즈'],\n",
       " '사카이': ['사카이'],\n",
       " '산드로': ['산드로'],\n",
       " '산리오': ['산리오'],\n",
       " '삽니다': ['삽니다'],\n",
       " '새상품': ['새상품'],\n",
       " '샌들': ['샌들'],\n",
       " '샌디라이온': ['샌디라이온'],\n",
       " '생로랑': ['생로랑'],\n",
       " '샤넬 ': ['샤넬 '],\n",
       " '샤넬 정품': ['샤넬 정품', '샤넬 ', '정품'],\n",
       " '샤넬 카드지갑': ['카드지갑', '지갑', '샤넬 카드지갑', '샤넬 '],\n",
       " '샤넬가방': ['가방', '샤넬가방'],\n",
       " '샤넬향수': ['향수', '샤넬향수'],\n",
       " '샤프': ['샤프'],\n",
       " '서든어택': ['서든어택'],\n",
       " '서랍장': ['서랍장'],\n",
       " '서류가방': ['가방', '서류가방'],\n",
       " '선글라스': ['선글라스'],\n",
       " '선반': ['선반'],\n",
       " '선풍기': ['선풍기'],\n",
       " '세븐틴': ['세븐틴'],\n",
       " '세이코 ': ['세이코 '],\n",
       " '세인트제임스': ['세인트제임스'],\n",
       " '세일러문 ': ['세일러문 '],\n",
       " '세탁기': ['세탁기'],\n",
       " '셀린느': ['셀린느'],\n",
       " '셔링원피스': ['원피스', '셔링원피스'],\n",
       " '셔츠': ['셔츠'],\n",
       " '셔츠원피스': ['원피스', '셔츠', '셔츠원피스'],\n",
       " '소니엔젤': ['소니엔젤'],\n",
       " '소우소우': ['소우소우'],\n",
       " '소파': ['소파'],\n",
       " '속옷': ['속옷'],\n",
       " '솔로이스트': ['솔로이스트'],\n",
       " '솔리드옴므': ['솔리드옴므'],\n",
       " '쇼파': ['쇼파'],\n",
       " '쇼퍼백': ['쇼퍼백'],\n",
       " '숄더백': ['숄더백'],\n",
       " '숏패딩': ['숏패딩', '패딩'],\n",
       " '수납장': ['수납장'],\n",
       " '수영복': ['수영복'],\n",
       " '수제네일팁': ['네일팁', '네일', '수제네일팁'],\n",
       " '순금': ['순금'],\n",
       " '순천': ['순천'],\n",
       " '슈가슈가룬 ': ['슈가슈가룬 '],\n",
       " '슈콤마보니': ['슈콤마보니'],\n",
       " '슈트': ['슈트'],\n",
       " '슈퍼커브': ['슈퍼커브'],\n",
       " '슈프림': ['슈프림'],\n",
       " '스냅백': ['스냅백'],\n",
       " '스누피': ['스누피'],\n",
       " '스니커즈': ['스니커즈'],\n",
       " '스마트폰': ['스마트폰'],\n",
       " '스밋코구라시': ['스밋코구라시'],\n",
       " '스와로브스키 ': ['스와로브스키 '],\n",
       " '스와로브스키 목걸이': ['스와로브스키 목걸이', '목걸이', '스와로브스키 '],\n",
       " '스위치': ['스위치'],\n",
       " '스컬프터': ['스컬프터'],\n",
       " '스케이트보드 ': ['스케이트보드 '],\n",
       " '스쿠터': ['스쿠터'],\n",
       " '스퀘어넥': ['스퀘어넥'],\n",
       " '스키니피그 ': ['스키니피그 '],\n",
       " '스타벅스 ': ['스타벅스 '],\n",
       " '스타벅스 레디백': ['스타벅스 ', '스타벅스 레디백'],\n",
       " '스타벅스 텀블러': ['스타벅스 텀블러', '스타벅스 '],\n",
       " '스타일난다': ['스타일난다'],\n",
       " '스타킹 ': ['스타킹 '],\n",
       " '스톤': ['스톤'],\n",
       " '스톤아일랜드 ': ['스톤아일랜드 ', '스톤'],\n",
       " '스톤아일랜드 맨투맨': ['맨투맨', '스톤아일랜드 맨투맨', '스톤아일랜드 ', '스톤'],\n",
       " '스톤아일랜드 바람막이': ['바람막이', '스톤아일랜드 바람막이', '스톤아일랜드 ', '스톤'],\n",
       " '스톤아일랜드 반팔': ['스톤아일랜드 ', '스톤', '스톤아일랜드 반팔'],\n",
       " '스톤아일랜드 자켓': ['자켓', '스톤아일랜드 ', '스톤', '스톤아일랜드 자켓'],\n",
       " '스톤아일랜드 후드집업': ['스톤아일랜드 후드집업', '후드집업', '스톤아일랜드 ', '스톤'],\n",
       " '스투시': ['스투시'],\n",
       " '스투시 반팔': ['스투시', '스투시 반팔'],\n",
       " '스티커': ['스티커'],\n",
       " '스팀배그': ['스팀배그'],\n",
       " '스파이더': ['스파이더'],\n",
       " '스파이더 반팔': ['스파이더 반팔', '스파이더'],\n",
       " '스페셜라이즈드 ': ['스페셜라이즈드 '],\n",
       " '스푸닝': ['스푸닝'],\n",
       " '스피커': ['스피커'],\n",
       " '슬로우앤드 ': ['슬로우앤드 '],\n",
       " '슬리퍼': ['슬리퍼'],\n",
       " '슬링백 ': ['슬링백 '],\n",
       " '시계': ['시계'],\n",
       " '시나모롤 ': ['롤', '시나모롤 '],\n",
       " '시눈': ['시눈'],\n",
       " '시스템': ['시스템'],\n",
       " '시스템옴므': ['시스템옴므', '시스템'],\n",
       " '시티에이스': ['시티에이스'],\n",
       " '시티즌': ['시티즌'],\n",
       " '식탁': ['식탁'],\n",
       " '신발': ['신발'],\n",
       " '실바니안': ['실바니안'],\n",
       " '싸인': ['싸인'],\n",
       " '썸데이즈': ['썸데이즈'],\n",
       " '쓰리타임즈': ['타임', '쓰리타임즈'],\n",
       " '씰스티커': ['씰스티커', '스티커'],\n",
       " '아노락': ['아노락'],\n",
       " '아더에러': ['아더에러'],\n",
       " '아디다스': ['아디다스'],\n",
       " '아디다스 바람막이': ['바람막이', '아디다스 바람막이', '아디다스'],\n",
       " '아디다스 바지': ['아디다스 바지', '아디다스'],\n",
       " '아디다스 반바지': ['아디다스', '아디다스 반바지'],\n",
       " '아미보': ['아미보'],\n",
       " '아반떼': ['아반떼'],\n",
       " '아벡데플뢰르': ['아벡데플뢰르'],\n",
       " '아스날 ': ['아스날 '],\n",
       " '아스트로': ['아스트로'],\n",
       " '아워레가시': ['아워레가시'],\n",
       " '아이스박스': ['아이스박스'],\n",
       " '아이앱': ['아이앱'],\n",
       " '아이앱스튜디오   ': ['아이앱', '아이앱스튜디오   '],\n",
       " '아이앱스튜디오 반팔': ['아이앱', '아이앱스튜디오 반팔'],\n",
       " '아이유': ['아이유'],\n",
       " '아이즈원 ': ['아이즈원 '],\n",
       " '아이즈원 디아이콘': ['아이즈원 디아이콘', '아이즈원 ', '디아이콘'],\n",
       " '아이패드': ['아이패드'],\n",
       " '아이패드 6세대': ['아이패드', '아이패드 6세대'],\n",
       " '아이패드 7세대 ': ['아이패드', '아이패드 7세대 '],\n",
       " '아이패드 미니5': ['아이패드', '아이패드 미니5'],\n",
       " '아이패드 에어3': ['아이패드', '아이패드 에어3'],\n",
       " '아이패드 프로': ['아이패드', '아이패드 프로'],\n",
       " '아이패드 프로 3세대': ['아이패드', '아이패드 프로', '아이패드 프로 3세대'],\n",
       " '아이폰': ['아이폰'],\n",
       " '아이폰 11': ['아이폰', '아이폰 11'],\n",
       " '아이폰 se  ': ['아이폰', '아이폰 se  '],\n",
       " '아이폰 se2': ['아이폰', '아이폰 se2'],\n",
       " '아이폰 x': ['아이폰', '아이폰 x'],\n",
       " '아이폰 xr': ['아이폰', '아이폰 x', '아이폰 xr'],\n",
       " '아이폰 xs ': ['아이폰', '아이폰 x', '아이폰 xs '],\n",
       " '아이폰11 ': ['아이폰', '아이폰11 '],\n",
       " '아이폰11 케이스': ['아이폰', '아이폰11 케이스', '아이폰11 '],\n",
       " '아이폰11pro': ['아이폰11pro', '아이폰'],\n",
       " '아이폰11프로': ['아이폰', '아이폰11프로'],\n",
       " '아이폰6': ['아이폰', '아이폰6'],\n",
       " '아이폰6s': ['아이폰6s', '아이폰', '아이폰6'],\n",
       " '아이폰7': ['아이폰7', '아이폰'],\n",
       " '아이폰8 ': ['아이폰', '아이폰8 '],\n",
       " '아이폰8플러스 ': ['아이폰', '아이폰8플러스 '],\n",
       " '아이폰se ': ['아이폰', '아이폰se '],\n",
       " '아이폰se2': ['아이폰se2', '아이폰'],\n",
       " '아이폰x ': ['아이폰', '아이폰x '],\n",
       " '아이폰xr': ['아이폰', '아이폰xr'],\n",
       " '아이폰xs': ['아이폰xs', '아이폰'],\n",
       " '아이폰xs max': ['아이폰xs', '아이폰', '아이폰xs max'],\n",
       " '아쿠비클럽': ['아쿠비클럽'],\n",
       " '아크네': ['아크네'],\n",
       " '아크네스튜디오': ['아크네', '아크네스튜디오'],\n",
       " '아크메드라비 후드티': ['후드티', '아크메드라비 후드티'],\n",
       " '아크테릭스': ['아크테릭스'],\n",
       " '아페쎄': ['아페쎄'],\n",
       " '안경': ['안경'],\n",
       " '안경테': ['안경', '안경테'],\n",
       " '안전화': ['안전화'],\n",
       " '알렉산더맥퀸': ['알렉산더맥퀸', '맥퀸'],\n",
       " '알렉산더맥퀸 오버솔 ': ['알렉산더맥퀸', '맥퀸', '알렉산더맥퀸 오버솔 '],\n",
       " '알렉산더왕': ['알렉산더왕'],\n",
       " '애플워치 ': ['애플워치 '],\n",
       " '애플워치3': ['애플워치3'],\n",
       " '애플워치4': ['애플워치4'],\n",
       " '애플워치5': ['애플워치5'],\n",
       " '애플펜슬': ['애플펜슬'],\n",
       " '앤더슨벨': ['앤더슨벨'],\n",
       " '야구글러브': ['글러브', '야구글러브'],\n",
       " '어드레스': ['어드레스'],\n",
       " '어리틀빗': ['어리틀빗'],\n",
       " '어항': ['어항'],\n",
       " '언노운': ['언노운'],\n",
       " '언더비': ['언더비'],\n",
       " '언더아머': ['언더아머'],\n",
       " '언더커버': ['언더커버'],\n",
       " '엄브로': ['엄브로'],\n",
       " '에고이스트': ['에고이스트'],\n",
       " '에르메스 ': ['에르메스 '],\n",
       " '에어컨': ['에어컨'],\n",
       " '에어팟': ['에어팟'],\n",
       " '에어팟 케이스': ['에어팟', '에어팟 케이스'],\n",
       " '에어팟 프로 ': ['에어팟', '에어팟 프로 '],\n",
       " '에어팟 프로 미개봉': ['에어팟 프로 미개봉', '에어팟', '에어팟 프로 '],\n",
       " '에어팟 프로 케이스': ['에어팟', '에어팟 프로 케이스', '에어팟 프로 '],\n",
       " '에어팟1': ['에어팟', '에어팟1'],\n",
       " '에어팟2': ['에어팟2', '에어팟'],\n",
       " '에어팟케이스': ['에어팟', '에어팟케이스'],\n",
       " '에어팟프로': ['에어팟프로', '에어팟'],\n",
       " '에어팟프로 케이스': ['에어팟프로', '에어팟', '에어팟프로 케이스'],\n",
       " '에어포스 ': ['에어포스 '],\n",
       " '에이블리': ['에이블리'],\n",
       " '에이핑크': ['에이핑크'],\n",
       " '에코백': ['에코백'],\n",
       " '에쿠스': ['에쿠스'],\n",
       " '엑소': ['엑소'],\n",
       " '엔시티 ': ['엔시티 '],\n",
       " '엔지니어드가먼츠': ['엔지니어드가먼츠'],\n",
       " '엔진11 ': ['엔진11 '],\n",
       " '엔틱': ['엔틱'],\n",
       " '여성골프웨어': ['여성골프웨어', '골프웨어', '골프'],\n",
       " '여자아이들': ['여자아이들'],\n",
       " '여자친구': ['여자친구'],\n",
       " '오니츠카타이거 ': ['오니츠카타이거 '],\n",
       " '오도어': ['오도어'],\n",
       " '오드원아웃': ['오드원아웃'],\n",
       " '오디오': ['오디오'],\n",
       " '오르골': ['오르골'],\n",
       " '오마이걸': ['오마이걸'],\n",
       " '오메가': ['오메가'],\n",
       " '오버워치 ': ['오버워치 '],\n",
       " '오버워치 계정 ': ['오버워치 계정 ', '오버워치 '],\n",
       " '오브제스트': ['오브제스트'],\n",
       " '오즈세컨': ['오즈세컨'],\n",
       " '오클리': ['오클리'],\n",
       " '오토바이 ': ['오토바이 '],\n",
       " '오프숄더 ': ['오프숄더 '],\n",
       " '오프화이트': ['오프화이트'],\n",
       " '오프화이트 맨투맨': ['맨투맨', '오프화이트', '오프화이트 맨투맨'],\n",
       " '오프화이트 반팔': ['오프화이트', '오프화이트 반팔'],\n",
       " '오프화이트 후드티': ['후드티', '오프화이트', '오프화이트 후드티'],\n",
       " '오호라': ['오호라'],\n",
       " '요가복': ['요가복'],\n",
       " '우비': ['우비'],\n",
       " '우산': ['우산'],\n",
       " '우영미': ['우영미'],\n",
       " '우주소녀': ['우주소녀'],\n",
       " '우포스 ': ['우포스 '],\n",
       " '운동기구': ['운동기구'],\n",
       " '운동화': ['운동화'],\n",
       " '울산': ['울산'],\n",
       " '워커': ['워커'],\n",
       " '원주': ['원주'],\n",
       " '원피스': ['원피스'],\n",
       " '원피스 레진': ['원피스', '원피스 레진'],\n",
       " '원피스 피규어': ['원피스', '원피스 피규어'],\n",
       " '원피스피규어': ['원피스', '원피스피규어'],\n",
       " '위너 ': ['위너 '],\n",
       " '윈드러너 ': ['윈드러너 '],\n",
       " '유니클로': ['유니클로'],\n",
       " '유니폼 ': ['유니폼 '],\n",
       " '유앤진': ['유앤진'],\n",
       " '유희왕': ['유희왕'],\n",
       " '은팔찌': ['팔찌', '은팔찌'],\n",
       " '의자': ['의자'],\n",
       " '이누야샤': ['이누야샤'],\n",
       " '이세이미야케': ['이세이미야케'],\n",
       " '이스트로그': ['이스트로그'],\n",
       " '이어폰': ['이어폰'],\n",
       " '이자벨마랑': ['이자벨마랑'],\n",
       " '이지부스트 ': ['이지부스트 '],\n",
       " '이지부스트350': ['이지부스트350'],\n",
       " '이케아': ['이케아'],\n",
       " '익산': ['익산'],\n",
       " '인스': ['인스'],\n",
       " '인스탁스': ['인스', '인스탁스'],\n",
       " '인형 ': ['인형 '],\n",
       " '일렉기타': ['기타', '일렉기타'],\n",
       " '입생로랑': ['입생로랑', '생로랑'],\n",
       " '입생로랑 가방': ['가방', '입생로랑', '생로랑', '입생로랑 가방'],\n",
       " '입생로랑 카드지갑': ['카드지갑', '지갑', '입생로랑', '생로랑', '입생로랑 카드지갑'],\n",
       " '입생로랑 클러치': ['클러치', '입생로랑', '생로랑', '입생로랑 클러치'],\n",
       " '입호흡 ': ['입호흡 '],\n",
       " '자동차': ['자동차'],\n",
       " '자라': ['자라'],\n",
       " '자라 원피스': ['원피스', '자라 원피스', '자라'],\n",
       " '자라원피스': ['원피스', '자라', '자라원피스'],\n",
       " '자전거 ': ['자전거 '],\n",
       " '자켓': ['자켓'],\n",
       " '장지갑': ['지갑', '장지갑'],\n",
       " '전기자전거 ': ['전기자전거 ', '자전거 '],\n",
       " '전담배': ['전담배'],\n",
       " '전동건': ['전동건'],\n",
       " '전동스쿠터': ['전동스쿠터', '스쿠터'],\n",
       " '전동킥보드': ['전동킥보드', '킥보드'],\n",
       " '전자': ['전자'],\n",
       " '전자담배 기기': ['전자담배 기기', '전자'],\n",
       " '전자레인지': ['전자레인지', '전자'],\n",
       " '전주': ['전주'],\n",
       " '점프수트': ['점프수트'],\n",
       " '점프슈트': ['점프슈트', '슈트'],\n",
       " '접시': ['접시'],\n",
       " '정국': ['정국'],\n",
       " '정품': ['정품'],\n",
       " '제곱': ['제곱'],\n",
       " '제네시스 ': ['제네시스 '],\n",
       " '제네시스쿠페': ['제네시스쿠페'],\n",
       " '제니': ['제니'],\n",
       " '제습기 ': ['제습기 '],\n",
       " '젝시믹스 ': ['젝시믹스 '],\n",
       " '젠틀몬스터': ['젠틀몬스터'],\n",
       " '젤네일 ': ['네일', '젤네일 '],\n",
       " '조거팬츠': ['조거팬츠'],\n",
       " '조던 ': ['조던 '],\n",
       " '조던1': ['조던1'],\n",
       " '조말론 ': ['조말론 '],\n",
       " '조이맥스': ['조이맥스'],\n",
       " '졸업사진': ['졸업사진'],\n",
       " '준지': ['준지'],\n",
       " '중고차': ['중고차'],\n",
       " '지갑': ['지갑'],\n",
       " '지방시 클러치': ['클러치', '지방시 클러치'],\n",
       " '지브리': ['지브리'],\n",
       " '지비츠': ['지비츠'],\n",
       " '지샥 ': ['지샥 '],\n",
       " '질스튜어트': ['질스튜어트'],\n",
       " '짱구': ['짱구'],\n",
       " '쪼리': ['쪼리'],\n",
       " '찰스앤키스': ['찰스앤키스'],\n",
       " '창원': ['창원'],\n",
       " '책상': ['책상'],\n",
       " '천안': ['천안'],\n",
       " '청바지': ['청바지'],\n",
       " '청소기': ['청소기'],\n",
       " '청자켓': ['청자켓', '자켓'],\n",
       " '청주': ['청주'],\n",
       " '첼시 ': ['첼시 '],\n",
       " '추천인': ['추천인'],\n",
       " '축구': ['축구'],\n",
       " '축구 유니폼 ': ['축구', '유니폼 ', '축구 유니폼 '],\n",
       " '축구유니폼': ['축구유니폼', '축구'],\n",
       " '축구화': ['축구화', '축구'],\n",
       " '치넬리 ': ['치넬리 '],\n",
       " '치마': ['치마'],\n",
       " '치마바지': ['치마', '치마바지'],\n",
       " '침대': ['침대'],\n",
       " '카고바지': ['카고바지'],\n",
       " '카니발': ['카니발'],\n",
       " '카드지갑': ['카드지갑', '지갑'],\n",
       " '카라반': ['카라반'],\n",
       " '카메라 ': ['카메라 '],\n",
       " '카브엠트': ['카브엠트'],\n",
       " '카시오': ['카시오'],\n",
       " '카시오 시계': ['시계', '카시오 시계', '카시오'],\n",
       " '카트라이더 ': ['카트라이더 '],\n",
       " '카트라이더 러쉬플러스 ': ['카트라이더 러쉬플러스 ', '카트라이더 '],\n",
       " '칼하트 ': ['칼하트 '],\n",
       " '캉골': ['캉골'],\n",
       " '캐리어': ['캐리어'],\n",
       " '캐릭캐릭체인지': ['캐릭캐릭체인지'],\n",
       " '캐피탈': ['캐피탈'],\n",
       " '캠프캡': ['캠프캡'],\n",
       " '캠핑': ['캠핑'],\n",
       " '캠핑용품': ['캠핑', '캠핑용품'],\n",
       " '캠핑의자': ['캠핑', '의자', '캠핑의자'],\n",
       " '캠핑카 ': ['캠핑', '캠핑카 '],\n",
       " '커버낫': ['커버낫'],\n",
       " '커튼': ['커튼'],\n",
       " '커피머신': ['커피머신'],\n",
       " '컨버스': ['컨버스'],\n",
       " '컨버스 런스타 하이크': ['컨버스', '컨버스 런스타 하이크', '런스타'],\n",
       " '컴퓨터 ': ['컴퓨터 '],\n",
       " '코드유': ['코드유'],\n",
       " '코디세트': ['코디세트'],\n",
       " '코렐 ': ['코렐 '],\n",
       " '코비': ['코비'],\n",
       " '코스프레': ['코스프레'],\n",
       " '코치': ['코치'],\n",
       " '코카콜라': ['코카콜라'],\n",
       " '코트': ['코트'],\n",
       " '콘스탄틴 ': ['콘스탄틴 '],\n",
       " '쿠로미': ['쿠로미'],\n",
       " '쿠론': ['쿠론'],\n",
       " '쿠어': ['쿠어'],\n",
       " '크랭크': ['크랭크'],\n",
       " '크로스백': ['크로스백'],\n",
       " '크록스': ['크록스'],\n",
       " '크롬하츠': ['크롬하츠'],\n",
       " '크롬하츠 반지': ['크롬하츠', '반지', '크롬하츠 반지'],\n",
       " '크롬하츠 팔찌': ['크롬하츠', '팔찌', '크롬하츠 팔찌'],\n",
       " '크롭': ['크롭'],\n",
       " '크롭티': ['크롭', '크롭티'],\n",
       " '크림치즈마켓 ': ['크림치즈마켓 '],\n",
       " '클러치': ['클러치'],\n",
       " '클러치백': ['클러치', '클러치백'],\n",
       " '키드밀리': ['키드밀리'],\n",
       " '키르시': ['키르시'],\n",
       " '키링': ['키링'],\n",
       " '키보드': ['키보드'],\n",
       " '키치': ['키치'],\n",
       " '키티': ['키티'],\n",
       " '키티스트랩': ['키티스트랩', '키티'],\n",
       " '킥보드': ['킥보드'],\n",
       " '타미힐피거': ['타미힐피거'],\n",
       " '타이틀리스트': ['타이틀리스트'],\n",
       " '타임': ['타임'],\n",
       " '타프': ['타프'],\n",
       " '탑스토니 ': ['탑스토니 '],\n",
       " '태그호이어': ['태그호이어'],\n",
       " '태블릿': ['태블릿'],\n",
       " '턴테이블': ['턴테이블'],\n",
       " '텐트': ['텐트'],\n",
       " '토리버치': ['토리버치'],\n",
       " '토이스토리 ': ['토이스토리 '],\n",
       " '토트백': ['토트백'],\n",
       " '톰보이': ['톰보이'],\n",
       " '톰브라운': ['톰브라운'],\n",
       " '톰브라운 가디건': ['톰브라운', '가디건', '톰브라운 가디건'],\n",
       " '톰브라운 니트': ['톰브라운', '니트', '톰브라운 니트'],\n",
       " '톰브라운 맨투맨': ['톰브라운', '맨투맨', '톰브라운 맨투맨'],\n",
       " '톰브라운 클러치': ['톰브라운', '클러치', '톰브라운 클러치'],\n",
       " '통기타': ['기타', '통기타'],\n",
       " '투모로우바이투게더': ['투모로우바이투게더'],\n",
       " '투바투': ['투바투'],\n",
       " '투피스': ['투피스'],\n",
       " '튜닝카': ['튜닝카'],\n",
       " '트랜스포머 ': ['트랜스포머 '],\n",
       " '트레이닝복세트': ['트레이닝복세트'],\n",
       " '트레이닝세트': ['트레이닝세트'],\n",
       " '트와이스': ['트와이스'],\n",
       " '티맥스': ['티맥스'],\n",
       " '티쏘': ['티쏘'],\n",
       " '파라점퍼스 ': ['파라점퍼스 '],\n",
       " '파라점퍼스 고비': ['파라점퍼스 고비', '파라점퍼스 '],\n",
       " '파리게이츠': ['파리게이츠'],\n",
       " '파우치': ['파우치'],\n",
       " '파워레인저 ': ['파워레인저 '],\n",
       " '파타고니아': ['파타고니아'],\n",
       " '판도라': ['판도라'],\n",
       " '팔라스 ': ['팔라스 '],\n",
       " '팔찌': ['팔찌'],\n",
       " '팜므뮤즈': ['팜므뮤즈'],\n",
       " '패딩': ['패딩'],\n",
       " '팬티': ['팬티'],\n",
       " '퍼자켓': ['자켓', '퍼자켓'],\n",
       " '퍼터': ['퍼터'],\n",
       " '페라가모': ['페라가모'],\n",
       " '펜디': ['펜디'],\n",
       " '펭수': ['펭수'],\n",
       " '폐호흡': ['폐호흡'],\n",
       " '포르자': ['포르자'],\n",
       " '포켓몬': ['포켓몬'],\n",
       " '포켓몬고 ': ['포켓몬', '포켓몬고 '],\n",
       " '포켓몬스터 ': ['포켓몬', '포켓몬스터 '],\n",
       " '포터': ['포터'],\n",
       " '폴더폰': ['폴더폰'],\n",
       " '폴라로이드': ['폴라로이드'],\n",
       " '폴로': ['폴로'],\n",
       " '폴로 가디건': ['폴로 가디건', '폴로', '가디건'],\n",
       " '폴로 니트': ['폴로', '폴로 니트', '니트'],\n",
       " '폴로 모자': ['폴로', '폴로 모자', '모자'],\n",
       " '폴로 반팔': ['폴로', '폴로 반팔'],\n",
       " '폴로 셔츠': ['폴로', '폴로 셔츠', '셔츠'],\n",
       " '폴로 카라티': ['폴로', '폴로 카라티'],\n",
       " '폴로셔츠': ['폴로', '폴로셔츠', '셔츠'],\n",
       " '폴스부띠끄': ['폴스부띠끄'],\n",
       " '폼폼푸린': ['폼폼푸린'],\n",
       " '풋살화': ['풋살화'],\n",
       " '프라다': ['프라다'],\n",
       " '프라다 카드지갑': ['카드지갑', '지갑', '프라다', '프라다 카드지갑'],\n",
       " '프라다가방': ['가방', '프라다', '프라다가방'],\n",
       " '프라이탁 ': ['프라이탁 '],\n",
       " '프라이탁 라씨': ['프라이탁 ', '프라이탁 라씨'],\n",
       " '프라이탁 하와이파이브오': ['프라이탁 ', '프라이탁 하와이파이브오'],\n",
       " '프레드페리': ['프레드페리'],\n",
       " '프레클': ['프레클'],\n",
       " '프로틴': ['프로틴'],\n",
       " '프롬비기닝': ['프롬비기닝'],\n",
       " '프포': ['프포'],\n",
       " '플레따': ['플레따'],\n",
       " '플레이모빌': ['플레이모빌'],\n",
       " '플스4 ': ['플스4 '],\n",
       " '피규어 ': ['피규어 '],\n",
       " '피마원': ['피마원'],\n",
       " '피스마이너스원': ['피스마이너스원'],\n",
       " '피아노 ': ['피아노 '],\n",
       " '피어오브갓': ['피어오브갓'],\n",
       " '피파': ['피파'],\n",
       " '피파4': ['피파4', '피파'],\n",
       " '피파온라인4': ['피파', '피파온라인4'],\n",
       " '픽시': ['픽시'],\n",
       " '필름카메라': ['필름카메라'],\n",
       " '필통': ['필통'],\n",
       " '핏플랍': ['핏플랍'],\n",
       " '하객룩': ['하객룩'],\n",
       " '하이웨스트': ['하이웨스트'],\n",
       " '하이큐': ['하이큐'],\n",
       " '하이틴': ['하이틴'],\n",
       " '하이힐': ['하이힐'],\n",
       " '한복': ['한복'],\n",
       " '한정판': ['한정판'],\n",
       " '할리데이비슨': ['할리데이비슨'],\n",
       " '핫토이 ': ['핫토이 '],\n",
       " '해리포터 ': ['포터', '해리포터 '],\n",
       " '해밀턴': ['해밀턴'],\n",
       " '핸드메이드코트': ['핸드메이드코트', '코트'],\n",
       " '핸드폰': ['핸드폰'],\n",
       " '햄스터': ['햄스터'],\n",
       " '향수': ['향수'],\n",
       " '헌터 레인부츠': ['레인부츠', '헌터 레인부츠'],\n",
       " '헤리티지플로스 ': ['헤리티지플로스 '],\n",
       " '헤지스': ['헤지스'],\n",
       " '헬로키티': ['헬로키티', '키티'],\n",
       " '헬멧': ['헬멧'],\n",
       " '홀복': ['홀복'],\n",
       " '화장대': ['화장대'],\n",
       " '후드집업': ['후드집업'],\n",
       " '후드티': ['후드티'],\n",
       " '후리스': ['후리스'],\n",
       " '휠셋': ['휠셋'],\n",
       " '휴대폰': ['휴대폰'],\n",
       " '힙색': ['힙색']}"
      ]
     },
     "execution_count": 359,
     "metadata": {},
     "output_type": "execute_result"
    }
   ],
   "source": [
    "keywords_dict = {}\n",
    "for i in keywords:\n",
    "    for j in keywords:\n",
    "        if j in i:\n",
    "            if i in keywords_dict:\n",
    "                keywords_dict[i] += [j]\n",
    "            else:\n",
    "                keywords_dict[i] = [j]\n",
    "keywords_dict"
   ]
  },
  {
   "cell_type": "code",
   "execution_count": 384,
   "metadata": {},
   "outputs": [],
   "source": [
    "keywords_cnt = {}\n",
    "for keyword in keywords_dict:\n",
    "    if len(keywords_dict[keyword]) > 1:\n",
    "        for token in keywords_dict[keyword]:\n",
    "            idx = keywords_df[keywords_df['ref_term'] == token].index[0]\n",
    "            imp_cnt = keywords_df[keywords_df['ref_term'] == token]['imp_cnt'].values[0]\n",
    "            if keyword in keywords_cnt:\n",
    "                keywords_cnt[keyword][token] = (idx+1, imp_cnt)\n",
    "            else:\n",
    "                keywords_cnt[keyword] = {}\n",
    "                keywords_cnt[keyword][token] = (idx+1, imp_cnt)"
   ]
  },
  {
   "cell_type": "code",
   "execution_count": 385,
   "metadata": {},
   "outputs": [
    {
     "data": {
      "text/plain": [
       "{'125cc': {'125': (812, 5210), '125cc': (404, 11623)},\n",
       " '14k 목걸이': {'14k': (15, 77527), '14k 목걸이': (838, 4320), '목걸이': (192, 20189)},\n",
       " '14k귀걸이': {'14k': (15, 77527), '14k귀걸이': (375, 12556), '귀걸이': (183, 20398)},\n",
       " '14k목걸이 ': {'14k': (15, 77527), '14k목걸이 ': (876, 1788), '목걸이': (192, 20189)},\n",
       " '14k반지': {'14k': (15, 77527), '14k반지': (366, 12811), '반지': (140, 24469)},\n",
       " '14k팔찌': {'14k': (15, 77527), '14k팔찌': (232, 18008), '팔찌': (103, 28602)},\n",
       " '18k목걸이': {'18k': (52, 40283), '18k목걸이': (713, 7124), '목걸이': (192, 20189)},\n",
       " '18k팔찌': {'18k': (52, 40283), '18k팔찌': (407, 11581), '팔찌': (103, 28602)},\n",
       " 'cbr 125': {'125': (812, 5210), 'cbr': (553, 9292), 'cbr 125': (605, 8594)},\n",
       " 'cbr125': {'125': (812, 5210), 'cbr': (553, 9292), 'cbr125': (136, 25031)},\n",
       " 'iab studio ': {'iab ': (947, 440), 'iab studio ': (921, 779)},\n",
       " 'mlb모자': {'mlb': (814, 5079), 'mlb모자': (517, 9839), '모자': (129, 26150)},\n",
       " 'mtb자전거': {'mtb': (278, 15289), 'mtb자전거': (562, 9121)},\n",
       " 'pcx125': {'125': (812, 5210), 'pcx': (73, 34904), 'pcx125': (128, 26267)},\n",
       " 's10 5g ': {'s10': (181, 20580), 's10 5g ': (981, 96)},\n",
       " 'xxl': {'xl': (224, 18544), 'xxl': (593, 8784)},\n",
       " '가죽자켓 ': {'가죽자켓 ': (951, 386), '자켓': (567, 9089)},\n",
       " '갤럭시 버즈 ': {'갤럭시': (111, 27851), '갤럭시 버즈 ': (906, 1105), '버즈': (50, 41380)},\n",
       " '갤럭시 버즈 라이브 ': {'갤럭시': (111, 27851),\n",
       "  '갤럭시 버즈 ': (906, 1105),\n",
       "  '갤럭시 버즈 라이브 ': (961, 291),\n",
       "  '버즈': (50, 41380),\n",
       "  '버즈 라이브': (65, 36281)},\n",
       " '갤럭시 버즈 플러스': {'갤럭시': (111, 27851),\n",
       "  '갤럭시 버즈 ': (906, 1105),\n",
       "  '갤럭시 버즈 플러스': (96, 29717),\n",
       "  '버즈': (50, 41380)},\n",
       " '갤럭시s10': {'s10': (181, 20580), '갤럭시': (111, 27851), '갤럭시s10': (116, 27009)},\n",
       " '갤럭시s20': {'갤럭시': (111, 27851), '갤럭시s20': (102, 28734)},\n",
       " '갤럭시s8': {'s8': (729, 6883), '갤럭시': (111, 27851), '갤럭시s8': (317, 13834)},\n",
       " '갤럭시s9': {'s9': (561, 9137), '갤럭시': (111, 27851), '갤럭시s9': (391, 11972)},\n",
       " '갤럭시z플립': {'z플립': (218, 18848), '갤럭시': (111, 27851), '갤럭시z플립': (147, 23418)},\n",
       " '갤럭시노트10': {'갤럭시': (111, 27851),\n",
       "  '갤럭시노트10': (178, 20746),\n",
       "  '노트10': (36, 49548)},\n",
       " '갤럭시노트10플러스': {'갤럭시': (111, 27851),\n",
       "  '갤럭시노트10': (178, 20746),\n",
       "  '갤럭시노트10플러스': (304, 14132),\n",
       "  '노트10': (36, 49548),\n",
       "  '노트10플러스': (617, 8435)},\n",
       " '갤럭시버즈': {'갤럭시': (111, 27851), '갤럭시버즈': (423, 11282), '버즈': (50, 41380)},\n",
       " '갤럭시버즈플러스': {'갤럭시': (111, 27851),\n",
       "  '갤럭시버즈': (423, 11282),\n",
       "  '갤럭시버즈플러스': (541, 9473),\n",
       "  '버즈': (50, 41380),\n",
       "  '버즈플러스': (228, 18260)},\n",
       " '갤럭시워치': {'갤럭시': (111, 27851), '갤럭시워치': (315, 13859)},\n",
       " '갤럭시탭': {'갤럭시': (111, 27851), '갤럭시탭': (360, 12983)},\n",
       " '갤럭시탭s6': {'갤럭시': (111, 27851), '갤럭시탭': (360, 12983), '갤럭시탭s6': (528, 9667)},\n",
       " '갤럭시폴드': {'갤럭시': (111, 27851), '갤럭시폴드': (540, 9482)},\n",
       " '게이밍 노트북': {'게이밍 노트북': (508, 9924), '노트북': (9, 90776)},\n",
       " '게이밍노트북 ': {'게이밍노트북 ': (969, 185), '노트북': (9, 90776)},\n",
       " '겐조 맨투맨': {'겐조': (690, 7397), '겐조 맨투맨': (633, 8060), '맨투맨': (29, 53684)},\n",
       " '고야드 카드지갑': {'고야드': (191, 20200),\n",
       "  '고야드 카드지갑': (398, 11824),\n",
       "  '지갑': (10, 90499),\n",
       "  '카드지갑': (4, 148864)},\n",
       " '고야드 클러치': {'고야드': (191, 20200), '고야드 클러치': (435, 11035), '클러치': (13, 83795)},\n",
       " '골프백': {'골프': (300, 14236), '골프백': (602, 8636)},\n",
       " '골프웨어': {'골프': (300, 14236), '골프웨어': (402, 11724)},\n",
       " '골프채': {'골프': (300, 14236), '골프채': (575, 9029)},\n",
       " '골프화': {'골프': (300, 14236), '골프화': (351, 13115)},\n",
       " '교복치마': {'교복': (324, 13670), '교복치마': (770, 6104), '치마': (314, 13864)},\n",
       " '구찌 라이톤 ': {'구찌': (5, 132215), '구찌 라이톤 ': (889, 1480)},\n",
       " '구찌 반지': {'구찌': (5, 132215), '구찌 반지': (793, 5578), '반지': (140, 24469)},\n",
       " '구찌 반지갑': {'구찌': (5, 132215),\n",
       "  '구찌 반지': (793, 5578),\n",
       "  '구찌 반지갑': (56, 39665),\n",
       "  '반지': (140, 24469),\n",
       "  '반지갑': (79, 33716),\n",
       "  '지갑': (10, 90499)},\n",
       " '구찌 스니커즈': {'구찌': (5, 132215), '구찌 스니커즈': (616, 8439), '스니커즈': (159, 22710)},\n",
       " '구찌 시계': {'구찌': (5, 132215), '구찌 시계': (361, 12954), '시계': (6, 128317)},\n",
       " '구찌 지갑': {'구찌': (5, 132215), '구찌 지갑': (185, 20377), '지갑': (10, 90499)},\n",
       " '구찌 카드지갑': {'구찌': (5, 132215),\n",
       "  '구찌 카드지갑': (148, 23413),\n",
       "  '지갑': (10, 90499),\n",
       "  '카드지갑': (4, 148864)},\n",
       " '구찌 클러치': {'구찌': (5, 132215), '구찌 클러치': (170, 21700), '클러치': (13, 83795)},\n",
       " '구찌가방': {'가방': (40, 47132), '구찌': (5, 132215), '구찌가방': (135, 25137)},\n",
       " '구찌모자': {'구찌': (5, 132215), '구찌모자': (572, 9046), '모자': (129, 26150)},\n",
       " '구찌시계': {'구찌': (5, 132215), '구찌시계': (179, 20694), '시계': (6, 128317)},\n",
       " '구찌지갑 ': {'구찌': (5, 132215), '구찌지갑 ': (993, 15), '지갑': (10, 90499)},\n",
       " '구찌클러치': {'구찌': (5, 132215), '구찌클러치': (532, 9568), '클러치': (13, 83795)},\n",
       " '금목걸이': {'금목걸이': (525, 9711), '목걸이': (192, 20189)},\n",
       " '금반지': {'금반지': (467, 10452), '반지': (140, 24469)},\n",
       " '금팔찌': {'금팔찌': (186, 20346), '팔찌': (103, 28602)},\n",
       " '김치냉장고': {'김치냉장고': (840, 4150), '냉장고': (152, 23172)},\n",
       " '까르띠에 팔찌': {'까르띠에': (462, 10584),\n",
       "  '까르띠에 팔찌': (387, 12072),\n",
       "  '팔찌': (103, 28602)},\n",
       " '까르띠에시계': {'까르띠에': (462, 10584), '까르띠에시계': (795, 5565), '시계': (6, 128317)},\n",
       " '꼼데가르송': {'꼼데': (277, 15327), '꼼데가르송': (113, 27586)},\n",
       " '꼼데가르송 가디건': {'가디건': (195, 20088),\n",
       "  '꼼데': (277, 15327),\n",
       "  '꼼데가르송': (113, 27586),\n",
       "  '꼼데가르송 가디건': (229, 18210)},\n",
       " '꼼데가르송 반팔': {'꼼데': (277, 15327),\n",
       "  '꼼데가르송': (113, 27586),\n",
       "  '꼼데가르송 반팔': (117, 26994)},\n",
       " '나시원피스': {'나시': (399, 11788), '나시원피스': (354, 13102), '원피스': (2, 194446)},\n",
       " '나이키 더블스우시 ': {'나이키': (1, 196007), '나이키 더블스우시 ': (915, 932)},\n",
       " '나이키 데이브레이크': {'나이키': (1, 196007), '나이키 데이브레이크': (554, 9283)},\n",
       " '나이키 맨투맨': {'나이키': (1, 196007), '나이키 맨투맨': (219, 18757), '맨투맨': (29, 53684)},\n",
       " '나이키 모자': {'나이키': (1, 196007), '나이키 모자': (292, 14889), '모자': (129, 26150)},\n",
       " '나이키 바람막이': {'나이키': (1, 196007),\n",
       "  '나이키 바람막이': (19, 68075),\n",
       "  '바람막이': (75, 34631)},\n",
       " '나이키 바지': {'나이키': (1, 196007), '나이키 바지': (323, 13676)},\n",
       " '나이키 반바지': {'나이키': (1, 196007), '나이키 반바지': (46, 44822)},\n",
       " '나이키 반팔': {'나이키': (1, 196007), '나이키 반팔': (31, 51798)},\n",
       " '나이키 베이퍼맥스': {'나이키': (1, 196007),\n",
       "  '나이키 베이퍼맥스': (624, 8215),\n",
       "  '베이퍼맥스': (443, 10931)},\n",
       " '나이키 사카이 ': {'나이키': (1, 196007), '나이키 사카이 ': (975, 146), '사카이': (104, 28532)},\n",
       " '나이키 스투시 ': {'나이키': (1, 196007), '나이키 스투시 ': (872, 1967), '스투시': (11, 89913)},\n",
       " '나이키 슬리퍼': {'나이키': (1, 196007), '나이키 슬리퍼': (524, 9720), '슬리퍼': (74, 34817)},\n",
       " '나이키 신발': {'나이키': (1, 196007), '나이키 신발': (582, 8905), '신발': (297, 14382)},\n",
       " '나이키 아노락': {'나이키': (1, 196007), '나이키 아노락': (268, 15664), '아노락': (171, 21662)},\n",
       " '나이키 에어로로프트': {'나이키': (1, 196007), '나이키 에어로로프트': (438, 10963)},\n",
       " '나이키 에어맥스': {'나이키': (1, 196007), '나이키 에어맥스': (839, 4303)},\n",
       " '나이키 에어포스': {'나이키': (1, 196007), '나이키 에어포스': (817, 5052)},\n",
       " '나이키 오프화이트 ': {'나이키': (1, 196007),\n",
       "  '나이키 오프화이트 ': (962, 243),\n",
       "  '오프화이트': (37, 49210)},\n",
       " '나이키 운동화': {'나이키': (1, 196007), '나이키 운동화': (512, 9867), '운동화': (490, 10162)},\n",
       " '나이키 윈드러너': {'나이키': (1, 196007), '나이키 윈드러너': (98, 29261)},\n",
       " '나이키 조거팬츠': {'나이키': (1, 196007),\n",
       "  '나이키 조거팬츠': (651, 7789),\n",
       "  '조거팬츠': (146, 23465)},\n",
       " '나이키 테크팩': {'나이키': (1, 196007), '나이키 테크팩': (501, 10025)},\n",
       " '나이키 후드집업': {'나이키': (1, 196007),\n",
       "  '나이키 후드집업': (359, 13036),\n",
       "  '후드집업': (158, 22823)},\n",
       " '나이키 후드티': {'나이키': (1, 196007), '나이키 후드티': (199, 19948), '후드티': (41, 46913)},\n",
       " '나이키모자': {'나이키': (1, 196007), '나이키모자': (736, 6681), '모자': (129, 26150)},\n",
       " '나이키바람막이': {'나이키': (1, 196007), '나이키바람막이': (685, 7440), '바람막이': (75, 34631)},\n",
       " '나이키반바지': {'나이키': (1, 196007), '나이키반바지': (647, 7841)},\n",
       " '나이키에어맥스97': {'나이키': (1, 196007), '나이키에어맥스97': (521, 9762)},\n",
       " '나이키운동화 ': {'나이키': (1, 196007), '나이키운동화 ': (977, 122), '운동화': (490, 10162)},\n",
       " '남자시계': {'남자시계': (744, 6571), '시계': (6, 128317)},\n",
       " '네일팁': {'네일': (445, 10899), '네일팁': (417, 11432)},\n",
       " '노스페이스 바람막이': {'노스페이스 ': (935, 602),\n",
       "  '노스페이스 바람막이': (693, 7354),\n",
       "  '바람막이': (75, 34631)},\n",
       " '노트10플러스': {'노트10': (36, 49548), '노트10플러스': (617, 8435)},\n",
       " '뉴발란스 327 ': {'327': (100, 29071),\n",
       "  '뉴발란스 ': (912, 987),\n",
       "  '뉴발란스 327 ': (864, 2440)},\n",
       " '뉴발란스327': {'327': (100, 29071), '뉴발란스327': (489, 10166)},\n",
       " '니트조끼': {'니트': (332, 13560), '니트조끼': (833, 4431)},\n",
       " '닌텐도 3ds': {'닌텐도': (97, 29432), '닌텐도 3ds': (642, 7890)},\n",
       " '닌텐도 스위치 ': {'닌텐도': (97, 29432),\n",
       "  '닌텐도 스위치 ': (871, 2113),\n",
       "  '스위치': (151, 23231)},\n",
       " '닌텐도 스위치 동물의숲 에디션': {'닌텐도': (97, 29432),\n",
       "  '닌텐도 스위치 ': (871, 2113),\n",
       "  '닌텐도 스위치 동물의숲 에디션': (272, 15580),\n",
       "  '동물의숲': (271, 15598),\n",
       "  '스위치': (151, 23231)},\n",
       " '닌텐도 스위치 라이트': {'닌텐도': (97, 29432),\n",
       "  '닌텐도 스위치 ': (871, 2113),\n",
       "  '닌텐도 스위치 라이트': (200, 19834),\n",
       "  '스위치': (151, 23231)},\n",
       " '닌텐도스위치 ': {'닌텐도': (97, 29432), '닌텐도스위치 ': (791, 5623), '스위치': (151, 23231)},\n",
       " '담전자배': {'담전자배': (197, 20068), '전자': (564, 9113)},\n",
       " '동전지갑': {'동전지갑': (474, 10370), '지갑': (10, 90499)},\n",
       " '드래곤볼 피규어': {'드래곤볼 ': (695, 7345), '드래곤볼 피규어': (496, 10062)},\n",
       " '드바스크 팔찌': {'드바스크': (201, 19817),\n",
       "  '드바스크 팔찌': (400, 11745),\n",
       "  '팔찌': (103, 28602)},\n",
       " '디올 오블리크': {'디올 ': (842, 4079), '디올 오블리크': (654, 7756)},\n",
       " '디올 카드지갑': {'디올 ': (842, 4079),\n",
       "  '디올 카드지갑': (560, 9158),\n",
       "  '지갑': (10, 90499),\n",
       "  '카드지갑': (4, 148864)},\n",
       " '디올가방': {'가방': (40, 47132), '디올가방': (730, 6862)},\n",
       " '라코스테 가디건': {'가디건': (195, 20088),\n",
       "  '라코스테': (163, 22392),\n",
       "  '라코스테 가디건': (440, 10952)},\n",
       " '라코스테 원피스': {'라코스테': (163, 22392),\n",
       "  '라코스테 원피스': (263, 15892),\n",
       "  '원피스': (2, 194446)},\n",
       " '랩원피스': {'랩원피스': (449, 10831), '원피스': (2, 194446)},\n",
       " '로드자전거': {'로드': (193, 20113), '로드자전거': (107, 28408)},\n",
       " '로렉스시계': {'로렉스': (68, 36028), '로렉스시계': (746, 6558), '시계': (6, 128317)},\n",
       " '롤 계정 ': {'롤': (127, 26279), '롤 계정 ': (900, 1193)},\n",
       " '롤 닉네임': {'롤': (127, 26279), '롤 닉네임': (688, 7411)},\n",
       " '롤 스킨': {'롤': (127, 26279), '롤 스킨': (520, 9789)},\n",
       " '롤렉스': {'롤': (127, 26279), '롤렉스': (82, 32653)},\n",
       " '롱원피스': {'롱원피스': (64, 36805), '원피스': (2, 194446)},\n",
       " '롱패딩': {'롱패딩': (367, 12789), '패딩': (190, 20215)},\n",
       " '루이까또즈 반지갑': {'루이까또즈': (458, 10663),\n",
       "  '루이까또즈 반지갑': (466, 10501),\n",
       "  '반지': (140, 24469),\n",
       "  '반지갑': (79, 33716),\n",
       "  '지갑': (10, 90499)},\n",
       " '루이비통 가방': {'가방': (40, 47132), '루이비통 ': (830, 4581), '루이비통 가방': (756, 6415)},\n",
       " '루이비통 반지갑': {'루이비통 ': (830, 4581),\n",
       "  '루이비통 반지갑': (227, 18361),\n",
       "  '반지': (140, 24469),\n",
       "  '반지갑': (79, 33716),\n",
       "  '지갑': (10, 90499)},\n",
       " '루이비통 장지갑': {'루이비통 ': (830, 4581),\n",
       "  '루이비통 장지갑': (831, 4553),\n",
       "  '장지갑': (568, 9088),\n",
       "  '지갑': (10, 90499)},\n",
       " '루이비통 정품': {'루이비통 ': (830, 4581),\n",
       "  '루이비통 정품': (282, 15137),\n",
       "  '정품': (254, 16323)},\n",
       " '루이비통 지갑': {'루이비통 ': (830, 4581), '루이비통 지갑': (150, 23285), '지갑': (10, 90499)},\n",
       " '루이비통 카드지갑': {'루이비통 ': (830, 4581),\n",
       "  '루이비통 카드지갑': (222, 18655),\n",
       "  '지갑': (10, 90499),\n",
       "  '카드지갑': (4, 148864)},\n",
       " '루이비통 크로스백': {'루이비통 ': (830, 4581),\n",
       "  '루이비통 크로스백': (694, 7353),\n",
       "  '크로스백': (22, 64482)},\n",
       " '루이비통 클러치': {'루이비통 ': (830, 4581),\n",
       "  '루이비통 클러치': (99, 29242),\n",
       "  '클러치': (13, 83795)},\n",
       " '루이비통 팔찌': {'루이비통 ': (830, 4581), '루이비통 팔찌': (550, 9310), '팔찌': (103, 28602)},\n",
       " '루이비통가방': {'가방': (40, 47132), '루이비통가방': (169, 21721)},\n",
       " '루이비통지갑': {'루이비통지갑': (809, 5270), '지갑': (10, 90499)},\n",
       " '마르지엘라 카드지갑': {'마르지엘라': (25, 59785),\n",
       "  '마르지엘라 카드지갑': (392, 11971),\n",
       "  '지갑': (10, 90499),\n",
       "  '카드지갑': (4, 148864)},\n",
       " '마이프로틴': {'마이프로틴': (765, 6169), '프로틴': (626, 8187)},\n",
       " '맥북프로': {'맥북': (126, 26469), '맥북프로': (368, 12759)},\n",
       " '메종마르지엘라': {'마르지엘라': (25, 59785), '메종마르지엘라': (488, 10172)},\n",
       " '메트로시티가방': {'가방': (40, 47132), '메트로시티': (210, 19213), '메트로시티가방': (698, 7319)},\n",
       " '명품레플리카': {'명품': (408, 11546), '명품레플리카': (808, 5276)},\n",
       " '몽클레어 바람막이': {'몽클레어 ': (860, 2919),\n",
       "  '몽클레어 바람막이': (700, 7294),\n",
       "  '바람막이': (75, 34631)},\n",
       " '몽클레어 반팔': {'몽클레어 ': (860, 2919), '몽클레어 반팔': (283, 15117)},\n",
       " '몽클레어 패딩 ': {'몽클레어 ': (860, 2919),\n",
       "  '몽클레어 패딩 ': (934, 605),\n",
       "  '패딩': (190, 20215)},\n",
       " '무스너클 발리스틱': {'무스너클': (235, 17765), '무스너클 발리스틱': (451, 10827)},\n",
       " '무스너클 버니스웨터 ': {'무스너클': (235, 17765), '무스너클 버니스웨터 ': (862, 2605)},\n",
       " '미니원피스': {'미니원피스': (264, 15889), '원피스': (2, 194446)},\n",
       " '반지갑': {'반지': (140, 24469), '반지갑': (79, 33716), '지갑': (10, 90499)},\n",
       " '발렌시아가 모자': {'모자': (129, 26150),\n",
       "  '발렌시아가': (53, 40147),\n",
       "  '발렌시아가 모자': (503, 10008)},\n",
       " '발렌시아가 반팔': {'발렌시아가': (53, 40147), '발렌시아가 반팔': (333, 13533)},\n",
       " '발렌시아가 스피드러너': {'발렌시아가': (53, 40147), '발렌시아가 스피드러너': (757, 6393)},\n",
       " '발렌시아가 클러치': {'발렌시아가': (53, 40147),\n",
       "  '발렌시아가 클러치': (431, 11161),\n",
       "  '클러치': (13, 83795)},\n",
       " '발렌시아가 트리플s': {'발렌시아가': (53, 40147), '발렌시아가 트리플s': (406, 11610)},\n",
       " '발렌티노 스니커즈': {'발렌티노': (217, 18898),\n",
       "  '발렌티노 스니커즈': (661, 7711),\n",
       "  '스니커즈': (159, 22710)},\n",
       " '발렌티노 카드지갑': {'발렌티노': (217, 18898),\n",
       "  '발렌티노 카드지갑': (358, 13048),\n",
       "  '지갑': (10, 90499),\n",
       "  '카드지갑': (4, 148864)},\n",
       " '발렌티노 클러치': {'발렌티노': (217, 18898),\n",
       "  '발렌티노 클러치': (410, 11531),\n",
       "  '클러치': (13, 83795)},\n",
       " '방탄 랜박': {'방탄 ': (849, 3801), '방탄 랜박': (852, 3606)},\n",
       " '방탄 비공굿': {'방탄 ': (849, 3801), '방탄 비공굿': (681, 7479)},\n",
       " '방탄 앨범': {'방탄 ': (849, 3801), '방탄 앨범': (803, 5389)},\n",
       " '방탄 포카': {'방탄 ': (849, 3801), '방탄 포카': (213, 19101)},\n",
       " '방탄소년단 앨범': {'방탄소년단 ': (714, 7116), '방탄소년단 앨범': (843, 3935)},\n",
       " '방탄소년단 포카': {'방탄소년단 ': (714, 7116), '방탄소년단 포카': (857, 3138)},\n",
       " '버버리 셔츠': {'버버리': (45, 44927), '버버리 셔츠': (845, 3925), '셔츠': (441, 10948)},\n",
       " '버버리 스니커즈': {'버버리': (45, 44927),\n",
       "  '버버리 스니커즈': (790, 5679),\n",
       "  '스니커즈': (159, 22710)},\n",
       " '버버리가방': {'가방': (40, 47132), '버버리': (45, 44927), '버버리가방': (428, 11240)},\n",
       " '버즈 라이브': {'버즈': (50, 41380), '버즈 라이브': (65, 36281)},\n",
       " '버즈 플러스 ': {'버즈': (50, 41380), '버즈 플러스 ': (922, 779)},\n",
       " '버즈라이브': {'버즈': (50, 41380), '버즈라이브': (225, 18503)},\n",
       " '버즈플러스': {'버즈': (50, 41380), '버즈플러스': (228, 18260)},\n",
       " '베이프 반팔 ': {'반팔 ': (948, 432), '베이프 ': (785, 5797), '베이프 반팔 ': (978, 111)},\n",
       " '보이져125': {'125': (812, 5210), '보이져125': (353, 13104)},\n",
       " '보테가베네타 클러치': {'보테가베네타': (340, 13396),\n",
       "  '보테가베네타 클러치': (305, 14114),\n",
       "  '클러치': (13, 83795)},\n",
       " '볼링공': {'볼링': (124, 26519), '볼링공': (72, 35211)},\n",
       " '부산 보이져 ': {'보이져 ': (944, 484), '부산': (114, 27304), '부산 보이져 ': (986, 56)},\n",
       " '부산 오토바이 ': {'부산': (114, 27304),\n",
       "  '부산 오토바이 ': (967, 213),\n",
       "  '오토바이 ': (875, 1797)},\n",
       " '부산오토바이': {'부산': (114, 27304), '부산오토바이': (559, 9196)},\n",
       " '블루투스 스피커': {'블루투스 스피커': (293, 14879), '스피커': (590, 8830)},\n",
       " '블루투스 이어폰': {'블루투스 이어폰': (337, 13444), '이어폰': (533, 9564)},\n",
       " '비비안웨스트우드 목걸이': {'목걸이': (192, 20189),\n",
       "  '비비안웨스트우드': (69, 35975),\n",
       "  '비비안웨스트우드 목걸이': (571, 9057)},\n",
       " '빈티지 원피스': {'빈티지 ': (869, 2167), '빈티지 원피스': (108, 28373), '원피스': (2, 194446)},\n",
       " '빈티지시계': {'빈티지시계': (536, 9512), '시계': (6, 128317)},\n",
       " '빈티지원피스': {'빈티지원피스': (639, 7921), '원피스': (2, 194446)},\n",
       " '샤넬 정품': {'샤넬 ': (649, 7815), '샤넬 정품': (372, 12699), '정품': (254, 16323)},\n",
       " '샤넬 카드지갑': {'샤넬 ': (649, 7815),\n",
       "  '샤넬 카드지갑': (381, 12391),\n",
       "  '지갑': (10, 90499),\n",
       "  '카드지갑': (4, 148864)},\n",
       " '샤넬가방': {'가방': (40, 47132), '샤넬가방': (312, 13907)},\n",
       " '샤넬향수': {'샤넬향수': (535, 9542), '향수': (44, 45658)},\n",
       " '서류가방': {'가방': (40, 47132), '서류가방': (823, 4940)},\n",
       " '셔링원피스': {'셔링원피스': (727, 6933), '원피스': (2, 194446)},\n",
       " '셔츠원피스': {'셔츠': (441, 10948), '셔츠원피스': (436, 11004), '원피스': (2, 194446)},\n",
       " '숏패딩': {'숏패딩': (80, 33439), '패딩': (190, 20215)},\n",
       " '수제네일팁': {'네일': (445, 10899), '네일팁': (417, 11432), '수제네일팁': (563, 9120)},\n",
       " '스와로브스키 목걸이': {'목걸이': (192, 20189),\n",
       "  '스와로브스키 ': (773, 6046),\n",
       "  '스와로브스키 목걸이': (537, 9492)},\n",
       " '스타벅스 레디백': {'스타벅스 ': (751, 6468), '스타벅스 레디백': (631, 8071)},\n",
       " '스타벅스 텀블러': {'스타벅스 ': (751, 6468), '스타벅스 텀블러': (327, 13625)},\n",
       " '스톤아일랜드 ': {'스톤': (634, 8056), '스톤아일랜드 ': (728, 6888)},\n",
       " '스톤아일랜드 맨투맨': {'맨투맨': (29, 53684),\n",
       "  '스톤': (634, 8056),\n",
       "  '스톤아일랜드 ': (728, 6888),\n",
       "  '스톤아일랜드 맨투맨': (67, 36261)},\n",
       " '스톤아일랜드 바람막이': {'바람막이': (75, 34631),\n",
       "  '스톤': (634, 8056),\n",
       "  '스톤아일랜드 ': (728, 6888),\n",
       "  '스톤아일랜드 바람막이': (429, 11218)},\n",
       " '스톤아일랜드 반팔': {'스톤': (634, 8056),\n",
       "  '스톤아일랜드 ': (728, 6888),\n",
       "  '스톤아일랜드 반팔': (371, 12700)},\n",
       " '스톤아일랜드 자켓': {'스톤': (634, 8056),\n",
       "  '스톤아일랜드 ': (728, 6888),\n",
       "  '스톤아일랜드 자켓': (733, 6717),\n",
       "  '자켓': (567, 9089)},\n",
       " '스톤아일랜드 후드집업': {'스톤': (634, 8056),\n",
       "  '스톤아일랜드 ': (728, 6888),\n",
       "  '스톤아일랜드 후드집업': (526, 9706),\n",
       "  '후드집업': (158, 22823)},\n",
       " '스투시 반팔': {'스투시': (11, 89913), '스투시 반팔': (173, 21382)},\n",
       " '스파이더 반팔': {'스파이더': (139, 24506), '스파이더 반팔': (424, 11281)},\n",
       " '시나모롤 ': {'롤': (127, 26279), '시나모롤 ': (910, 1028)},\n",
       " '시스템옴므': {'시스템': (855, 3231), '시스템옴므': (607, 8565)},\n",
       " '쓰리타임즈': {'쓰리타임즈': (566, 9096), '타임': (719, 7048)},\n",
       " '씰스티커': {'스티커': (276, 15329), '씰스티커': (196, 20079)},\n",
       " '아디다스 바람막이': {'바람막이': (75, 34631),\n",
       "  '아디다스': (88, 30803),\n",
       "  '아디다스 바람막이': (240, 17239)},\n",
       " '아디다스 바지': {'아디다스': (88, 30803), '아디다스 바지': (420, 11379)},\n",
       " '아디다스 반바지': {'아디다스': (88, 30803), '아디다스 반바지': (480, 10292)},\n",
       " '아이앱스튜디오   ': {'아이앱': (14, 81606), '아이앱스튜디오   ': (924, 758)},\n",
       " '아이앱스튜디오 반팔': {'아이앱': (14, 81606), '아이앱스튜디오 반팔': (418, 11425)},\n",
       " '아이즈원 디아이콘': {'디아이콘': (604, 8611),\n",
       "  '아이즈원 ': (105, 28529),\n",
       "  '아이즈원 디아이콘': (350, 13123)},\n",
       " '아이패드 6세대': {'아이패드': (21, 68049), '아이패드 6세대': (705, 7222)},\n",
       " '아이패드 7세대 ': {'아이패드': (21, 68049), '아이패드 7세대 ': (966, 222)},\n",
       " '아이패드 미니5': {'아이패드': (21, 68049), '아이패드 미니5': (609, 8556)},\n",
       " '아이패드 에어3': {'아이패드': (21, 68049), '아이패드 에어3': (89, 30526)},\n",
       " '아이패드 프로': {'아이패드': (21, 68049), '아이패드 프로': (269, 15616)},\n",
       " '아이패드 프로 3세대': {'아이패드': (21, 68049),\n",
       "  '아이패드 프로': (269, 15616),\n",
       "  '아이패드 프로 3세대': (477, 10328)},\n",
       " '아이폰 11': {'아이폰': (3, 170246), '아이폰 11': (244, 16885)},\n",
       " '아이폰 se  ': {'아이폰': (3, 170246), '아이폰 se  ': (956, 340)},\n",
       " '아이폰 se2': {'아이폰': (3, 170246), '아이폰 se2': (270, 15614)},\n",
       " '아이폰 x': {'아이폰': (3, 170246), '아이폰 x': (621, 8271)},\n",
       " '아이폰 xr': {'아이폰': (3, 170246), '아이폰 x': (621, 8271), '아이폰 xr': (646, 7844)},\n",
       " '아이폰 xs ': {'아이폰': (3, 170246), '아이폰 x': (621, 8271), '아이폰 xs ': (920, 800)},\n",
       " '아이폰11 ': {'아이폰': (3, 170246), '아이폰11 ': (863, 2543)},\n",
       " '아이폰11 케이스': {'아이폰': (3, 170246),\n",
       "  '아이폰11 ': (863, 2543),\n",
       "  '아이폰11 케이스': (320, 13813)},\n",
       " '아이폰11pro': {'아이폰': (3, 170246), '아이폰11pro': (177, 20773)},\n",
       " '아이폰11프로': {'아이폰': (3, 170246), '아이폰11프로': (310, 13976)},\n",
       " '아이폰6': {'아이폰': (3, 170246), '아이폰6': (343, 13327)},\n",
       " '아이폰6s': {'아이폰': (3, 170246), '아이폰6': (343, 13327), '아이폰6s': (274, 15480)},\n",
       " '아이폰7': {'아이폰': (3, 170246), '아이폰7': (38, 48169)},\n",
       " '아이폰8 ': {'아이폰': (3, 170246), '아이폰8 ': (866, 2269)},\n",
       " '아이폰8플러스 ': {'아이폰': (3, 170246), '아이폰8플러스 ': (950, 393)},\n",
       " '아이폰se ': {'아이폰': (3, 170246), '아이폰se ': (895, 1350)},\n",
       " '아이폰se2': {'아이폰': (3, 170246), '아이폰se2': (94, 29863)},\n",
       " '아이폰x ': {'아이폰': (3, 170246), '아이폰x ': (931, 673)},\n",
       " '아이폰xr': {'아이폰': (3, 170246), '아이폰xr': (71, 35764)},\n",
       " '아이폰xs': {'아이폰': (3, 170246), '아이폰xs': (33, 51365)},\n",
       " '아이폰xs max': {'아이폰': (3, 170246),\n",
       "  '아이폰xs': (33, 51365),\n",
       "  '아이폰xs max': (412, 11522)},\n",
       " '아크네스튜디오': {'아크네': (247, 16660), '아크네스튜디오': (403, 11644)},\n",
       " '아크메드라비 후드티': {'아크메드라비 후드티': (570, 9070), '후드티': (41, 46913)},\n",
       " '안경테': {'안경': (569, 9076), '안경테': (469, 10426)},\n",
       " '알렉산더맥퀸': {'맥퀸': (390, 11979), '알렉산더맥퀸': (636, 8004)},\n",
       " '알렉산더맥퀸 오버솔 ': {'맥퀸': (390, 11979),\n",
       "  '알렉산더맥퀸': (636, 8004),\n",
       "  '알렉산더맥퀸 오버솔 ': (942, 524)},\n",
       " '야구글러브': {'글러브': (212, 19113), '야구글러브': (760, 6220)},\n",
       " '에어팟 케이스': {'에어팟': (7, 121752), '에어팟 케이스': (234, 17859)},\n",
       " '에어팟 프로 ': {'에어팟': (7, 121752), '에어팟 프로 ': (874, 1901)},\n",
       " '에어팟 프로 미개봉': {'에어팟': (7, 121752),\n",
       "  '에어팟 프로 ': (874, 1901),\n",
       "  '에어팟 프로 미개봉': (369, 12724)},\n",
       " '에어팟 프로 케이스': {'에어팟': (7, 121752),\n",
       "  '에어팟 프로 ': (874, 1901),\n",
       "  '에어팟 프로 케이스': (401, 11730)},\n",
       " '에어팟1': {'에어팟': (7, 121752), '에어팟1': (463, 10566)},\n",
       " '에어팟2': {'에어팟': (7, 121752), '에어팟2': (26, 58859)},\n",
       " '에어팟케이스': {'에어팟': (7, 121752), '에어팟케이스': (285, 15081)},\n",
       " '에어팟프로': {'에어팟': (7, 121752), '에어팟프로': (30, 52516)},\n",
       " '에어팟프로 케이스': {'에어팟': (7, 121752),\n",
       "  '에어팟프로': (30, 52516),\n",
       "  '에어팟프로 케이스': (628, 8185)},\n",
       " '여성골프웨어': {'골프': (300, 14236), '골프웨어': (402, 11724), '여성골프웨어': (715, 7115)},\n",
       " '오버워치 계정 ': {'오버워치 ': (780, 5898), '오버워치 계정 ': (865, 2285)},\n",
       " '오프화이트 맨투맨': {'맨투맨': (29, 53684),\n",
       "  '오프화이트': (37, 49210),\n",
       "  '오프화이트 맨투맨': (233, 17917)},\n",
       " '오프화이트 반팔': {'오프화이트': (37, 49210), '오프화이트 반팔': (144, 23726)},\n",
       " '오프화이트 후드티': {'오프화이트': (37, 49210),\n",
       "  '오프화이트 후드티': (476, 10338),\n",
       "  '후드티': (41, 46913)},\n",
       " '원피스 레진': {'원피스': (2, 194446), '원피스 레진': (499, 10034)},\n",
       " '원피스 피규어': {'원피스': (2, 194446), '원피스 피규어': (58, 39255)},\n",
       " '원피스피규어': {'원피스': (2, 194446), '원피스피규어': (500, 10028)},\n",
       " '은팔찌': {'은팔찌': (805, 5322), '팔찌': (103, 28602)},\n",
       " '인스탁스': {'인스': (78, 33735), '인스탁스': (707, 7211)},\n",
       " '일렉기타': {'기타': (287, 15018), '일렉기타': (518, 9804)},\n",
       " '입생로랑': {'생로랑': (261, 15957), '입생로랑': (239, 17263)},\n",
       " '입생로랑 가방': {'가방': (40, 47132),\n",
       "  '생로랑': (261, 15957),\n",
       "  '입생로랑': (239, 17263),\n",
       "  '입생로랑 가방': (734, 6710)},\n",
       " '입생로랑 카드지갑': {'생로랑': (261, 15957),\n",
       "  '입생로랑': (239, 17263),\n",
       "  '입생로랑 카드지갑': (397, 11828),\n",
       "  '지갑': (10, 90499),\n",
       "  '카드지갑': (4, 148864)},\n",
       " '입생로랑 클러치': {'생로랑': (261, 15957),\n",
       "  '입생로랑': (239, 17263),\n",
       "  '입생로랑 클러치': (542, 9454),\n",
       "  '클러치': (13, 83795)},\n",
       " '자라 원피스': {'원피스': (2, 194446), '자라': (12, 85260), '자라 원피스': (184, 20393)},\n",
       " '자라원피스': {'원피스': (2, 194446), '자라': (12, 85260), '자라원피스': (622, 8238)},\n",
       " '장지갑': {'장지갑': (568, 9088), '지갑': (10, 90499)},\n",
       " '전기자전거 ': {'자전거 ': (896, 1284), '전기자전거 ': (902, 1168)},\n",
       " '전동스쿠터': {'스쿠터': (83, 32340), '전동스쿠터': (652, 7781)},\n",
       " '전동킥보드': {'전동킥보드': (27, 56374), '킥보드': (709, 7186)},\n",
       " '전자담배 기기': {'전자': (564, 9113), '전자담배 기기': (507, 9939)},\n",
       " '전자레인지': {'전자': (564, 9113), '전자레인지': (680, 7493)},\n",
       " '점프슈트': {'슈트': (955, 355), '점프슈트': (538, 9491)},\n",
       " '젤네일 ': {'네일': (445, 10899), '젤네일 ': (982, 96)},\n",
       " '지방시 클러치': {'지방시 클러치': (779, 5916), '클러치': (13, 83795)},\n",
       " '청자켓': {'자켓': (567, 9089), '청자켓': (549, 9343)},\n",
       " '축구 유니폼 ': {'유니폼 ': (938, 573), '축구': (648, 7839), '축구 유니폼 ': (964, 234)},\n",
       " '축구유니폼': {'축구': (648, 7839), '축구유니폼': (338, 13413)},\n",
       " '축구화': {'축구': (648, 7839), '축구화': (61, 38398)},\n",
       " '치마바지': {'치마': (314, 13864), '치마바지': (515, 9849)},\n",
       " '카드지갑': {'지갑': (10, 90499), '카드지갑': (4, 148864)},\n",
       " '카시오 시계': {'시계': (6, 128317), '카시오': (558, 9202), '카시오 시계': (721, 7011)},\n",
       " '카트라이더 러쉬플러스 ': {'카트라이더 ': (836, 4357), '카트라이더 러쉬플러스 ': (882, 1559)},\n",
       " '캠핑용품': {'캠핑': (137, 25001), '캠핑용품': (527, 9696)},\n",
       " '캠핑의자': {'의자': (134, 25369), '캠핑': (137, 25001), '캠핑의자': (606, 8565)},\n",
       " '캠핑카 ': {'캠핑': (137, 25001), '캠핑카 ': (914, 934)},\n",
       " '컨버스 런스타 하이크': {'런스타': (454, 10774),\n",
       "  '컨버스': (81, 32937),\n",
       "  '컨버스 런스타 하이크': (266, 15731)},\n",
       " '크롬하츠 반지': {'반지': (140, 24469), '크롬하츠': (120, 26705), '크롬하츠 반지': (673, 7585)},\n",
       " '크롬하츠 팔찌': {'크롬하츠': (120, 26705), '크롬하츠 팔찌': (655, 7754), '팔찌': (103, 28602)},\n",
       " '크롭티': {'크롭': (209, 19341), '크롭티': (330, 13581)},\n",
       " '클러치백': {'클러치': (13, 83795), '클러치백': (90, 30279)},\n",
       " '키티스트랩': {'키티': (241, 17225), '키티스트랩': (650, 7797)},\n",
       " '톰브라운 가디건': {'가디건': (195, 20088),\n",
       "  '톰브라운': (23, 63131),\n",
       "  '톰브라운 가디건': (154, 23109)},\n",
       " '톰브라운 니트': {'니트': (332, 13560), '톰브라운': (23, 63131), '톰브라운 니트': (679, 7527)},\n",
       " '톰브라운 맨투맨': {'맨투맨': (29, 53684),\n",
       "  '톰브라운': (23, 63131),\n",
       "  '톰브라운 맨투맨': (280, 15187)},\n",
       " '톰브라운 클러치': {'클러치': (13, 83795),\n",
       "  '톰브라운': (23, 63131),\n",
       "  '톰브라운 클러치': (433, 11080)},\n",
       " '통기타': {'기타': (287, 15018), '통기타': (766, 6158)},\n",
       " '파라점퍼스 고비': {'파라점퍼스 ': (885, 1494), '파라점퍼스 고비': (457, 10682)},\n",
       " '퍼자켓': {'자켓': (567, 9089), '퍼자켓': (530, 9574)},\n",
       " '포켓몬고 ': {'포켓몬': (382, 12324), '포켓몬고 ': (923, 764)},\n",
       " '포켓몬스터 ': {'포켓몬': (382, 12324), '포켓몬스터 ': (858, 3115)},\n",
       " '폴로 가디건': {'가디건': (195, 20088), '폴로': (43, 46252), '폴로 가디건': (479, 10302)},\n",
       " '폴로 니트': {'니트': (332, 13560), '폴로': (43, 46252), '폴로 니트': (346, 13274)},\n",
       " '폴로 모자': {'모자': (129, 26150), '폴로': (43, 46252), '폴로 모자': (534, 9556)},\n",
       " '폴로 반팔': {'폴로': (43, 46252), '폴로 반팔': (712, 7145)},\n",
       " '폴로 셔츠': {'셔츠': (441, 10948), '폴로': (43, 46252), '폴로 셔츠': (155, 23095)},\n",
       " '폴로 카라티': {'폴로': (43, 46252), '폴로 카라티': (370, 12720)},\n",
       " '폴로셔츠': {'셔츠': (441, 10948), '폴로': (43, 46252), '폴로셔츠': (453, 10790)},\n",
       " '프라다 카드지갑': {'지갑': (10, 90499),\n",
       "  '카드지갑': (4, 148864),\n",
       "  '프라다': (34, 50672),\n",
       "  '프라다 카드지갑': (726, 6938)},\n",
       " '프라다가방': {'가방': (40, 47132), '프라다': (34, 50672), '프라다가방': (450, 10827)},\n",
       " '프라이탁 라씨': {'프라이탁 ': (841, 4134), '프라이탁 라씨': (286, 15072)},\n",
       " '프라이탁 하와이파이브오': {'프라이탁 ': (841, 4134), '프라이탁 하와이파이브오': (513, 9867)},\n",
       " '피파4': {'피파': (66, 36267), '피파4': (203, 19777)},\n",
       " '피파온라인4': {'피파': (66, 36267), '피파온라인4': (670, 7638)},\n",
       " '해리포터 ': {'포터': (762, 6210), '해리포터 ': (892, 1459)},\n",
       " '핸드메이드코트': {'코트': (194, 20098), '핸드메이드코트': (383, 12303)},\n",
       " '헌터 레인부츠': {'레인부츠': (516, 9840), '헌터 레인부츠': (752, 6461)},\n",
       " '헬로키티': {'키티': (241, 17225), '헬로키티': (643, 7883)}}"
      ]
     },
     "execution_count": 385,
     "metadata": {},
     "output_type": "execute_result"
    }
   ],
   "source": [
    "keywords_cnt"
   ]
  },
  {
   "cell_type": "markdown",
   "metadata": {},
   "source": [
    "## '아이폰' 이 들어가는 키워드"
   ]
  },
  {
   "cell_type": "code",
   "execution_count": 345,
   "metadata": {},
   "outputs": [
    {
     "name": "stdout",
     "output_type": "stream",
     "text": [
      "{'아이폰 11', '아이폰11프로', '아이폰', '아이폰11 케이스', '아이폰6s', '아이폰11 ', '아이폰8 ', '아이폰se2', '아이폰xr', '아이폰x ', '아이폰11pro', '아이폰 se  ', '아이폰xs max', '아이폰 se2', '아이폰7', '아이폰 xr', '아이폰8플러스 ', '아이폰xs', '아이폰se ', '아이폰 x', '아이폰6', '아이폰 xs '}\n"
     ]
    }
   ],
   "source": [
    "iphone = set()\n",
    "for i in keywords:\n",
    "    if '아이폰' in i:\n",
    "        iphone.add(i)\n",
    "\n",
    "print(iphone)\n"
   ]
  },
  {
   "cell_type": "code",
   "execution_count": null,
   "metadata": {},
   "outputs": [],
   "source": []
  },
  {
   "cell_type": "code",
   "execution_count": 346,
   "metadata": {},
   "outputs": [
    {
     "data": {
      "text/plain": [
       "sex\n",
       "female    25.810141\n",
       "male      73.812945\n",
       "none       0.376914\n",
       "Name: imp_id, dtype: float64"
      ]
     },
     "execution_count": 346,
     "metadata": {},
     "output_type": "execute_result"
    }
   ],
   "source": [
    "iphone11pro = df[df['ref_term'].isin(['아이폰 11', '아이폰11프로', '아이폰1', '아이폰'])]\n",
    "iphone11pro.groupby('sex')['imp_id'].agg(lambda x: len(x)/len(iphone11pro)*100)"
   ]
  },
  {
   "cell_type": "code",
   "execution_count": 179,
   "metadata": {},
   "outputs": [
    {
     "data": {
      "text/html": [
       "<div>\n",
       "<style scoped>\n",
       "    .dataframe tbody tr th:only-of-type {\n",
       "        vertical-align: middle;\n",
       "    }\n",
       "\n",
       "    .dataframe tbody tr th {\n",
       "        vertical-align: top;\n",
       "    }\n",
       "\n",
       "    .dataframe thead th {\n",
       "        text-align: right;\n",
       "    }\n",
       "</style>\n",
       "<table border=\"1\" class=\"dataframe\">\n",
       "  <thead>\n",
       "    <tr style=\"text-align: right;\">\n",
       "      <th></th>\n",
       "      <th>ref_term</th>\n",
       "      <th>imp_id</th>\n",
       "    </tr>\n",
       "  </thead>\n",
       "  <tbody>\n",
       "    <tr>\n",
       "      <th>0</th>\n",
       "      <td>아이폰</td>\n",
       "      <td>164303</td>\n",
       "    </tr>\n",
       "    <tr>\n",
       "      <th>1</th>\n",
       "      <td>아이폰 11</td>\n",
       "      <td>16455</td>\n",
       "    </tr>\n",
       "    <tr>\n",
       "      <th>3</th>\n",
       "      <td>아이폰11프로</td>\n",
       "      <td>13834</td>\n",
       "    </tr>\n",
       "    <tr>\n",
       "      <th>2</th>\n",
       "      <td>아이폰11</td>\n",
       "      <td>2453</td>\n",
       "    </tr>\n",
       "  </tbody>\n",
       "</table>\n",
       "</div>"
      ],
      "text/plain": [
       "  ref_term  imp_id\n",
       "0      아이폰  164303\n",
       "1   아이폰 11   16455\n",
       "3  아이폰11프로   13834\n",
       "2   아이폰11     2453"
      ]
     },
     "execution_count": 179,
     "metadata": {},
     "output_type": "execute_result"
    }
   ],
   "source": [
    "iphone_rank = iphone_temp[iphone_temp['ref_term'].isin(['아이폰 11', '아이폰11프로', '아이폰11 ', '아이폰'])].groupby('ref_term', as_index=False)['imp_id'].count().sort_values('imp_id', ascending=False)\n",
    "iphone_rank\n"
   ]
  },
  {
   "cell_type": "code",
   "execution_count": 180,
   "metadata": {},
   "outputs": [
    {
     "data": {
      "text/plain": [
       "89.98496679914548"
      ]
     },
     "execution_count": 180,
     "metadata": {},
     "output_type": "execute_result"
    }
   ],
   "source": [
    "(164303-16455)/164303*100\n"
   ]
  },
  {
   "cell_type": "markdown",
   "metadata": {},
   "source": [
    "## '나이키'"
   ]
  },
  {
   "cell_type": "code",
   "execution_count": 125,
   "metadata": {},
   "outputs": [
    {
     "name": "stdout",
     "output_type": "stream",
     "text": [
      "{'나이키 운동화', '나이키 모자', '나이키 스투시 ', '나이키 조거팬츠', '나이키 바지', '나이키 오프화이트 ', '나이키 아노락', '나이키 맨투맨', '나이키 신발', '나이키 베이퍼맥스', '나이키 반팔', '나이키바람막이', '나이키 테크팩', '나이키 윈드러너', '나이키에어맥스97', '나이키 더블스우시 ', '나이키 에어포스', '나이키 후드집업', '나이키 후드티', '나이키 슬리퍼', '나이키 바람막이', '나이키 에어맥스', '나이키운동화 ', '나이키 데이브레이크', '나이키', '나이키 에어로로프트', '나이키모자', '나이키 반바지', '나이키 사카이 ', '나이키반바지'}\n"
     ]
    }
   ],
   "source": [
    "nike = set()\n",
    "for i in keywords:\n",
    "    if 'nike' in i or '나이키' in i:\n",
    "        nike.add(i)\n",
    "print(nike)"
   ]
  },
  {
   "cell_type": "code",
   "execution_count": 120,
   "metadata": {},
   "outputs": [
    {
     "data": {
      "text/html": [
       "<div>\n",
       "<style scoped>\n",
       "    .dataframe tbody tr th:only-of-type {\n",
       "        vertical-align: middle;\n",
       "    }\n",
       "\n",
       "    .dataframe tbody tr th {\n",
       "        vertical-align: top;\n",
       "    }\n",
       "\n",
       "    .dataframe thead th {\n",
       "        text-align: right;\n",
       "    }\n",
       "</style>\n",
       "<table border=\"1\" class=\"dataframe\">\n",
       "  <thead>\n",
       "    <tr style=\"text-align: right;\">\n",
       "      <th></th>\n",
       "      <th>ref_term</th>\n",
       "      <th>imp_id</th>\n",
       "    </tr>\n",
       "  </thead>\n",
       "  <tbody>\n",
       "    <tr>\n",
       "      <th>0</th>\n",
       "      <td>나이키</td>\n",
       "      <td>194465</td>\n",
       "    </tr>\n",
       "    <tr>\n",
       "      <th>2</th>\n",
       "      <td>나이키에어맥스97</td>\n",
       "      <td>9669</td>\n",
       "    </tr>\n",
       "    <tr>\n",
       "      <th>1</th>\n",
       "      <td>나이키 에어맥스</td>\n",
       "      <td>4285</td>\n",
       "    </tr>\n",
       "  </tbody>\n",
       "</table>\n",
       "</div>"
      ],
      "text/plain": [
       "    ref_term  imp_id\n",
       "0        나이키  194465\n",
       "2  나이키에어맥스97    9669\n",
       "1   나이키 에어맥스    4285"
      ]
     },
     "execution_count": 120,
     "metadata": {},
     "output_type": "execute_result"
    }
   ],
   "source": [
    "nike_airmax = df[df['ref_term'].isin(['나이키', '나이키에어맥스97', '나이키 에어맥스', '에어맥스', '나이키에어맥스'])]\n",
    "nike_airmax.groupby('ref_term', as_index=False)['imp_id'].count().sort_values('imp_id', ascending=False)"
   ]
  },
  {
   "cell_type": "code",
   "execution_count": 136,
   "metadata": {},
   "outputs": [
    {
     "data": {
      "text/plain": [
       "sex\n",
       "female    0.130960\n",
       "male      0.854436\n",
       "none      0.014605\n",
       "Name: imp_id, dtype: float64"
      ]
     },
     "execution_count": 136,
     "metadata": {},
     "output_type": "execute_result"
    }
   ],
   "source": [
    "nike_airmax.groupby('sex')['imp_id'].agg(lambda x: len(x)/len(nike_airmax))"
   ]
  },
  {
   "cell_type": "code",
   "execution_count": 118,
   "metadata": {},
   "outputs": [
    {
     "name": "stdout",
     "output_type": "stream",
     "text": [
      "0.9502789705088319\n",
      "0.5568311097321337\n"
     ]
    }
   ],
   "source": [
    "print((194465-9669)/194465)\n",
    "print((9669-4285)/9669)"
   ]
  },
  {
   "cell_type": "code",
   "execution_count": null,
   "metadata": {},
   "outputs": [],
   "source": []
  },
  {
   "cell_type": "code",
   "execution_count": 131,
   "metadata": {},
   "outputs": [
    {
     "data": {
      "text/html": [
       "<div>\n",
       "<style scoped>\n",
       "    .dataframe tbody tr th:only-of-type {\n",
       "        vertical-align: middle;\n",
       "    }\n",
       "\n",
       "    .dataframe tbody tr th {\n",
       "        vertical-align: top;\n",
       "    }\n",
       "\n",
       "    .dataframe thead th {\n",
       "        text-align: right;\n",
       "    }\n",
       "</style>\n",
       "<table border=\"1\" class=\"dataframe\">\n",
       "  <thead>\n",
       "    <tr style=\"text-align: right;\">\n",
       "      <th></th>\n",
       "      <th>ref_term</th>\n",
       "      <th>imp_id</th>\n",
       "    </tr>\n",
       "  </thead>\n",
       "  <tbody>\n",
       "    <tr>\n",
       "      <th>0</th>\n",
       "      <td>나이키</td>\n",
       "      <td>194465</td>\n",
       "    </tr>\n",
       "    <tr>\n",
       "      <th>2</th>\n",
       "      <td>스투시</td>\n",
       "      <td>89586</td>\n",
       "    </tr>\n",
       "    <tr>\n",
       "      <th>1</th>\n",
       "      <td>나이키 스투시</td>\n",
       "      <td>1939</td>\n",
       "    </tr>\n",
       "  </tbody>\n",
       "</table>\n",
       "</div>"
      ],
      "text/plain": [
       "   ref_term  imp_id\n",
       "0       나이키  194465\n",
       "2       스투시   89586\n",
       "1  나이키 스투시     1939"
      ]
     },
     "execution_count": 131,
     "metadata": {},
     "output_type": "execute_result"
    }
   ],
   "source": [
    "nike_stussy = df[df['ref_term'].isin(['나이키', '스투시', '나이키 스투시 ', '스투시 나이키'])]\n",
    "nike_stussy.groupby('ref_term', as_index=False)['imp_id'].count().sort_values('imp_id', ascending=False)"
   ]
  },
  {
   "cell_type": "code",
   "execution_count": 137,
   "metadata": {},
   "outputs": [
    {
     "data": {
      "text/plain": [
       "sex\n",
       "female    0.169862\n",
       "male      0.812194\n",
       "none      0.017945\n",
       "Name: imp_id, dtype: float64"
      ]
     },
     "execution_count": 137,
     "metadata": {},
     "output_type": "execute_result"
    }
   ],
   "source": [
    "nike_stussy.groupby('sex')['imp_id'].agg(lambda x: len(x)/len(nike_stussy))"
   ]
  },
  {
   "cell_type": "code",
   "execution_count": null,
   "metadata": {},
   "outputs": [],
   "source": []
  },
  {
   "cell_type": "markdown",
   "metadata": {},
   "source": [
    "## '지갑'"
   ]
  },
  {
   "cell_type": "code",
   "execution_count": 139,
   "metadata": {},
   "outputs": [
    {
     "name": "stdout",
     "output_type": "stream",
     "text": [
      "{'장지갑', '루이비통 카드지갑', '루이까또즈 반지갑', '지갑', '루이비통 장지갑', '프라다 카드지갑', '구찌 반지갑', '디올 카드지갑', '발렌티노 카드지갑', '샤넬 카드지갑', '구찌지갑 ', '입생로랑 카드지갑', '구찌 지갑', '루이비통 반지갑', '카드지갑', '반지갑', '동전지갑', '고야드 카드지갑', '루이비통지갑', '마르지엘라 카드지갑', '구찌 카드지갑', '루이비통 지갑'}\n"
     ]
    }
   ],
   "source": [
    "wallet = set()\n",
    "for i in keywords:\n",
    "    if '지갑' in i:\n",
    "        wallet.add(i)\n",
    "print(wallet)"
   ]
  },
  {
   "cell_type": "code",
   "execution_count": 140,
   "metadata": {},
   "outputs": [],
   "source": [
    "gucci_wallet = df[df['ref_term'].isin(['구찌', '카드지갑', '지갑', '구찌 카드지갑', '구찌 지갑'])]"
   ]
  },
  {
   "cell_type": "code",
   "execution_count": 142,
   "metadata": {},
   "outputs": [
    {
     "data": {
      "text/html": [
       "<div>\n",
       "<style scoped>\n",
       "    .dataframe tbody tr th:only-of-type {\n",
       "        vertical-align: middle;\n",
       "    }\n",
       "\n",
       "    .dataframe tbody tr th {\n",
       "        vertical-align: top;\n",
       "    }\n",
       "\n",
       "    .dataframe thead th {\n",
       "        text-align: right;\n",
       "    }\n",
       "</style>\n",
       "<table border=\"1\" class=\"dataframe\">\n",
       "  <thead>\n",
       "    <tr style=\"text-align: right;\">\n",
       "      <th></th>\n",
       "      <th>ref_term</th>\n",
       "      <th>imp_id</th>\n",
       "    </tr>\n",
       "  </thead>\n",
       "  <tbody>\n",
       "    <tr>\n",
       "      <th>3</th>\n",
       "      <td>카드지갑</td>\n",
       "      <td>147895</td>\n",
       "    </tr>\n",
       "    <tr>\n",
       "      <th>0</th>\n",
       "      <td>구찌</td>\n",
       "      <td>130880</td>\n",
       "    </tr>\n",
       "    <tr>\n",
       "      <th>2</th>\n",
       "      <td>지갑</td>\n",
       "      <td>89848</td>\n",
       "    </tr>\n",
       "    <tr>\n",
       "      <th>1</th>\n",
       "      <td>구찌 카드지갑</td>\n",
       "      <td>23263</td>\n",
       "    </tr>\n",
       "  </tbody>\n",
       "</table>\n",
       "</div>"
      ],
      "text/plain": [
       "  ref_term  imp_id\n",
       "3     카드지갑  147895\n",
       "0       구찌  130880\n",
       "2       지갑   89848\n",
       "1  구찌 카드지갑   23263"
      ]
     },
     "execution_count": 142,
     "metadata": {},
     "output_type": "execute_result"
    }
   ],
   "source": [
    "gucci_wallet_cnt = gucci_wallet.groupby('ref_term', as_index=False)['imp_id'].count().sort_values('imp_id', ascending=False)\n",
    "gucci_wallet_cnt"
   ]
  },
  {
   "cell_type": "code",
   "execution_count": 148,
   "metadata": {},
   "outputs": [
    {
     "data": {
      "text/plain": [
       "[0.11504783799317084, 0.31350855745721273, 0.7410849434600659]"
      ]
     },
     "execution_count": 148,
     "metadata": {},
     "output_type": "execute_result"
    }
   ],
   "source": [
    "p = []\n",
    "gucci_wallet_cnt['imp_id'] = gucci_wallet_cnt['imp_id'].astype(int)\n",
    "t = gucci_wallet_cnt['imp_id'].tolist()\n",
    "for i in range(1, 4):\n",
    "    p.append((t[i-1]-t[i])/t[i-1])\n",
    "p"
   ]
  },
  {
   "cell_type": "code",
   "execution_count": 151,
   "metadata": {},
   "outputs": [
    {
     "data": {
      "text/plain": [
       "sex\n",
       "female    0.397217\n",
       "male      0.588859\n",
       "none      0.013924\n",
       "Name: imp_id, dtype: float64"
      ]
     },
     "execution_count": 151,
     "metadata": {},
     "output_type": "execute_result"
    }
   ],
   "source": [
    "gucci_wallet.groupby('sex')['imp_id'].agg(lambda x: len(x)/len(gucci_wallet))"
   ]
  },
  {
   "cell_type": "code",
   "execution_count": null,
   "metadata": {},
   "outputs": [],
   "source": []
  },
  {
   "cell_type": "markdown",
   "metadata": {},
   "source": [
    "## '에어팟'"
   ]
  },
  {
   "cell_type": "code",
   "execution_count": 152,
   "metadata": {},
   "outputs": [
    {
     "name": "stdout",
     "output_type": "stream",
     "text": [
      "{'에어팟프로 케이스', '에어팟2', '에어팟프로', '에어팟 프로 ', '에어팟 프로 케이스', '에어팟 케이스', '에어팟케이스', '에어팟', '에어팟1', '에어팟 프로 미개봉'}\n"
     ]
    }
   ],
   "source": [
    "a = set()\n",
    "for i in keywords:\n",
    "    if '에어팟' in i or 'airpods' in i:\n",
    "        a.add(i)\n",
    "print(a)"
   ]
  },
  {
   "cell_type": "code",
   "execution_count": 153,
   "metadata": {},
   "outputs": [
    {
     "data": {
      "text/html": [
       "<div>\n",
       "<style scoped>\n",
       "    .dataframe tbody tr th:only-of-type {\n",
       "        vertical-align: middle;\n",
       "    }\n",
       "\n",
       "    .dataframe tbody tr th {\n",
       "        vertical-align: top;\n",
       "    }\n",
       "\n",
       "    .dataframe thead th {\n",
       "        text-align: right;\n",
       "    }\n",
       "</style>\n",
       "<table border=\"1\" class=\"dataframe\">\n",
       "  <thead>\n",
       "    <tr style=\"text-align: right;\">\n",
       "      <th></th>\n",
       "      <th>ref_term</th>\n",
       "      <th>imp_id</th>\n",
       "    </tr>\n",
       "  </thead>\n",
       "  <tbody>\n",
       "    <tr>\n",
       "      <th>0</th>\n",
       "      <td>에어팟</td>\n",
       "      <td>117979</td>\n",
       "    </tr>\n",
       "    <tr>\n",
       "      <th>2</th>\n",
       "      <td>에어팟프로</td>\n",
       "      <td>51504</td>\n",
       "    </tr>\n",
       "    <tr>\n",
       "      <th>1</th>\n",
       "      <td>에어팟 프로</td>\n",
       "      <td>1869</td>\n",
       "    </tr>\n",
       "  </tbody>\n",
       "</table>\n",
       "</div>"
      ],
      "text/plain": [
       "  ref_term  imp_id\n",
       "0      에어팟  117979\n",
       "2    에어팟프로   51504\n",
       "1  에어팟 프로     1869"
      ]
     },
     "execution_count": 153,
     "metadata": {},
     "output_type": "execute_result"
    }
   ],
   "source": [
    "airpods_pro = df[df['ref_term'].isin(['에어팟프로', '에어팟 프로 ', '에어팟'])].groupby('ref_term', as_index=False)['imp_id'].count().sort_values('imp_id', ascending=False)\n",
    "airpods_pro"
   ]
  },
  {
   "cell_type": "code",
   "execution_count": 154,
   "metadata": {},
   "outputs": [
    {
     "data": {
      "text/plain": [
       "[0.5634477322235313, 0.9637115563839702]"
      ]
     },
     "execution_count": 154,
     "metadata": {},
     "output_type": "execute_result"
    }
   ],
   "source": [
    "p = []\n",
    "t = airpods_pro['imp_id'].astype(int).tolist()\n",
    "for i in range(1, 3):\n",
    "    p.append((t[i-1]-t[i])/t[i-1])\n",
    "p"
   ]
  },
  {
   "cell_type": "code",
   "execution_count": 156,
   "metadata": {},
   "outputs": [
    {
     "data": {
      "text/plain": [
       "sex\n",
       "female    0.278817\n",
       "male      0.714467\n",
       "none      0.006715\n",
       "Name: imp_id, dtype: float64"
      ]
     },
     "execution_count": 156,
     "metadata": {},
     "output_type": "execute_result"
    }
   ],
   "source": [
    "df[df['ref_term'].isin(['에어팟프로', '에어팟 프로 ', '에어팟'])].groupby('sex')['imp_id'].agg(lambda x: len(x)/len(df[df['ref_term'].isin(['에어팟프로', '에어팟 프로 ', '에어팟'])]))"
   ]
  },
  {
   "cell_type": "code",
   "execution_count": null,
   "metadata": {},
   "outputs": [],
   "source": []
  },
  {
   "cell_type": "markdown",
   "metadata": {},
   "source": [
    "## '갤럭시'"
   ]
  },
  {
   "cell_type": "code",
   "execution_count": 159,
   "metadata": {},
   "outputs": [
    {
     "name": "stdout",
     "output_type": "stream",
     "text": [
      "{'갤럭시탭', '갤럭시s20', '갤럭시폴드', '갤럭시s10', '갤럭시s9', '갤럭시z플립', '갤럭시워치', '갤럭시탭s6', '갤럭시 버즈 라이브 ', '갤럭시s8', '갤럭시 버즈 플러스', '갤럭시 버즈 ', '갤럭시노트10플러스', '갤럭시버즈', '갤럭시', '갤럭시버즈플러스', '갤럭시노트10'}\n"
     ]
    }
   ],
   "source": [
    "g = set()\n",
    "for i in keywords:\n",
    "    if '갤럭시' in i:\n",
    "        g.add(i)\n",
    "print(g)"
   ]
  },
  {
   "cell_type": "code",
   "execution_count": 161,
   "metadata": {},
   "outputs": [
    {
     "data": {
      "text/html": [
       "<div>\n",
       "<style scoped>\n",
       "    .dataframe tbody tr th:only-of-type {\n",
       "        vertical-align: middle;\n",
       "    }\n",
       "\n",
       "    .dataframe tbody tr th {\n",
       "        vertical-align: top;\n",
       "    }\n",
       "\n",
       "    .dataframe thead th {\n",
       "        text-align: right;\n",
       "    }\n",
       "</style>\n",
       "<table border=\"1\" class=\"dataframe\">\n",
       "  <thead>\n",
       "    <tr style=\"text-align: right;\">\n",
       "      <th></th>\n",
       "      <th>ref_term</th>\n",
       "      <th>imp_id</th>\n",
       "    </tr>\n",
       "  </thead>\n",
       "  <tbody>\n",
       "    <tr>\n",
       "      <th>3</th>\n",
       "      <td>노트10</td>\n",
       "      <td>47778</td>\n",
       "    </tr>\n",
       "    <tr>\n",
       "      <th>0</th>\n",
       "      <td>갤럭시</td>\n",
       "      <td>27401</td>\n",
       "    </tr>\n",
       "    <tr>\n",
       "      <th>1</th>\n",
       "      <td>갤럭시노트10</td>\n",
       "      <td>20292</td>\n",
       "    </tr>\n",
       "    <tr>\n",
       "      <th>2</th>\n",
       "      <td>갤럭시노트10플러스</td>\n",
       "      <td>13758</td>\n",
       "    </tr>\n",
       "    <tr>\n",
       "      <th>4</th>\n",
       "      <td>노트10플러스</td>\n",
       "      <td>8271</td>\n",
       "    </tr>\n",
       "  </tbody>\n",
       "</table>\n",
       "</div>"
      ],
      "text/plain": [
       "     ref_term  imp_id\n",
       "3        노트10   47778\n",
       "0         갤럭시   27401\n",
       "1     갤럭시노트10   20292\n",
       "2  갤럭시노트10플러스   13758\n",
       "4     노트10플러스    8271"
      ]
     },
     "execution_count": 161,
     "metadata": {},
     "output_type": "execute_result"
    }
   ],
   "source": [
    "galaxy = df[df['ref_term'].isin(['갤럭시노트10플러스', '갤럭시노트10', '갤럭시', '노트10', '노트10플러스', '노트10 플러스'])].groupby('ref_term', as_index=False)['imp_id'].count().sort_values('imp_id', ascending=False)\n",
    "galaxy"
   ]
  },
  {
   "cell_type": "code",
   "execution_count": 162,
   "metadata": {},
   "outputs": [
    {
     "data": {
      "text/plain": [
       "[0.42649336514713887,\n",
       " 0.25944308601875843,\n",
       " 0.3219988172678888,\n",
       " 0.39882250327082425]"
      ]
     },
     "execution_count": 162,
     "metadata": {},
     "output_type": "execute_result"
    }
   ],
   "source": [
    "p = []\n",
    "t = galaxy['imp_id'].astype(int).tolist()\n",
    "for i in range(1, 5):\n",
    "    p.append((t[i-1]-t[i])/t[i-1])\n",
    "p"
   ]
  },
  {
   "cell_type": "code",
   "execution_count": null,
   "metadata": {},
   "outputs": [],
   "source": []
  },
  {
   "cell_type": "code",
   "execution_count": null,
   "metadata": {},
   "outputs": [],
   "source": []
  },
  {
   "cell_type": "code",
   "execution_count": 164,
   "metadata": {},
   "outputs": [
    {
     "data": {
      "text/html": [
       "<div>\n",
       "<style scoped>\n",
       "    .dataframe tbody tr th:only-of-type {\n",
       "        vertical-align: middle;\n",
       "    }\n",
       "\n",
       "    .dataframe tbody tr th {\n",
       "        vertical-align: top;\n",
       "    }\n",
       "\n",
       "    .dataframe thead th {\n",
       "        text-align: right;\n",
       "    }\n",
       "</style>\n",
       "<table border=\"1\" class=\"dataframe\">\n",
       "  <thead>\n",
       "    <tr style=\"text-align: right;\">\n",
       "      <th></th>\n",
       "      <th>ref_term</th>\n",
       "      <th>imp_id</th>\n",
       "    </tr>\n",
       "  </thead>\n",
       "  <tbody>\n",
       "    <tr>\n",
       "      <th>3</th>\n",
       "      <td>버즈</td>\n",
       "      <td>39993</td>\n",
       "    </tr>\n",
       "    <tr>\n",
       "      <th>0</th>\n",
       "      <td>갤럭시</td>\n",
       "      <td>27401</td>\n",
       "    </tr>\n",
       "    <tr>\n",
       "      <th>2</th>\n",
       "      <td>갤럭시버즈</td>\n",
       "      <td>10999</td>\n",
       "    </tr>\n",
       "    <tr>\n",
       "      <th>1</th>\n",
       "      <td>갤럭시 버즈</td>\n",
       "      <td>1012</td>\n",
       "    </tr>\n",
       "  </tbody>\n",
       "</table>\n",
       "</div>"
      ],
      "text/plain": [
       "  ref_term  imp_id\n",
       "3       버즈   39993\n",
       "0      갤럭시   27401\n",
       "2    갤럭시버즈   10999\n",
       "1  갤럭시 버즈     1012"
      ]
     },
     "execution_count": 164,
     "metadata": {},
     "output_type": "execute_result"
    }
   ],
   "source": [
    "buds = df[df['ref_term'].isin(['버즈', '버즈 ', '갤럭시 버즈 ', '갤럭시', '갤럭시버즈'])].groupby('ref_term', as_index=False)['imp_id'].count().sort_values('imp_id', ascending=False)\n",
    "buds"
   ]
  },
  {
   "cell_type": "code",
   "execution_count": 165,
   "metadata": {},
   "outputs": [
    {
     "data": {
      "text/plain": [
       "[0.3148550996424374, 0.5985912922886026, 0.9079916356032367]"
      ]
     },
     "execution_count": 165,
     "metadata": {},
     "output_type": "execute_result"
    }
   ],
   "source": [
    "p = []\n",
    "t = buds['imp_id'].astype(int).tolist()\n",
    "for i in range(1, 4):\n",
    "    p.append((t[i-1]-t[i])/t[i-1])\n",
    "p"
   ]
  },
  {
   "cell_type": "code",
   "execution_count": null,
   "metadata": {},
   "outputs": [],
   "source": []
  },
  {
   "cell_type": "markdown",
   "metadata": {},
   "source": [
    "## '가방'"
   ]
  },
  {
   "cell_type": "code",
   "execution_count": 167,
   "metadata": {},
   "outputs": [
    {
     "name": "stdout",
     "output_type": "stream",
     "text": [
      "{'입생로랑 가방', '버버리가방', '구찌가방', '서류가방', '프라다가방', '루이비통가방', '가방', '샤넬가방', '디올가방', '루이비통 가방', '메트로시티가방'}\n"
     ]
    }
   ],
   "source": [
    "b = set()\n",
    "for i in keywords:\n",
    "    if '가방' in i:\n",
    "        b.add(i)\n",
    "print(b)"
   ]
  },
  {
   "cell_type": "code",
   "execution_count": 168,
   "metadata": {},
   "outputs": [
    {
     "data": {
      "text/html": [
       "<div>\n",
       "<style scoped>\n",
       "    .dataframe tbody tr th:only-of-type {\n",
       "        vertical-align: middle;\n",
       "    }\n",
       "\n",
       "    .dataframe tbody tr th {\n",
       "        vertical-align: top;\n",
       "    }\n",
       "\n",
       "    .dataframe thead th {\n",
       "        text-align: right;\n",
       "    }\n",
       "</style>\n",
       "<table border=\"1\" class=\"dataframe\">\n",
       "  <thead>\n",
       "    <tr style=\"text-align: right;\">\n",
       "      <th></th>\n",
       "      <th>ref_term</th>\n",
       "      <th>imp_id</th>\n",
       "    </tr>\n",
       "  </thead>\n",
       "  <tbody>\n",
       "    <tr>\n",
       "      <th>0</th>\n",
       "      <td>가방</td>\n",
       "      <td>46513</td>\n",
       "    </tr>\n",
       "    <tr>\n",
       "      <th>3</th>\n",
       "      <td>루이비통가방</td>\n",
       "      <td>21420</td>\n",
       "    </tr>\n",
       "    <tr>\n",
       "      <th>2</th>\n",
       "      <td>루이비통 가방</td>\n",
       "      <td>6331</td>\n",
       "    </tr>\n",
       "    <tr>\n",
       "      <th>1</th>\n",
       "      <td>루이비통</td>\n",
       "      <td>4553</td>\n",
       "    </tr>\n",
       "  </tbody>\n",
       "</table>\n",
       "</div>"
      ],
      "text/plain": [
       "  ref_term  imp_id\n",
       "0       가방   46513\n",
       "3   루이비통가방   21420\n",
       "2  루이비통 가방    6331\n",
       "1    루이비통     4553"
      ]
     },
     "execution_count": 168,
     "metadata": {},
     "output_type": "execute_result"
    }
   ],
   "source": [
    "louis = df[df['ref_term'].isin(['루이비통가방', '루이비통', '루이비통 ', '루이비통 가방', '가방'])].groupby('ref_term', as_index=False)['imp_id'].count().sort_values('imp_id', ascending=False)\n",
    "louis"
   ]
  },
  {
   "cell_type": "code",
   "execution_count": 169,
   "metadata": {},
   "outputs": [
    {
     "data": {
      "text/plain": [
       "[0.5394835852342356, 0.7044351073762839, 0.28084030958774286]"
      ]
     },
     "execution_count": 169,
     "metadata": {},
     "output_type": "execute_result"
    }
   ],
   "source": [
    "p = []\n",
    "t = louis['imp_id'].astype(int).tolist()\n",
    "for i in range(1, 4):\n",
    "    p.append((t[i-1]-t[i])/t[i-1])\n",
    "p"
   ]
  },
  {
   "cell_type": "code",
   "execution_count": null,
   "metadata": {},
   "outputs": [],
   "source": []
  },
  {
   "cell_type": "markdown",
   "metadata": {},
   "source": [
    "## '아이패드'"
   ]
  },
  {
   "cell_type": "code",
   "execution_count": 171,
   "metadata": {},
   "outputs": [
    {
     "name": "stdout",
     "output_type": "stream",
     "text": [
      "{'아이패드', '아이패드 프로', '아이패드 7세대 ', '아이패드 프로 3세대', '아이패드 미니5', '아이패드 6세대', '아이패드 에어3'}\n"
     ]
    }
   ],
   "source": [
    "ipad = set()\n",
    "for i in keywords:\n",
    "    if '아이패드' in i:\n",
    "        ipad.add(i)\n",
    "print(ipad)"
   ]
  },
  {
   "cell_type": "code",
   "execution_count": 172,
   "metadata": {},
   "outputs": [
    {
     "data": {
      "text/html": [
       "<div>\n",
       "<style scoped>\n",
       "    .dataframe tbody tr th:only-of-type {\n",
       "        vertical-align: middle;\n",
       "    }\n",
       "\n",
       "    .dataframe tbody tr th {\n",
       "        vertical-align: top;\n",
       "    }\n",
       "\n",
       "    .dataframe thead th {\n",
       "        text-align: right;\n",
       "    }\n",
       "</style>\n",
       "<table border=\"1\" class=\"dataframe\">\n",
       "  <thead>\n",
       "    <tr style=\"text-align: right;\">\n",
       "      <th></th>\n",
       "      <th>ref_term</th>\n",
       "      <th>imp_cnt</th>\n",
       "    </tr>\n",
       "  </thead>\n",
       "  <tbody>\n",
       "    <tr>\n",
       "      <th>0</th>\n",
       "      <td>아이패드</td>\n",
       "      <td>68049</td>\n",
       "    </tr>\n",
       "    <tr>\n",
       "      <th>4</th>\n",
       "      <td>아이패드 에어3</td>\n",
       "      <td>30526</td>\n",
       "    </tr>\n",
       "    <tr>\n",
       "      <th>5</th>\n",
       "      <td>아이패드 프로</td>\n",
       "      <td>15616</td>\n",
       "    </tr>\n",
       "    <tr>\n",
       "      <th>6</th>\n",
       "      <td>아이패드 프로 3세대</td>\n",
       "      <td>10328</td>\n",
       "    </tr>\n",
       "    <tr>\n",
       "      <th>3</th>\n",
       "      <td>아이패드 미니5</td>\n",
       "      <td>8556</td>\n",
       "    </tr>\n",
       "    <tr>\n",
       "      <th>1</th>\n",
       "      <td>아이패드 6세대</td>\n",
       "      <td>7222</td>\n",
       "    </tr>\n",
       "    <tr>\n",
       "      <th>2</th>\n",
       "      <td>아이패드 7세대</td>\n",
       "      <td>222</td>\n",
       "    </tr>\n",
       "  </tbody>\n",
       "</table>\n",
       "</div>"
      ],
      "text/plain": [
       "      ref_term  imp_cnt\n",
       "0         아이패드    68049\n",
       "4     아이패드 에어3    30526\n",
       "5      아이패드 프로    15616\n",
       "6  아이패드 프로 3세대    10328\n",
       "3     아이패드 미니5     8556\n",
       "1     아이패드 6세대     7222\n",
       "2    아이패드 7세대       222"
      ]
     },
     "execution_count": 172,
     "metadata": {},
     "output_type": "execute_result"
    }
   ],
   "source": [
    "df[df['ref_term'].isin(ipad)].groupby('ref_term', as_index=False)['imp_cnt'].count().sort_values('imp_cnt', ascending=False)"
   ]
  },
  {
   "cell_type": "code",
   "execution_count": 177,
   "metadata": {},
   "outputs": [
    {
     "data": {
      "text/html": [
       "<div>\n",
       "<style scoped>\n",
       "    .dataframe tbody tr th:only-of-type {\n",
       "        vertical-align: middle;\n",
       "    }\n",
       "\n",
       "    .dataframe tbody tr th {\n",
       "        vertical-align: top;\n",
       "    }\n",
       "\n",
       "    .dataframe thead th {\n",
       "        text-align: right;\n",
       "    }\n",
       "</style>\n",
       "<table border=\"1\" class=\"dataframe\">\n",
       "  <thead>\n",
       "    <tr style=\"text-align: right;\">\n",
       "      <th></th>\n",
       "      <th>sex</th>\n",
       "      <th>imp_id</th>\n",
       "      <th>ref_term</th>\n",
       "      <th>imp_cnt</th>\n",
       "      <th>device_type</th>\n",
       "      <th>age_detail</th>\n",
       "      <th>age</th>\n",
       "    </tr>\n",
       "  </thead>\n",
       "  <tbody>\n",
       "    <tr>\n",
       "      <th>0</th>\n",
       "      <td>female</td>\n",
       "      <td>0.371423</td>\n",
       "      <td>0.371423</td>\n",
       "      <td>0.371423</td>\n",
       "      <td>0.371423</td>\n",
       "      <td>0.371423</td>\n",
       "      <td>0.371423</td>\n",
       "    </tr>\n",
       "    <tr>\n",
       "      <th>1</th>\n",
       "      <td>male</td>\n",
       "      <td>0.620614</td>\n",
       "      <td>0.620614</td>\n",
       "      <td>0.620614</td>\n",
       "      <td>0.620614</td>\n",
       "      <td>0.620614</td>\n",
       "      <td>0.620614</td>\n",
       "    </tr>\n",
       "    <tr>\n",
       "      <th>2</th>\n",
       "      <td>none</td>\n",
       "      <td>0.007963</td>\n",
       "      <td>0.007963</td>\n",
       "      <td>0.007963</td>\n",
       "      <td>0.007963</td>\n",
       "      <td>0.007963</td>\n",
       "      <td>0.007963</td>\n",
       "    </tr>\n",
       "  </tbody>\n",
       "</table>\n",
       "</div>"
      ],
      "text/plain": [
       "      sex    imp_id  ref_term   imp_cnt  device_type  age_detail       age\n",
       "0  female  0.371423  0.371423  0.371423     0.371423    0.371423  0.371423\n",
       "1    male  0.620614  0.620614  0.620614     0.620614    0.620614  0.620614\n",
       "2    none  0.007963  0.007963  0.007963     0.007963    0.007963  0.007963"
      ]
     },
     "execution_count": 177,
     "metadata": {},
     "output_type": "execute_result"
    }
   ],
   "source": [
    "df[df['ref_term'].isin(ipad)].groupby('sex', as_index=False).agg(lambda x: len(x)/len(df[df['ref_term'].isin(ipad)]))"
   ]
  },
  {
   "cell_type": "code",
   "execution_count": null,
   "metadata": {},
   "outputs": [],
   "source": []
  },
  {
   "cell_type": "markdown",
   "metadata": {},
   "source": [
    "## '노트북'"
   ]
  },
  {
   "cell_type": "code",
   "execution_count": 181,
   "metadata": {},
   "outputs": [
    {
     "name": "stdout",
     "output_type": "stream",
     "text": [
      "{'노트북', '게이밍노트북 ', '게이밍 노트북'}\n"
     ]
    }
   ],
   "source": [
    "n = set()\n",
    "for i in keywords:\n",
    "    if '노트북' in i:\n",
    "        n.add(i)\n",
    "print(n)"
   ]
  },
  {
   "cell_type": "code",
   "execution_count": 183,
   "metadata": {},
   "outputs": [
    {
     "data": {
      "text/html": [
       "<div>\n",
       "<style scoped>\n",
       "    .dataframe tbody tr th:only-of-type {\n",
       "        vertical-align: middle;\n",
       "    }\n",
       "\n",
       "    .dataframe tbody tr th {\n",
       "        vertical-align: top;\n",
       "    }\n",
       "\n",
       "    .dataframe thead th {\n",
       "        text-align: right;\n",
       "    }\n",
       "</style>\n",
       "<table border=\"1\" class=\"dataframe\">\n",
       "  <thead>\n",
       "    <tr style=\"text-align: right;\">\n",
       "      <th></th>\n",
       "      <th>ref_term</th>\n",
       "      <th>imp_id</th>\n",
       "    </tr>\n",
       "  </thead>\n",
       "  <tbody>\n",
       "    <tr>\n",
       "      <th>2</th>\n",
       "      <td>노트북</td>\n",
       "      <td>88671</td>\n",
       "    </tr>\n",
       "    <tr>\n",
       "      <th>0</th>\n",
       "      <td>게이밍 노트북</td>\n",
       "      <td>9729</td>\n",
       "    </tr>\n",
       "    <tr>\n",
       "      <th>1</th>\n",
       "      <td>게이밍노트북</td>\n",
       "      <td>174</td>\n",
       "    </tr>\n",
       "  </tbody>\n",
       "</table>\n",
       "</div>"
      ],
      "text/plain": [
       "  ref_term  imp_id\n",
       "2      노트북   88671\n",
       "0  게이밍 노트북    9729\n",
       "1  게이밍노트북      174"
      ]
     },
     "execution_count": 183,
     "metadata": {},
     "output_type": "execute_result"
    }
   ],
   "source": [
    "df[df['ref_term'].isin(n)].groupby('ref_term', as_index=False)['imp_id'].count().sort_values('imp_id', ascending=False)"
   ]
  },
  {
   "cell_type": "code",
   "execution_count": 185,
   "metadata": {},
   "outputs": [
    {
     "data": {
      "text/plain": [
       "98.21153253160654"
      ]
     },
     "execution_count": 185,
     "metadata": {},
     "output_type": "execute_result"
    }
   ],
   "source": [
    "(9729-174)/9729*100"
   ]
  },
  {
   "cell_type": "code",
   "execution_count": null,
   "metadata": {},
   "outputs": [],
   "source": []
  },
  {
   "cell_type": "markdown",
   "metadata": {},
   "source": [
    "## '시계' / '워치'"
   ]
  },
  {
   "cell_type": "code",
   "execution_count": 188,
   "metadata": {},
   "outputs": [
    {
     "name": "stdout",
     "output_type": "stream",
     "text": [
      "{'시계', '카시오 시계', '빈티지시계', '남자시계', '구찌시계', '구찌 시계', '까르띠에시계', '로렉스시계'}\n"
     ]
    }
   ],
   "source": [
    "w = set()\n",
    "for i in keywords:\n",
    "    if '시계' in i:\n",
    "        w.add(i)\n",
    "print(w)"
   ]
  },
  {
   "cell_type": "code",
   "execution_count": 189,
   "metadata": {},
   "outputs": [
    {
     "data": {
      "text/html": [
       "<div>\n",
       "<style scoped>\n",
       "    .dataframe tbody tr th:only-of-type {\n",
       "        vertical-align: middle;\n",
       "    }\n",
       "\n",
       "    .dataframe tbody tr th {\n",
       "        vertical-align: top;\n",
       "    }\n",
       "\n",
       "    .dataframe thead th {\n",
       "        text-align: right;\n",
       "    }\n",
       "</style>\n",
       "<table border=\"1\" class=\"dataframe\">\n",
       "  <thead>\n",
       "    <tr style=\"text-align: right;\">\n",
       "      <th></th>\n",
       "      <th>ref_term</th>\n",
       "      <th>imp_id</th>\n",
       "    </tr>\n",
       "  </thead>\n",
       "  <tbody>\n",
       "    <tr>\n",
       "      <th>6</th>\n",
       "      <td>시계</td>\n",
       "      <td>126736</td>\n",
       "    </tr>\n",
       "    <tr>\n",
       "      <th>1</th>\n",
       "      <td>구찌시계</td>\n",
       "      <td>20402</td>\n",
       "    </tr>\n",
       "    <tr>\n",
       "      <th>0</th>\n",
       "      <td>구찌 시계</td>\n",
       "      <td>12669</td>\n",
       "    </tr>\n",
       "    <tr>\n",
       "      <th>5</th>\n",
       "      <td>빈티지시계</td>\n",
       "      <td>9385</td>\n",
       "    </tr>\n",
       "    <tr>\n",
       "      <th>7</th>\n",
       "      <td>카시오 시계</td>\n",
       "      <td>6921</td>\n",
       "    </tr>\n",
       "    <tr>\n",
       "      <th>3</th>\n",
       "      <td>남자시계</td>\n",
       "      <td>6449</td>\n",
       "    </tr>\n",
       "    <tr>\n",
       "      <th>4</th>\n",
       "      <td>로렉스시계</td>\n",
       "      <td>6392</td>\n",
       "    </tr>\n",
       "    <tr>\n",
       "      <th>2</th>\n",
       "      <td>까르띠에시계</td>\n",
       "      <td>5499</td>\n",
       "    </tr>\n",
       "  </tbody>\n",
       "</table>\n",
       "</div>"
      ],
      "text/plain": [
       "  ref_term  imp_id\n",
       "6       시계  126736\n",
       "1     구찌시계   20402\n",
       "0    구찌 시계   12669\n",
       "5    빈티지시계    9385\n",
       "7   카시오 시계    6921\n",
       "3     남자시계    6449\n",
       "4    로렉스시계    6392\n",
       "2   까르띠에시계    5499"
      ]
     },
     "execution_count": 189,
     "metadata": {},
     "output_type": "execute_result"
    }
   ],
   "source": [
    "df[df['ref_term'].isin(w)].groupby('ref_term', as_index=False)['imp_id'].count().sort_values('imp_id', ascending=False)"
   ]
  },
  {
   "cell_type": "code",
   "execution_count": 191,
   "metadata": {},
   "outputs": [
    {
     "data": {
      "text/plain": [
       "0.37903146750318595"
      ]
     },
     "execution_count": 191,
     "metadata": {},
     "output_type": "execute_result"
    }
   ],
   "source": []
  },
  {
   "cell_type": "markdown",
   "metadata": {},
   "source": [
    "## '애플 워치'"
   ]
  },
  {
   "cell_type": "code",
   "execution_count": 194,
   "metadata": {},
   "outputs": [
    {
     "name": "stdout",
     "output_type": "stream",
     "text": [
      "{'애플펜슬', '애플워치4', '애플워치5', '애플워치3', '애플워치 '}\n"
     ]
    }
   ],
   "source": [
    "a = set()\n",
    "for i in keywords:\n",
    "    if '애플' in i:\n",
    "        a.add(i)\n",
    "print(a)"
   ]
  },
  {
   "cell_type": "code",
   "execution_count": 195,
   "metadata": {},
   "outputs": [
    {
     "data": {
      "text/html": [
       "<div>\n",
       "<style scoped>\n",
       "    .dataframe tbody tr th:only-of-type {\n",
       "        vertical-align: middle;\n",
       "    }\n",
       "\n",
       "    .dataframe tbody tr th {\n",
       "        vertical-align: top;\n",
       "    }\n",
       "\n",
       "    .dataframe thead th {\n",
       "        text-align: right;\n",
       "    }\n",
       "</style>\n",
       "<table border=\"1\" class=\"dataframe\">\n",
       "  <thead>\n",
       "    <tr style=\"text-align: right;\">\n",
       "      <th></th>\n",
       "      <th>ref_term</th>\n",
       "      <th>imp_id</th>\n",
       "    </tr>\n",
       "  </thead>\n",
       "  <tbody>\n",
       "    <tr>\n",
       "      <th>1</th>\n",
       "      <td>애플워치3</td>\n",
       "      <td>30003</td>\n",
       "    </tr>\n",
       "    <tr>\n",
       "      <th>3</th>\n",
       "      <td>애플워치5</td>\n",
       "      <td>22463</td>\n",
       "    </tr>\n",
       "    <tr>\n",
       "      <th>4</th>\n",
       "      <td>애플펜슬</td>\n",
       "      <td>10425</td>\n",
       "    </tr>\n",
       "    <tr>\n",
       "      <th>2</th>\n",
       "      <td>애플워치4</td>\n",
       "      <td>9926</td>\n",
       "    </tr>\n",
       "    <tr>\n",
       "      <th>0</th>\n",
       "      <td>애플워치</td>\n",
       "      <td>1740</td>\n",
       "    </tr>\n",
       "  </tbody>\n",
       "</table>\n",
       "</div>"
      ],
      "text/plain": [
       "  ref_term  imp_id\n",
       "1    애플워치3   30003\n",
       "3    애플워치5   22463\n",
       "4     애플펜슬   10425\n",
       "2    애플워치4    9926\n",
       "0    애플워치     1740"
      ]
     },
     "execution_count": 195,
     "metadata": {},
     "output_type": "execute_result"
    }
   ],
   "source": [
    "df[df['ref_term'].isin(a)].groupby('ref_term', as_index=False)['imp_id'].count().sort_values('imp_id', ascending=False)"
   ]
  },
  {
   "cell_type": "code",
   "execution_count": 197,
   "metadata": {},
   "outputs": [
    {
     "data": {
      "text/plain": [
       "0.922539286827227"
      ]
     },
     "execution_count": 197,
     "metadata": {},
     "output_type": "execute_result"
    }
   ],
   "source": [
    "(22463-1740)/22463"
   ]
  },
  {
   "cell_type": "code",
   "execution_count": null,
   "metadata": {},
   "outputs": [],
   "source": []
  },
  {
   "cell_type": "markdown",
   "metadata": {},
   "source": [
    "## '꼼데가르송'"
   ]
  },
  {
   "cell_type": "code",
   "execution_count": 200,
   "metadata": {},
   "outputs": [
    {
     "name": "stdout",
     "output_type": "stream",
     "text": [
      "{'꼼데가르송 반팔', '꼼데가르송 가디건', '꼼데가르송'}\n"
     ]
    }
   ],
   "source": [
    "c = set()\n",
    "for i in keywords:\n",
    "    if '꼼데가르송' in i:\n",
    "        c.add(i)\n",
    "print(c)"
   ]
  },
  {
   "cell_type": "code",
   "execution_count": 201,
   "metadata": {},
   "outputs": [
    {
     "data": {
      "text/html": [
       "<div>\n",
       "<style scoped>\n",
       "    .dataframe tbody tr th:only-of-type {\n",
       "        vertical-align: middle;\n",
       "    }\n",
       "\n",
       "    .dataframe tbody tr th {\n",
       "        vertical-align: top;\n",
       "    }\n",
       "\n",
       "    .dataframe thead th {\n",
       "        text-align: right;\n",
       "    }\n",
       "</style>\n",
       "<table border=\"1\" class=\"dataframe\">\n",
       "  <thead>\n",
       "    <tr style=\"text-align: right;\">\n",
       "      <th></th>\n",
       "      <th>ref_term</th>\n",
       "      <th>imp_id</th>\n",
       "    </tr>\n",
       "  </thead>\n",
       "  <tbody>\n",
       "    <tr>\n",
       "      <th>0</th>\n",
       "      <td>꼼데가르송</td>\n",
       "      <td>27517</td>\n",
       "    </tr>\n",
       "    <tr>\n",
       "      <th>2</th>\n",
       "      <td>꼼데가르송 반팔</td>\n",
       "      <td>26821</td>\n",
       "    </tr>\n",
       "    <tr>\n",
       "      <th>1</th>\n",
       "      <td>꼼데가르송 가디건</td>\n",
       "      <td>17933</td>\n",
       "    </tr>\n",
       "  </tbody>\n",
       "</table>\n",
       "</div>"
      ],
      "text/plain": [
       "    ref_term  imp_id\n",
       "0      꼼데가르송   27517\n",
       "2   꼼데가르송 반팔   26821\n",
       "1  꼼데가르송 가디건   17933"
      ]
     },
     "execution_count": 201,
     "metadata": {},
     "output_type": "execute_result"
    }
   ],
   "source": [
    "df[df['ref_term'].isin(c)].groupby('ref_term', as_index=False)['imp_id'].count().sort_values('imp_id', ascending=False)"
   ]
  },
  {
   "cell_type": "code",
   "execution_count": 204,
   "metadata": {},
   "outputs": [
    {
     "data": {
      "text/plain": [
       "34.829378202565685"
      ]
     },
     "execution_count": 204,
     "metadata": {},
     "output_type": "execute_result"
    }
   ],
   "source": [
    "(27517-17933)/27517*100"
   ]
  },
  {
   "cell_type": "markdown",
   "metadata": {},
   "source": [
    "## '반지'"
   ]
  },
  {
   "cell_type": "code",
   "execution_count": 208,
   "metadata": {},
   "outputs": [
    {
     "name": "stdout",
     "output_type": "stream",
     "text": [
      "{'구찌 반지갑', '구찌 반지', '루이비통 반지갑', '14k반지', '크롬하츠 반지', '반지', '금반지', '반지갑', '루이까또즈 반지갑'}\n"
     ]
    }
   ],
   "source": [
    "r = set()\n",
    "for i in keywords:\n",
    "    if '반지' in i:\n",
    "        r.add(i)\n",
    "print(r)"
   ]
  },
  {
   "cell_type": "code",
   "execution_count": 212,
   "metadata": {},
   "outputs": [
    {
     "name": "stdout",
     "output_type": "stream",
     "text": [
      "{'크롬하츠', '크롬하츠 반지', '크롬하츠 팔찌'}\n",
      "set()\n"
     ]
    }
   ],
   "source": [
    "c = set() # for chrome hearts\n",
    "t = set() # for tom ford\n",
    "for i in keywords:\n",
    "    if '크롬하츠' in i:\n",
    "        c.add(i)\n",
    "    elif '톰포드' in i:\n",
    "        t.add(i)\n",
    "print(c)\n",
    "print(t)"
   ]
  },
  {
   "cell_type": "code",
   "execution_count": 209,
   "metadata": {},
   "outputs": [
    {
     "data": {
      "text/plain": [
       "ref_term\n",
       "반지         24181\n",
       "크롬하츠       26441\n",
       "크롬하츠 반지     7401\n",
       "Name: imp_id, dtype: int64"
      ]
     },
     "execution_count": 209,
     "metadata": {},
     "output_type": "execute_result"
    }
   ],
   "source": [
    "df[df['ref_term'].isin(['크롬하츠 반지', '반지', '크롬하츠'])].groupby('ref_term')['imp_id'].count()"
   ]
  },
  {
   "cell_type": "code",
   "execution_count": 214,
   "metadata": {},
   "outputs": [
    {
     "data": {
      "text/plain": [
       "69.39332533807536"
      ]
     },
     "execution_count": 214,
     "metadata": {},
     "output_type": "execute_result"
    }
   ],
   "source": [
    "(24181-7401)/24181*100"
   ]
  },
  {
   "cell_type": "code",
   "execution_count": null,
   "metadata": {},
   "outputs": [],
   "source": []
  },
  {
   "cell_type": "markdown",
   "metadata": {},
   "source": [
    "## '가방'"
   ]
  },
  {
   "cell_type": "code",
   "execution_count": 216,
   "metadata": {},
   "outputs": [
    {
     "name": "stdout",
     "output_type": "stream",
     "text": [
      "{'입생로랑 가방', '버버리가방', '구찌가방', '서류가방', '프라다가방', '루이비통가방', '가방', '샤넬가방', '디올가방', '루이비통 가방', '메트로시티가방'}\n"
     ]
    }
   ],
   "source": [
    "b = set()\n",
    "for i in keywords:\n",
    "    if '가방' in i:\n",
    "        b.add(i)\n",
    "print(b)"
   ]
  },
  {
   "cell_type": "code",
   "execution_count": 217,
   "metadata": {},
   "outputs": [
    {
     "data": {
      "text/html": [
       "<div>\n",
       "<style scoped>\n",
       "    .dataframe tbody tr th:only-of-type {\n",
       "        vertical-align: middle;\n",
       "    }\n",
       "\n",
       "    .dataframe tbody tr th {\n",
       "        vertical-align: top;\n",
       "    }\n",
       "\n",
       "    .dataframe thead th {\n",
       "        text-align: right;\n",
       "    }\n",
       "</style>\n",
       "<table border=\"1\" class=\"dataframe\">\n",
       "  <thead>\n",
       "    <tr style=\"text-align: right;\">\n",
       "      <th></th>\n",
       "      <th>ref_term</th>\n",
       "      <th>imp_id</th>\n",
       "    </tr>\n",
       "  </thead>\n",
       "  <tbody>\n",
       "    <tr>\n",
       "      <th>0</th>\n",
       "      <td>가방</td>\n",
       "      <td>46513</td>\n",
       "    </tr>\n",
       "    <tr>\n",
       "      <th>1</th>\n",
       "      <td>구찌가방</td>\n",
       "      <td>24925</td>\n",
       "    </tr>\n",
       "    <tr>\n",
       "      <th>4</th>\n",
       "      <td>루이비통가방</td>\n",
       "      <td>21420</td>\n",
       "    </tr>\n",
       "    <tr>\n",
       "      <th>7</th>\n",
       "      <td>샤넬가방</td>\n",
       "      <td>13647</td>\n",
       "    </tr>\n",
       "    <tr>\n",
       "      <th>6</th>\n",
       "      <td>버버리가방</td>\n",
       "      <td>11055</td>\n",
       "    </tr>\n",
       "    <tr>\n",
       "      <th>10</th>\n",
       "      <td>프라다가방</td>\n",
       "      <td>10706</td>\n",
       "    </tr>\n",
       "    <tr>\n",
       "      <th>5</th>\n",
       "      <td>메트로시티가방</td>\n",
       "      <td>7310</td>\n",
       "    </tr>\n",
       "    <tr>\n",
       "      <th>2</th>\n",
       "      <td>디올가방</td>\n",
       "      <td>6780</td>\n",
       "    </tr>\n",
       "    <tr>\n",
       "      <th>9</th>\n",
       "      <td>입생로랑 가방</td>\n",
       "      <td>6625</td>\n",
       "    </tr>\n",
       "    <tr>\n",
       "      <th>3</th>\n",
       "      <td>루이비통 가방</td>\n",
       "      <td>6331</td>\n",
       "    </tr>\n",
       "    <tr>\n",
       "      <th>8</th>\n",
       "      <td>서류가방</td>\n",
       "      <td>4906</td>\n",
       "    </tr>\n",
       "  </tbody>\n",
       "</table>\n",
       "</div>"
      ],
      "text/plain": [
       "   ref_term  imp_id\n",
       "0        가방   46513\n",
       "1      구찌가방   24925\n",
       "4    루이비통가방   21420\n",
       "7      샤넬가방   13647\n",
       "6     버버리가방   11055\n",
       "10    프라다가방   10706\n",
       "5   메트로시티가방    7310\n",
       "2      디올가방    6780\n",
       "9   입생로랑 가방    6625\n",
       "3   루이비통 가방    6331\n",
       "8      서류가방    4906"
      ]
     },
     "execution_count": 217,
     "metadata": {},
     "output_type": "execute_result"
    }
   ],
   "source": [
    "df[df['ref_term'].isin(b)].groupby('ref_term', as_index=False)['imp_id'].count().sort_values('imp_id', ascending=False)"
   ]
  },
  {
   "cell_type": "code",
   "execution_count": 218,
   "metadata": {},
   "outputs": [
    {
     "data": {
      "text/html": [
       "<div>\n",
       "<style scoped>\n",
       "    .dataframe tbody tr th:only-of-type {\n",
       "        vertical-align: middle;\n",
       "    }\n",
       "\n",
       "    .dataframe tbody tr th {\n",
       "        vertical-align: top;\n",
       "    }\n",
       "\n",
       "    .dataframe thead th {\n",
       "        text-align: right;\n",
       "    }\n",
       "</style>\n",
       "<table border=\"1\" class=\"dataframe\">\n",
       "  <thead>\n",
       "    <tr style=\"text-align: right;\">\n",
       "      <th></th>\n",
       "      <th>ref_term</th>\n",
       "      <th>imp_id</th>\n",
       "    </tr>\n",
       "  </thead>\n",
       "  <tbody>\n",
       "    <tr>\n",
       "      <th>1</th>\n",
       "      <td>구찌</td>\n",
       "      <td>130880</td>\n",
       "    </tr>\n",
       "    <tr>\n",
       "      <th>0</th>\n",
       "      <td>가방</td>\n",
       "      <td>46513</td>\n",
       "    </tr>\n",
       "    <tr>\n",
       "      <th>2</th>\n",
       "      <td>구찌가방</td>\n",
       "      <td>24925</td>\n",
       "    </tr>\n",
       "  </tbody>\n",
       "</table>\n",
       "</div>"
      ],
      "text/plain": [
       "  ref_term  imp_id\n",
       "1       구찌  130880\n",
       "0       가방   46513\n",
       "2     구찌가방   24925"
      ]
     },
     "execution_count": 218,
     "metadata": {},
     "output_type": "execute_result"
    }
   ],
   "source": [
    "df[df['ref_term'].isin(['구찌', '구찌 ', '구찌가방', '가방'])].groupby('ref_term', as_index=False)['imp_id'].count().sort_values('imp_id', ascending=False)"
   ]
  },
  {
   "cell_type": "code",
   "execution_count": 221,
   "metadata": {},
   "outputs": [
    {
     "data": {
      "text/html": [
       "<div>\n",
       "<style scoped>\n",
       "    .dataframe tbody tr th:only-of-type {\n",
       "        vertical-align: middle;\n",
       "    }\n",
       "\n",
       "    .dataframe tbody tr th {\n",
       "        vertical-align: top;\n",
       "    }\n",
       "\n",
       "    .dataframe thead th {\n",
       "        text-align: right;\n",
       "    }\n",
       "</style>\n",
       "<table border=\"1\" class=\"dataframe\">\n",
       "  <thead>\n",
       "    <tr style=\"text-align: right;\">\n",
       "      <th></th>\n",
       "      <th>ref_term</th>\n",
       "      <th>imp_id</th>\n",
       "    </tr>\n",
       "  </thead>\n",
       "  <tbody>\n",
       "    <tr>\n",
       "      <th>0</th>\n",
       "      <td>가방</td>\n",
       "      <td>46513</td>\n",
       "    </tr>\n",
       "    <tr>\n",
       "      <th>2</th>\n",
       "      <td>샤넬가방</td>\n",
       "      <td>13647</td>\n",
       "    </tr>\n",
       "    <tr>\n",
       "      <th>1</th>\n",
       "      <td>샤넬</td>\n",
       "      <td>7676</td>\n",
       "    </tr>\n",
       "  </tbody>\n",
       "</table>\n",
       "</div>"
      ],
      "text/plain": [
       "  ref_term  imp_id\n",
       "0       가방   46513\n",
       "2     샤넬가방   13647\n",
       "1      샤넬     7676"
      ]
     },
     "execution_count": 221,
     "metadata": {},
     "output_type": "execute_result"
    }
   ],
   "source": [
    "df[df['ref_term'].isin(['샤넬', '샤넬 ', '샤넬가방', '가방'])].groupby('ref_term', as_index=False)['imp_id'].count().sort_values('imp_id', ascending=False)"
   ]
  },
  {
   "cell_type": "code",
   "execution_count": 223,
   "metadata": {},
   "outputs": [
    {
     "data": {
      "text/plain": [
       "43.75320583278376"
      ]
     },
     "execution_count": 223,
     "metadata": {},
     "output_type": "execute_result"
    }
   ],
   "source": [
    "(13647-7676)/13647*100"
   ]
  },
  {
   "cell_type": "code",
   "execution_count": null,
   "metadata": {},
   "outputs": [],
   "source": []
  },
  {
   "cell_type": "markdown",
   "metadata": {},
   "source": [
    "## '맥북'"
   ]
  },
  {
   "cell_type": "code",
   "execution_count": 225,
   "metadata": {},
   "outputs": [
    {
     "name": "stdout",
     "output_type": "stream",
     "text": [
      "{'맥북프로', '맥북'}\n"
     ]
    }
   ],
   "source": [
    "m = set()\n",
    "for i in keywords:\n",
    "    if '맥북' in i:\n",
    "        m.add(i)\n",
    "print(m)"
   ]
  },
  {
   "cell_type": "code",
   "execution_count": 226,
   "metadata": {},
   "outputs": [
    {
     "data": {
      "text/plain": [
       "ref_term\n",
       "맥북      26309\n",
       "맥북프로    12669\n",
       "Name: imp_id, dtype: int64"
      ]
     },
     "execution_count": 226,
     "metadata": {},
     "output_type": "execute_result"
    }
   ],
   "source": [
    "df[df['ref_term'].isin(m)].groupby('ref_term')['imp_id'].count()"
   ]
  },
  {
   "cell_type": "code",
   "execution_count": 227,
   "metadata": {},
   "outputs": [
    {
     "data": {
      "text/plain": [
       "51.84537610703561"
      ]
     },
     "execution_count": 227,
     "metadata": {},
     "output_type": "execute_result"
    }
   ],
   "source": [
    "(26309-12669)/26309*100"
   ]
  },
  {
   "cell_type": "code",
   "execution_count": null,
   "metadata": {},
   "outputs": [],
   "source": [
    " "
   ]
  },
  {
   "cell_type": "markdown",
   "metadata": {},
   "source": [
    "## '닌텐도'"
   ]
  },
  {
   "cell_type": "code",
   "execution_count": 230,
   "metadata": {},
   "outputs": [
    {
     "name": "stdout",
     "output_type": "stream",
     "text": [
      "{'닌텐도', '닌텐도 스위치 라이트', '닌텐도 3ds', '닌텐도스위치 ', '닌텐도 스위치 ', '닌텐도 스위치 동물의숲 에디션'}\n"
     ]
    }
   ],
   "source": [
    "n = set()\n",
    "for i in keywords:\n",
    "    if '닌텐도' in i:\n",
    "        n.add(i)\n",
    "print(n)"
   ]
  },
  {
   "cell_type": "code",
   "execution_count": 231,
   "metadata": {},
   "outputs": [
    {
     "data": {
      "text/html": [
       "<div>\n",
       "<style scoped>\n",
       "    .dataframe tbody tr th:only-of-type {\n",
       "        vertical-align: middle;\n",
       "    }\n",
       "\n",
       "    .dataframe tbody tr th {\n",
       "        vertical-align: top;\n",
       "    }\n",
       "\n",
       "    .dataframe thead th {\n",
       "        text-align: right;\n",
       "    }\n",
       "</style>\n",
       "<table border=\"1\" class=\"dataframe\">\n",
       "  <thead>\n",
       "    <tr style=\"text-align: right;\">\n",
       "      <th></th>\n",
       "      <th>ref_term</th>\n",
       "      <th>imp_id</th>\n",
       "    </tr>\n",
       "  </thead>\n",
       "  <tbody>\n",
       "    <tr>\n",
       "      <th>0</th>\n",
       "      <td>닌텐도</td>\n",
       "      <td>28978</td>\n",
       "    </tr>\n",
       "    <tr>\n",
       "      <th>4</th>\n",
       "      <td>닌텐도 스위치 라이트</td>\n",
       "      <td>19195</td>\n",
       "    </tr>\n",
       "    <tr>\n",
       "      <th>3</th>\n",
       "      <td>닌텐도 스위치 동물의숲 에디션</td>\n",
       "      <td>15109</td>\n",
       "    </tr>\n",
       "    <tr>\n",
       "      <th>1</th>\n",
       "      <td>닌텐도 3ds</td>\n",
       "      <td>7679</td>\n",
       "    </tr>\n",
       "    <tr>\n",
       "      <th>5</th>\n",
       "      <td>닌텐도스위치</td>\n",
       "      <td>5518</td>\n",
       "    </tr>\n",
       "    <tr>\n",
       "      <th>2</th>\n",
       "      <td>닌텐도 스위치</td>\n",
       "      <td>2089</td>\n",
       "    </tr>\n",
       "  </tbody>\n",
       "</table>\n",
       "</div>"
      ],
      "text/plain": [
       "           ref_term  imp_id\n",
       "0               닌텐도   28978\n",
       "4       닌텐도 스위치 라이트   19195\n",
       "3  닌텐도 스위치 동물의숲 에디션   15109\n",
       "1           닌텐도 3ds    7679\n",
       "5           닌텐도스위치     5518\n",
       "2          닌텐도 스위치     2089"
      ]
     },
     "execution_count": 231,
     "metadata": {},
     "output_type": "execute_result"
    }
   ],
   "source": [
    "df[df['ref_term'].isin(n)].groupby('ref_term', as_index=False)['imp_id'].count().sort_values('imp_id', ascending=False)"
   ]
  },
  {
   "cell_type": "code",
   "execution_count": 234,
   "metadata": {},
   "outputs": [
    {
     "data": {
      "text/plain": [
       "62.14208046393621"
      ]
     },
     "execution_count": 234,
     "metadata": {},
     "output_type": "execute_result"
    }
   ],
   "source": [
    "(5518-2089)/5518*100"
   ]
  },
  {
   "cell_type": "code",
   "execution_count": null,
   "metadata": {},
   "outputs": [],
   "source": []
  },
  {
   "cell_type": "markdown",
   "metadata": {},
   "source": [
    "## '자라 원피스'"
   ]
  },
  {
   "cell_type": "code",
   "execution_count": 235,
   "metadata": {},
   "outputs": [
    {
     "name": "stdout",
     "output_type": "stream",
     "text": [
      "{'자라원피스', '자라', '자라 원피스'}\n"
     ]
    }
   ],
   "source": [
    "z = set()\n",
    "for i in keywords:\n",
    "    if '자라' in i:\n",
    "        z.add(i)\n",
    "print(z)"
   ]
  },
  {
   "cell_type": "code",
   "execution_count": 236,
   "metadata": {},
   "outputs": [
    {
     "data": {
      "text/html": [
       "<div>\n",
       "<style scoped>\n",
       "    .dataframe tbody tr th:only-of-type {\n",
       "        vertical-align: middle;\n",
       "    }\n",
       "\n",
       "    .dataframe tbody tr th {\n",
       "        vertical-align: top;\n",
       "    }\n",
       "\n",
       "    .dataframe thead th {\n",
       "        text-align: right;\n",
       "    }\n",
       "</style>\n",
       "<table border=\"1\" class=\"dataframe\">\n",
       "  <thead>\n",
       "    <tr style=\"text-align: right;\">\n",
       "      <th></th>\n",
       "      <th>ref_term</th>\n",
       "      <th>imp_id</th>\n",
       "    </tr>\n",
       "  </thead>\n",
       "  <tbody>\n",
       "    <tr>\n",
       "      <th>0</th>\n",
       "      <td>자라</td>\n",
       "      <td>84768</td>\n",
       "    </tr>\n",
       "    <tr>\n",
       "      <th>1</th>\n",
       "      <td>자라 원피스</td>\n",
       "      <td>20375</td>\n",
       "    </tr>\n",
       "    <tr>\n",
       "      <th>2</th>\n",
       "      <td>자라원피스</td>\n",
       "      <td>8000</td>\n",
       "    </tr>\n",
       "  </tbody>\n",
       "</table>\n",
       "</div>"
      ],
      "text/plain": [
       "  ref_term  imp_id\n",
       "0       자라   84768\n",
       "1   자라 원피스   20375\n",
       "2    자라원피스    8000"
      ]
     },
     "execution_count": 236,
     "metadata": {},
     "output_type": "execute_result"
    }
   ],
   "source": [
    "df[df['ref_term'].isin(z)].groupby('ref_term', as_index=False)['imp_id'].count().sort_values('imp_id', ascending=False)"
   ]
  },
  {
   "cell_type": "code",
   "execution_count": 238,
   "metadata": {},
   "outputs": [
    {
     "data": {
      "text/plain": [
       "60.73619631901841"
      ]
     },
     "execution_count": 238,
     "metadata": {},
     "output_type": "execute_result"
    }
   ],
   "source": [
    "(20375-8000)/20375*100"
   ]
  },
  {
   "cell_type": "code",
   "execution_count": null,
   "metadata": {},
   "outputs": [],
   "source": []
  },
  {
   "cell_type": "markdown",
   "metadata": {},
   "source": [
    "## '후드티'"
   ]
  },
  {
   "cell_type": "code",
   "execution_count": 239,
   "metadata": {},
   "outputs": [
    {
     "name": "stdout",
     "output_type": "stream",
     "text": [
      "{'아크메드라비 후드티', '스톤아일랜드 후드집업', '나이키 후드집업', '나이키 후드티', '후드티', '후드집업', '네이버후드 ', '오프화이트 후드티'}\n"
     ]
    }
   ],
   "source": [
    "h = set()\n",
    "for i in keywords:\n",
    "    if '후드' in i:\n",
    "        h.add(i)\n",
    "print(h)"
   ]
  },
  {
   "cell_type": "code",
   "execution_count": 240,
   "metadata": {},
   "outputs": [
    {
     "data": {
      "text/html": [
       "<div>\n",
       "<style scoped>\n",
       "    .dataframe tbody tr th:only-of-type {\n",
       "        vertical-align: middle;\n",
       "    }\n",
       "\n",
       "    .dataframe tbody tr th {\n",
       "        vertical-align: top;\n",
       "    }\n",
       "\n",
       "    .dataframe thead th {\n",
       "        text-align: right;\n",
       "    }\n",
       "</style>\n",
       "<table border=\"1\" class=\"dataframe\">\n",
       "  <thead>\n",
       "    <tr style=\"text-align: right;\">\n",
       "      <th></th>\n",
       "      <th>ref_term</th>\n",
       "      <th>imp_id</th>\n",
       "    </tr>\n",
       "  </thead>\n",
       "  <tbody>\n",
       "    <tr>\n",
       "      <th>7</th>\n",
       "      <td>후드티</td>\n",
       "      <td>46722</td>\n",
       "    </tr>\n",
       "    <tr>\n",
       "      <th>6</th>\n",
       "      <td>후드집업</td>\n",
       "      <td>22759</td>\n",
       "    </tr>\n",
       "    <tr>\n",
       "      <th>1</th>\n",
       "      <td>나이키 후드티</td>\n",
       "      <td>19798</td>\n",
       "    </tr>\n",
       "    <tr>\n",
       "      <th>0</th>\n",
       "      <td>나이키 후드집업</td>\n",
       "      <td>12939</td>\n",
       "    </tr>\n",
       "    <tr>\n",
       "      <th>5</th>\n",
       "      <td>오프화이트 후드티</td>\n",
       "      <td>10210</td>\n",
       "    </tr>\n",
       "    <tr>\n",
       "      <th>3</th>\n",
       "      <td>스톤아일랜드 후드집업</td>\n",
       "      <td>9609</td>\n",
       "    </tr>\n",
       "    <tr>\n",
       "      <th>4</th>\n",
       "      <td>아크메드라비 후드티</td>\n",
       "      <td>8900</td>\n",
       "    </tr>\n",
       "    <tr>\n",
       "      <th>2</th>\n",
       "      <td>네이버후드</td>\n",
       "      <td>352</td>\n",
       "    </tr>\n",
       "  </tbody>\n",
       "</table>\n",
       "</div>"
      ],
      "text/plain": [
       "      ref_term  imp_id\n",
       "7          후드티   46722\n",
       "6         후드집업   22759\n",
       "1      나이키 후드티   19798\n",
       "0     나이키 후드집업   12939\n",
       "5    오프화이트 후드티   10210\n",
       "3  스톤아일랜드 후드집업    9609\n",
       "4   아크메드라비 후드티    8900\n",
       "2       네이버후드      352"
      ]
     },
     "execution_count": 240,
     "metadata": {},
     "output_type": "execute_result"
    }
   ],
   "source": [
    "df[df['ref_term'].isin(h)].groupby('ref_term', as_index=False)['imp_id'].count().sort_values('imp_id', ascending=False)"
   ]
  },
  {
   "cell_type": "code",
   "execution_count": 241,
   "metadata": {
    "scrolled": true
   },
   "outputs": [
    {
     "data": {
      "text/html": [
       "<div>\n",
       "<style scoped>\n",
       "    .dataframe tbody tr th:only-of-type {\n",
       "        vertical-align: middle;\n",
       "    }\n",
       "\n",
       "    .dataframe tbody tr th {\n",
       "        vertical-align: top;\n",
       "    }\n",
       "\n",
       "    .dataframe thead th {\n",
       "        text-align: right;\n",
       "    }\n",
       "</style>\n",
       "<table border=\"1\" class=\"dataframe\">\n",
       "  <thead>\n",
       "    <tr style=\"text-align: right;\">\n",
       "      <th></th>\n",
       "      <th>ref_term</th>\n",
       "      <th>imp_id</th>\n",
       "    </tr>\n",
       "  </thead>\n",
       "  <tbody>\n",
       "    <tr>\n",
       "      <th>0</th>\n",
       "      <td>나이키</td>\n",
       "      <td>194465</td>\n",
       "    </tr>\n",
       "    <tr>\n",
       "      <th>2</th>\n",
       "      <td>후드티</td>\n",
       "      <td>46722</td>\n",
       "    </tr>\n",
       "    <tr>\n",
       "      <th>1</th>\n",
       "      <td>나이키 후드티</td>\n",
       "      <td>19798</td>\n",
       "    </tr>\n",
       "  </tbody>\n",
       "</table>\n",
       "</div>"
      ],
      "text/plain": [
       "  ref_term  imp_id\n",
       "0      나이키  194465\n",
       "2      후드티   46722\n",
       "1  나이키 후드티   19798"
      ]
     },
     "execution_count": 241,
     "metadata": {},
     "output_type": "execute_result"
    }
   ],
   "source": [
    "df[df['ref_term'].isin(['후드티', '나이키 ', '나이키', '나이키 후드티'])].groupby('ref_term', as_index=False)['imp_id'].count().sort_values('imp_id', ascending=False)"
   ]
  },
  {
   "cell_type": "code",
   "execution_count": 244,
   "metadata": {},
   "outputs": [
    {
     "data": {
      "text/plain": [
       "57.6259577929027"
      ]
     },
     "execution_count": 244,
     "metadata": {},
     "output_type": "execute_result"
    }
   ],
   "source": [
    "(46722-19798)/46722*100"
   ]
  },
  {
   "cell_type": "code",
   "execution_count": 242,
   "metadata": {},
   "outputs": [
    {
     "data": {
      "text/html": [
       "<div>\n",
       "<style scoped>\n",
       "    .dataframe tbody tr th:only-of-type {\n",
       "        vertical-align: middle;\n",
       "    }\n",
       "\n",
       "    .dataframe tbody tr th {\n",
       "        vertical-align: top;\n",
       "    }\n",
       "\n",
       "    .dataframe thead th {\n",
       "        text-align: right;\n",
       "    }\n",
       "</style>\n",
       "<table border=\"1\" class=\"dataframe\">\n",
       "  <thead>\n",
       "    <tr style=\"text-align: right;\">\n",
       "      <th></th>\n",
       "      <th>ref_term</th>\n",
       "      <th>imp_id</th>\n",
       "    </tr>\n",
       "  </thead>\n",
       "  <tbody>\n",
       "    <tr>\n",
       "      <th>0</th>\n",
       "      <td>나이키</td>\n",
       "      <td>194465</td>\n",
       "    </tr>\n",
       "    <tr>\n",
       "      <th>2</th>\n",
       "      <td>후드집업</td>\n",
       "      <td>22759</td>\n",
       "    </tr>\n",
       "    <tr>\n",
       "      <th>1</th>\n",
       "      <td>나이키 후드집업</td>\n",
       "      <td>12939</td>\n",
       "    </tr>\n",
       "  </tbody>\n",
       "</table>\n",
       "</div>"
      ],
      "text/plain": [
       "   ref_term  imp_id\n",
       "0       나이키  194465\n",
       "2      후드집업   22759\n",
       "1  나이키 후드집업   12939"
      ]
     },
     "execution_count": 242,
     "metadata": {},
     "output_type": "execute_result"
    }
   ],
   "source": [
    "df[df['ref_term'].isin(['후드집업', '나이키 ', '나이키', '나이키 후드집업'])].groupby('ref_term', as_index=False)['imp_id'].count().sort_values('imp_id', ascending=False)"
   ]
  },
  {
   "cell_type": "code",
   "execution_count": 246,
   "metadata": {},
   "outputs": [
    {
     "data": {
      "text/plain": [
       "43.147765719056196"
      ]
     },
     "execution_count": 246,
     "metadata": {},
     "output_type": "execute_result"
    }
   ],
   "source": [
    "(22759-12939)/22759*100"
   ]
  },
  {
   "cell_type": "code",
   "execution_count": null,
   "metadata": {},
   "outputs": [],
   "source": []
  },
  {
   "cell_type": "code",
   "execution_count": 284,
   "metadata": {},
   "outputs": [],
   "source": [
    "df.groupby('ref_term', as_index=False)['imp_id'].count().sort_values('imp_id', ascending=False).to_csv('keyword_cnt.csv', index=False)"
   ]
  },
  {
   "cell_type": "markdown",
   "metadata": {},
   "source": [
    "## '스피커'"
   ]
  },
  {
   "cell_type": "code",
   "execution_count": 277,
   "metadata": {},
   "outputs": [
    {
     "name": "stdout",
     "output_type": "stream",
     "text": [
      "{'스피커', '블루투스 스피커'}\n"
     ]
    }
   ],
   "source": [
    "s = set()\n",
    "for i in keywords:\n",
    "    if '스피커' in i:\n",
    "        s.add(i)\n",
    "print(s)"
   ]
  },
  {
   "cell_type": "code",
   "execution_count": 278,
   "metadata": {},
   "outputs": [
    {
     "data": {
      "text/html": [
       "<div>\n",
       "<style scoped>\n",
       "    .dataframe tbody tr th:only-of-type {\n",
       "        vertical-align: middle;\n",
       "    }\n",
       "\n",
       "    .dataframe tbody tr th {\n",
       "        vertical-align: top;\n",
       "    }\n",
       "\n",
       "    .dataframe thead th {\n",
       "        text-align: right;\n",
       "    }\n",
       "</style>\n",
       "<table border=\"1\" class=\"dataframe\">\n",
       "  <thead>\n",
       "    <tr style=\"text-align: right;\">\n",
       "      <th></th>\n",
       "      <th>ref_term</th>\n",
       "      <th>imp_id</th>\n",
       "    </tr>\n",
       "  </thead>\n",
       "  <tbody>\n",
       "    <tr>\n",
       "      <th>0</th>\n",
       "      <td>블루투스 스피커</td>\n",
       "      <td>14750</td>\n",
       "    </tr>\n",
       "    <tr>\n",
       "      <th>1</th>\n",
       "      <td>스피커</td>\n",
       "      <td>8748</td>\n",
       "    </tr>\n",
       "  </tbody>\n",
       "</table>\n",
       "</div>"
      ],
      "text/plain": [
       "   ref_term  imp_id\n",
       "0  블루투스 스피커   14750\n",
       "1       스피커    8748"
      ]
     },
     "execution_count": 278,
     "metadata": {},
     "output_type": "execute_result"
    }
   ],
   "source": [
    "df[df['ref_term'].isin(s)].groupby('ref_term', as_index=False)['imp_id'].count().sort_values('imp_id', ascending=False)"
   ]
  },
  {
   "cell_type": "code",
   "execution_count": 279,
   "metadata": {},
   "outputs": [
    {
     "data": {
      "text/plain": [
       "40.69152542372881"
      ]
     },
     "execution_count": 279,
     "metadata": {},
     "output_type": "execute_result"
    }
   ],
   "source": [
    "(14750-8748)/14750*100"
   ]
  },
  {
   "cell_type": "code",
   "execution_count": null,
   "metadata": {},
   "outputs": [],
   "source": []
  },
  {
   "cell_type": "markdown",
   "metadata": {},
   "source": [
    "## '뉴발란스'"
   ]
  },
  {
   "cell_type": "code",
   "execution_count": 286,
   "metadata": {},
   "outputs": [
    {
     "name": "stdout",
     "output_type": "stream",
     "text": [
      "{'뉴발란스 ', '뉴발란스 327 ', '뉴발란스327'}\n"
     ]
    }
   ],
   "source": [
    "m = set()\n",
    "for i in keywords:\n",
    "    if '뉴발란스' in i:\n",
    "        m.add(i)\n",
    "print(m)"
   ]
  },
  {
   "cell_type": "code",
   "execution_count": 287,
   "metadata": {},
   "outputs": [
    {
     "data": {
      "text/html": [
       "<div>\n",
       "<style scoped>\n",
       "    .dataframe tbody tr th:only-of-type {\n",
       "        vertical-align: middle;\n",
       "    }\n",
       "\n",
       "    .dataframe tbody tr th {\n",
       "        vertical-align: top;\n",
       "    }\n",
       "\n",
       "    .dataframe thead th {\n",
       "        text-align: right;\n",
       "    }\n",
       "</style>\n",
       "<table border=\"1\" class=\"dataframe\">\n",
       "  <thead>\n",
       "    <tr style=\"text-align: right;\">\n",
       "      <th></th>\n",
       "      <th>ref_term</th>\n",
       "      <th>imp_id</th>\n",
       "    </tr>\n",
       "  </thead>\n",
       "  <tbody>\n",
       "    <tr>\n",
       "      <th>2</th>\n",
       "      <td>뉴발란스327</td>\n",
       "      <td>10030</td>\n",
       "    </tr>\n",
       "    <tr>\n",
       "      <th>1</th>\n",
       "      <td>뉴발란스 327</td>\n",
       "      <td>2412</td>\n",
       "    </tr>\n",
       "    <tr>\n",
       "      <th>0</th>\n",
       "      <td>뉴발란스</td>\n",
       "      <td>987</td>\n",
       "    </tr>\n",
       "  </tbody>\n",
       "</table>\n",
       "</div>"
      ],
      "text/plain": [
       "    ref_term  imp_id\n",
       "2    뉴발란스327   10030\n",
       "1  뉴발란스 327     2412\n",
       "0      뉴발란스      987"
      ]
     },
     "execution_count": 287,
     "metadata": {},
     "output_type": "execute_result"
    }
   ],
   "source": [
    "df[df['ref_term'].isin(m)].groupby('ref_term', as_index=False)['imp_id'].count().sort_values('imp_id', ascending=False)"
   ]
  },
  {
   "cell_type": "code",
   "execution_count": 289,
   "metadata": {},
   "outputs": [
    {
     "data": {
      "text/plain": [
       "59.079601990049746"
      ]
     },
     "execution_count": 289,
     "metadata": {},
     "output_type": "execute_result"
    }
   ],
   "source": [
    "(2412-987)/2412*100"
   ]
  },
  {
   "cell_type": "markdown",
   "metadata": {},
   "source": [
    "# 키워드 토큰"
   ]
  },
  {
   "cell_type": "code",
   "execution_count": 291,
   "metadata": {},
   "outputs": [],
   "source": [
    "tokens = []\n",
    "for i in keywords:\n",
    "    tokens.append(i.split(' '))\n"
   ]
  },
  {
   "cell_type": "code",
   "execution_count": 292,
   "metadata": {},
   "outputs": [],
   "source": [
    "long = []\n",
    "for i in tokens:\n",
    "    if len(i) > 1:\n",
    "        long.append(i)"
   ]
  },
  {
   "cell_type": "code",
   "execution_count": 294,
   "metadata": {},
   "outputs": [],
   "source": [
    "token_cnt = {}\n",
    "for i in long:\n",
    "    for j in i:\n",
    "        if j in token_cnt:\n",
    "            token_cnt[j] += 1\n",
    "        else:\n",
    "            token_cnt[j] = 1"
   ]
  },
  {
   "cell_type": "code",
   "execution_count": 302,
   "metadata": {},
   "outputs": [],
   "source": [
    "del token_cnt['']"
   ]
  },
  {
   "cell_type": "code",
   "execution_count": 320,
   "metadata": {},
   "outputs": [
    {
     "data": {
      "text/plain": [
       "{'11': 1,\n",
       " '125': 1,\n",
       " '14k': 1,\n",
       " '14k목걸이': 1,\n",
       " '327': 1,\n",
       " '3ds': 1,\n",
       " '3세대': 1,\n",
       " '5g': 1,\n",
       " '6세대': 1,\n",
       " '7세대': 1,\n",
       " 'acg': 1,\n",
       " 'bts': 1,\n",
       " 'cbr': 1,\n",
       " 'cos': 1,\n",
       " 'cp컴퍼니': 1,\n",
       " 'iab': 2,\n",
       " 'max': 1,\n",
       " 'ps4': 1,\n",
       " 's10': 1,\n",
       " 's20': 1,\n",
       " 'se': 1,\n",
       " 'se2': 1,\n",
       " 'sm5': 1,\n",
       " 'studio': 1,\n",
       " 'x': 1,\n",
       " 'xr': 1,\n",
       " 'xs': 1,\n",
       " '가디건': 4,\n",
       " '가방': 2,\n",
       " '가스건': 1,\n",
       " '가죽자켓': 1,\n",
       " '갤럭시': 3,\n",
       " '게이밍': 1,\n",
       " '게이밍노트북': 1,\n",
       " '겐조': 1,\n",
       " '계정': 3,\n",
       " '고비': 1,\n",
       " '고야드': 2,\n",
       " '골든구스': 1,\n",
       " '공기계': 1,\n",
       " '구찌': 8,\n",
       " '구찌지갑': 1,\n",
       " '귀멸의': 1,\n",
       " '귀멸의칼날': 1,\n",
       " '그래픽카드': 1,\n",
       " '기기': 1,\n",
       " '까르띠에': 1,\n",
       " '꼼데가르송': 2,\n",
       " '나이키': 24,\n",
       " '나이키운동화': 1,\n",
       " '널디': 1,\n",
       " '네이버후드': 1,\n",
       " '노스페이스': 2,\n",
       " '노트북': 1,\n",
       " '농구화': 1,\n",
       " '뉴발란스': 2,\n",
       " '니들스': 1,\n",
       " '니트': 2,\n",
       " '닉네임': 1,\n",
       " '닌텐도': 4,\n",
       " '닌텐도스위치': 1,\n",
       " '대구': 1,\n",
       " '더블스우시': 1,\n",
       " '더오픈프로덕트': 1,\n",
       " '덩크': 1,\n",
       " '데이브레이크': 2,\n",
       " '데이식스': 1,\n",
       " '동물의숲': 1,\n",
       " '드래곤볼': 2,\n",
       " '드바스크': 1,\n",
       " '디아이콘': 1,\n",
       " '디올': 3,\n",
       " '딕슨': 1,\n",
       " '라벨르블랑': 1,\n",
       " '라씨': 1,\n",
       " '라이브': 2,\n",
       " '라이톤': 1,\n",
       " '라이트': 1,\n",
       " '라코스테': 2,\n",
       " '라프시몬스': 1,\n",
       " '랜박': 1,\n",
       " '러브미우': 1,\n",
       " '러쉬플러스': 1,\n",
       " '럭키슈에뜨': 1,\n",
       " '런스타': 1,\n",
       " '레고': 1,\n",
       " '레디백': 1,\n",
       " '레인부츠': 1,\n",
       " '레진': 2,\n",
       " '레플': 1,\n",
       " '롤': 3,\n",
       " '롱슬리브': 1,\n",
       " '루이까또즈': 1,\n",
       " '루이비통': 10,\n",
       " '르꼬끄': 1,\n",
       " '리나슈슈': 1,\n",
       " '마르지엘라': 1,\n",
       " '마리마켓': 1,\n",
       " '맥케이지': 1,\n",
       " '맨투맨': 5,\n",
       " '메이비베이비': 1,\n",
       " '메종키츠네': 1,\n",
       " '모동숲': 1,\n",
       " '모자': 3,\n",
       " '목걸이': 3,\n",
       " '몽클레어': 4,\n",
       " '무스너클': 2,\n",
       " '미개봉': 1,\n",
       " '미니5': 1,\n",
       " '바람막이': 5,\n",
       " '바지': 2,\n",
       " '반바지': 3,\n",
       " '반지': 2,\n",
       " '반지갑': 3,\n",
       " '반팔': 12,\n",
       " '발렌시아가': 5,\n",
       " '발렌티노': 3,\n",
       " '발리스틱': 1,\n",
       " '방탄': 5,\n",
       " '방탄소년단': 3,\n",
       " '방탄포카': 1,\n",
       " '배그': 1,\n",
       " '버니스웨터': 1,\n",
       " '버버리': 2,\n",
       " '버즈': 5,\n",
       " '베르사체': 1,\n",
       " '베스파': 1,\n",
       " '베이퍼맥스': 1,\n",
       " '베이프': 2,\n",
       " '보이져': 2,\n",
       " '보테가베네타': 1,\n",
       " '부산': 2,\n",
       " '브라이틀링': 1,\n",
       " '블랙베리': 1,\n",
       " '블랙업': 1,\n",
       " '블루투스': 2,\n",
       " '비공굿': 1,\n",
       " '비비안웨스트우드': 1,\n",
       " '빈티지': 2,\n",
       " '사카이': 1,\n",
       " '샤넬': 3,\n",
       " '세이코': 1,\n",
       " '세일러문': 1,\n",
       " '셔츠': 2,\n",
       " '슈가슈가룬': 1,\n",
       " '스니커즈': 3,\n",
       " '스와로브스키': 2,\n",
       " '스위치': 3,\n",
       " '스케이트보드': 1,\n",
       " '스키니피그': 1,\n",
       " '스킨': 1,\n",
       " '스타벅스': 3,\n",
       " '스타킹': 1,\n",
       " '스톤아일랜드': 6,\n",
       " '스투시': 2,\n",
       " '스파이더': 1,\n",
       " '스페셜라이즈드': 1,\n",
       " '스피드러너': 1,\n",
       " '스피커': 1,\n",
       " '슬로우앤드': 1,\n",
       " '슬리퍼': 1,\n",
       " '슬링백': 1,\n",
       " '시계': 2,\n",
       " '시나모롤': 1,\n",
       " '신발': 1,\n",
       " '아노락': 1,\n",
       " '아디다스': 3,\n",
       " '아스날': 1,\n",
       " '아이앱스튜디오': 2,\n",
       " '아이즈원': 2,\n",
       " '아이패드': 6,\n",
       " '아이폰': 6,\n",
       " '아이폰11': 2,\n",
       " '아이폰8': 1,\n",
       " '아이폰8플러스': 1,\n",
       " '아이폰se': 1,\n",
       " '아이폰x': 1,\n",
       " '아이폰xs': 1,\n",
       " '아크메드라비': 1,\n",
       " '알렉산더맥퀸': 1,\n",
       " '애플워치': 1,\n",
       " '앨범': 2,\n",
       " '에디션': 1,\n",
       " '에르메스': 1,\n",
       " '에어3': 1,\n",
       " '에어로로프트': 1,\n",
       " '에어맥스': 1,\n",
       " '에어팟': 4,\n",
       " '에어팟프로': 1,\n",
       " '에어포스': 2,\n",
       " '엔시티': 1,\n",
       " '엔진11': 1,\n",
       " '오니츠카타이거': 1,\n",
       " '오버솔': 1,\n",
       " '오버워치': 2,\n",
       " '오블리크': 1,\n",
       " '오토바이': 2,\n",
       " '오프숄더': 1,\n",
       " '오프화이트': 4,\n",
       " '우포스': 1,\n",
       " '운동화': 1,\n",
       " '원피스': 5,\n",
       " '위너': 1,\n",
       " '윈드러너': 2,\n",
       " '유니폼': 2,\n",
       " '이어폰': 1,\n",
       " '이지부스트': 1,\n",
       " '인형': 1,\n",
       " '입생로랑': 3,\n",
       " '입호흡': 1,\n",
       " '자라': 1,\n",
       " '자전거': 1,\n",
       " '자켓': 1,\n",
       " '장지갑': 1,\n",
       " '전기자전거': 1,\n",
       " '전자담배': 1,\n",
       " '정품': 2,\n",
       " '제네시스': 1,\n",
       " '제습기': 1,\n",
       " '젝시믹스': 1,\n",
       " '젤네일': 1,\n",
       " '조거팬츠': 1,\n",
       " '조던': 1,\n",
       " '조말론': 1,\n",
       " '지갑': 2,\n",
       " '지방시': 1,\n",
       " '지샥': 1,\n",
       " '첼시': 1,\n",
       " '축구': 1,\n",
       " '치넬리': 1,\n",
       " '카드지갑': 9,\n",
       " '카라티': 1,\n",
       " '카메라': 1,\n",
       " '카시오': 1,\n",
       " '카트라이더': 2,\n",
       " '칼날': 1,\n",
       " '칼하트': 1,\n",
       " '캠핑카': 1,\n",
       " '컨버스': 1,\n",
       " '컴퓨터': 1,\n",
       " '케이스': 4,\n",
       " '코렐': 1,\n",
       " '콘스탄틴': 1,\n",
       " '크로스백': 1,\n",
       " '크롬하츠': 2,\n",
       " '크림치즈마켓': 1,\n",
       " '클러치': 9,\n",
       " '탑스토니': 1,\n",
       " '텀블러': 1,\n",
       " '테크팩': 1,\n",
       " '토이스토리': 1,\n",
       " '톰브라운': 4,\n",
       " '트랜스포머': 1,\n",
       " '트리플s': 1,\n",
       " '파라점퍼스': 2,\n",
       " '파워레인저': 1,\n",
       " '팔라스': 1,\n",
       " '팔찌': 4,\n",
       " '패딩': 1,\n",
       " '포카': 2,\n",
       " '포켓몬고': 1,\n",
       " '포켓몬스터': 1,\n",
       " '폴로': 6,\n",
       " '프라다': 1,\n",
       " '프라이탁': 3,\n",
       " '프로': 5,\n",
       " '플러스': 2,\n",
       " '플스4': 1,\n",
       " '피규어': 3,\n",
       " '피아노': 1,\n",
       " '하와이파이브오': 1,\n",
       " '하이크': 1,\n",
       " '핫토이': 1,\n",
       " '해리포터': 1,\n",
       " '헌터': 1,\n",
       " '헤리티지플로스': 1,\n",
       " '후드집업': 2,\n",
       " '후드티': 3}"
      ]
     },
     "execution_count": 320,
     "metadata": {},
     "output_type": "execute_result"
    }
   ],
   "source": [
    "token_cnt"
   ]
  },
  {
   "cell_type": "code",
   "execution_count": 303,
   "metadata": {},
   "outputs": [],
   "source": [
    "token_dict = {}\n",
    "for i in token_cnt.keys():\n",
    "    for j in keywords:\n",
    "        if i in j:\n",
    "            if i in token_dict:\n",
    "                token_dict[i].add(j)\n",
    "            else:\n",
    "                token_dict[i] = set()\n",
    "                token_dict[i].add(j)"
   ]
  },
  {
   "cell_type": "code",
   "execution_count": 304,
   "metadata": {},
   "outputs": [
    {
     "data": {
      "text/plain": [
       "{'11': {'아이폰 11', '아이폰11 ', '아이폰11 케이스', '아이폰11pro', '아이폰11프로', '엔진11 '},\n",
       " '125': {'125', '125cc', 'cbr 125', 'cbr125', 'pcx125', '보이져125'},\n",
       " '14k': {'14k', '14k 목걸이', '14k귀걸이', '14k목걸이 ', '14k반지', '14k팔찌'},\n",
       " '14k목걸이': {'14k목걸이 '},\n",
       " '327': {'327', '뉴발란스 327 ', '뉴발란스327'},\n",
       " '3ds': {'닌텐도 3ds'},\n",
       " '3세대': {'아이패드 프로 3세대'},\n",
       " '5g': {'s10 5g '},\n",
       " '6세대': {'아이패드 6세대'},\n",
       " '7세대': {'아이패드 7세대 '},\n",
       " 'acg': {'acg '},\n",
       " 'bts': {'bts '},\n",
       " 'cbr': {'cbr', 'cbr 125', 'cbr125'},\n",
       " 'cos': {'cos '},\n",
       " 'cp컴퍼니': {'cp컴퍼니 '},\n",
       " 'iab': {'iab ', 'iab studio '},\n",
       " 'max': {'nmax', 'xmax', '아이폰xs max'},\n",
       " 'ps4': {'ps4 '},\n",
       " 's10': {'s10', 's10 5g ', '갤럭시s10'},\n",
       " 's20': {'s20 ', '갤럭시s20'},\n",
       " 'se': {'아이폰 se  ', '아이폰 se2', '아이폰se ', '아이폰se2'},\n",
       " 'se2': {'아이폰 se2', '아이폰se2'},\n",
       " 'sm5': {'sm5 '},\n",
       " 'studio': {'iab studio '},\n",
       " 'x': {'bmx',\n",
       "  'gtx1060',\n",
       "  'nmax',\n",
       "  'pcx',\n",
       "  'pcx125',\n",
       "  'pxg',\n",
       "  'xl',\n",
       "  'xmax',\n",
       "  'xxl',\n",
       "  '아이폰 x',\n",
       "  '아이폰 xr',\n",
       "  '아이폰 xs ',\n",
       "  '아이폰x ',\n",
       "  '아이폰xr',\n",
       "  '아이폰xs',\n",
       "  '아이폰xs max'},\n",
       " 'xr': {'아이폰 xr', '아이폰xr'},\n",
       " 'xs': {'아이폰 xs ', '아이폰xs', '아이폰xs max'},\n",
       " '가디건': {'가디건', '꼼데가르송 가디건', '라코스테 가디건', '톰브라운 가디건', '폴로 가디건'},\n",
       " '가방': {'가방',\n",
       "  '구찌가방',\n",
       "  '디올가방',\n",
       "  '루이비통 가방',\n",
       "  '루이비통가방',\n",
       "  '메트로시티가방',\n",
       "  '버버리가방',\n",
       "  '샤넬가방',\n",
       "  '서류가방',\n",
       "  '입생로랑 가방',\n",
       "  '프라다가방'},\n",
       " '가스건': {'가스건 '},\n",
       " '가죽자켓': {'가죽자켓 '},\n",
       " '갤럭시': {'갤럭시',\n",
       "  '갤럭시 버즈 ',\n",
       "  '갤럭시 버즈 라이브 ',\n",
       "  '갤럭시 버즈 플러스',\n",
       "  '갤럭시s10',\n",
       "  '갤럭시s20',\n",
       "  '갤럭시s8',\n",
       "  '갤럭시s9',\n",
       "  '갤럭시z플립',\n",
       "  '갤럭시노트10',\n",
       "  '갤럭시노트10플러스',\n",
       "  '갤럭시버즈',\n",
       "  '갤럭시버즈플러스',\n",
       "  '갤럭시워치',\n",
       "  '갤럭시탭',\n",
       "  '갤럭시탭s6',\n",
       "  '갤럭시폴드'},\n",
       " '게이밍': {'게이밍 노트북', '게이밍노트북 ', '게이밍컴퓨터'},\n",
       " '게이밍노트북': {'게이밍노트북 '},\n",
       " '겐조': {'겐조', '겐조 맨투맨'},\n",
       " '계정': {'롤 계정 ', '배그 계정', '오버워치 계정 '},\n",
       " '고비': {'파라점퍼스 고비'},\n",
       " '고야드': {'고야드', '고야드 카드지갑', '고야드 클러치'},\n",
       " '골든구스': {'골든구스 '},\n",
       " '공기계': {'공기계 '},\n",
       " '구찌': {'구찌',\n",
       "  '구찌 라이톤 ',\n",
       "  '구찌 반지',\n",
       "  '구찌 반지갑',\n",
       "  '구찌 스니커즈',\n",
       "  '구찌 시계',\n",
       "  '구찌 지갑',\n",
       "  '구찌 카드지갑',\n",
       "  '구찌 클러치',\n",
       "  '구찌가방',\n",
       "  '구찌모자',\n",
       "  '구찌시계',\n",
       "  '구찌지갑 ',\n",
       "  '구찌클러치'},\n",
       " '구찌지갑': {'구찌지갑 '},\n",
       " '귀멸의': {'귀멸의 칼날', '귀멸의칼날 '},\n",
       " '귀멸의칼날': {'귀멸의칼날 '},\n",
       " '그래픽카드': {'그래픽카드 '},\n",
       " '기기': {'전자담배 기기'},\n",
       " '까르띠에': {'까르띠에', '까르띠에 팔찌', '까르띠에시계'},\n",
       " '꼼데가르송': {'꼼데가르송', '꼼데가르송 가디건', '꼼데가르송 반팔'},\n",
       " '나이키': {'나이키',\n",
       "  '나이키 더블스우시 ',\n",
       "  '나이키 데이브레이크',\n",
       "  '나이키 맨투맨',\n",
       "  '나이키 모자',\n",
       "  '나이키 바람막이',\n",
       "  '나이키 바지',\n",
       "  '나이키 반바지',\n",
       "  '나이키 반팔',\n",
       "  '나이키 베이퍼맥스',\n",
       "  '나이키 사카이 ',\n",
       "  '나이키 스투시 ',\n",
       "  '나이키 슬리퍼',\n",
       "  '나이키 신발',\n",
       "  '나이키 아노락',\n",
       "  '나이키 에어로로프트',\n",
       "  '나이키 에어맥스',\n",
       "  '나이키 에어포스',\n",
       "  '나이키 오프화이트 ',\n",
       "  '나이키 운동화',\n",
       "  '나이키 윈드러너',\n",
       "  '나이키 조거팬츠',\n",
       "  '나이키 테크팩',\n",
       "  '나이키 후드집업',\n",
       "  '나이키 후드티',\n",
       "  '나이키모자',\n",
       "  '나이키바람막이',\n",
       "  '나이키반바지',\n",
       "  '나이키에어맥스97',\n",
       "  '나이키운동화 '},\n",
       " '나이키운동화': {'나이키운동화 '},\n",
       " '널디': {'널디 '},\n",
       " '네이버후드': {'네이버후드 '},\n",
       " '노스페이스': {'노스페이스 ', '노스페이스 바람막이'},\n",
       " '노트북': {'게이밍 노트북', '게이밍노트북 ', '노트북'},\n",
       " '농구화': {'농구화 '},\n",
       " '뉴발란스': {'뉴발란스 ', '뉴발란스 327 ', '뉴발란스327'},\n",
       " '니들스': {'니들스 '},\n",
       " '니트': {'니트', '니트조끼', '톰브라운 니트', '폴로 니트'},\n",
       " '닉네임': {'롤 닉네임'},\n",
       " '닌텐도': {'닌텐도',\n",
       "  '닌텐도 3ds',\n",
       "  '닌텐도 스위치 ',\n",
       "  '닌텐도 스위치 동물의숲 에디션',\n",
       "  '닌텐도 스위치 라이트',\n",
       "  '닌텐도스위치 '},\n",
       " '닌텐도스위치': {'닌텐도스위치 '},\n",
       " '대구': {'대구 '},\n",
       " '더블스우시': {'나이키 더블스우시 '},\n",
       " '더오픈프로덕트': {'더오픈프로덕트 '},\n",
       " '덩크': {'덩크 '},\n",
       " '데이브레이크': {'나이키 데이브레이크', '데이브레이크 '},\n",
       " '데이식스': {'데이식스 '},\n",
       " '동물의숲': {'닌텐도 스위치 동물의숲 에디션', '동물의숲'},\n",
       " '드래곤볼': {'드래곤볼 ', '드래곤볼 피규어'},\n",
       " '드바스크': {'드바스크', '드바스크 팔찌'},\n",
       " '디아이콘': {'디아이콘', '아이즈원 디아이콘'},\n",
       " '디올': {'디올 ', '디올 오블리크', '디올 카드지갑', '디올가방'},\n",
       " '딕슨': {'맥케이지 딕슨'},\n",
       " '라벨르블랑': {'라벨르블랑 '},\n",
       " '라씨': {'프라이탁 라씨'},\n",
       " '라이브': {'갤럭시 버즈 라이브 ', '버즈 라이브', '버즈라이브'},\n",
       " '라이톤': {'구찌 라이톤 '},\n",
       " '라이트': {'닌텐도 스위치 라이트'},\n",
       " '라코스테': {'라코스테', '라코스테 가디건', '라코스테 원피스'},\n",
       " '라프시몬스': {'라프시몬스 '},\n",
       " '랜박': {'방탄 랜박'},\n",
       " '러브미우': {'러브미우 '},\n",
       " '러쉬플러스': {'카트라이더 러쉬플러스 '},\n",
       " '럭키슈에뜨': {'럭키슈에뜨 '},\n",
       " '런스타': {'런스타', '컨버스 런스타 하이크'},\n",
       " '레고': {'레고 '},\n",
       " '레디백': {'스타벅스 레디백'},\n",
       " '레인부츠': {'레인부츠', '헌터 레인부츠'},\n",
       " '레진': {'레진 ', '원피스 레진'},\n",
       " '레플': {'레플 ', '명품레플리카'},\n",
       " '롤': {'롤', '롤 계정 ', '롤 닉네임', '롤 스킨', '롤렉스', '시나모롤 '},\n",
       " '롱슬리브': {'롱슬리브 '},\n",
       " '루이까또즈': {'루이까또즈', '루이까또즈 반지갑'},\n",
       " '루이비통': {'루이비통 ',\n",
       "  '루이비통 가방',\n",
       "  '루이비통 반지갑',\n",
       "  '루이비통 장지갑',\n",
       "  '루이비통 정품',\n",
       "  '루이비통 지갑',\n",
       "  '루이비통 카드지갑',\n",
       "  '루이비통 크로스백',\n",
       "  '루이비통 클러치',\n",
       "  '루이비통 팔찌',\n",
       "  '루이비통가방',\n",
       "  '루이비통지갑'},\n",
       " '르꼬끄': {'르꼬끄 '},\n",
       " '리나슈슈': {'리나슈슈 '},\n",
       " '마르지엘라': {'마르지엘라', '마르지엘라 카드지갑', '메종마르지엘라'},\n",
       " '마리마켓': {'마리마켓 '},\n",
       " '맥케이지': {'맥케이지 딕슨'},\n",
       " '맨투맨': {'겐조 맨투맨', '나이키 맨투맨', '맨투맨', '스톤아일랜드 맨투맨', '오프화이트 맨투맨', '톰브라운 맨투맨'},\n",
       " '메이비베이비': {'메이비베이비 '},\n",
       " '메종키츠네': {'메종키츠네 '},\n",
       " '모동숲': {'모동숲 '},\n",
       " '모자': {'mlb모자', '구찌모자', '나이키 모자', '나이키모자', '모자', '발렌시아가 모자', '폴로 모자'},\n",
       " '목걸이': {'14k 목걸이',\n",
       "  '14k목걸이 ',\n",
       "  '18k목걸이',\n",
       "  '금목걸이',\n",
       "  '목걸이',\n",
       "  '비비안웨스트우드 목걸이',\n",
       "  '스와로브스키 목걸이'},\n",
       " '몽클레어': {'몽클레어 ', '몽클레어 바람막이', '몽클레어 반팔', '몽클레어 패딩 '},\n",
       " '무스너클': {'무스너클', '무스너클 발리스틱', '무스너클 버니스웨터 '},\n",
       " '미개봉': {'에어팟 프로 미개봉'},\n",
       " '미니5': {'아이패드 미니5'},\n",
       " '바람막이': {'나이키 바람막이',\n",
       "  '나이키바람막이',\n",
       "  '노스페이스 바람막이',\n",
       "  '몽클레어 바람막이',\n",
       "  '바람막이',\n",
       "  '스톤아일랜드 바람막이',\n",
       "  '아디다스 바람막이'},\n",
       " '바지': {'나이키 바지',\n",
       "  '나이키 반바지',\n",
       "  '나이키반바지',\n",
       "  '반바지 ',\n",
       "  '아디다스 바지',\n",
       "  '아디다스 반바지',\n",
       "  '청바지',\n",
       "  '치마바지',\n",
       "  '카고바지'},\n",
       " '반바지': {'나이키 반바지', '나이키반바지', '반바지 ', '아디다스 반바지'},\n",
       " '반지': {'14k반지',\n",
       "  '구찌 반지',\n",
       "  '구찌 반지갑',\n",
       "  '금반지',\n",
       "  '루이까또즈 반지갑',\n",
       "  '루이비통 반지갑',\n",
       "  '반지',\n",
       "  '반지갑',\n",
       "  '크롬하츠 반지'},\n",
       " '반지갑': {'구찌 반지갑', '루이까또즈 반지갑', '루이비통 반지갑', '반지갑'},\n",
       " '반팔': {'꼼데가르송 반팔',\n",
       "  '나이키 반팔',\n",
       "  '몽클레어 반팔',\n",
       "  '반팔 ',\n",
       "  '반팔티',\n",
       "  '발렌시아가 반팔',\n",
       "  '베이프 반팔 ',\n",
       "  '스톤아일랜드 반팔',\n",
       "  '스투시 반팔',\n",
       "  '스파이더 반팔',\n",
       "  '아이앱스튜디오 반팔',\n",
       "  '오프화이트 반팔',\n",
       "  '폴로 반팔'},\n",
       " '발렌시아가': {'발렌시아가',\n",
       "  '발렌시아가 모자',\n",
       "  '발렌시아가 반팔',\n",
       "  '발렌시아가 스피드러너',\n",
       "  '발렌시아가 클러치',\n",
       "  '발렌시아가 트리플s'},\n",
       " '발렌티노': {'발렌티노', '발렌티노 스니커즈', '발렌티노 카드지갑', '발렌티노 클러치'},\n",
       " '발리스틱': {'무스너클 발리스틱'},\n",
       " '방탄': {'방탄 ',\n",
       "  '방탄 랜박',\n",
       "  '방탄 비공굿',\n",
       "  '방탄 앨범',\n",
       "  '방탄 포카',\n",
       "  '방탄소년단 ',\n",
       "  '방탄소년단 앨범',\n",
       "  '방탄소년단 포카',\n",
       "  '방탄포카 '},\n",
       " '방탄소년단': {'방탄소년단 ', '방탄소년단 앨범', '방탄소년단 포카'},\n",
       " '방탄포카': {'방탄포카 '},\n",
       " '배그': {'배그 계정', '스팀배그'},\n",
       " '버니스웨터': {'무스너클 버니스웨터 '},\n",
       " '버버리': {'버버리', '버버리 셔츠', '버버리 스니커즈', '버버리가방'},\n",
       " '버즈': {'갤럭시 버즈 ',\n",
       "  '갤럭시 버즈 라이브 ',\n",
       "  '갤럭시 버즈 플러스',\n",
       "  '갤럭시버즈',\n",
       "  '갤럭시버즈플러스',\n",
       "  '버즈',\n",
       "  '버즈 라이브',\n",
       "  '버즈 플러스 ',\n",
       "  '버즈라이브',\n",
       "  '버즈플러스'},\n",
       " '베르사체': {'베르사체 '},\n",
       " '베스파': {'베스파 '},\n",
       " '베이퍼맥스': {'나이키 베이퍼맥스', '베이퍼맥스'},\n",
       " '베이프': {'베이프 ', '베이프 반팔 '},\n",
       " '보이져': {'보이져 ', '보이져125', '부산 보이져 '},\n",
       " '보테가베네타': {'보테가베네타', '보테가베네타 클러치'},\n",
       " '부산': {'부산', '부산 보이져 ', '부산 오토바이 ', '부산오토바이'},\n",
       " '브라이틀링': {'브라이틀링 '},\n",
       " '블랙베리': {'블랙베리 '},\n",
       " '블랙업': {'블랙업 '},\n",
       " '블루투스': {'블루투스 스피커', '블루투스 이어폰'},\n",
       " '비공굿': {'방탄 비공굿'},\n",
       " '비비안웨스트우드': {'비비안웨스트우드', '비비안웨스트우드 목걸이'},\n",
       " '빈티지': {'빈티지 ', '빈티지 원피스', '빈티지시계', '빈티지원피스', '빈티지인형'},\n",
       " '사카이': {'나이키 사카이 ', '사카이'},\n",
       " '샤넬': {'샤넬 ', '샤넬 정품', '샤넬 카드지갑', '샤넬가방', '샤넬향수'},\n",
       " '세이코': {'세이코 '},\n",
       " '세일러문': {'세일러문 '},\n",
       " '셔츠': {'버버리 셔츠', '셔츠', '셔츠원피스', '폴로 셔츠', '폴로셔츠'},\n",
       " '슈가슈가룬': {'슈가슈가룬 '},\n",
       " '스니커즈': {'구찌 스니커즈', '발렌티노 스니커즈', '버버리 스니커즈', '스니커즈'},\n",
       " '스와로브스키': {'스와로브스키 ', '스와로브스키 목걸이'},\n",
       " '스위치': {'닌텐도 스위치 ', '닌텐도 스위치 동물의숲 에디션', '닌텐도 스위치 라이트', '닌텐도스위치 ', '스위치'},\n",
       " '스케이트보드': {'스케이트보드 '},\n",
       " '스키니피그': {'스키니피그 '},\n",
       " '스킨': {'롤 스킨'},\n",
       " '스타벅스': {'스타벅스 ', '스타벅스 레디백', '스타벅스 텀블러'},\n",
       " '스타킹': {'스타킹 '},\n",
       " '스톤아일랜드': {'스톤아일랜드 ',\n",
       "  '스톤아일랜드 맨투맨',\n",
       "  '스톤아일랜드 바람막이',\n",
       "  '스톤아일랜드 반팔',\n",
       "  '스톤아일랜드 자켓',\n",
       "  '스톤아일랜드 후드집업'},\n",
       " '스투시': {'나이키 스투시 ', '스투시', '스투시 반팔'},\n",
       " '스파이더': {'스파이더', '스파이더 반팔'},\n",
       " '스페셜라이즈드': {'스페셜라이즈드 '},\n",
       " '스피드러너': {'발렌시아가 스피드러너'},\n",
       " '스피커': {'블루투스 스피커', '스피커'},\n",
       " '슬로우앤드': {'슬로우앤드 '},\n",
       " '슬리퍼': {'나이키 슬리퍼', '슬리퍼'},\n",
       " '슬링백': {'슬링백 '},\n",
       " '시계': {'구찌 시계', '구찌시계', '까르띠에시계', '남자시계', '로렉스시계', '빈티지시계', '시계', '카시오 시계'},\n",
       " '시나모롤': {'시나모롤 '},\n",
       " '신발': {'나이키 신발', '신발'},\n",
       " '아노락': {'나이키 아노락', '아노락'},\n",
       " '아디다스': {'아디다스', '아디다스 바람막이', '아디다스 바지', '아디다스 반바지'},\n",
       " '아스날': {'아스날 '},\n",
       " '아이앱스튜디오': {'아이앱스튜디오   ', '아이앱스튜디오 반팔'},\n",
       " '아이즈원': {'아이즈원 ', '아이즈원 디아이콘'},\n",
       " '아이패드': {'아이패드',\n",
       "  '아이패드 6세대',\n",
       "  '아이패드 7세대 ',\n",
       "  '아이패드 미니5',\n",
       "  '아이패드 에어3',\n",
       "  '아이패드 프로',\n",
       "  '아이패드 프로 3세대'},\n",
       " '아이폰': {'아이폰',\n",
       "  '아이폰 11',\n",
       "  '아이폰 se  ',\n",
       "  '아이폰 se2',\n",
       "  '아이폰 x',\n",
       "  '아이폰 xr',\n",
       "  '아이폰 xs ',\n",
       "  '아이폰11 ',\n",
       "  '아이폰11 케이스',\n",
       "  '아이폰11pro',\n",
       "  '아이폰11프로',\n",
       "  '아이폰6',\n",
       "  '아이폰6s',\n",
       "  '아이폰7',\n",
       "  '아이폰8 ',\n",
       "  '아이폰8플러스 ',\n",
       "  '아이폰se ',\n",
       "  '아이폰se2',\n",
       "  '아이폰x ',\n",
       "  '아이폰xr',\n",
       "  '아이폰xs',\n",
       "  '아이폰xs max'},\n",
       " '아이폰11': {'아이폰11 ', '아이폰11 케이스', '아이폰11pro', '아이폰11프로'},\n",
       " '아이폰8': {'아이폰8 ', '아이폰8플러스 '},\n",
       " '아이폰8플러스': {'아이폰8플러스 '},\n",
       " '아이폰se': {'아이폰se ', '아이폰se2'},\n",
       " '아이폰x': {'아이폰x ', '아이폰xr', '아이폰xs', '아이폰xs max'},\n",
       " '아이폰xs': {'아이폰xs', '아이폰xs max'},\n",
       " '아크메드라비': {'아크메드라비 후드티'},\n",
       " '알렉산더맥퀸': {'알렉산더맥퀸', '알렉산더맥퀸 오버솔 '},\n",
       " '애플워치': {'애플워치 ', '애플워치3', '애플워치4', '애플워치5'},\n",
       " '앨범': {'방탄 앨범', '방탄소년단 앨범'},\n",
       " '에디션': {'닌텐도 스위치 동물의숲 에디션'},\n",
       " '에르메스': {'에르메스 '},\n",
       " '에어3': {'아이패드 에어3'},\n",
       " '에어로로프트': {'나이키 에어로로프트'},\n",
       " '에어맥스': {'나이키 에어맥스', '나이키에어맥스97'},\n",
       " '에어팟': {'에어팟',\n",
       "  '에어팟 케이스',\n",
       "  '에어팟 프로 ',\n",
       "  '에어팟 프로 미개봉',\n",
       "  '에어팟 프로 케이스',\n",
       "  '에어팟1',\n",
       "  '에어팟2',\n",
       "  '에어팟케이스',\n",
       "  '에어팟프로',\n",
       "  '에어팟프로 케이스'},\n",
       " '에어팟프로': {'에어팟프로', '에어팟프로 케이스'},\n",
       " '에어포스': {'나이키 에어포스', '에어포스 '},\n",
       " '엔시티': {'엔시티 '},\n",
       " '엔진11': {'엔진11 '},\n",
       " '오니츠카타이거': {'오니츠카타이거 '},\n",
       " '오버솔': {'알렉산더맥퀸 오버솔 '},\n",
       " '오버워치': {'오버워치 ', '오버워치 계정 '},\n",
       " '오블리크': {'디올 오블리크'},\n",
       " '오토바이': {'부산 오토바이 ', '부산오토바이', '오토바이 '},\n",
       " '오프숄더': {'오프숄더 '},\n",
       " '오프화이트': {'나이키 오프화이트 ', '오프화이트', '오프화이트 맨투맨', '오프화이트 반팔', '오프화이트 후드티'},\n",
       " '우포스': {'우포스 '},\n",
       " '운동화': {'나이키 운동화', '나이키운동화 ', '운동화'},\n",
       " '원피스': {'나시원피스',\n",
       "  '라코스테 원피스',\n",
       "  '랩원피스',\n",
       "  '롱원피스',\n",
       "  '미니원피스',\n",
       "  '빈티지 원피스',\n",
       "  '빈티지원피스',\n",
       "  '셔링원피스',\n",
       "  '셔츠원피스',\n",
       "  '원피스',\n",
       "  '원피스 레진',\n",
       "  '원피스 피규어',\n",
       "  '원피스피규어',\n",
       "  '자라 원피스',\n",
       "  '자라원피스'},\n",
       " '위너': {'위너 '},\n",
       " '윈드러너': {'나이키 윈드러너', '윈드러너 '},\n",
       " '유니폼': {'유니폼 ', '축구 유니폼 ', '축구유니폼'},\n",
       " '이어폰': {'블루투스 이어폰', '이어폰'},\n",
       " '이지부스트': {'이지부스트 ', '이지부스트350'},\n",
       " '인형': {'구체관절인형', '바비인형', '빈티지인형', '인형 '},\n",
       " '입생로랑': {'입생로랑', '입생로랑 가방', '입생로랑 카드지갑', '입생로랑 클러치'},\n",
       " '입호흡': {'입호흡 '},\n",
       " '자라': {'자라', '자라 원피스', '자라원피스'},\n",
       " '자전거': {'mtb자전거', '로드자전거', '자전거 ', '전기자전거 '},\n",
       " '자켓': {'가죽자켓 ', '스톤아일랜드 자켓', '자켓', '청자켓', '퍼자켓'},\n",
       " '장지갑': {'루이비통 장지갑', '장지갑'},\n",
       " '전기자전거': {'전기자전거 '},\n",
       " '전자담배': {'전자담배 기기'},\n",
       " '정품': {'루이비통 정품', '샤넬 정품', '정품'},\n",
       " '제네시스': {'제네시스 ', '제네시스쿠페'},\n",
       " '제습기': {'제습기 '},\n",
       " '젝시믹스': {'젝시믹스 '},\n",
       " '젤네일': {'젤네일 '},\n",
       " '조거팬츠': {'나이키 조거팬츠', '조거팬츠'},\n",
       " '조던': {'조던 ', '조던1'},\n",
       " '조말론': {'조말론 '},\n",
       " '지갑': {'고야드 카드지갑',\n",
       "  '구찌 반지갑',\n",
       "  '구찌 지갑',\n",
       "  '구찌 카드지갑',\n",
       "  '구찌지갑 ',\n",
       "  '동전지갑',\n",
       "  '디올 카드지갑',\n",
       "  '루이까또즈 반지갑',\n",
       "  '루이비통 반지갑',\n",
       "  '루이비통 장지갑',\n",
       "  '루이비통 지갑',\n",
       "  '루이비통 카드지갑',\n",
       "  '루이비통지갑',\n",
       "  '마르지엘라 카드지갑',\n",
       "  '반지갑',\n",
       "  '발렌티노 카드지갑',\n",
       "  '샤넬 카드지갑',\n",
       "  '입생로랑 카드지갑',\n",
       "  '장지갑',\n",
       "  '지갑',\n",
       "  '카드지갑',\n",
       "  '프라다 카드지갑'},\n",
       " '지방시': {'지방시 클러치'},\n",
       " '지샥': {'지샥 '},\n",
       " '첼시': {'첼시 '},\n",
       " '축구': {'축구', '축구 유니폼 ', '축구유니폼', '축구화'},\n",
       " '치넬리': {'치넬리 '},\n",
       " '카드지갑': {'고야드 카드지갑',\n",
       "  '구찌 카드지갑',\n",
       "  '디올 카드지갑',\n",
       "  '루이비통 카드지갑',\n",
       "  '마르지엘라 카드지갑',\n",
       "  '발렌티노 카드지갑',\n",
       "  '샤넬 카드지갑',\n",
       "  '입생로랑 카드지갑',\n",
       "  '카드지갑',\n",
       "  '프라다 카드지갑'},\n",
       " '카라티': {'폴로 카라티'},\n",
       " '카메라': {'카메라 ', '필름카메라'},\n",
       " '카시오': {'카시오', '카시오 시계'},\n",
       " '카트라이더': {'카트라이더 ', '카트라이더 러쉬플러스 '},\n",
       " '칼날': {'귀멸의 칼날', '귀멸의칼날 '},\n",
       " '칼하트': {'칼하트 '},\n",
       " '캠핑카': {'캠핑카 '},\n",
       " '컨버스': {'컨버스', '컨버스 런스타 하이크'},\n",
       " '컴퓨터': {'게이밍컴퓨터', '컴퓨터 '},\n",
       " '케이스': {'아이폰11 케이스', '에어팟 케이스', '에어팟 프로 케이스', '에어팟케이스', '에어팟프로 케이스'},\n",
       " '코렐': {'코렐 '},\n",
       " '콘스탄틴': {'콘스탄틴 '},\n",
       " '크로스백': {'루이비통 크로스백', '크로스백'},\n",
       " '크롬하츠': {'크롬하츠', '크롬하츠 반지', '크롬하츠 팔찌'},\n",
       " '크림치즈마켓': {'크림치즈마켓 '},\n",
       " '클러치': {'고야드 클러치',\n",
       "  '구찌 클러치',\n",
       "  '구찌클러치',\n",
       "  '루이비통 클러치',\n",
       "  '발렌시아가 클러치',\n",
       "  '발렌티노 클러치',\n",
       "  '보테가베네타 클러치',\n",
       "  '입생로랑 클러치',\n",
       "  '지방시 클러치',\n",
       "  '클러치',\n",
       "  '클러치백',\n",
       "  '톰브라운 클러치'},\n",
       " '탑스토니': {'탑스토니 '},\n",
       " '텀블러': {'스타벅스 텀블러'},\n",
       " '테크팩': {'나이키 테크팩'},\n",
       " '토이스토리': {'토이스토리 '},\n",
       " '톰브라운': {'톰브라운', '톰브라운 가디건', '톰브라운 니트', '톰브라운 맨투맨', '톰브라운 클러치'},\n",
       " '트랜스포머': {'트랜스포머 '},\n",
       " '트리플s': {'발렌시아가 트리플s'},\n",
       " '파라점퍼스': {'파라점퍼스 ', '파라점퍼스 고비'},\n",
       " '파워레인저': {'파워레인저 '},\n",
       " '팔라스': {'팔라스 '},\n",
       " '팔찌': {'14k팔찌',\n",
       "  '18k팔찌',\n",
       "  '금팔찌',\n",
       "  '까르띠에 팔찌',\n",
       "  '드바스크 팔찌',\n",
       "  '루이비통 팔찌',\n",
       "  '은팔찌',\n",
       "  '크롬하츠 팔찌',\n",
       "  '팔찌'},\n",
       " '패딩': {'롱패딩', '몽클레어 패딩 ', '숏패딩', '패딩'},\n",
       " '포카': {'방탄 포카', '방탄소년단 포카', '방탄포카 '},\n",
       " '포켓몬고': {'포켓몬고 '},\n",
       " '포켓몬스터': {'포켓몬스터 '},\n",
       " '폴로': {'폴로', '폴로 가디건', '폴로 니트', '폴로 모자', '폴로 반팔', '폴로 셔츠', '폴로 카라티', '폴로셔츠'},\n",
       " '프라다': {'프라다', '프라다 카드지갑', '프라다가방'},\n",
       " '프라이탁': {'프라이탁 ', '프라이탁 라씨', '프라이탁 하와이파이브오'},\n",
       " '프로': {'더오픈프로덕트 ',\n",
       "  '랄프로렌',\n",
       "  '마이프로틴',\n",
       "  '맥북프로',\n",
       "  '아이패드 프로',\n",
       "  '아이패드 프로 3세대',\n",
       "  '아이폰11프로',\n",
       "  '에어팟 프로 ',\n",
       "  '에어팟 프로 미개봉',\n",
       "  '에어팟 프로 케이스',\n",
       "  '에어팟프로',\n",
       "  '에어팟프로 케이스',\n",
       "  '프로틴'},\n",
       " '플러스': {'갤럭시 버즈 플러스',\n",
       "  '갤럭시노트10플러스',\n",
       "  '갤럭시버즈플러스',\n",
       "  '노트10플러스',\n",
       "  '버즈 플러스 ',\n",
       "  '버즈플러스',\n",
       "  '아이폰8플러스 ',\n",
       "  '카트라이더 러쉬플러스 '},\n",
       " '플스4': {'플스4 '},\n",
       " '피규어': {'드래곤볼 피규어', '원피스 피규어', '원피스피규어', '피규어 '},\n",
       " '피아노': {'피아노 '},\n",
       " '하와이파이브오': {'프라이탁 하와이파이브오'},\n",
       " '하이크': {'컨버스 런스타 하이크'},\n",
       " '핫토이': {'핫토이 '},\n",
       " '해리포터': {'해리포터 '},\n",
       " '헌터': {'헌터 레인부츠'},\n",
       " '헤리티지플로스': {'헤리티지플로스 '},\n",
       " '후드집업': {'나이키 후드집업', '스톤아일랜드 후드집업', '후드집업'},\n",
       " '후드티': {'나이키 후드티', '아크메드라비 후드티', '오프화이트 후드티', '후드티'}}"
      ]
     },
     "execution_count": 304,
     "metadata": {},
     "output_type": "execute_result"
    }
   ],
   "source": [
    "token_dict"
   ]
  },
  {
   "cell_type": "code",
   "execution_count": 307,
   "metadata": {},
   "outputs": [
    {
     "data": {
      "text/html": [
       "<div>\n",
       "<style scoped>\n",
       "    .dataframe tbody tr th:only-of-type {\n",
       "        vertical-align: middle;\n",
       "    }\n",
       "\n",
       "    .dataframe tbody tr th {\n",
       "        vertical-align: top;\n",
       "    }\n",
       "\n",
       "    .dataframe thead th {\n",
       "        text-align: right;\n",
       "    }\n",
       "</style>\n",
       "<table border=\"1\" class=\"dataframe\">\n",
       "  <thead>\n",
       "    <tr style=\"text-align: right;\">\n",
       "      <th></th>\n",
       "      <th>ref_term</th>\n",
       "      <th>imp_id</th>\n",
       "    </tr>\n",
       "  </thead>\n",
       "  <tbody>\n",
       "    <tr>\n",
       "      <th>4</th>\n",
       "      <td>방탄 포카</td>\n",
       "      <td>18926</td>\n",
       "    </tr>\n",
       "    <tr>\n",
       "      <th>2</th>\n",
       "      <td>방탄 비공굿</td>\n",
       "      <td>7264</td>\n",
       "    </tr>\n",
       "    <tr>\n",
       "      <th>5</th>\n",
       "      <td>방탄소년단</td>\n",
       "      <td>7024</td>\n",
       "    </tr>\n",
       "    <tr>\n",
       "      <th>3</th>\n",
       "      <td>방탄 앨범</td>\n",
       "      <td>5349</td>\n",
       "    </tr>\n",
       "    <tr>\n",
       "      <th>6</th>\n",
       "      <td>방탄소년단 앨범</td>\n",
       "      <td>3918</td>\n",
       "    </tr>\n",
       "    <tr>\n",
       "      <th>0</th>\n",
       "      <td>방탄</td>\n",
       "      <td>3764</td>\n",
       "    </tr>\n",
       "    <tr>\n",
       "      <th>1</th>\n",
       "      <td>방탄 랜박</td>\n",
       "      <td>3520</td>\n",
       "    </tr>\n",
       "    <tr>\n",
       "      <th>7</th>\n",
       "      <td>방탄소년단 포카</td>\n",
       "      <td>3114</td>\n",
       "    </tr>\n",
       "    <tr>\n",
       "      <th>8</th>\n",
       "      <td>방탄포카</td>\n",
       "      <td>78</td>\n",
       "    </tr>\n",
       "  </tbody>\n",
       "</table>\n",
       "</div>"
      ],
      "text/plain": [
       "   ref_term  imp_id\n",
       "4     방탄 포카   18926\n",
       "2    방탄 비공굿    7264\n",
       "5    방탄소년단     7024\n",
       "3     방탄 앨범    5349\n",
       "6  방탄소년단 앨범    3918\n",
       "0       방탄     3764\n",
       "1     방탄 랜박    3520\n",
       "7  방탄소년단 포카    3114\n",
       "8     방탄포카       78"
      ]
     },
     "execution_count": 307,
     "metadata": {},
     "output_type": "execute_result"
    }
   ],
   "source": [
    "df[df['ref_term'].isin(token_dict['방탄'])].groupby('ref_term', as_index=False)['imp_id'].count().sort_values('imp_id', ascending=False)"
   ]
  },
  {
   "cell_type": "code",
   "execution_count": 312,
   "metadata": {},
   "outputs": [
    {
     "data": {
      "text/plain": [
       "97.92773645058448"
      ]
     },
     "execution_count": 312,
     "metadata": {},
     "output_type": "execute_result"
    }
   ],
   "source": [
    "(3764-78)/3764*100"
   ]
  },
  {
   "cell_type": "code",
   "execution_count": null,
   "metadata": {},
   "outputs": [],
   "source": []
  },
  {
   "cell_type": "code",
   "execution_count": 313,
   "metadata": {},
   "outputs": [
    {
     "data": {
      "text/html": [
       "<div>\n",
       "<style scoped>\n",
       "    .dataframe tbody tr th:only-of-type {\n",
       "        vertical-align: middle;\n",
       "    }\n",
       "\n",
       "    .dataframe tbody tr th {\n",
       "        vertical-align: top;\n",
       "    }\n",
       "\n",
       "    .dataframe thead th {\n",
       "        text-align: right;\n",
       "    }\n",
       "</style>\n",
       "<table border=\"1\" class=\"dataframe\">\n",
       "  <thead>\n",
       "    <tr style=\"text-align: right;\">\n",
       "      <th></th>\n",
       "      <th>ref_term</th>\n",
       "      <th>imp_id</th>\n",
       "    </tr>\n",
       "  </thead>\n",
       "  <tbody>\n",
       "    <tr>\n",
       "      <th>1</th>\n",
       "      <td>발렌시아가</td>\n",
       "      <td>39757</td>\n",
       "    </tr>\n",
       "    <tr>\n",
       "      <th>0</th>\n",
       "      <td>모자</td>\n",
       "      <td>25971</td>\n",
       "    </tr>\n",
       "    <tr>\n",
       "      <th>2</th>\n",
       "      <td>발렌시아가 모자</td>\n",
       "      <td>9784</td>\n",
       "    </tr>\n",
       "  </tbody>\n",
       "</table>\n",
       "</div>"
      ],
      "text/plain": [
       "   ref_term  imp_id\n",
       "1     발렌시아가   39757\n",
       "0        모자   25971\n",
       "2  발렌시아가 모자    9784"
      ]
     },
     "execution_count": 313,
     "metadata": {},
     "output_type": "execute_result"
    }
   ],
   "source": [
    "df[df['ref_term'].isin(['발렌시아가', '발렌시아가 모자', '모자'])].groupby('ref_term', as_index=False)['imp_id'].count().sort_values('imp_id', ascending=False)"
   ]
  },
  {
   "cell_type": "code",
   "execution_count": 315,
   "metadata": {},
   "outputs": [
    {
     "data": {
      "text/plain": [
       "62.32721112009549"
      ]
     },
     "execution_count": 315,
     "metadata": {},
     "output_type": "execute_result"
    }
   ],
   "source": [
    "(25971-9784)/25971*100"
   ]
  },
  {
   "cell_type": "code",
   "execution_count": null,
   "metadata": {},
   "outputs": [],
   "source": []
  },
  {
   "cell_type": "code",
   "execution_count": 318,
   "metadata": {
    "scrolled": true
   },
   "outputs": [
    {
     "data": {
      "text/html": [
       "<div>\n",
       "<style scoped>\n",
       "    .dataframe tbody tr th:only-of-type {\n",
       "        vertical-align: middle;\n",
       "    }\n",
       "\n",
       "    .dataframe tbody tr th {\n",
       "        vertical-align: top;\n",
       "    }\n",
       "\n",
       "    .dataframe thead th {\n",
       "        text-align: right;\n",
       "    }\n",
       "</style>\n",
       "<table border=\"1\" class=\"dataframe\">\n",
       "  <thead>\n",
       "    <tr style=\"text-align: right;\">\n",
       "      <th></th>\n",
       "      <th>ref_term</th>\n",
       "      <th>imp_id</th>\n",
       "    </tr>\n",
       "  </thead>\n",
       "  <tbody>\n",
       "    <tr>\n",
       "      <th>4</th>\n",
       "      <td>롤렉스</td>\n",
       "      <td>31977</td>\n",
       "    </tr>\n",
       "    <tr>\n",
       "      <th>0</th>\n",
       "      <td>롤</td>\n",
       "      <td>25280</td>\n",
       "    </tr>\n",
       "    <tr>\n",
       "      <th>3</th>\n",
       "      <td>롤 스킨</td>\n",
       "      <td>9103</td>\n",
       "    </tr>\n",
       "    <tr>\n",
       "      <th>2</th>\n",
       "      <td>롤 닉네임</td>\n",
       "      <td>7314</td>\n",
       "    </tr>\n",
       "    <tr>\n",
       "      <th>1</th>\n",
       "      <td>롤 계정</td>\n",
       "      <td>1097</td>\n",
       "    </tr>\n",
       "    <tr>\n",
       "      <th>5</th>\n",
       "      <td>시나모롤</td>\n",
       "      <td>1022</td>\n",
       "    </tr>\n",
       "  </tbody>\n",
       "</table>\n",
       "</div>"
      ],
      "text/plain": [
       "  ref_term  imp_id\n",
       "4      롤렉스   31977\n",
       "0        롤   25280\n",
       "3     롤 스킨    9103\n",
       "2    롤 닉네임    7314\n",
       "1    롤 계정     1097\n",
       "5    시나모롤     1022"
      ]
     },
     "execution_count": 318,
     "metadata": {},
     "output_type": "execute_result"
    }
   ],
   "source": [
    "df[df['ref_term'].isin(token_dict['롤'])].groupby('ref_term', as_index=False)['imp_id'].count().sort_values('imp_id', ascending=False)"
   ]
  },
  {
   "cell_type": "code",
   "execution_count": null,
   "metadata": {},
   "outputs": [],
   "source": []
  },
  {
   "cell_type": "code",
   "execution_count": null,
   "metadata": {},
   "outputs": [],
   "source": []
  },
  {
   "cell_type": "code",
   "execution_count": null,
   "metadata": {},
   "outputs": [],
   "source": []
  },
  {
   "cell_type": "markdown",
   "metadata": {},
   "source": [
    "## 나이별 노출\n"
   ]
  },
  {
   "cell_type": "code",
   "execution_count": 251,
   "metadata": {},
   "outputs": [],
   "source": [
    "age = df['age_detail'].astype(int)"
   ]
  },
  {
   "cell_type": "code",
   "execution_count": 254,
   "metadata": {},
   "outputs": [
    {
     "name": "stdout",
     "output_type": "stream",
     "text": [
      "11\n",
      "91\n"
     ]
    }
   ],
   "source": [
    "print(age.min())\n",
    "print(age.max())"
   ]
  },
  {
   "cell_type": "code",
   "execution_count": 255,
   "metadata": {},
   "outputs": [
    {
     "data": {
      "text/plain": [
       "array([1, 2])"
      ]
     },
     "execution_count": 255,
     "metadata": {},
     "output_type": "execute_result"
    }
   ],
   "source": [
    "np.arange(1,3)"
   ]
  },
  {
   "cell_type": "code",
   "execution_count": 258,
   "metadata": {},
   "outputs": [],
   "source": [
    "i = 11\n",
    "age_group = {}\n",
    "while i < 93:\n",
    "    age_group[str(i)+'-'+str(i+3)] = np.arange(i,i+3)\n",
    "    i += 3"
   ]
  },
  {
   "cell_type": "code",
   "execution_count": 261,
   "metadata": {},
   "outputs": [],
   "source": [
    "age_count = {}\n",
    "for key in age_group.keys():\n",
    "    age_count[key] = 0"
   ]
  },
  {
   "cell_type": "code",
   "execution_count": 262,
   "metadata": {},
   "outputs": [],
   "source": [
    "for i in age:\n",
    "    for key in age_group.keys():\n",
    "        if i in age_group[key]:\n",
    "            age_count[key] += 1"
   ]
  },
  {
   "cell_type": "code",
   "execution_count": 263,
   "metadata": {},
   "outputs": [
    {
     "data": {
      "text/plain": [
       "{'11-14': 41038,\n",
       " '14-17': 701339,\n",
       " '17-20': 1859235,\n",
       " '20-23': 2061349,\n",
       " '23-26': 1953561,\n",
       " '26-29': 3778798,\n",
       " '29-32': 950750,\n",
       " '32-35': 594595,\n",
       " '35-38': 499956,\n",
       " '38-41': 560626,\n",
       " '41-44': 423107,\n",
       " '44-47': 379328,\n",
       " '47-50': 311251,\n",
       " '50-53': 219586,\n",
       " '53-56': 99860,\n",
       " '56-59': 68244,\n",
       " '59-62': 47160,\n",
       " '62-65': 27507,\n",
       " '65-68': 7799,\n",
       " '68-71': 4142,\n",
       " '71-74': 2248,\n",
       " '74-77': 4464,\n",
       " '77-80': 3610,\n",
       " '80-83': 6718,\n",
       " '83-86': 3670,\n",
       " '86-89': 12,\n",
       " '89-92': 1062,\n",
       " '92-95': 0}"
      ]
     },
     "execution_count": 263,
     "metadata": {},
     "output_type": "execute_result"
    }
   ],
   "source": [
    "age_count"
   ]
  },
  {
   "cell_type": "code",
   "execution_count": 264,
   "metadata": {},
   "outputs": [],
   "source": [
    "n = len(age)\n",
    "for i in age_count:\n",
    "    age_count[i] = round(age_count[i]/n*100, 2)"
   ]
  },
  {
   "cell_type": "code",
   "execution_count": 265,
   "metadata": {},
   "outputs": [
    {
     "data": {
      "text/plain": [
       "{'11-14': 0.28,\n",
       " '14-17': 4.8,\n",
       " '17-20': 12.72,\n",
       " '20-23': 14.11,\n",
       " '23-26': 13.37,\n",
       " '26-29': 25.86,\n",
       " '29-32': 6.51,\n",
       " '32-35': 4.07,\n",
       " '35-38': 3.42,\n",
       " '38-41': 3.84,\n",
       " '41-44': 2.9,\n",
       " '44-47': 2.6,\n",
       " '47-50': 2.13,\n",
       " '50-53': 1.5,\n",
       " '53-56': 0.68,\n",
       " '56-59': 0.47,\n",
       " '59-62': 0.32,\n",
       " '62-65': 0.19,\n",
       " '65-68': 0.05,\n",
       " '68-71': 0.03,\n",
       " '71-74': 0.02,\n",
       " '74-77': 0.03,\n",
       " '77-80': 0.02,\n",
       " '80-83': 0.05,\n",
       " '83-86': 0.03,\n",
       " '86-89': 0.0,\n",
       " '89-92': 0.01,\n",
       " '92-95': 0.0}"
      ]
     },
     "execution_count": 265,
     "metadata": {},
     "output_type": "execute_result"
    }
   ],
   "source": [
    "age_count"
   ]
  },
  {
   "cell_type": "code",
   "execution_count": 274,
   "metadata": {},
   "outputs": [
    {
     "data": {
      "text/html": [
       "<div>\n",
       "<style scoped>\n",
       "    .dataframe tbody tr th:only-of-type {\n",
       "        vertical-align: middle;\n",
       "    }\n",
       "\n",
       "    .dataframe tbody tr th {\n",
       "        vertical-align: top;\n",
       "    }\n",
       "\n",
       "    .dataframe thead th {\n",
       "        text-align: right;\n",
       "    }\n",
       "</style>\n",
       "<table border=\"1\" class=\"dataframe\">\n",
       "  <thead>\n",
       "    <tr style=\"text-align: right;\">\n",
       "      <th></th>\n",
       "      <th>imp_id</th>\n",
       "      <th>ref_term</th>\n",
       "      <th>imp_cnt</th>\n",
       "      <th>device_type</th>\n",
       "      <th>sex</th>\n",
       "      <th>age_detail</th>\n",
       "      <th>age</th>\n",
       "    </tr>\n",
       "  </thead>\n",
       "  <tbody>\n",
       "    <tr>\n",
       "      <th>0</th>\n",
       "      <td>970a5f301685171d226a</td>\n",
       "      <td>니트조끼</td>\n",
       "      <td>19673</td>\n",
       "      <td>i</td>\n",
       "      <td>female</td>\n",
       "      <td>24.0</td>\n",
       "      <td>20</td>\n",
       "    </tr>\n",
       "    <tr>\n",
       "      <th>1</th>\n",
       "      <td>970a5f3019d91739272f</td>\n",
       "      <td>네일팁</td>\n",
       "      <td>27580</td>\n",
       "      <td>i</td>\n",
       "      <td>female</td>\n",
       "      <td>21.0</td>\n",
       "      <td>20</td>\n",
       "    </tr>\n",
       "    <tr>\n",
       "      <th>2</th>\n",
       "      <td>971b5f3010e616e6c9b4</td>\n",
       "      <td>스와로브스키 목걸이</td>\n",
       "      <td>16007</td>\n",
       "      <td>i</td>\n",
       "      <td>female</td>\n",
       "      <td>23.0</td>\n",
       "      <td>20</td>\n",
       "    </tr>\n",
       "    <tr>\n",
       "      <th>3</th>\n",
       "      <td>971b5f301af6173c2988</td>\n",
       "      <td>반지갑</td>\n",
       "      <td>58646</td>\n",
       "      <td>i</td>\n",
       "      <td>female</td>\n",
       "      <td>27.0</td>\n",
       "      <td>20</td>\n",
       "    </tr>\n",
       "    <tr>\n",
       "      <th>4</th>\n",
       "      <td>99e35f301b92173c59a6</td>\n",
       "      <td>원피스</td>\n",
       "      <td>410746</td>\n",
       "      <td>a</td>\n",
       "      <td>female</td>\n",
       "      <td>28.0</td>\n",
       "      <td>20</td>\n",
       "    </tr>\n",
       "  </tbody>\n",
       "</table>\n",
       "</div>"
      ],
      "text/plain": [
       "                 imp_id    ref_term  imp_cnt device_type     sex  age_detail  \\\n",
       "0  970a5f301685171d226a        니트조끼    19673           i  female        24.0   \n",
       "1  970a5f3019d91739272f         네일팁    27580           i  female        21.0   \n",
       "2  971b5f3010e616e6c9b4  스와로브스키 목걸이    16007           i  female        23.0   \n",
       "3  971b5f301af6173c2988         반지갑    58646           i  female        27.0   \n",
       "4  99e35f301b92173c59a6         원피스   410746           a  female        28.0   \n",
       "\n",
       "   age  \n",
       "0   20  \n",
       "1   20  \n",
       "2   20  \n",
       "3   20  \n",
       "4   20  "
      ]
     },
     "execution_count": 274,
     "metadata": {},
     "output_type": "execute_result"
    }
   ],
   "source": [
    "df.head()"
   ]
  },
  {
   "cell_type": "code",
   "execution_count": null,
   "metadata": {},
   "outputs": [],
   "source": []
  }
 ],
 "metadata": {
  "kernelspec": {
   "display_name": "Python 3",
   "language": "python",
   "name": "python3"
  },
  "language_info": {
   "codemirror_mode": {
    "name": "ipython",
    "version": 3
   },
   "file_extension": ".py",
   "mimetype": "text/x-python",
   "name": "python",
   "nbconvert_exporter": "python",
   "pygments_lexer": "ipython3",
   "version": "3.7.5"
  }
 },
 "nbformat": 4,
 "nbformat_minor": 4
}