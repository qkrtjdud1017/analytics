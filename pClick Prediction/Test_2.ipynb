{
 "cells": [
  {
   "cell_type": "code",
   "execution_count": 1,
   "metadata": {},
   "outputs": [],
   "source": [
    "import pandas as pd\n",
    "from sqlalchemy import create_engine\n",
    "from sqlalchemy.pool import NullPool\n",
    "import matplotlib as plt\n",
    "import matplotlib.pylab as plt\n",
    "import seaborn as sns\n",
    "\n"
   ]
  },
  {
   "cell_type": "code",
   "execution_count": 4,
   "metadata": {},
   "outputs": [],
   "source": [
    "import optuna\n",
    "from sklearn.datasets import load_svmlight_file\n",
    "from sklearn.linear_model import LogisticRegression\n",
    "from sklearn.linear_model import LinearRegression\n",
    "\n",
    "from sklearn.ensemble import RandomForestClassifier\n",
    "from xgboost.sklearn import XGBClassifier\n",
    "from sklearn import model_selection\n",
    "from sklearn.metrics import f1_score, recall_score, precision_score, accuracy_score, roc_auc_score"
   ]
  },
  {
   "cell_type": "code",
   "execution_count": 13,
   "metadata": {},
   "outputs": [],
   "source": [
    "q = '''\n",
    "select *\n",
    "from workspace.emily_ctr_df\n",
    "'''\n",
    "data = pd.read_sql(q, con=bun_dw)\n",
    "data.to_csv('df_6hr.csv', index=False)"
   ]
  },
  {
   "cell_type": "code",
   "execution_count": 5,
   "metadata": {},
   "outputs": [],
   "source": [
    "df = df.drop(['imp_content_id', 'imp_content_owner', 'imp_user_id'], axis=1)"
   ]
  },
  {
   "cell_type": "code",
   "execution_count": 31,
   "metadata": {},
   "outputs": [
    {
     "data": {
      "text/html": [
       "<div>\n",
       "<style scoped>\n",
       "    .dataframe tbody tr th:only-of-type {\n",
       "        vertical-align: middle;\n",
       "    }\n",
       "\n",
       "    .dataframe tbody tr th {\n",
       "        vertical-align: top;\n",
       "    }\n",
       "\n",
       "    .dataframe thead th {\n",
       "        text-align: right;\n",
       "    }\n",
       "</style>\n",
       "<table border=\"1\" class=\"dataframe\">\n",
       "  <thead>\n",
       "    <tr style=\"text-align: right;\">\n",
       "      <th></th>\n",
       "      <th>label</th>\n",
       "      <th>day</th>\n",
       "      <th>hour</th>\n",
       "      <th>imp_content_position</th>\n",
       "      <th>imp_page_id</th>\n",
       "      <th>imp_ref_page_id</th>\n",
       "      <th>imp_ref_term</th>\n",
       "      <th>imp_ref_source</th>\n",
       "      <th>user_sex</th>\n",
       "      <th>user_age</th>\n",
       "      <th>...</th>\n",
       "      <th>owner_item_count</th>\n",
       "      <th>owner_interest</th>\n",
       "      <th>owner_follower_cnt</th>\n",
       "      <th>owner_bunpay_count</th>\n",
       "      <th>content_price</th>\n",
       "      <th>content_category_id</th>\n",
       "      <th>content_emergency_cnt</th>\n",
       "      <th>content_comment_cnt</th>\n",
       "      <th>content_interest</th>\n",
       "      <th>content_pfavcnt</th>\n",
       "    </tr>\n",
       "  </thead>\n",
       "  <tbody>\n",
       "    <tr>\n",
       "      <th>0</th>\n",
       "      <td>0</td>\n",
       "      <td>20200601</td>\n",
       "      <td>1</td>\n",
       "      <td>2808</td>\n",
       "      <td>1</td>\n",
       "      <td>0</td>\n",
       "      <td>13769</td>\n",
       "      <td>1</td>\n",
       "      <td>2</td>\n",
       "      <td>27</td>\n",
       "      <td>...</td>\n",
       "      <td>941</td>\n",
       "      <td>106</td>\n",
       "      <td>0</td>\n",
       "      <td>0</td>\n",
       "      <td>23000</td>\n",
       "      <td>57</td>\n",
       "      <td>0</td>\n",
       "      <td>0</td>\n",
       "      <td>268</td>\n",
       "      <td>12</td>\n",
       "    </tr>\n",
       "    <tr>\n",
       "      <th>1</th>\n",
       "      <td>0</td>\n",
       "      <td>20200601</td>\n",
       "      <td>1</td>\n",
       "      <td>3652</td>\n",
       "      <td>1</td>\n",
       "      <td>0</td>\n",
       "      <td>9593</td>\n",
       "      <td>1</td>\n",
       "      <td>2</td>\n",
       "      <td>26</td>\n",
       "      <td>...</td>\n",
       "      <td>1541</td>\n",
       "      <td>25831</td>\n",
       "      <td>0</td>\n",
       "      <td>179</td>\n",
       "      <td>31000</td>\n",
       "      <td>31</td>\n",
       "      <td>1</td>\n",
       "      <td>0</td>\n",
       "      <td>800</td>\n",
       "      <td>19</td>\n",
       "    </tr>\n",
       "    <tr>\n",
       "      <th>2</th>\n",
       "      <td>0</td>\n",
       "      <td>20200601</td>\n",
       "      <td>1</td>\n",
       "      <td>1699</td>\n",
       "      <td>1</td>\n",
       "      <td>0</td>\n",
       "      <td>9339</td>\n",
       "      <td>0</td>\n",
       "      <td>2</td>\n",
       "      <td>27</td>\n",
       "      <td>...</td>\n",
       "      <td>154</td>\n",
       "      <td>198</td>\n",
       "      <td>0</td>\n",
       "      <td>0</td>\n",
       "      <td>15000</td>\n",
       "      <td>8</td>\n",
       "      <td>1</td>\n",
       "      <td>1</td>\n",
       "      <td>4198</td>\n",
       "      <td>148</td>\n",
       "    </tr>\n",
       "    <tr>\n",
       "      <th>3</th>\n",
       "      <td>0</td>\n",
       "      <td>20200601</td>\n",
       "      <td>1</td>\n",
       "      <td>2809</td>\n",
       "      <td>1</td>\n",
       "      <td>0</td>\n",
       "      <td>6007</td>\n",
       "      <td>1</td>\n",
       "      <td>1</td>\n",
       "      <td>27</td>\n",
       "      <td>...</td>\n",
       "      <td>1013</td>\n",
       "      <td>12202</td>\n",
       "      <td>0</td>\n",
       "      <td>22</td>\n",
       "      <td>13500</td>\n",
       "      <td>8</td>\n",
       "      <td>0</td>\n",
       "      <td>0</td>\n",
       "      <td>3929</td>\n",
       "      <td>448</td>\n",
       "    </tr>\n",
       "    <tr>\n",
       "      <th>4</th>\n",
       "      <td>0</td>\n",
       "      <td>20200601</td>\n",
       "      <td>1</td>\n",
       "      <td>1699</td>\n",
       "      <td>1</td>\n",
       "      <td>0</td>\n",
       "      <td>6007</td>\n",
       "      <td>1</td>\n",
       "      <td>1</td>\n",
       "      <td>51</td>\n",
       "      <td>...</td>\n",
       "      <td>461</td>\n",
       "      <td>178535</td>\n",
       "      <td>0</td>\n",
       "      <td>4</td>\n",
       "      <td>12000</td>\n",
       "      <td>58</td>\n",
       "      <td>0</td>\n",
       "      <td>0</td>\n",
       "      <td>1636</td>\n",
       "      <td>107</td>\n",
       "    </tr>\n",
       "  </tbody>\n",
       "</table>\n",
       "<p>5 rows × 23 columns</p>\n",
       "</div>"
      ],
      "text/plain": [
       "   label       day  hour  imp_content_position  imp_page_id  imp_ref_page_id  \\\n",
       "0      0  20200601     1                  2808            1                0   \n",
       "1      0  20200601     1                  3652            1                0   \n",
       "2      0  20200601     1                  1699            1                0   \n",
       "3      0  20200601     1                  2809            1                0   \n",
       "4      0  20200601     1                  1699            1                0   \n",
       "\n",
       "   imp_ref_term  imp_ref_source  user_sex  user_age  ...  owner_item_count  \\\n",
       "0         13769               1         2        27  ...               941   \n",
       "1          9593               1         2        26  ...              1541   \n",
       "2          9339               0         2        27  ...               154   \n",
       "3          6007               1         1        27  ...              1013   \n",
       "4          6007               1         1        51  ...               461   \n",
       "\n",
       "   owner_interest  owner_follower_cnt  owner_bunpay_count  content_price  \\\n",
       "0             106                   0                   0          23000   \n",
       "1           25831                   0                 179          31000   \n",
       "2             198                   0                   0          15000   \n",
       "3           12202                   0                  22          13500   \n",
       "4          178535                   0                   4          12000   \n",
       "\n",
       "   content_category_id  content_emergency_cnt  content_comment_cnt  \\\n",
       "0                   57                      0                    0   \n",
       "1                   31                      1                    0   \n",
       "2                    8                      1                    1   \n",
       "3                    8                      0                    0   \n",
       "4                   58                      0                    0   \n",
       "\n",
       "   content_interest  content_pfavcnt  \n",
       "0               268               12  \n",
       "1               800               19  \n",
       "2              4198              148  \n",
       "3              3929              448  \n",
       "4              1636              107  \n",
       "\n",
       "[5 rows x 23 columns]"
      ]
     },
     "execution_count": 31,
     "metadata": {},
     "output_type": "execute_result"
    }
   ],
   "source": [
    "df.head()"
   ]
  },
  {
   "cell_type": "code",
   "execution_count": 8,
   "metadata": {},
   "outputs": [],
   "source": [
    "from sklearn import preprocessing\n",
    "le = preprocessing.LabelEncoder()\n",
    "\n",
    "sparse_features = ['hour', 'imp_content_position', 'imp_page_id', 'imp_ref_page_id', 'imp_ref_term', 'imp_ref_source', 'user_sex', 'content_category_id']\n",
    "for f in sparse_features:\n",
    "    df[f] = df[f].fillna('-1')\n",
    "    df[f] = le.fit_transform(df[f])"
   ]
  },
  {
   "cell_type": "code",
   "execution_count": 35,
   "metadata": {},
   "outputs": [],
   "source": [
    "from sklearn.model_selection import train_test_split\n",
    "\n",
    "\n",
    "x = df.iloc[:, 1:]\n",
    "y = df.iloc[:, 0]\n",
    "\n",
    "x_train, x_test, y_train, y_test = train_test_split(x, y, test_size=0.2, random_state=0)"
   ]
  },
  {
   "cell_type": "code",
   "execution_count": 43,
   "metadata": {},
   "outputs": [
    {
     "name": "stdout",
     "output_type": "stream",
     "text": [
      "log loss: 8.651399912216744\n"
     ]
    }
   ],
   "source": [
    "lr = LogisticRegression(class_weight='balanced', n_jobs=-1, random_state=42)\n",
    "lr.fit(x_train, y_train)\n",
    "pred = lr.predict(x_test)\n",
    "print('log loss:', log_loss(y_test.astype(int), pred.astype(int)))"
   ]
  },
  {
   "cell_type": "code",
   "execution_count": 47,
   "metadata": {
    "scrolled": true
   },
   "outputs": [
    {
     "name": "stdout",
     "output_type": "stream",
     "text": [
      "0.0\n",
      "log loss: 1.0303491137269998\n"
     ]
    }
   ],
   "source": [
    "# class_weight: dict or ‘balanced’, default=None\n",
    "import random\n",
    "import math\n",
    "lr = LogisticRegression(class_weight={0: 1, 1: math.log(random.randint(20, 80))}, n_jobs=-1, random_state=42)\n",
    "lr.fit(x_train, y_train)\n",
    "pred = lr.predict(x_test)\n",
    "print(len([i for i in pred if i > 0.5])/len(pred))\n",
    "# from sklearn.metrics import log_loss\n",
    "\n",
    "print('log loss:', log_loss(y_test.astype(int), pred.astype(int)))"
   ]
  },
  {
   "cell_type": "code",
   "execution_count": 41,
   "metadata": {},
   "outputs": [
    {
     "name": "stdout",
     "output_type": "stream",
     "text": [
      "0.02916155031513786\n"
     ]
    }
   ],
   "source": [
    "print(len([i for i in y_train if i == 1])/len(y_train))"
   ]
  },
  {
   "cell_type": "code",
   "execution_count": 42,
   "metadata": {},
   "outputs": [
    {
     "name": "stdout",
     "output_type": "stream",
     "text": [
      "0.029831662301702776\n"
     ]
    }
   ],
   "source": [
    "print(len([i for i in y_test if i == 1])/len(y_test))"
   ]
  },
  {
   "cell_type": "code",
   "execution_count": null,
   "metadata": {},
   "outputs": [],
   "source": [
    "class_weight={0: 1, 1: lr_class_weight}"
   ]
  }
 ],
 "metadata": {
  "kernelspec": {
   "display_name": "Python 3",
   "language": "python",
   "name": "python3"
  },
  "language_info": {
   "codemirror_mode": {
    "name": "ipython",
    "version": 3
   },
   "file_extension": ".py",
   "mimetype": "text/x-python",
   "name": "python",
   "nbconvert_exporter": "python",
   "pygments_lexer": "ipython3",
   "version": "3.7.5"
  }
 },
 "nbformat": 4,
 "nbformat_minor": 4
}